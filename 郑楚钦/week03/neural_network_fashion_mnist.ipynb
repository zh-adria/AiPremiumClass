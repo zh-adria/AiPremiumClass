{
 "cells": [
  {
   "cell_type": "code",
   "execution_count": 1,
   "metadata": {},
   "outputs": [],
   "source": [
    "import torch\n",
    "from torch import nn\n",
    "from torch.utils.data import DataLoader\n",
    "from torchvision import datasets\n",
    "from torchvision.transforms import ToTensor, Lambda, Compose\n",
    "import matplotlib.pyplot as plt\n"
   ]
  },
  {
   "cell_type": "code",
   "execution_count": 42,
   "metadata": {},
   "outputs": [
    {
     "name": "stdout",
     "output_type": "stream",
     "text": [
      "Shape of X  torch.Size([64, 1, 28, 28])\n",
      "Shape of y  torch.Size([64]) torch.int64\n"
     ]
    },
    {
     "data": {
      "image/png": "[encoded data removed]",
      "text/plain": [
       "<Figure size 640x480 with 1 Axes>"
      ]
     },
     "metadata": {},
     "output_type": "display_data"
    },
    {
     "data": {
      "text/plain": [
       "{0, 1, 2, 3, 4, 5, 6, 7, 8, 9}"
      ]
     },
     "execution_count": 42,
     "metadata": {},
     "output_type": "execute_result"
    }
   ],
   "source": [
    "# 加载数据，输入特征：28*28像素的图像，输出标签：衣物类型\n",
    "train_data = datasets.FashionMNIST('data', True, ToTensor(), download=True)\n",
    "test_data = datasets.FashionMNIST('data', False, ToTensor(),  download=True)\n",
    "batch_size = 64\n",
    "train_dataloader = DataLoader(train_data, batch_size, True)\n",
    "test_dataloader = DataLoader(test_data, batch_size)\n",
    "for X, y in train_dataloader:\n",
    "    print('Shape of X ', X.shape)\n",
    "    print('Shape of y ', y.shape, y.dtype)\n",
    "    plt.imshow(X[0][0])\n",
    "    plt.title(y[0].item())\n",
    "    plt.show()\n",
    "    break\n",
    "set([clz for img, clz in test_data])\n"
   ]
  },
  {
   "cell_type": "code",
   "execution_count": 51,
   "metadata": {},
   "outputs": [
    {
     "name": "stdout",
     "output_type": "stream",
     "text": [
      "torch.Size([10, 128])\n",
      "torch.Size([10, 128])\n",
      "torch.Size([10, 10])\n",
      "torch.Size([10, 10])\n"
     ]
    },
    {
     "data": {
      "text/plain": [
       "Sequential(\n",
       "  (0): Linear(in_features=784, out_features=128, bias=True)\n",
       "  (1): Sigmoid()\n",
       "  (2): Linear(in_features=128, out_features=10, bias=True)\n",
       ")"
      ]
     },
     "execution_count": 51,
     "metadata": {},
     "output_type": "execute_result"
    }
   ],
   "source": [
    "# 搭建模型\n",
    "inputLayer = nn.Linear(28*28, 128, bias=True)\n",
    "activateFunction = nn.Sigmoid()\n",
    "outputLayer = nn.Linear(128, 10, bias=True)\n",
    "softmax = nn.Softmax(1)\n",
    "\n",
    "x = torch.randn(10, 28*28)\n",
    "out = inputLayer(x)\n",
    "print(out.shape)\n",
    "out = activateFunction(out)\n",
    "print(out.shape)\n",
    "out = outputLayer(out)\n",
    "print(out.shape)\n",
    "out = softmax(out)\n",
    "print(out.shape)\n",
    "\n",
    "model = nn.Sequential(\n",
    "    inputLayer,\n",
    "    activateFunction,\n",
    "    outputLayer\n",
    ")\n",
    "model"
   ]
  },
  {
   "cell_type": "code",
   "execution_count": 53,
   "metadata": {},
   "outputs": [],
   "source": [
    "# 损失函数\n",
    "loss_fn = nn.CrossEntropyLoss()\n",
    "# 优化器\n",
    "optimizer = torch.optim.SGD(model.parameters(), lr=1e-2)\n"
   ]
  },
  {
   "cell_type": "code",
   "execution_count": 58,
   "metadata": {},
   "outputs": [
    {
     "name": "stdout",
     "output_type": "stream",
     "text": [
      "epoch: 0 loss: 0.3486686944961548  \n",
      "epoch: 1 loss: 0.42623475193977356 \n",
      "epoch: 2 loss: 0.537195086479187   \n",
      "epoch: 3 loss: 0.47252678871154785 \n",
      "epoch: 4 loss: 0.379627525806427   \n",
      "epoch: 5 loss: 0.3546232581138611  \n",
      "epoch: 6 loss: 0.4045182764530182  \n",
      "epoch: 7 loss: 0.6021144986152649  \n",
      "epoch: 8 loss: 0.2538944482803345  \n",
      "epoch: 9 loss: 0.8525348901748657  \n"
     ]
    }
   ],
   "source": [
    "# 训练\n",
    "epoches = 10\n",
    "for epoch in range(epoches):\n",
    "    for X, y in train_dataloader:\n",
    "        output = model(X.reshape(-1, 28*28))\n",
    "        loss = loss_fn(output, y)\n",
    "        optimizer.zero_grad()\n",
    "        loss.backward()\n",
    "        optimizer.step()\n",
    "        print(f'\\repoch: {epoch} loss: {loss.item()} ', end='')\n",
    "    print()\n"
   ]
  },
  {
   "cell_type": "code",
   "execution_count": 73,
   "metadata": {},
   "outputs": [
    {
     "name": "stdout",
     "output_type": "stream",
     "text": [
      "正确率 8184 / 10000\n"
     ]
    }
   ],
   "source": [
    "# 测试\n",
    "correct = 0\n",
    "total = 0\n",
    "with torch.no_grad():\n",
    "    for X,y in test_dataloader:\n",
    "        output = model(X.reshape(-1,28*28))\n",
    "        _,predicted = torch.max(output, 1)\n",
    "        total += y.size(0)\n",
    "        correct += (predicted == y).sum().item()\n",
    "\n",
    "print(f'正确率 {correct} / {total}')"
   ]
  }
 ],
 "metadata": {
  "kernelspec": {
   "display_name": "312",
   "language": "python",
   "name": "python3"
  },
  "language_info": {
   "codemirror_mode": {
    "name": "ipython",
    "version": 3
   },
   "file_extension": ".py",
   "mimetype": "text/x-python",
   "name": "python",
   "nbconvert_exporter": "python",
   "pygments_lexer": "ipython3",
   "version": "3.12.8"
  },
  "orig_nbformat": 4
 },
 "nbformat": 4,
 "nbformat_minor": 2
}
