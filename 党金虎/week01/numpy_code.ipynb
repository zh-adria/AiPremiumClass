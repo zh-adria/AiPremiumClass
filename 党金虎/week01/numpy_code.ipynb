{
 "cells": [
  {
   "cell_type": "code",
   "execution_count": 2,
   "metadata": {},
   "outputs": [
    {
     "name": "stdout",
     "output_type": "stream",
     "text": [
      "[1 2 3 4 5]\n",
      "[ 6  7  8  9 10]\n"
     ]
    }
   ],
   "source": [
    "import numpy as np\n",
    "\n",
    "# array of integers\n",
    "arr1 = np.array([1, 2, 3, 4, 5])\n",
    "print(arr1)\n",
    "\n",
    "# array of integers\n",
    "arr2 = np.array([6, 7, 8, 9, 10], int)\n",
    "print(arr2)"
   ]
  },
  {
   "cell_type": "code",
   "execution_count": 3,
   "metadata": {},
   "outputs": [
    {
     "name": "stdout",
     "output_type": "stream",
     "text": [
      "[[ 1  2  3]\n",
      " [ 4  5  6]\n",
      " [ 7  8  9]\n",
      " [10 11 12]]\n"
     ]
    }
   ],
   "source": [
    "# 2D array\n",
    "arr3 = np.array([(1, 2, 3), (4, 5, 6), (7, 8, 9), (10, 11, 12)])\n",
    "print(arr3)"
   ]
  },
  {
   "cell_type": "code",
   "execution_count": 4,
   "metadata": {},
   "outputs": [
    {
     "name": "stdout",
     "output_type": "stream",
     "text": [
      "[[0. 0. 0. 0.]\n",
      " [0. 0. 0. 0.]\n",
      " [0. 0. 0. 0.]]\n"
     ]
    }
   ],
   "source": [
    "# 使用 zeros 方法创建一个 3x4 的二维数组\n",
    "arr4 = np.zeros((3, 4))\n",
    "print(arr4)"
   ]
  },
  {
   "cell_type": "code",
   "execution_count": 5,
   "metadata": {},
   "outputs": [
    {
     "name": "stdout",
     "output_type": "stream",
     "text": [
      "[[1. 0. 0.]\n",
      " [0. 1. 0.]\n",
      " [0. 0. 1.]]\n"
     ]
    }
   ],
   "source": [
    "# eye 方法创建一个对角线元素为 1，其余元素为 0 的二维数组\n",
    "arr_eye = np.eye(3)\n",
    "print(arr_eye)\n"
   ]
  },
  {
   "cell_type": "code",
   "execution_count": 6,
   "metadata": {},
   "outputs": [
    {
     "data": {
      "text/plain": [
       "array([ 0,  5, 10, 15, 20, 25])"
      ]
     },
     "execution_count": 6,
     "metadata": {},
     "output_type": "execute_result"
    }
   ],
   "source": [
    "#arrange 方法创建一个从 0 开始到 30 结束，步长为 5 的数组\n",
    "arr_arange = np.arange(0, 30, 5)\n",
    "arr_arange"
   ]
  },
  {
   "cell_type": "code",
   "execution_count": 7,
   "metadata": {},
   "outputs": [
    {
     "name": "stdout",
     "output_type": "stream",
     "text": [
      "[[0.16792683 0.43216201 0.20742256 0.55335373]\n",
      " [0.90407397 0.80356903 0.3407342  0.57355739]\n",
      " [0.79418585 0.33359706 0.13219237 0.52988308]]\n"
     ]
    }
   ],
   "source": [
    "# random 方法创建一个 3x4 的二维数组，元素值为 0 到 1 之间的随机数\n",
    "arr_random = np.random.random((3, 4))\n",
    "print(arr_random)\n"
   ]
  },
  {
   "cell_type": "code",
   "execution_count": 8,
   "metadata": {},
   "outputs": [
    {
     "name": "stdout",
     "output_type": "stream",
     "text": [
      "[-0.04715554 -0.00043816  0.06067836  0.00110546 -0.09150401]\n",
      "[1 3 5]\n",
      "[1 2]\n",
      "1\n"
     ]
    }
   ],
   "source": [
    "a5 = np.random.normal(0, 0.1, 5)  # 模型运算参数初始值\n",
    "print(a5)\n",
    "\n",
    "a6 = np.array([(1,2), (3,4), (5,6)])\n",
    "print(a6[:,0])  # 输出第一列\n",
    "print(a6[0,:])  # 输出第一行\n",
    "print(a6[0,0])  # 输出第一行第一个元素"
   ]
  },
  {
   "cell_type": "code",
   "execution_count": 9,
   "metadata": {},
   "outputs": [
    {
     "name": "stdout",
     "output_type": "stream",
     "text": [
      "1 2 3\n",
      "4 5 6\n",
      "7 8 9\n",
      "10 11 12\n"
     ]
    }
   ],
   "source": [
    "# 2D array\n",
    "arr7 = np.array([(1, 2, 3), (4, 5, 6), (7, 8, 9), (10, 11, 12)])\n",
    "for i,j,m in arr7:\n",
    "    print(i,j,m)"
   ]
  },
  {
   "cell_type": "code",
   "execution_count": 10,
   "metadata": {},
   "outputs": [
    {
     "name": "stdout",
     "output_type": "stream",
     "text": [
      "数组维度 2\n",
      "数组的形状 (3, 4)\n",
      "数组的元素数量 12\n",
      "数组的数据类型 int64\n",
      "数组的每个元素大小 8\n",
      "数组的数据 <memory at 0x00000207B938CBA0>\n",
      "数组的类型 <class 'numpy.ndarray'>\n",
      "数组的元素类型 int64\n",
      "True\n",
      "False\n",
      "[1 2 3 4]\n",
      "1\n"
     ]
    }
   ],
   "source": [
    "# array 方法创建一个 3x4 的二维数组，元素值为 0 到 11\n",
    "arr8 = np.array([[1, 2, 3, 4], [5, 6, 7, 8], [9, 10, 11, 12]])\n",
    "print(\"数组维度\",arr8.ndim)  # 数组的维度\n",
    "print(\"数组的形状\",arr8.shape)  # 数组的形状\n",
    "print(\"数组的元素数量\",arr8.size)  # 数组的元素数量\n",
    "print(\"数组的数据类型\",arr8.dtype)  # 数组的数据类型\n",
    "print(\"数组的每个元素大小\",arr8.itemsize)  # 数组的每个元素大小\n",
    "print(\"数组的数据\",arr8.data)  # 数组的数据\n",
    "print(\"数组的类型\",type(arr8))  # 数组的类型\n",
    "print(\"数组的元素类型\",arr8.dtype.name)  # 数组的元素类型\n",
    "\n",
    "print(12 in arr8)  # 判断元素是否在数组中\n",
    "print(13 in arr8)  # 判断元素是否在数组中\n",
    "print(arr8[0])  # 输出第一行\n",
    "print(arr8[0,0])  # 输出第一行第一个元素\n",
    "\n"
   ]
  },
  {
   "cell_type": "code",
   "execution_count": 11,
   "metadata": {},
   "outputs": [
    {
     "name": "stdout",
     "output_type": "stream",
     "text": [
      "[2 3 4 5 6 7 8 9]\n",
      "(8,)\n",
      "[[2 3 4 5]\n",
      " [6 7 8 9]]\n",
      "(2, 4)\n"
     ]
    }
   ],
   "source": [
    "arr9 = np.arange(2, 10) # 生成一个从2到9的数组\n",
    "print(arr9)\n",
    "print(arr9.shape) # 输出数组的形状\n",
    "\n",
    "arr9 = arr9.reshape(2, 4) # 将数组形状改为2x4\n",
    "print(arr9)\n",
    "print(arr9.shape) # 输出数组的形状"
   ]
  },
  {
   "cell_type": "code",
   "execution_count": 12,
   "metadata": {},
   "outputs": [
    {
     "name": "stdout",
     "output_type": "stream",
     "text": [
      "[[[[0.68492137 0.70946227 0.65578942 ... 0.58021628 0.56592703\n",
      "    0.28496079]\n",
      "   [0.30957752 0.13872402 0.407694   ... 0.24691181 0.04925313\n",
      "    0.26656396]\n",
      "   [0.55792127 0.67118744 0.0621865  ... 0.89515058 0.95490359\n",
      "    0.36365327]\n",
      "   ...\n",
      "   [0.066664   0.62434529 0.06846591 ... 0.18554577 0.78614634\n",
      "    0.4127898 ]\n",
      "   [0.07839934 0.85339491 0.54660549 ... 0.38504626 0.68745356\n",
      "    0.18071177]\n",
      "   [0.55966772 0.69539295 0.65340657 ... 0.03370057 0.03955178\n",
      "    0.51253172]]\n",
      "\n",
      "  [[0.21997234 0.63974486 0.82803581 ... 0.67035866 0.76409604\n",
      "    0.98706269]\n",
      "   [0.73234154 0.94277386 0.07693326 ... 0.17426429 0.03923788\n",
      "    0.58658913]\n",
      "   [0.74083368 0.57801675 0.80755597 ... 0.39332962 0.46532767\n",
      "    0.56593365]\n",
      "   ...\n",
      "   [0.48441627 0.0793788  0.56110691 ... 0.33468828 0.57233217\n",
      "    0.46504598]\n",
      "   [0.48941268 0.57045552 0.59003353 ... 0.10091368 0.75262182\n",
      "    0.68652112]\n",
      "   [0.07598954 0.29985353 0.22693746 ... 0.07480379 0.04153254\n",
      "    0.98454926]]\n",
      "\n",
      "  [[0.44159553 0.73969661 0.80668785 ... 0.31029998 0.52729188\n",
      "    0.93301189]\n",
      "   [0.85673046 0.80331903 0.51512262 ... 0.68463216 0.35620683\n",
      "    0.66241015]\n",
      "   [0.39164881 0.18941078 0.83604937 ... 0.81857865 0.9715763\n",
      "    0.47453181]\n",
      "   ...\n",
      "   [0.68605802 0.2100924  0.89507629 ... 0.14674278 0.76775319\n",
      "    0.24616303]\n",
      "   [0.95667684 0.55924914 0.57545039 ... 0.35883233 0.69150126\n",
      "    0.92004161]\n",
      "   [0.77884035 0.00521018 0.50944503 ... 0.89990214 0.57126331\n",
      "    0.44740264]]]]\n"
     ]
    },
    {
     "data": {
      "image/png": "[encoded data removed]",
      "text/plain": [
       "<Figure size 640x480 with 1 Axes>"
      ]
     },
     "metadata": {},
     "output_type": "display_data"
    }
   ],
   "source": [
    "# 加载图像数据\n",
    "# img.shape [1,3,120,120] 1个样本，3颜色特征通道，120高，120宽\n",
    "img = np.random.random((1, 3, 120, 120))\n",
    "print(img)\n",
    "# 输出图片到当前目录\n",
    "import matplotlib.pyplot as plt\n",
    "plt.imshow(img[0,0,:,:])\n",
    "plt.show()"
   ]
  },
  {
   "cell_type": "code",
   "execution_count": 13,
   "metadata": {},
   "outputs": [
    {
     "name": "stdout",
     "output_type": "stream",
     "text": [
      "[ 1  2  3  4  5  6  7  8  9 10 11 12]\n"
     ]
    }
   ],
   "source": [
    "arr8 = np.array([[1, 2, 3, 4], [5, 6, 7, 8], [9, 10, 11, 12]])\n",
    "arr8 = arr8.flatten()  # 将数组展平为一维数组\n",
    "print(arr8)\n",
    "\n"
   ]
  },
  {
   "cell_type": "code",
   "execution_count": 14,
   "metadata": {},
   "outputs": [
    {
     "name": "stdout",
     "output_type": "stream",
     "text": [
      "(3, 4)\n",
      "(3, 4, 1)\n",
      "[[[ 1]\n",
      "  [ 2]\n",
      "  [ 3]\n",
      "  [ 4]]\n",
      "\n",
      " [[ 5]\n",
      "  [ 6]\n",
      "  [ 7]\n",
      "  [ 8]]\n",
      "\n",
      " [[ 9]\n",
      "  [10]\n",
      "  [11]\n",
      "  [12]]]\n"
     ]
    }
   ],
   "source": [
    "arr8 = np.array([[1, 2, 3, 4], [5, 6, 7, 8], [9, 10, 11, 12]])\n",
    "print(arr8.shape)\n",
    "arr8 = arr8[:,:,np.newaxis]  # 在第三维度增加一个维度\n",
    "print(arr8.shape)\n",
    "print(arr8)\n"
   ]
  },
  {
   "cell_type": "code",
   "execution_count": 15,
   "metadata": {},
   "outputs": [
    {
     "name": "stdout",
     "output_type": "stream",
     "text": [
      "[[1. 1. 1.]\n",
      " [1. 1. 1.]\n",
      " [1. 1. 1.]]\n",
      "[[1 2 3]\n",
      " [4 5 6]\n",
      " [7 8 9]]\n",
      "[[ 2.  3.  4.]\n",
      " [ 5.  6.  7.]\n",
      " [ 8.  9. 10.]]\n",
      "[[ 0. -1. -2.]\n",
      " [-3. -4. -5.]\n",
      " [-6. -7. -8.]]\n"
     ]
    }
   ],
   "source": [
    "a = np.ones((3, 3)) # 创建一个3x3的数组，元素值为1\n",
    "# 创建一个3x3的数组，元素值为1到9\n",
    "b=np.array([[1,2,3],[4,5,6],[7,8,9]])\n",
    "print(a)\n",
    "print(b)\n",
    "\n",
    "print\n",
    "# 数组相加\n",
    "print(a+b)\n",
    "\n",
    "# 数组相减\n",
    "print(a-b)\n",
    "\n"
   ]
  },
  {
   "cell_type": "code",
   "execution_count": 16,
   "metadata": {},
   "outputs": [
    {
     "name": "stdout",
     "output_type": "stream",
     "text": [
      "mean 3.0\n",
      "sum 15\n",
      "max 5\n",
      "min 1\n",
      "std 1.4142135623730951\n",
      "var 2.0\n",
      "cumsum [ 1  3  6 10 15]\n",
      "cumprod [  1   2   6  24 120]\n",
      "最大值索引 4\n",
      "最小值索引 0\n",
      "排序 None\n",
      "向上取整 [1 2 3 4 5]\n",
      "向下取整 [1 2 3 4 5]\n",
      "取整 [1 2 3 4 5]\n"
     ]
    }
   ],
   "source": [
    "# 数组，矩阵、维度\n",
    "arr = np.array([1, 2, 3, 4, 5])\n",
    "print(\"mean\",arr.mean())  # 数组的平均值\n",
    "print(\"sum\",arr.sum())  # 数组的和\n",
    "print(\"max\",arr.max())  # 数组的最大值\n",
    "print(\"min\",arr.min())  # 数组的最小值\n",
    "print(\"std\",arr.std())  # 数组的标准差\n",
    "print(\"var\",arr.var())  # 数组的方差\n",
    "print(\"cumsum\",arr.cumsum())  # 数组的累加和\n",
    "print(\"cumprod\",arr.cumprod())  # 数组的累乘积\n",
    "\n",
    "# 数组、矩阵  ： 数据组织结构形式\n",
    "print(\"最大值索引\",arr.argmax())  # 数组的索引\n",
    "print(\"最小值索引\",arr.argmin())  # 数组的索引\n",
    "print(\"排序\",arr.sort())  # 数组的排序\n",
    "# 取整,向上向下\n",
    "print(\"向上取整\",np.ceil(arr))\n",
    "print(\"向下取整\",np.floor(arr))\n",
    "print(\"取整\",np.round(arr))\n",
    "\n",
    "\n",
    "# 维度： 通讯地址"
   ]
  },
  {
   "cell_type": "code",
   "execution_count": 17,
   "metadata": {},
   "outputs": [
    {
     "name": "stdout",
     "output_type": "stream",
     "text": [
      "Element-wise multiplication: [ 4 10 18]\n",
      "Dot product: 32\n",
      "2D Element-wise multiplication:\n",
      " [[ 5 12]\n",
      " [21 32]]\n",
      "2D Dot product:\n",
      " [[19 22]\n",
      " [43 50]]\n"
     ]
    }
   ],
   "source": [
    "import numpy as np\n",
    "\n",
    "# 定义两个一维数组\n",
    "arr1 = np.array([1, 2, 3])\n",
    "arr2 = np.array([4, 5, 6])\n",
    "\n",
    "# 星乘（element-wise multiplication）\n",
    "element_wise_product = arr1 * arr2\n",
    "print(\"Element-wise multiplication:\", element_wise_product)\n",
    "\n",
    "# 点乘（dot product）\n",
    "dot_product = np.dot(arr1, arr2)\n",
    "print(\"Dot product:\", dot_product)\n",
    "\n",
    "# 定义两个二维数组\n",
    "arr2d_1 = np.array([[1, 2], [3, 4]])\n",
    "arr2d_2 = np.array([[5, 6], [7, 8]])\n",
    "\n",
    "# 二维数组的星乘（element-wise multiplication）\n",
    "element_wise_product_2d = arr2d_1 * arr2d_2\n",
    "print(\"2D Element-wise multiplication:\\n\", element_wise_product_2d)\n",
    "\n",
    "# 二维数组的点乘（dot product）\n",
    "dot_product_2d = np.dot(arr2d_1, arr2d_2)\n",
    "print(\"2D Dot product:\\n\", dot_product_2d)"
   ]
  },
  {
   "cell_type": "code",
   "execution_count": 18,
   "metadata": {},
   "outputs": [
    {
     "name": "stdout",
     "output_type": "stream",
     "text": [
      "1D array of zeros with shape of arr1: [0. 0. 0.]\n",
      "2D array of zeros with shape of arr2d_1:\n",
      " [[0. 0.]\n",
      " [0. 0.]]\n",
      "1D array using arange with length of arr1: [0 1 2]\n",
      "2D array using arange with shape of arr2d_1:\n",
      " [[0 1]\n",
      " [2 3]]\n"
     ]
    }
   ],
   "source": [
    "# 使用 zeros 方法创建一个与 arr1 相同形状的一维数组\n",
    "zeros_like_arr1 = np.zeros(arr1.shape)\n",
    "print(\"1D array of zeros with shape of arr1:\", zeros_like_arr1)\n",
    "\n",
    "# 使用 zeros 方法创建一个与 arr2d_1 相同形状的二维数组\n",
    "zeros_like_arr2d_1 = np.zeros(arr2d_1.shape)\n",
    "print(\"2D array of zeros with shape of arr2d_1:\\n\", zeros_like_arr2d_1)\n",
    "\n",
    "# 使用 arange 方法创建一个与 arr1 相同长度的一维数组\n",
    "arange_like_arr1 = np.arange(arr1.size)\n",
    "print(\"1D array using arange with length of arr1:\", arange_like_arr1)\n",
    "\n",
    "# 使用 arange 方法创建一个与 arr2d_1 相同元素数量的二维数组\n",
    "arange_like_arr2d_1 = np.arange(arr2d_1.size).reshape(arr2d_1.shape)\n",
    "print(\"2D array using arange with shape of arr2d_1:\\n\", arange_like_arr2d_1)"
   ]
  }
 ],
 "metadata": {
  "kernelspec": {
   "display_name": "py312",
   "language": "python",
   "name": "python3"
  },
  "language_info": {
   "codemirror_mode": {
    "name": "ipython",
    "version": 3
   },
   "file_extension": ".py",
   "mimetype": "text/x-python",
   "name": "python",
   "nbconvert_exporter": "python",
   "pygments_lexer": "ipython3",
   "version": "3.12.9"
  }
 },
 "nbformat": 4,
 "nbformat_minor": 2
}
