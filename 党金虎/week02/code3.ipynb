{
 "cells": [
  {
   "cell_type": "code",
   "execution_count": 1,
   "metadata": {},
   "outputs": [
    {
     "name": "stdout",
     "output_type": "stream",
     "text": [
      "h:\\GitHub_Stu_Py\\nlp_study\\党金虎\\week02\n",
      "[0 1 1 1 0 0 0 1 0 0 0 1 1 1 0 0 1 0 1 0]\n"
     ]
    }
   ],
   "source": [
    "# 使用本地数据训练模型\n",
    "import pandas as pd\n",
    "from sklearn.linear_model import LogisticRegression\n",
    "from sklearn.model_selection import train_test_split\n",
    "from sklearn.preprocessing import StandardScaler\n",
    "import joblib\n",
    "\n",
    "import os\n",
    "print(os.getcwd())\n",
    "\n",
    "# 1. 加载本地数据\n",
    "data = pd.read_csv(\"breast_cancer_sample_data_chinese.csv\")\n",
    "X = data.drop(\"诊断结果\", axis=1) \n",
    "y = data[\"诊断结果\"]\n",
    "# 2. 数据预处理\n",
    "scaler = StandardScaler()\n",
    "X_scaled = scaler.fit_transform(X)\n",
    "X_train, X_test, y_train, y_test = train_test_split(\n",
    "    X_scaled, y, test_size=0.2, random_state=42\n",
    ")\n",
    "\n",
    "# 3. 模型训练\n",
    "model = LogisticRegression(max_iter=10000)\n",
    "model.fit(X_train, y_train)\n",
    "\n",
    "# 4. 模型保存\n",
    "joblib.dump(model,\"simple_breast_cancer_model.joblib\")\n",
    "\n",
    "# 5. 模型加载和预测（可选）\n",
    "loaded_model = joblib.load(\"simple_breast_cancer_model.joblib\")\n",
    "y_pred = loaded_model.predict(X_test)\n",
    "print(y_pred)\n",
    "\n",
    "# 可以添加模型评估代码\n",
    "# 例如：\n",
    "# from sklearn.metrics import accuracy_score\n",
    "# accuracy = accuracy_score(y_test, y_pred)\n",
    "# print(\"准确率：\", accuracy)"
   ]
  }
 ],
 "metadata": {
  "kernelspec": {
   "display_name": "py312",
   "language": "python",
   "name": "python3"
  },
  "language_info": {
   "codemirror_mode": {
    "name": "ipython",
    "version": 3
   },
   "file_extension": ".py",
   "mimetype": "text/x-python",
   "name": "python",
   "nbconvert_exporter": "python",
   "pygments_lexer": "ipython3",
   "version": "3.12.9"
  }
 },
 "nbformat": 4,
 "nbformat_minor": 2
}
