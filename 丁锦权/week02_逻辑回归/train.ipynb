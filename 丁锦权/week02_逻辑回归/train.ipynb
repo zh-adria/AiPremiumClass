{
 "cells": [
  {
   "cell_type": "code",
   "execution_count": 24,
   "metadata": {},
   "outputs": [],
   "source": [
    "from sklearn.datasets import load_iris\n",
    "from sklearn.model_selection import train_test_split\n",
    "import numpy as np\n"
   ]
  },
  {
   "cell_type": "code",
   "execution_count": 25,
   "metadata": {},
   "outputs": [
    {
     "name": "stdout",
     "output_type": "stream",
     "text": [
      "(120, 4)\n"
     ]
    }
   ],
   "source": [
    "# 鸢尾花数据准备\n",
    "X,y=load_iris(return_X_y=True)\n",
    "# 将数据集分为训练集和测试集\n",
    "X_train, X_test, y_train, y_test = train_test_split(X,y,test_size=0.2)\n",
    "print(X_train.shape) # 4个属性"
   ]
  },
  {
   "cell_type": "code",
   "execution_count": 26,
   "metadata": {},
   "outputs": [],
   "source": [
    "theta = np.random.randn(1,4)\n",
    "bias=0\n",
    "lr=0.1\n",
    "epochs = 3000 # 训练次数"
   ]
  },
  {
   "cell_type": "code",
   "execution_count": 28,
   "metadata": {},
   "outputs": [],
   "source": [
    "def forward(x,theta,bias):\n",
    "    z=np.dot(theta,x.T)+bias\n",
    "    # sigmoid\n",
    "    y_hat=1/(1+np.exp(-z))\n",
    "    return y_hat\n",
    "# 损失函数\n",
    "def loss_function(y,y_hat):\n",
    "    e=1e-8\n",
    "    return -y*np.log(y_hat+e)-(1-y)*np.log(1-y_hat+e)\n",
    "# 梯度计算\n",
    "def calc_gradient(x,y,y_hat):\n",
    "    m=x.shape[-1]\n",
    "    delta_w=np.dot(y_hat-y,x)/m\n",
    "    delta_bias=np.mean(y_hat-y);\n",
    "    return delta_w,delta_bias\n",
    "# 模型训练\n",
    "for i in range(epochs):\n",
    "    y_hat = forward(X_train, theta, bias)\n",
    "    loss_val = loss_function(y_train,y_hat)\n",
    "    delta_theta,delta_bias = calc_gradient(X_train,y_train,y_hat);\n",
    "    # 更新参数\n",
    "    theta = theta-lr*delta_theta\n",
    "    bias = bias-lr*delta_bias\n",
    "np.savez('trainData',theta=theta,bias=bias)"
   ]
  },
  {
   "cell_type": "code",
   "execution_count": null,
   "metadata": {},
   "outputs": [],
   "source": []
  }
 ],
 "metadata": {
  "kernelspec": {
   "display_name": "py312",
   "language": "python",
   "name": "python3"
  },
  "language_info": {
   "codemirror_mode": {
    "name": "ipython",
    "version": 3
   },
   "file_extension": ".py",
   "mimetype": "text/x-python",
   "name": "python",
   "nbconvert_exporter": "python",
   "pygments_lexer": "ipython3",
   "version": "3.12.9"
  }
 },
 "nbformat": 4,
 "nbformat_minor": 2
}
