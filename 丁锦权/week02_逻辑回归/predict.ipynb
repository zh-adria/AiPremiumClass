{
 "cells": [
  {
   "cell_type": "code",
   "execution_count": 29,
   "metadata": {},
   "outputs": [],
   "source": [
    "from sklearn.datasets import load_iris\n",
    "import numpy as np"
   ]
  },
  {
   "cell_type": "code",
   "execution_count": 30,
   "metadata": {},
   "outputs": [
    {
     "name": "stdout",
     "output_type": "stream",
     "text": [
      "[[ 6929.08786689 -4118.12614957 22643.43700402 10458.60149609]]\n",
      "-14.920239767679606\n",
      "1\n",
      "()\n"
     ]
    }
   ],
   "source": [
    "# 数据准备\n",
    "X,y=load_iris(return_X_y=True)\n",
    "x_test=X[:100];\n",
    "y_test=y[:100];\n",
    "trainData=np.load('trainData.npz')\n",
    "theta=trainData['theta']\n",
    "bias=trainData['bias']\n",
    "print(theta)\n",
    "print(bias)\n",
    "print(theta.shape[0])\n",
    "print(bias.shape)"
   ]
  },
  {
   "cell_type": "code",
   "execution_count": 31,
   "metadata": {},
   "outputs": [],
   "source": [
    "def forward(x,theta,bias):\n",
    "    z=np.dot(theta,x.T)+bias\n",
    "    # sigmoid\n",
    "    y_hat=1/(1+np.exp(-z))\n",
    "    return y_hat"
   ]
  },
  {
   "cell_type": "code",
   "execution_count": 32,
   "metadata": {},
   "outputs": [
    {
     "name": "stdout",
     "output_type": "stream",
     "text": [
      "y=:0,predict:[1.]\n",
      "y=:0,predict:[1.]\n",
      "y=:0,predict:[1.]\n",
      "y=:0,predict:[1.]\n",
      "y=:0,predict:[1.]\n",
      "y=:0,predict:[1.]\n",
      "y=:0,predict:[1.]\n",
      "y=:0,predict:[1.]\n",
      "y=:0,predict:[1.]\n",
      "y=:0,predict:[1.]\n",
      "y=:0,predict:[1.]\n",
      "y=:0,predict:[1.]\n",
      "y=:0,predict:[1.]\n",
      "y=:0,predict:[1.]\n",
      "y=:0,predict:[1.]\n",
      "y=:0,predict:[1.]\n",
      "y=:0,predict:[1.]\n",
      "y=:0,predict:[1.]\n",
      "y=:0,predict:[1.]\n",
      "y=:0,predict:[1.]\n",
      "y=:0,predict:[1.]\n",
      "y=:0,predict:[1.]\n",
      "y=:0,predict:[1.]\n",
      "y=:0,predict:[1.]\n",
      "y=:0,predict:[1.]\n",
      "y=:0,predict:[1.]\n",
      "y=:0,predict:[1.]\n",
      "y=:0,predict:[1.]\n",
      "y=:0,predict:[1.]\n",
      "y=:0,predict:[1.]\n",
      "y=:0,predict:[1.]\n",
      "y=:0,predict:[1.]\n",
      "y=:0,predict:[1.]\n",
      "y=:0,predict:[1.]\n",
      "y=:0,predict:[1.]\n",
      "y=:0,predict:[1.]\n",
      "y=:0,predict:[1.]\n",
      "y=:0,predict:[1.]\n",
      "y=:0,predict:[1.]\n",
      "y=:0,predict:[1.]\n",
      "y=:0,predict:[1.]\n",
      "y=:0,predict:[1.]\n",
      "y=:0,predict:[1.]\n",
      "y=:0,predict:[1.]\n",
      "y=:0,predict:[1.]\n",
      "y=:0,predict:[1.]\n",
      "y=:0,predict:[1.]\n",
      "y=:0,predict:[1.]\n",
      "y=:0,predict:[1.]\n",
      "y=:0,predict:[1.]\n",
      "y=:1,predict:[1.]\n",
      "y=:1,predict:[1.]\n",
      "y=:1,predict:[1.]\n",
      "y=:1,predict:[1.]\n",
      "y=:1,predict:[1.]\n",
      "y=:1,predict:[1.]\n",
      "y=:1,predict:[1.]\n",
      "y=:1,predict:[1.]\n",
      "y=:1,predict:[1.]\n",
      "y=:1,predict:[1.]\n",
      "y=:1,predict:[1.]\n",
      "y=:1,predict:[1.]\n",
      "y=:1,predict:[1.]\n",
      "y=:1,predict:[1.]\n",
      "y=:1,predict:[1.]\n",
      "y=:1,predict:[1.]\n",
      "y=:1,predict:[1.]\n",
      "y=:1,predict:[1.]\n",
      "y=:1,predict:[1.]\n",
      "y=:1,predict:[1.]\n",
      "y=:1,predict:[1.]\n",
      "y=:1,predict:[1.]\n",
      "y=:1,predict:[1.]\n",
      "y=:1,predict:[1.]\n",
      "y=:1,predict:[1.]\n",
      "y=:1,predict:[1.]\n",
      "y=:1,predict:[1.]\n",
      "y=:1,predict:[1.]\n",
      "y=:1,predict:[1.]\n",
      "y=:1,predict:[1.]\n",
      "y=:1,predict:[1.]\n",
      "y=:1,predict:[1.]\n",
      "y=:1,predict:[1.]\n",
      "y=:1,predict:[1.]\n",
      "y=:1,predict:[1.]\n",
      "y=:1,predict:[1.]\n",
      "y=:1,predict:[1.]\n",
      "y=:1,predict:[1.]\n",
      "y=:1,predict:[1.]\n",
      "y=:1,predict:[1.]\n",
      "y=:1,predict:[1.]\n",
      "y=:1,predict:[1.]\n",
      "y=:1,predict:[1.]\n",
      "y=:1,predict:[1.]\n",
      "y=:1,predict:[1.]\n",
      "y=:1,predict:[1.]\n",
      "y=:1,predict:[1.]\n",
      "y=:1,predict:[1.]\n",
      "y=:1,predict:[1.]\n",
      "y=:1,predict:[1.]\n"
     ]
    }
   ],
   "source": [
    "for i in range(len(x_test)):\n",
    "    x=x_test[i]\n",
    "    y=y_test[i]\n",
    "    predict=np.round(forward(x,theta,bias))\n",
    "    print(f\"y=:{y},predict:{predict}\")"
   ]
  }
 ],
 "metadata": {
  "kernelspec": {
   "display_name": "py312",
   "language": "python",
   "name": "python3"
  },
  "language_info": {
   "codemirror_mode": {
    "name": "ipython",
    "version": 3
   },
   "file_extension": ".py",
   "mimetype": "text/x-python",
   "name": "python",
   "nbconvert_exporter": "python",
   "pygments_lexer": "ipython3",
   "version": "3.12.9"
  }
 },
 "nbformat": 4,
 "nbformat_minor": 2
}
