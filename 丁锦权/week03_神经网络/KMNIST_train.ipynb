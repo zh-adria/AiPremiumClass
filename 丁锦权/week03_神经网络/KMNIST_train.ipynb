{
 "cells": [
  {
   "cell_type": "code",
   "execution_count": 15,
   "metadata": {},
   "outputs": [],
   "source": [
    "import torch\n",
    "import torch.nn as nn\n",
    "import torch.optim as optim\n",
    "from torchvision.datasets import KMNIST\n",
    "from torchvision.transforms.v2 import ToTensor # 转换图像数据为张量\n",
    "import matplotlib.pyplot as plt\n",
    "from torch.utils.data import DataLoader # 数据加载器"
   ]
  },
  {
   "cell_type": "code",
   "execution_count": 16,
   "metadata": {},
   "outputs": [
    {
     "name": "stderr",
     "output_type": "stream",
     "text": [
      "C:\\Users\\29760\\AppData\\Roaming\\Python\\Python312\\site-packages\\torchvision\\transforms\\v2\\_deprecated.py:42: UserWarning: The transform `ToTensor()` is deprecated and will be removed in a future release. Instead, please use `v2.Compose([v2.ToImage(), v2.ToDtype(torch.float32, scale=True)])`.Output is equivalent up to float precision.\n",
      "  warnings.warn(\n"
     ]
    }
   ],
   "source": [
    "# 加载 KMNIST 数据集\n",
    "train_data=KMNIST(root='./kmnist_data',train=True,download=True,transform=ToTensor())\n",
    "test_data=KMNIST(root='./kmnist_data',train=False,download=True,transform=ToTensor())\n",
    "\n",
    "# 创建数据加载器\n",
    "batch_size = 64\n",
    "train_loader = DataLoader(train_data, batch_size=batch_size, shuffle=True)\n",
    "test_loader = DataLoader(test_data, batch_size=batch_size, shuffle=False)\n",
    "\n"
   ]
  },
  {
   "cell_type": "code",
   "execution_count": 17,
   "metadata": {},
   "outputs": [
    {
     "name": "stdout",
     "output_type": "stream",
     "text": [
      "Sequential(\n",
      "  (0): Linear(in_features=784, out_features=64, bias=True)\n",
      "  (1): Sigmoid()\n",
      "  (2): Linear(in_features=64, out_features=10, bias=True)\n",
      ")\n"
     ]
    }
   ],
   "source": [
    "\n",
    "# 定义神经网络模型\n",
    "model=nn.Sequential(\n",
    "    nn.Linear(784,64),\n",
    "    nn.Sigmoid(),\n",
    "    nn.Linear(64,10)\n",
    ")\n",
    "print(model)"
   ]
  },
  {
   "cell_type": "code",
   "execution_count": 18,
   "metadata": {},
   "outputs": [],
   "source": [
    "# 损失函数\n",
    "criterion = nn.CrossEntropyLoss()\n",
    "# 定义学习率\n",
    "lR=1e-3\n",
    "# 优化器\n",
    "optimizer = optim.Adam(model.parameters(), lr=lR)"
   ]
  },
  {
   "cell_type": "code",
   "execution_count": 19,
   "metadata": {},
   "outputs": [
    {
     "name": "stdout",
     "output_type": "stream",
     "text": [
      "Epoch [1/10], Loss: 0.8500, Accuracy: 78.05%\n",
      "Epoch [2/10], Loss: 0.4643, Accuracy: 86.41%\n",
      "Epoch [3/10], Loss: 0.3742, Accuracy: 89.07%\n",
      "Epoch [4/10], Loss: 0.3184, Accuracy: 90.73%\n",
      "Epoch [5/10], Loss: 0.2786, Accuracy: 92.01%\n",
      "Epoch [6/10], Loss: 0.2479, Accuracy: 92.89%\n",
      "Epoch [7/10], Loss: 0.2241, Accuracy: 93.59%\n",
      "Epoch [8/10], Loss: 0.2041, Accuracy: 94.26%\n",
      "Epoch [9/10], Loss: 0.1873, Accuracy: 94.78%\n",
      "Epoch [10/10], Loss: 0.1733, Accuracy: 95.23%\n"
     ]
    }
   ],
   "source": [
    "# 训练参数\n",
    "num_epochs = 10\n",
    "\n",
    "\n",
    "# 训练过程\n",
    "train_losses = []\n",
    "train_accuracies = []\n",
    "\n",
    "for epoch in range(num_epochs):\n",
    "    model.train()\n",
    "    running_loss = 0.0\n",
    "    correct = 0\n",
    "    total = 0\n",
    "\n",
    "    for images, labels in train_loader:\n",
    "        # 前向传播\n",
    "        outputs = model(images.reshape(-1,784))\n",
    "        loss = criterion(outputs, labels)\n",
    "\n",
    "        # 反向传播和优化\n",
    "        optimizer.zero_grad()\n",
    "        loss.backward()\n",
    "        optimizer.step()\n",
    "\n",
    "        # 记录损失和准确率\n",
    "        running_loss += loss.item()\n",
    "        _, predicted = torch.max(outputs.data, 1)\n",
    "        total += labels.size(0)\n",
    "        correct += (predicted == labels).sum().item()\n",
    "\n",
    "    # 计算平均损失和准确率\n",
    "    epoch_loss = running_loss / len(train_loader)\n",
    "    epoch_acc = 100.0 * correct / total\n",
    "\n",
    "    train_losses.append(epoch_loss)\n",
    "    train_accuracies.append(epoch_acc)\n",
    "\n",
    "    print(f'Epoch [{epoch+1}/{num_epochs}], Loss: {epoch_loss:.4f}, Accuracy: {epoch_acc:.2f}%')"
   ]
  },
  {
   "cell_type": "code",
   "execution_count": 20,
   "metadata": {},
   "outputs": [
    {
     "name": "stdout",
     "output_type": "stream",
     "text": [
      "Test Loss: 0.5030, Test Accuracy: 84.71%\n"
     ]
    }
   ],
   "source": [
    "# 测试模型\n",
    "model.eval()\n",
    "test_loss = 0.0\n",
    "correct = 0\n",
    "total = 0\n",
    "\n",
    "with torch.no_grad():\n",
    "    for images, labels in test_loader:\n",
    "        outputs = model(images.reshape(-1,784))\n",
    "        loss = criterion(outputs, labels)\n",
    "\n",
    "        test_loss += loss.item()\n",
    "        _, predicted = torch.max(outputs.data, 1)\n",
    "        total += labels.size(0)\n",
    "        correct += (predicted == labels).sum().item()\n",
    "\n",
    "test_loss /= len(test_loader)\n",
    "test_acc = 100.0 * correct / total\n",
    "\n",
    "print(f'Test Loss: {test_loss:.4f}, Test Accuracy: {test_acc:.2f}%')"
   ]
  }
 ],
 "metadata": {
  "kernelspec": {
   "display_name": "py312",
   "language": "python",
   "name": "python3"
  },
  "language_info": {
   "codemirror_mode": {
    "name": "ipython",
    "version": 3
   },
   "file_extension": ".py",
   "mimetype": "text/x-python",
   "name": "python",
   "nbconvert_exporter": "python",
   "pygments_lexer": "ipython3",
   "version": "3.12.9"
  }
 },
 "nbformat": 4,
 "nbformat_minor": 2
}
