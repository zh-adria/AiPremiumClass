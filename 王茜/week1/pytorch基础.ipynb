{
 "cells": [
  {
   "cell_type": "markdown",
   "id": "32a70f73-e18d-4a89-b2c2-add0cab81264",
   "metadata": {},
   "source": [
    "# numpy 基础"
   ]
  },
  {
   "cell_type": "markdown",
   "id": "80e84eee-4af2-4018-b1be-0ea760486e58",
   "metadata": {},
   "source": [
    "## numpy 基础\n",
    "1. 数据类型\n",
    "2. 建立数组方式\n",
    "3. 创建一些特殊数组\n",
    "4. numpy 切片  \n",
    "如何建立数组"
   ]
  },
  {
   "cell_type": "markdown",
   "id": "d75d6fd8-288b-45ba-bff9-2ea392a6af03",
   "metadata": {},
   "source": [
    "## numpy 建立数组"
   ]
  },
  {
   "cell_type": "code",
   "execution_count": 1,
   "id": "862e6d66-a6b7-4110-b2d2-d16188023cdf",
   "metadata": {},
   "outputs": [],
   "source": [
    "import numpy as np"
   ]
  },
  {
   "cell_type": "code",
   "execution_count": 2,
   "id": "68c45245-6a07-4dd4-a206-0c126da60758",
   "metadata": {},
   "outputs": [
    {
     "name": "stdout",
     "output_type": "stream",
     "text": [
      "int64\n"
     ]
    },
    {
     "data": {
      "text/plain": [
       "array([1, 2, 3])"
      ]
     },
     "execution_count": 2,
     "metadata": {},
     "output_type": "execute_result"
    }
   ],
   "source": [
    "a1 = np.array([1,2,3])\n",
    "print(a1.dtype)\n",
    "a1"
   ]
  },
  {
   "cell_type": "code",
   "execution_count": 3,
   "id": "ba3de94e-2ac4-47b7-9aae-853e74fcb875",
   "metadata": {},
   "outputs": [
    {
     "name": "stdout",
     "output_type": "stream",
     "text": [
      "float64\n"
     ]
    },
    {
     "data": {
      "text/plain": [
       "array([1., 2., 3.])"
      ]
     },
     "execution_count": 3,
     "metadata": {},
     "output_type": "execute_result"
    }
   ],
   "source": [
    "# 指定数据类型\n",
    "a2 = np.array([1,2, 3], float)\n",
    "print(a2.dtype)\n",
    "a2"
   ]
  },
  {
   "cell_type": "code",
   "execution_count": 4,
   "id": "eb5b0fe7-6a2d-4800-b031-fd072bd9e319",
   "metadata": {},
   "outputs": [
    {
     "name": "stdout",
     "output_type": "stream",
     "text": [
      "(3, 2)\n"
     ]
    },
    {
     "data": {
      "text/plain": [
       "array([[1, 2],\n",
       "       [2, 3],\n",
       "       [3, 4]])"
      ]
     },
     "execution_count": 4,
     "metadata": {},
     "output_type": "execute_result"
    }
   ],
   "source": [
    "# 创建多维数组\n",
    "a3 = np.array([[1,2],[2,3], [3,4]])\n",
    "print(a3.shape)\n",
    "a3          "
   ]
  },
  {
   "cell_type": "code",
   "execution_count": 5,
   "id": "e2659b0f-a1af-4889-84d6-7a3ecb007999",
   "metadata": {
    "jp-MarkdownHeadingCollapsed": true
   },
   "outputs": [
    {
     "name": "stdout",
     "output_type": "stream",
     "text": [
      "[[0. 0. 0. 0.]\n",
      " [0. 0. 0. 0.]\n",
      " [0. 0. 0. 0.]]\n"
     ]
    }
   ],
   "source": [
    "# 创建特殊数组\n",
    "# 创建元素为0数组\n",
    "a4 = np.zeros((3,4))\n",
    "print(a4)"
   ]
  },
  {
   "cell_type": "code",
   "execution_count": 6,
   "id": "13f28b75-0c81-41bb-a9e9-34868227a286",
   "metadata": {},
   "outputs": [
    {
     "data": {
      "text/plain": [
       "array([[1., 1., 1., 1.],\n",
       "       [1., 1., 1., 1.],\n",
       "       [1., 1., 1., 1.]])"
      ]
     },
     "execution_count": 6,
     "metadata": {},
     "output_type": "execute_result"
    }
   ],
   "source": [
    "# 创建元素为1数组\n",
    "a5 = np.ones((3,4))\n",
    "a5"
   ]
  },
  {
   "cell_type": "code",
   "execution_count": 7,
   "id": "4d942c52-dd76-4125-88ee-8bfd609b3bbf",
   "metadata": {},
   "outputs": [
    {
     "data": {
      "text/plain": [
       "array([[1., 0., 0., 0.],\n",
       "       [0., 1., 0., 0.],\n",
       "       [0., 0., 1., 0.],\n",
       "       [0., 0., 0., 1.]])"
      ]
     },
     "execution_count": 7,
     "metadata": {},
     "output_type": "execute_result"
    }
   ],
   "source": [
    "# 创建对角为1的数组\n",
    "a6 = np.eye(4)\n",
    "a6"
   ]
  },
  {
   "cell_type": "code",
   "execution_count": 8,
   "id": "5c451041-2400-4dcf-b8f9-8f7ec73ab571",
   "metadata": {},
   "outputs": [
    {
     "data": {
      "text/plain": [
       "array([[0.96950686, 0.80870274, 0.76747261, 0.28480123],\n",
       "       [0.18104594, 0.05287823, 0.03527606, 0.39877102],\n",
       "       [0.06994974, 0.45264953, 0.40423335, 0.48354034]])"
      ]
     },
     "execution_count": 8,
     "metadata": {},
     "output_type": "execute_result"
    }
   ],
   "source": [
    "# 创建随机数组，\n",
    "a7 = np.random.random((3,4))\n",
    "a7"
   ]
  },
  {
   "cell_type": "code",
   "execution_count": 9,
   "id": "2d318341-3a65-429a-8b9d-62cafbf0ce2f",
   "metadata": {},
   "outputs": [
    {
     "data": {
      "text/plain": [
       "array([[-3.10099512, -0.29942436,  1.44567678, -1.89674374],\n",
       "       [ 0.6331348 ,  1.94764956,  1.3651387 ,  1.95163621],\n",
       "       [-1.23135493,  0.31199584,  0.03301216, -1.6118075 ]])"
      ]
     },
     "execution_count": 9,
     "metadata": {},
     "output_type": "execute_result"
    }
   ],
   "source": [
    "# 创建随机正态数组\n",
    "a8 = np.random.normal(loc=1, scale=2, size=(3,4))\n",
    "a8"
   ]
  },
  {
   "cell_type": "code",
   "execution_count": 10,
   "id": "d018c28b-8aa4-4801-b0d1-1cc96c5e7f4b",
   "metadata": {},
   "outputs": [
    {
     "data": {
      "text/plain": [
       "array([[ 0.02786652,  0.45626064, -0.37274716,  0.84305421],\n",
       "       [ 0.65838058, -0.99606716,  0.04873256, -0.19626868],\n",
       "       [ 0.35012518,  0.52254981, -0.21280766,  0.63836617]])"
      ]
     },
     "execution_count": 10,
     "metadata": {},
     "output_type": "execute_result"
    }
   ],
   "source": [
    "# 创建上下界均匀分布数组\n",
    "a9 = np.random.uniform(low=-1, high=1, size=(3, 4))\n",
    "a9"
   ]
  },
  {
   "cell_type": "code",
   "execution_count": 11,
   "id": "0e98cdde-dfa6-4949-abfa-895605a1d58d",
   "metadata": {},
   "outputs": [
    {
     "name": "stdout",
     "output_type": "stream",
     "text": [
      "1\n",
      "(3,)\n",
      "3\n",
      "int64\n"
     ]
    }
   ],
   "source": [
    "print(a1.ndim)\n",
    "print(a1.shape)\n",
    "print(a1.size)\n",
    "print(a1.dtype)"
   ]
  },
  {
   "cell_type": "code",
   "execution_count": 12,
   "id": "1939cc51-96b3-41ae-aa91-a53f769ce7f6",
   "metadata": {},
   "outputs": [
    {
     "data": {
      "text/plain": [
       "array([2., 2., 3.])"
      ]
     },
     "execution_count": 12,
     "metadata": {},
     "output_type": "execute_result"
    }
   ],
   "source": [
    "np.rint([2.3, 2.5,2.8])"
   ]
  },
  {
   "cell_type": "markdown",
   "id": "9a68243e-502a-4314-8933-282d54bd98d8",
   "metadata": {},
   "source": [
    "## numpy 数组访问"
   ]
  },
  {
   "cell_type": "code",
   "execution_count": 13,
   "id": "62ded0a8-304c-4e77-8d84-d95881802d88",
   "metadata": {},
   "outputs": [
    {
     "data": {
      "text/plain": [
       "array([[0.15683594, 0.49621086, 0.64053483, 0.11037933],\n",
       "       [0.91912409, 0.01288315, 0.15072055, 0.340812  ],\n",
       "       [0.09916188, 0.56233234, 0.02882005, 0.41054626]])"
      ]
     },
     "execution_count": 13,
     "metadata": {},
     "output_type": "execute_result"
    }
   ],
   "source": [
    "# 切片功能\n",
    "array = np.random.rand(3, 4)\n",
    "array"
   ]
  },
  {
   "cell_type": "code",
   "execution_count": 14,
   "id": "9a2764b6-e046-492f-b414-f14903acb2f0",
   "metadata": {},
   "outputs": [
    {
     "data": {
      "text/plain": [
       "array([[0.09916188, 0.56233234, 0.02882005, 0.41054626]])"
      ]
     },
     "execution_count": 14,
     "metadata": {},
     "output_type": "execute_result"
    }
   ],
   "source": [
    "# 访问第三行,\n",
    "array[2:]"
   ]
  },
  {
   "cell_type": "code",
   "execution_count": 15,
   "id": "e235b2f7-7930-4189-966f-c80b85ee5a11",
   "metadata": {},
   "outputs": [
    {
     "data": {
      "text/plain": [
       "array([0.11037933, 0.340812  , 0.41054626])"
      ]
     },
     "execution_count": 15,
     "metadata": {},
     "output_type": "execute_result"
    }
   ],
   "source": [
    "# 访问第四列\n",
    "array[:, 3]"
   ]
  },
  {
   "cell_type": "code",
   "execution_count": 16,
   "id": "49d86a40-0d55-4885-b027-844e8820e746",
   "metadata": {},
   "outputs": [
    {
     "name": "stdout",
     "output_type": "stream",
     "text": [
      "第2行第3列 0.15072054756110276\n",
      "第2行第3列 0.15072054756110276\n",
      "第2行第3个数开始往后 [0.15072055 0.340812  ]\n"
     ]
    }
   ],
   "source": [
    "print('第2行第3列', array[1, 2])\n",
    "print('第2行第3列', array[1][2])\n",
    "print('第2行第3个数开始往后', array[1,2:])"
   ]
  },
  {
   "cell_type": "code",
   "execution_count": 17,
   "id": "119d8317-f6b5-4b3e-aa08-41a86b1dfd53",
   "metadata": {},
   "outputs": [
    {
     "name": "stdout",
     "output_type": "stream",
     "text": [
      "1\n",
      "2\n",
      "3\n"
     ]
    }
   ],
   "source": [
    "# 一为数组遍历\n",
    "array2 = np.array([1,2,3])\n",
    "for i in array2:\n",
    "    print(i)"
   ]
  },
  {
   "cell_type": "code",
   "execution_count": 18,
   "id": "d61c4cae-49dc-4460-9e53-ade9e9ae4fbb",
   "metadata": {},
   "outputs": [
    {
     "name": "stdout",
     "output_type": "stream",
     "text": [
      "[1 2]\n",
      "********************\n",
      "[3 4]\n",
      "********************\n",
      "[5 6]\n",
      "********************\n"
     ]
    }
   ],
   "source": [
    "# 多维数组遍历\n",
    "# 按行遍历数组\n",
    "array1 = np.array([[1,2],[3,4],[5,6]])\n",
    "for i in array1:\n",
    "    print(i)\n",
    "    print('*'* 20)"
   ]
  },
  {
   "cell_type": "code",
   "execution_count": 19,
   "id": "544adbe0-9568-4895-b1cf-dcf7c7676022",
   "metadata": {},
   "outputs": [
    {
     "name": "stdout",
     "output_type": "stream",
     "text": [
      "1 2\n",
      "********************\n",
      "3 4\n",
      "********************\n",
      "5 6\n",
      "********************\n"
     ]
    }
   ],
   "source": [
    "# 按行遍历数组，指定到元素\n",
    "for i,j in array1:\n",
    "    print(i, j)\n",
    "    print('*'* 20)"
   ]
  },
  {
   "cell_type": "markdown",
   "id": "b163dc02-57aa-4d87-a43f-64980da8eb91",
   "metadata": {},
   "source": [
    "## numpy 属性"
   ]
  },
  {
   "cell_type": "code",
   "execution_count": 20,
   "id": "4f673122-d049-41e8-878b-28ec4fd0a86e",
   "metadata": {},
   "outputs": [
    {
     "name": "stdout",
     "output_type": "stream",
     "text": [
      "矩阵秩 2\n",
      "矩阵元素个数 12\n",
      "矩阵大小 (3, 4)\n",
      "数据类型 float64\n"
     ]
    }
   ],
   "source": [
    "array = np.random.random((3,4))\n",
    "print('矩阵秩', array.ndim)\n",
    "print('矩阵元素个数', array.size)\n",
    "print('矩阵大小', array.shape)\n",
    "print('数据类型', array.dtype)"
   ]
  },
  {
   "cell_type": "markdown",
   "id": "d6eefe44-a9e3-498e-87bc-7f56ad2ad100",
   "metadata": {},
   "source": [
    "## 矩阵基本操作"
   ]
  },
  {
   "cell_type": "code",
   "execution_count": 21,
   "id": "7608587a-2887-4928-ab26-6d99ccaacc91",
   "metadata": {},
   "outputs": [
    {
     "data": {
      "text/plain": [
       "True"
      ]
     },
     "execution_count": 21,
     "metadata": {},
     "output_type": "execute_result"
    }
   ],
   "source": [
    "# 元素是否在矩阵中\n",
    "a1 = np.array([[2, 3], [4, 5]])\n",
    "3 in a1"
   ]
  },
  {
   "cell_type": "code",
   "execution_count": 22,
   "id": "26683016-be52-42c3-8e34-fcadca9095db",
   "metadata": {
    "scrolled": true
   },
   "outputs": [
    {
     "name": "stdout",
     "output_type": "stream",
     "text": [
      "[[0.24734754 0.07606961 0.89411276 0.82832418]\n",
      " [0.01818659 0.3203419  0.63497508 0.85023849]\n",
      " [0.30354427 0.16384457 0.49890476 0.55651373]]\n",
      "--------------------\n",
      "[[0.24734754 0.07606961 0.89411276]\n",
      " [0.82832418 0.01818659 0.3203419 ]\n",
      " [0.63497508 0.85023849 0.30354427]\n",
      " [0.16384457 0.49890476 0.55651373]]\n",
      "--------------------\n",
      "[0.24734754 0.07606961 0.89411276 0.82832418 0.01818659 0.3203419\n",
      " 0.63497508 0.85023849 0.30354427 0.16384457 0.49890476 0.55651373]\n",
      "--------------------\n",
      "[0.24734754 0.07606961 0.89411276 0.82832418 0.01818659 0.3203419\n",
      " 0.63497508 0.85023849 0.30354427 0.16384457 0.49890476 0.55651373]\n",
      "(3, 4, 1)\n",
      "(3, 4)\n"
     ]
    }
   ],
   "source": [
    "# reshape\n",
    "a1 = np.random.random((3,4))\n",
    "print(a1)\n",
    "print('-'*20)\n",
    "print(a1.reshape(4, 3))\n",
    "print('-'*20)\n",
    "# 变为一维数组\n",
    "print(a1.reshape(-1))\n",
    "print('-'*20)\n",
    "print(a1.flatten())\n",
    "# 去掉一维的空间\n",
    "print(a1.reshape(3,4,1).shape)\n",
    "print(a1.reshape(3,4,1).squeeze().shape)\n"
   ]
  },
  {
   "cell_type": "markdown",
   "id": "8f0bd90b-294e-4c7a-98b3-369465152f79",
   "metadata": {},
   "source": [
    "## numpy 矩阵运算  \n",
    "1. 矩阵相乘\n",
    "2. dot / @ 点乘运算"
   ]
  },
  {
   "cell_type": "code",
   "execution_count": 23,
   "id": "4e15571f-67d7-498d-ab6e-fb69a3b1c674",
   "metadata": {},
   "outputs": [
    {
     "name": "stdout",
     "output_type": "stream",
     "text": [
      "[[2 3]\n",
      " [4 5]]\n",
      "[[3 4]\n",
      " [2 3]]\n",
      "[3 4]\n"
     ]
    }
   ],
   "source": [
    "a1 = np.array([[2, 3], [4, 5]])\n",
    "a2 = np.array([[3, 4], [2, 3]])\n",
    "a3 = np.array([3, 4])\n",
    "print(a1)\n",
    "print(a2)\n",
    "print(a3)"
   ]
  },
  {
   "cell_type": "code",
   "execution_count": 24,
   "id": "f1066f96-42bb-4617-a220-f93c4399bc98",
   "metadata": {},
   "outputs": [
    {
     "data": {
      "text/plain": [
       "array([[2, 4],\n",
       "       [3, 5]])"
      ]
     },
     "execution_count": 24,
     "metadata": {},
     "output_type": "execute_result"
    }
   ],
   "source": [
    "# 矩阵转秩\n",
    "a1.T"
   ]
  },
  {
   "cell_type": "code",
   "execution_count": 25,
   "id": "a92d36b2-572b-43a2-a2a0-f233ce2a41ea",
   "metadata": {},
   "outputs": [
    {
     "data": {
      "text/plain": [
       "array([[2, 4],\n",
       "       [3, 5]])"
      ]
     },
     "execution_count": 25,
     "metadata": {},
     "output_type": "execute_result"
    }
   ],
   "source": [
    "# 矩阵转秩\n",
    "np.transpose(a1)"
   ]
  },
  {
   "cell_type": "code",
   "execution_count": 26,
   "id": "f27bac5b-dfad-427c-be82-d2fefc087fad",
   "metadata": {
    "scrolled": true
   },
   "outputs": [
    {
     "data": {
      "text/plain": [
       "array([[5, 7],\n",
       "       [6, 8]])"
      ]
     },
     "execution_count": 26,
     "metadata": {},
     "output_type": "execute_result"
    }
   ],
   "source": [
    "a1 + a2"
   ]
  },
  {
   "cell_type": "code",
   "execution_count": 27,
   "id": "45a18350-088d-4b93-8c2c-40612df3357c",
   "metadata": {},
   "outputs": [
    {
     "data": {
      "text/plain": [
       "array([[-1, -1],\n",
       "       [ 2,  2]])"
      ]
     },
     "execution_count": 27,
     "metadata": {},
     "output_type": "execute_result"
    }
   ],
   "source": [
    "a1 - a2"
   ]
  },
  {
   "cell_type": "code",
   "execution_count": 28,
   "id": "dfa1a33b-4387-4166-ae44-a4a56f0b2fd7",
   "metadata": {},
   "outputs": [
    {
     "name": "stdout",
     "output_type": "stream",
     "text": [
      "[[ 6 12]\n",
      " [ 8 15]]\n",
      "[[ 6 12]\n",
      " [12 20]]\n"
     ]
    }
   ],
   "source": [
    "# 矩阵相乘\n",
    "print(a1 * a2)\n",
    "print(a1 * a3)"
   ]
  },
  {
   "cell_type": "code",
   "execution_count": 29,
   "id": "db878a63-a758-4d9a-986e-d35c1741a15a",
   "metadata": {},
   "outputs": [
    {
     "name": "stdout",
     "output_type": "stream",
     "text": [
      "[[12 17]\n",
      " [22 31]]\n",
      "[[12 17]\n",
      " [22 31]]\n"
     ]
    }
   ],
   "source": [
    "# 矩阵内积\n",
    "print(np.dot(a1, a2))\n",
    "print(a1 @ a2)"
   ]
  },
  {
   "cell_type": "code",
   "execution_count": 30,
   "id": "62e75683-c190-45c3-b9b2-909543913234",
   "metadata": {},
   "outputs": [
    {
     "name": "stdout",
     "output_type": "stream",
     "text": [
      "[[2 3]\n",
      " [4 5]]\n"
     ]
    },
    {
     "data": {
      "text/plain": [
       "(np.int64(14),\n",
       " np.float64(3.5),\n",
       " np.float64(1.118033988749895),\n",
       " np.int64(5),\n",
       " np.int64(2))"
      ]
     },
     "execution_count": 30,
     "metadata": {},
     "output_type": "execute_result"
    }
   ],
   "source": [
    "# 和，平均值， 标准差，最大值，最小值\n",
    "print(a1)\n",
    "a1.sum(), a1.mean(), a1.std(), a1.max(), a1.min()"
   ]
  },
  {
   "cell_type": "code",
   "execution_count": 31,
   "id": "33cc8e04-9c13-49c8-9c14-3cf4b55af282",
   "metadata": {},
   "outputs": [
    {
     "name": "stdout",
     "output_type": "stream",
     "text": [
      "[[2 3]\n",
      " [4 5]]\n"
     ]
    },
    {
     "data": {
      "text/plain": [
       "array([5, 9])"
      ]
     },
     "execution_count": 31,
     "metadata": {},
     "output_type": "execute_result"
    }
   ],
   "source": [
    "# 按行求和\n",
    "print(a1)\n",
    "a1.sum(axis=1)"
   ]
  },
  {
   "cell_type": "code",
   "execution_count": 32,
   "id": "74a114dc-868e-47b4-bae5-c49b700f16e9",
   "metadata": {},
   "outputs": [
    {
     "data": {
      "text/plain": [
       "(np.int64(2),\n",
       " np.int64(1),\n",
       " array([4., 4., 4.]),\n",
       " array([3., 3., 3.]),\n",
       " array([4., 3., 4.]))"
      ]
     },
     "execution_count": 32,
     "metadata": {},
     "output_type": "execute_result"
    }
   ],
   "source": [
    "# 最大索引位置，最小索引位置，向上取整，向下取整\n",
    "af = [3.5, 3.3, 3.7]\n",
    "np.argmax(af), np.argmin(af), np.ceil(af), np.floor(af), np.rint(af)"
   ]
  },
  {
   "cell_type": "markdown",
   "id": "1aa577f8-eafa-4d27-9b43-be5c481051b3",
   "metadata": {},
   "source": [
    "## numpy 文件操作  \n",
    ".npy 文件"
   ]
  },
  {
   "cell_type": "code",
   "execution_count": 33,
   "id": "7673a44e-b66b-44c9-95ba-d853820ef6c0",
   "metadata": {},
   "outputs": [],
   "source": [
    "np.save('a1.npy', a1)"
   ]
  },
  {
   "cell_type": "code",
   "execution_count": 34,
   "id": "5a5b82b8-1bd1-428d-958b-654571ce5b73",
   "metadata": {},
   "outputs": [
    {
     "data": {
      "text/plain": [
       "array([[2, 3],\n",
       "       [4, 5]])"
      ]
     },
     "execution_count": 34,
     "metadata": {},
     "output_type": "execute_result"
    }
   ],
   "source": [
    "np.load('a1.npy')"
   ]
  },
  {
   "cell_type": "markdown",
   "id": "fa007280-b92a-45f1-94b9-7261ba69a3e4",
   "metadata": {},
   "source": [
    "## numpy 广播机制\n",
    "当为一维数组时：必须对应为前一个数组的最后一维长度\n",
    "broadcast 从最后一维开始对齐,   \n",
    "(3, 2) == (2,) => (3, 2) \n",
    "(3, 2) == (3, 1)  => (3, 2) \n",
    "(3, 2)  != (3, )  \n",
    "(3, 2)  != (1, 3) \n",
    "\n",
    "广播的规则:\n",
    "\n",
    "让所有输入数组都向其中形状最长的数组看齐，形状中不足的部分都通过在前面加 1 补齐。  \n",
    "输出数组的形状是输入数组形状的各个维度上的最大值。  \n",
    "如果输入数组的某个维度和输出数组的对应维度的长度相同或者其长度为 1 时，这个数组能够用来计算，否则出错。  \n",
    "当输入数组的某个维度的长度为 1 时，沿着此维度运算时都用此维度上的第一组值。  \n",
    "  \n",
    "简单理解：对两个数组，分别比较他们的每一个维度（若其中一个数组没有当前维度则忽略），满足：  \n",
    "\n",
    "数组拥有相同形状。  \n",
    "当前维度的值相等。  \n",
    "当前维度的值有一个是 1。  "
   ]
  },
  {
   "cell_type": "code",
   "execution_count": 35,
   "id": "4b222fc7-7ffb-44b6-930b-874974073f5b",
   "metadata": {},
   "outputs": [
    {
     "name": "stdout",
     "output_type": "stream",
     "text": [
      "[[2 3]\n",
      " [1 2]\n",
      " [3 4]]\n",
      "[ 1 -2]\n",
      "[ 1 -2  1]\n",
      "(3, 2) (2,) (3,) (3, 1)\n"
     ]
    }
   ],
   "source": [
    "a = np.array([[2,3], [1,2], [3,4]])\n",
    "b = np.array([1,-2])\n",
    "c = np.array([1, -2, 1])\n",
    "d = np.reshape(c, (3, -1))\n",
    "print(a)\n",
    "print(b)\n",
    "print(c)\n",
    "print(a.shape, b.shape, c.shape, d.shape)"
   ]
  },
  {
   "cell_type": "code",
   "execution_count": 36,
   "id": "1c214df1-3a45-4f67-8394-90c158c07f09",
   "metadata": {},
   "outputs": [
    {
     "data": {
      "text/plain": [
       "array([[3, 1],\n",
       "       [2, 0],\n",
       "       [4, 2]])"
      ]
     },
     "execution_count": 36,
     "metadata": {},
     "output_type": "execute_result"
    }
   ],
   "source": [
    "# b 的长度对应a的最后一维长度\n",
    "a + b"
   ]
  },
  {
   "cell_type": "code",
   "execution_count": 37,
   "id": "58417685-15e2-4cad-a854-d609a06918b4",
   "metadata": {
    "scrolled": true
   },
   "outputs": [
    {
     "ename": "ValueError",
     "evalue": "operands could not be broadcast together with shapes (3,2) (3,) ",
     "output_type": "error",
     "traceback": [
      "\u001b[0;31m---------------------------------------------------------------------------\u001b[0m",
      "\u001b[0;31mValueError\u001b[0m                                Traceback (most recent call last)",
      "Cell \u001b[0;32mIn[37], line 2\u001b[0m\n\u001b[1;32m      1\u001b[0m \u001b[38;5;66;03m# 没有对应a的最后一维形状长度\u001b[39;00m\n\u001b[0;32m----> 2\u001b[0m \u001b[43ma\u001b[49m\u001b[43m \u001b[49m\u001b[38;5;241;43m+\u001b[39;49m\u001b[43m \u001b[49m\u001b[43mc\u001b[49m\n",
      "\u001b[0;31mValueError\u001b[0m: operands could not be broadcast together with shapes (3,2) (3,) "
     ]
    }
   ],
   "source": [
    "# 没有对应a的最后一维形状长度\n",
    "a + c"
   ]
  },
  {
   "cell_type": "code",
   "execution_count": 38,
   "id": "4a69bfc7-2274-46e0-861b-4d7600c52267",
   "metadata": {},
   "outputs": [
    {
     "data": {
      "text/plain": [
       "array([[ 3,  4],\n",
       "       [-1,  0],\n",
       "       [ 4,  5]])"
      ]
     },
     "execution_count": 38,
     "metadata": {},
     "output_type": "execute_result"
    }
   ],
   "source": [
    "# 广播位置对应长度为1\n",
    "a + d"
   ]
  },
  {
   "cell_type": "code",
   "execution_count": 39,
   "id": "d57a903e-44b6-46d5-9ac6-67e86a51bbf4",
   "metadata": {},
   "outputs": [
    {
     "data": {
      "text/plain": [
       "array([[[0.94781475, 0.46816834, 0.92037244, 1.30469877],\n",
       "        [1.13470271, 0.46342059, 0.92572652, 0.55401132],\n",
       "        [1.22240433, 1.92241677, 1.61993533, 0.94446461]],\n",
       "\n",
       "       [[0.57040645, 1.09922725, 0.39946901, 1.15715415],\n",
       "        [0.14572446, 0.34095371, 0.21789822, 0.52005908],\n",
       "        [1.02674131, 1.50382635, 0.99928436, 1.31470499]]])"
      ]
     },
     "execution_count": 39,
     "metadata": {},
     "output_type": "execute_result"
    }
   ],
   "source": [
    "np.random.random((2,3,4)) + np.random.random((2,3,1))"
   ]
  },
  {
   "cell_type": "code",
   "execution_count": 40,
   "id": "3f652656-6682-4f0f-8b7b-d423af075e5c",
   "metadata": {},
   "outputs": [
    {
     "ename": "ValueError",
     "evalue": "operands could not be broadcast together with shapes (2,3,4) (2,3,2) ",
     "output_type": "error",
     "traceback": [
      "\u001b[0;31m---------------------------------------------------------------------------\u001b[0m",
      "\u001b[0;31mValueError\u001b[0m                                Traceback (most recent call last)",
      "Cell \u001b[0;32mIn[40], line 1\u001b[0m\n\u001b[0;32m----> 1\u001b[0m \u001b[43mnp\u001b[49m\u001b[38;5;241;43m.\u001b[39;49m\u001b[43mrandom\u001b[49m\u001b[38;5;241;43m.\u001b[39;49m\u001b[43mrandom\u001b[49m\u001b[43m(\u001b[49m\u001b[43m(\u001b[49m\u001b[38;5;241;43m2\u001b[39;49m\u001b[43m,\u001b[49m\u001b[38;5;241;43m3\u001b[39;49m\u001b[43m,\u001b[49m\u001b[38;5;241;43m4\u001b[39;49m\u001b[43m)\u001b[49m\u001b[43m)\u001b[49m\u001b[43m \u001b[49m\u001b[38;5;241;43m+\u001b[39;49m\u001b[43m \u001b[49m\u001b[43mnp\u001b[49m\u001b[38;5;241;43m.\u001b[39;49m\u001b[43mrandom\u001b[49m\u001b[38;5;241;43m.\u001b[39;49m\u001b[43mrandom\u001b[49m\u001b[43m(\u001b[49m\u001b[43m(\u001b[49m\u001b[38;5;241;43m2\u001b[39;49m\u001b[43m,\u001b[49m\u001b[38;5;241;43m3\u001b[39;49m\u001b[43m,\u001b[49m\u001b[38;5;241;43m2\u001b[39;49m\u001b[43m)\u001b[49m\u001b[43m)\u001b[49m\n",
      "\u001b[0;31mValueError\u001b[0m: operands could not be broadcast together with shapes (2,3,4) (2,3,2) "
     ]
    }
   ],
   "source": [
    "np.random.random((2,3,4)) + np.random.random((2,3,2))"
   ]
  },
  {
   "cell_type": "code",
   "execution_count": null,
   "id": "b3cb8831-e850-4f63-abd5-786f47845ffc",
   "metadata": {},
   "outputs": [],
   "source": []
  },
  {
   "cell_type": "markdown",
   "id": "c6e13b01-f963-4996-bf17-eaccb82b1873",
   "metadata": {},
   "source": [
    "# pytorch 基础"
   ]
  },
  {
   "cell_type": "markdown",
   "id": "e2a6f53b-6866-4f29-ac2a-8ba5a2939642",
   "metadata": {},
   "source": [
    "## 创建张量的方法 使用gpu 或mps。\n",
    "均匀分布"
   ]
  },
  {
   "cell_type": "code",
   "execution_count": 41,
   "id": "5dc52507-2eb0-4090-b6ad-6aa1bc504acc",
   "metadata": {},
   "outputs": [
    {
     "data": {
      "text/plain": [
       "tensor([[1, 2],\n",
       "        [3, 4]])"
      ]
     },
     "execution_count": 41,
     "metadata": {},
     "output_type": "execute_result"
    }
   ],
   "source": [
    "import torch\n",
    "data = torch.tensor([[1,2], [3, 4]])\n",
    "data"
   ]
  },
  {
   "cell_type": "code",
   "execution_count": 42,
   "id": "5410a00c-ecad-4bb3-93f0-79ccf5fbd2a5",
   "metadata": {},
   "outputs": [
    {
     "data": {
      "text/plain": [
       "tensor([[1, 2],\n",
       "        [3, 4]])"
      ]
     },
     "execution_count": 42,
     "metadata": {},
     "output_type": "execute_result"
    }
   ],
   "source": [
    "import numpy as np\n",
    "np_array = np.array([[1,2],[3,4]])\n",
    "data1 = torch.from_numpy(np_array)\n",
    "data1"
   ]
  },
  {
   "cell_type": "code",
   "execution_count": 43,
   "id": "b5c948bc-6c56-41b7-8e20-2fe889cc88c4",
   "metadata": {},
   "outputs": [
    {
     "name": "stdout",
     "output_type": "stream",
     "text": [
      "tensor([[0, 0],\n",
      "        [0, 0]])\n",
      "tensor([[0.9431, 0.2549],\n",
      "        [0.9116, 0.5841]])\n"
     ]
    }
   ],
   "source": [
    "# 通过已知张量创建新张量\n",
    "data2 = torch.zeros_like(data1)\n",
    "print(data2)\n",
    "# 生成随机张量\n",
    "data3 = torch.rand_like(data1, dtype=torch.float)\n",
    "print(data3)"
   ]
  },
  {
   "cell_type": "code",
   "execution_count": 44,
   "id": "facbd334-e08f-4bd6-a7b0-c4f77e328802",
   "metadata": {},
   "outputs": [
    {
     "data": {
      "text/plain": [
       "tensor([ 1.0000,  5.7500, 10.5000, 15.2500, 20.0000])"
      ]
     },
     "execution_count": 44,
     "metadata": {},
     "output_type": "execute_result"
    }
   ],
   "source": [
    "torch.rand(5, 2) # 均匀分布\n",
    "torch.randn(5, 2) # 标准正态分布\n",
    "torch.normal(mean=0.0, std=1.0, size=(5,3)) # 离散正态分布\n",
    "torch.linspace(1, 20, steps=5) "
   ]
  },
  {
   "cell_type": "code",
   "execution_count": 45,
   "id": "3af05ebc-8782-4777-8857-430455bc3995",
   "metadata": {},
   "outputs": [
    {
     "data": {
      "text/plain": [
       "device(type='cpu')"
      ]
     },
     "execution_count": 45,
     "metadata": {},
     "output_type": "execute_result"
    }
   ],
   "source": [
    "tensor = torch.rand(3,4)\n",
    "tensor.device"
   ]
  },
  {
   "cell_type": "code",
   "execution_count": 46,
   "id": "ac431fc7-f533-4efd-8897-5e507f164383",
   "metadata": {},
   "outputs": [
    {
     "name": "stdout",
     "output_type": "stream",
     "text": [
      "False\n"
     ]
    }
   ],
   "source": [
    "# 创建张量在gpu\n",
    "# 创建pytorch是否支持gpu\n",
    "print(torch.cuda.is_available())\n",
    "if torch.cuda.is_available():\n",
    "    device = torch.device(\"cuda\")\n",
    "    tensor = tensor.to(device)"
   ]
  },
  {
   "cell_type": "code",
   "execution_count": 47,
   "id": "b5dd709b-8307-49fa-9b40-b71f7e6d2671",
   "metadata": {},
   "outputs": [
    {
     "name": "stdout",
     "output_type": "stream",
     "text": [
      "使用gpu\n"
     ]
    },
    {
     "data": {
      "text/plain": [
       "tensor([[0.2814, 0.0726, 0.9790, 0.2276],\n",
       "        [0.0712, 0.4832, 0.7720, 0.1497],\n",
       "        [0.3349, 0.7383, 0.0603, 0.8123]], device='mps:0')"
      ]
     },
     "execution_count": 47,
     "metadata": {},
     "output_type": "execute_result"
    }
   ],
   "source": [
    "# mac 没有gpu， m系列芯片可以使用\n",
    "if torch.backends.mps.is_available():\n",
    "    print('使用gpu')\n",
    "    device = torch.device(\"mps\")\n",
    "    tensor = tensor.to(device)\n",
    "tensor"
   ]
  },
  {
   "cell_type": "markdown",
   "id": "487acdf7-2c54-4211-95f1-2c711823909b",
   "metadata": {},
   "source": [
    "## 张量的索引和切片\n",
    "numpy 中的切片方法 适用于tensor"
   ]
  },
  {
   "cell_type": "code",
   "execution_count": 48,
   "id": "5cf153b7-9f1c-422f-baaf-20988922c5bf",
   "metadata": {},
   "outputs": [
    {
     "name": "stdout",
     "output_type": "stream",
     "text": [
      "tensor([[1., 1., 1., 1.],\n",
      "        [1., 1., 1., 1.],\n",
      "        [1., 1., 1., 1.],\n",
      "        [1., 1., 1., 1.]])\n"
     ]
    },
    {
     "data": {
      "text/plain": [
       "device(type='cpu')"
      ]
     },
     "execution_count": 48,
     "metadata": {},
     "output_type": "execute_result"
    }
   ],
   "source": [
    "tensor = torch.ones(4, 4)\n",
    "print(tensor)\n",
    "tensor.device"
   ]
  },
  {
   "cell_type": "code",
   "execution_count": 49,
   "id": "2f5e28f7-ab7a-4ef1-997d-5a1f2ea48729",
   "metadata": {},
   "outputs": [
    {
     "name": "stdout",
     "output_type": "stream",
     "text": [
      "last column tensor([1., 1., 1., 1.])\n"
     ]
    }
   ],
   "source": [
    "print('last column', tensor[..., -1])"
   ]
  },
  {
   "cell_type": "markdown",
   "id": "2c41fe3d-7eb9-49ac-8b8a-b61b0b2af09a",
   "metadata": {},
   "source": [
    "## 张量的拼接"
   ]
  },
  {
   "cell_type": "code",
   "execution_count": 50,
   "id": "4bdef6c3-1646-4c5a-ae9c-b251c3af3875",
   "metadata": {},
   "outputs": [
    {
     "data": {
      "text/plain": [
       "torch.Size([4, 12])"
      ]
     },
     "execution_count": 50,
     "metadata": {},
     "output_type": "execute_result"
    }
   ],
   "source": [
    "tc = torch.cat([tensor, tensor, tensor], dim=1) # 拼接列\n",
    "tc.shape"
   ]
  },
  {
   "cell_type": "code",
   "execution_count": 51,
   "id": "77a6019e-f329-4119-a1f7-b936e5e4e1fc",
   "metadata": {},
   "outputs": [
    {
     "data": {
      "text/plain": [
       "torch.Size([12, 4])"
      ]
     },
     "execution_count": 51,
     "metadata": {},
     "output_type": "execute_result"
    }
   ],
   "source": [
    "tc = torch.cat([tensor, tensor, tensor], dim=0) # 拼接行\n",
    "tc.shape"
   ]
  },
  {
   "cell_type": "markdown",
   "id": "57a48c3d-fef3-40de-a67d-bdbf9324ad06",
   "metadata": {},
   "source": [
    "## 张量的运算"
   ]
  },
  {
   "cell_type": "code",
   "execution_count": 52,
   "id": "968c7e48-473a-4519-8de8-87e9fdd3bc4f",
   "metadata": {},
   "outputs": [
    {
     "name": "stdout",
     "output_type": "stream",
     "text": [
      "tensor([[ 14.,  32.,  50.],\n",
      "        [ 32.,  77., 122.],\n",
      "        [ 50., 122., 194.]])\n",
      "tensor([[ 14.,  32.,  50.],\n",
      "        [ 32.,  77., 122.],\n",
      "        [ 50., 122., 194.]])\n",
      "tensor([[ 14.,  32.,  50.],\n",
      "        [ 32.,  77., 122.],\n",
      "        [ 50., 122., 194.]])\n"
     ]
    }
   ],
   "source": [
    "# 点积运算\n",
    "tensor = torch.arange(1, 10, dtype=torch.float32).reshape(3,3)\n",
    "y1 = tensor @ tensor.T\n",
    "y2 = tensor.matmul(tensor.T)\n",
    "y3 = torch.rand_like(tensor)\n",
    "torch.matmul(tensor, tensor.T, out=y3) # 输出到y3\n",
    "print(y1)\n",
    "print(y2)\n",
    "print(y3)"
   ]
  },
  {
   "cell_type": "code",
   "execution_count": 53,
   "id": "2a69bfe7-a5ca-499a-b8f2-e7b3c6b6301f",
   "metadata": {},
   "outputs": [
    {
     "data": {
      "text/plain": [
       "tensor(45.)"
      ]
     },
     "execution_count": 53,
     "metadata": {},
     "output_type": "execute_result"
    }
   ],
   "source": [
    "# 求和\n",
    "agg = tensor.sum()\n",
    "agg"
   ]
  },
  {
   "cell_type": "markdown",
   "id": "c4f3a113-55b9-43fa-8fb6-a5d870df69bc",
   "metadata": {},
   "source": [
    "## 张量数据转换为python或numpy类型"
   ]
  },
  {
   "cell_type": "code",
   "execution_count": 54,
   "id": "daa0151d-c385-42ae-829a-9442df05a2a2",
   "metadata": {},
   "outputs": [
    {
     "data": {
      "text/plain": [
       "45.0"
      ]
     },
     "execution_count": 54,
     "metadata": {},
     "output_type": "execute_result"
    }
   ],
   "source": [
    "# 取出python基本类型, 单一结果\n",
    "agg.item()"
   ]
  },
  {
   "cell_type": "code",
   "execution_count": 55,
   "id": "54fde8be-2f68-4eab-bcac-dcce44d238ef",
   "metadata": {},
   "outputs": [
    {
     "data": {
      "text/plain": [
       "array([[1., 2., 3.],\n",
       "       [4., 5., 6.],\n",
       "       [7., 8., 9.]], dtype=float32)"
      ]
     },
     "execution_count": 55,
     "metadata": {},
     "output_type": "execute_result"
    }
   ],
   "source": [
    "# 高维数据转换为numpy\n",
    "tensor.numpy()"
   ]
  },
  {
   "cell_type": "markdown",
   "id": "031e9ba8-8b10-4b0c-883e-21ca7317cc23",
   "metadata": {},
   "source": [
    "## 修改张量的值"
   ]
  },
  {
   "cell_type": "code",
   "execution_count": 56,
   "id": "0b4839bd-f3c0-4212-aa7d-4c414c63c869",
   "metadata": {},
   "outputs": [
    {
     "data": {
      "text/plain": [
       "tensor([[ 6.,  7.,  8.],\n",
       "        [ 9., 10., 11.],\n",
       "        [12., 13., 14.]])"
      ]
     },
     "execution_count": 56,
     "metadata": {},
     "output_type": "execute_result"
    }
   ],
   "source": [
    "# 修改张量本身\n",
    "tensor.add_(5)"
   ]
  },
  {
   "cell_type": "code",
   "execution_count": 57,
   "id": "5df624d9-57e3-403f-9a55-1e86bb422752",
   "metadata": {},
   "outputs": [],
   "source": [
    "tensor += 5 \n",
    "# add_ 速度要快于 外部运算 + 赋值， 但一般不推荐直接修改，会混淆计算流程"
   ]
  },
  {
   "cell_type": "markdown",
   "id": "43282c26-2f33-43ef-89e8-0d870e932de0",
   "metadata": {},
   "source": [
    "# 计算图  \n",
    "所有的深度学习框架都依赖于计算图来完成梯度下降、优化梯度值等计算。  \n",
    "计算图创建和应用，包括两部分\n",
    "1. 用户构建前向传播图\n",
    "2. 框架处理后向传播（梯度更新）\n",
    "3. pythorch和tensorflow都使用计算图来完成工作\n",
    "4. tensorflow1.x 使用静态计算图， tensorflow2.x和pytorch 使用静态计算图  \n",
    "静态计算图：\n",
    "1. 讲\n",
    "2. 讲   \n",
    "动态计算图：\n",
    "1. 讲\n",
    "2. 讲"
   ]
  },
  {
   "cell_type": "code",
   "execution_count": 1,
   "id": "f4a7cac9-59b1-4e83-9772-ce4589582cef",
   "metadata": {},
   "outputs": [
    {
     "data": {
      "text/plain": [
       "'cal.png'"
      ]
     },
     "execution_count": 1,
     "metadata": {},
     "output_type": "execute_result"
    }
   ],
   "source": [
    "# make_dot 生成计算结果图，传入变量，使用matplotlib显示\n",
    "import torch\n",
    "from torchviz import make_dot\n",
    "# 计算 x^T * A + b * x + c\n",
    "x = torch.rand((10, 10), requires_grad=True) # 求导\n",
    "a = torch.rand(10, requires_grad=True)\n",
    "b = torch.rand(1, requires_grad=True)\n",
    "c = torch.rand(10, requires_grad=True)\n",
    "result = x.T * a + b * x + c\n",
    "dot = make_dot(result, params={'x': x, 'a': a, 'b': b, 'c': c})\n",
    "dot.render('cal', format='png', cleanup=True, view=False)"
   ]
  },
  {
   "cell_type": "code",
   "execution_count": 2,
   "id": "fc156d44-714d-4b03-9b03-a8433df64f8d",
   "metadata": {},
   "outputs": [
    {
     "data": {
      "image/png": "[encoded data removed]",
      "text/plain": [
       "<Figure size 640x480 with 1 Axes>"
      ]
     },
     "metadata": {},
     "output_type": "display_data"
    }
   ],
   "source": [
    "import matplotlib.pyplot as plt\n",
    "import matplotlib.image as mpimg\n",
    "\n",
    "img = mpimg.imread('cal.png')\n",
    "plt.imshow(img)\n",
    "plt.axis('off')\n",
    "plt.show()"
   ]
  },
  {
   "cell_type": "code",
   "execution_count": null,
   "id": "d6ee435e-1188-4f84-8d53-1e5f01d269e6",
   "metadata": {},
   "outputs": [],
   "source": []
  },
  {
   "cell_type": "code",
   "execution_count": null,
   "id": "761d850d-7fac-40e9-b9ed-c22c1b77c4f5",
   "metadata": {},
   "outputs": [],
   "source": []
  }
 ],
 "metadata": {
  "kernelspec": {
   "display_name": "Python 3 (ipykernel)",
   "language": "python",
   "name": "python3"
  },
  "language_info": {
   "codemirror_mode": {
    "name": "ipython",
    "version": 3
   },
   "file_extension": ".py",
   "mimetype": "text/x-python",
   "name": "python",
   "nbconvert_exporter": "python",
   "pygments_lexer": "ipython3",
   "version": "3.10.16"
  }
 },
 "nbformat": 4,
 "nbformat_minor": 5
}
