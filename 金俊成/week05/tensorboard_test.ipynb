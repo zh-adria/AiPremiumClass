{
 "cells": [
  {
   "cell_type": "code",
   "execution_count": 2,
   "metadata": {},
   "outputs": [],
   "source": [
    "import torch\n",
    "from torch.utils.tensorboard import SummaryWriter\n",
    "\n",
    "# 创建SummaryWriter对象，指定日志目录\n",
    "writer = SummaryWriter('runs/mnist_experiment_1')\n",
    "\n",
    "# 假设你有一个训练循环，这里简单模拟\n",
    "for epoch in range(100):\n",
    "    train_loss = 0.1 * epoch  # 模拟训练损失\n",
    "    writer.add_scalar('Training Loss', train_loss, epoch)\n",
    "\n",
    "writer.close()"
   ]
  },
  {
   "cell_type": "code",
   "execution_count": 3,
   "metadata": {},
   "outputs": [],
   "source": [
    "import torch\n",
    "from torchvision.utils import make_grid\n",
    "from torch.utils.tensorboard import SummaryWriter\n",
    "import numpy as np\n",
    "\n",
    "# 创建SummaryWriter对象\n",
    "writer = SummaryWriter('runs/image_experiment')\n",
    "\n",
    "# 生成一些随机图像数据（模拟）\n",
    "images = torch.randn(32, 3, 224, 224)  # 32张RGB图像，大小为224x224\n",
    "img_grid = make_grid(images, nrow = 8)\n",
    "writer.add_image('Random Images', img_grid)\n",
    "\n",
    "writer.close()"
   ]
  },
  {
   "cell_type": "code",
   "execution_count": 4,
   "metadata": {},
   "outputs": [],
   "source": [
    "import torch\n",
    "import torch.nn as nn\n",
    "from torch.utils.tensorboard import SummaryWriter\n",
    "\n",
    "class SimpleNet(nn.Module):\n",
    "    def __init__(self):\n",
    "        super(SimpleNet, self).__init__()\n",
    "        self.fc1 = nn.Linear(10, 64)\n",
    "        self.relu = nn.ReLU()\n",
    "        self.fc2 = nn.Linear(64, 1)\n",
    "\n",
    "    def forward(self, x):\n",
    "        out = self.fc1(x)\n",
    "        out = self.relu(out)\n",
    "        out = self.fc2(out)\n",
    "        return out\n",
    "\n",
    "# 创建SummaryWriter对象\n",
    "writer = SummaryWriter('runs/model_experiment')\n",
    "\n",
    "model = SimpleNet()\n",
    "x = torch.randn(1, 10)\n",
    "writer.add_graph(model, x)\n",
    "\n",
    "writer.close()"
   ]
  },
  {
   "cell_type": "code",
   "execution_count": null,
   "metadata": {},
   "outputs": [],
   "source": [
    "import nltk\n",
    "nltk.download('stopwords')"
   ]
  }
 ],
 "metadata": {
  "kernelspec": {
   "display_name": "ai",
   "language": "python",
   "name": "python3"
  },
  "language_info": {
   "codemirror_mode": {
    "name": "ipython",
    "version": 3
   },
   "file_extension": ".py",
   "mimetype": "text/x-python",
   "name": "python",
   "nbconvert_exporter": "python",
   "pygments_lexer": "ipython3",
   "version": "3.12.7"
  }
 },
 "nbformat": 4,
 "nbformat_minor": 2
}
