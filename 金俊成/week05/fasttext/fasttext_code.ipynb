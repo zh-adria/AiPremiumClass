{
 "cells": [
  {
   "cell_type": "code",
   "execution_count": 17,
   "metadata": {},
   "outputs": [],
   "source": [
    "import fasttext\n",
    "import numpy as np\n",
    "current_path = 'D:\\\\work\\\\project\\\\ai-learn\\\\week04\\\\fasttext'"
   ]
  },
  {
   "cell_type": "code",
   "execution_count": null,
   "metadata": {},
   "outputs": [],
   "source": [
    "# 数据拆分成训练集和测试集\n",
    "with open(f'{current_path}\\\\cooking.stackexchange.txt', 'r', encoding='utf-8') as f:\n",
    "    lines = f.readlines()\n",
    "    np.random.shuffle(lines)\n",
    "    train_lines = lines[:int(len(lines) * 0.8)]\n",
    "    test_lines = lines[int(len(lines) * 0.8):]\n",
    "    with open('week04\\\\fasttext\\\\cooking.stackexchange.train.txt', 'w', encoding='utf-8') as train_file:\n",
    "        train_file.writelines(train_lines)\n",
    "    with open('week04\\\\fasttext\\\\cooking.stackexchange.test.txt', 'w', encoding='utf-8') as test_file:\n",
    "        test_file.writelines(test_lines)"
   ]
  },
  {
   "cell_type": "code",
   "execution_count": null,
   "metadata": {},
   "outputs": [],
   "source": [
    "# fasttext 有监督学习。\n",
    "# 训练模型\n",
    "model = fasttext.train_supervised(f'{current_path}\\\\cooking.stackexchange.train.txt')\n",
    "model.save_model('D:\\\\work\\\\project\\\\ai-learn\\\\week04\\\\fasttext\\\\cooking.stackexchange.bin')"
   ]
  },
  {
   "cell_type": "code",
   "execution_count": 18,
   "metadata": {},
   "outputs": [
    {
     "name": "stdout",
     "output_type": "stream",
     "text": [
      "(('__label__baking',), array([0.07192454]))\n",
      "(('__label__baking',), array([0.07066216]))\n"
     ]
    }
   ],
   "source": [
    "model = fasttext.load_model(f'{current_path}\\\\cooking.stackexchange.bin')\n",
    "print(model.predict(\"Which baking dish is best to bake a banana bread ?\"))\n",
    "print(model.predict(\"Why not put knives in the dishwasher?\"))"
   ]
  },
  {
   "cell_type": "code",
   "execution_count": 19,
   "metadata": {},
   "outputs": [
    {
     "name": "stdout",
     "output_type": "stream",
     "text": [
      "(3080, 0.12402597402597403, 0.05416134978023536)\n"
     ]
    }
   ],
   "source": [
    "# 模型测试\n",
    "print(model.test(f'{current_path}\\\\cooking.stackexchange.test.txt'))"
   ]
  },
  {
   "cell_type": "code",
   "execution_count": 21,
   "metadata": {},
   "outputs": [
    {
     "name": "stdout",
     "output_type": "stream",
     "text": [
      "(3080, 0.06435064935064935, 0.140507585424642)\n"
     ]
    }
   ],
   "source": [
    "# 计算5的精度和5的召回率\n",
    "print(model.test(f'{current_path}\\\\cooking.stackexchange.test.txt',k=5))"
   ]
  },
  {
   "cell_type": "code",
   "execution_count": null,
   "metadata": {},
   "outputs": [
    {
     "name": "stdout",
     "output_type": "stream",
     "text": [
      "(('__label__baking', '__label__food-safety', '__label__equipment', '__label__bread', '__label__substitutions'), array([0.07066216, 0.05828019, 0.03648657, 0.03531748, 0.03146826]))\n"
     ]
    }
   ],
   "source": [
    "# 精度是fastText预测的标签中正确标签的数量。召回是所有真实标签中成功预测的标签数量。\n",
    "print(model.predict(\"Why not put knives in the dishwasher?\", k=5))"
   ]
  },
  {
   "cell_type": "code",
   "execution_count": 25,
   "metadata": {},
   "outputs": [
    {
     "name": "stdout",
     "output_type": "stream",
     "text": [
      "(3080, 0.10714285714285714, 0.04678860059549128)\n"
     ]
    }
   ],
   "source": [
    "# 可以看出精度和召回率都很糟糕\n",
    "# 重新训练模型\n",
    "model = fasttext.train_supervised(f'{current_path}\\\\cooking.stackexchange.train.txt', lr=0.02, epoch=25, wordNgrams=2, bucket=200000, dim=50, loss='hs')\n",
    "print(model.test(f'{current_path}\\\\cooking.stackexchange.test.txt'))\n",
    "# model.save_model(f'{current_path}\\\\cooking.stackexchange_pref.bin')"
   ]
  }
 ],
 "metadata": {
  "kernelspec": {
   "display_name": "ai",
   "language": "python",
   "name": "python3"
  },
  "language_info": {
   "codemirror_mode": {
    "name": "ipython",
    "version": 3
   },
   "file_extension": ".py",
   "mimetype": "text/x-python",
   "name": "python",
   "nbconvert_exporter": "python",
   "pygments_lexer": "ipython3",
   "version": "3.12.7"
  }
 },
 "nbformat": 4,
 "nbformat_minor": 2
}
