{
 "cells": [
  {
   "cell_type": "markdown",
   "metadata": {},
   "source": [
    "#### pytorch fashionmnist数据集 神经网络搭建和训练"
   ]
  },
  {
   "cell_type": "code",
   "execution_count": 22,
   "metadata": {},
   "outputs": [],
   "source": [
    "# 导入必要包\n",
    "import torch\n",
    "import torch.nn as nn\n",
    "import torch.optim as optim\n",
    "from torchvision.transforms.v2 import ToTensor     # 转换图像数据为张量\n",
    "from torchvision.datasets import FashionMNIST\n",
    "from torch.utils.data import DataLoader  # 数据加载器"
   ]
  },
  {
   "cell_type": "code",
   "execution_count": 23,
   "metadata": {},
   "outputs": [],
   "source": [
    "# 定义超参数\n",
    "LR = 1e-3\n",
    "epochs = 20\n",
    "BATCH_SIZE = 128"
   ]
  },
  {
   "cell_type": "code",
   "execution_count": 24,
   "metadata": {},
   "outputs": [
    {
     "name": "stderr",
     "output_type": "stream",
     "text": [
      "/opt/conda/lib/python3.11/site-packages/torchvision/transforms/v2/_deprecated.py:42: UserWarning: The transform `ToTensor()` is deprecated and will be removed in a future release. Instead, please use `v2.Compose([v2.ToImage(), v2.ToDtype(torch.float32, scale=True)])`.Output is equivalent up to float precision.\n",
      "  warnings.warn(\n"
     ]
    }
   ],
   "source": [
    "# 数据集加载\n",
    "train_data = FashionMNIST(root='./fashion_data', train=True, download=True, \n",
    "                          transform=ToTensor())\n",
    "test_data = FashionMNIST(root='./fashion_data', train=False, download=True,\n",
    "                         transform=ToTensor())\n"
   ]
  },
  {
   "cell_type": "code",
   "execution_count": 25,
   "metadata": {},
   "outputs": [],
   "source": [
    "trian_dl = DataLoader(train_data, batch_size=BATCH_SIZE, shuffle=True)  # shuffle=True表示打乱数据"
   ]
  },
  {
   "cell_type": "code",
   "execution_count": 26,
   "metadata": {},
   "outputs": [],
   "source": [
    "# 定义模型\n",
    "model = nn.Sequential(\n",
    "    nn.Linear(784, 64),\n",
    "    nn.Sigmoid(),\n",
    "    nn.Linear(64, 10)\n",
    ")"
   ]
  },
  {
   "cell_type": "code",
   "execution_count": 27,
   "metadata": {},
   "outputs": [],
   "source": [
    "# 损失函数&优化器\n",
    "loss_fn = nn.CrossEntropyLoss()  # 交叉熵损失函数\n",
    "# 优化器（模型参数更新）\n",
    "optimizer = torch.optim.SGD(model.parameters(), lr=LR)"
   ]
  },
  {
   "cell_type": "code",
   "execution_count": 29,
   "metadata": {},
   "outputs": [
    {
     "name": "stdout",
     "output_type": "stream",
     "text": [
      "Epoch:0 Loss: 2.269573450088501\n",
      "Epoch:1 Loss: 2.244809150695801\n",
      "Epoch:2 Loss: 2.211984157562256\n",
      "Epoch:3 Loss: 2.1978859901428223\n",
      "Epoch:4 Loss: 2.1569948196411133\n",
      "Epoch:5 Loss: 2.1199023723602295\n",
      "Epoch:6 Loss: 2.0961055755615234\n",
      "Epoch:7 Loss: 2.056011199951172\n",
      "Epoch:8 Loss: 2.01623272895813\n",
      "Epoch:9 Loss: 1.9924432039260864\n",
      "Epoch:10 Loss: 1.9541387557983398\n",
      "Epoch:11 Loss: 1.8707326650619507\n",
      "Epoch:12 Loss: 1.8370038270950317\n",
      "Epoch:13 Loss: 1.8445988893508911\n",
      "Epoch:14 Loss: 1.8046873807907104\n",
      "Epoch:15 Loss: 1.718758225440979\n",
      "Epoch:16 Loss: 1.7274638414382935\n",
      "Epoch:17 Loss: 1.648454189300537\n",
      "Epoch:18 Loss: 1.6306686401367188\n",
      "Epoch:19 Loss: 1.6002215147018433\n"
     ]
    }
   ],
   "source": [
    "for epoch in range(epochs):\n",
    "    # 提取训练数据\n",
    "    for data, target in trian_dl:\n",
    "        # 前向运算\n",
    "        output = model(data.reshape(-1, 784))\n",
    "        # 计算损失\n",
    "        loss = loss_fn(output, target)\n",
    "        # 反向传播\n",
    "        optimizer.zero_grad()  # 所有参数梯度清零\n",
    "        loss.backward()     # 计算梯度（参数.grad）\n",
    "        optimizer.step()    # 更新参数\n",
    "\n",
    "    print(f'Epoch:{epoch} Loss: {loss.item()}')"
   ]
  },
  {
   "cell_type": "code",
   "execution_count": null,
   "metadata": {},
   "outputs": [
    {
     "name": "stdout",
     "output_type": "stream",
     "text": [
      "Accuracy: 61.480000000000004%\n"
     ]
    }
   ],
   "source": [
    "# 测试\n",
    "test_dl = DataLoader(test_data, batch_size=BATCH_SIZE)\n",
    "\n",
    "correct = 0\n",
    "total = 0\n",
    "with torch.no_grad():  # 不计算梯度\n",
    "    for data, target in test_dl:\n",
    "        output = model(data.reshape(-1, 784))\n",
    "        _, predicted = torch.max(output, 1)  # 返回每行最大值和索引\n",
    "        total += target.size(0)  # size(0) 等效 shape[0]\n",
    "        correct += (predicted == target).sum().item()\n",
    "\n",
    "print(f'Accuracy: {correct/total*100}%')"
   ]
  },
  {
   "cell_type": "code",
   "execution_count": 37,
   "metadata": {},
   "outputs": [
    {
     "data": {
      "text/plain": [
       "torch.Size([16, 10])"
      ]
     },
     "execution_count": 37,
     "metadata": {},
     "output_type": "execute_result"
    }
   ],
   "source": [
    "output.shape"
   ]
  },
  {
   "cell_type": "code",
   "execution_count": 38,
   "metadata": {},
   "outputs": [
    {
     "data": {
      "text/plain": [
       "tensor([[ 0.7106,  0.8785, -0.1803,  1.0234,  0.0766, -0.4353,  0.3032, -0.8123,\n",
       "         -0.3382, -0.9447],\n",
       "        [ 0.2478,  0.2866,  0.1531,  0.3065,  0.2537, -0.3192,  0.2848, -0.4605,\n",
       "         -0.2112, -0.5077],\n",
       "        [-0.9912, -0.9169, -0.5881, -0.8673, -0.8319,  1.2307, -0.5986,  1.6067,\n",
       "          0.6698,  0.8221],\n",
       "        [-0.4897, -0.4990, -0.2623, -0.5509, -0.4960,  0.7915, -0.2614,  0.5336,\n",
       "          0.4207,  0.7446],\n",
       "        [-0.8052, -0.9985, -0.2462, -0.8899, -0.5261,  0.8487, -0.3545,  1.0531,\n",
       "          0.8594,  0.7138],\n",
       "        [ 0.3496,  0.0185,  0.6358,  0.1455,  0.6804, -0.7108,  0.5375, -0.9249,\n",
       "         -0.1498, -0.6098],\n",
       "        [-0.1780, -0.5339,  0.0127, -0.4437, -0.2375,  0.4187, -0.0231,  0.0425,\n",
       "          0.2355,  0.7069],\n",
       "        [ 0.3762,  0.0183,  0.4654,  0.0826,  0.4296, -0.5662,  0.4794, -0.7506,\n",
       "         -0.0687, -0.5219],\n",
       "        [-0.0352, -0.3220,  0.2027, -0.0063,  0.1437, -0.1635,  0.1686, -0.2900,\n",
       "          0.4962, -0.0548],\n",
       "        [-0.9556, -1.1706, -0.1664, -1.0562, -0.4931,  0.8852, -0.4701,  0.8500,\n",
       "          0.8268,  1.6667],\n",
       "        [ 0.6428,  1.5307, -0.1488,  1.0657,  0.1812, -0.4089,  0.2241, -0.7871,\n",
       "         -0.6901, -1.0303],\n",
       "        [-0.8903, -1.1272, -0.0590, -1.0670, -0.3966,  0.7851, -0.4126,  0.7652,\n",
       "          0.7616,  1.6245],\n",
       "        [ 0.4131,  0.9983, -0.1889,  0.7182,  0.0052, -0.0914,  0.1418, -0.4640,\n",
       "         -0.4873, -0.8316],\n",
       "        [ 0.4347,  0.2050, -0.2017,  0.5086, -0.1229, -0.0879,  0.1649, -0.5261,\n",
       "          0.1161, -0.4274],\n",
       "        [ 0.5988,  1.3791, -0.1633,  1.0494,  0.1381, -0.3502,  0.2105, -0.7489,\n",
       "         -0.6479, -0.9202],\n",
       "        [-0.6562, -0.5976, -0.3962, -0.5872, -0.5593,  0.8919, -0.3408,  0.9225,\n",
       "          0.4234,  0.5267]])"
      ]
     },
     "execution_count": 38,
     "metadata": {},
     "output_type": "execute_result"
    }
   ],
   "source": [
    "output"
   ]
  },
  {
   "cell_type": "code",
   "execution_count": 31,
   "metadata": {},
   "outputs": [
    {
     "data": {
      "text/plain": [
       "tensor([3, 3, 7, 5, 7, 4, 9, 6, 8, 9, 1, 9, 1, 3, 1, 7])"
      ]
     },
     "execution_count": 31,
     "metadata": {},
     "output_type": "execute_result"
    }
   ],
   "source": [
    "predicted"
   ]
  },
  {
   "cell_type": "code",
   "execution_count": 32,
   "metadata": {},
   "outputs": [
    {
     "data": {
      "text/plain": [
       "tensor([3, 2, 7, 5, 8, 4, 5, 6, 8, 9, 1, 9, 1, 8, 1, 5])"
      ]
     },
     "execution_count": 32,
     "metadata": {},
     "output_type": "execute_result"
    }
   ],
   "source": [
    "target"
   ]
  },
  {
   "cell_type": "code",
   "execution_count": 35,
   "metadata": {},
   "outputs": [
    {
     "data": {
      "text/plain": [
       "tensor(11)"
      ]
     },
     "execution_count": 35,
     "metadata": {},
     "output_type": "execute_result"
    }
   ],
   "source": [
    "(predicted == target).int().sum()"
   ]
  }
 ],
 "metadata": {
  "kernelspec": {
   "display_name": "base",
   "language": "python",
   "name": "python3"
  },
  "language_info": {
   "codemirror_mode": {
    "name": "ipython",
    "version": 3
   },
   "file_extension": ".py",
   "mimetype": "text/x-python",
   "name": "python",
   "nbconvert_exporter": "python",
   "pygments_lexer": "ipython3",
   "version": "3.11.10"
  }
 },
 "nbformat": 4,
 "nbformat_minor": 2
}
