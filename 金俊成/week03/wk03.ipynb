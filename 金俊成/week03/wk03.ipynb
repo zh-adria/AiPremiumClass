{
 "cells": [
  {
   "cell_type": "code",
   "execution_count": 44,
   "metadata": {},
   "outputs": [],
   "source": [
    "# 导入必要包\n",
    "import torch\n",
    "import torch.nn as nn\n",
    "from torchvision.transforms.v2 import ToTensor\n",
    "from torchvision.datasets import KMNIST\n",
    "from torch.utils.data import DataLoader\n",
    "from matplotlib import pyplot as plt"
   ]
  },
  {
   "cell_type": "code",
   "execution_count": 98,
   "metadata": {},
   "outputs": [],
   "source": [
    "# 定义超参数\n",
    "LR = 1e-2\n",
    "epochs = 20\n",
    "BATCH_SIZE = 64"
   ]
  },
  {
   "cell_type": "code",
   "execution_count": 93,
   "metadata": {},
   "outputs": [
    {
     "name": "stderr",
     "output_type": "stream",
     "text": [
      "d:\\ai_env\\conda\\envs\\ailearn\\Lib\\site-packages\\torchvision\\transforms\\v2\\_deprecated.py:42: UserWarning: The transform `ToTensor()` is deprecated and will be removed in a future release. Instead, please use `v2.Compose([v2.ToImage(), v2.ToDtype(torch.float32, scale=True)])`.Output is equivalent up to float precision.\n",
      "  warnings.warn(\n"
     ]
    },
    {
     "data": {
      "image/png": "[encoded data removed]",
      "text/plain": [
       "<Figure size 640x480 with 1 Axes>"
      ]
     },
     "metadata": {},
     "output_type": "display_data"
    }
   ],
   "source": [
    "# 数据集加载\n",
    "train_data = KMNIST(root='./km_data', train=True, download=True, \n",
    "                          transform=ToTensor())\n",
    "test_data = KMNIST(root='./km_data', train=False, download=True,\n",
    "                         transform=ToTensor())\n",
    "plt.imshow(train_data[30][0].squeeze(), cmap='gray')\n",
    "plt.draw()"
   ]
  },
  {
   "cell_type": "code",
   "execution_count": 94,
   "metadata": {},
   "outputs": [
    {
     "name": "stdout",
     "output_type": "stream",
     "text": [
      "shape of X: torch.Size([64, 1, 28, 28])\n",
      "shape of y: torch.Size([64])\n"
     ]
    }
   ],
   "source": [
    "train_dataloader = DataLoader(train_data,BATCH_SIZE,True)\n",
    "test_dataloader = DataLoader(test_data,BATCH_SIZE)\n",
    "\n",
    "for X,y in test_dataloader:\n",
    "    print('shape of X:',X.shape)\n",
    "    print('shape of y:',y.shape)\n",
    "    break\n"
   ]
  },
  {
   "cell_type": "code",
   "execution_count": 95,
   "metadata": {},
   "outputs": [],
   "source": [
    "# 定义模型\n",
    "model = nn.Sequential(\n",
    "    nn.Linear(784, 64),\n",
    "    nn.ReLU(),\n",
    "    nn.Linear(64, 64),  # 新增的隐藏层\n",
    "    nn.ReLU(),\n",
    "    nn.Linear(64, 10)\n",
    ")"
   ]
  },
  {
   "cell_type": "code",
   "execution_count": 99,
   "metadata": {},
   "outputs": [],
   "source": [
    "# 损失函数\n",
    "loss_fn = nn.CrossEntropyLoss()  # 交叉熵损失函数\n",
    "# 优化器（模型参数更新）\n",
    "optimizer = torch.optim.SGD(model.parameters(), lr=LR)\n"
   ]
  },
  {
   "cell_type": "code",
   "execution_count": 100,
   "metadata": {},
   "outputs": [
    {
     "name": "stdout",
     "output_type": "stream",
     "text": [
      "Epoch:0 Loss: 1.2544102668762207\n",
      "Epoch:1 Loss: 0.6675434708595276\n",
      "Epoch:2 Loss: 0.7972394227981567\n",
      "Epoch:3 Loss: 0.35439953207969666\n",
      "Epoch:4 Loss: 0.8466308116912842\n",
      "Epoch:5 Loss: 0.41604581475257874\n",
      "Epoch:6 Loss: 0.392765074968338\n",
      "Epoch:7 Loss: 0.4459601640701294\n",
      "Epoch:8 Loss: 0.3434971868991852\n",
      "Epoch:9 Loss: 0.3618815839290619\n",
      "Epoch:10 Loss: 0.20807042717933655\n",
      "Epoch:11 Loss: 0.345406711101532\n",
      "Epoch:12 Loss: 0.2941332757472992\n",
      "Epoch:13 Loss: 0.1918623149394989\n",
      "Epoch:14 Loss: 0.43923088908195496\n",
      "Epoch:15 Loss: 0.18948668241500854\n",
      "Epoch:16 Loss: 0.34960871934890747\n",
      "Epoch:17 Loss: 0.253868967294693\n",
      "Epoch:18 Loss: 0.16128341853618622\n",
      "Epoch:19 Loss: 0.0660320445895195\n"
     ]
    }
   ],
   "source": [
    "for epoch in range(epochs):\n",
    "    # 提取训练数据\n",
    "    for data, target in train_dataloader:\n",
    "        # 前向运算\n",
    "        output = model(data.reshape(-1, 784))\n",
    "        # 计算损失\n",
    "        loss = loss_fn(output, target)\n",
    "        # 反向传播\n",
    "        optimizer.zero_grad()  # 所有参数梯度清零\n",
    "        loss.backward()     # 计算梯度（参数.grad）\n",
    "        optimizer.step()    # 更新参数\n",
    "\n",
    "    print(f'Epoch:{epoch} Loss: {loss.item()}')"
   ]
  },
  {
   "cell_type": "code",
   "execution_count": 101,
   "metadata": {},
   "outputs": [
    {
     "name": "stdout",
     "output_type": "stream",
     "text": [
      "Accuracy: 81.49%\n"
     ]
    }
   ],
   "source": [
    "# 测试数据\n",
    "correct = 0\n",
    "total = 0\n",
    "with torch.no_grad():\n",
    "    for data, target in test_dataloader:\n",
    "        output = model(data.reshape(-1, 784))\n",
    "        _, predicted = torch.max(output, 1)\n",
    "        total += target.size(0)  # size(0) 等效 shape[0]\n",
    "        correct += (predicted == target).sum().item() # item() 返回一个标量\n",
    "print(f'Accuracy: {correct/total*100}%')\n"
   ]
  }
 ],
 "metadata": {
  "kernelspec": {
   "display_name": "ailearn",
   "language": "python",
   "name": "python3"
  },
  "language_info": {
   "codemirror_mode": {
    "name": "ipython",
    "version": 3
   },
   "file_extension": ".py",
   "mimetype": "text/x-python",
   "name": "python",
   "nbconvert_exporter": "python",
   "pygments_lexer": "ipython3",
   "version": "3.12.3"
  }
 },
 "nbformat": 4,
 "nbformat_minor": 2
}
