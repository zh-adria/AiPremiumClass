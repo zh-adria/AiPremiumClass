{
 "cells": [
  {
   "cell_type": "code",
   "execution_count": 3,
   "metadata": {},
   "outputs": [],
   "source": [
    "import torch.nn as nn\n",
    "class TorchNN(nn.Module):\n",
    "    # 初始化\n",
    "    def __init__(self):  # self 指代新创建模型对象\n",
    "        super().__init__()\n",
    "\n",
    "        self.linear1 = nn.Linear(4096, 512)\n",
    "        self.bn1 = nn.BatchNorm1d(512)\n",
    "        self.linear2 = nn.Linear(512, 512)\n",
    "        self.bn2 = nn.BatchNorm1d(512)\n",
    "        self.linear3 = nn.Linear(512, 40)\n",
    "        self.drop = nn.Dropout(p=0.5)\n",
    "        self.act = nn.ReLU()\n",
    "\n",
    "    # forward 前向运算 (nn.Module方法重写)\n",
    "    def forward(self, input_tensor):\n",
    "        out = self.linear1(input_tensor)\n",
    "        out = self.bn1(out)\n",
    "        out = self.act(out)\n",
    "        out = self.drop(out)\n",
    "        out = self.linear2(out)\n",
    "        out = self.bn2(out)\n",
    "        out = self.act(out)\n",
    "        out = self.drop(out)\n",
    "        final = self.linear3(out) # shape\n",
    "\n",
    "        return final"
   ]
  },
  {
   "cell_type": "code",
   "execution_count": 4,
   "metadata": {},
   "outputs": [],
   "source": [
    "# 导入脸谱数据集\n",
    "from sklearn.datasets import fetch_olivetti_faces"
   ]
  },
  {
   "cell_type": "code",
   "execution_count": 5,
   "metadata": {},
   "outputs": [
    {
     "name": "stdout",
     "output_type": "stream",
     "text": [
      "(400, 4096)\n",
      "(400,)\n",
      "(400, 64, 64)\n"
     ]
    }
   ],
   "source": [
    "# 查看数据集的形状\n",
    "olivetti_faces = fetch_olivetti_faces(data_home='./face_data', shuffle=True,download_if_missing=True)\n",
    "print(olivetti_faces.data.shape)\n",
    "print(olivetti_faces.target.shape)\n",
    "print(olivetti_faces.images.shape)"
   ]
  },
  {
   "cell_type": "code",
   "execution_count": 6,
   "metadata": {},
   "outputs": [],
   "source": [
    "import torch\n",
    "images = torch.tensor(olivetti_faces.data)\n",
    "targets = torch.tensor(olivetti_faces.target)\n",
    "\n",
    "dataset = [(img,lbl) for img,lbl in zip(images, targets)]"
   ]
  },
  {
   "cell_type": "code",
   "execution_count": 7,
   "metadata": {},
   "outputs": [],
   "source": [
    "# 定义超参数\n",
    "LR = 1e-3\n",
    "EPOCHS = 10\n",
    "BATCH_SIZE = 30"
   ]
  },
  {
   "cell_type": "code",
   "execution_count": 8,
   "metadata": {},
   "outputs": [],
   "source": [
    "from torch.utils.data import DataLoader\n",
    "from sklearn.model_selection import train_test_split\n",
    "X_train, X_test, y_train, y_test = train_test_split(images, targets, test_size=0.2)\n",
    "dataset = [(x, y) for x, y in zip(X_train, y_train)]\n",
    "trainloader = DataLoader(dataset, batch_size=BATCH_SIZE, shuffle=True)\n",
    "dataset_test  = [(x, y) for x, y in zip(X_test, y_test)]\n",
    "testloader = DataLoader(dataset_test, batch_size=BATCH_SIZE, shuffle=False)\n"
   ]
  },
  {
   "cell_type": "code",
   "execution_count": 9,
   "metadata": {},
   "outputs": [
    {
     "data": {
      "text/plain": [
       "TorchNN(\n",
       "  (linear1): Linear(in_features=4096, out_features=512, bias=True)\n",
       "  (bn1): BatchNorm1d(512, eps=1e-05, momentum=0.1, affine=True, track_running_stats=True)\n",
       "  (linear2): Linear(in_features=512, out_features=512, bias=True)\n",
       "  (bn2): BatchNorm1d(512, eps=1e-05, momentum=0.1, affine=True, track_running_stats=True)\n",
       "  (linear3): Linear(in_features=512, out_features=40, bias=True)\n",
       "  (drop): Dropout(p=0.5, inplace=False)\n",
       "  (act): ReLU()\n",
       ")"
      ]
     },
     "execution_count": 9,
     "metadata": {},
     "output_type": "execute_result"
    }
   ],
   "source": [
    "device = torch.device('cuda' if torch.cuda.is_available() else 'cpu')\n",
    "# 定义模型\n",
    "model = TorchNN()\n",
    "model.to(device)"
   ]
  },
  {
   "cell_type": "code",
   "execution_count": 10,
   "metadata": {},
   "outputs": [],
   "source": [
    "\n",
    "# 定义损失函数和优化器\n",
    "# 损失函数&优化器\n",
    "loss_fn = nn.CrossEntropyLoss()  # 交叉熵损失函数\n",
    "# 优化器（模型参数更新）\n",
    "optimizer = torch.optim.AdamW(model.parameters(), lr=LR)\n"
   ]
  },
  {
   "cell_type": "code",
   "execution_count": 11,
   "metadata": {},
   "outputs": [
    {
     "name": "stdout",
     "output_type": "stream",
     "text": [
      "epoch:0,loss:3.2854111194610596\n",
      "epoch:1,loss:2.469839334487915\n",
      "epoch:2,loss:1.9653621912002563\n",
      "epoch:3,loss:1.32163405418396\n",
      "epoch:4,loss:0.8133684992790222\n",
      "epoch:5,loss:0.9560845494270325\n",
      "epoch:6,loss:0.5510638952255249\n",
      "epoch:7,loss:0.5264376401901245\n",
      "epoch:8,loss:0.4456150531768799\n",
      "epoch:9,loss:0.21824237704277039\n"
     ]
    }
   ],
   "source": [
    "model.train()\n",
    "for epoch in range(EPOCHS):\n",
    "    for out, target in trainloader:\n",
    "        out = out.to(device)\n",
    "        target = target.to(device)\n",
    "        out = model(out)\n",
    "        loss = loss_fn(out,target)\n",
    "        optimizer.zero_grad()\n",
    "        loss.backward()\n",
    "        optimizer.step()\n",
    "    print(f'epoch:{epoch},loss:{loss.item()}')"
   ]
  },
  {
   "cell_type": "code",
   "execution_count": 12,
   "metadata": {},
   "outputs": [
    {
     "name": "stdout",
     "output_type": "stream",
     "text": [
      "Accuracy: 83.75%\n"
     ]
    }
   ],
   "source": [
    "# 测试数据的准确性\n",
    "\n",
    "model.eval()\n",
    "with torch.no_grad():\n",
    "    correct = 0\n",
    "    total = 0\n",
    "    for images, labels in testloader:\n",
    "        images = images.to(device)\n",
    "        labels = labels.to(device)\n",
    "        outputs = model(images)\n",
    "        _, predicted = torch.max(outputs.data, 1)\n",
    "        total += labels.size(0)\n",
    "        correct += (predicted == labels).sum().item()\n",
    "    print(f'Accuracy: {correct/total*100}%')"
   ]
  }
 ],
 "metadata": {
  "kernelspec": {
   "display_name": "llm-dev",
   "language": "python",
   "name": "python3"
  },
  "language_info": {
   "codemirror_mode": {
    "name": "ipython",
    "version": 3
   },
   "file_extension": ".py",
   "mimetype": "text/x-python",
   "name": "python",
   "nbconvert_exporter": "python",
   "pygments_lexer": "ipython3",
   "version": "3.13.2"
  }
 },
 "nbformat": 4,
 "nbformat_minor": 2
}
