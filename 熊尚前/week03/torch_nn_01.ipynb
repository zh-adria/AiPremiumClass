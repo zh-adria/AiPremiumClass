{
 "cells": [
  {
   "cell_type": "code",
   "execution_count": 183,
   "metadata": {},
   "outputs": [],
   "source": [
    "# 导入包\n",
    "import torch\n",
    "import torch.nn as nn\n",
    "from torchvision.datasets import KMNIST\n",
    "from torch.utils.data import DataLoader\n",
    "from torchvision.transforms import ToTensor\n"
   ]
  },
  {
   "cell_type": "code",
   "execution_count": 184,
   "metadata": {},
   "outputs": [],
   "source": [
    "# 定义超参数\n",
    "LR = 0.5 # 学习率\n",
    "BATCH_SIZE = 16 # 批大小\n",
    "EPOCHS = 15 # 训练轮数"
   ]
  },
  {
   "cell_type": "code",
   "execution_count": 185,
   "metadata": {},
   "outputs": [],
   "source": [
    "# 数据集加载\n",
    "train_data = KMNIST(root='./data', train=True, download=True, transform=ToTensor()) # 训练集\n",
    "test_data = KMNIST(root='./data', train=False, download=True, transform=ToTensor()) # 测试集\n",
    "train_dl = DataLoader(train_data, batch_size=BATCH_SIZE, shuffle=True) # 训练集加载器\n",
    "test_dl = DataLoader(test_data, batch_size=BATCH_SIZE, shuffle=False) # 测试集加载器"
   ]
  },
  {
   "cell_type": "code",
   "execution_count": 186,
   "metadata": {},
   "outputs": [],
   "source": [
    "# print(train_data[0][0])\n",
    "# print(train_data[0][1])\n",
    "# print(set(b for a, b in train_data))"
   ]
  },
  {
   "cell_type": "code",
   "execution_count": 187,
   "metadata": {},
   "outputs": [],
   "source": [
    "# 定义模型\n",
    "model = nn.Sequential(\n",
    "    nn.Linear(28*28, 128),\n",
    "    nn.Sigmoid(),\n",
    "    nn.Linear(128, 64),\n",
    "    nn.Sigmoid(),\n",
    "    nn.Linear(64, 10)\n",
    ")"
   ]
  },
  {
   "cell_type": "code",
   "execution_count": 188,
   "metadata": {},
   "outputs": [],
   "source": [
    "# 损失函数和优化器\n",
    "loss_fn = nn.CrossEntropyLoss()  # 交叉熵损失函数\n",
    "optimizer = torch.optim.SGD(model.parameters(), lr=LR)  # 梯度下降优化器"
   ]
  },
  {
   "cell_type": "code",
   "execution_count": 189,
   "metadata": {},
   "outputs": [
    {
     "name": "stdout",
     "output_type": "stream",
     "text": [
      "Epoch 0, Loss: 0.5514621138572693\n",
      "Epoch 1, Loss: 0.3386995196342468\n",
      "Epoch 2, Loss: 0.22018533945083618\n",
      "Epoch 3, Loss: 0.2274157702922821\n",
      "Epoch 4, Loss: 0.18193528056144714\n",
      "Epoch 5, Loss: 0.06758689135313034\n",
      "Epoch 6, Loss: 0.21472486853599548\n",
      "Epoch 7, Loss: 0.08726271986961365\n",
      "Epoch 8, Loss: 0.05774590000510216\n",
      "Epoch 9, Loss: 0.30983322858810425\n",
      "Epoch 10, Loss: 0.026087703183293343\n",
      "Epoch 11, Loss: 0.002676398493349552\n",
      "Epoch 12, Loss: 0.003774170530959964\n",
      "Epoch 13, Loss: 0.0019305594032630324\n",
      "Epoch 14, Loss: 0.0005274285795167089\n"
     ]
    }
   ],
   "source": [
    "for epoch in range(EPOCHS): # 训练 epochs 轮\n",
    "    # 提取训练数据\n",
    "    for data, target in train_dl:\n",
    "        output = model(data.reshape(-1, 28*28)) # 前向传播，得到模型输出\n",
    "        loss = loss_fn(output, target) # 计算损失\n",
    "        optimizer.zero_grad() # 清空梯度\n",
    "        loss.backward() # 反向传播，计算梯度\n",
    "        optimizer.step() # 更新参数\n",
    "    print(f\"Epoch {epoch}, Loss: {loss.item()}\") # 打印损失"
   ]
  },
  {
   "cell_type": "code",
   "execution_count": 190,
   "metadata": {},
   "outputs": [
    {
     "name": "stdout",
     "output_type": "stream",
     "text": [
      "Accuracy: 89 %\n"
     ]
    }
   ],
   "source": [
    "# 测试训练成果\n",
    "correct = 0\n",
    "total = 0\n",
    "with torch.no_grad(): # 不计算梯度\n",
    "    for images, labels in test_dl:\n",
    "        outputs = model(images.reshape(-1, 28*28))\n",
    "        _, predicted = torch.max(outputs, 1)\n",
    "        total += labels.size(0) # 总样本数\n",
    "        correct += (predicted == labels).sum().item() # 正确样本数\n",
    "\n",
    "print(f'Accuracy: {100 * correct // total} %')"
   ]
  },
  {
   "cell_type": "markdown",
   "metadata": {},
   "source": [
    "|序号|学习率|迭代次数|数据集大小|隐藏层层数|神经元数量|损失值|训练时间|测试成功率|\n",
    "|--|--|--|--|--|--|--|--|--|\n",
    "|1|0.001|10|64|1|64|1.9732621908187866|54s|50%|\n",
    "|2|0.01|10|64|1|64|0.4932018518447876|55s|65%|\n",
    "|3|0.1|10|64|1|64|0.34229186177253723|54s|80%|\n",
    "|4|1|10|64|1|64|0.16985097527503967|54s|85%|\n",
    "|5|10|10|64|1|64|0.5860196948051453|54s|66%|\n",
    "|6|0.1|20|64|1|64|0.027062786743044853|1m56s|84%|\n",
    "|7|0.1|10|128|1|64|0.5023661255836487|60s|76%|\n",
    "|8|0.1|10|32|1|64|0.5465865731239319|60s|84%|\n",
    "|9|0.1|10|16|1|64|0.07451552897691727|1m12s|86%|\n",
    "|10|0.1|10|16|1|128|0.0568353570997715|1m12s|88%|\n",
    "|11|0.1|10|16|1|256|0.05454472452402115|1m15s|88%|\n",
    "|12|0.1|10|16|2|256+128|0.04783807322382927|1m20s|88%|\n",
    "|13|0.1|10|16|3|256+128+64|0.43541911244392395|1m24s|86%|\n",
    "|14|0.1|10|16|4|256+128+64+32|1.7396743297576904|1m45s|40%|\n",
    "|15|0.1|10|16|2|128+64|0.009450928308069706|1m17s|88%|\n",
    "|16|0.1|15|16|2|128+64|0.027340466156601906|1m54s|88%|\n",
    "|17|0.5|15|16|2|128+64|0.0005274285795167089|2m5s|89%|"
   ]
  }
 ],
 "metadata": {
  "kernelspec": {
   "display_name": "py312",
   "language": "python",
   "name": "python3"
  },
  "language_info": {
   "codemirror_mode": {
    "name": "ipython",
    "version": 3
   },
   "file_extension": ".py",
   "mimetype": "text/x-python",
   "name": "python",
   "nbconvert_exporter": "python",
   "pygments_lexer": "ipython3",
   "version": "3.12.9"
  }
 },
 "nbformat": 4,
 "nbformat_minor": 2
}
