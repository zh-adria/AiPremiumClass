{
 "cells": [
  {
   "cell_type": "code",
   "execution_count": 4,
   "metadata": {},
   "outputs": [
    {
     "name": "stdout",
     "output_type": "stream",
     "text": [
      "4769584\n",
      "['\\n', '《', '仙逆', '》', '\\n']\n"
     ]
    },
    {
     "data": {
      "text/plain": [
       "11884802"
      ]
     },
     "execution_count": 4,
     "metadata": {},
     "output_type": "execute_result"
    }
   ],
   "source": [
    "import jieba\n",
    "\n",
    "with open(\"xianni.txt\", \"r\", encoding=\"utf-8\") as f:\n",
    "    text = f.read()\n",
    "comment_words = jieba.lcut(text)\n",
    "\n",
    "print(len(comment_words))\n",
    "\n",
    "print(comment_words[0:5])\n",
    "\n",
    "wr =  open(\"xianni_split.txt\",\"w\",encoding=\"utf-8\")\n",
    "wr.write(\" \".join(comment_words))"
   ]
  },
  {
   "cell_type": "code",
   "execution_count": 6,
   "metadata": {},
   "outputs": [],
   "source": [
    "import fasttext\n",
    "\n",
    "model = fasttext.train_unsupervised('xianni_split.txt',model=\"cbow\",lr=0.01)"
   ]
  },
  {
   "cell_type": "code",
   "execution_count": 8,
   "metadata": {},
   "outputs": [
    {
     "name": "stdout",
     "output_type": "stream",
     "text": [
      "21462\n"
     ]
    }
   ],
   "source": [
    "print(len(model.words))\n",
    "\n",
    "model.get_nearest_neighbors(\"铁柱\")\n",
    "\n",
    "\n",
    "model.save_model(\"xianni.bin\")\n",
    "\n",
    "model = fasttext.load_model(\"xianni.bin\")"
   ]
  }
 ],
 "metadata": {
  "kernelspec": {
   "display_name": "py311",
   "language": "python",
   "name": "python3"
  },
  "language_info": {
   "codemirror_mode": {
    "name": "ipython",
    "version": 3
   },
   "file_extension": ".py",
   "mimetype": "text/x-python",
   "name": "python",
   "nbconvert_exporter": "python",
   "pygments_lexer": "ipython3",
   "version": "3.11.11"
  }
 },
 "nbformat": 4,
 "nbformat_minor": 2
}
