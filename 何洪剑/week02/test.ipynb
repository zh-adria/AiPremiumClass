{
 "cells": [
  {
   "cell_type": "code",
   "execution_count": null,
   "metadata": {},
   "outputs": [],
   "source": [
    "import numpy as np\n",
    "from sklearn.datasets import load_iris\n",
    "from sklearn.model_selection import train_test_split\n",
    "import numpy as np\n",
    "import matplotlib.pyplot as plt\n",
    "import pickle\n",
    "\n",
    "\n",
    "# 加载模型文件\n",
    "def load_model(filepath):\n",
    "    with open(filepath, 'rb') as f:\n",
    "        model_data = pickle.load(f)\n",
    "    return model_data\n",
    "\n",
    "# 模型计算函数\n",
    "def forward(X, theta, bias):\n",
    "    # 线性运算\n",
    "    z = np.dot(theta, X.T) + bias\n",
    "    # sigmoid\n",
    "    y_hat = 1 / (1 + np.exp(-z))\n",
    "    return y_hat\n",
    "\n",
    "\n",
    "# 模型推理\n",
    "def predict(X, theta, bias):\n",
    "    return forward(X, theta, bias)"
   ]
  },
  {
   "cell_type": "code",
   "execution_count": 9,
   "metadata": {},
   "outputs": [
    {
     "name": "stdout",
     "output_type": "stream",
     "text": [
      "[[0. 0. 0. 0. 0. 0. 1. 0. 1. 0. 0. 0. 1. 0. 1. 1. 1. 1. 0. 1.]]\n",
      "[0 0 0 0 0 0 1 0 1 0 0 0 1 0 1 1 1 1 0 1]\n",
      "Test Accuracy: 1.0000\n"
     ]
    }
   ],
   "source": [
    "# 测试\n",
    "# 加载数据集\n",
    "test_data = np.load('test_data.npz')\n",
    "X_test = test_data['X_test']\n",
    "y_test = test_data['y_test']\n",
    "\n",
    "# 加载模型\n",
    "loaded_model = load_model('my_model.pkl')\n",
    "theta = loaded_model['theta']\n",
    "bias = loaded_model['bias']\n",
    "\n",
    "# 进行预测\n",
    "y_pred = predict(X_test, theta, bias)\n",
    "\n",
    "print(np.round(y_pred))\n",
    "print(y_test)\n",
    "\n",
    "# 评估准确率\n",
    "test_acc = np.mean(np.round(y_pred) == y_test)\n",
    "print(f\"Test Accuracy: {test_acc:.4f}\")\n"
   ]
  }
 ],
 "metadata": {
  "kernelspec": {
   "display_name": "py312",
   "language": "python",
   "name": "python3"
  },
  "language_info": {
   "codemirror_mode": {
    "name": "ipython",
    "version": 3
   },
   "file_extension": ".py",
   "mimetype": "text/x-python",
   "name": "python",
   "nbconvert_exporter": "python",
   "pygments_lexer": "ipython3",
   "version": "3.12.8"
  }
 },
 "nbformat": 4,
 "nbformat_minor": 2
}
