{
 "cells": [
  {
   "cell_type": "code",
   "execution_count": 10,
   "metadata": {},
   "outputs": [],
   "source": [
    "import torch\n",
    "import torch.nn as nn\n",
    "from torchvision.datasets import FashionMNIST\n",
    "from torchvision.transforms import ToTensor\n",
    "from torch.utils.data import DataLoader"
   ]
  },
  {
   "cell_type": "code",
   "execution_count": 11,
   "metadata": {},
   "outputs": [],
   "source": [
    "# 超参数\n",
    "LR = 1e-3\n",
    "BATCH_SIZE = 128\n",
    "epochs = 100"
   ]
  },
  {
   "cell_type": "code",
   "execution_count": 17,
   "metadata": {},
   "outputs": [],
   "source": [
    "# 模型定义\n",
    "model = nn.Sequential(\n",
    "    nn.Linear(784, 64),\n",
    "    nn.Sigmoid(),\n",
    "    nn.Linear(64, 64),\n",
    "    nn.Sigmoid(),\n",
    "    nn.Linear(64,10)\n",
    ")\n",
    "\n",
    "def train_model(LR, BATCH_SIZE, epochs):\n",
    "    # 损失函数\n",
    "    loss_fn = nn.CrossEntropyLoss()\n",
    "    # 优化器（模型参数更新）\n",
    "    optimizer = torch.optim.SGD(model.parameters(), lr=LR)\n",
    "\n",
    "    # 模型训练\n",
    "    for epoch in range(epochs):\n",
    "        # 提取训练数据\n",
    "        for data, target in train_dl:\n",
    "            data = torch.tensor(data.reshape(-1, 784))\n",
    "            target = torch.tensor(target)\n",
    "            # 前向运算\n",
    "            output = model(data)\n",
    "            # 计算损失\n",
    "            loss = loss_fn(output, target)\n",
    "            # 反向传播\n",
    "            optimizer.zero_grad() # 所有参数梯度清零\n",
    "            loss.backward() # 计算梯度，保存到.grad\n",
    "            optimizer.step() # 更新参数\n",
    "            \n",
    "        print(f'Epoch {epoch}, Loss {loss.item()}')\n",
    "    return model"
   ]
  },
  {
   "cell_type": "code",
   "execution_count": 18,
   "metadata": {},
   "outputs": [
    {
     "name": "stderr",
     "output_type": "stream",
     "text": [
      "C:\\Users\\lisheng\\AppData\\Local\\Temp\\ipykernel_30340\\3451960664.py:20: UserWarning: To copy construct from a tensor, it is recommended to use sourceTensor.clone().detach() or sourceTensor.clone().detach().requires_grad_(True), rather than torch.tensor(sourceTensor).\n",
      "  data = torch.tensor(data.reshape(-1, 784))\n",
      "C:\\Users\\lisheng\\AppData\\Local\\Temp\\ipykernel_30340\\3451960664.py:21: UserWarning: To copy construct from a tensor, it is recommended to use sourceTensor.clone().detach() or sourceTensor.clone().detach().requires_grad_(True), rather than torch.tensor(sourceTensor).\n",
      "  target = torch.tensor(target)\n"
     ]
    },
    {
     "name": "stdout",
     "output_type": "stream",
     "text": [
      "Epoch 0, Loss 2.3022327423095703\n",
      "Epoch 1, Loss 2.303809642791748\n",
      "Epoch 2, Loss 2.3018970489501953\n",
      "Epoch 3, Loss 2.302037477493286\n",
      "Epoch 4, Loss 2.3002755641937256\n",
      "Epoch 5, Loss 2.3000972270965576\n",
      "Epoch 6, Loss 2.2999813556671143\n",
      "Epoch 7, Loss 2.3003299236297607\n",
      "Epoch 8, Loss 2.299367666244507\n",
      "Epoch 9, Loss 2.2985312938690186\n",
      "Epoch 10, Loss 2.2974421977996826\n",
      "Epoch 11, Loss 2.296915054321289\n",
      "Epoch 12, Loss 2.296386480331421\n",
      "Epoch 13, Loss 2.2952585220336914\n",
      "Epoch 14, Loss 2.2948856353759766\n",
      "Epoch 15, Loss 2.2940196990966797\n",
      "Epoch 16, Loss 2.293818235397339\n",
      "Epoch 17, Loss 2.2915894985198975\n",
      "Epoch 18, Loss 2.2919161319732666\n",
      "Epoch 19, Loss 2.2910854816436768\n",
      "Epoch 20, Loss 2.2897307872772217\n",
      "Epoch 21, Loss 2.288093328475952\n",
      "Epoch 22, Loss 2.2892887592315674\n",
      "Epoch 23, Loss 2.288219690322876\n",
      "Epoch 24, Loss 2.2872653007507324\n",
      "Epoch 25, Loss 2.285207986831665\n",
      "Epoch 26, Loss 2.284623384475708\n",
      "Epoch 27, Loss 2.284162998199463\n",
      "Epoch 28, Loss 2.2845077514648438\n",
      "Epoch 29, Loss 2.281067132949829\n",
      "Epoch 30, Loss 2.281987190246582\n",
      "Epoch 31, Loss 2.2834463119506836\n",
      "Epoch 32, Loss 2.2772860527038574\n",
      "Epoch 33, Loss 2.2759268283843994\n",
      "Epoch 34, Loss 2.2792866230010986\n",
      "Epoch 35, Loss 2.2719616889953613\n",
      "Epoch 36, Loss 2.27056622505188\n",
      "Epoch 37, Loss 2.2690036296844482\n",
      "Epoch 38, Loss 2.2636806964874268\n",
      "Epoch 39, Loss 2.26798152923584\n",
      "Epoch 40, Loss 2.2657501697540283\n",
      "Epoch 41, Loss 2.256779432296753\n",
      "Epoch 42, Loss 2.260653257369995\n",
      "Epoch 43, Loss 2.2521440982818604\n",
      "Epoch 44, Loss 2.256930112838745\n",
      "Epoch 45, Loss 2.2501020431518555\n",
      "Epoch 46, Loss 2.247418165206909\n",
      "Epoch 47, Loss 2.2487807273864746\n",
      "Epoch 48, Loss 2.236652374267578\n",
      "Epoch 49, Loss 2.233936071395874\n",
      "Epoch 50, Loss 2.2384531497955322\n",
      "Epoch 51, Loss 2.2279865741729736\n",
      "Epoch 52, Loss 2.2304365634918213\n",
      "Epoch 53, Loss 2.220414876937866\n",
      "Epoch 54, Loss 2.2198407649993896\n",
      "Epoch 55, Loss 2.2079546451568604\n",
      "Epoch 56, Loss 2.200730562210083\n",
      "Epoch 57, Loss 2.198655843734741\n",
      "Epoch 58, Loss 2.1890337467193604\n",
      "Epoch 59, Loss 2.1743881702423096\n",
      "Epoch 60, Loss 2.18046498298645\n",
      "Epoch 61, Loss 2.164243459701538\n",
      "Epoch 62, Loss 2.158583402633667\n",
      "Epoch 63, Loss 2.1501617431640625\n",
      "Epoch 64, Loss 2.146127223968506\n",
      "Epoch 65, Loss 2.127014636993408\n",
      "Epoch 66, Loss 2.1019625663757324\n",
      "Epoch 67, Loss 2.0968170166015625\n",
      "Epoch 68, Loss 2.096745729446411\n",
      "Epoch 69, Loss 2.075453042984009\n",
      "Epoch 70, Loss 2.057119369506836\n",
      "Epoch 71, Loss 2.0532753467559814\n",
      "Epoch 72, Loss 2.0301952362060547\n",
      "Epoch 73, Loss 2.0123298168182373\n",
      "Epoch 74, Loss 1.9833086729049683\n",
      "Epoch 75, Loss 1.9741603136062622\n",
      "Epoch 76, Loss 1.9766583442687988\n",
      "Epoch 77, Loss 1.9530550241470337\n",
      "Epoch 78, Loss 1.9454350471496582\n",
      "Epoch 79, Loss 1.8862215280532837\n",
      "Epoch 80, Loss 1.8743891716003418\n",
      "Epoch 81, Loss 1.8455263376235962\n",
      "Epoch 82, Loss 1.8238321542739868\n",
      "Epoch 83, Loss 1.8470616340637207\n",
      "Epoch 84, Loss 1.7777339220046997\n",
      "Epoch 85, Loss 1.7995694875717163\n",
      "Epoch 86, Loss 1.7906829118728638\n",
      "Epoch 87, Loss 1.7451964616775513\n",
      "Epoch 88, Loss 1.7842727899551392\n",
      "Epoch 89, Loss 1.7380017042160034\n",
      "Epoch 90, Loss 1.6827753782272339\n",
      "Epoch 91, Loss 1.7177127599716187\n",
      "Epoch 92, Loss 1.7042051553726196\n",
      "Epoch 93, Loss 1.7323851585388184\n",
      "Epoch 94, Loss 1.6989864110946655\n",
      "Epoch 95, Loss 1.6786832809448242\n",
      "Epoch 96, Loss 1.6842142343521118\n",
      "Epoch 97, Loss 1.6458379030227661\n",
      "Epoch 98, Loss 1.5999536514282227\n",
      "Epoch 99, Loss 1.6182247400283813\n"
     ]
    },
    {
     "data": {
      "text/plain": [
       "Sequential(\n",
       "  (0): Linear(in_features=784, out_features=64, bias=True)\n",
       "  (1): Sigmoid()\n",
       "  (2): Linear(in_features=64, out_features=64, bias=True)\n",
       "  (3): Sigmoid()\n",
       "  (4): Linear(in_features=64, out_features=10, bias=True)\n",
       ")"
      ]
     },
     "execution_count": 18,
     "metadata": {},
     "output_type": "execute_result"
    }
   ],
   "source": [
    "# 数据加载\n",
    "train_data = FashionMNIST(root='./fashion_data',train=True,download=True,transform=ToTensor())\n",
    "test_data = FashionMNIST(root='./fashion_data',train=False,download=True,transform=ToTensor())\n",
    "train_dl = DataLoader(train_data,batch_size=BATCH_SIZE,shuffle=True)\n",
    "\n",
    "train_model(LR, BATCH_SIZE, epochs)"
   ]
  },
  {
   "cell_type": "code",
   "execution_count": 16,
   "metadata": {},
   "outputs": [
    {
     "name": "stdout",
     "output_type": "stream",
     "text": [
      "Accuracy: 18.41 %\n"
     ]
    }
   ],
   "source": [
    "test_dl = DataLoader(test_data, batch_size=BATCH_SIZE)\n",
    "\n",
    "correct = 0\n",
    "total = 0\n",
    "with torch.no_grad():\n",
    "    for data, target in test_dl:\n",
    "        output = model(data.reshape(-1, 784))\n",
    "        _, predicted = torch.max(output, 1)\n",
    "        total += target.size(0)\n",
    "        correct += (predicted == target).sum().item()\n",
    "        \n",
    "print(f'Accuracy: {correct/total*100} %')"
   ]
  }
 ],
 "metadata": {
  "kernelspec": {
   "display_name": "py312",
   "language": "python",
   "name": "python3"
  },
  "language_info": {
   "codemirror_mode": {
    "name": "ipython",
    "version": 3
   },
   "file_extension": ".py",
   "mimetype": "text/x-python",
   "name": "python",
   "nbconvert_exporter": "python",
   "pygments_lexer": "ipython3",
   "version": "3.12.8"
  }
 },
 "nbformat": 4,
 "nbformat_minor": 2
}
