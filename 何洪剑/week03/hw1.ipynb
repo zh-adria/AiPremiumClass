{
 "cells": [
  {
   "cell_type": "markdown",
   "metadata": {},
   "source": [
    "1. 使用pytorch搭建神经网络模型，实现对KMNIST数据集的训练。\n",
    "\n",
    "https://pytorch.org/vision/stable/generated/torchvision.datasets.KMNIST.html#torchvision.datasets.KMNIST"
   ]
  },
  {
   "cell_type": "code",
   "execution_count": 15,
   "metadata": {},
   "outputs": [],
   "source": [
    "import torch\n",
    "import torch.nn as nn\n",
    "from torchvision.datasets import FashionMNIST\n",
    "from torchvision.transforms import ToTensor\n",
    "from torch.utils.data import DataLoader"
   ]
  },
  {
   "cell_type": "code",
   "execution_count": 16,
   "metadata": {},
   "outputs": [],
   "source": [
    "# 超参数\n",
    "LR = 1e-3\n",
    "BATCH_SIZE = 128\n",
    "epochs = 100"
   ]
  },
  {
   "cell_type": "code",
   "execution_count": 20,
   "metadata": {},
   "outputs": [
    {
     "name": "stderr",
     "output_type": "stream",
     "text": [
      "C:\\Users\\lisheng\\AppData\\Local\\Temp\\ipykernel_17828\\3970339508.py:24: UserWarning: To copy construct from a tensor, it is recommended to use sourceTensor.clone().detach() or sourceTensor.clone().detach().requires_grad_(True), rather than torch.tensor(sourceTensor).\n",
      "  data = torch.tensor(data.reshape(-1, 784))\n",
      "C:\\Users\\lisheng\\AppData\\Local\\Temp\\ipykernel_17828\\3970339508.py:25: UserWarning: To copy construct from a tensor, it is recommended to use sourceTensor.clone().detach() or sourceTensor.clone().detach().requires_grad_(True), rather than torch.tensor(sourceTensor).\n",
      "  target = torch.tensor(target)\n"
     ]
    },
    {
     "name": "stdout",
     "output_type": "stream",
     "text": [
      "Epoch 0, Loss 2.2802581787109375\n",
      "Epoch 1, Loss 2.2396786212921143\n",
      "Epoch 2, Loss 2.227525472640991\n",
      "Epoch 3, Loss 2.181973695755005\n",
      "Epoch 4, Loss 2.1558644771575928\n",
      "Epoch 5, Loss 2.1140177249908447\n",
      "Epoch 6, Loss 2.0735185146331787\n",
      "Epoch 7, Loss 2.040400505065918\n",
      "Epoch 8, Loss 2.016120433807373\n",
      "Epoch 9, Loss 1.9817872047424316\n",
      "Epoch 10, Loss 1.921448826789856\n",
      "Epoch 11, Loss 1.8713735342025757\n",
      "Epoch 12, Loss 1.8565610647201538\n",
      "Epoch 13, Loss 1.842928409576416\n",
      "Epoch 14, Loss 1.753715991973877\n",
      "Epoch 15, Loss 1.6818662881851196\n",
      "Epoch 16, Loss 1.6647189855575562\n",
      "Epoch 17, Loss 1.6197432279586792\n",
      "Epoch 18, Loss 1.6611908674240112\n",
      "Epoch 19, Loss 1.558118224143982\n",
      "Epoch 20, Loss 1.5506428480148315\n",
      "Epoch 21, Loss 1.4939374923706055\n",
      "Epoch 22, Loss 1.5547593832015991\n",
      "Epoch 23, Loss 1.5150599479675293\n",
      "Epoch 24, Loss 1.4587631225585938\n",
      "Epoch 25, Loss 1.457248330116272\n",
      "Epoch 26, Loss 1.4326071739196777\n",
      "Epoch 27, Loss 1.3765974044799805\n",
      "Epoch 28, Loss 1.3657926321029663\n",
      "Epoch 29, Loss 1.2902545928955078\n",
      "Epoch 30, Loss 1.3486815690994263\n",
      "Epoch 31, Loss 1.2527837753295898\n",
      "Epoch 32, Loss 1.2940587997436523\n",
      "Epoch 33, Loss 1.2022885084152222\n",
      "Epoch 34, Loss 1.2721306085586548\n",
      "Epoch 35, Loss 1.2625375986099243\n",
      "Epoch 36, Loss 1.2676292657852173\n",
      "Epoch 37, Loss 1.1345409154891968\n",
      "Epoch 38, Loss 1.1757352352142334\n",
      "Epoch 39, Loss 1.1329703330993652\n",
      "Epoch 40, Loss 1.2689727544784546\n",
      "Epoch 41, Loss 1.1181743144989014\n",
      "Epoch 42, Loss 1.1449944972991943\n",
      "Epoch 43, Loss 1.1312366724014282\n",
      "Epoch 44, Loss 1.0960637331008911\n",
      "Epoch 45, Loss 1.0456130504608154\n",
      "Epoch 46, Loss 1.235834002494812\n",
      "Epoch 47, Loss 1.0133570432662964\n",
      "Epoch 48, Loss 1.0120989084243774\n",
      "Epoch 49, Loss 1.0295339822769165\n",
      "Epoch 50, Loss 0.9312295317649841\n",
      "Epoch 51, Loss 1.0154098272323608\n",
      "Epoch 52, Loss 0.9646413326263428\n",
      "Epoch 53, Loss 1.0069340467453003\n",
      "Epoch 54, Loss 0.9943628311157227\n",
      "Epoch 55, Loss 0.9167628884315491\n",
      "Epoch 56, Loss 0.9773114323616028\n",
      "Epoch 57, Loss 0.9951105713844299\n",
      "Epoch 58, Loss 1.0107218027114868\n",
      "Epoch 59, Loss 1.0372389554977417\n",
      "Epoch 60, Loss 1.0242599248886108\n",
      "Epoch 61, Loss 0.9637200832366943\n",
      "Epoch 62, Loss 0.9286405444145203\n",
      "Epoch 63, Loss 1.0017495155334473\n",
      "Epoch 64, Loss 0.8929827213287354\n",
      "Epoch 65, Loss 0.9277045130729675\n",
      "Epoch 66, Loss 0.9619134068489075\n",
      "Epoch 67, Loss 0.8554210662841797\n",
      "Epoch 68, Loss 0.8404138088226318\n",
      "Epoch 69, Loss 0.908652126789093\n",
      "Epoch 70, Loss 0.8444473147392273\n",
      "Epoch 71, Loss 0.8732370734214783\n",
      "Epoch 72, Loss 0.9331991076469421\n",
      "Epoch 73, Loss 0.8442986011505127\n",
      "Epoch 74, Loss 0.9344625473022461\n",
      "Epoch 75, Loss 0.9382876753807068\n",
      "Epoch 76, Loss 0.7689492702484131\n",
      "Epoch 77, Loss 0.8986546397209167\n",
      "Epoch 78, Loss 0.779681384563446\n",
      "Epoch 79, Loss 0.911201536655426\n",
      "Epoch 80, Loss 0.967624843120575\n",
      "Epoch 81, Loss 0.8371604084968567\n",
      "Epoch 82, Loss 0.8949152827262878\n",
      "Epoch 83, Loss 0.731677770614624\n",
      "Epoch 84, Loss 0.8770094513893127\n",
      "Epoch 85, Loss 0.8153043389320374\n",
      "Epoch 86, Loss 0.894287645816803\n",
      "Epoch 87, Loss 0.8139215111732483\n",
      "Epoch 88, Loss 0.8108862042427063\n",
      "Epoch 89, Loss 0.8641913533210754\n",
      "Epoch 90, Loss 0.7791614532470703\n",
      "Epoch 91, Loss 0.8770816922187805\n",
      "Epoch 92, Loss 0.7812549471855164\n",
      "Epoch 93, Loss 0.7286880016326904\n",
      "Epoch 94, Loss 0.7603983283042908\n",
      "Epoch 95, Loss 0.8688178062438965\n",
      "Epoch 96, Loss 0.6632662415504456\n",
      "Epoch 97, Loss 0.6965423226356506\n",
      "Epoch 98, Loss 0.8267747759819031\n",
      "Epoch 99, Loss 0.7338883876800537\n"
     ]
    }
   ],
   "source": [
    "# 模型定义\n",
    "model = nn.Sequential(\n",
    "    nn.Linear(784, 64),\n",
    "    nn.Sigmoid(),\n",
    "    nn.Linear(64,10)\n",
    ")\n",
    "# print(model)\n",
    "\n",
    "# 损失函数\n",
    "loss_fn = nn.CrossEntropyLoss()\n",
    "# 优化器（模型参数更新）\n",
    "optimizer = torch.optim.SGD(model.parameters(), lr=LR)\n",
    "\n",
    "# 数据加载\n",
    "train_data = FashionMNIST(root='./fashion_data',train=True,download=True,transform=ToTensor())\n",
    "test_data = FashionMNIST(root='./fashion_data',train=False,download=True,transform=ToTensor())\n",
    "train_dl = DataLoader(train_data,batch_size=BATCH_SIZE,shuffle=True)\n",
    "\n",
    "\n",
    "# 模型训练\n",
    "for epoch in range(epochs):\n",
    "    # 提取训练数据\n",
    "    for data, target in train_dl:\n",
    "        data = torch.tensor(data.reshape(-1, 784))\n",
    "        target = torch.tensor(target)\n",
    "        # 前向运算\n",
    "        output = model(data)\n",
    "        # 计算损失\n",
    "        loss = loss_fn(output, target)\n",
    "        # 反向传播\n",
    "        optimizer.zero_grad() # 所有参数梯度清零\n",
    "        loss.backward() # 计算梯度，保存到.grad\n",
    "        optimizer.step() # 更新参数\n",
    "        \n",
    "    print(f'Epoch {epoch}, Loss {loss.item()}')\n",
    "    # break\n",
    "        \n",
    "        \n",
    "\n",
    "\n",
    "\n"
   ]
  },
  {
   "cell_type": "code",
   "execution_count": 21,
   "metadata": {},
   "outputs": [
    {
     "name": "stdout",
     "output_type": "stream",
     "text": [
      "Accuracy: 73.42999999999999 %\n"
     ]
    }
   ],
   "source": [
    "test_dl = DataLoader(test_data, batch_size=BATCH_SIZE)\n",
    "\n",
    "correct = 0\n",
    "total = 0\n",
    "with torch.no_grad():\n",
    "    for data, target in test_dl:\n",
    "        output = model(data.reshape(-1, 784))\n",
    "        _, predicted = torch.max(output, 1)\n",
    "        total += target.size(0)\n",
    "        correct += (predicted == target).sum().item()\n",
    "        \n",
    "print(f'Accuracy: {correct/total*100} %')"
   ]
  },
  {
   "cell_type": "code",
   "execution_count": 23,
   "metadata": {},
   "outputs": [
    {
     "data": {
      "text/plain": [
       "tensor([3, 6, 7, 5, 8, 4, 5, 6, 8, 9, 1, 9, 1, 8, 1, 5])"
      ]
     },
     "execution_count": 23,
     "metadata": {},
     "output_type": "execute_result"
    }
   ],
   "source": [
    "predicted"
   ]
  },
  {
   "cell_type": "code",
   "execution_count": 24,
   "metadata": {},
   "outputs": [
    {
     "data": {
      "text/plain": [
       "tensor([3, 2, 7, 5, 8, 4, 5, 6, 8, 9, 1, 9, 1, 8, 1, 5])"
      ]
     },
     "execution_count": 24,
     "metadata": {},
     "output_type": "execute_result"
    }
   ],
   "source": [
    "target"
   ]
  },
  {
   "cell_type": "markdown",
   "metadata": {},
   "source": []
  }
 ],
 "metadata": {
  "kernelspec": {
   "display_name": "py312",
   "language": "python",
   "name": "python3"
  },
  "language_info": {
   "codemirror_mode": {
    "name": "ipython",
    "version": 3
   },
   "file_extension": ".py",
   "mimetype": "text/x-python",
   "name": "python",
   "nbconvert_exporter": "python",
   "pygments_lexer": "ipython3",
   "version": "3.12.8"
  }
 },
 "nbformat": 4,
 "nbformat_minor": 2
}
