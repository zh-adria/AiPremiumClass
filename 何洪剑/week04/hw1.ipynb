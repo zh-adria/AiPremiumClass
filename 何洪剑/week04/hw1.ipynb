{
 "cells": [
  {
   "cell_type": "code",
   "execution_count": 14,
   "metadata": {},
   "outputs": [],
   "source": [
    "import torch\n",
    "import torch.nn as nn\n",
    "import numpy\n",
    "from torch.utils.data import DataLoader\n",
    "from torchvision.transforms import ToTensor\n",
    "from sklearn.datasets import fetch_olivetti_faces\n"
   ]
  },
  {
   "cell_type": "code",
   "execution_count": 27,
   "metadata": {},
   "outputs": [],
   "source": [
    "BATCH_SIZE = 10\n",
    "epochs = 50\n",
    "lr = 0.01\n"
   ]
  },
  {
   "cell_type": "code",
   "execution_count": 16,
   "metadata": {},
   "outputs": [
    {
     "name": "stdout",
     "output_type": "stream",
     "text": [
      "(400, 4096)\n",
      "(400,)\n",
      "(400, 64, 64)\n"
     ]
    }
   ],
   "source": [
    "# 数据加载\n",
    "olivetti_faces = fetch_olivetti_faces(data_home=r'./face_data',shuffle=True)\n",
    "print(olivetti_faces.data.shape)\n",
    "print(olivetti_faces.target.shape)\n",
    "print(olivetti_faces.images.shape)\n"
   ]
  },
  {
   "cell_type": "code",
   "execution_count": 17,
   "metadata": {},
   "outputs": [
    {
     "data": {
      "image/png": "[encoded data removed]",
      "text/plain": [
       "<Figure size 640x480 with 1 Axes>"
      ]
     },
     "metadata": {},
     "output_type": "display_data"
    },
    {
     "name": "stdout",
     "output_type": "stream",
     "text": [
      "30\n"
     ]
    }
   ],
   "source": [
    "import matplotlib.pyplot as plt\n",
    "\n",
    "face = olivetti_faces.images[1]\n",
    "plt.imshow(face,cmap='gray')\n",
    "plt.show()\n",
    "print(olivetti_faces.target[1])"
   ]
  },
  {
   "cell_type": "code",
   "execution_count": 18,
   "metadata": {},
   "outputs": [],
   "source": [
    "images = torch.tensor(olivetti_faces.data)\n",
    "targets = torch.tensor(olivetti_faces.target)"
   ]
  },
  {
   "cell_type": "code",
   "execution_count": 19,
   "metadata": {},
   "outputs": [
    {
     "data": {
      "text/plain": [
       "torch.Size([400, 4096])"
      ]
     },
     "execution_count": 19,
     "metadata": {},
     "output_type": "execute_result"
    }
   ],
   "source": [
    "images.shape"
   ]
  },
  {
   "cell_type": "code",
   "execution_count": 20,
   "metadata": {},
   "outputs": [
    {
     "data": {
      "text/plain": [
       "torch.Size([400])"
      ]
     },
     "execution_count": 20,
     "metadata": {},
     "output_type": "execute_result"
    }
   ],
   "source": [
    "targets.shape"
   ]
  },
  {
   "cell_type": "code",
   "execution_count": 21,
   "metadata": {},
   "outputs": [],
   "source": [
    "dataset = [(img,lbl) for img,lbl in zip(images,targets)]\n",
    "dataloader = DataLoader(dataset,batch_size=BATCH_SIZE,shuffle=True)\n"
   ]
  },
  {
   "cell_type": "code",
   "execution_count": 22,
   "metadata": {},
   "outputs": [
    {
     "data": {
      "text/plain": [
       "device(type='cuda')"
      ]
     },
     "execution_count": 22,
     "metadata": {},
     "output_type": "execute_result"
    }
   ],
   "source": [
    "device = torch.device('cuda' if torch.cuda.is_available() else 'cpu')\n",
    "device"
   ]
  },
  {
   "cell_type": "code",
   "execution_count": 23,
   "metadata": {},
   "outputs": [
    {
     "data": {
      "text/plain": [
       "Sequential(\n",
       "  (0): Linear(in_features=4096, out_features=8192, bias=True)\n",
       "  (1): BatchNorm1d(8192, eps=1e-05, momentum=0.1, affine=True, track_running_stats=True)\n",
       "  (2): ReLU()\n",
       "  (3): Linear(in_features=8192, out_features=16438, bias=True)\n",
       "  (4): BatchNorm1d(16438, eps=1e-05, momentum=0.1, affine=True, track_running_stats=True)\n",
       "  (5): ReLU()\n",
       "  (6): Linear(in_features=16438, out_features=1024, bias=True)\n",
       "  (7): BatchNorm1d(1024, eps=1e-05, momentum=0.1, affine=True, track_running_stats=True)\n",
       "  (8): ReLU()\n",
       "  (9): Dropout(p=0.5, inplace=False)\n",
       "  (10): Linear(in_features=1024, out_features=40, bias=True)\n",
       ")"
      ]
     },
     "execution_count": 23,
     "metadata": {},
     "output_type": "execute_result"
    }
   ],
   "source": [
    "model = nn.Sequential(\n",
    "    nn.Linear(4096, 8192),\n",
    "    nn.BatchNorm1d(8192),\n",
    "    nn.ReLU(),\n",
    "    nn.Linear(8192,16438),\n",
    "    nn.BatchNorm1d(16438),\n",
    "    nn.ReLU(),\n",
    "    nn.Linear(16438,1024),\n",
    "    nn.BatchNorm1d(1024),\n",
    "    nn.ReLU(),\n",
    "    nn.Dropout(),\n",
    "    nn.Linear(1024,40)\n",
    ").to(device)\n",
    "model"
   ]
  },
  {
   "cell_type": "code",
   "execution_count": 28,
   "metadata": {},
   "outputs": [
    {
     "name": "stderr",
     "output_type": "stream",
     "text": [
      "C:\\Users\\lisheng\\AppData\\Local\\Temp\\ipykernel_26828\\1242936927.py:11: UserWarning: To copy construct from a tensor, it is recommended to use sourceTensor.clone().detach() or sourceTensor.clone().detach().requires_grad_(True), rather than torch.tensor(sourceTensor).\n",
      "  target = torch.tensor(target).to(device)\n"
     ]
    },
    {
     "name": "stdout",
     "output_type": "stream",
     "text": [
      "Epoch 0, Loss 0.5595912933349609\n",
      "Epoch 1, Loss 0.07922608405351639\n",
      "Epoch 2, Loss 0.42138004302978516\n",
      "Epoch 3, Loss 0.10408531129360199\n",
      "Epoch 4, Loss 0.009168490767478943\n",
      "Epoch 5, Loss 1.996828317642212\n",
      "Epoch 6, Loss 0.03691094368696213\n",
      "Epoch 7, Loss 0.004390996880829334\n",
      "Epoch 8, Loss 0.0007261035498231649\n",
      "Epoch 9, Loss 2.3282244205474854\n",
      "Epoch 10, Loss 1.2781918048858643\n",
      "Epoch 11, Loss 0.3618326783180237\n",
      "Epoch 12, Loss 0.005094063933938742\n",
      "Epoch 13, Loss 0.0006529869278892875\n",
      "Epoch 14, Loss 0.00016435586439911276\n",
      "Epoch 15, Loss 0.0021556387655436993\n",
      "Epoch 16, Loss 0.023267319425940514\n",
      "Epoch 17, Loss 0.9602639079093933\n",
      "Epoch 18, Loss 1.5037952661514282\n",
      "Epoch 19, Loss 0.5858142971992493\n",
      "Epoch 20, Loss 0.005667752120643854\n",
      "Epoch 21, Loss 0.09055349230766296\n",
      "Epoch 22, Loss 0.0016585519770160317\n",
      "Epoch 23, Loss 0.00014105404261499643\n",
      "Epoch 24, Loss 0.00017735324217937887\n",
      "Epoch 25, Loss 0.4563557505607605\n",
      "Epoch 26, Loss 0.00020615938410628587\n",
      "Epoch 27, Loss 0.0004861931374762207\n",
      "Epoch 28, Loss 3.8490753173828125\n",
      "Epoch 29, Loss 0.0007642409182153642\n",
      "Epoch 30, Loss 0.5402172803878784\n",
      "Epoch 31, Loss 0.38464710116386414\n",
      "Epoch 32, Loss 0.012859955430030823\n",
      "Epoch 33, Loss 0.024643506854772568\n",
      "Epoch 34, Loss 1.4655048847198486\n",
      "Epoch 35, Loss 0.0013843593187630177\n",
      "Epoch 36, Loss 0.002015200676396489\n",
      "Epoch 37, Loss 0.4182960093021393\n",
      "Epoch 38, Loss 0.013860168866813183\n",
      "Epoch 39, Loss 0.14097023010253906\n",
      "Epoch 40, Loss 0.17639151215553284\n",
      "Epoch 41, Loss 0.04448958486318588\n",
      "Epoch 42, Loss 1.0420273542404175\n",
      "Epoch 43, Loss 0.010511471889913082\n",
      "Epoch 44, Loss 0.0015481924638152122\n",
      "Epoch 45, Loss 0.07419293373823166\n",
      "Epoch 46, Loss 0.00011765116505557671\n",
      "Epoch 47, Loss 2.8133115392847685e-06\n",
      "Epoch 48, Loss 0.003933203872293234\n",
      "Epoch 49, Loss 3.6954420465917792e-06\n"
     ]
    }
   ],
   "source": [
    "# 优化器\n",
    "optimizer = torch.optim.Adam(model.parameters(), lr=lr)\n",
    "# 损失函数\n",
    "loss_fn = nn.CrossEntropyLoss()\n",
    "\n",
    "loss_arr = []\n",
    "# 模型训练\n",
    "for epoch in range(epochs):\n",
    "    # 提取训练数据\n",
    "    for data, target in dataloader:\n",
    "        target = torch.tensor(target).to(device)\n",
    "        data = data.to(device)\n",
    "        # 前向运算\n",
    "        output = model(data)\n",
    "        # 计算损失\n",
    "        loss = loss_fn(output, target.long())\n",
    "        # 反向传播\n",
    "        optimizer.zero_grad() # 所有参数梯度清零\n",
    "        loss.backward() # 计算梯度，保存到.grad\n",
    "        optimizer.step() # 更新参数\n",
    "        \n",
    "    print(f'Epoch {epoch}, Loss {loss.item()}')\n",
    "    loss_arr.append(loss.item())\n"
   ]
  },
  {
   "cell_type": "code",
   "execution_count": 30,
   "metadata": {},
   "outputs": [
    {
     "data": {
      "image/png": "[encoded data removed]",
      "text/plain": [
       "<Figure size 640x480 with 1 Axes>"
      ]
     },
     "metadata": {},
     "output_type": "display_data"
    }
   ],
   "source": [
    "import matplotlib.pyplot as plt\n",
    "\n",
    "plt.plot(loss_arr)\n",
    "plt.xlabel('Epochs')\n",
    "plt.ylabel('Loss')\n",
    "plt.show()"
   ]
  }
 ],
 "metadata": {
  "kernelspec": {
   "display_name": "py312",
   "language": "python",
   "name": "python3"
  },
  "language_info": {
   "codemirror_mode": {
    "name": "ipython",
    "version": 3
   },
   "file_extension": ".py",
   "mimetype": "text/x-python",
   "name": "python",
   "nbconvert_exporter": "python",
   "pygments_lexer": "ipython3",
   "version": "3.12.8"
  }
 },
 "nbformat": 4,
 "nbformat_minor": 2
}
