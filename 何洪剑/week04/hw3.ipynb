{
 "cells": [
  {
   "cell_type": "code",
   "execution_count": 1,
   "metadata": {},
   "outputs": [],
   "source": [
    "import torch\n",
    "import torch.nn as nn\n",
    "import numpy\n",
    "from torch.utils.data import DataLoader\n",
    "from torchvision.transforms import ToTensor\n",
    "from sklearn.datasets import fetch_olivetti_faces\n",
    "\n",
    "BATCH_SIZE = 10\n",
    "epochs = 20\n",
    "lr = 0.01\n",
    "\n",
    "olivetti_faces = fetch_olivetti_faces(data_home=r'./face_data',shuffle=True)\n",
    "images = torch.tensor(olivetti_faces.data)\n",
    "targets = torch.tensor(olivetti_faces.target)\n",
    "dataset = [(img,lbl) for img,lbl in zip(images,targets)]\n",
    "dataloader = DataLoader(dataset,batch_size=BATCH_SIZE,shuffle=True)\n",
    "\n",
    "device = torch.device('cuda' if torch.cuda.is_available() else 'cpu')\n",
    "\n",
    "# 损失函数\n",
    "loss_fn = nn.CrossEntropyLoss()"
   ]
  },
  {
   "cell_type": "code",
   "execution_count": 2,
   "metadata": {},
   "outputs": [],
   "source": [
    "model = nn.Sequential(\n",
    "    nn.Linear(4096, 8192),\n",
    "    nn.BatchNorm1d(8192),\n",
    "    nn.ReLU(),\n",
    "    nn.Linear(8192,16438),\n",
    "    nn.BatchNorm1d(16438),\n",
    "    nn.ReLU(),\n",
    "    nn.Linear(16438,1024),\n",
    "    nn.BatchNorm1d(1024),\n",
    "    nn.ReLU(),\n",
    "    nn.Dropout(),\n",
    "    nn.Linear(1024,40)\n",
    ").to(device)"
   ]
  },
  {
   "cell_type": "code",
   "execution_count": 3,
   "metadata": {},
   "outputs": [],
   "source": [
    "def trainer(model,opt=\"Adam\"):\n",
    "    # 优化器\n",
    "    if opt == 'Adam':\n",
    "        optimizer = torch.optim.Adam(model.parameters(), lr=lr)\n",
    "    elif opt == 'SGD':\n",
    "        optimizer = torch.optim.SGD(model.parameters(), lr=lr)\n",
    "    elif opt == 'ASGD':\n",
    "        optimizer = torch.optim.ASGD(model.parameters(), lr=lr)\n",
    "    else:\n",
    "        return None\n",
    "    \n",
    "    loss_arr = []\n",
    "    # 模型训练\n",
    "    for epoch in range(epochs):\n",
    "        # 提取训练数据\n",
    "        for data, target in dataloader:\n",
    "            target = torch.tensor(target).to(device)\n",
    "            data = data.to(device)\n",
    "            # 前向运算\n",
    "            output = model(data)\n",
    "            # 计算损失\n",
    "            loss = loss_fn(output, target.long())\n",
    "            # 反向传播\n",
    "            optimizer.zero_grad() # 所有参数梯度清零\n",
    "            loss.backward() # 计算梯度，保存到.grad\n",
    "            optimizer.step() # 更新参数\n",
    "            \n",
    "        print(f'Epoch {epoch}, Loss {loss.item()}')\n",
    "        loss_arr.append(loss.item())\n",
    "    \n",
    "    return loss_arr"
   ]
  },
  {
   "cell_type": "code",
   "execution_count": 4,
   "metadata": {},
   "outputs": [
    {
     "name": "stderr",
     "output_type": "stream",
     "text": [
      "C:\\Users\\lisheng\\AppData\\Local\\Temp\\ipykernel_34824\\3894487022.py:17: UserWarning: To copy construct from a tensor, it is recommended to use sourceTensor.clone().detach() or sourceTensor.clone().detach().requires_grad_(True), rather than torch.tensor(sourceTensor).\n",
      "  target = torch.tensor(target).to(device)\n"
     ]
    },
    {
     "name": "stdout",
     "output_type": "stream",
     "text": [
      "Epoch 0, Loss 3.1591999530792236\n",
      "Epoch 1, Loss 3.90301251411438\n",
      "Epoch 2, Loss 1.265663504600525\n",
      "Epoch 3, Loss 1.4072188138961792\n",
      "Epoch 4, Loss 1.3552587032318115\n",
      "Epoch 5, Loss 3.057387590408325\n",
      "Epoch 6, Loss 0.724852442741394\n",
      "Epoch 7, Loss 0.7207584977149963\n",
      "Epoch 8, Loss 0.32604295015335083\n",
      "Epoch 9, Loss 0.6422821283340454\n",
      "Epoch 10, Loss 0.5297107696533203\n",
      "Epoch 11, Loss 0.4071553349494934\n",
      "Epoch 12, Loss 0.7559205293655396\n",
      "Epoch 13, Loss 0.6491107940673828\n",
      "Epoch 14, Loss 0.08877785503864288\n",
      "Epoch 15, Loss 0.7867392301559448\n",
      "Epoch 16, Loss 0.06889619678258896\n",
      "Epoch 17, Loss 0.21615341305732727\n",
      "Epoch 18, Loss 0.4277302324771881\n",
      "Epoch 19, Loss 0.3044830858707428\n"
     ]
    }
   ],
   "source": [
    "loss_arr_Adam = trainer(model, 'Adam') "
   ]
  },
  {
   "cell_type": "code",
   "execution_count": 5,
   "metadata": {},
   "outputs": [
    {
     "name": "stderr",
     "output_type": "stream",
     "text": [
      "C:\\Users\\lisheng\\AppData\\Local\\Temp\\ipykernel_34824\\3894487022.py:17: UserWarning: To copy construct from a tensor, it is recommended to use sourceTensor.clone().detach() or sourceTensor.clone().detach().requires_grad_(True), rather than torch.tensor(sourceTensor).\n",
      "  target = torch.tensor(target).to(device)\n"
     ]
    },
    {
     "name": "stdout",
     "output_type": "stream",
     "text": [
      "Epoch 0, Loss 0.027201319113373756\n",
      "Epoch 1, Loss 1.0535452365875244\n",
      "Epoch 2, Loss 1.8391335010528564\n",
      "Epoch 3, Loss 0.6506711840629578\n",
      "Epoch 4, Loss 0.009677908383309841\n",
      "Epoch 5, Loss 0.11109336465597153\n",
      "Epoch 6, Loss 0.004806562326848507\n",
      "Epoch 7, Loss 0.09959708899259567\n",
      "Epoch 8, Loss 0.19755783677101135\n",
      "Epoch 9, Loss 0.0031952939461916685\n",
      "Epoch 10, Loss 0.009430306032299995\n",
      "Epoch 11, Loss 0.00096795306308195\n",
      "Epoch 12, Loss 0.01021582167595625\n",
      "Epoch 13, Loss 0.2493647038936615\n",
      "Epoch 14, Loss 0.24273915588855743\n",
      "Epoch 15, Loss 0.6952874660491943\n",
      "Epoch 16, Loss 0.0032133583445101976\n",
      "Epoch 17, Loss 0.16613957285881042\n",
      "Epoch 18, Loss 0.6106429100036621\n",
      "Epoch 19, Loss 0.9358941316604614\n"
     ]
    }
   ],
   "source": [
    "loss_arr_SGD = trainer(model, 'SGD') "
   ]
  },
  {
   "cell_type": "code",
   "execution_count": 6,
   "metadata": {},
   "outputs": [
    {
     "name": "stderr",
     "output_type": "stream",
     "text": [
      "C:\\Users\\lisheng\\AppData\\Local\\Temp\\ipykernel_34824\\3894487022.py:17: UserWarning: To copy construct from a tensor, it is recommended to use sourceTensor.clone().detach() or sourceTensor.clone().detach().requires_grad_(True), rather than torch.tensor(sourceTensor).\n",
      "  target = torch.tensor(target).to(device)\n"
     ]
    },
    {
     "name": "stdout",
     "output_type": "stream",
     "text": [
      "Epoch 0, Loss 0.053351979702711105\n",
      "Epoch 1, Loss 0.5772276520729065\n",
      "Epoch 2, Loss 0.6878695487976074\n",
      "Epoch 3, Loss 0.0635211318731308\n",
      "Epoch 4, Loss 0.015678709372878075\n",
      "Epoch 5, Loss 0.004915202967822552\n",
      "Epoch 6, Loss 0.06625518202781677\n",
      "Epoch 7, Loss 0.010447309352457523\n",
      "Epoch 8, Loss 0.0007063440280035138\n",
      "Epoch 9, Loss 0.0303727388381958\n",
      "Epoch 10, Loss 0.0036981801968067884\n",
      "Epoch 11, Loss 0.004956844262778759\n",
      "Epoch 12, Loss 0.006205006968230009\n",
      "Epoch 13, Loss 0.188630610704422\n",
      "Epoch 14, Loss 0.14791372418403625\n",
      "Epoch 15, Loss 0.09457005560398102\n",
      "Epoch 16, Loss 0.07211834192276001\n",
      "Epoch 17, Loss 0.006426276173442602\n",
      "Epoch 18, Loss 0.1509624421596527\n",
      "Epoch 19, Loss 0.012262067757546902\n"
     ]
    }
   ],
   "source": [
    "loss_arr_ASGD = trainer(model, 'ASGD') "
   ]
  },
  {
   "cell_type": "code",
   "execution_count": null,
   "metadata": {},
   "outputs": [
    {
     "data": {
      "image/png": "[encoded data removed]",
      "text/plain": [
       "<Figure size 640x480 with 1 Axes>"
      ]
     },
     "metadata": {},
     "output_type": "display_data"
    }
   ],
   "source": [
    "import matplotlib.pyplot as plt\n",
    "\n",
    "plt.plot(loss_arr_Adam,label=\"Adam\")\n",
    "plt.plot(loss_arr_SGD,label=\"SGD\")\n",
    "plt.plot(loss_arr_ASGD,label=\"ASGD\")\n",
    "plt.legend()\n",
    "plt.xlabel('Epochs')\n",
    "plt.ylabel('Loss')\n",
    "plt.show()"
   ]
  }
 ],
 "metadata": {
  "kernelspec": {
   "display_name": "py312",
   "language": "python",
   "name": "python3"
  },
  "language_info": {
   "codemirror_mode": {
    "name": "ipython",
    "version": 3
   },
   "file_extension": ".py",
   "mimetype": "text/x-python",
   "name": "python",
   "nbconvert_exporter": "python",
   "pygments_lexer": "ipython3",
   "version": "3.12.8"
  }
 },
 "nbformat": 4,
 "nbformat_minor": 2
}
