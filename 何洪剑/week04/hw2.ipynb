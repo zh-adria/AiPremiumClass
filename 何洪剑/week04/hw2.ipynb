{
 "cells": [
  {
   "cell_type": "code",
   "execution_count": 5,
   "metadata": {},
   "outputs": [],
   "source": [
    "import torch\n",
    "import torch.nn as nn\n",
    "import numpy\n",
    "from torch.utils.data import DataLoader\n",
    "from torchvision.transforms import ToTensor\n",
    "from sklearn.datasets import fetch_olivetti_faces\n",
    "\n",
    "BATCH_SIZE = 10\n",
    "epochs = 50\n",
    "lr = 0.01\n",
    "\n",
    "olivetti_faces = fetch_olivetti_faces(data_home=r'./face_data',shuffle=True)\n",
    "images = torch.tensor(olivetti_faces.data)\n",
    "targets = torch.tensor(olivetti_faces.target)\n",
    "dataset = [(img,lbl) for img,lbl in zip(images,targets)]\n",
    "dataloader = DataLoader(dataset,batch_size=BATCH_SIZE,shuffle=True)\n",
    "\n",
    "device = torch.device('cuda' if torch.cuda.is_available() else 'cpu')\n",
    "\n",
    "# 损失函数\n",
    "loss_fn = nn.CrossEntropyLoss()"
   ]
  },
  {
   "cell_type": "code",
   "execution_count": 6,
   "metadata": {},
   "outputs": [],
   "source": [
    "# 比较归一化\n",
    "model1 = nn.Sequential(\n",
    "    nn.Linear(4096, 8192),\n",
    "    nn.ReLU(),\n",
    "    nn.Linear(8192,16438),\n",
    "    nn.ReLU(),\n",
    "    nn.Linear(16438,1024),\n",
    "    nn.ReLU(),\n",
    "    nn.Linear(1024,40)\n",
    ").to(device)\n",
    "\n",
    "model2 = nn.Sequential(\n",
    "    nn.Linear(4096, 8192),\n",
    "    nn.BatchNorm1d(8192),\n",
    "    nn.ReLU(),\n",
    "    nn.Linear(8192,16438),\n",
    "    nn.BatchNorm1d(16438),\n",
    "    nn.ReLU(),\n",
    "    nn.Linear(16438,1024),\n",
    "    nn.BatchNorm1d(1024),\n",
    "    nn.ReLU(),\n",
    "    nn.Linear(1024,40)\n",
    ").to(device)\n",
    "\n",
    "# 比较正则\n",
    "model3 = nn.Sequential(\n",
    "    nn.Linear(4096, 8192),\n",
    "    nn.BatchNorm1d(8192),\n",
    "    nn.ReLU(),\n",
    "    nn.Linear(8192,16438),\n",
    "    nn.BatchNorm1d(16438),\n",
    "    nn.ReLU(),\n",
    "    nn.Linear(16438,1024),\n",
    "    nn.BatchNorm1d(1024),\n",
    "    nn.ReLU(),\n",
    "    nn.Dropout(),\n",
    "    nn.Linear(1024,40)\n",
    ").to(device)"
   ]
  },
  {
   "cell_type": "code",
   "execution_count": 7,
   "metadata": {},
   "outputs": [],
   "source": [
    "def trainer(model):\n",
    "    # 优化器\n",
    "    optimizer = torch.optim.Adam(model.parameters(), lr=lr)\n",
    "    \n",
    "    loss_arr = []\n",
    "    # 模型训练\n",
    "    for epoch in range(epochs):\n",
    "        # 提取训练数据\n",
    "        for data, target in dataloader:\n",
    "            target = torch.tensor(target).to(device)\n",
    "            data = data.to(device)\n",
    "            # 前向运算\n",
    "            output = model(data)\n",
    "            # 计算损失\n",
    "            loss = loss_fn(output, target.long())\n",
    "            # 反向传播\n",
    "            optimizer.zero_grad() # 所有参数梯度清零\n",
    "            loss.backward() # 计算梯度，保存到.grad\n",
    "            optimizer.step() # 更新参数\n",
    "            \n",
    "        print(f'Epoch {epoch}, Loss {loss.item()}')\n",
    "        loss_arr.append(loss.item())\n",
    "    \n",
    "    return loss_arr"
   ]
  },
  {
   "cell_type": "code",
   "execution_count": 8,
   "metadata": {},
   "outputs": [
    {
     "name": "stderr",
     "output_type": "stream",
     "text": [
      "C:\\Users\\lisheng\\AppData\\Local\\Temp\\ipykernel_37364\\3339553922.py:10: UserWarning: To copy construct from a tensor, it is recommended to use sourceTensor.clone().detach() or sourceTensor.clone().detach().requires_grad_(True), rather than torch.tensor(sourceTensor).\n",
      "  target = torch.tensor(target).to(device)\n"
     ]
    },
    {
     "name": "stdout",
     "output_type": "stream",
     "text": [
      "Epoch 0, Loss 3.6920325756073\n",
      "Epoch 1, Loss 3.72430419921875\n",
      "Epoch 2, Loss 3.712313413619995\n",
      "Epoch 3, Loss 3.718754291534424\n",
      "Epoch 4, Loss 3.6961474418640137\n",
      "Epoch 5, Loss 3.723249912261963\n",
      "Epoch 6, Loss 3.696402072906494\n",
      "Epoch 7, Loss 3.701084852218628\n",
      "Epoch 8, Loss 3.690798282623291\n",
      "Epoch 9, Loss 3.6924118995666504\n",
      "Epoch 10, Loss 3.703105926513672\n",
      "Epoch 11, Loss 3.70740008354187\n",
      "Epoch 12, Loss 3.702594041824341\n",
      "Epoch 13, Loss 3.7115020751953125\n",
      "Epoch 14, Loss 3.697317123413086\n",
      "Epoch 15, Loss 3.7043800354003906\n",
      "Epoch 16, Loss 3.7067489624023438\n",
      "Epoch 17, Loss 3.6949095726013184\n",
      "Epoch 18, Loss 3.700530529022217\n",
      "Epoch 19, Loss 3.7035439014434814\n",
      "Epoch 20, Loss 3.711824417114258\n",
      "Epoch 21, Loss 3.7027173042297363\n",
      "Epoch 22, Loss 3.704230785369873\n",
      "Epoch 23, Loss 3.7004876136779785\n",
      "Epoch 24, Loss 3.6997108459472656\n",
      "Epoch 25, Loss 3.700294017791748\n",
      "Epoch 26, Loss 3.6933846473693848\n",
      "Epoch 27, Loss 3.7068965435028076\n",
      "Epoch 28, Loss 3.6940360069274902\n",
      "Epoch 29, Loss 3.698612928390503\n",
      "Epoch 30, Loss 3.7000389099121094\n",
      "Epoch 31, Loss 3.701075315475464\n",
      "Epoch 32, Loss 3.704617977142334\n",
      "Epoch 33, Loss 3.704880475997925\n",
      "Epoch 34, Loss 3.706439971923828\n",
      "Epoch 35, Loss 3.6954383850097656\n",
      "Epoch 36, Loss 3.7093682289123535\n",
      "Epoch 37, Loss 3.6973297595977783\n",
      "Epoch 38, Loss 3.7047436237335205\n",
      "Epoch 39, Loss 3.7023749351501465\n",
      "Epoch 40, Loss 3.6956868171691895\n",
      "Epoch 41, Loss 3.6969268321990967\n",
      "Epoch 42, Loss 3.7030627727508545\n",
      "Epoch 43, Loss 3.6982975006103516\n",
      "Epoch 44, Loss 3.7011055946350098\n",
      "Epoch 45, Loss 3.7067809104919434\n",
      "Epoch 46, Loss 3.70143461227417\n",
      "Epoch 47, Loss 3.701993465423584\n",
      "Epoch 48, Loss 3.7106902599334717\n",
      "Epoch 49, Loss 3.693608045578003\n"
     ]
    }
   ],
   "source": [
    "loss_arr1 = trainer(model1) # 不加归一层和正则"
   ]
  },
  {
   "cell_type": "code",
   "execution_count": 9,
   "metadata": {},
   "outputs": [
    {
     "name": "stderr",
     "output_type": "stream",
     "text": [
      "C:\\Users\\lisheng\\AppData\\Local\\Temp\\ipykernel_37364\\3339553922.py:10: UserWarning: To copy construct from a tensor, it is recommended to use sourceTensor.clone().detach() or sourceTensor.clone().detach().requires_grad_(True), rather than torch.tensor(sourceTensor).\n",
      "  target = torch.tensor(target).to(device)\n"
     ]
    },
    {
     "name": "stdout",
     "output_type": "stream",
     "text": [
      "Epoch 0, Loss 6.082869529724121\n",
      "Epoch 1, Loss 1.9532371759414673\n",
      "Epoch 2, Loss 1.1961870193481445\n",
      "Epoch 3, Loss 1.5942442417144775\n",
      "Epoch 4, Loss 0.4018145501613617\n",
      "Epoch 5, Loss 0.5778535604476929\n",
      "Epoch 6, Loss 0.3428707718849182\n",
      "Epoch 7, Loss 0.19691118597984314\n",
      "Epoch 8, Loss 0.8569976091384888\n",
      "Epoch 9, Loss 0.4671701490879059\n",
      "Epoch 10, Loss 0.40953025221824646\n",
      "Epoch 11, Loss 0.8136346936225891\n",
      "Epoch 12, Loss 0.6373135447502136\n",
      "Epoch 13, Loss 0.592876672744751\n",
      "Epoch 14, Loss 1.582557201385498\n",
      "Epoch 15, Loss 0.43306344747543335\n",
      "Epoch 16, Loss 0.06343621760606766\n",
      "Epoch 17, Loss 0.10086284577846527\n",
      "Epoch 18, Loss 0.2853216826915741\n",
      "Epoch 19, Loss 0.134535014629364\n",
      "Epoch 20, Loss 1.7534757852554321\n",
      "Epoch 21, Loss 1.2493336200714111\n",
      "Epoch 22, Loss 0.0067979721352458\n",
      "Epoch 23, Loss 0.07968638092279434\n",
      "Epoch 24, Loss 0.2481749802827835\n",
      "Epoch 25, Loss 0.005906394217163324\n",
      "Epoch 26, Loss 0.005214594304561615\n",
      "Epoch 27, Loss 0.6003349423408508\n",
      "Epoch 28, Loss 0.0059907385148108006\n",
      "Epoch 29, Loss 0.008035006001591682\n",
      "Epoch 30, Loss 0.0805065780878067\n",
      "Epoch 31, Loss 0.25378671288490295\n",
      "Epoch 32, Loss 0.002317290287464857\n",
      "Epoch 33, Loss 0.2047724723815918\n",
      "Epoch 34, Loss 0.14857009053230286\n",
      "Epoch 35, Loss 0.10004492849111557\n",
      "Epoch 36, Loss 0.17031416296958923\n",
      "Epoch 37, Loss 0.03914973884820938\n",
      "Epoch 38, Loss 0.10250308364629745\n",
      "Epoch 39, Loss 0.0005481017869897187\n",
      "Epoch 40, Loss 0.0028605458792299032\n",
      "Epoch 41, Loss 0.040646620094776154\n",
      "Epoch 42, Loss 0.047309510409832\n",
      "Epoch 43, Loss 0.5833913683891296\n",
      "Epoch 44, Loss 0.13100603222846985\n",
      "Epoch 45, Loss 0.9997869729995728\n",
      "Epoch 46, Loss 0.00013228134775999933\n",
      "Epoch 47, Loss 0.09026498347520828\n",
      "Epoch 48, Loss 0.00401053624227643\n",
      "Epoch 49, Loss 0.05922585725784302\n"
     ]
    }
   ],
   "source": [
    "loss_arr2 = trainer(model2) # 归一化和不正则"
   ]
  },
  {
   "cell_type": "code",
   "execution_count": 10,
   "metadata": {},
   "outputs": [
    {
     "name": "stderr",
     "output_type": "stream",
     "text": [
      "C:\\Users\\lisheng\\AppData\\Local\\Temp\\ipykernel_37364\\3339553922.py:10: UserWarning: To copy construct from a tensor, it is recommended to use sourceTensor.clone().detach() or sourceTensor.clone().detach().requires_grad_(True), rather than torch.tensor(sourceTensor).\n",
      "  target = torch.tensor(target).to(device)\n"
     ]
    },
    {
     "name": "stdout",
     "output_type": "stream",
     "text": [
      "Epoch 0, Loss 2.8228766918182373\n",
      "Epoch 1, Loss 3.7252249717712402\n",
      "Epoch 2, Loss 2.6610970497131348\n",
      "Epoch 3, Loss 3.5713608264923096\n",
      "Epoch 4, Loss 1.0928685665130615\n",
      "Epoch 5, Loss 1.4408077001571655\n",
      "Epoch 6, Loss 0.6120026707649231\n",
      "Epoch 7, Loss 0.49785321950912476\n",
      "Epoch 8, Loss 0.4924774169921875\n",
      "Epoch 9, Loss 0.39510005712509155\n",
      "Epoch 10, Loss 0.721331775188446\n",
      "Epoch 11, Loss 0.12045099586248398\n",
      "Epoch 12, Loss 0.636206865310669\n",
      "Epoch 13, Loss 0.33907777070999146\n",
      "Epoch 14, Loss 0.20980055630207062\n",
      "Epoch 15, Loss 0.48457083106040955\n",
      "Epoch 16, Loss 0.10109248012304306\n",
      "Epoch 17, Loss 0.036038435995578766\n",
      "Epoch 18, Loss 0.10713684558868408\n",
      "Epoch 19, Loss 0.020717140287160873\n",
      "Epoch 20, Loss 0.49270668625831604\n",
      "Epoch 21, Loss 0.0012037389678880572\n",
      "Epoch 22, Loss 0.40811267495155334\n",
      "Epoch 23, Loss 0.10781539976596832\n",
      "Epoch 24, Loss 0.3164902627468109\n",
      "Epoch 25, Loss 0.056749988347291946\n",
      "Epoch 26, Loss 0.06552349030971527\n",
      "Epoch 27, Loss 0.023062461987137794\n",
      "Epoch 28, Loss 0.012376159429550171\n",
      "Epoch 29, Loss 0.08244068175554276\n",
      "Epoch 30, Loss 0.34642136096954346\n",
      "Epoch 31, Loss 0.015003615990281105\n",
      "Epoch 32, Loss 0.0534813217818737\n",
      "Epoch 33, Loss 0.0004538843350019306\n",
      "Epoch 34, Loss 0.02391495369374752\n",
      "Epoch 35, Loss 0.00019182643154636025\n",
      "Epoch 36, Loss 0.02574271336197853\n",
      "Epoch 37, Loss 0.08567674458026886\n",
      "Epoch 38, Loss 0.17684322595596313\n",
      "Epoch 39, Loss 0.0005222107283771038\n",
      "Epoch 40, Loss 0.6279100775718689\n",
      "Epoch 41, Loss 0.07147547602653503\n",
      "Epoch 42, Loss 0.7892278432846069\n",
      "Epoch 43, Loss 0.012720426544547081\n",
      "Epoch 44, Loss 0.0036885321605950594\n",
      "Epoch 45, Loss 0.0029385904781520367\n",
      "Epoch 46, Loss 0.09931041300296783\n",
      "Epoch 47, Loss 0.0036626984365284443\n",
      "Epoch 48, Loss 0.0021160009782761335\n",
      "Epoch 49, Loss 0.0018481820588931441\n"
     ]
    }
   ],
   "source": [
    "loss_arr3 = trainer(model3) # 归一化和正则"
   ]
  },
  {
   "cell_type": "code",
   "execution_count": 13,
   "metadata": {},
   "outputs": [
    {
     "data": {
      "image/png": "[encoded data removed]",
      "text/plain": [
       "<Figure size 640x480 with 1 Axes>"
      ]
     },
     "metadata": {},
     "output_type": "display_data"
    }
   ],
   "source": [
    "import matplotlib.pyplot as plt\n",
    "\n",
    "plt.plot(loss_arr1,label=\"Norm\")\n",
    "plt.plot(loss_arr2,label=\"BN\")\n",
    "plt.plot(loss_arr3,label=\"BN and Drop\")\n",
    "plt.legend()\n",
    "plt.xlabel('Epochs')\n",
    "plt.ylabel('Loss')\n",
    "plt.show()"
   ]
  }
 ],
 "metadata": {
  "kernelspec": {
   "display_name": "py312",
   "language": "python",
   "name": "python3"
  },
  "language_info": {
   "codemirror_mode": {
    "name": "ipython",
    "version": 3
   },
   "file_extension": ".py",
   "mimetype": "text/x-python",
   "name": "python",
   "nbconvert_exporter": "python",
   "pygments_lexer": "ipython3",
   "version": "3.12.8"
  }
 },
 "nbformat": 4,
 "nbformat_minor": 2
}
