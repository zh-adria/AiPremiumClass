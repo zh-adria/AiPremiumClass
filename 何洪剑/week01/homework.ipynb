{
 "cells": [
  {
   "cell_type": "markdown",
   "metadata": {},
   "source": [
    "\n",
    "# 一、Numpy \n",
    "## 1. Numpy 数组的创建"
   ]
  },
  {
   "cell_type": "code",
   "execution_count": 19,
   "metadata": {},
   "outputs": [
    {
     "name": "stdout",
     "output_type": "stream",
     "text": [
      "[1 2 3]\n",
      "[[1 2]\n",
      " [3 4]]\n",
      "[[0. 0. 0.]\n",
      " [0. 0. 0.]]\n",
      "[[0.55716409 0.7811256 ]\n",
      " [0.98380374 0.03004612]]\n"
     ]
    },
    {
     "data": {
      "text/plain": [
       "array([[0., 0., 0.],\n",
       "       [0., 0., 0.]])"
      ]
     },
     "execution_count": 19,
     "metadata": {},
     "output_type": "execute_result"
    }
   ],
   "source": [
    "import numpy as np\n",
    "np_array_1d = np.array([1, 2, 3])             # 一维数组\n",
    "np_array_2d = np.array([[1, 2], [3, 4]])      # 二维数组\n",
    "np_zeros = np.zeros((2, 3))                   # 全零矩阵\n",
    "np_rand = np.random.rand(2, 2)                # 随机矩阵\n",
    "\n",
    "print(np_array_1d)\n",
    "print(np_array_2d)\n",
    "print(np_zeros)\n",
    "print(np_rand)\n",
    "\n",
    "# 保存和加载\n",
    "np.save(\"result.npy\",np_zeros)\n",
    "result = np.load(\"result.npy\")\n",
    "result"
   ]
  },
  {
   "cell_type": "markdown",
   "metadata": {},
   "source": [
    "## 2. Nmupy 运算"
   ]
  },
  {
   "cell_type": "code",
   "execution_count": 20,
   "metadata": {},
   "outputs": [
    {
     "name": "stdout",
     "output_type": "stream",
     "text": [
      "[[3 2]\n",
      " [6 5]\n",
      " [5 5]]\n",
      "[[ 1 -1]\n",
      " [ 1 -1]\n",
      " [ 1 -1]]\n",
      "[[ 3 -3]\n",
      " [ 3 -3]\n",
      " [ 3 -3]]\n",
      "[[ 1.5 -1.5]\n",
      " [ 1.5 -1.5]\n",
      " [ 1.5 -1.5]]\n"
     ]
    }
   ],
   "source": [
    "# 加减乘除\n",
    "a1 = np.array([[2,3],[5,6],[4,6]])\n",
    "a2 = np.array([[1,-1]])\n",
    "a3 = a1 + a2   # 广播机制\n",
    "print(a3)\n",
    "\n",
    "a4 = a3 - a1\n",
    "print(a4)\n",
    "\n",
    "a5 = a4 * 3\n",
    "print(a5)\n",
    "\n",
    "a6 = a5 / 2\n",
    "print(a6)"
   ]
  },
  {
   "cell_type": "code",
   "execution_count": 21,
   "metadata": {},
   "outputs": [
    {
     "name": "stdout",
     "output_type": "stream",
     "text": [
      "14\n"
     ]
    }
   ],
   "source": [
    "# 点积\n",
    "np_dot = np.dot(np_array_1d, np_array_1d)\n",
    "print(np_dot)"
   ]
  },
  {
   "cell_type": "code",
   "execution_count": 22,
   "metadata": {},
   "outputs": [
    {
     "name": "stdout",
     "output_type": "stream",
     "text": [
      "[[19 22]\n",
      " [43 50]]\n",
      "[[19 22]\n",
      " [43 50]]\n"
     ]
    }
   ],
   "source": [
    "\n",
    "# 矩阵乘法\n",
    "mat_a = np.array([[1, 2], [3, 4]])\n",
    "mat_b = np.array([[5, 6], [7, 8]])\n",
    "np_matmul = np.matmul(mat_a, mat_b)\n",
    "print(np_matmul)\n",
    "\n",
    "result = mat_a @ mat_b\n",
    "print(result)\n"
   ]
  },
  {
   "cell_type": "code",
   "execution_count": 23,
   "metadata": {},
   "outputs": [
    {
     "name": "stdout",
     "output_type": "stream",
     "text": [
      "[[1 2]\n",
      " [3 4]]\n",
      "[[1 3]\n",
      " [2 4]]\n"
     ]
    }
   ],
   "source": [
    "# 转置\n",
    "np_transpose = mat_a.T\n",
    "print(mat_a)\n",
    "print(np_transpose)"
   ]
  },
  {
   "cell_type": "code",
   "execution_count": 24,
   "metadata": {},
   "outputs": [
    {
     "name": "stdout",
     "output_type": "stream",
     "text": [
      "Sum: 10\n",
      "Mean: 2.5\n",
      "Std: 1.118033988749895\n"
     ]
    }
   ],
   "source": [
    "# 求和、均值、标准差\n",
    "print(\"Sum:\", np.sum(mat_a))\n",
    "print(\"Mean:\", np.mean(mat_a))\n",
    "print(\"Std:\", np.std(mat_a))"
   ]
  },
  {
   "cell_type": "markdown",
   "metadata": {},
   "source": [
    "## 3. 形状操作"
   ]
  },
  {
   "cell_type": "code",
   "execution_count": 25,
   "metadata": {},
   "outputs": [
    {
     "name": "stdout",
     "output_type": "stream",
     "text": [
      "[[1 2]\n",
      " [3 4]]\n",
      "[6 8]\n"
     ]
    }
   ],
   "source": [
    "# 重塑\n",
    "mat_a.reshape(4, 1)\n",
    "print(mat_a)\n",
    "# 切片\n",
    "print(mat_b[:, 1]) "
   ]
  },
  {
   "cell_type": "markdown",
   "metadata": {},
   "source": [
    "# 二、PyTorch 基础\n",
    "## 1. tensor操作"
   ]
  },
  {
   "cell_type": "code",
   "execution_count": 26,
   "metadata": {},
   "outputs": [
    {
     "name": "stdout",
     "output_type": "stream",
     "text": [
      "tensor([1., 2., 3.])\n",
      "tensor([[1., 2.],\n",
      "        [3., 4.]])\n",
      "tensor([[0., 0., 0.],\n",
      "        [0., 0., 0.]])\n",
      "tensor([[0.9569, 0.1907],\n",
      "        [0.4186, 0.0084]])\n",
      "矩阵乘法 tensor([[19., 22.],\n",
      "        [43., 50.]])\n",
      "矩阵乘法 tensor([[19., 22.],\n",
      "        [43., 50.]])\n",
      "tensor(14.)\n",
      "14.0\n",
      "Sum: 10.0\n",
      "Mean: 2.5\n",
      "Std: 1.29099440574646\n",
      "\n",
      "PyTorch重塑形状:\n",
      "tensor([[1.],\n",
      "        [2.],\n",
      "        [3.],\n",
      "        [4.]])\n",
      "拼接后结果： tensor([[0, 1, 0, 0, 1, 0, 0, 1, 0],\n",
      "        [1, 1, 1, 1, 1, 1, 1, 1, 1],\n",
      "        [1, 1, 1, 1, 1, 1, 1, 1, 1]])\n"
     ]
    }
   ],
   "source": [
    "import torch\n",
    "\n",
    "torch_tensor_1d = torch.tensor([1., 2., 3.])  # 一维张量（注意默认类型为float32）\n",
    "torch_tensor_2d = torch.tensor([[1, 2], [3, 4]], dtype=torch.float32)\n",
    "torch_zeros = torch.zeros(2, 3)\n",
    "torch_rand = torch.rand(2, 2)\n",
    "\n",
    "print(torch_tensor_1d)\n",
    "print(torch_tensor_2d)\n",
    "print(torch_zeros)\n",
    "print(torch_rand)\n",
    "\n",
    "# 矩阵乘法\n",
    "tensor_a = torch.tensor([[1, 2], [3, 4]], dtype=torch.float32)\n",
    "tensor_b = torch.tensor([[5, 6], [7, 8]], dtype=torch.float32)\n",
    "torch_matmul = torch.matmul(tensor_a, tensor_b)\n",
    "print(\"矩阵乘法\",torch_matmul)\n",
    "\n",
    "result = tensor_a @ tensor_b\n",
    "print(\"矩阵乘法\",result)\n",
    "\n",
    "# 点积\n",
    "torch_dot = torch.dot(torch_tensor_1d, torch_tensor_1d)\n",
    "print(torch_dot)\n",
    "print(torch_dot.item())\n",
    "\n",
    "# 求和、均值、标准差\n",
    "print(\"Sum:\", torch.sum(tensor_a).item())\n",
    "print(\"Mean:\", torch.mean(tensor_a).item())\n",
    "print(\"Std:\", torch.std(tensor_a).item())\n",
    "\n",
    "# 重塑\n",
    "torch_reshaped = tensor_a.view(4, 1)  # 或 reshape()\n",
    "print(\"\\nPyTorch重塑形状:\")\n",
    "print(torch_reshaped)\n",
    "\n",
    "# 张量拼接\n",
    "tensor = torch.tensor([[0,1,0],[1,1,1],[1,1,1]])\n",
    "t1 = torch.cat([tensor,tensor,tensor],dim=1)\n",
    "print(\"拼接后结果：\",t1)\n"
   ]
  },
  {
   "cell_type": "markdown",
   "metadata": {},
   "source": [
    "## 2. Pytorch 使用"
   ]
  },
  {
   "cell_type": "code",
   "execution_count": 27,
   "metadata": {},
   "outputs": [
    {
     "data": {
      "text/plain": [
       "False"
      ]
     },
     "execution_count": 27,
     "metadata": {},
     "output_type": "execute_result"
    }
   ],
   "source": [
    "\n",
    "# 查看显卡可用性\n",
    "torch.cuda.is_available()"
   ]
  },
  {
   "cell_type": "code",
   "execution_count": 28,
   "metadata": {},
   "outputs": [
    {
     "data": {
      "text/plain": [
       "'expression.png'"
      ]
     },
     "execution_count": 28,
     "metadata": {},
     "output_type": "execute_result"
    }
   ],
   "source": [
    "# 梯度更新\n",
    "\n",
    "# 计算图可视化\n",
    "\n",
    "from torchviz import make_dot\n",
    "A = torch.randn(10,10,requires_grad=True)\n",
    "b = torch.randn(10,requires_grad=True)\n",
    "c = torch.randn(1,requires_grad=True)\n",
    "x = torch.randn(10,requires_grad=True)\n",
    "\n",
    "result = torch.matmul(A,x.T) + torch.matmul(b,x) + c\n",
    "\n",
    "# 生成计算节点\n",
    "dot = make_dot(result, params={'A': A, 'b': b, 'c': c, 'x':x})\n",
    "\n",
    "# 绘制计算图\n",
    "dot.render('expression',format='png',cleanup=True,view=False)\n",
    "\n"
   ]
  },
  {
   "cell_type": "code",
   "execution_count": 29,
   "metadata": {},
   "outputs": [
    {
     "name": "stdout",
     "output_type": "stream",
     "text": [
      "tensor([1., 2., 3.])\n",
      "torch_tensor_1d tensor([1., 2., 3.])\n",
      "result tensor([6., 7., 8.])\n",
      "torch_tensor_1d tensor([6., 7., 8.])\n",
      "result tensor([6., 7., 8.])\n"
     ]
    }
   ],
   "source": [
    "# add_() 就地操作慎用\n",
    "torch_tensor_1d = torch.tensor([1., 2., 3.])\n",
    "print(torch_tensor_1d)\n",
    "result = torch_tensor_1d.add(5)\n",
    "print(\"torch_tensor_1d\",torch_tensor_1d)\n",
    "print(\"result\",result)\n",
    "\n",
    "result = torch_tensor_1d.add_(5)\n",
    "print(\"torch_tensor_1d\",torch_tensor_1d)\n",
    "print(\"result\",result)\n"
   ]
  }
 ],
 "metadata": {
  "kernelspec": {
   "display_name": "py312",
   "language": "python",
   "name": "python3"
  },
  "language_info": {
   "codemirror_mode": {
    "name": "ipython",
    "version": 3
   },
   "file_extension": ".py",
   "mimetype": "text/x-python",
   "name": "python",
   "nbconvert_exporter": "python",
   "pygments_lexer": "ipython3",
   "version": "3.12.8"
  }
 },
 "nbformat": 4,
 "nbformat_minor": 2
}
