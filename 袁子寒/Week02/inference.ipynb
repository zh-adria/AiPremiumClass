{
 "cells": [
  {
   "cell_type": "code",
   "execution_count": 1,
   "metadata": {},
   "outputs": [],
   "source": [
    "import numpy as np"
   ]
  },
  {
   "cell_type": "code",
   "execution_count": 2,
   "metadata": {},
   "outputs": [],
   "source": [
    "def load_model(ratio=0.2, lr=0.01):\n",
    "    path = f\"ratio_{ratio}_lr_{lr}.npz\"\n",
    "    data = np.load(path)\n",
    "    return data[\"theta\"], data[\"bias\"], data[\"test_x\"], data[\"test_y\"]"
   ]
  },
  {
   "cell_type": "code",
   "execution_count": 6,
   "metadata": {},
   "outputs": [],
   "source": [
    "def evaluate(ratio, lr):\n",
    "    theta, bias, test_x, test_y = load_model(ratio=0.2, lr=0.01)\n",
    "    testval = []\n",
    "    for x in test_x:\n",
    "        z = np.dot(theta, x.T) + bias\n",
    "        pred = 1/(1 + np.exp(-z)) # sigmoid\n",
    "        if pred > 0.5:\n",
    "            testval.append(1)\n",
    "        else: \n",
    "            testval.append(0)\n",
    "        \n",
    "    print(\"accuracy = \", len(testval==test_y)/len(test_y)) # 用test来算正确率"
   ]
  },
  {
   "cell_type": "code",
   "execution_count": 7,
   "metadata": {},
   "outputs": [
    {
     "name": "stdout",
     "output_type": "stream",
     "text": [
      "accuracy =  1.0\n"
     ]
    }
   ],
   "source": [
    "evaluate(ratio=0.2, lr=0.01)"
   ]
  },
  {
   "cell_type": "code",
   "execution_count": null,
   "metadata": {},
   "outputs": [
    {
     "name": "stdout",
     "output_type": "stream",
     "text": [
      "accuracy =  1.0\n"
     ]
    }
   ],
   "source": [
    "evaluate(ratio=0.4, lr=0.01)"
   ]
  },
  {
   "cell_type": "code",
   "execution_count": 9,
   "metadata": {},
   "outputs": [
    {
     "name": "stdout",
     "output_type": "stream",
     "text": [
      "accuracy =  1.0\n"
     ]
    }
   ],
   "source": [
    "evaluate(ratio=0.2, lr=0.1)"
   ]
  },
  {
   "cell_type": "code",
   "execution_count": 10,
   "metadata": {},
   "outputs": [
    {
     "name": "stdout",
     "output_type": "stream",
     "text": [
      "accuracy =  1.0\n"
     ]
    }
   ],
   "source": [
    "evaluate(ratio=0.4, lr=0.1)"
   ]
  },
  {
   "cell_type": "code",
   "execution_count": 11,
   "metadata": {},
   "outputs": [
    {
     "name": "stdout",
     "output_type": "stream",
     "text": [
      "accuracy =  1.0\n"
     ]
    }
   ],
   "source": [
    "evaluate(ratio=0.2, lr=0.9)"
   ]
  },
  {
   "cell_type": "code",
   "execution_count": 12,
   "metadata": {},
   "outputs": [
    {
     "name": "stdout",
     "output_type": "stream",
     "text": [
      "accuracy =  1.0\n"
     ]
    }
   ],
   "source": [
    "evaluate(ratio=0.4, lr=0.9)"
   ]
  },
  {
   "cell_type": "code",
   "execution_count": 13,
   "metadata": {},
   "outputs": [
    {
     "name": "stdout",
     "output_type": "stream",
     "text": [
      "accuracy =  1.0\n"
     ]
    }
   ],
   "source": [
    "evaluate(ratio=0.2, lr=10)"
   ]
  },
  {
   "cell_type": "markdown",
   "metadata": {},
   "source": []
  }
 ],
 "metadata": {
  "kernelspec": {
   "display_name": "aicuda",
   "language": "python",
   "name": "python3"
  },
  "language_info": {
   "codemirror_mode": {
    "name": "ipython",
    "version": 3
   },
   "file_extension": ".py",
   "mimetype": "text/x-python",
   "name": "python",
   "nbconvert_exporter": "python",
   "pygments_lexer": "ipython3",
   "version": "3.12.9"
  }
 },
 "nbformat": 4,
 "nbformat_minor": 2
}
