{
 "cells": [
  {
   "cell_type": "code",
   "execution_count": 84,
   "metadata": {},
   "outputs": [],
   "source": [
    "from sklearn.datasets import fetch_olivetti_faces"
   ]
  },
  {
   "cell_type": "code",
   "execution_count": 85,
   "metadata": {},
   "outputs": [],
   "source": [
    "olivetti_faces = fetch_olivetti_faces(data_home='./face_data', shuffle=True)"
   ]
  },
  {
   "cell_type": "code",
   "execution_count": 86,
   "metadata": {},
   "outputs": [],
   "source": [
    "import torch\n",
    "import torch.nn as nn"
   ]
  },
  {
   "cell_type": "code",
   "execution_count": 87,
   "metadata": {},
   "outputs": [],
   "source": [
    "# device = torch.device('mps' if torch.backends.mps.is_available() else 'cpu')\n",
    "device = torch.device('cuda' if torch.cuda.is_available() else 'cpu')\n",
    "\n",
    "images = torch.tensor(olivetti_faces.data)\n",
    "targets = torch.tensor(olivetti_faces.target)"
   ]
  },
  {
   "cell_type": "code",
   "execution_count": 88,
   "metadata": {},
   "outputs": [],
   "source": [
    "dataset = [(img,lbl) for img,lbl in zip(images, targets)]"
   ]
  },
  {
   "cell_type": "code",
   "execution_count": 89,
   "metadata": {},
   "outputs": [],
   "source": [
    "trian_dl = torch.utils.data.DataLoader(dataset, batch_size=10, shuffle=True) "
   ]
  },
  {
   "cell_type": "code",
   "execution_count": 90,
   "metadata": {},
   "outputs": [],
   "source": [
    "from torch_nn import TorchNN\n",
    "model = TorchNN().to (device)"
   ]
  },
  {
   "cell_type": "code",
   "execution_count": 91,
   "metadata": {},
   "outputs": [],
   "source": [
    "# 定义超参数\n",
    "LR = 1e-3\n",
    "epochs = 20\n",
    "BATCH_SIZE = 128"
   ]
  },
  {
   "cell_type": "code",
   "execution_count": 92,
   "metadata": {},
   "outputs": [],
   "source": [
    "# 损失函数&优化器\n",
    "loss_fn = nn.CrossEntropyLoss()  # 交叉熵损失函数\n",
    "# 优化器（模型参数更新）\n",
    "SGD = torch.optim.SGD(model.parameters(), lr=LR)\n",
    "Adam = torch.optim.Adam(model.parameters(), lr=LR)\n",
    "AdamW = torch.optim.AdamW(model.parameters(), lr=LR, weight_decay=1e-4)\n",
    "RMSprop = torch.optim.RMSprop(model.parameters(), lr=LR)\n",
    "Adagrad = torch.optim.Adagrad(model.parameters(), lr=LR)\n",
    "Adadelta = torch.optim.Adadelta(model.parameters())\n",
    "optimizers = [SGD, Adam, AdamW, RMSprop, Adagrad, Adadelta]"
   ]
  },
  {
   "cell_type": "code",
   "execution_count": 93,
   "metadata": {},
   "outputs": [
    {
     "name": "stdout",
     "output_type": "stream",
     "text": [
      "Optimizer:SGD\n",
      "Epoch:19 Loss: 6.931017875671387\n",
      "Optimizer:Adam\n",
      "Epoch:19 Loss: 6.733137607574463\n",
      "Optimizer:AdamW\n",
      "Epoch:19 Loss: 6.933103084564209\n",
      "Optimizer:RMSprop\n",
      "Epoch:19 Loss: 6.733259677886963\n",
      "Optimizer:Adagrad\n",
      "Epoch:19 Loss: 6.933148384094238\n",
      "Optimizer:Adadelta\n",
      "Epoch:19 Loss: 6.833148002624512\n"
     ]
    }
   ],
   "source": [
    "# 正则化&归一化生效\n",
    "model.train() \n",
    "#尝试不同optimizer对模型进行训练，观察对比loss结果。\n",
    "for opt in optimizers: \n",
    "    for epoch in range(epochs):\n",
    "        # 提取训练数据\n",
    "        for data, target in trian_dl:\n",
    "            data, target = data.to(device),target.to(device)\n",
    "            # 前向运算\n",
    "            output = model(data)\n",
    "            # 计算损失\n",
    "            loss = loss_fn(output, target)\n",
    "            # 反向传播\n",
    "            model.zero_grad()  # 所有参数梯度清零\n",
    "            loss.backward()     # 计算梯度（参数.grad）\n",
    "            opt.step()\n",
    "        if epoch == epochs - 1:    # 更新参数\n",
    "            print(f'Optimizer:{opt.__class__.__name__}')\n",
    "            print(f'Epoch:{epoch} Loss: {loss.item()}')"
   ]
  }
 ],
 "metadata": {
  "kernelspec": {
   "display_name": "py312",
   "language": "python",
   "name": "python3"
  },
  "language_info": {
   "codemirror_mode": {
    "name": "ipython",
    "version": 3
   },
   "file_extension": ".py",
   "mimetype": "text/x-python",
   "name": "python",
   "nbconvert_exporter": "python",
   "pygments_lexer": "ipython3",
   "version": "3.12.9"
  }
 },
 "nbformat": 4,
 "nbformat_minor": 2
}
