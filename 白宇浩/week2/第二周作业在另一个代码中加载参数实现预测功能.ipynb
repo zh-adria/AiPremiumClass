{
 "cells": [
  {
   "cell_type": "code",
   "execution_count": 1,
   "metadata": {},
   "outputs": [],
   "source": [
    "import numpy as np"
   ]
  },
  {
   "cell_type": "code",
   "execution_count": 2,
   "metadata": {},
   "outputs": [],
   "source": [
    "#1参数加载\n",
    "def load_model(zuoye1=\"zuoye1.npz\"):\n",
    "    data = np.load(zuoye1)\n",
    "    return data['theta'], data['bias']\n"
   ]
  },
  {
   "cell_type": "code",
   "execution_count": 3,
   "metadata": {},
   "outputs": [],
   "source": [
    "#2函数定义\n",
    "def predict(X, theta, bias):\n",
    "    X = np.array(X)  # 确保输入转为numpy数组\n",
    "    z = np.dot(X, theta.T) + bias  #需要转置\n",
    "    y_hat = 1 / (1 + np.exp(-z))\n",
    "    return y_hat\n"
   ]
  },
  {
   "cell_type": "code",
   "execution_count": 13,
   "metadata": {},
   "outputs": [
    {
     "ename": "TypeError",
     "evalue": "'numpy.ndarray' object is not callable",
     "output_type": "error",
     "traceback": [
      "\u001b[31m---------------------------------------------------------------------------\u001b[39m",
      "\u001b[31mTypeError\u001b[39m                                 Traceback (most recent call last)",
      "\u001b[36mCell\u001b[39m\u001b[36m \u001b[39m\u001b[32mIn[13]\u001b[39m\u001b[32m, line 8\u001b[39m\n\u001b[32m      6\u001b[39m y = \u001b[32m0\u001b[39m\n\u001b[32m      7\u001b[39m \u001b[38;5;66;03m# 进行预测\u001b[39;00m\n\u001b[32m----> \u001b[39m\u001b[32m8\u001b[39m predict = np.round(\u001b[43mpredict\u001b[49m\u001b[43m(\u001b[49m\u001b[43mx\u001b[49m\u001b[43m,\u001b[49m\u001b[43mtheta\u001b[49m\u001b[43m,\u001b[49m\u001b[43mbias\u001b[49m\u001b[43m)\u001b[49m)\n\u001b[32m      9\u001b[39m \u001b[38;5;28mprint\u001b[39m(\u001b[33mf\u001b[39m\u001b[33m\"\u001b[39m\u001b[33my:\u001b[39m\u001b[38;5;132;01m{\u001b[39;00my\u001b[38;5;132;01m}\u001b[39;00m\u001b[33m,predict:\u001b[39m\u001b[38;5;132;01m{\u001b[39;00mpredict\u001b[38;5;132;01m}\u001b[39;00m\u001b[33m\"\u001b[39m)\n",
      "\u001b[31mTypeError\u001b[39m: 'numpy.ndarray' object is not callable"
     ]
    }
   ],
   "source": [
    "#使用\n",
    "# 加载参数\n",
    "theta, bias = load_model()    \n",
    "# 模拟新数据\n",
    "x = [[5.1,3.8,1.5,0.3],[1.3,2.5,5.2,3.0],[2.2,3.1,4.0,3.5]]\n",
    "y = 0\n",
    "# 进行预测\n",
    "predict = np.round(predict(x,theta,bias))\n",
    "print(f\"y:{y},predict:{predict}\")"
   ]
  },
  {
   "cell_type": "markdown",
   "metadata": {},
   "source": []
  }
 ],
 "metadata": {
  "kernelspec": {
   "display_name": "py312",
   "language": "python",
   "name": "python3"
  },
  "language_info": {
   "codemirror_mode": {
    "name": "ipython",
    "version": 3
   },
   "file_extension": ".py",
   "mimetype": "text/x-python",
   "name": "python",
   "nbconvert_exporter": "python",
   "pygments_lexer": "ipython3",
   "version": "3.12.9"
  }
 },
 "nbformat": 4,
 "nbformat_minor": 2
}
