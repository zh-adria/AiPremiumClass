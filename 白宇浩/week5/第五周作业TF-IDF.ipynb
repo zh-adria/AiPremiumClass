{
 "cells": [
  {
   "cell_type": "code",
   "execution_count": 15,
   "metadata": {},
   "outputs": [
    {
     "name": "stdout",
     "output_type": "stream",
     "text": [
      "232\n",
      "['天才在左 疯子在右', '1Q84 BOOK 1', '悲伤逆流成河', '恶意', 'Harry Potter and the Deathly Hallows', '长安乱', '苏菲的世界', '许三观卖血记', '1995-2005夏至未至', '盗墓笔记', '霍乱时期的爱情', '三生三世 十里桃花', '基督山伯爵', '小时代1.0折纸时代', '洛丽塔', '1Q84 BOOK 2', '第一次的亲密接触', '神雕侠侣', '一座城池', '茶花女', '当我谈跑步时我谈些什么', '明朝那些事儿（贰）', '人类简史', '一個人住第5年', '明朝那些事儿（肆）', '寻路中国', '我们台湾这些年', '1Q84 BOOK 3', '摆渡人', '明朝那些事儿（伍）', '骆驼祥子', '盗墓笔记3', '麦琪的礼物', '格林童话全集', '水仙已乘鲤鱼去', '历史深处的忧虑', '金锁记', '草样年华', '刀锋', '飞鸟集', '七夜雪', '最初的爱情 最后的仪式', '拆掉思维里的墙', '明朝那些事儿（陆）', '追风筝的人', '小王子', '围城', '解忧杂货店', '活着', '白夜行', '挪威的森林', '嫌疑人X的献身', '三体', '不能承受的生命之轻', '红楼梦', '梦里花落知多少', '达·芬奇密码', '看见', '百年孤独', '1988：我想和这个世界谈谈', '何以笙箫默', '平凡的世界（全三部）', '简爱', '哈利·波特与魔法石', '三体Ⅱ', '飘', '送你一颗子弹', '三体Ⅲ', '傲慢与偏见', '倾城之恋', '三重门', '杜拉拉升职记', '明朝那些事儿（壹）', '哈利·波特与阿兹卡班的囚徒', '目送', '情人', '哈利·波特与密室', '万历十五年', '我们仨', '幻城', '致我们终将逝去的青春', '狼图腾', '微微一笑很倾城', '莲花', '哈利·波特与火焰杯', '边城', '月亮和六便士', '向左走·向右走', '穆斯林的葬礼', '从你的全世界路过', '天龙八部', '放学后', '哈利·波特与混血王子', '一个人的好天气', '哈利·波特与凤凰社', '喜宝', '海边的卡夫卡', '文化苦旅', '窗边的小豆豆', '三国演义（全二册）', '黄金时代', '悟空传', '兄弟（上）', '呼啸山庄', '笑傲江湖（全四册）', '少有人走的路', '民主的细节', '亲爱的安德烈', '灿烂千阳', '老人与海', '遇见未知的自己', '一九八四·动物农场', '牧羊少年奇幻之旅', '福尔摩斯探案全集（上中下）', '素年锦时', '情书', '他的国', '彼岸花', '西决', '东方快车谋杀案', '这些都是你给我的爱', '这些人，那些事', '八月未央', '清醒纪', '一个陌生女人的来信', '蔡康永的说话之道', '偷影子的人', '陪安东尼度过漫长岁月', '沉默的大多数', '白鹿原', '芒果街上的小屋', '羊脂球', '鲁滨逊漂流记', '灌篮高手31', '撒哈拉的故事', '巴黎圣母院', '肖申克的救赎', '麦田里的守望者', '无声告白', '山楂树之恋', '华胥引（全二册）', '地下铁', '且听风吟', '钢铁是怎样炼成的', '红玫瑰与白玫瑰', '人生若只如初见', '人间失格', '鬼吹灯之精绝古城', '安徒生童话故事集', '呐喊', '小团圆', '泡沫之夏', '会有天使替我爱你', '1984', '年华是无效信', '幻夜', '在路上', '射雕英雄传（全四册）', '明朝那些事儿（1-9）', '月亮忘記了', '明朝那些事儿（叁）', '哭泣的骆驼', '原来你还在这里', '半生缘', '此间的少年', '货币战争', '佳期如梦', '无人生还', '了不起的盖茨比', '时间旅行者的妻子', '告别薇安', '常识', '爱你就像爱生命', '步步惊心', '皮囊', '二三事', '兄弟（下）', '孤独六讲', '乌合之众', '盗墓笔记2', '失恋33天', '动物农场', '左耳', '鹿鼎记（全五册）', '荆棘鸟', '左手倒影，右手年华。', '零下一度', '像少年啦飞驰', '被窝是青春的坟墓', '关于莉莉周的一切', '机器猫哆啦A梦23', '阿Q正传', '乖，摸摸头', '大地之灯', '如何阅读一本书', '当我们谈论爱情时我们在谈论什么', '尘埃落定', '东霓', '海贼王', '那些回不去的年少时光', '孩子你慢慢来', '橙', '悲惨世界（上中下）', '盗墓笔记4', '巴别塔之犬', '香水', '一只特立独行的猪', '局外人', '一个人的朝圣', '史蒂夫·乔布斯传', '看不见的城市', '长恨歌', '匆匆那年（上下）', '蔷薇岛屿', '我的路', '菊与刀', '球状闪电', '谁动了我的奶酪？', '曾有一个人，爱我如生命', '那些年，我们一起追的女孩', '伊豆的舞女', '世界尽头与冷酷仙境', '鬼吹灯之云南虫谷', '明朝那些事儿（柒）：大结局', '把时间当作朋友', '秘密', '天使与魔鬼', '佛祖在一号线', '倚天屠龙记(共四册)', '阿狸·梦之城堡', '杜拉拉2华年似水', '不朽']\n",
      "《放学后》\t相似度：0.5409\n",
      "《解忧杂货店》\t相似度：0.4797\n",
      "《嫌疑人X的献身》\t相似度：0.4136\n",
      "《白夜行》\t相似度：0.3440\n",
      "《幻夜》\t相似度：0.2529\n",
      "《东方快车谋杀案》\t相似度：0.1851\n",
      "《达·芬奇密码》\t相似度：0.1403\n",
      "《无声告白》\t相似度：0.1341\n",
      "《皮囊》\t相似度：0.1328\n",
      "《人间失格》\t相似度：0.1244\n"
     ]
    }
   ],
   "source": [
    "import csv\n",
    "import jieba\n",
    "from sklearn.feature_extraction.text import TfidfVectorizer\n",
    "from sklearn.metrics.pairwise import cosine_similarity\n",
    "import numpy as np\n",
    "\n",
    "def load_data(douban_comments_fixed):\n",
    "    # 图书评论信息集合\n",
    "    book_comments = {}  \n",
    "    with open(douban_comments_fixed, 'r') as f:\n",
    "        reader = csv.DictReader(f, delimiter='\\t')  \n",
    "        for item in reader:\n",
    "            book = item['book']\n",
    "            comment = item['body']\n",
    "            comment_words = jieba.lcut(comment)\n",
    "            if book == '':\n",
    "                continue  # 跳过空书名\n",
    "            # 图书评论集合收集\n",
    "            if book not in book_comments:\n",
    "                book_comments[book] = []\n",
    "            book_comments[book].extend(comment_words)  \n",
    "    return book_comments\n",
    "\n",
    "if __name__ == '__main__':  \n",
    "    # 加载停用词列表\n",
    "    stop_words = [line.strip() for line in open(\"stopwords.txt\", \"r\", encoding=\"utf-8\")]\n",
    "    \n",
    "    # 加载图书评论信息\n",
    "    book_comments = load_data(\"douban_comments_fixed.txt\")\n",
    "    print(len(book_comments))\n",
    "    \n",
    "    # 提取书名和评论文本\n",
    "    book_names = []\n",
    "    book_comms = []\n",
    "    for book, comments in book_comments.items():\n",
    "        book_names.append(book)\n",
    "        book_comms.append(' '.join(comments))  \n",
    "    \n",
    "    # 构建TF-IDF特征矩阵\n",
    "    vectorizer = TfidfVectorizer(stop_words=stop_words)\n",
    "    tfidf_matrix = vectorizer.fit_transform(book_comms)\n",
    "    \n",
    "    # 计算图书之间的余弦相似度\n",
    "    similarity_matrix = cosine_similarity(tfidf_matrix)\n",
    "    \n",
    "    # 输入要推荐的图书名称\n",
    "    book_list = list(book_comments.keys())\n",
    "    print(book_list)\n",
    "    book_name = input(\"请输入图书名称：\")\n",
    "    book_idx = book_names.index(book_name)  # 获取图书索引\n",
    "    \n",
    "    # 获取与输入图书最相似的图书\n",
    "    recommend_book_index = np.argsort(-similarity_matrix[book_idx])[1:11]\n",
    "    \n",
    "    # 输出推荐的图书\n",
    "    for idx in recommend_book_index:\n",
    "        print(f\"《{book_names[idx]}》\\t相似度：{similarity_matrix[book_idx][idx]:.4f}\")\n",
    "    #"
   ]
  }
 ],
 "metadata": {
  "kernelspec": {
   "display_name": "base",
   "language": "python",
   "name": "python3"
  },
  "language_info": {
   "codemirror_mode": {
    "name": "ipython",
    "version": 3
   },
   "file_extension": ".py",
   "mimetype": "text/x-python",
   "name": "python",
   "nbconvert_exporter": "python",
   "pygments_lexer": "ipython3",
   "version": "3.12.3"
  }
 },
 "nbformat": 4,
 "nbformat_minor": 2
}
