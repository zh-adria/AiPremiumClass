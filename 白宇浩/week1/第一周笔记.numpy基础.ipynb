{
 "cells": [
  {
   "cell_type": "code",
   "execution_count": 1,
   "metadata": {},
   "outputs": [],
   "source": [
    "import numpy as np"
   ]
  },
  {
   "cell_type": "code",
   "execution_count": 19,
   "metadata": {},
   "outputs": [
    {
     "name": "stdout",
     "output_type": "stream",
     "text": [
      "[1 2 3 4 5]\n"
     ]
    }
   ],
   "source": [
    "#创建ndarray数组\n",
    "arr = np.array([1,2,3,4,5],int)\n",
    "arr\n",
    "print(arr)"
   ]
  },
  {
   "cell_type": "code",
   "execution_count": 15,
   "metadata": {},
   "outputs": [
    {
     "name": "stdout",
     "output_type": "stream",
     "text": [
      "[111. 222. 333.]\n"
     ]
    }
   ],
   "source": [
    "#创建ndarray数组 练习\n",
    "test1 = np.array([111,222,333],float)\n",
    "test1\n",
    "print(f'{test1}')"
   ]
  },
  {
   "cell_type": "code",
   "execution_count": 28,
   "metadata": {},
   "outputs": [
    {
     "name": "stdout",
     "output_type": "stream",
     "text": [
      "[[1 2 3]\n",
      " [4 5 6]\n",
      " [7 8 9]]\n"
     ]
    }
   ],
   "source": [
    "#创建多维数组 \n",
    "a = np.array([(1,2,3),(4,5,6),(7,8,9)])\n",
    "a\n",
    "print(f'{a}')"
   ]
  },
  {
   "cell_type": "code",
   "execution_count": 33,
   "metadata": {},
   "outputs": [
    {
     "name": "stdout",
     "output_type": "stream",
     "text": [
      "[[1 2 3 4]\n",
      " [2 3 4 5]\n",
      " [3 4 5 6]\n",
      " [4 5 6 7]]\n"
     ]
    }
   ],
   "source": [
    "#创建多维数组 练习\n",
    "test1 = np.array([(1,2,3,4),(2,3,4,5),(3,4,5,6),(4,5,6,7)])\n",
    "test1\n",
    "print(f'{test1}')"
   ]
  },
  {
   "cell_type": "code",
   "execution_count": 45,
   "metadata": {},
   "outputs": [
    {
     "data": {
      "text/plain": [
       "array([[0, 0, 0],\n",
       "       [0, 0, 0],\n",
       "       [0, 0, 0]])"
      ]
     },
     "execution_count": 45,
     "metadata": {},
     "output_type": "execute_result"
    }
   ],
   "source": [
    "#特殊数据 空数组\n",
    "a = np.zeros((3,3),dtype = int)\n",
    "#a = np.zeros((3,3),dtype = np.float32)\n",
    "a\n",
    "#上面例子中 zero  表示值域全部为0  \n",
    "#          (3,3) 表示维度 即3行3列\n",
    "#          dtype 表示数值类型  可以用np 中具体的长度"
   ]
  },
  {
   "cell_type": "code",
   "execution_count": null,
   "metadata": {},
   "outputs": [
    {
     "data": {
      "text/plain": [
       "array([[1, 1, 1],\n",
       "       [1, 1, 1],\n",
       "       [1, 1, 1]], dtype=int64)"
      ]
     },
     "execution_count": 46,
     "metadata": {},
     "output_type": "execute_result"
    }
   ],
   "source": [
    "#继续上面 讲zeros 替换为 ones 可得全部为1的矩阵   但没有twos之类\n",
    "a = np.ones((3,3),dtype = np.int64)\n",
    "a"
   ]
  },
  {
   "cell_type": "code",
   "execution_count": 48,
   "metadata": {},
   "outputs": [
    {
     "data": {
      "text/plain": [
       "array([1. , 1.5, 2. , 2.5, 3. , 3.5, 4. , 4.5])"
      ]
     },
     "execution_count": 48,
     "metadata": {},
     "output_type": "execute_result"
    }
   ],
   "source": [
    "#创建等差数列\n",
    "a = np.arange(1,5,0.5)\n",
    "a "
   ]
  },
  {
   "cell_type": "code",
   "execution_count": null,
   "metadata": {},
   "outputs": [
    {
     "data": {
      "text/plain": [
       "array([10. , 12.5, 15. , 17.5])"
      ]
     },
     "execution_count": 54,
     "metadata": {},
     "output_type": "execute_result"
    }
   ],
   "source": [
    "#创建等差数列 练习\n",
    "#np.arange 函数第一位表示起始，第二位表示终止，第三位表示差额 函数是左闭右开结构的区间\n",
    "test2 = np.arange(10,20,2.5)\n",
    "test2 "
   ]
  },
  {
   "cell_type": "code",
   "execution_count": 64,
   "metadata": {},
   "outputs": [
    {
     "data": {
      "text/plain": [
       "array([[1., 0., 0.],\n",
       "       [0., 1., 0.],\n",
       "       [0., 0., 1.]])"
      ]
     },
     "execution_count": 64,
     "metadata": {},
     "output_type": "execute_result"
    }
   ],
   "source": [
    "#特殊矩阵 单位矩阵 矩阵乘法中的 1  \n",
    "# one-hot 编码 每行第一个都是1\n",
    "a = np.eye(3)\n",
    "a"
   ]
  },
  {
   "cell_type": "code",
   "execution_count": 82,
   "metadata": {},
   "outputs": [
    {
     "data": {
      "text/plain": [
       "array([[1., 0., 0., 0., 0.],\n",
       "       [0., 1., 0., 0., 0.],\n",
       "       [0., 0., 1., 0., 0.],\n",
       "       [0., 0., 0., 1., 0.],\n",
       "       [0., 0., 0., 0., 1.]])"
      ]
     },
     "execution_count": 82,
     "metadata": {},
     "output_type": "execute_result"
    }
   ],
   "source": [
    "#特殊矩阵 单位矩阵 矩阵乘法中的 1  练习\n",
    "# one-hot 编码 每行第一个都是1\n",
    "test2 = np.eye(5)\n",
    "test2"
   ]
  },
  {
   "cell_type": "code",
   "execution_count": 78,
   "metadata": {},
   "outputs": [
    {
     "data": {
      "text/plain": [
       "array([0.78741649, 0.17488336, 0.42058157, 0.51956911, 0.54864749,\n",
       "       0.52111721, 0.4007712 , 0.16072836, 0.37990055, 0.36452329])"
      ]
     },
     "execution_count": 78,
     "metadata": {},
     "output_type": "execute_result"
    }
   ],
   "source": [
    "#[0-1)之间的随机数 5表示生成数量 作为模型运算的初始参数\n",
    "np.random.random(5)\n",
    "np.random.random(10)"
   ]
  },
  {
   "cell_type": "code",
   "execution_count": 83,
   "metadata": {},
   "outputs": [
    {
     "data": {
      "text/plain": [
       "array([0.03316291, 0.73323714, 0.75371658, 0.04022828, 0.49885518,\n",
       "       0.27040291, 0.7095548 , 0.56116644, 0.27727307, 0.25910364])"
      ]
     },
     "execution_count": 83,
     "metadata": {},
     "output_type": "execute_result"
    }
   ],
   "source": [
    "#[0-1)之间的随机数 5表示生成数量 作为模型运算的初始参数 练习改为10\n",
    "np.random.random(10)"
   ]
  },
  {
   "cell_type": "code",
   "execution_count": 101,
   "metadata": {},
   "outputs": [
    {
     "data": {
      "text/plain": [
       "array([ 0.01159694,  0.31550017,  0.11978502, -0.06631334,  0.05211583])"
      ]
     },
     "execution_count": 101,
     "metadata": {},
     "output_type": "execute_result"
    }
   ],
   "source": [
    "#正态分布的随机数\n",
    "#在正态分布中，参数 μ 和 σ 分别代表分布的均值和标准差）。\n",
    "mu,sigma =0,0.1\n",
    "np.random.normal(mu,sigma,5)"
   ]
  },
  {
   "cell_type": "code",
   "execution_count": 99,
   "metadata": {},
   "outputs": [
    {
     "data": {
      "text/plain": [
       "array([-5.88277913,  8.720119  , 10.57577801, 21.74283038,  8.80380472,\n",
       "       15.30134577])"
      ]
     },
     "execution_count": 99,
     "metadata": {},
     "output_type": "execute_result"
    }
   ],
   "source": [
    "#正态分布的随机数 练习修改了mu,sigma 的值\n",
    "#在正态分布中，参数 μ 和 σ 分别代表分布的均值和标准差）。\n",
    "mu,sigma =10,8\n",
    "np.random.normal(mu,sigma,6)"
   ]
  },
  {
   "cell_type": "code",
   "execution_count": 114,
   "metadata": {},
   "outputs": [
    {
     "name": "stdout",
     "output_type": "stream",
     "text": [
      "[[1 2]\n",
      " [3 4]\n",
      " [5 6]]\n",
      "-------------------------\n",
      "[2 4 6]\n",
      "-------------------------\n",
      "[[3 4]\n",
      " [5 6]]\n"
     ]
    }
   ],
   "source": [
    "#np中数组的的访问\n",
    "a6 = np.array([(1,2),(3,4),(5,6)])\n",
    "a6\n",
    "print(a6)\n",
    "print('-------------------------')\n",
    "print(a6[:,1])\n",
    "print('-------------------------')\n",
    "print(a6[1:])\n"
   ]
  },
  {
   "cell_type": "code",
   "execution_count": 127,
   "metadata": {},
   "outputs": [
    {
     "name": "stdout",
     "output_type": "stream",
     "text": [
      "[[1 2 3]\n",
      " [4 5 6]\n",
      " [7 8 9]]\n",
      "-------------------------\n",
      "[2 5 8]\n",
      "-------------------------\n",
      "5\n",
      "-------------------------\n",
      "[1 4 7]\n",
      "-------------------------\n",
      "[1 2 3]\n",
      "[3 6 9]\n",
      "1 5 3\n"
     ]
    }
   ],
   "source": [
    "#np中数组的的访问  练习\n",
    "test3 = np.array([(1,2,3),(4,5,6),(7,8,9)])\n",
    "test3\n",
    "# ：指 行没有范围 1 指 列的范围为1\n",
    "print(test3)\n",
    "print('-------------------------')\n",
    "print(test3[:,1])\n",
    "print('-------------------------')\n",
    "print(test3[1,1])\n",
    "print('-------------------------')\n",
    "#输出135\n",
    "#输出147\n",
    "print(test3[:,0])\n",
    "print('-------------------------')\n",
    "print(test3[0,:])\n",
    "print(test3[:,2])\n",
    "print(test3[0,0],test3[1,1],test3[0,2])"
   ]
  },
  {
   "cell_type": "code",
   "execution_count": 129,
   "metadata": {},
   "outputs": [
    {
     "name": "stdout",
     "output_type": "stream",
     "text": [
      "[1 2]\n",
      "[3 4]\n",
      "[5 6]\n"
     ]
    }
   ],
   "source": [
    "#数组中的遍历\n",
    "a6 = np.array([(1,2),(3,4),(5,6)])\n",
    "a6\n",
    "for i in a6:\n",
    "    print(i)"
   ]
  },
  {
   "cell_type": "code",
   "execution_count": null,
   "metadata": {},
   "outputs": [
    {
     "name": "stdout",
     "output_type": "stream",
     "text": [
      "2\n",
      "-------------------------\n",
      "3\n",
      "12\n",
      "-------------------------\n",
      "7\n",
      "30\n",
      "-------------------------\n",
      "11\n"
     ]
    }
   ],
   "source": [
    "#多为数组中的遍历 + 作业\n",
    "a6 = np.array([(1,2),(3,4),(5,6)])\n",
    "a6\n",
    "for i,j in a6:\n",
    "    print(i*j)\n",
    "    print('-------------------------')\n",
    "    print(i+j)"
   ]
  },
  {
   "cell_type": "code",
   "execution_count": 136,
   "metadata": {},
   "outputs": [
    {
     "name": "stdout",
     "output_type": "stream",
     "text": [
      "1 2\n",
      "-------------------------\n",
      "1 2 2\n",
      "3 4 12\n",
      "5 6 30\n",
      "-------------------------\n"
     ]
    }
   ],
   "source": [
    "#多为数组中的遍历 + 作业\n",
    "a7 = np.array([(1,2),(3,4),(5,6)])\n",
    "a7\n",
    "i,j = a7[0]\n",
    "print(i,j)\n",
    "print('-------------------------')\n",
    "for i,j in a7:\n",
    "    print(i,j,i*j)\n",
    "print('-------------------------')"
   ]
  },
  {
   "cell_type": "code",
   "execution_count": null,
   "metadata": {},
   "outputs": [
    {
     "name": "stdout",
     "output_type": "stream",
     "text": [
      "[[1 2 3]\n",
      " [4 5 6]\n",
      " [7 8 9]]\n",
      "-------------------------\n",
      "ndim: 2\n",
      "-------------------------\n",
      "shape: (3, 3)\n",
      "-------------------------\n",
      "size: 9\n",
      "-------------------------\n",
      "dtype: int32\n",
      "-------------------------\n"
     ]
    }
   ],
   "source": [
    "#数组的属性\n",
    "aa = np.array([(1,2,3),(4,5,6),(7,8,9)])\n",
    "print(aa)\n",
    "print('-------------------------')\n",
    "#ndim 查看维度\n",
    "print(\"ndim:\",aa.ndim)\n",
    "print('-------------------------')\n",
    "#ndim 查看形状\n",
    "print(\"shape:\",aa.shape)\n",
    "print('-------------------------')\n",
    "#ndim 查看总数\n",
    "print(\"size:\",aa.size)\n",
    "print('-------------------------')\n",
    "#ndim 查看类型\n",
    "print(\"dtype:\",aa.dtype)\n",
    "print('-------------------------')\n",
    "#对数组进行计算时，进行提前了解数组内部\n"
   ]
  },
  {
   "cell_type": "code",
   "execution_count": 150,
   "metadata": {},
   "outputs": [
    {
     "name": "stdout",
     "output_type": "stream",
     "text": [
      "[[1 2 3]\n",
      " [4 5 6]\n",
      " [7 8 9]]\n",
      "-------------------------\n",
      "True\n",
      "-------------------------\n",
      "False\n",
      "-------------------------\n",
      "False\n",
      "-------------------------\n",
      "True\n",
      "-------------------------\n"
     ]
    }
   ],
   "source": [
    "#数组的基本操作\n",
    "#1.是否存在\n",
    "aa = np.array([(1,2,3),(4,5,6),(7,8,9)])\n",
    "print(aa)\n",
    "print('-------------------------')\n",
    "print(3 in aa)\n",
    "print('-------------------------')\n",
    "print(77 in aa)\n",
    "print('-------------------------')\n",
    "print(3 not in aa)\n",
    "print('-------------------------')\n",
    "print(77 not in aa)\n",
    "print('-------------------------')"
   ]
  },
  {
   "cell_type": "code",
   "execution_count": 151,
   "metadata": {},
   "outputs": [
    {
     "name": "stdout",
     "output_type": "stream",
     "text": [
      "3 in aa\n"
     ]
    }
   ],
   "source": [
    "#用if进行判断\n",
    "if 3 in aa:\n",
    "    print(\"3 in aa\")\n",
    "else: \n",
    "    print(\"3 not in aa\")     "
   ]
  },
  {
   "cell_type": "code",
   "execution_count": 152,
   "metadata": {},
   "outputs": [
    {
     "name": "stdout",
     "output_type": "stream",
     "text": [
      "3 not in aa\n"
     ]
    }
   ],
   "source": [
    "#用if进行判断\n",
    "if 77 in aa:\n",
    "    print(\"3 in aa\")\n",
    "else: \n",
    "    print(\"3 not in aa\")     "
   ]
  },
  {
   "cell_type": "code",
   "execution_count": 157,
   "metadata": {},
   "outputs": [
    {
     "name": "stdout",
     "output_type": "stream",
     "text": [
      "False\n",
      "-------------------------\n",
      "True\n",
      "-------------------------\n",
      "True\n"
     ]
    }
   ],
   "source": [
    "#直接输出\n",
    "print(99 in aa)\n",
    "print('-------------------------')\n",
    "print(1 in aa)\n",
    "print('-------------------------')\n",
    "#print((2,3) in aa) 不符合维度 会报错\n",
    "print((1,2,3) in aa)  #这样可以"
   ]
  },
  {
   "cell_type": "code",
   "execution_count": 171,
   "metadata": {},
   "outputs": [
    {
     "name": "stdout",
     "output_type": "stream",
     "text": [
      "[[[0. 0. 0. 0.]\n",
      "  [0. 0. 0. 0.]\n",
      "  [0. 0. 0. 0.]]\n",
      "\n",
      " [[0. 0. 0. 0.]\n",
      "  [0. 0. 0. 0.]\n",
      "  [0. 0. 0. 0.]]]\n",
      "-------------------------\n",
      "-------------------------\n"
     ]
    },
    {
     "data": {
      "text/plain": [
       "array([[0., 0., 0., 0., 0., 0., 0., 0., 0., 0., 0., 0.],\n",
       "       [0., 0., 0., 0., 0., 0., 0., 0., 0., 0., 0., 0.]])"
      ]
     },
     "execution_count": 171,
     "metadata": {},
     "output_type": "execute_result"
    }
   ],
   "source": [
    "#reshape 把高维数组重新编排\n",
    "a = np.zeros([2,3,4])\n",
    "print(a)\n",
    "print('-------------------------')\n",
    "a.reshape(24)\n",
    "print('-------------------------')\n",
    "a.reshape(2,12)"
   ]
  },
  {
   "cell_type": "code",
   "execution_count": 179,
   "metadata": {},
   "outputs": [
    {
     "name": "stdout",
     "output_type": "stream",
     "text": [
      "[1 2 3 4 5 6 7 8 9]\n",
      "-------------------------\n",
      "-------------------------\n",
      "-------------------------\n",
      "[[1 2 3]\n",
      " [4 5 6]\n",
      " [7 8 9]]\n",
      "-------------------------\n",
      "(3, 3)\n"
     ]
    }
   ],
   "source": [
    "#reshape 把高维数组重新编排\n",
    "a = np.arange(1,10)\n",
    "print(a)\n",
    "print('-------------------------')\n",
    "a.reshape(9)\n",
    "print('-------------------------')\n",
    "a = a.reshape(3,3)\n",
    "print('-------------------------')\n",
    "print(a)\n",
    "print('-------------------------')\n",
    "print(a.shape)\n",
    "#reshape 维度大小的乘积 == 元素个数  \n",
    "#实际使用时 每个维度都有含义\n",
    "#加载图像数据\n",
    "#img.shape[1，3，120，120] 1 图像数量 3 颜色特征通道 120高 *120宽 "
   ]
  },
  {
   "cell_type": "code",
   "execution_count": null,
   "metadata": {},
   "outputs": [
    {
     "name": "stdout",
     "output_type": "stream",
     "text": [
      "[[1 2 3]\n",
      " [4 5 6]\n",
      " [7 8 9]]\n",
      "-------------------------\n"
     ]
    },
    {
     "data": {
      "text/plain": [
       "array([[1, 4, 7],\n",
       "       [2, 5, 8],\n",
       "       [3, 6, 9]])"
      ]
     },
     "execution_count": 183,
     "metadata": {},
     "output_type": "execute_result"
    }
   ],
   "source": [
    "#transpose 把数组转置 \n",
    "a = np.array([(1,2,3),(4,5,6),(7,8,9)])\n",
    "print(a)\n",
    "print('-------------------------')\n",
    "a.transpose()"
   ]
  },
  {
   "cell_type": "code",
   "execution_count": null,
   "metadata": {},
   "outputs": [
    {
     "name": "stdout",
     "output_type": "stream",
     "text": [
      "[[1 2]\n",
      " [3 4]\n",
      " [5 6]]\n",
      "-------------------------\n"
     ]
    },
    {
     "data": {
      "text/plain": [
       "array([[1, 3, 5],\n",
       "       [2, 4, 6]])"
      ]
     },
     "execution_count": 187,
     "metadata": {},
     "output_type": "execute_result"
    }
   ],
   "source": [
    "#transpose 把数组转置  a.T\n",
    "a = np.array([(1,2),(3,4),(5,6)])\n",
    "print(a)\n",
    "print('-------------------------')\n",
    "#a.transpose()\n",
    "a.T"
   ]
  },
  {
   "cell_type": "code",
   "execution_count": 188,
   "metadata": {},
   "outputs": [
    {
     "name": "stdout",
     "output_type": "stream",
     "text": [
      "[[1 2]\n",
      " [3 4]\n",
      " [5 6]]\n",
      "-------------------------\n"
     ]
    },
    {
     "data": {
      "text/plain": [
       "array([1, 2, 3, 4, 5, 6])"
      ]
     },
     "execution_count": 188,
     "metadata": {},
     "output_type": "execute_result"
    }
   ],
   "source": [
    "#flatten 把数组转为一维的向量\n",
    "a = np.array([(1,2),(3,4),(5,6)])\n",
    "print(a)\n",
    "print('-------------------------')\n",
    "a.flatten()"
   ]
  },
  {
   "cell_type": "code",
   "execution_count": 195,
   "metadata": {},
   "outputs": [
    {
     "name": "stdout",
     "output_type": "stream",
     "text": [
      "[[1 2 3]\n",
      " [4 5 6]\n",
      " [7 8 9]]\n",
      "-------------------------\n",
      "[1 2 3 4 5 6 7 8 9]\n"
     ]
    }
   ],
   "source": [
    "#flatten 把数组转为一维的向量  练习\n",
    "a = np.array([(1,2,3),(4,5,6),(7,8,9)])\n",
    "print(a)\n",
    "print('-------------------------')\n",
    "#a = a.transpose()\n",
    "a = a.flatten()\n",
    "print(a)"
   ]
  },
  {
   "cell_type": "code",
   "execution_count": 213,
   "metadata": {},
   "outputs": [
    {
     "name": "stdout",
     "output_type": "stream",
     "text": [
      "[[1 2]\n",
      " [3 4]\n",
      " [5 6]]\n",
      "(3, 2)\n",
      "-------------------------\n",
      "-------------------------\n",
      "[[1 2]\n",
      " [3 4]\n",
      " [5 6]]\n",
      "(3, 2)\n",
      "-------------------------\n",
      "[[[1]\n",
      "  [2]]\n",
      "\n",
      " [[3]\n",
      "  [4]]\n",
      "\n",
      " [[5]\n",
      "  [6]]]\n",
      "(3, 2, 1)\n"
     ]
    }
   ],
   "source": [
    "#newaxis 增加维度\n",
    "a = np.array([(1,2),(3,4),(5,6)])\n",
    "print(a)\n",
    "print(a.shape)\n",
    "print('-------------------------')\n",
    "#a = a[:,np.newaxis,:]\n",
    "print('-------------------------')\n",
    "print(a)\n",
    "print(a.shape)\n",
    "a = a[:,:,np.newaxis]\n",
    "print('-------------------------')\n",
    "print(a)\n",
    "print(a.shape)"
   ]
  },
  {
   "cell_type": "code",
   "execution_count": null,
   "metadata": {},
   "outputs": [
    {
     "name": "stdout",
     "output_type": "stream",
     "text": [
      "[[1. 1.]\n",
      " [1. 1.]]\n",
      "---------------------------\n",
      "[[-1  1]\n",
      " [-1  1]]\n",
      "---------------------------\n",
      "[[0. 2.]\n",
      " [0. 2.]]\n",
      "---------------------------\n",
      "[[-1.  1.]\n",
      " [-1.  1.]]\n"
     ]
    }
   ],
   "source": [
    "#数学计算 数组 对 数组 \n",
    "a = np.ones((2,2))\n",
    "b = np.array([(-1,1),(-1,1)])\n",
    "print(a)\n",
    "print('---------------------------')\n",
    "print(b)\n",
    "print('---------------------------')\n",
    "print(a+b)\n",
    "print('---------------------------')\n",
    "print(a*b)"
   ]
  },
  {
   "cell_type": "code",
   "execution_count": 234,
   "metadata": {},
   "outputs": [
    {
     "name": "stdout",
     "output_type": "stream",
     "text": [
      "10\n",
      "---------------------------\n",
      "24\n",
      "---------------------------\n",
      "2.5\n",
      "---------------------------\n",
      "1.25\n",
      "---------------------------\n",
      "1.118033988749895\n",
      "---------------------------\n",
      "4\n",
      "---------------------------\n",
      "1\n"
     ]
    }
   ],
   "source": [
    "#数学计算 数组 对 内\n",
    "#sum 求和  prod 求积  mean 平均 var 方差 std 标准差 max 最大 min 最小\n",
    "a = np.array([(1,2,3,4)])\n",
    "print(a.sum())\n",
    "print('---------------------------')\n",
    "print(a.prod())\n",
    "print('---------------------------')\n",
    "print(a.mean())\n",
    "print('---------------------------')\n",
    "print(a.var())\n",
    "print('---------------------------')\n",
    "print(a.std())\n",
    "print('---------------------------')\n",
    "print(a.max())\n",
    "print('---------------------------')\n",
    "print(a.min())"
   ]
  },
  {
   "cell_type": "code",
   "execution_count": null,
   "metadata": {},
   "outputs": [],
   "source": [
    "#数组中的索引\n",
    "#argmax 最大值的索引  argmin 最小值的索引  ceil 向上取整 floor 向下取整 rint 四舍五入 \n",
    "a = np.array([(1.2,3.8,4.9)])\n",
    "print(f'argmax',a.argmax())\n",
    "print('---------------------------')\n",
    "print(f'argmin',a.argmin())\n",
    "print('---------------------------')\n",
    "print(f'ceil',np.ceil(a))\n",
    "print('---------------------------')\n",
    "print(f'floor',np.floor(a))\n",
    "print('---------------------------')\n",
    "print(f'rint',np.rint(a))"
   ]
  },
  {
   "cell_type": "code",
   "execution_count": 249,
   "metadata": {},
   "outputs": [
    {
     "name": "stdout",
     "output_type": "stream",
     "text": [
      "[16 31 12 28 22 31 48]\n",
      "---------------------------\n",
      "[12 16 22 28 31 31 48]\n"
     ]
    }
   ],
   "source": [
    "#排序\n",
    "#sort\n",
    "a = np.array([16,31,12,28,22,31,48])\n",
    "print(a)\n",
    "print('---------------------------')\n",
    "a.sort()\n",
    "print(a)"
   ]
  },
  {
   "cell_type": "code",
   "execution_count": 250,
   "metadata": {},
   "outputs": [
    {
     "name": "stdout",
     "output_type": "stream",
     "text": [
      "[[3 2 1]\n",
      " [4 6 5]\n",
      " [7 9 8]]\n",
      "---------------------------\n",
      "[[1 2 3]\n",
      " [4 5 6]\n",
      " [7 8 9]]\n"
     ]
    }
   ],
   "source": [
    "#排序 练习\n",
    "#sort\n",
    "a = np.array([(3,2,1),(4,6,5),(7,9,8)])\n",
    "print(a)\n",
    "print('---------------------------')\n",
    "a.sort()\n",
    "print(a)"
   ]
  },
  {
   "cell_type": "code",
   "execution_count": null,
   "metadata": {},
   "outputs": [],
   "source": [
    "#数组，矩阵，维度 \n",
    "#数组，矩阵: 数据组织的结构形式\n",
    "#维度：地址 ，把现实中的实际落进去"
   ]
  },
  {
   "cell_type": "code",
   "execution_count": 4,
   "metadata": {},
   "outputs": [
    {
     "name": "stdout",
     "output_type": "stream",
     "text": [
      "[[1 2]\n",
      " [4 5]]\n",
      "\n",
      "[[4 5]\n",
      " [7 8]]\n",
      "\n",
      "[[18 21]\n",
      " [51 60]]\n"
     ]
    }
   ],
   "source": [
    "#numpy线性代数 在numpy.linalg中\n",
    "# 矩阵matrix / array  都可以用array更灵活\n",
    "# 矩阵乘法  两个矩阵相同的 直接乘\n",
    "a = np.array([[1,2],[4,5]]) \n",
    "b = np.array([[4,5],[7,8]]) \n",
    "#一维计算的是这两个数组对应下标元素的乘积和\n",
    "#计算的是两个数组的矩阵乘积\n",
    "#对于多维数组，它的通⽤计算公式如下，即结果数组中的每个元素都是：数组 a 的最\n",
    "#后⼀维上的所有元素与数组 b 的倒数第⼆位上的所有元素的乘积和：以下为公式\n",
    "#dot(a, b)[i,j,k,m]= sum(a[i,j,:] * b[k,:,m])\n",
    "print(a)\n",
    "print()\n",
    "print(b)\n",
    "print()\n",
    "a2=np.dot(a,b)\n",
    "print(a2)\n",
    "#即将第一行的数组中的元素与第二行的数组中对应的元素相乘做和\n",
    "#1：[1,2] 同 [4，7]进行第一次计算 1*4 + 2*7 == 4 + 14 = 18\n",
    "#2：[1,2] 同 [5，8]进行第二次计算 1*5 + 2*8 == 5 + 16 = 21\n",
    "#3：[4,5] 同 [4，7]进行第三次计算 4*4 + 5*7 == 16 + 35 = 51\n",
    "#4：[4,5] 同 [5，8]进行第三次计算 4*5 + 5*8 == 20 + 40 = 60\n",
    "#其他计算方式同样支持 eig 特征值，特征向量 inv 逆 qr QR分解 svd 奇异值分解 solve 解线性方程Ax = b "
   ]
  },
  {
   "cell_type": "code",
   "execution_count": 5,
   "metadata": {},
   "outputs": [],
   "source": [
    "#可以对np数据进行文件保存\n",
    "#二进制 np.save np.load  /npy后缀格式\n",
    "#文本 np.loadtxt np.savetxt \n",
    "np.save('a2.npy',a2)"
   ]
  },
  {
   "cell_type": "code",
   "execution_count": 6,
   "metadata": {},
   "outputs": [
    {
     "data": {
      "text/plain": [
       "array([[18, 21],\n",
       "       [51, 60]])"
      ]
     },
     "execution_count": 6,
     "metadata": {},
     "output_type": "execute_result"
    }
   ],
   "source": [
    "np.load('a2.npy')"
   ]
  },
  {
   "cell_type": "code",
   "execution_count": 61,
   "metadata": {},
   "outputs": [
    {
     "name": "stdout",
     "output_type": "stream",
     "text": [
      "矩阵 1:\n",
      "[[1. 2.]\n",
      " [3. 4.]]\n",
      "矩阵 2:\n",
      "[[5. 6.]\n",
      " [7. 8.]]\n",
      "使⽤ np.dot 得到的矩阵乘法结果:\n",
      "[[19. 22.]\n",
      " [43. 50.]]\n",
      "使⽤ @ 运算符得到的矩阵乘法结果:\n",
      "[[19. 22.]\n",
      " [43. 50.]]\n",
      "1.0 * 5.0 = 5.0\n",
      "结果矩阵[1,1]:5.0\n",
      "\n",
      "2.0 * 7.0 = 14.0\n",
      "结果矩阵[1,1]:19.0\n",
      "\n",
      "1.0 * 6.0 = 6.0\n",
      "结果矩阵[1,2]:6.0\n",
      "\n",
      "2.0 * 8.0 = 16.0\n",
      "结果矩阵[1,2]:22.0\n",
      "\n",
      "3.0 * 5.0 = 15.0\n",
      "结果矩阵[2,1]:15.0\n",
      "\n",
      "4.0 * 7.0 = 28.0\n",
      "结果矩阵[2,1]:43.0\n",
      "\n",
      "3.0 * 6.0 = 18.0\n",
      "结果矩阵[2,2]:18.0\n",
      "\n",
      "4.0 * 8.0 = 32.0\n",
      "结果矩阵[2,2]:50.0\n",
      "\n",
      "⼿动推演结果:\n",
      "[[19. 22.]\n",
      " [43. 50.]]\n"
     ]
    }
   ],
   "source": [
    "import numpy as np\n",
    "# 定义两个简单的矩阵\n",
    "m1 = np.array([[1,2], [3,4]] , dtype=np.float32)\n",
    "m2 = np.array([[5,6], [7,8]] , dtype=np.float32)\n",
    "# 使⽤ np.dot 进⾏矩阵乘法\n",
    "result_dot = np.dot(m1, m2)\n",
    "# 使⽤ @ 运算符进⾏矩阵乘法\n",
    "result_at = m1 @ m2\n",
    "print(\"矩阵 1:\")\n",
    "print(m1)\n",
    "print(\"矩阵 2:\")\n",
    "print(m2)\n",
    "print(\"使⽤ np.dot 得到的矩阵乘法结果:\")\n",
    "print(result_dot)\n",
    "print(\"使⽤ @ 运算符得到的矩阵乘法结果:\")\n",
    "print(result_at)\n",
    "# 创建⼀个全零矩阵，⽤于存储⼿动推演的结果\n",
    "# 结果矩阵的⾏数等于 matrix1 的⾏数，列数等于 matrix2 的列数\n",
    "manual_result = np.zeros((m1.shape[0], m2.shape[1]), dtype=np.float32)\n",
    "# 外层循环：遍历 matrix1 的每⼀⾏\n",
    "# i 表⽰结果矩阵的⾏索引\n",
    "for i in range(m1.shape[0]):\n",
    " # 中层循环：遍历 matrix2 的每⼀列\n",
    " # j 表⽰结果矩阵的列索引\n",
    "  for j in range(m2.shape[1]):\n",
    " # 初始化当前位置的结果为 0\n",
    "    manual_result[i,j] = 0\n",
    " # 内层循环：计算 matrix1 的第 i ⾏与 matrix2 的第 j 列对应元素的乘积之和\n",
    " # k 表⽰参与乘法运算的元素索引\n",
    "    for k in range(m1.shape[1]):\n",
    " # 打印当前正在计算的元素\n",
    "      print(f\"{m1[i,k]} * {m2[k,j]} = {m1[i,k] * m2[k,j]}\")\n",
    " # 将 matrix1 的第 i ⾏第 k 列元素与 matrix2 的第 k ⾏第 j 列元素相乘，并累\n",
    "      manual_result[i,j] += m1[i,k] * m2[k,j]\n",
    " # 打印当前位置计算完成后的结果\n",
    "      print(f\"结果矩阵[{i+1},{j+1}]:{manual_result[i, j]}\\n\")\n",
    "print(\"⼿动推演结果:\")\n",
    "print(manual_result)"
   ]
  },
  {
   "cell_type": "code",
   "execution_count": null,
   "metadata": {},
   "outputs": [
    {
     "name": "stdout",
     "output_type": "stream",
     "text": [
      "[[1 2 3]\n",
      " [4 5 6]\n",
      " [7 8 9]]\n",
      "\n",
      "[[1 2 3]\n",
      " [4 5 6]\n",
      " [7 8 9]]\n",
      "\n",
      "[[ 30  36  42]\n",
      " [ 66  81  96]\n",
      " [102 126 150]]\n",
      "\n"
     ]
    }
   ],
   "source": [
    "#练习\n",
    "a = np.array([[1,2,3],[4,5,6],[7,8,9]]) \n",
    "b = np.array([[1,2,3],[4,5,6],[7,8,9]]) \n",
    "print(a)\n",
    "print()\n",
    "print(b)\n",
    "print()\n",
    "print(a @ b)\n",
    "print()\n",
    "#这里的81 是456 同258 进行计算 8 + 25 + 48 = 81 得到的"
   ]
  },
  {
   "cell_type": "code",
   "execution_count": null,
   "metadata": {},
   "outputs": [
    {
     "data": {
      "text/plain": [
       "array([2, 4, 6])"
      ]
     },
     "execution_count": 7,
     "metadata": {},
     "output_type": "execute_result"
    }
   ],
   "source": [
    "#np的广播机制 重要\n",
    "#计算两个数组，维度不同的时候，将低维进行高维的自动扩充\n",
    "a = np.array([1,2,3])\n",
    "b = np.array([1,2,3])\n",
    "a+b"
   ]
  },
  {
   "cell_type": "code",
   "execution_count": 21,
   "metadata": {},
   "outputs": [
    {
     "name": "stdout",
     "output_type": "stream",
     "text": [
      "(4, 2)\n",
      "\n",
      "(2,)\n",
      "\n",
      "[[1 2]\n",
      " [2 3]\n",
      " [3 4]\n",
      " [4 5]]\n",
      "\n",
      "[1 2]\n",
      "\n",
      "[[2 4]\n",
      " [3 5]\n",
      " [4 6]\n",
      " [5 7]]\n",
      "\n",
      "[ 5  8 11 14]\n",
      "\n"
     ]
    }
   ],
   "source": [
    "#不同的时候\n",
    "#计算要求左边矩阵的列= 右边矩阵的行 \n",
    "#这里的a为4行两列，b只有一个维度 因为右边的行必须= 左边的列 所以这里b会被按列进行定义计算\n",
    "a = np.array([(1,2),(2,3),(3,4),(4,5)])\n",
    "b = np.array([1,2])\n",
    "print(a.shape)\n",
    "print()\n",
    "print(b.shape)\n",
    "print()\n",
    "print(a)\n",
    "print()\n",
    "print(b)\n",
    "print()\n",
    "print(a+b)\n",
    "print()\n",
    "print(a @ b)\n",
    "print()\n",
    "#  1*1 + 2*2 = 5\n",
    "#  2*1 + 3*2 = 8\n",
    "#  3*1 + 4*2 = 11\n",
    "#  4*1 + 5*2 = 14"
   ]
  },
  {
   "cell_type": "code",
   "execution_count": 4,
   "metadata": {},
   "outputs": [
    {
     "name": "stdout",
     "output_type": "stream",
     "text": [
      "[[1 2 3]\n",
      " [3 4 5]\n",
      " [4 5 6]]\n",
      "(3, 3)\n",
      "\n",
      "[1 2 3]\n",
      "(3,)\n",
      "\n",
      "[14 26 32]\n",
      "(3,)\n"
     ]
    }
   ],
   "source": [
    "a = np.array([(1,2,3),(3,4,5),(4,5,6)])\n",
    "b = np.array([1,2,3])\n",
    "print(a)\n",
    "print(a.shape)\n",
    "print()\n",
    "print(b)\n",
    "print(b.shape)\n",
    "print()\n",
    "c = a @ b \n",
    "print(c)\n",
    "print(c.shape)"
   ]
  }
 ],
 "metadata": {
  "kernelspec": {
   "display_name": "py312",
   "language": "python",
   "name": "python3"
  },
  "language_info": {
   "codemirror_mode": {
    "name": "ipython",
    "version": 3
   },
   "file_extension": ".py",
   "mimetype": "text/x-python",
   "name": "python",
   "nbconvert_exporter": "python",
   "pygments_lexer": "ipython3",
   "version": "3.12.9"
  }
 },
 "nbformat": 4,
 "nbformat_minor": 2
}
