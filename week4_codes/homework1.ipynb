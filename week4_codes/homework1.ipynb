{
 "cells": [
  {
   "cell_type": "markdown",
   "metadata": {},
   "source": [
    "#### 搭建的神经网络，使用olivettiface数据集进行训练"
   ]
  },
  {
   "cell_type": "code",
   "execution_count": 7,
   "metadata": {},
   "outputs": [],
   "source": [
    "from sklearn.datasets import fetch_olivetti_faces"
   ]
  },
  {
   "cell_type": "code",
   "execution_count": 8,
   "metadata": {},
   "outputs": [
    {
     "name": "stdout",
     "output_type": "stream",
     "text": [
      "(400, 4096)\n",
      "(400,)\n",
      "(400, 64, 64)\n"
     ]
    }
   ],
   "source": [
    "olivetti_faces = fetch_olivetti_faces(data_home='./face_data', shuffle=True)\n",
    "print(olivetti_faces.data.shape)\n",
    "print(olivetti_faces.target.shape)\n",
    "print(olivetti_faces.images.shape)"
   ]
  },
  {
   "cell_type": "code",
   "execution_count": 9,
   "metadata": {},
   "outputs": [
    {
     "data": {
      "image/png": "[encoded data removed]",
      "text/plain": [
       "<Figure size 640x480 with 1 Axes>"
      ]
     },
     "metadata": {},
     "output_type": "display_data"
    }
   ],
   "source": [
    "import matplotlib.pyplot as plt\n",
    "\n",
    "face = olivetti_faces.images[1]\n",
    "plt.imshow(face, cmap='gray')\n",
    "plt.show()"
   ]
  },
  {
   "cell_type": "code",
   "execution_count": 10,
   "metadata": {},
   "outputs": [
    {
     "data": {
      "text/plain": [
       "array([0.76859504, 0.75619835, 0.74380165, ..., 0.48347107, 0.6280992 ,\n",
       "       0.6528926 ], dtype=float32)"
      ]
     },
     "execution_count": 10,
     "metadata": {},
     "output_type": "execute_result"
    }
   ],
   "source": [
    "olivetti_faces.data[1]"
   ]
  },
  {
   "cell_type": "code",
   "execution_count": 11,
   "metadata": {},
   "outputs": [
    {
     "data": {
      "text/plain": [
       "array([13, 30, 34, 19, 24,  6, 15, 26, 14, 21,  3, 13, 11, 34,  1,  5, 29,\n",
       "       14, 20, 19, 17, 26, 12, 34, 17, 31,  7,  1, 28, 10, 17, 30, 33, 22,\n",
       "        6,  7,  9, 17, 17, 39, 10, 32,  0,  0, 29,  5, 37, 25, 15, 23, 24,\n",
       "       14, 29, 17, 28, 31,  5,  1,  2,  4,  7, 27,  0, 35, 19, 37, 14,  0,\n",
       "       15, 31,  0, 26,  6,  2, 10,  1, 36, 30, 36, 32, 33,  6,  5, 10, 30,\n",
       "       22, 12, 37, 39, 32, 38, 25,  5,  0, 19, 14, 13, 39, 26, 36, 25,  6,\n",
       "       31, 15, 28, 34,  8, 34, 15, 29,  9,  8, 29,  2, 36, 21, 25,  4, 23,\n",
       "       34,  9, 22, 23, 23, 37, 14,  2, 25, 35, 16, 15, 39,  6, 24, 21, 10,\n",
       "       31, 19, 32,  1, 16, 18,  3, 11, 26, 10, 35, 24, 23, 11, 33, 12, 28,\n",
       "       11, 21, 13, 27, 12, 19, 29, 28, 13,  3, 37, 16,  3, 23,  9,  8,  6,\n",
       "       16, 28, 20, 39, 23, 28, 10,  4, 32, 39, 22,  7, 13, 38, 22, 21,  2,\n",
       "       18, 36, 27,  5, 32, 35,  2,  0, 21, 15, 21, 37, 22, 13, 23, 21, 27,\n",
       "       27, 30, 23,  3, 20, 39,  6,  2, 33,  4, 24, 12,  9, 11, 16, 38, 38,\n",
       "       34,  4,  1, 28,  7, 24, 39,  7,  1, 36, 21, 38, 38, 22, 16, 10, 16,\n",
       "        8, 18, 39, 11, 25, 18, 20, 37, 11, 14, 15, 15,  1, 26,  7, 10, 32,\n",
       "       20, 31, 13, 23, 31, 24, 30,  1, 22, 30,  0, 27, 12,  7, 18, 30, 37,\n",
       "       34, 18, 35,  8, 25,  1, 29,  8, 26,  3, 38,  5,  4, 27,  5, 20, 31,\n",
       "       31, 33, 12, 22,  6, 30, 13, 18,  2,  4,  0, 20, 33,  9, 38, 17, 25,\n",
       "        9, 36,  9, 35, 16,  6, 30,  4, 20, 27, 22, 14, 14, 18, 13, 35, 39,\n",
       "       26, 32, 20,  8, 12, 34, 36,  9,  8, 26, 11, 29,  5, 32, 25, 35,  4,\n",
       "       10, 36, 27, 35,  3,  5, 34, 12, 29,  2, 18, 16, 15, 24, 20,  3,  3,\n",
       "       12, 18, 37, 28, 36, 14, 28, 37, 17,  9, 33, 33, 19, 24, 11, 26,  7,\n",
       "       33,  2, 16, 33, 38, 17, 38,  3, 19, 31,  8,  7,  8, 29, 24, 27, 21,\n",
       "        0, 35, 19, 25, 32, 19, 11,  4, 17])"
      ]
     },
     "execution_count": 11,
     "metadata": {},
     "output_type": "execute_result"
    }
   ],
   "source": [
    "olivetti_faces.target"
   ]
  },
  {
   "cell_type": "code",
   "execution_count": 12,
   "metadata": {},
   "outputs": [],
   "source": [
    "import torch\n",
    "import torch.nn as nn"
   ]
  },
  {
   "cell_type": "code",
   "execution_count": 13,
   "metadata": {},
   "outputs": [],
   "source": [
    "images = torch.tensor(olivetti_faces.data)\n",
    "targets = torch.tensor(olivetti_faces.target)"
   ]
  },
  {
   "cell_type": "code",
   "execution_count": 14,
   "metadata": {},
   "outputs": [
    {
     "data": {
      "text/plain": [
       "torch.Size([400, 4096])"
      ]
     },
     "execution_count": 14,
     "metadata": {},
     "output_type": "execute_result"
    }
   ],
   "source": [
    "images.shape"
   ]
  },
  {
   "cell_type": "code",
   "execution_count": 15,
   "metadata": {},
   "outputs": [
    {
     "data": {
      "text/plain": [
       "torch.Size([400])"
      ]
     },
     "execution_count": 15,
     "metadata": {},
     "output_type": "execute_result"
    }
   ],
   "source": [
    "targets.shape"
   ]
  },
  {
   "cell_type": "code",
   "execution_count": 16,
   "metadata": {},
   "outputs": [
    {
     "data": {
      "text/plain": [
       "(tensor([0.6694, 0.6364, 0.6488,  ..., 0.0868, 0.0826, 0.0744]), tensor(13))"
      ]
     },
     "execution_count": 16,
     "metadata": {},
     "output_type": "execute_result"
    }
   ],
   "source": [
    "dataset = [(img,lbl) for img,lbl in zip(images, targets)]\n",
    "dataset[0]"
   ]
  },
  {
   "cell_type": "code",
   "execution_count": 17,
   "metadata": {},
   "outputs": [],
   "source": [
    "dataloader = torch.utils.data.DataLoader(dataset, batch_size=10, shuffle=True)"
   ]
  },
  {
   "cell_type": "code",
   "execution_count": 18,
   "metadata": {},
   "outputs": [
    {
     "data": {
      "text/plain": [
       "device(type='cuda')"
      ]
     },
     "execution_count": 18,
     "metadata": {},
     "output_type": "execute_result"
    }
   ],
   "source": [
    "# device = torch.device('mps' if torch.backends.mps.is_available() else 'cpu')\n",
    "device = torch.device('cuda' if torch.cuda.is_available() else 'cpu')\n",
    "\n",
    "device"
   ]
  },
  {
   "cell_type": "code",
   "execution_count": 19,
   "metadata": {},
   "outputs": [],
   "source": [
    "# 多层神经网络模型\n",
    "model = nn.Sequential(\n",
    "    nn.Linear(4096, 8192),\n",
    "    nn.ReLU(),\n",
    "    nn.Linear(8192, 16384),\n",
    "    nn.ReLU(),\n",
    "    nn.Dropout(),\n",
    "    nn.Linear(16384, 1024),\n",
    "    nn.ReLU(),\n",
    "    nn.Linear(1024, 40)\n",
    ").to(device)  # 模型结构搬到GPU内存中"
   ]
  },
  {
   "cell_type": "code",
   "execution_count": 20,
   "metadata": {},
   "outputs": [
    {
     "name": "stdout",
     "output_type": "stream",
     "text": [
      "Sequential(\n",
      "  (0): Linear(in_features=4096, out_features=8192, bias=True)\n",
      "  (1): ReLU()\n",
      "  (2): Linear(in_features=8192, out_features=16384, bias=True)\n",
      "  (3): ReLU()\n",
      "  (4): Dropout(p=0.5, inplace=False)\n",
      "  (5): Linear(in_features=16384, out_features=1024, bias=True)\n",
      "  (6): ReLU()\n",
      "  (7): Linear(in_features=1024, out_features=40, bias=True)\n",
      ")\n"
     ]
    }
   ],
   "source": [
    "print(model)"
   ]
  },
  {
   "cell_type": "code",
   "execution_count": 21,
   "metadata": {},
   "outputs": [],
   "source": [
    "criterion = nn.CrossEntropyLoss()\n",
    "optimizer = torch.optim.Adam(model.parameters(), lr=1e-3)"
   ]
  },
  {
   "cell_type": "code",
   "execution_count": null,
   "metadata": {},
   "outputs": [
    {
     "name": "stdout",
     "output_type": "stream",
     "text": [
      "loss:3.6788\n",
      "loss:26.5624\n",
      "loss:12.4097\n",
      "loss:3.6139\n",
      "loss:4.0715\n",
      "loss:3.6702\n",
      "loss:3.6579\n",
      "loss:4.2132\n",
      "loss:3.7700\n",
      "loss:3.6921\n",
      "loss:3.7139\n",
      "loss:3.6474\n",
      "loss:3.7784\n",
      "loss:3.7002\n",
      "loss:3.7902\n",
      "loss:3.7885\n",
      "loss:3.6519\n",
      "loss:3.7409\n",
      "loss:3.7960\n",
      "loss:3.7330\n",
      "loss:3.6566\n",
      "loss:3.7548\n",
      "loss:3.7589\n",
      "loss:3.6797\n",
      "loss:3.7082\n",
      "loss:3.7197\n",
      "loss:3.6946\n",
      "loss:3.6965\n",
      "loss:3.7054\n",
      "loss:3.6758\n",
      "loss:3.6961\n",
      "loss:3.7087\n",
      "loss:3.6900\n",
      "loss:3.7233\n",
      "loss:3.7164\n",
      "loss:3.7010\n",
      "loss:3.7087\n",
      "loss:3.7100\n",
      "loss:3.6996\n",
      "loss:3.6988\n",
      "loss:3.6979\n",
      "loss:3.6673\n",
      "loss:3.6677\n",
      "loss:3.9433\n",
      "loss:3.6424\n",
      "loss:3.6484\n",
      "loss:3.6877\n",
      "loss:3.6811\n",
      "loss:3.6692\n",
      "loss:3.7045\n",
      "loss:3.6907\n",
      "loss:3.6927\n",
      "loss:3.7049\n",
      "loss:3.6963\n",
      "loss:3.7055\n",
      "loss:3.6867\n",
      "loss:3.6931\n",
      "loss:3.6863\n",
      "loss:3.6990\n",
      "loss:3.6787\n",
      "loss:3.6776\n",
      "loss:3.6852\n",
      "loss:3.6879\n",
      "loss:3.7052\n",
      "loss:3.6934\n",
      "loss:3.6954\n",
      "loss:3.6998\n",
      "loss:3.6998\n",
      "loss:3.6787\n",
      "loss:3.7014\n",
      "loss:3.7064\n",
      "loss:3.6883\n",
      "loss:3.6830\n",
      "loss:3.6826\n",
      "loss:3.6839\n",
      "loss:3.6972\n",
      "loss:3.6936\n",
      "loss:3.6876\n",
      "loss:3.6763\n",
      "loss:3.6847\n",
      "loss:3.6811\n",
      "loss:3.6911\n",
      "loss:3.6856\n",
      "loss:3.7005\n",
      "loss:3.6791\n",
      "loss:3.6815\n",
      "loss:3.6890\n",
      "loss:3.6918\n",
      "loss:3.6850\n",
      "loss:3.6896\n",
      "loss:3.7034\n",
      "loss:3.6847\n",
      "loss:3.6904\n",
      "loss:3.6923\n",
      "loss:3.6800\n",
      "loss:3.6926\n",
      "loss:3.6949\n",
      "loss:3.6976\n",
      "loss:3.6890\n",
      "loss:3.6836\n",
      "loss:3.6996\n",
      "loss:3.6993\n",
      "loss:3.6969\n",
      "loss:3.6825\n",
      "loss:3.6892\n",
      "loss:3.6828\n",
      "loss:3.7011\n",
      "loss:3.6909\n",
      "loss:3.6884\n",
      "loss:3.7052\n",
      "loss:3.6877\n",
      "loss:3.7028\n",
      "loss:3.6895\n",
      "loss:3.6911\n",
      "loss:3.6893\n",
      "loss:3.6966\n",
      "loss:3.6942\n",
      "loss:3.6815\n",
      "loss:3.6865\n",
      "loss:3.6811\n",
      "loss:3.6885\n",
      "loss:3.6802\n",
      "loss:3.6800\n",
      "loss:3.6845\n",
      "loss:3.6911\n",
      "loss:3.6873\n",
      "loss:3.6894\n",
      "loss:3.6805\n",
      "loss:3.6915\n",
      "loss:3.6949\n",
      "loss:3.6848\n",
      "loss:3.6871\n",
      "loss:3.6953\n",
      "loss:3.6835\n",
      "loss:3.6943\n",
      "loss:3.6908\n",
      "loss:3.6931\n",
      "loss:3.6790\n",
      "loss:3.6873\n",
      "loss:3.6931\n",
      "loss:3.7037\n",
      "loss:3.6870\n",
      "loss:3.6970\n",
      "loss:3.6914\n",
      "loss:3.6936\n",
      "loss:3.6944\n",
      "loss:3.6851\n",
      "loss:3.6971\n",
      "loss:3.6923\n",
      "loss:3.6890\n",
      "loss:3.6889\n",
      "loss:3.6835\n",
      "loss:3.6892\n",
      "loss:3.6904\n",
      "loss:3.6923\n",
      "loss:3.6866\n",
      "loss:3.6990\n",
      "loss:3.7025\n",
      "loss:3.6850\n",
      "loss:3.7010\n",
      "loss:3.6999\n",
      "loss:3.6982\n",
      "loss:3.6908\n",
      "loss:3.6934\n",
      "loss:3.6918\n",
      "loss:3.6956\n",
      "loss:3.6892\n",
      "loss:3.6804\n",
      "loss:3.6898\n",
      "loss:3.6871\n",
      "loss:3.6908\n",
      "loss:3.6863\n",
      "loss:3.6927\n",
      "loss:3.6851\n",
      "loss:3.6840\n",
      "loss:3.6845\n",
      "loss:3.6918\n",
      "loss:3.6979\n",
      "loss:3.6930\n",
      "loss:3.6958\n",
      "loss:3.6868\n",
      "loss:3.6794\n",
      "loss:3.6925\n",
      "loss:3.6847\n",
      "loss:3.6889\n",
      "loss:3.6842\n",
      "loss:3.6907\n",
      "loss:3.6891\n",
      "loss:3.6820\n",
      "loss:3.6900\n",
      "loss:3.6967\n",
      "loss:3.6867\n",
      "loss:3.6939\n",
      "loss:3.6991\n",
      "loss:3.6941\n",
      "loss:3.6872\n",
      "loss:3.6921\n",
      "loss:3.6779\n",
      "loss:3.6889\n",
      "loss:3.6873\n",
      "loss:3.6989\n",
      "loss:3.6916\n",
      "loss:3.6881\n",
      "loss:3.6986\n",
      "loss:3.6839\n",
      "loss:3.6966\n",
      "loss:3.6864\n",
      "loss:3.6837\n",
      "loss:3.6887\n",
      "loss:3.6884\n",
      "loss:3.6832\n",
      "loss:3.6845\n",
      "loss:3.6913\n",
      "loss:3.6855\n",
      "loss:3.7037\n",
      "loss:3.6842\n",
      "loss:3.6871\n",
      "loss:3.6929\n",
      "loss:3.6953\n",
      "loss:3.6832\n",
      "loss:3.6963\n",
      "loss:3.6840\n",
      "loss:3.6864\n",
      "loss:3.6935\n",
      "loss:3.6870\n",
      "loss:3.6885\n",
      "loss:3.6840\n",
      "loss:3.6952\n",
      "loss:3.6786\n",
      "loss:3.6879\n",
      "loss:3.6898\n",
      "loss:3.6903\n",
      "loss:3.6953\n",
      "loss:3.6853\n",
      "loss:3.6804\n",
      "loss:3.6911\n",
      "loss:3.6962\n",
      "loss:3.6947\n",
      "loss:3.6910\n",
      "loss:3.6960\n",
      "loss:3.6920\n",
      "loss:3.6823\n",
      "loss:3.6934\n",
      "loss:3.6868\n",
      "loss:3.6868\n",
      "loss:3.6863\n",
      "loss:3.6860\n",
      "loss:3.6864\n",
      "loss:3.6817\n",
      "loss:3.6849\n",
      "loss:3.6871\n",
      "loss:3.6909\n",
      "loss:3.6874\n",
      "loss:3.6902\n",
      "loss:3.6877\n",
      "loss:3.6897\n",
      "loss:3.6923\n",
      "loss:3.6880\n",
      "loss:3.6944\n",
      "loss:3.6961\n",
      "loss:3.6908\n",
      "loss:3.6866\n",
      "loss:3.6859\n",
      "loss:3.6812\n",
      "loss:3.6949\n",
      "loss:3.6915\n",
      "loss:3.6897\n",
      "loss:3.6922\n",
      "loss:3.6875\n",
      "loss:3.6970\n",
      "loss:3.6992\n",
      "loss:3.6898\n",
      "loss:3.6841\n",
      "loss:3.6883\n",
      "loss:3.6889\n",
      "loss:3.6944\n",
      "loss:3.7030\n",
      "loss:3.6910\n",
      "loss:3.6952\n",
      "loss:3.6902\n",
      "loss:3.6824\n",
      "loss:3.6932\n",
      "loss:3.6869\n",
      "loss:3.6948\n",
      "loss:3.6867\n",
      "loss:3.6812\n",
      "loss:3.6889\n",
      "loss:3.6998\n",
      "loss:3.6975\n",
      "loss:3.6878\n",
      "loss:3.6870\n",
      "loss:3.6884\n",
      "loss:3.6894\n",
      "loss:3.6804\n",
      "loss:3.6808\n",
      "loss:3.6851\n",
      "loss:3.6842\n",
      "loss:3.6891\n",
      "loss:3.6907\n",
      "loss:3.6895\n",
      "loss:3.6972\n",
      "loss:3.6989\n",
      "loss:3.6892\n",
      "loss:3.6902\n",
      "loss:3.6883\n",
      "loss:3.6909\n",
      "loss:3.7062\n",
      "loss:3.6871\n",
      "loss:3.6896\n",
      "loss:3.6843\n",
      "loss:3.6849\n",
      "loss:3.6913\n",
      "loss:3.6890\n",
      "loss:3.6890\n",
      "loss:3.6895\n",
      "loss:3.6906\n",
      "loss:3.6889\n",
      "loss:3.6919\n",
      "loss:3.6993\n",
      "loss:3.6902\n",
      "loss:3.6896\n",
      "loss:3.6942\n",
      "loss:3.6843\n",
      "loss:3.6892\n",
      "loss:3.6878\n",
      "loss:3.6929\n",
      "loss:3.6894\n",
      "loss:3.6872\n",
      "loss:3.6903\n",
      "loss:3.6848\n",
      "loss:3.6883\n",
      "loss:3.6871\n",
      "loss:3.7007\n",
      "loss:3.6920\n",
      "loss:3.6977\n",
      "loss:3.6922\n",
      "loss:3.6890\n",
      "loss:3.6832\n",
      "loss:3.6937\n",
      "loss:3.6939\n",
      "loss:3.6944\n",
      "loss:3.6860\n",
      "loss:3.6933\n",
      "loss:3.6866\n",
      "loss:3.7001\n",
      "loss:3.6826\n",
      "loss:3.6832\n",
      "loss:3.6902\n",
      "loss:3.6842\n",
      "loss:3.6902\n",
      "loss:3.7011\n",
      "loss:3.6910\n",
      "loss:3.6893\n",
      "loss:3.6892\n",
      "loss:3.6807\n",
      "loss:3.6903\n",
      "loss:3.6872\n",
      "loss:3.6881\n",
      "loss:3.6872\n",
      "loss:3.6919\n",
      "loss:3.6809\n",
      "loss:3.6979\n",
      "loss:3.6834\n",
      "loss:3.6944\n",
      "loss:3.6904\n",
      "loss:3.6846\n",
      "loss:3.6900\n",
      "loss:3.6968\n",
      "loss:3.6899\n",
      "loss:3.6972\n",
      "loss:3.6822\n",
      "loss:3.6898\n",
      "loss:3.6921\n",
      "loss:3.6921\n",
      "loss:3.6919\n",
      "loss:3.6841\n",
      "loss:3.6849\n",
      "loss:3.6863\n",
      "loss:3.6910\n",
      "loss:3.6836\n",
      "loss:3.6909\n",
      "loss:3.6801\n",
      "loss:3.6905\n",
      "loss:3.6897\n",
      "loss:3.6866\n",
      "loss:3.6897\n",
      "loss:3.6927\n",
      "loss:3.6939\n",
      "loss:3.6868\n",
      "loss:3.6985\n",
      "loss:3.6934\n",
      "loss:3.6902\n",
      "loss:3.6946\n",
      "loss:3.6808\n",
      "loss:3.6910\n",
      "loss:3.6901\n",
      "loss:3.6902\n",
      "loss:3.6909\n",
      "loss:3.6946\n",
      "loss:3.6894\n"
     ]
    }
   ],
   "source": [
    "loss_hist = []\n",
    "for i in range(10):\n",
    "    for img,lbl in dataloader:\n",
    "        img,lbl = img.to(device), lbl.to(device)  # 数据和模型在同一个设备端\n",
    "        result = model(img)\n",
    "        loss = criterion(result, lbl)\n",
    "        loss.backward()\n",
    "        optimizer.step()\n",
    "        optimizer.zero_grad()\n",
    "\n",
    "        loss_hist.append(loss.item())\n",
    "        print(f'epoch:{i+1} loss:{loss.item():.4f}')"
   ]
  },
  {
   "cell_type": "code",
   "execution_count": 23,
   "metadata": {},
   "outputs": [
    {
     "data": {
      "image/png": "[encoded data removed]",
      "text/plain": [
       "<Figure size 640x480 with 1 Axes>"
      ]
     },
     "metadata": {},
     "output_type": "display_data"
    }
   ],
   "source": [
    "plt.plot(range(len(loss_hist)), loss_hist)\n",
    "plt.show()"
   ]
  },
  {
   "cell_type": "code",
   "execution_count": null,
   "metadata": {},
   "outputs": [],
   "source": []
  }
 ],
 "metadata": {
  "kernelspec": {
   "display_name": "base",
   "language": "python",
   "name": "python3"
  },
  "language_info": {
   "codemirror_mode": {
    "name": "ipython",
    "version": 3
   },
   "file_extension": ".py",
   "mimetype": "text/x-python",
   "name": "python",
   "nbconvert_exporter": "python",
   "pygments_lexer": "ipython3",
   "version": "3.11.10"
  }
 },
 "nbformat": 4,
 "nbformat_minor": 2
}
