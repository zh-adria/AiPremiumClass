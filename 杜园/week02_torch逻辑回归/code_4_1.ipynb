{
 "cells": [
  {
   "cell_type": "markdown",
   "metadata": {},
   "source": [
    "### 1、导包"
   ]
  },
  {
   "cell_type": "code",
   "execution_count": null,
   "metadata": {},
   "outputs": [],
   "source": [
    "import  numpy as np\n",
    "from sklearn.datasets import load_iris\n",
    "from sklearn.model_selection import \n",
    "import numpy as np"
   ]
  },
  {
   "cell_type": "markdown",
   "metadata": {},
   "source": [
    "### 2、生成训练数据"
   ]
  },
  {
   "cell_type": "code",
   "execution_count": null,
   "metadata": {},
   "outputs": [],
   "source": [
    "# 样本数据-鸢尾花默认4个特征\n",
    "data, target = load_iris(return_X_y=True)\n",
    "X = data[:100]\n",
    "y = target[:100]"
   ]
  },
  {
   "cell_type": "code",
   "execution_count": null,
   "metadata": {},
   "outputs": [],
   "source": [
    "### 3、初始化参数"
   ]
  },
  {
   "cell_type": "code",
   "execution_count": null,
   "metadata": {},
   "outputs": [],
   "source": [
    "# 权重参数\n",
    "theta = np.random.randn(1,4)  # shape (1, 4)\n",
    "bias = 0\n",
    "\n",
    "# 超参数\n",
    "lrs = [0.001, 0.01, 0.1]\n",
    "epochs = 10000"
   ]
  },
  {
   "cell_type": "markdown",
   "metadata": {},
   "source": [
    "### 4、定义模型计算函数(获取预测值)"
   ]
  },
  {
   "cell_type": "code",
   "execution_count": null,
   "metadata": {},
   "outputs": [],
   "source": [
    "def forward(x, theta, bias):\n",
    "    # 线性运算\n",
    "    z = np.dot(theta, x.T) + bias\n",
    "    # sigmoid\n",
    "    y_hat = 1 / (1 + np.exp(-z))\n",
    "    return y_hat"
   ]
  },
  {
   "cell_type": "markdown",
   "metadata": {},
   "source": [
    "### 5、定义损失函数"
   ]
  },
  {
   "cell_type": "code",
   "execution_count": null,
   "metadata": {},
   "outputs": [],
   "source": [
    "def loss(y, y_hat):\n",
    "    e = 1e-8\n",
    "    return -y * np.log(y_hat +e) - (1-y) * np.log(1 - y_hat + e)"
   ]
  },
  {
   "cell_type": "markdown",
   "metadata": {},
   "source": [
    "### 6、定义梯度下降函数"
   ]
  },
  {
   "cell_type": "code",
   "execution_count": null,
   "metadata": {},
   "outputs": [],
   "source": [
    "def calc_gradient(x,y,y_hat):\n",
    "    # 计算梯度\n",
    "    m = x.shape[-1]\n",
    "    # theta梯度计算\n",
    "    delta_theta = np.dot((y_hat - y), x) / m\n",
    "    # bias梯度计算\n",
    "    delta_bias = np.mean(y_hat - y)\n",
    "    return delta_theta, delta_bias"
   ]
  },
  {
   "cell_type": "markdown",
   "metadata": {},
   "source": [
    "### 7、训练模型"
   ]
  },
  {
   "cell_type": "code",
   "execution_count": null,
   "metadata": {},
   "outputs": [],
   "source": [
    "split_rates = [0.1, 0.3, 0.5, 0.7, 0.9]\n",
    "for sr in split_rates:\n",
    "    # random_state 随机数种子，每次随机出来的数据一样\n",
    "    X_train, X_test, y_train, y_test = train_test_split(X, y, test_size=sr, random_state=42)\n",
    "    theta = np.random.randn(1,4) \n",
    "    bias = 0\n",
    "    for lr in lrs:\n",
    "        print(f\"split_rate:{lr}\")\n",
    "        for i in range(epochs):\n",
    "            # 前向计算\n",
    "            y_hat = forward(X_train, theta, bias)\n",
    "            # 损失计算\n",
    "            loss_val = loss(y_train, y_hat)\n",
    "            # 梯度计算\n",
    "            delta_theta, delta_bias = calc_gradient(X_train, y_train, y_hat)\n",
    "            # 更新参数\n",
    "            theta = theta - lr * delta_theta\n",
    "            bias = bias - lr * delta_bias\n",
    "\n",
    "            if i % 1000 == 0:\n",
    "                # 计算准确率\n",
    "                acc = np.mean(np.round(y_hat) == y_train)  # [False,True,...,False] -> [0,1,...,0]\n",
    "                print(f\"lr:{lr} epoch: {i}, loss: {np.mean(loss_val)}, acc: {acc}\")\n",
    "        print('*'*50)           \n",
    "    "
   ]
  },
  {
   "cell_type": "markdown",
   "metadata": {},
   "source": [
    "### 8、模型参数保存到文件中"
   ]
  },
  {
   "cell_type": "code",
   "execution_count": 19,
   "metadata": {},
   "outputs": [],
   "source": [
    "np.save(\"theta.npy\", theta)\n",
    "np.save(\"bias.npy\", bias) \n",
    "np.save(\"X_test.npy\", X_test)\n",
    "np.save(\"y_test.npy\", y_test)"
   ]
  }
 ],
 "metadata": {
  "kernelspec": {
   "display_name": "py312",
   "language": "python",
   "name": "python3"
  },
  "language_info": {
   "codemirror_mode": {
    "name": "ipython",
    "version": 3
   },
   "file_extension": ".py",
   "mimetype": "text/x-python",
   "name": "python",
   "nbconvert_exporter": "python",
   "pygments_lexer": "ipython3",
   "version": "3.12.8"
  }
 },
 "nbformat": 4,
 "nbformat_minor": 2
}
