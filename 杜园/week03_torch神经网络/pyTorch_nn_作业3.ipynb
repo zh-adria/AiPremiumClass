{
 "cells": [
  {
   "cell_type": "markdown",
   "metadata": {},
   "source": [
    "### 调整超参数，观察模型训练结果"
   ]
  },
  {
   "cell_type": "code",
   "execution_count": 6,
   "metadata": {},
   "outputs": [],
   "source": [
    "# 导包\n",
    "import torch\n",
    "import torch.nn as nn\n",
    "from torchvision.datasets import KMNIST\n",
    "from torchvision.transforms import ToTensor\n",
    "from torch.utils.data import DataLoader"
   ]
  },
  {
   "cell_type": "code",
   "execution_count": 7,
   "metadata": {},
   "outputs": [],
   "source": [
    "# 参数初始化\n",
    "BATCH_SIZE = 30\n",
    "epochs = 20"
   ]
  },
  {
   "cell_type": "markdown",
   "metadata": {},
   "source": [
    "#### 1、训练集初始化"
   ]
  },
  {
   "cell_type": "code",
   "execution_count": 8,
   "metadata": {},
   "outputs": [],
   "source": [
    "# 加载训练数据集-((28*28),1)\n",
    "train_data = KMNIST(root='./kdata', train=True, download=True, transform=ToTensor())\n",
    "# 拆分训练数据集 30个一个批次，每个有其对应的真实标签\n",
    "train_dl = DataLoader(train_data, batch_size=BATCH_SIZE)\n",
    "\n",
    "# 加载测试数据集\n",
    "test_data = KMNIST(root='./kdata', train=False, download=True, transform=ToTensor())\n",
    "# 拆分测试数据集\n",
    "test_dl = DataLoader(test_data, batch_size=BATCH_SIZE)"
   ]
  },
  {
   "cell_type": "markdown",
   "metadata": {},
   "source": [
    "#### 2、定义迭代训练函数"
   ]
  },
  {
   "cell_type": "code",
   "execution_count": 9,
   "metadata": {},
   "outputs": [],
   "source": [
    "def train_iter(epochs, model, train_dl, lr):\n",
    "    train_hist = []\n",
    "    loss_fn = nn.CrossEntropyLoss()\n",
    "    optimizer = torch.optim.SGD(model.parameters(), lr=lr)\n",
    "    for epoch in range(epochs):\n",
    "        # 循环处理每个批次中的图像\n",
    "        for x, y in train_dl:\n",
    "            y_hat = model(x.reshape(-1, 784))\n",
    "            # print(x.shape) # torch.Size([30, 1, 28, 28])\n",
    "            # print(y.shape) # torch.Size([30])\n",
    "            # print(y_hat.shape) # torch.Size([30, 10])\n",
    "            # y_hat 30行10列 每个图片对应的概率分布 \n",
    "            # (30, 10) (30)\n",
    "            loss = loss_fn(y_hat, y)\n",
    "            optimizer.zero_grad()\n",
    "            loss.backward()\n",
    "            optimizer.step()\n",
    "        print(f'Epoch:{epoch} Loss: {loss.item()}')\n",
    "        train_hist.append(loss.item())\n",
    "    return train_hist\n",
    "            "
   ]
  },
  {
   "cell_type": "markdown",
   "metadata": {},
   "source": [
    "#### 3、定义历史梯度画像函数"
   ]
  },
  {
   "cell_type": "code",
   "execution_count": 10,
   "metadata": {},
   "outputs": [],
   "source": [
    "import matplotlib.pyplot as plt\n",
    "def draw_train_hist(hist_list):\n",
    "    for i, hist in enumerate(hist_list):   \n",
    "        plt.plot(hist, label=f'Loss{i}')\n",
    "    plt.legend()\n",
    "    plt.xlabel(\"Epochs\")\n",
    "    plt.ylabel(\"loss\")\n",
    "    plt.title(\"Training Loss\")\n",
    "    plt.show()"
   ]
  },
  {
   "cell_type": "markdown",
   "metadata": {},
   "source": [
    "#### 4、定义测试验证函数"
   ]
  },
  {
   "cell_type": "code",
   "execution_count": 11,
   "metadata": {},
   "outputs": [],
   "source": [
    "def test_acc(test_dl, model):\n",
    "    total = 0\n",
    "    correct = 0\n",
    "    with torch.no_grad():\n",
    "        for x,y in test_dl:\n",
    "            y_hat = model(x.reshape(-1, 784)) \n",
    "            # y_hat(30, 10) y(30) \n",
    "            max_val, max_idx = torch.max(y_hat, 1)\n",
    "            total += y_hat.size(0)\n",
    "            correct += (max_idx == y).sum().item()\n",
    "    print(f'Accuracy: {correct / total}')\n",
    "    return correct/total*100"
   ]
  },
  {
   "cell_type": "code",
   "execution_count": 12,
   "metadata": {},
   "outputs": [],
   "source": [
    "# 生成3个模型\n",
    "models = torch.nn.ModuleList([\n",
    "    nn.Sequential(\n",
    "    nn.Linear(784, 512),\n",
    "    nn.ReLU(),\n",
    "    nn.Linear(512, 256),\n",
    "    nn.ReLU(),\n",
    "    nn.Linear(256, 10)) for _ in range(3)\n",
    "])"
   ]
  },
  {
   "cell_type": "markdown",
   "metadata": {},
   "source": [
    "#### 5、训练模型"
   ]
  },
  {
   "cell_type": "code",
   "execution_count": 13,
   "metadata": {},
   "outputs": [
    {
     "name": "stdout",
     "output_type": "stream",
     "text": [
      "Epoch:0 Loss: 0.10967354476451874\n",
      "Epoch:1 Loss: 0.07576639950275421\n",
      "Epoch:2 Loss: 0.03872103616595268\n",
      "Epoch:3 Loss: 0.03357775881886482\n",
      "Epoch:4 Loss: 0.01826171949505806\n",
      "Epoch:5 Loss: 0.00965352077037096\n",
      "Epoch:6 Loss: 0.005844252184033394\n",
      "Epoch:7 Loss: 0.0075210765935480595\n",
      "Epoch:8 Loss: 0.0024882997386157513\n",
      "Epoch:9 Loss: 0.0013708281330764294\n",
      "Epoch:10 Loss: 0.0014511964982375503\n",
      "Epoch:11 Loss: 0.0013490307610481977\n",
      "Epoch:12 Loss: 0.001116961007937789\n",
      "Epoch:13 Loss: 0.0009326605359092355\n",
      "Epoch:14 Loss: 0.0008056087535806\n",
      "Epoch:15 Loss: 0.0007140791858546436\n",
      "Epoch:16 Loss: 0.0006456066039390862\n",
      "Epoch:17 Loss: 0.0005851628957316279\n",
      "Epoch:18 Loss: 0.0005368629936128855\n",
      "Epoch:19 Loss: 0.0004936089389957488\n",
      "Epoch:0 Loss: 0.5644519925117493\n",
      "Epoch:1 Loss: 0.37381941080093384\n",
      "Epoch:2 Loss: 0.29707446694374084\n",
      "Epoch:3 Loss: 0.2390262633562088\n",
      "Epoch:4 Loss: 0.1898880898952484\n",
      "Epoch:5 Loss: 0.15295319259166718\n",
      "Epoch:6 Loss: 0.12820185720920563\n",
      "Epoch:7 Loss: 0.11108648031949997\n",
      "Epoch:8 Loss: 0.09978882223367691\n",
      "Epoch:9 Loss: 0.09180453419685364\n",
      "Epoch:10 Loss: 0.08580300211906433\n",
      "Epoch:11 Loss: 0.07956255227327347\n",
      "Epoch:12 Loss: 0.07373059540987015\n",
      "Epoch:13 Loss: 0.06749889254570007\n",
      "Epoch:14 Loss: 0.06190374866127968\n",
      "Epoch:15 Loss: 0.057644154876470566\n",
      "Epoch:16 Loss: 0.052865222096443176\n",
      "Epoch:17 Loss: 0.049565281718969345\n",
      "Epoch:18 Loss: 0.045349571853876114\n",
      "Epoch:19 Loss: 0.04162098467350006\n",
      "Epoch:0 Loss: 2.2284915447235107\n",
      "Epoch:1 Loss: 1.995625376701355\n",
      "Epoch:2 Loss: 1.6341949701309204\n",
      "Epoch:3 Loss: 1.3017996549606323\n",
      "Epoch:4 Loss: 1.0658327341079712\n",
      "Epoch:5 Loss: 0.9111683368682861\n",
      "Epoch:6 Loss: 0.7982520461082458\n",
      "Epoch:7 Loss: 0.7102452516555786\n",
      "Epoch:8 Loss: 0.6415157914161682\n",
      "Epoch:9 Loss: 0.5872258543968201\n",
      "Epoch:10 Loss: 0.5453502535820007\n",
      "Epoch:11 Loss: 0.5124973654747009\n",
      "Epoch:12 Loss: 0.48593172430992126\n",
      "Epoch:13 Loss: 0.4633590877056122\n",
      "Epoch:14 Loss: 0.4442702531814575\n",
      "Epoch:15 Loss: 0.42692604660987854\n",
      "Epoch:16 Loss: 0.41147443652153015\n",
      "Epoch:17 Loss: 0.3975183367729187\n",
      "Epoch:18 Loss: 0.3847808539867401\n",
      "Epoch:19 Loss: 0.37274038791656494\n"
     ]
    }
   ],
   "source": [
    "train_hist = [train_iter(epochs, model, train_dl, lr=lr) for model, lr in zip(models, [0.1, 0.01, 0.001])]"
   ]
  },
  {
   "cell_type": "code",
   "execution_count": 14,
   "metadata": {},
   "outputs": [
    {
     "data": {
      "image/png": "[encoded data removed]",
      "text/plain": [
       "<Figure size 640x480 with 1 Axes>"
      ]
     },
     "metadata": {},
     "output_type": "display_data"
    }
   ],
   "source": [
    "draw_train_hist(train_hist)"
   ]
  },
  {
   "cell_type": "markdown",
   "metadata": {},
   "source": [
    "#### 6、测试模型"
   ]
  },
  {
   "cell_type": "code",
   "execution_count": 15,
   "metadata": {},
   "outputs": [
    {
     "name": "stdout",
     "output_type": "stream",
     "text": [
      "Accuracy: 0.9174\n",
      "Model1 Acc: 91.74\n",
      "Accuracy: 0.8919\n",
      "Model2 Acc: 89.19\n",
      "Accuracy: 0.7317\n",
      "Model3 Acc: 73.17\n"
     ]
    }
   ],
   "source": [
    "for i in range(len(models)):\n",
    "    print(f'Model{i+1} Acc:', test_acc(test_dl, models[i]))\n",
    "    torch.save(models[i].state_dict(), f'model{i+1}.pth')"
   ]
  },
  {
   "cell_type": "markdown",
   "metadata": {},
   "source": [
    "### 观察不同batch_size 训练结果"
   ]
  },
  {
   "cell_type": "code",
   "execution_count": 16,
   "metadata": {},
   "outputs": [],
   "source": [
    "models = torch.nn.ModuleList([\n",
    "    nn.Sequential(\n",
    "    nn.Linear(784, 512),\n",
    "    nn.ReLU(),\n",
    "    nn.Linear(512, 256),\n",
    "    nn.ReLU(),\n",
    "    nn.Linear(256, 10)) for _ in range(3)\n",
    "])"
   ]
  },
  {
   "cell_type": "code",
   "execution_count": 17,
   "metadata": {},
   "outputs": [
    {
     "name": "stdout",
     "output_type": "stream",
     "text": [
      "Epoch:0 Loss: 1.8833494186401367\n",
      "Epoch:1 Loss: 1.0501060485839844\n",
      "Epoch:2 Loss: 0.8333804607391357\n",
      "Epoch:3 Loss: 0.7018557190895081\n",
      "Epoch:4 Loss: 0.7950863838195801\n",
      "Epoch:5 Loss: 0.39236822724342346\n",
      "Epoch:6 Loss: 0.4992702901363373\n",
      "Epoch:7 Loss: 0.4457486569881439\n",
      "Epoch:8 Loss: 0.4921264350414276\n",
      "Epoch:9 Loss: 0.5160471200942993\n",
      "Epoch:10 Loss: 0.39119815826416016\n",
      "Epoch:11 Loss: 0.38244226574897766\n",
      "Epoch:12 Loss: 0.4053395688533783\n",
      "Epoch:13 Loss: 0.41905081272125244\n",
      "Epoch:14 Loss: 0.39400622248649597\n",
      "Epoch:15 Loss: 0.3148464858531952\n",
      "Epoch:16 Loss: 0.2732016146183014\n",
      "Epoch:17 Loss: 0.2800649106502533\n",
      "Epoch:18 Loss: 0.2584814727306366\n",
      "Epoch:19 Loss: 0.17045807838439941\n",
      "Epoch:0 Loss: 2.1884214878082275\n",
      "Epoch:1 Loss: 1.901779294013977\n",
      "Epoch:2 Loss: 1.390428066253662\n",
      "Epoch:3 Loss: 0.9797783493995667\n",
      "Epoch:4 Loss: 0.882986843585968\n",
      "Epoch:5 Loss: 0.7096855044364929\n",
      "Epoch:6 Loss: 0.5920249819755554\n",
      "Epoch:7 Loss: 0.7198165059089661\n",
      "Epoch:8 Loss: 0.523399293422699\n",
      "Epoch:9 Loss: 0.7024697661399841\n",
      "Epoch:10 Loss: 0.5738430619239807\n",
      "Epoch:11 Loss: 0.6673042178153992\n",
      "Epoch:12 Loss: 0.6429740190505981\n",
      "Epoch:13 Loss: 0.5897234678268433\n",
      "Epoch:14 Loss: 0.47871944308280945\n",
      "Epoch:15 Loss: 0.5995758175849915\n",
      "Epoch:16 Loss: 0.41676321625709534\n",
      "Epoch:17 Loss: 0.5578410625457764\n",
      "Epoch:18 Loss: 0.5252676606178284\n",
      "Epoch:19 Loss: 0.4424886405467987\n",
      "Epoch:0 Loss: 2.248140335083008\n",
      "Epoch:1 Loss: 2.196728467941284\n",
      "Epoch:2 Loss: 2.0696277618408203\n",
      "Epoch:3 Loss: 1.7872484922409058\n",
      "Epoch:4 Loss: 1.6288909912109375\n",
      "Epoch:5 Loss: 1.3941302299499512\n",
      "Epoch:6 Loss: 1.1790701150894165\n",
      "Epoch:7 Loss: 1.055176854133606\n",
      "Epoch:8 Loss: 0.8751075863838196\n",
      "Epoch:9 Loss: 0.6583890318870544\n",
      "Epoch:10 Loss: 0.9109238982200623\n",
      "Epoch:11 Loss: 0.8995211124420166\n",
      "Epoch:12 Loss: 0.6367436051368713\n",
      "Epoch:13 Loss: 0.6646997332572937\n",
      "Epoch:14 Loss: 0.742368221282959\n",
      "Epoch:15 Loss: 0.6454260945320129\n",
      "Epoch:16 Loss: 0.6448564529418945\n",
      "Epoch:17 Loss: 0.711832582950592\n",
      "Epoch:18 Loss: 0.5069129467010498\n",
      "Epoch:19 Loss: 0.704237699508667\n"
     ]
    }
   ],
   "source": [
    "train_datas = [DataLoader(train_data, batch_size=bs, shuffle=True) for bs in [128, 256, 512]]\n",
    "\n",
    "train_hist = [train_iter(epochs, model, dl, lr=0.01) for model, dl in zip(models, train_datas)]"
   ]
  },
  {
   "cell_type": "code",
   "execution_count": 18,
   "metadata": {},
   "outputs": [
    {
     "data": {
      "image/png": "[encoded data removed]",
      "text/plain": [
       "<Figure size 640x480 with 1 Axes>"
      ]
     },
     "metadata": {},
     "output_type": "display_data"
    }
   ],
   "source": [
    "draw_train_hist(train_hist)"
   ]
  },
  {
   "cell_type": "code",
   "execution_count": 19,
   "metadata": {},
   "outputs": [
    {
     "name": "stdout",
     "output_type": "stream",
     "text": [
      "Accuracy: 0.8072\n",
      "Model1 Acc: 80.72\n",
      "Accuracy: 0.7488\n",
      "Model2 Acc: 74.88\n",
      "Accuracy: 0.682\n",
      "Model3 Acc: 68.2\n"
     ]
    }
   ],
   "source": [
    "for i in range(len(models)):\n",
    "    print(f'Model{i+1} Acc:', test_acc(test_dl, models[i]))\n",
    "    torch.save(models[i].state_dict(), f'model{i+1}.pth')"
   ]
  }
 ],
 "metadata": {
  "kernelspec": {
   "display_name": "py312",
   "language": "python",
   "name": "python3"
  },
  "language_info": {
   "codemirror_mode": {
    "name": "ipython",
    "version": 3
   },
   "file_extension": ".py",
   "mimetype": "text/x-python",
   "name": "python",
   "nbconvert_exporter": "python",
   "pygments_lexer": "ipython3",
   "version": "3.12.8"
  }
 },
 "nbformat": 4,
 "nbformat_minor": 2
}
