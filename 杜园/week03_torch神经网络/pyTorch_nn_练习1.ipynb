{
 "cells": [
  {
   "cell_type": "markdown",
   "metadata": {},
   "source": [
    "### 准备数据集\n",
    "    数据集导入-pytorch官网->dataset->FashionMNIST"
   ]
  },
  {
   "cell_type": "code",
   "execution_count": null,
   "metadata": {},
   "outputs": [],
   "source": [
    "import torch\n",
    "from torchvision.transforms.v2 import ToTensor\n",
    "from torchvision.datasets import FashionMNIST"
   ]
  },
  {
   "cell_type": "code",
   "execution_count": null,
   "metadata": {},
   "outputs": [],
   "source": [
    "# ① 下载数据集\n",
    "# 动态下载，存储到同级的data（自定义）目录下，train=True表示下载训练集，download=True表示下载\n",
    "train_data = FashionMNIST(root=\"./data\", train=True, download=True)\n",
    "train_data # Dataset对象 60000张图片，28*28像素，1通道\n",
    "# train_data[1] # 第一张图片，元组，第一个元素是图片，第二个元素是标签(类别索引)\n",
    "#  展示图片 img 非张量，py原始数据类型-数值\n",
    "# img,clzz = train_data[1]\n",
    "# import matplotlib.pyplot as plt\n",
    "# plt.imshow(img, cmap=\"gray\")\n",
    "# plt.title(clzz)\n",
    "# plt.show()\n"
   ]
  },
  {
   "cell_type": "code",
   "execution_count": null,
   "metadata": {},
   "outputs": [],
   "source": [
    "# ① 下载数据集转化为张量\n",
    "train_data = FashionMNIST(root=\"./data\", train=True, download=True, transform=ToTensor())\n",
    "# 访问第一个样本\n",
    "first_sample = train_data[0]\n",
    "# print(\"第一个样本 (图像, 标签):\", first_sample)\n",
    "\n",
    "# 查看第一个样本图像数据的形状\n",
    "first_image_shape = train_data[0][0]\n",
    "print(\"第一个样本图像数据的形状:\", first_image_shape.shape)\n",
    "\n",
    "# 访问第二个样本的图像数据的形状\n",
    "second_image = train_data[1][0]\n",
    "print(\"第二个样本的图像数据的形状:\", second_image.shape)\n",
    "second_image_flattern = train_data[1][0].reshape(-1)\n",
    "print(\"转化后第二个样本的图像数据的形状:\", second_image_flattern.shape)\n",
    "\n",
    "# {0, 1, 2, 3, 4, 5, 6, 7, 8, 9}\n",
    "labels = set([clz for img,clz in train_data])\n",
    "print(labels)\n",
    "\n"
   ]
  }
 ],
 "metadata": {
  "kernelspec": {
   "display_name": "py312",
   "language": "python",
   "name": "python3"
  },
  "language_info": {
   "codemirror_mode": {
    "name": "ipython",
    "version": 3
   },
   "file_extension": ".py",
   "mimetype": "text/x-python",
   "name": "python",
   "nbconvert_exporter": "python",
   "pygments_lexer": "ipython3",
   "version": "3.12.8"
  }
 },
 "nbformat": 4,
 "nbformat_minor": 2
}
