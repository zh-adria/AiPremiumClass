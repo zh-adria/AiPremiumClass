{
 "cells": [
  {
   "cell_type": "markdown",
   "metadata": {},
   "source": [
    "### 2. 使用自定义的文档文本，通过fasttext训练word2vec训练词向量模型，并计算词汇间的相关度。（选做：尝试tensorboard绘制词向量可视化图）"
   ]
  },
  {
   "cell_type": "code",
   "execution_count": null,
   "metadata": {},
   "outputs": [],
   "source": [
    "# 导包\n",
    "import fasttext\n",
    "from sklearn.metrics.pairwise import cosine_similarity\n",
    "import jieba\n",
    "import tqdm"
   ]
  },
  {
   "cell_type": "code",
   "execution_count": 18,
   "metadata": {},
   "outputs": [
    {
     "name": "stdout",
     "output_type": "stream",
     "text": [
      "分词结果已成功写入 test_words.txt 文件。\n"
     ]
    }
   ],
   "source": [
    "# 文档进行分词处理\n",
    "word_comments = []\n",
    "lines = [line for line in open('test.txt', 'r')]\n",
    "for line in lines:\n",
    "    word_comments.append(jieba.lcut(line.strip()))\n",
    "\n",
    "with open('test_words.txt', 'w') as f:\n",
    "    for words in word_comments:\n",
    "            # 将分词结果用空格连接成字符串\n",
    "            line = ' '.join(words)\n",
    "            f.write(line + '\\n')\n",
    "    print(\"分词结果已成功写入 test_words.txt 文件。\")"
   ]
  },
  {
   "cell_type": "code",
   "execution_count": 19,
   "metadata": {},
   "outputs": [
    {
     "name": "stdout",
     "output_type": "stream",
     "text": [
      "词汇 'Skip-Gram' 和 'CBOW' 的相关度: 0.1613938808441162\n"
     ]
    }
   ],
   "source": [
    "# 训练FastText模型\n",
    "model = fasttext.train_unsupervised('test_words.txt', model='skipgram')\n",
    "\n",
    "word1 = 'Skip-Gram'\n",
    "word2 = 'CBOW'\n",
    "\n",
    "word_vector1 = model.get_word_vector(word1)\n",
    "word_vector2 = model.get_word_vector(word2)\n",
    "\n",
    "# 调整向量形状以适应cosine_similarity函数(1, 100)\n",
    "word_vector1 = word_vector1.reshape(1, -1)\n",
    "word_vector2 = word_vector2.reshape(1, -1)\n",
    "\n",
    "similarity = cosine_similarity(word_vector1, word_vector2)\n",
    "\n",
    "print(f\"词汇 '{word1}' 和 '{word2}' 的相关度: {similarity[0][0]}\")"
   ]
  }
 ],
 "metadata": {
  "kernelspec": {
   "display_name": "py312",
   "language": "python",
   "name": "python3"
  },
  "language_info": {
   "codemirror_mode": {
    "name": "ipython",
    "version": 3
   },
   "file_extension": ".py",
   "mimetype": "text/x-python",
   "name": "python",
   "nbconvert_exporter": "python",
   "pygments_lexer": "ipython3",
   "version": "3.12.8"
  }
 },
 "nbformat": 4,
 "nbformat_minor": 2
}
