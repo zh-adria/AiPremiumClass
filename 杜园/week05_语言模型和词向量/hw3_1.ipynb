{
 "cells": [
  {
   "cell_type": "code",
   "execution_count": 2,
   "metadata": {},
   "outputs": [],
   "source": [
    "import fasttext"
   ]
  },
  {
   "cell_type": "code",
   "execution_count": 3,
   "metadata": {},
   "outputs": [
    {
     "name": "stdout",
     "output_type": "stream",
     "text": [
      "预测类别: __label__food-safety，置信度: 0.026161959394812584\n"
     ]
    }
   ],
   "source": [
    "# 加载模型\n",
    "model = fasttext.load_model(\"cook_model.bin\")\n",
    "\n",
    "# 待分类的文本\n",
    "text = \"Ziploc vacuumed bags expand in sous vide\"\n",
    "\n",
    "# 进行分类预测\n",
    "prediction = model.predict(text)\n",
    "\n",
    "# 输出预测结果\n",
    "print(f\"预测类别: {prediction[0][0]}，置信度: {prediction[1][0]}\")"
   ]
  }
 ],
 "metadata": {
  "kernelspec": {
   "display_name": "py312",
   "language": "python",
   "name": "python3"
  },
  "language_info": {
   "codemirror_mode": {
    "name": "ipython",
    "version": 3
   },
   "file_extension": ".py",
   "mimetype": "text/x-python",
   "name": "python",
   "nbconvert_exporter": "python",
   "pygments_lexer": "ipython3",
   "version": "3.12.8"
  }
 },
 "nbformat": 4,
 "nbformat_minor": 2
}
