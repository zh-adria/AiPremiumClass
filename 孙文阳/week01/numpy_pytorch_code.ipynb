{
 "cells": [
  {
   "cell_type": "code",
   "execution_count": 3,
   "metadata": {},
   "outputs": [],
   "source": [
    "import numpy as np"
   ]
  },
  {
   "cell_type": "code",
   "execution_count": null,
   "metadata": {},
   "outputs": [
    {
     "name": "stdout",
     "output_type": "stream",
     "text": [
      "[1, 2, 3, 4]\n"
     ]
    },
    {
     "data": {
      "text/plain": [
       "array([1, 2, 3, 4])"
      ]
     },
     "execution_count": 3,
     "metadata": {},
     "output_type": "execute_result"
    }
   ],
   "source": [
    "a = [1,2,3,4] \n",
    "print(a)\n",
    "b = np.array(a)\n",
    "b"
   ]
  },
  {
   "cell_type": "code",
   "execution_count": null,
   "metadata": {},
   "outputs": [
    {
     "data": {
      "text/plain": [
       "array([1., 2., 3.])"
      ]
     },
     "execution_count": 9,
     "metadata": {},
     "output_type": "execute_result"
    }
   ],
   "source": [
    "#创建数组，指定数据类型\n",
    "a = np.array([1,2,3],float) \n",
    "a"
   ]
  },
  {
   "cell_type": "code",
   "execution_count": null,
   "metadata": {},
   "outputs": [
    {
     "name": "stdout",
     "output_type": "stream",
     "text": [
      "[[ 1.  2.  3.]\n",
      " [ 4.  5.  6.]\n",
      " [ 7.  8.  9.]\n",
      " [10. 11. 12.]]\n"
     ]
    },
    {
     "data": {
      "text/plain": [
       "(4, 3)"
      ]
     },
     "execution_count": 24,
     "metadata": {},
     "output_type": "execute_result"
    }
   ],
   "source": [
    "#创建多维数组\n",
    "a2 = np.array([(1,2,3),(4,5,6),(7,8,9),(10,11,12)],dtype=float)\n",
    "print(a2)\n",
    "a2.shape  "
   ]
  },
  {
   "cell_type": "code",
   "execution_count": null,
   "metadata": {},
   "outputs": [
    {
     "data": {
      "text/plain": [
       "array([[[0, 0, 0],\n",
       "        [0, 0, 0]],\n",
       "\n",
       "       [[0, 0, 0],\n",
       "        [0, 0, 0]]])"
      ]
     },
     "execution_count": 28,
     "metadata": {},
     "output_type": "execute_result"
    }
   ],
   "source": [
    "#numpy创建特殊数组\n",
    "#创建两个2行3列,全为0的数组\n",
    "a3 = np.zeros((2,2,3),dtype=int)\n",
    "a3"
   ]
  },
  {
   "cell_type": "code",
   "execution_count": null,
   "metadata": {},
   "outputs": [
    {
     "data": {
      "text/plain": [
       "array([[1., 1., 1.],\n",
       "       [1., 1., 1.],\n",
       "       [1., 1., 1.]])"
      ]
     },
     "execution_count": 35,
     "metadata": {},
     "output_type": "execute_result"
    }
   ],
   "source": [
    "#创建全为1的数组\n",
    "a4 = np.ones((3,3))\n",
    "a4"
   ]
  },
  {
   "cell_type": "code",
   "execution_count": 38,
   "metadata": {},
   "outputs": [
    {
     "data": {
      "text/plain": [
       "array([1. , 1.6, 2.2, 2.8, 3.4, 4. , 4.6, 5.2, 5.8, 6.4, 7. , 7.6, 8.2,\n",
       "       8.8, 9.4])"
      ]
     },
     "execution_count": 38,
     "metadata": {},
     "output_type": "execute_result"
    }
   ],
   "source": [
    "#创建等差数列，\n",
    "a5 = np.arange(1,10,0.6)\n",
    "a5"
   ]
  },
  {
   "cell_type": "code",
   "execution_count": null,
   "metadata": {},
   "outputs": [
    {
     "name": "stdout",
     "output_type": "stream",
     "text": [
      "[[1. 0. 0. 0.]\n",
      " [0. 1. 0. 0.]\n",
      " [0. 0. 1. 0.]\n",
      " [0. 0. 0. 1.]]\n"
     ]
    },
    {
     "data": {
      "text/plain": [
       "array([1., 0., 0., 0., 0., 1., 0., 0., 0., 0., 1., 0., 0., 0., 0., 1.])"
      ]
     },
     "execution_count": 44,
     "metadata": {},
     "output_type": "execute_result"
    }
   ],
   "source": [
    "#创建对角线1的数组，降维\n",
    "a6 = np.eye(4)\n",
    "print(a6)\n",
    "a6.reshape(16)"
   ]
  },
  {
   "cell_type": "code",
   "execution_count": null,
   "metadata": {},
   "outputs": [
    {
     "data": {
      "text/plain": [
       "array([0.15076143, 0.27575826, 0.17528239, 0.07035452, 0.77857711])"
      ]
     },
     "execution_count": 45,
     "metadata": {},
     "output_type": "execute_result"
    }
   ],
   "source": [
    "#[0,1))之间平均分布的随机数组,指定长度\n",
    "np.random.random(5)\n"
   ]
  },
  {
   "cell_type": "code",
   "execution_count": 78,
   "metadata": {},
   "outputs": [
    {
     "data": {
      "text/plain": [
       "array([1.00185476, 0.92059762, 0.9050447 , 0.75072169, 0.999957  ])"
      ]
     },
     "execution_count": 78,
     "metadata": {},
     "output_type": "execute_result"
    }
   ],
   "source": [
    "#生成指定长度，符合正态分布的随机数组\n",
    "mu,sigma =1,0.2\n",
    "np.random.normal(mu,sigma,5)"
   ]
  },
  {
   "cell_type": "code",
   "execution_count": 113,
   "metadata": {},
   "outputs": [
    {
     "name": "stdout",
     "output_type": "stream",
     "text": [
      "[1 2 3]\n",
      "\n",
      "[[ 4  5  6]\n",
      " [ 7  8  9]\n",
      " [10 11 12]]\n",
      "\n",
      "[[1 2 3]\n",
      " [4 5 6]]\n",
      "\n",
      "[[ 5  6]\n",
      " [ 8  9]\n",
      " [11 12]]\n",
      "\n"
     ]
    },
    {
     "data": {
      "text/plain": [
       "6"
      ]
     },
     "execution_count": 113,
     "metadata": {},
     "output_type": "execute_result"
    }
   ],
   "source": [
    "#numpy数组的访问,支持切片每个维度\n",
    "a7 = np.array([(1,2,3),(4,5,6),(7,8,9),(10,11,12)])\n",
    "print(a7[0])#输出第0个\n",
    "print()\n",
    "print(a7[1:])#输出从第1到最后（包含1）\n",
    "print()\n",
    "print(a7[:2]) #输出第2到开始（不包含2）\n",
    "print()\n",
    "print(a7[1: , 1:])  #输出第1到最后,第1到最后\n",
    "print()\n",
    "a7[1][2]#输出第1个，第2个值"
   ]
  },
  {
   "cell_type": "code",
   "execution_count": 4,
   "metadata": {},
   "outputs": [
    {
     "name": "stdout",
     "output_type": "stream",
     "text": [
      "1\n",
      "2\n",
      "3\n"
     ]
    }
   ],
   "source": [
    "#numpy数组遍历\n",
    "a8 = np.array([1,2,3])\n",
    "for i in a8:\n",
    "    print(i)"
   ]
  },
  {
   "cell_type": "code",
   "execution_count": null,
   "metadata": {},
   "outputs": [
    {
     "name": "stdout",
     "output_type": "stream",
     "text": [
      "6\n",
      "120\n",
      "504\n"
     ]
    }
   ],
   "source": [
    "#多维数组遍历\n",
    "a9 = np.array([(1,2,3),(4,5,6),(7,8,9)])\n",
    "for i,o,p in a9:\n",
    "    print(i*o*p)"
   ]
  },
  {
   "cell_type": "code",
   "execution_count": 16,
   "metadata": {},
   "outputs": [
    {
     "name": "stdout",
     "output_type": "stream",
     "text": [
      "ndim 2\n",
      "shape (3, 3)\n",
      "size 9\n",
      "dtype float64\n"
     ]
    }
   ],
   "source": [
    "#数组常用属性\n",
    "\n",
    "b1 = np.array([(1,2,3),(4,5,6),(7,8,9)],dtype=float)\n",
    "#数组的维度（数组轴的个数），等于秩\n",
    "print('ndim',b1.ndim)\n",
    "# 数组的⼤⼩。为⼀个表⽰数组在每个维度上⼤⼩的整数元组。例如⼆维数组中，表⽰数组的’ ⾏数’ 和’ 列数”\n",
    "print('shape',b1.shape)\n",
    "#数组元素的总个数，等于 shape 属性中元组元素的乘积\n",
    "print('size',b1.size)\n",
    "#表⽰数组中元素类型的对象\n",
    "print('dtype',b1.dtype)"
   ]
  },
  {
   "cell_type": "code",
   "execution_count": null,
   "metadata": {},
   "outputs": [
    {
     "name": "stdout",
     "output_type": "stream",
     "text": [
      "True\n",
      "False\n"
     ]
    }
   ],
   "source": [
    "#numpy数组的基本操作\n",
    "#检测数值是否在数组中\n",
    "b2 = np.array([(1,2,3),(4,5,6)])\n",
    "print(2 in b2)\n",
    "print(9 in b2)"
   ]
  },
  {
   "cell_type": "code",
   "execution_count": 37,
   "metadata": {},
   "outputs": [
    {
     "name": "stdout",
     "output_type": "stream",
     "text": [
      "[[1 2 3]\n",
      " [4 5 6]\n",
      " [7 8 9]]\n",
      "\n",
      "[1 2 3 4 5 6 7 8 9]\n",
      "\n",
      "[[1 4 7]\n",
      " [2 5 8]\n",
      " [3 6 9]]\n"
     ]
    },
    {
     "data": {
      "text/plain": [
       "array([[1, 4, 7],\n",
       "       [2, 5, 8],\n",
       "       [3, 6, 9]])"
      ]
     },
     "execution_count": 37,
     "metadata": {},
     "output_type": "execute_result"
    }
   ],
   "source": [
    "#数组的重排列，例如将⼀个 3 维数组转变为 1 维（元素数⼀定要保持不变）\n",
    "b3 = np.array([(1,2,3),(4,5,6),(7,8,9)])\n",
    "print(b3)\n",
    "b3.reshape(9)\n",
    "print()\n",
    "print(b3.reshape(9))\n",
    "print()\n",
    "b3.transpose()#转置\n",
    "print(b3.transpose())\n",
    "b3.T"
   ]
  },
  {
   "cell_type": "code",
   "execution_count": 41,
   "metadata": {},
   "outputs": [
    {
     "name": "stdout",
     "output_type": "stream",
     "text": [
      "[[1 2 3]\n",
      " [4 5 6]\n",
      " [7 8 9]]\n"
     ]
    },
    {
     "data": {
      "text/plain": [
       "array([1, 2, 3, 4, 5, 6, 7, 8, 9])"
      ]
     },
     "execution_count": 41,
     "metadata": {},
     "output_type": "execute_result"
    }
   ],
   "source": [
    "#把多维数组转换为⼀维数组，注意每个元组的⻓度是相同的\n",
    "b4 = np.array([(1,2,3),(4,5,6),(7,8,9)])\n",
    "print(b4)\n",
    "b4.flatten()"
   ]
  },
  {
   "cell_type": "code",
   "execution_count": 44,
   "metadata": {},
   "outputs": [
    {
     "data": {
      "text/plain": [
       "(4,)"
      ]
     },
     "execution_count": 44,
     "metadata": {},
     "output_type": "execute_result"
    }
   ],
   "source": [
    "#增加维度\n",
    "b5 = np.array([2,3,4,5])\n",
    "b5.shape"
   ]
  },
  {
   "cell_type": "code",
   "execution_count": 46,
   "metadata": {},
   "outputs": [
    {
     "data": {
      "text/plain": [
       "(4, 1, 1)"
      ]
     },
     "execution_count": 46,
     "metadata": {},
     "output_type": "execute_result"
    }
   ],
   "source": [
    "b5 = b5[:,np.newaxis]\n",
    "b5\n",
    "b5.shape"
   ]
  },
  {
   "cell_type": "code",
   "execution_count": 65,
   "metadata": {},
   "outputs": [
    {
     "name": "stdout",
     "output_type": "stream",
     "text": [
      "[[1. 1.]\n",
      " [1. 1.]]\n",
      "[[-1  1]\n",
      " [-1  1]]\n",
      "\n",
      "[[0. 2.]\n",
      " [0. 2.]]\n",
      "\n",
      "[[2. 0.]\n",
      " [2. 0.]]\n",
      "\n",
      "[[-1.  1.]\n",
      " [-1.  1.]]\n",
      "\n",
      "[[-1.  1.]\n",
      " [-1.  1.]]\n"
     ]
    }
   ],
   "source": [
    "#NumPy 数组的数学操作\n",
    "#加减乘除\n",
    "q=np.ones([2,2])\n",
    "w=np.array([(-1,1),(-1,1)])\n",
    "print(q)\n",
    "print(w)\n",
    "print()\n",
    "q+w\n",
    "print(q+w)\n",
    "print()\n",
    "q-w\n",
    "print(q-w)\n",
    "print()\n",
    "q*w\n",
    "print(q*w)\n",
    "print()\n",
    "q/w\n",
    "print(q/w)"
   ]
  },
  {
   "cell_type": "code",
   "execution_count": 70,
   "metadata": {},
   "outputs": [
    {
     "name": "stdout",
     "output_type": "stream",
     "text": [
      "10\n"
     ]
    },
    {
     "data": {
      "text/plain": [
       "24"
      ]
     },
     "execution_count": 70,
     "metadata": {},
     "output_type": "execute_result"
    }
   ],
   "source": [
    "#求和、求积\n",
    "s1 = np.array([1,2,3,4])\n",
    "print(s1.sum())\n",
    "\n",
    "s1.prod()\n"
   ]
  },
  {
   "cell_type": "code",
   "execution_count": 75,
   "metadata": {},
   "outputs": [
    {
     "name": "stdout",
     "output_type": "stream",
     "text": [
      "mean: 5.25\n",
      "var: 8.1875\n",
      "std: 2.8613807855648994\n",
      "max: 9\n",
      "min: 1\n"
     ]
    }
   ],
   "source": [
    "#平均数，⽅差，标准差，最⼤值，最⼩值\n",
    "s2 = np.array([9,6,5,1])\n",
    "print(\"mean:\",s2.mean())\n",
    "print(\"var:\", s2.var())\n",
    "print(\"std:\", s2.std())\n",
    "print(\"max:\", s2.max())\n",
    "print(\"min:\", s2.min())"
   ]
  },
  {
   "cell_type": "code",
   "execution_count": 79,
   "metadata": {},
   "outputs": [
    {
     "name": "stdout",
     "output_type": "stream",
     "text": [
      "argmax: 2\n",
      "argmin: 0\n",
      "ceil: [ 3.  5. 10.]\n",
      "floor: [2. 4. 9.]\n",
      "rint: [ 2.  5. 10.]\n"
     ]
    }
   ],
   "source": [
    "#最⼤与最⼩值对应的索引值：argmax,argmin:\n",
    "#取元素值上限，下限，四舍五⼊：ceil, floor, rint\n",
    "s3 = np.array([2.4, 4.8, 9.9])\n",
    "print(\"argmax:\", s3.argmax())\n",
    "print(\"argmin:\", s3.argmin())\n",
    "print(\"ceil:\", np.ceil(s3))\n",
    "print(\"floor:\", np.floor(s3))\n",
    "print(\"rint:\", np.rint(s3))"
   ]
  },
  {
   "cell_type": "code",
   "execution_count": 106,
   "metadata": {},
   "outputs": [
    {
     "data": {
      "text/plain": [
       "array([ 1.3, 10. , 11. , 13.2, 14. , 15. , 17. ])"
      ]
     },
     "execution_count": 106,
     "metadata": {},
     "output_type": "execute_result"
    }
   ],
   "source": [
    "#升序\n",
    "s4 = np.array([14,10,17,1.3,11,15,13.2])\n",
    "s4.sort()\n",
    "s4"
   ]
  },
  {
   "cell_type": "code",
   "execution_count": 101,
   "metadata": {},
   "outputs": [
    {
     "name": "stdout",
     "output_type": "stream",
     "text": [
      "矩阵 1:\n",
      "[[1. 2.]\n",
      " [3. 4.]]\n",
      "矩阵 2:\n",
      "[[5. 6.]\n",
      " [7. 8.]]\n",
      "使⽤ np.dot 得到的矩阵乘法结果:\n",
      "[[19. 22.]\n",
      " [43. 50.]]\n",
      "使⽤ @ 运算符得到的矩阵乘法结果:\n",
      "[[19. 22.]\n",
      " [43. 50.]]\n",
      "使⽤ @ 运算符得到的矩阵乘法结果:\n",
      "[[19. 22.]\n",
      " [43. 50.]]\n",
      "1.0 * 5.0 = 5.0\n",
      "2.0 * 7.0 = 14.0\n",
      "结果矩阵[1,1]:19.0\n",
      "\n",
      "1.0 * 6.0 = 6.0\n",
      "2.0 * 8.0 = 16.0\n",
      "结果矩阵[1,2]:22.0\n",
      "\n",
      "3.0 * 5.0 = 15.0\n",
      "4.0 * 7.0 = 28.0\n",
      "结果矩阵[2,1]:43.0\n",
      "\n",
      "3.0 * 6.0 = 18.0\n",
      "4.0 * 8.0 = 32.0\n",
      "结果矩阵[2,2]:50.0\n",
      "\n",
      "⼿动推演结果:\n",
      "[[19. 22.]\n",
      " [43. 50.]]\n"
     ]
    }
   ],
   "source": [
    "import numpy as np\n",
    "# 定义两个简单的矩阵\n",
    "m1 = np.array([(1, 2), (3, 4)], dtype=np.float32)\n",
    "m2 = np.array([(5, 6), (7, 8)], dtype=np.float32)\n",
    "              \n",
    "# 使⽤ np.dot 进⾏矩阵乘法\n",
    "result_dot = np.dot(m1, m2)\n",
    "\n",
    "# 使⽤ @ 运算符进⾏矩阵乘法\n",
    "result_at = m1 @ m2\n",
    "\n",
    "print(\"矩阵 1:\")\n",
    "print(m1)\n",
    "print(\"矩阵 2:\")\n",
    "print(m2)\n",
    "print(\"使⽤ np.dot 得到的矩阵乘法结果:\")\n",
    "print(result_dot)\n",
    "print(\"使⽤ @ 运算符得到的矩阵乘法结果:\")\n",
    "print(result_at)\n",
    "print(\"使⽤ @ 运算符得到的矩阵乘法结果:\")\n",
    "print(result_at)\n",
    "# 创建⼀个全零矩阵，⽤于存储⼿动推演的结果\n",
    "# 结果矩阵的⾏数等于 matrix1 的⾏数，列数等于 matrix2 的列数\n",
    "manual_result = np.zeros((m1.shape[0], m2.shape[1]), dtype=np.float32)\n",
    "# 外层循环：遍历 matrix1 的每⼀⾏\n",
    "# i 表⽰结果矩阵的⾏索引\n",
    "for i in range(m1.shape[0]):\n",
    "    # 中层循环：遍历 matrix2 的每⼀列\n",
    "    # j 表⽰结果矩阵的列索引\n",
    "    for j in range(m2.shape[1]):\n",
    "        # 初始化当前位置的结果为 0\n",
    "        manual_result[i, j] = 0\n",
    "        # 内层循环：计算 matrix1 的第 i ⾏与 matrix2 的第 j 列对应元素的乘积之和\n",
    "        # k 表⽰参与乘法运算的元素索引\n",
    "        for k in range(m1.shape[1]):\n",
    "            # 打印当前正在计算的元素\n",
    "            print(f\"{m1[i, k]} * {m2[k, j]} = {m1[i, k] * m2[k, j]}\")\n",
    "             # 将 matrix1 的第 i ⾏第 k 列元素与 matrix2 的第 k ⾏第 j 列元素相乘，并累\n",
    "            manual_result[i, j] += m1[i, k] * m2[k, j]\n",
    "        # 打印当前位置计算完成后的结果\n",
    "        print(f\"结果矩阵[{i+1},{j+1}]:{manual_result[i, j]}\\n\")\n",
    "            \n",
    "print(\"⼿动推演结果:\")\n",
    "print(manual_result)"
   ]
  },
  {
   "cell_type": "code",
   "execution_count": null,
   "metadata": {},
   "outputs": [],
   "source": [
    "#⽂件操作\n",
    "np.save ('123.npy',manual_result)\n"
   ]
  },
  {
   "cell_type": "code",
   "execution_count": 108,
   "metadata": {},
   "outputs": [
    {
     "data": {
      "text/plain": [
       "array([[19., 22.],\n",
       "       [43., 50.]], dtype=float32)"
      ]
     },
     "execution_count": 108,
     "metadata": {},
     "output_type": "execute_result"
    }
   ],
   "source": [
    "np.load ('123.npy')"
   ]
  },
  {
   "cell_type": "code",
   "execution_count": 114,
   "metadata": {},
   "outputs": [
    {
     "data": {
      "text/plain": [
       "array([5, 7, 9])"
      ]
     },
     "execution_count": 114,
     "metadata": {},
     "output_type": "execute_result"
    }
   ],
   "source": [
    "#NumPy ⼴播机制\n",
    "a = np.array([1,2,3])\n",
    "b = np.array([4,5,6])\n",
    "a + b"
   ]
  },
  {
   "cell_type": "code",
   "execution_count": null,
   "metadata": {},
   "outputs": [
    {
     "name": "stdout",
     "output_type": "stream",
     "text": [
      "(4, 2)\n",
      "(2,)\n"
     ]
    },
    {
     "data": {
      "text/plain": [
       "array([[ 3,  3],\n",
       "       [ 6,  6],\n",
       "       [ 9,  9],\n",
       "       [12, 12]])"
      ]
     },
     "execution_count": 118,
     "metadata": {},
     "output_type": "execute_result"
    }
   ],
   "source": [
    "a = np.array([(1,1), (2,2), (3,3), (4,4)])\n",
    "print(a.shape)\n",
    "b = np.array([3,3])#4个[3,3]\n",
    "print(b.shape)\n",
    "a * b"
   ]
  },
  {
   "cell_type": "code",
   "execution_count": null,
   "metadata": {},
   "outputs": [
    {
     "data": {
      "text/plain": [
       "tensor([[1, 2],\n",
       "        [3, 4]])"
      ]
     },
     "execution_count": 122,
     "metadata": {},
     "output_type": "execute_result"
    }
   ],
   "source": [
    "#pytorch 张量\n",
    "import torch\n",
    "\n",
    "data =([1,2],[3,4]) \n",
    "\n",
    "torch.tensor(data)"
   ]
  },
  {
   "cell_type": "code",
   "execution_count": 133,
   "metadata": {},
   "outputs": [
    {
     "data": {
      "text/plain": [
       "tensor([[1, 2, 3],\n",
       "        [4, 5, 6]], dtype=torch.int32)"
      ]
     },
     "execution_count": 133,
     "metadata": {},
     "output_type": "execute_result"
    }
   ],
   "source": [
    "import numpy as np\n",
    "np_array1 = np.array([(1,2,3),(4,5,6)])\n",
    "\n",
    "data1 =torch.from_numpy(np_array1)\n",
    "data1"
   ]
  },
  {
   "cell_type": "code",
   "execution_count": 141,
   "metadata": {},
   "outputs": [
    {
     "name": "stdout",
     "output_type": "stream",
     "text": [
      "tensor([[1, 1, 1],\n",
      "        [1, 1, 1]], dtype=torch.int32)\n",
      "tensor([[0, 0, 0],\n",
      "        [0, 0, 0]], dtype=torch.int32)\n",
      "tensor([[0.9330, 0.1119, 0.6882],\n",
      "        [0.4550, 0.8621, 0.3334]])\n"
     ]
    }
   ],
   "source": [
    "#参照已知张量,创建新的\n",
    "data2=torch.ones_like(data1)\n",
    "print(data2)\n",
    "data2=torch.zeros_like(data1)\n",
    "print(data2)\n",
    "data2=torch.rand_like(data1,dtype=torch.float32)#创建随机数时候指定张量类型\n",
    "print(data2)"
   ]
  },
  {
   "cell_type": "code",
   "execution_count": 143,
   "metadata": {},
   "outputs": [
    {
     "name": "stdout",
     "output_type": "stream",
     "text": [
      "Random Tensor: \n",
      " tensor([[0.3475, 0.6795, 0.5560, 0.1269, 0.9067],\n",
      "        [0.7205, 0.8398, 0.3070, 0.0224, 0.4944],\n",
      "        [0.7118, 0.3185, 0.3829, 0.6262, 0.5962],\n",
      "        [0.2032, 0.4145, 0.4234, 0.8597, 0.1075]]) \n",
      "\n",
      "Ones Tensor: \n",
      " tensor([[1., 1., 1., 1., 1.],\n",
      "        [1., 1., 1., 1., 1.],\n",
      "        [1., 1., 1., 1., 1.],\n",
      "        [1., 1., 1., 1., 1.]]) \n",
      "\n",
      "Zeros Tensor: \n",
      " tensor([[0., 0., 0., 0., 0.],\n",
      "        [0., 0., 0., 0., 0.],\n",
      "        [0., 0., 0., 0., 0.],\n",
      "        [0., 0., 0., 0., 0.]])\n"
     ]
    }
   ],
   "source": [
    "#使用随机值或常量值\n",
    "shape = (4,5)\n",
    "rand_tensor = torch.rand(shape)\n",
    "ones_tensor = torch.ones(shape)\n",
    "zeros_tensor = torch.zeros(shape)\n",
    "print(f\"Random Tensor: \\n {rand_tensor} \\n\")\n",
    "print(f\"Ones Tensor: \\n {ones_tensor} \\n\")\n",
    "print(f\"Zeros Tensor: \\n {zeros_tensor}\")"
   ]
  },
  {
   "cell_type": "code",
   "execution_count": 149,
   "metadata": {},
   "outputs": [
    {
     "name": "stdout",
     "output_type": "stream",
     "text": [
      "torch.Size([5, 3])\n",
      "tensor([[0.6529, 0.9064, 0.1513],\n",
      "        [0.2266, 0.0638, 0.7167],\n",
      "        [0.9584, 0.2249, 0.3886],\n",
      "        [0.5951, 0.3845, 0.1420],\n",
      "        [0.5481, 0.6934, 0.4441]])\n",
      "tensor([[-0.3197,  1.5590, -0.1356],\n",
      "        [-0.5416,  0.5842,  0.6489],\n",
      "        [-0.2995,  1.9865, -0.6612],\n",
      "        [-2.1185, -0.3004, -0.9796],\n",
      "        [ 1.0672, -1.3770, -2.1603]])\n",
      "tensor([[-0.5929,  0.1696,  2.1559],\n",
      "        [-1.1999, -0.6092, -0.6659],\n",
      "        [-1.6852,  0.1938, -1.3117],\n",
      "        [-1.2000,  0.6953, -0.1696],\n",
      "        [-0.2592,  1.2165, -0.2483]])\n",
      "tensor([1.0000, 1.3636, 1.7273, 2.0909, 2.4545, 2.8182, 3.1818, 3.5455, 3.9091,\n",
      "        4.2727, 4.6364, 5.0000])\n"
     ]
    }
   ],
   "source": [
    "# 基于现有tensor构建，但使⽤新值填充\n",
    "m = torch.ones(5,3, dtype=torch.double)#双精度\n",
    "n = torch.rand_like(m, dtype=torch.float)\n",
    "# 获取tensor的⼤⼩\n",
    "print(m.size()) # torch.Size([5,3])\n",
    "# 均匀分布\n",
    "print(torch.rand(5,3))\n",
    "# 标准正态分布\n",
    "print(torch.randn(5,3))\n",
    "# 离散正态分布\n",
    "print(torch.normal(mean=.0,std=1.0,size=(5,3)))\n",
    "# 线性间隔向量(返回⼀个1维张量，包含在区间start和end上均匀间隔的steps个点\n",
    "print(torch.linspace(start=1,end=5,steps=12))"
   ]
  },
  {
   "cell_type": "code",
   "execution_count": null,
   "metadata": {},
   "outputs": [
    {
     "name": "stdout",
     "output_type": "stream",
     "text": [
      "Shape of tensor: torch.Size([2, 3])\n",
      "Datatype of tensor: torch.float64\n",
      "Device tensor is stored on: cpu\n"
     ]
    }
   ],
   "source": [
    "tensor = torch.rand([2,3],dtype=torch.float64)\n",
    "print(f\"Shape of tensor: {tensor.shape}\")\n",
    "print(f\"Datatype of tensor: {tensor.dtype}\")\n",
    "print(f\"Device tensor is stored on: {tensor.device}\")#创建在内存中"
   ]
  },
  {
   "cell_type": "code",
   "execution_count": null,
   "metadata": {},
   "outputs": [
    {
     "name": "stdout",
     "output_type": "stream",
     "text": [
      "tensor([[0.1111, 0.7721, 0.4142],\n",
      "        [0.6041, 0.6428, 0.9616]], dtype=torch.float64)\n",
      "cpu\n",
      "tensor([[0.1111, 0.7721, 0.4142],\n",
      "        [0.6041, 0.6428, 0.9616]], dtype=torch.float64)\n",
      "cpu\n"
     ]
    }
   ],
   "source": [
    "# 设置张量在GPU上运算\n",
    "if torch.cuda.is_available():#需要cuda环境\n",
    "    device = torch.device('cuda')#GPU不行= =\n",
    "    tensor = tensor.to(device)\n",
    "print(tensor)\n",
    "print(tensor.device)\n",
    "\n",
    "#M系列芯片\n",
    "if torch.backends.mps.is_available():\n",
    "    device = torch.device('mps')#GPU不行= =\n",
    "    tensor = tensor.to(device)\n",
    "print(tensor)\n",
    "print(tensor.device)\n"
   ]
  },
  {
   "cell_type": "code",
   "execution_count": null,
   "metadata": {},
   "outputs": [
    {
     "name": "stdout",
     "output_type": "stream",
     "text": [
      "First row:  tensor([1, 2, 3, 4])\n",
      "First column:  tensor([ 1,  5,  9, 13])\n",
      "Last column: tensor([ 4,  8, 12, 16])\n",
      "tensor([[ 1,  0,  3,  4],\n",
      "        [ 5,  0,  7,  8],\n",
      "        [ 9,  0, 11, 12],\n",
      "        [13,  0, 15, 16]])\n"
     ]
    },
    {
     "name": "stderr",
     "output_type": "stream",
     "text": [
      "C:\\Users\\MLoong\\AppData\\Local\\Temp\\ipykernel_17696\\1461880843.py:2: UserWarning: To copy construct from a tensor, it is recommended to use sourceTensor.clone().detach() or sourceTensor.clone().detach().requires_grad_(True), rather than torch.tensor(sourceTensor).\n",
      "  tensor = torch.tensor(data4)\n"
     ]
    }
   ],
   "source": [
    "\n",
    "data4 =torch.arange(1,17,).reshape(4,4)   #([(1,2,3,4),(5,6,7,8),(9,10,11,12),(13,14,15,16)]) \n",
    "tensor = torch.tensor(data4)\n",
    "print('First row: ', tensor[0])#第一行\n",
    "print('First column: ', tensor[:, 0])#所有行第一列\n",
    "print('Last column:', tensor[..., -1])#所有行的最后一列\n",
    "tensor[:,1] = 0 #第一列都为0\n",
    "print(tensor)"
   ]
  },
  {
   "cell_type": "code",
   "execution_count": 186,
   "metadata": {},
   "outputs": [
    {
     "name": "stdout",
     "output_type": "stream",
     "text": [
      "tensor([[ 1,  0,  3,  4,  1,  0,  3,  4,  1,  0,  3,  4],\n",
      "        [ 5,  0,  7,  8,  5,  0,  7,  8,  5,  0,  7,  8],\n",
      "        [ 9,  0, 11, 12,  9,  0, 11, 12,  9,  0, 11, 12],\n",
      "        [13,  0, 15, 16, 13,  0, 15, 16, 13,  0, 15, 16]])\n",
      "torch.Size([4, 12])\n",
      "\n",
      "tensor([[[ 1,  0,  3,  4],\n",
      "         [ 5,  0,  7,  8],\n",
      "         [ 9,  0, 11, 12],\n",
      "         [13,  0, 15, 16]],\n",
      "\n",
      "        [[ 1,  0,  3,  4],\n",
      "         [ 5,  0,  7,  8],\n",
      "         [ 9,  0, 11, 12],\n",
      "         [13,  0, 15, 16]],\n",
      "\n",
      "        [[ 1,  0,  3,  4],\n",
      "         [ 5,  0,  7,  8],\n",
      "         [ 9,  0, 11, 12],\n",
      "         [13,  0, 15, 16]]])\n",
      "torch.Size([3, 4, 4])\n"
     ]
    }
   ],
   "source": [
    "#使⽤ torch.cat ⽤来连接指定维度的⼀系列张量\n",
    "t1 = torch.cat([tensor, tensor, tensor], dim=1)#\n",
    "print(t1)\n",
    "print(t1.shape)\n",
    "print()\n",
    "#使⽤ torch.stack ⽤来连接指定维度的⼀系列张量\n",
    "t1 = torch.stack([tensor, tensor, tensor], dim=0)#\n",
    "print(t1)\n",
    "print(t1.shape)\n"
   ]
  },
  {
   "cell_type": "code",
   "execution_count": 200,
   "metadata": {},
   "outputs": [
    {
     "name": "stdout",
     "output_type": "stream",
     "text": [
      "tensor([[ 14.,  32.,  50.],\n",
      "        [ 32.,  77., 122.],\n",
      "        [ 50., 122., 194.]])\n",
      "tensor([[ 14.,  32.,  50.],\n",
      "        [ 32.,  77., 122.],\n",
      "        [ 50., 122., 194.]])\n",
      "tensor([[ 14.,  32.,  50.],\n",
      "        [ 32.,  77., 122.],\n",
      "        [ 50., 122., 194.]])\n",
      "tensor([[ 1.,  4.,  9.],\n",
      "        [16., 25., 36.],\n",
      "        [49., 64., 81.]])\n",
      "tensor([[ 1.,  4.,  9.],\n",
      "        [16., 25., 36.],\n",
      "        [49., 64., 81.]])\n"
     ]
    },
    {
     "data": {
      "text/plain": [
       "tensor([[ 1.,  4.,  9.],\n",
       "        [16., 25., 36.],\n",
       "        [49., 64., 81.]])"
      ]
     },
     "execution_count": 200,
     "metadata": {},
     "output_type": "execute_result"
    }
   ],
   "source": [
    "# 计算两个张量之间矩阵乘法的⼏种⽅式。 y1, y2, y3 最后的值是⼀样的 dot\n",
    "tensor=torch.arange(1,10,dtype=torch.float32).reshape(3,3)\n",
    "y1 = tensor @ tensor.T\n",
    "y2 = tensor.matmul(tensor.T)\n",
    "print(y1)\n",
    "print(y2)\n",
    "y3 = torch.rand_like(tensor)\n",
    "torch.matmul(tensor, tensor.T, out=y3)\n",
    "print(y3)\n",
    "# 计算张量逐元素相乘的⼏种⽅法。 z1, z2, z3 最后的值是⼀样的。\n",
    "z1 = tensor * tensor\n",
    "z2 = tensor.mul(tensor)\n",
    "print(z1)\n",
    "print(z2)\n",
    "z3 = torch.rand_like(tensor)\n",
    "torch.mul(tensor, tensor, out=z3)"
   ]
  },
  {
   "cell_type": "code",
   "execution_count": 207,
   "metadata": {},
   "outputs": [
    {
     "name": "stdout",
     "output_type": "stream",
     "text": [
      "tensor([[ 1.,  2.,  3.,  4.,  5.],\n",
      "        [ 6.,  7.,  8.,  9., 10.],\n",
      "        [11., 12., 13., 14., 15.]])\n",
      "120.0 <class 'float'>\n"
     ]
    }
   ],
   "source": [
    "#如果⼀个单元素张量，例如将张量的值聚合计算，可以使⽤ item() ⽅法将其转换为Python 数值\n",
    "tensor2 = torch.arange(1,16,dtype=torch.float32).reshape(3,5)\n",
    "print(tensor2)\n",
    "agg = tensor2.sum()\n",
    "agg_item = agg.item()\n",
    "print(agg_item, type(agg_item))"
   ]
  },
  {
   "cell_type": "code",
   "execution_count": null,
   "metadata": {},
   "outputs": [
    {
     "name": "stdout",
     "output_type": "stream",
     "text": [
      "tensor([[ 6.,  7.,  8.,  9., 10.],\n",
      "        [11., 12., 13., 14., 15.],\n",
      "        [16., 17., 18., 19., 20.]]) \n",
      "\n",
      "tensor([[16., 17., 18., 19., 20.],\n",
      "        [21., 22., 23., 24., 25.],\n",
      "        [26., 27., 28., 29., 30.]])\n"
     ]
    }
   ],
   "source": [
    "#in_place\n",
    "#张量内部的值，直接被修改\n",
    "print(tensor2,'\\n')\n",
    "tensor2.add_(10)\n",
    "print(tensor2)"
   ]
  },
  {
   "cell_type": "code",
   "execution_count": null,
   "metadata": {},
   "outputs": [
    {
     "name": "stderr",
     "output_type": "stream",
     "text": [
      "C:\\Users\\MLoong\\AppData\\Local\\Temp\\ipykernel_17696\\2394107829.py:8: UserWarning: The use of `x.T` on tensors of dimension other than 2 to reverse their shape is deprecated and it will throw an error in a future release. Consider `x.mT` to transpose batches of matrices or `x.permute(*torch.arange(x.ndim - 1, -1, -1))` to reverse the dimensions of a tensor. (Triggered internally at C:\\actions-runner\\_work\\pytorch\\pytorch\\pytorch\\aten\\src\\ATen\\native\\TensorShape.cpp:3729.)\n",
      "  result = torch.matmul(A, x.T) + torch.matmul(b, x) + c\n"
     ]
    },
    {
     "data": {
      "text/plain": [
       "'expression.png'"
      ]
     },
     "execution_count": 213,
     "metadata": {},
     "output_type": "execute_result"
    }
   ],
   "source": [
    "from torchviz import make_dot\n",
    "# 定义矩阵 A，向量 b 和常数 c\n",
    "A = torch.randn(10, 10,requires_grad=True)\n",
    "b = torch.randn(10,requires_grad=True)\n",
    "c = torch.randn(1,requires_grad=True)\n",
    "x = torch.randn(10, requires_grad=True)\n",
    "# 计算 x^T * A + b * x + c \n",
    "result = torch.matmul(A, x.T) + torch.matmul(b, x) + c\n",
    "# ⽣成计算图节点\n",
    "dot = make_dot(result, params={'A': A, 'b': b, 'c': c, 'x': x})\n",
    "# 绘制计算图\n",
    "dot.render('expression', format='png', cleanup=True, view=False)"
   ]
  }
 ],
 "metadata": {
  "kernelspec": {
   "display_name": "badou",
   "language": "python",
   "name": "python3"
  },
  "language_info": {
   "codemirror_mode": {
    "name": "ipython",
    "version": 3
   },
   "file_extension": ".py",
   "mimetype": "text/x-python",
   "name": "python",
   "nbconvert_exporter": "python",
   "pygments_lexer": "ipython3",
   "version": "3.12.6"
  }
 },
 "nbformat": 4,
 "nbformat_minor": 2
}
