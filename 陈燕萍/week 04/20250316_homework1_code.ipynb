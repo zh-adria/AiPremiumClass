{
 "cells": [
  {
   "cell_type": "code",
   "execution_count": null,
   "metadata": {},
   "outputs": [],
   "source": [
    "# 加载包\n",
    "import torch\n",
    "import torch.nn as nn\n",
    "import torch.optim as optim\n",
    "from torch.utils.data import DataLoader, TensorDataset, random_split\n",
    "from sklearn.datasets import fetch_olivetti_faces\n",
    "import numpy as np\n",
    "import matplotlib.pyplot as plt"
   ]
  },
  {
   "cell_type": "code",
   "execution_count": 3,
   "metadata": {},
   "outputs": [],
   "source": [
    "device = torch.device(\"cuda\" if torch.cuda.is_available() else \"cpu\")"
   ]
  },
  {
   "cell_type": "code",
   "execution_count": 4,
   "metadata": {},
   "outputs": [],
   "source": [
    "# 加载数据集\n",
    "olivetti_faces = fetch_olivetti_faces(shuffle=True)\n",
    "X, y = olivetti_faces.data, olivetti_faces.target"
   ]
  },
  {
   "cell_type": "code",
   "execution_count": 5,
   "metadata": {},
   "outputs": [],
   "source": [
    "# 转换为pytorch张量\n",
    "X_tensor = torch.tensor(X, dtype=torch.float32)\n",
    "y_tensor = torch.tensor(y, dtype=torch.long)"
   ]
  },
  {
   "cell_type": "code",
   "execution_count": 6,
   "metadata": {},
   "outputs": [],
   "source": [
    "# 划分训练集和测试集\n",
    "train_size = int(0.8 * len(X_tensor))\n",
    "test_size = len(X_tensor) - train_size\n",
    "train_dataset, test_dataset = random_split(TensorDataset(X_tensor, y_tensor), [train_size, test_size])"
   ]
  },
  {
   "cell_type": "code",
   "execution_count": 7,
   "metadata": {},
   "outputs": [],
   "source": [
    "# 数据加载器\n",
    "BATCH_SIZE = 8  \n",
    "train_loader = DataLoader(train_dataset, batch_size=BATCH_SIZE, shuffle=True)\n",
    "test_loader = DataLoader(test_dataset, batch_size=BATCH_SIZE, shuffle=False)"
   ]
  },
  {
   "cell_type": "code",
   "execution_count": 8,
   "metadata": {},
   "outputs": [],
   "source": [
    "# 定义神经网络模型\n",
    "class FaceNN(nn.Module):\n",
    "    def __init__(self, activation_fn=nn.ReLU()):\n",
    "        super(FaceNN, self).__init__()\n",
    "        self.model = nn.Sequential(\n",
    "            nn.Linear(4096, 512),\n",
    "            nn.BatchNorm1d(512),\n",
    "            activation_fn,\n",
    "            nn.Linear(512, 256),\n",
    "            nn.BatchNorm1d(256),\n",
    "            activation_fn,\n",
    "            nn.Linear(256, 40) \n",
    "        )\n",
    "    \n",
    "    def forward(self, x):\n",
    "        return self.model(x)"
   ]
  },
  {
   "cell_type": "code",
   "execution_count": 9,
   "metadata": {},
   "outputs": [],
   "source": [
    "# 训练函数\n",
    "def train_model(model, train_loader, epochs=20, lr=0.01):\n",
    "    model.to(device)\n",
    "    loss_fn = nn.CrossEntropyLoss()\n",
    "    optimizer = optim.SGD(model.parameters(), lr=lr, momentum=0.9)\n",
    "    train_hist = []\n",
    "\n",
    "    for epoch in range(epochs):\n",
    "        model.train()\n",
    "        running_loss = 0.0\n",
    "        for X_batch, y_batch in train_loader:\n",
    "            X_batch, y_batch = X_batch.to(device), y_batch.to(device)\n",
    "\n",
    "            optimizer.zero_grad()\n",
    "            outputs = model(X_batch)\n",
    "            loss = loss_fn(outputs, y_batch)\n",
    "            loss.backward()\n",
    "            optimizer.step()\n",
    "\n",
    "            running_loss += loss.item()\n",
    "        avg_loss = running_loss / len(train_loader)\n",
    "        print(f\"Epoch [{epoch+1}/{epochs}], Loss: {avg_loss:.4f}\")\n",
    "        train_hist.append(avg_loss)\n",
    "\n",
    "    return train_hist\n"
   ]
  },
  {
   "cell_type": "code",
   "execution_count": 10,
   "metadata": {},
   "outputs": [],
   "source": [
    "# 测试函数\n",
    "def test_acc(test_loader, model):\n",
    "    model.eval()\n",
    "    correct = 0\n",
    "    total = 0\n",
    "    with torch.no_grad():\n",
    "        for X_batch, y_batch in test_loader:\n",
    "            X_batch, y_batch = X_batch.to(device), y_batch.to(device)\n",
    "            outputs = model(X_batch)\n",
    "            _, predicted = torch.max(outputs, 1)\n",
    "            total += y_batch.size(0)\n",
    "            correct += (predicted == y_batch).sum().item()\n",
    "    acc = correct / total * 100\n",
    "    print(f\"Test Accuracy: {acc:.2f}%\")\n",
    "    return acc"
   ]
  },
  {
   "cell_type": "code",
   "execution_count": 11,
   "metadata": {},
   "outputs": [
    {
     "name": "stdout",
     "output_type": "stream",
     "text": [
      "\n",
      "Training Model 1 (Sigmoid Activation)\n",
      "Epoch [1/10], Loss: 3.3974\n",
      "Epoch [2/10], Loss: 2.6809\n",
      "Epoch [3/10], Loss: 1.9739\n",
      "Epoch [4/10], Loss: 1.5349\n",
      "Epoch [5/10], Loss: 1.1452\n",
      "Epoch [6/10], Loss: 0.7923\n",
      "Epoch [7/10], Loss: 0.5695\n",
      "Epoch [8/10], Loss: 0.3991\n",
      "Epoch [9/10], Loss: 0.2969\n",
      "Epoch [10/10], Loss: 0.2324\n",
      "\n",
      "Training Model 2 (ReLU Activation)\n",
      "Epoch [1/10], Loss: 3.0522\n",
      "Epoch [2/10], Loss: 1.5226\n",
      "Epoch [3/10], Loss: 0.7126\n",
      "Epoch [4/10], Loss: 0.3678\n",
      "Epoch [5/10], Loss: 0.2502\n",
      "Epoch [6/10], Loss: 0.1768\n",
      "Epoch [7/10], Loss: 0.0979\n",
      "Epoch [8/10], Loss: 0.0503\n",
      "Epoch [9/10], Loss: 0.0428\n",
      "Epoch [10/10], Loss: 0.0489\n",
      "\n",
      "Training Model 3 (Simplified ReLU Model)\n",
      "Epoch [1/10], Loss: 2.6505\n",
      "Epoch [2/10], Loss: 0.9305\n",
      "Epoch [3/10], Loss: 0.3213\n",
      "Epoch [4/10], Loss: 0.1596\n",
      "Epoch [5/10], Loss: 0.0890\n",
      "Epoch [6/10], Loss: 0.0493\n",
      "Epoch [7/10], Loss: 0.0701\n",
      "Epoch [8/10], Loss: 0.0315\n",
      "Epoch [9/10], Loss: 0.0373\n",
      "Epoch [10/10], Loss: 0.0230\n"
     ]
    }
   ],
   "source": [
    "# 训练不同模型\n",
    "print(\"\\nTraining Model 1 (Sigmoid Activation)\")\n",
    "model1 = FaceNN(activation_fn=nn.Sigmoid()).to(device)\n",
    "model1_hist = train_model(model1, train_loader, epochs=10)\n",
    "\n",
    "print(\"\\nTraining Model 2 (ReLU Activation)\")\n",
    "model2 = FaceNN(activation_fn=nn.ReLU()).to(device)\n",
    "model2_hist = train_model(model2, train_loader, epochs=10)\n",
    "\n",
    "print(\"\\nTraining Model 3 (Simplified ReLU Model)\")\n",
    "model3 = nn.Sequential(\n",
    "    nn.Linear(4096, 512),\n",
    "    nn.BatchNorm1d(512),\n",
    "    nn.ReLU(),\n",
    "    nn.Linear(512, 40)\n",
    ").to(device)\n",
    "model3_hist = train_model(model3, train_loader, epochs=10)"
   ]
  },
  {
   "cell_type": "code",
   "execution_count": 12,
   "metadata": {},
   "outputs": [
    {
     "data": {
      "image/png": "[encoded data removed]",
      "text/plain": [
       "<Figure size 800x600 with 1 Axes>"
      ]
     },
     "metadata": {},
     "output_type": "display_data"
    }
   ],
   "source": [
    "# 画出loss下降曲线\n",
    "plt.figure(figsize=(8, 6))\n",
    "plt.plot(model1_hist, label=\"Sigmoid\")\n",
    "plt.plot(model2_hist, label=\"ReLU\")\n",
    "plt.plot(model3_hist, label=\"Simplified ReLU\")\n",
    "plt.xlabel(\"Epochs\")\n",
    "plt.ylabel(\"Loss\")\n",
    "plt.title(\"Training Loss Comparison\")\n",
    "plt.legend()\n",
    "plt.show()"
   ]
  },
  {
   "cell_type": "code",
   "execution_count": 13,
   "metadata": {},
   "outputs": [
    {
     "name": "stdout",
     "output_type": "stream",
     "text": [
      "\n",
      "Evaluating Model 1 (Sigmoid)\n",
      "Test Accuracy: 96.25%\n",
      "\n",
      "Evaluating Model 2 (ReLU)\n",
      "Test Accuracy: 96.25%\n",
      "\n",
      "Evaluating Model 3 (Simplified ReLU)\n",
      "Test Accuracy: 98.75%\n"
     ]
    },
    {
     "data": {
      "text/plain": [
       "98.75"
      ]
     },
     "execution_count": 13,
     "metadata": {},
     "output_type": "execute_result"
    }
   ],
   "source": [
    "# 评估准确率\n",
    "print(\"\\nEvaluating Model 1 (Sigmoid)\")\n",
    "test_acc(test_loader, model1)\n",
    "\n",
    "print(\"\\nEvaluating Model 2 (ReLU)\")\n",
    "test_acc(test_loader, model2)\n",
    "\n",
    "print(\"\\nEvaluating Model 3 (Simplified ReLU)\")\n",
    "test_acc(test_loader, model3)"
   ]
  }
 ],
 "metadata": {
  "kernelspec": {
   "display_name": "py312",
   "language": "python",
   "name": "py312"
  },
  "language_info": {
   "codemirror_mode": {
    "name": "ipython",
    "version": 3
   },
   "file_extension": ".py",
   "mimetype": "text/x-python",
   "name": "python",
   "nbconvert_exporter": "python",
   "pygments_lexer": "ipython3",
   "version": "3.12.8"
  }
 },
 "nbformat": 4,
 "nbformat_minor": 2
}
