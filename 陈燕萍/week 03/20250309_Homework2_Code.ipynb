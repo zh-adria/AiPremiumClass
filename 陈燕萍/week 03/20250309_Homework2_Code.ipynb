{
 "cells": [
  {
   "cell_type": "code",
   "execution_count": 1,
   "metadata": {},
   "outputs": [],
   "source": [
    "# 导入必要的包\n",
    "import torch\n",
    "import torch.nn as nn\n",
    "import torch.optim as optim\n",
    "import torchvision\n",
    "from torchvision.transforms.v2 import ToTensor\n",
    "from torchvision.datasets import KMNIST\n",
    "from torch.utils.data import DataLoader"
   ]
  },
  {
   "cell_type": "code",
   "execution_count": 2,
   "metadata": {},
   "outputs": [],
   "source": [
    "# 定义超参数\n",
    "LR = 1e-3  # 学习率\n",
    "epochs = 20  # 训练轮数\n",
    "BATCH_SIZE = 128  # 批次大小"
   ]
  },
  {
   "cell_type": "code",
   "execution_count": 3,
   "metadata": {},
   "outputs": [
    {
     "name": "stderr",
     "output_type": "stream",
     "text": [
      "c:\\Users\\stephanie.chen\\miniconda3\\envs\\py312\\Lib\\site-packages\\torchvision\\transforms\\v2\\_deprecated.py:42: UserWarning: The transform `ToTensor()` is deprecated and will be removed in a future release. Instead, please use `v2.Compose([v2.ToImage(), v2.ToDtype(torch.float32, scale=True)])`.Output is equivalent up to float precision.\n",
      "  warnings.warn(\n",
      "100%|██████████| 18.2M/18.2M [00:07<00:00, 2.49MB/s]\n",
      "100%|██████████| 29.5k/29.5k [00:00<00:00, 655kB/s]\n",
      "100%|██████████| 3.04M/3.04M [00:01<00:00, 1.74MB/s]\n",
      "100%|██████████| 5.12k/5.12k [00:00<00:00, 5.12MB/s]\n"
     ]
    }
   ],
   "source": [
    "# 加载 KMNIST 数据集\n",
    "train_data = KMNIST(root=\"./kmnist_data\", train=True, download=True, transform=ToTensor())\n",
    "test_data = KMNIST(root=\"./kmnist_data\", train=False, download=True, transform=ToTensor())"
   ]
  },
  {
   "cell_type": "code",
   "execution_count": 4,
   "metadata": {},
   "outputs": [],
   "source": [
    "# 创建数据加载器\n",
    "train_dl = DataLoader(train_data, batch_size=BATCH_SIZE, shuffle=True)"
   ]
  },
  {
   "cell_type": "code",
   "execution_count": 5,
   "metadata": {},
   "outputs": [],
   "source": [
    "# 定义模型\n",
    "model = nn.Sequential(\n",
    "    nn.Linear(784, 256),\n",
    "    nn.Sigmoid(),\n",
    "\n",
    "    nn.Linear(256, 128),\n",
    "    nn.Sigmoid(),\n",
    "\n",
    "    nn.Linear(128, 64),\n",
    "    nn.Sigmoid(),\n",
    "\n",
    "    nn.Linear(64, 10)\n",
    ")\n"
   ]
  },
  {
   "cell_type": "code",
   "execution_count": 6,
   "metadata": {},
   "outputs": [],
   "source": [
    "# 损失函数&优化器\n",
    "loss_fn = nn.CrossEntropyLoss()  \n",
    "# 优化器（模型参数更新）\n",
    "optimizer = torch.optim.SGD(model.parameters(), lr=LR)"
   ]
  },
  {
   "cell_type": "code",
   "execution_count": 7,
   "metadata": {},
   "outputs": [
    {
     "name": "stdout",
     "output_type": "stream",
     "text": [
      "Epoch:0 Loss: 2.312673807144165\n",
      "Epoch:1 Loss: 2.3124403953552246\n",
      "Epoch:2 Loss: 2.304731607437134\n",
      "Epoch:3 Loss: 2.302532911300659\n",
      "Epoch:4 Loss: 2.30298113822937\n",
      "Epoch:5 Loss: 2.3025403022766113\n",
      "Epoch:6 Loss: 2.302381992340088\n",
      "Epoch:7 Loss: 2.3024821281433105\n",
      "Epoch:8 Loss: 2.302889585494995\n",
      "Epoch:9 Loss: 2.302182912826538\n",
      "Epoch:10 Loss: 2.3026235103607178\n",
      "Epoch:11 Loss: 2.302449941635132\n",
      "Epoch:12 Loss: 2.3021254539489746\n",
      "Epoch:13 Loss: 2.302459239959717\n",
      "Epoch:14 Loss: 2.3026061058044434\n",
      "Epoch:15 Loss: 2.3023478984832764\n",
      "Epoch:16 Loss: 2.3028833866119385\n",
      "Epoch:17 Loss: 2.3027842044830322\n",
      "Epoch:18 Loss: 2.3024191856384277\n",
      "Epoch:19 Loss: 2.302459239959717\n"
     ]
    }
   ],
   "source": [
    "for epoch in range(epochs):\n",
    "    # 提取训练数据\n",
    "    for data, target in train_dl:\n",
    "        # 前向运算\n",
    "        output = model(data.reshape(-1, 784))\n",
    "        # 计算损失\n",
    "        loss = loss_fn(output, target)\n",
    "        # 反向传播\n",
    "        optimizer.zero_grad()  # 所有参数梯度清零\n",
    "        loss.backward()     # 计算梯度（参数.grad）\n",
    "        optimizer.step()    # 更新参数\n",
    "\n",
    "    print(f'Epoch:{epoch} Loss: {loss.item()}')"
   ]
  },
  {
   "cell_type": "code",
   "execution_count": 8,
   "metadata": {},
   "outputs": [
    {
     "name": "stdout",
     "output_type": "stream",
     "text": [
      "Accuracy: 12.41%\n"
     ]
    }
   ],
   "source": [
    "# 测试\n",
    "test_dl = DataLoader(test_data, batch_size=BATCH_SIZE)\n",
    "\n",
    "correct = 0\n",
    "total = 0\n",
    "with torch.no_grad():  # 不计算梯度\n",
    "    for data, target in test_dl:\n",
    "        output = model(data.reshape(-1, 784))\n",
    "        _, predicted = torch.max(output, 1)  # 返回每行最大值和索引\n",
    "        total += target.size(0)  # size(0) 等效 shape[0]\n",
    "        correct += (predicted == target).sum().item()\n",
    "\n",
    "print(f'Accuracy: {correct/total*100}%')"
   ]
  }
 ],
 "metadata": {
  "kernelspec": {
   "display_name": "py312",
   "language": "python",
   "name": "py312"
  },
  "language_info": {
   "codemirror_mode": {
    "name": "ipython",
    "version": 3
   },
   "file_extension": ".py",
   "mimetype": "text/x-python",
   "name": "python",
   "nbconvert_exporter": "python",
   "pygments_lexer": "ipython3",
   "version": "3.12.8"
  }
 },
 "nbformat": 4,
 "nbformat_minor": 2
}
