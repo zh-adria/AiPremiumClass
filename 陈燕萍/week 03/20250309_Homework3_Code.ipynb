{
 "cells": [
  {
   "cell_type": "code",
   "execution_count": 1,
   "metadata": {},
   "outputs": [],
   "source": [
    "# 导入必要的包\n",
    "import torch\n",
    "import torch.nn as nn\n",
    "import torch.optim as optim\n",
    "import torchvision\n",
    "from torchvision.transforms.v2 import ToTensor\n",
    "from torchvision.datasets import KMNIST\n",
    "from torch.utils.data import DataLoader"
   ]
  },
  {
   "cell_type": "code",
   "execution_count": 2,
   "metadata": {},
   "outputs": [],
   "source": [
    "# 定义超参数\n",
    "LR = 1e-6  # 学习率\n",
    "epochs = 30  # 训练轮数\n",
    "BATCH_SIZE = 128  # 批次大小"
   ]
  },
  {
   "cell_type": "code",
   "execution_count": 3,
   "metadata": {},
   "outputs": [
    {
     "name": "stderr",
     "output_type": "stream",
     "text": [
      "c:\\Users\\stephanie.chen\\miniconda3\\envs\\py312\\Lib\\site-packages\\torchvision\\transforms\\v2\\_deprecated.py:42: UserWarning: The transform `ToTensor()` is deprecated and will be removed in a future release. Instead, please use `v2.Compose([v2.ToImage(), v2.ToDtype(torch.float32, scale=True)])`.Output is equivalent up to float precision.\n",
      "  warnings.warn(\n"
     ]
    }
   ],
   "source": [
    "# 加载 KMNIST 数据集\n",
    "train_data = KMNIST(root=\"./kmnist_data\", train=True, download=True, transform=ToTensor())\n",
    "test_data = KMNIST(root=\"./kmnist_data\", train=False, download=True, transform=ToTensor())"
   ]
  },
  {
   "cell_type": "code",
   "execution_count": 4,
   "metadata": {},
   "outputs": [],
   "source": [
    "# 创建数据加载器\n",
    "train_dl = DataLoader(train_data, batch_size=BATCH_SIZE, shuffle=True)"
   ]
  },
  {
   "cell_type": "code",
   "execution_count": 5,
   "metadata": {},
   "outputs": [],
   "source": [
    "# 定义模型\n",
    "model = nn.Sequential(\n",
    "    nn.Linear(784, 256),\n",
    "    nn.Sigmoid(),\n",
    "\n",
    "    nn.Linear(256, 128),\n",
    "    nn.Sigmoid(),\n",
    "\n",
    "    nn.Linear(128, 64),\n",
    "    nn.Sigmoid(),\n",
    "\n",
    "    nn.Linear(64, 10)\n",
    ")"
   ]
  },
  {
   "cell_type": "code",
   "execution_count": 6,
   "metadata": {},
   "outputs": [],
   "source": [
    "# 损失函数&优化器\n",
    "loss_fn = nn.CrossEntropyLoss()  \n",
    "# 优化器（模型参数更新）\n",
    "optimizer = torch.optim.SGD(model.parameters(), lr=LR)"
   ]
  },
  {
   "cell_type": "code",
   "execution_count": 7,
   "metadata": {},
   "outputs": [
    {
     "name": "stdout",
     "output_type": "stream",
     "text": [
      "Epoch:0 Loss: 2.3376052379608154\n",
      "Epoch:1 Loss: 2.3637893199920654\n",
      "Epoch:2 Loss: 2.310943841934204\n",
      "Epoch:3 Loss: 2.3399786949157715\n",
      "Epoch:4 Loss: 2.3246536254882812\n",
      "Epoch:5 Loss: 2.3061718940734863\n",
      "Epoch:6 Loss: 2.3199851512908936\n",
      "Epoch:7 Loss: 2.349475383758545\n",
      "Epoch:8 Loss: 2.310232639312744\n",
      "Epoch:9 Loss: 2.3260385990142822\n",
      "Epoch:10 Loss: 2.3473100662231445\n",
      "Epoch:11 Loss: 2.3005053997039795\n",
      "Epoch:12 Loss: 2.2816522121429443\n",
      "Epoch:13 Loss: 2.3356571197509766\n",
      "Epoch:14 Loss: 2.3322417736053467\n",
      "Epoch:15 Loss: 2.3496665954589844\n",
      "Epoch:16 Loss: 2.364006280899048\n",
      "Epoch:17 Loss: 2.2686827182769775\n",
      "Epoch:18 Loss: 2.3143234252929688\n",
      "Epoch:19 Loss: 2.343736410140991\n",
      "Epoch:20 Loss: 2.339970588684082\n",
      "Epoch:21 Loss: 2.325648307800293\n",
      "Epoch:22 Loss: 2.3341026306152344\n",
      "Epoch:23 Loss: 2.3357813358306885\n",
      "Epoch:24 Loss: 2.35540509223938\n",
      "Epoch:25 Loss: 2.2987821102142334\n",
      "Epoch:26 Loss: 2.2933480739593506\n",
      "Epoch:27 Loss: 2.3284592628479004\n",
      "Epoch:28 Loss: 2.3263933658599854\n",
      "Epoch:29 Loss: 2.300934076309204\n"
     ]
    }
   ],
   "source": [
    "for epoch in range(epochs):\n",
    "    # 提取训练数据\n",
    "    for data, target in train_dl:\n",
    "        # 前向运算\n",
    "        output = model(data.reshape(-1, 784))\n",
    "        # 计算损失\n",
    "        loss = loss_fn(output, target)\n",
    "        # 反向传播\n",
    "        optimizer.zero_grad()  # 所有参数梯度清零\n",
    "        loss.backward()     # 计算梯度（参数.grad）\n",
    "        optimizer.step()    # 更新参数\n",
    "\n",
    "    print(f'Epoch:{epoch} Loss: {loss.item()}')"
   ]
  },
  {
   "cell_type": "code",
   "execution_count": 8,
   "metadata": {},
   "outputs": [
    {
     "name": "stdout",
     "output_type": "stream",
     "text": [
      "Accuracy: 10.0%\n"
     ]
    }
   ],
   "source": [
    "# 测试\n",
    "test_dl = DataLoader(test_data, batch_size=BATCH_SIZE)\n",
    "\n",
    "correct = 0\n",
    "total = 0\n",
    "with torch.no_grad():  # 不计算梯度\n",
    "    for data, target in test_dl:\n",
    "        output = model(data.reshape(-1, 784))\n",
    "        _, predicted = torch.max(output, 1)  # 返回每行最大值和索引\n",
    "        total += target.size(0)  # size(0) 等效 shape[0]\n",
    "        correct += (predicted == target).sum().item()\n",
    "\n",
    "print(f'Accuracy: {correct/total*100}%')"
   ]
  }
 ],
 "metadata": {
  "kernelspec": {
   "display_name": "py312",
   "language": "python",
   "name": "py312"
  },
  "language_info": {
   "codemirror_mode": {
    "name": "ipython",
    "version": 3
   },
   "file_extension": ".py",
   "mimetype": "text/x-python",
   "name": "python",
   "nbconvert_exporter": "python",
   "pygments_lexer": "ipython3",
   "version": "3.12.8"
  }
 },
 "nbformat": 4,
 "nbformat_minor": 2
}
