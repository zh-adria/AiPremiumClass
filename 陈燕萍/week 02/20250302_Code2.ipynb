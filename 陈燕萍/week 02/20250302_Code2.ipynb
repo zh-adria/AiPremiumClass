{
 "cells": [
  {
   "cell_type": "code",
   "execution_count": 14,
   "metadata": {},
   "outputs": [],
   "source": [
    "from sklearn.datasets import make_classification\n",
    "from sklearn.model_selection import train_test_split"
   ]
  },
  {
   "cell_type": "code",
   "execution_count": 3,
   "metadata": {},
   "outputs": [
    {
     "data": {
      "text/plain": [
       "(array([[-2.08789674e-01,  7.72840290e-01,  6.43597464e-01, ...,\n",
       "         -3.67977801e-01, -1.18565462e+00, -6.88296093e-01],\n",
       "        [ 4.33327160e-01,  8.78734885e-01, -6.32676233e-01, ...,\n",
       "         -1.41514759e+00,  5.77140067e-01, -2.99128342e-01],\n",
       "        [-1.92194268e-01, -3.87143482e-01, -1.55763274e+00, ...,\n",
       "          1.28278285e-01, -1.05865072e+00,  7.00951970e-01],\n",
       "        ...,\n",
       "        [-1.08862660e+00,  4.51765399e-01, -4.06120684e-01, ...,\n",
       "         -8.86560989e-01,  2.53306133e-01,  4.39582680e-01],\n",
       "        [-3.09101965e-04,  5.69993006e-01,  9.53164395e-02, ...,\n",
       "         -1.03818709e-02,  8.44991588e-01,  1.49227088e+00],\n",
       "        [ 5.39402713e-01, -1.38915975e-01,  3.87870555e-02, ...,\n",
       "          2.34091795e-01, -2.51231704e-02,  6.84240566e-01]]),\n",
       " array([0, 0, 0, 1, 1, 0, 0, 1, 0, 0, 0, 0, 0, 0, 1, 1, 0, 0, 1, 1, 0, 1,\n",
       "        1, 1, 1, 0, 0, 0, 1, 1, 1, 1, 1, 1, 1, 1, 1, 1, 0, 1, 1, 1, 1, 1,\n",
       "        0, 0, 1, 1, 0, 1, 0, 1, 1, 0, 1, 0, 0, 0, 1, 1, 0, 1, 1, 0, 0, 1,\n",
       "        1, 1, 1, 1, 1, 0, 0, 1, 0, 0, 0, 0, 0, 0, 0, 1, 0, 0, 1, 0, 1, 1,\n",
       "        0, 0, 1, 1, 0, 0, 0, 0, 1, 0, 0, 0]))"
      ]
     },
     "execution_count": 3,
     "metadata": {},
     "output_type": "execute_result"
    }
   ],
   "source": [
    "result = make_classification()\n",
    "result"
   ]
  },
  {
   "cell_type": "code",
   "execution_count": 5,
   "metadata": {},
   "outputs": [
    {
     "name": "stdout",
     "output_type": "stream",
     "text": [
      "[[ 0.75319068  1.36933065  1.3477372  ... -0.38685853 -0.09373776\n",
      "  -1.55400581]\n",
      " [ 0.33931386  0.16587132 -1.98069876 ... -1.08211266 -0.56530259\n",
      "  -0.48703529]\n",
      " [-0.3564442  -2.23817714  0.80937502 ...  1.4200677  -0.9267845\n",
      "   0.59001968]\n",
      " ...\n",
      " [ 0.03044534 -0.48727203 -0.70366553 ... -0.19689172  1.95378211\n",
      "  -0.31772788]\n",
      " [ 0.49882697 -0.50643587 -0.68781201 ... -0.32827763  0.08817942\n",
      "  -2.25666737]\n",
      " [ 1.0758991   1.41612801 -1.01951141 ... -0.62563058  0.07515954\n",
      "   0.40680242]]\n",
      "[1 0 0 0 1 0 1 0 0 0 0 0 1 1 1 0 0 0 1 0 0 1 0 1 1 1 1 1 1 1 1 1 0 0 1 0 1\n",
      " 0 1 1 0 1 1 0 0 1 0 0 0 0 1 0 1 0 1 1 0 1 0 1 1 1 0 1 1 0 0 1 0 0 0 0 1 1\n",
      " 1 1 0 1 1 0 1 0 1 1 0 0 0 1 0 1 0 0 1 0 1 0 1 1 0 0]\n",
      "(100, 20)\n",
      "(100,)\n"
     ]
    }
   ],
   "source": [
    "x,y = make_classification()\n",
    "print (x)\n",
    "print (y)\n",
    "print (x.shape)\n",
    "print (y.shape)"
   ]
  },
  {
   "cell_type": "code",
   "execution_count": 6,
   "metadata": {},
   "outputs": [
    {
     "data": {
      "text/plain": [
       "array([ 0.75319068,  1.36933065,  1.3477372 , -1.29997182,  1.17240697,\n",
       "       -1.69659363,  0.32548646,  0.89545602, -0.00857879,  0.35158154,\n",
       "        1.06320113,  2.30197906,  0.60103636, -0.9662018 , -0.40559159,\n",
       "       -0.15734401,  1.32592765, -0.38685853, -0.09373776, -1.55400581])"
      ]
     },
     "execution_count": 6,
     "metadata": {},
     "output_type": "execute_result"
    }
   ],
   "source": [
    "x[0]"
   ]
  },
  {
   "cell_type": "code",
   "execution_count": 7,
   "metadata": {},
   "outputs": [
    {
     "data": {
      "text/plain": [
       "1"
      ]
     },
     "execution_count": 7,
     "metadata": {},
     "output_type": "execute_result"
    }
   ],
   "source": [
    "y[0]"
   ]
  },
  {
   "cell_type": "code",
   "execution_count": 9,
   "metadata": {},
   "outputs": [
    {
     "name": "stdout",
     "output_type": "stream",
     "text": [
      "[[-1.34813864  0.5469736  -0.23973207 ... -0.73665865  2.34947035\n",
      "   0.19256291]\n",
      " [ 1.88494564  0.94549233  0.04730195 ...  1.8690573  -1.56512016\n",
      "   0.95048909]\n",
      " [ 0.35561322 -0.32121167 -0.36854164 ... -1.56269179  0.34702842\n",
      "  -1.41120588]\n",
      " ...\n",
      " [ 0.45984639 -0.18641963  0.52569552 ... -0.16361818  0.44168925\n",
      "   1.69897653]\n",
      " [-1.04282538 -0.6175952   0.80595678 ...  0.49519244  0.74636201\n",
      "   0.2420045 ]\n",
      " [ 1.11489282 -0.43287294  0.11849391 ...  1.9358528  -1.18788222\n",
      "  -0.86599473]]\n",
      "[0 1 0 0 1 0 1 0 0 0 1 1 0 0 0 1 0 0 1 0 0 0 0 0 1 0 1 1 0 1 1 0 1 1 1 1 1\n",
      " 1 1 0 1 1 1 0 1 0 0 0 1 1 1 0 1 1 1 1 1 0 0 0 0 1 1 1 0 0 0 1 0 1 0 0 0 1\n",
      " 1 1 0 1 1 0 1 0 1 0 0 1 0 1 0 0 1 1 1 1 0 0 1 0 1 0 0 1 0 1 0 1 0 0 0 0 1\n",
      " 0 0 0 1 0 0 0 0 1 0 1 1 1 0 0 1 1 0 1 1 1 0 1 1 0 1 1 0 1 0 1 0 1 1 1 0 1\n",
      " 0 1]\n",
      "(150, 20)\n",
      "(150,)\n"
     ]
    }
   ],
   "source": [
    "x,y = make_classification(n_samples=150)\n",
    "print (x)\n",
    "print (y)\n",
    "print (x.shape)\n",
    "print (y.shape)"
   ]
  },
  {
   "cell_type": "code",
   "execution_count": 15,
   "metadata": {},
   "outputs": [
    {
     "name": "stdout",
     "output_type": "stream",
     "text": [
      "[[-1.43700843 -1.00941324 -0.14062439 ...  1.59537996  0.40682279\n",
      "   0.99104636]\n",
      " [ 1.6601185  -0.1765334  -1.03986927 ...  0.15585863 -1.78190944\n",
      "  -0.39835637]\n",
      " [-0.21718753  0.58697782 -0.35425006 ...  0.10719736  0.17330042\n",
      "  -0.1570463 ]\n",
      " ...\n",
      " [ 0.66041534  0.87875545 -1.86317775 ...  1.15977171 -1.8440235\n",
      "   0.66404742]\n",
      " [ 1.48416511 -1.4193692  -1.12327151 ... -0.38664212 -1.33668143\n",
      "  -2.5398549 ]\n",
      " [-1.00027615 -0.32869176  1.13961963 ...  1.03472172 -0.38099626\n",
      "  -0.38530789]]\n",
      "[1 0 1 0 1 1 1 0 1 1 0 1 1 1 0 0 1 0 1 0 0 0 1 0 1 0 1 1 0 0 0 0 0 1 0 1 1\n",
      " 1 1 1 0 1 1 0 0 1 1 0 1 0 0 1 1 1 1 1 0 0 1 0 1 0 1 0 0 1 1 0 0 0 0 0 0 1\n",
      " 1 1 1 0 0 1 0 0 0 0 0 1 1 1 1 0 1 1 0 1 0 0 0 0 0 1 1 1 0 0 0 0 0 1 1 0 0\n",
      " 1 0 0 1 0 0 0 1 1 1 0 1 1 1 0 1 1 1 1 1 1 0 0 0 0 1 0 0 1 1 1 1 0 1 0 0 0\n",
      " 0 0]\n",
      "(150, 20)\n",
      "(150,)\n"
     ]
    }
   ],
   "source": [
    "x,y = make_classification(n_samples=150, n_features=20)\n",
    "print (x)\n",
    "print (y)\n",
    "print (x.shape)\n",
    "print (y.shape)"
   ]
  },
  {
   "cell_type": "code",
   "execution_count": null,
   "metadata": {},
   "outputs": [],
   "source": [
    "# 生成训练数据\n",
    "x,y = make_classification(n_samples=150, n_features=20)\n",
    "\n",
    "# 数据拆分\n",
    "# 局部样本训练模型（过拟合模型）测试预测不好 训练数据和测试数据差距大\n",
    "# 新样本数据模型表现不好（泛化能力差）故意不告诉一些数据\n",
    "X_train, X_test, y_train, y_test = train_test_split(x, y, test_size=0.3)"
   ]
  },
  {
   "cell_type": "code",
   "execution_count": 18,
   "metadata": {},
   "outputs": [
    {
     "name": "stdout",
     "output_type": "stream",
     "text": [
      "(105, 20)\n",
      "(45, 20)\n"
     ]
    }
   ],
   "source": [
    "print (X_train.shape)\n",
    "print (X_test.shape)"
   ]
  },
  {
   "cell_type": "code",
   "execution_count": 28,
   "metadata": {},
   "outputs": [],
   "source": [
    "from sklearn.datasets import make_classification\n",
    "from sklearn.model_selection import train_test_split\n",
    "import numpy as np"
   ]
  },
  {
   "cell_type": "code",
   "execution_count": 41,
   "metadata": {},
   "outputs": [],
   "source": [
    "# 1.生成训练数据\n",
    "x, y = make_classification(n_samples=150, n_features=20)\n",
    "\n",
    "# 数据拆分\n",
    "# 局部样本训练模型（过拟合模型）测试预测不好 训练数据和测试数据差距大\n",
    "# 新样本数据模型表现不好（泛化能力差）故意不告诉一些数据\n",
    "X_train, X_test, y_train, y_test = train_test_split(x, y, test_size=0.3)"
   ]
  },
  {
   "cell_type": "code",
   "execution_count": null,
   "metadata": {},
   "outputs": [],
   "source": [
    "# 权重参数\n",
    "theta = np.random.randn(20,1) # shape (1,10)??\n",
    "bias = 0\n",
    "\n",
    "# 超参数\n",
    "lr = 0.1 # 学习率\n",
    "epochs = 3000 # 训练次数"
   ]
  },
  {
   "cell_type": "code",
   "execution_count": null,
   "metadata": {},
   "outputs": [
    {
     "name": "stdout",
     "output_type": "stream",
     "text": [
      "epoch: 0, loss: 1.5577539064461832, acc: 0.5000453514739229\n",
      "epoch: 100, loss: 0.7535725388320061, acc: 0.6239455782312925\n",
      "epoch: 200, loss: 0.6245643106076021, acc: 0.6858049886621315\n",
      "epoch: 300, loss: 0.6095839129114565, acc: 0.690702947845805\n",
      "epoch: 400, loss: 0.6078404756059572, acc: 0.6955102040816327\n",
      "epoch: 500, loss: 0.6075991032349671, acc: 0.6858956916099773\n",
      "epoch: 600, loss: 0.6075604057074662, acc: 0.6810884353741496\n",
      "epoch: 700, loss: 0.6075536672863693, acc: 0.6810884353741496\n",
      "epoch: 800, loss: 0.6075524458228826, acc: 0.6810884353741496\n",
      "epoch: 900, loss: 0.6075522202295992, acc: 0.6810884353741496\n",
      "epoch: 1000, loss: 0.6075521782005113, acc: 0.6810884353741496\n",
      "epoch: 1100, loss: 0.6075521703381462, acc: 0.6810884353741496\n",
      "epoch: 1200, loss: 0.6075521688644571, acc: 0.6810884353741496\n",
      "epoch: 1300, loss: 0.6075521685879764, acc: 0.6810884353741496\n",
      "epoch: 1400, loss: 0.6075521685360835, acc: 0.6810884353741496\n",
      "epoch: 1500, loss: 0.6075521685263425, acc: 0.6810884353741496\n",
      "epoch: 1600, loss: 0.6075521685245143, acc: 0.6810884353741496\n",
      "epoch: 1700, loss: 0.6075521685241714, acc: 0.6810884353741496\n",
      "epoch: 1800, loss: 0.6075521685241073, acc: 0.6810884353741496\n",
      "epoch: 1900, loss: 0.6075521685240952, acc: 0.6810884353741496\n",
      "epoch: 2000, loss: 0.6075521685240929, acc: 0.6810884353741496\n",
      "epoch: 2100, loss: 0.6075521685240926, acc: 0.6810884353741496\n",
      "epoch: 2200, loss: 0.6075521685240926, acc: 0.6810884353741496\n",
      "epoch: 2300, loss: 0.6075521685240924, acc: 0.6810884353741496\n",
      "epoch: 2400, loss: 0.6075521685240926, acc: 0.6810884353741496\n",
      "epoch: 2500, loss: 0.6075521685240924, acc: 0.6810884353741496\n",
      "epoch: 2600, loss: 0.6075521685240926, acc: 0.6810884353741496\n",
      "epoch: 2700, loss: 0.6075521685240924, acc: 0.6810884353741496\n",
      "epoch: 2800, loss: 0.6075521685240924, acc: 0.6810884353741496\n",
      "epoch: 2900, loss: 0.6075521685240926, acc: 0.6810884353741496\n"
     ]
    }
   ],
   "source": [
    "# 假设 X 是 shape (3, 3)\n",
    "# [[x1,x2,x3],\n",
    "#  [x4,x5,x6],\n",
    "#  [x7,x8,x9]]\n",
    "# X.T 是 shape (3, 3) \n",
    "# [[x1,x4,x7],\n",
    "#  [x2,x5,x8],\n",
    "#  [x3,x6,x9]]\n",
    "\n",
    "# 假设 theta 模型参数 shape (1, 3)\n",
    "# [[w1, w2, w3]]\n",
    "# theta * X.T shape (1, 3)\n",
    "#  y1 = w1 * x1 + w2 * x2 + w3 * x3 \n",
    "#  y2 = w1 * x4 + w2 * x5 + w3 * x6\n",
    "#  y3 = w1 * x7 + w2 * x8 + w3 * x9\n",
    "#  [[y1, y2, y3]]\n",
    "\n",
    "# 2.模型计算函数\n",
    "def forward (x, theta, bias):\n",
    "    # 线性运算\n",
    "    z = np.dot(x, theta) + bias # shape (105,10)\n",
    "    # sigmoid\n",
    "    y_hat = 1 / (1 + np.exp(-z))   # shape (105,10)\n",
    "    return y_hat\n",
    "\n",
    "# 3.计算损失函数\n",
    "def loss(y, y_hat):\n",
    "    e = 1e-8\n",
    "    return - y * np.log(y_hat + e) - (1 - y) * np.log(1 - y_hat + e)\n",
    "\n",
    "# 4.计算梯度\n",
    "def calc_gradient(x,y,y_hat):\n",
    "    # 计算梯度\n",
    "    m = x.shape[0] # ??[-1]\n",
    "    # theta梯度计算\n",
    "    delta_theta = np.dot(x.T, (y_hat - y)) / m\n",
    "    # bias梯度计算\n",
    "    delta_bias = np.mean(y_hat - y)\n",
    "    # 返回梯度\n",
    "    return delta_theta, delta_bias\n",
    "\n",
    "# 5. 模型训练\n",
    "for i in range(epochs):\n",
    "    # 前向计算\n",
    "    y_hat = forward(X_train, theta, bias)\n",
    "    # 计算损失\n",
    "    loss_val = loss(y_train, y_hat)\n",
    "    # 计算梯度\n",
    "    delta_theta, delta_bias = calc_gradient(X_train, y_train, y_hat)\n",
    "    # 更新参数\n",
    "    theta = theta - lr * delta_theta\n",
    "    bias = bias - lr * delta_bias\n",
    "\n",
    "    if i % 100 == 0:\n",
    "        # 计算准确率\n",
    "        acc = np.mean(np.round(y_hat) == y_train)  # [False,True,...,False] -> [0,1,...,0]\n",
    "        print(f\"epoch: {i}, loss: {np.mean(loss_val)}, acc: {acc}\")"
   ]
  },
  {
   "cell_type": "code",
   "execution_count": 56,
   "metadata": {},
   "outputs": [
    {
     "name": "stdout",
     "output_type": "stream",
     "text": [
      "y: 1, predict: 1.0\n"
     ]
    }
   ],
   "source": [
    "# 模型推理\n",
    "idx = np.random.randint(len(X_test)) # 随机选择一个测试样本索引\n",
    "x = X_test[idx]\n",
    "y = y_test[idx]\n",
    "\n",
    "predict = np.round(forward(x.reshape(1, -1), theta, bias))  # 将 x 变为 (1, 20)\n",
    "print(f\"y: {y}, predict: {predict[0][0]}\") "
   ]
  },
  {
   "cell_type": "code",
   "execution_count": 57,
   "metadata": {},
   "outputs": [],
   "source": [
    "import joblib\n",
    "import numpy as np"
   ]
  },
  {
   "cell_type": "code",
   "execution_count": 58,
   "metadata": {},
   "outputs": [],
   "source": [
    "theta = joblib.load('theta.pkl')  # 加载 theta\n",
    "bias = joblib.load('bias.pkl')    # 加载 bias"
   ]
  },
  {
   "cell_type": "code",
   "execution_count": 59,
   "metadata": {},
   "outputs": [],
   "source": [
    "X_test = np.array([[5.1, 3.5, 1.4, 0.2],  \n",
    "                   [6.2, 2.9, 4.3, 1.3]])\n",
    "y_hat = forward(X_test, theta, bias)"
   ]
  },
  {
   "cell_type": "code",
   "execution_count": 60,
   "metadata": {},
   "outputs": [
    {
     "name": "stdout",
     "output_type": "stream",
     "text": [
      "预测结果 (类别概率)： [[0.99917476 0.97216441 0.00860482]\n",
      " [0.17068458 0.8501093  0.52404475]]\n",
      "预测类别： [0 1]\n"
     ]
    }
   ],
   "source": [
    "print(\"预测结果 (类别概率)：\", y_hat)\n",
    "print(\"预测类别：\", np.argmax(y_hat, axis=1))"
   ]
  },
  {
   "cell_type": "code",
   "execution_count": null,
   "metadata": {},
   "outputs": [],
   "source": []
  }
 ],
 "metadata": {
  "kernelspec": {
   "display_name": "py312",
   "language": "python",
   "name": "py312"
  },
  "language_info": {
   "codemirror_mode": {
    "name": "ipython",
    "version": 3
   },
   "file_extension": ".py",
   "mimetype": "text/x-python",
   "name": "python",
   "nbconvert_exporter": "python",
   "pygments_lexer": "ipython3",
   "version": "3.12.8"
  }
 },
 "nbformat": 4,
 "nbformat_minor": 2
}
