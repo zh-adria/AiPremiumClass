{
 "cells": [
  {
   "cell_type": "code",
   "execution_count": 2,
   "metadata": {},
   "outputs": [],
   "source": [
    "from sklearn.datasets import load_iris\n",
    "\n",
    "X,y = load_iris(return_X_y=True)"
   ]
  },
  {
   "cell_type": "code",
   "execution_count": 4,
   "metadata": {},
   "outputs": [
    {
     "data": {
      "text/plain": [
       "(150, 4)"
      ]
     },
     "execution_count": 4,
     "metadata": {},
     "output_type": "execute_result"
    }
   ],
   "source": [
    "X.shape"
   ]
  },
  {
   "cell_type": "code",
   "execution_count": 5,
   "metadata": {},
   "outputs": [
    {
     "data": {
      "text/plain": [
       "array([5.1, 3.5, 1.4, 0.2])"
      ]
     },
     "execution_count": 5,
     "metadata": {},
     "output_type": "execute_result"
    }
   ],
   "source": [
    "X[0]"
   ]
  },
  {
   "cell_type": "code",
   "execution_count": 6,
   "metadata": {},
   "outputs": [
    {
     "data": {
      "text/plain": [
       "array([0, 0, 0, 0, 0, 0, 0, 0, 0, 0, 0, 0, 0, 0, 0, 0, 0, 0, 0, 0, 0, 0,\n",
       "       0, 0, 0, 0, 0, 0, 0, 0, 0, 0, 0, 0, 0, 0, 0, 0, 0, 0, 0, 0, 0, 0,\n",
       "       0, 0, 0, 0, 0, 0, 1, 1, 1, 1, 1, 1, 1, 1, 1, 1, 1, 1, 1, 1, 1, 1,\n",
       "       1, 1, 1, 1, 1, 1, 1, 1, 1, 1, 1, 1, 1, 1, 1, 1, 1, 1, 1, 1, 1, 1,\n",
       "       1, 1, 1, 1, 1, 1, 1, 1, 1, 1, 1, 1, 2, 2, 2, 2, 2, 2, 2, 2, 2, 2,\n",
       "       2, 2, 2, 2, 2, 2, 2, 2, 2, 2, 2, 2, 2, 2, 2, 2, 2, 2, 2, 2, 2, 2,\n",
       "       2, 2, 2, 2, 2, 2, 2, 2, 2, 2, 2, 2, 2, 2, 2, 2, 2, 2])"
      ]
     },
     "execution_count": 6,
     "metadata": {},
     "output_type": "execute_result"
    }
   ],
   "source": [
    "y"
   ]
  },
  {
   "cell_type": "code",
   "execution_count": 23,
   "metadata": {},
   "outputs": [],
   "source": [
    "from sklearn.datasets import load_iris\n",
    "from sklearn.model_selection import train_test_split\n",
    "import joblib\n",
    "import numpy as np\n"
   ]
  },
  {
   "cell_type": "code",
   "execution_count": null,
   "metadata": {},
   "outputs": [],
   "source": [
    "# 加载数据集\n",
    "data = load_iris()\n",
    "X = data.data\n",
    "y = data.target\n",
    "\n",
    "# 数据拆分\n",
    "X_train, X_test, y_train, y_test = train_test_split(X, y, test_size=0.3, random_state=42)"
   ]
  },
  {
   "cell_type": "code",
   "execution_count": 17,
   "metadata": {},
   "outputs": [],
   "source": [
    "# 权重参数\n",
    "theta = np.random.randn(4,3)\n",
    "bias = np.zeros((1, 3)) \n",
    "# 超参数\n",
    "lr = 0.01\n",
    "epochs = 3000  # 训练次数\n"
   ]
  },
  {
   "cell_type": "code",
   "execution_count": 21,
   "metadata": {},
   "outputs": [
    {
     "name": "stdout",
     "output_type": "stream",
     "text": [
      "epoch: 0, loss: 5.12462716338135, acc: 0.3523809523809524\n",
      "epoch: 200, loss: 0.5564223840151731, acc: 0.7142857142857143\n",
      "epoch: 400, loss: 0.47297125277971297, acc: 0.8761904761904762\n",
      "epoch: 600, loss: 0.42006037439186517, acc: 0.9047619047619048\n",
      "epoch: 800, loss: 0.38073900995233934, acc: 0.9523809523809523\n",
      "epoch: 1000, loss: 0.349455041035334, acc: 0.9809523809523809\n",
      "epoch: 1200, loss: 0.3236700558995372, acc: 0.9904761904761905\n",
      "epoch: 1400, loss: 0.30195308927788983, acc: 0.9904761904761905\n",
      "epoch: 1600, loss: 0.2833831169693665, acc: 0.9904761904761905\n",
      "epoch: 1800, loss: 0.2673167013482051, acc: 0.9904761904761905\n",
      "epoch: 2000, loss: 0.25328083343023117, acc: 0.9904761904761905\n",
      "epoch: 2200, loss: 0.24091610825856088, acc: 0.9904761904761905\n",
      "epoch: 2400, loss: 0.2299431137710929, acc: 0.9904761904761905\n",
      "epoch: 2600, loss: 0.22014088658688694, acc: 0.9904761904761905\n",
      "epoch: 2800, loss: 0.21133229500813505, acc: 0.9904761904761905\n"
     ]
    }
   ],
   "source": [
    "# 2. 模型计算函数\n",
    "def forward(x, theta, bias):\n",
    "    # 线性运算\n",
    "    z = np.dot(x, theta) + bias \n",
    "    # softmax 激活函数\n",
    "    exp_z = np.exp(z - np.max(z, axis=1, keepdims=True))  # 稳定化\n",
    "    y_hat = exp_z / np.sum(exp_z, axis=1, keepdims=True)  # shape (105, 3)\n",
    "    return y_hat\n",
    "\n",
    "# 3. 计算损失函数\n",
    "def loss(y, y_hat):\n",
    "    e = 1e-7\n",
    "    return -np.sum(np.log(y_hat[np.arange(y.shape[0]), y]) + e) / y.shape[0]  # 只计算正确类别的损失\n",
    "\n",
    "# 4. 计算梯度\n",
    "def calc_gradient(x,y,y_hat):\n",
    "    # 计算梯度\n",
    "    m = x.shape[0]\n",
    "    # theta梯度计算\n",
    "    delta_theta = np.dot(x.T, (y_hat - np.eye(3)[y])) / m\n",
    "    # bias梯度计算\n",
    "    delta_bias = np.mean(y_hat - np.eye(3)[y], axis=0, keepdims=True)\n",
    "    # 返回梯度\n",
    "    return delta_theta, delta_bias\n",
    "\n",
    "# 5. 模型训练\n",
    "for i in range(epochs):\n",
    "    # 前向计算\n",
    "    y_hat = forward(X_train, theta, bias)\n",
    "    # 计算损失\n",
    "    loss_val = loss(y_train, y_hat)\n",
    "    # 计算梯度\n",
    "    delta_theta, delta_bias = calc_gradient(X_train, y_train, y_hat)\n",
    "    # 更新参数\n",
    "    theta = theta - lr * delta_theta\n",
    "    bias = bias - lr * delta_bias\n",
    "\n",
    "    if i % 200 == 0:\n",
    "        # 计算准确率\n",
    "        acc = np.mean(np.argmax(y_hat, axis=1) == y_train)  # 计算准确率\n",
    "        print(f\"epoch: {i}, loss: {loss_val}, acc: {acc}\")"
   ]
  },
  {
   "cell_type": "code",
   "execution_count": 24,
   "metadata": {},
   "outputs": [
    {
     "name": "stdout",
     "output_type": "stream",
     "text": [
      "模型参数已保存到文件\n"
     ]
    }
   ],
   "source": [
    "joblib.dump(theta, 'theta.pkl')  # 保存 theta\n",
    "joblib.dump(bias, 'bias.pkl')    # 保存 bias\n",
    "\n",
    "print(\"模型参数已保存到文件\")"
   ]
  }
 ],
 "metadata": {
  "kernelspec": {
   "display_name": "py312",
   "language": "python",
   "name": "py312"
  },
  "language_info": {
   "codemirror_mode": {
    "name": "ipython",
    "version": 3
   },
   "file_extension": ".py",
   "mimetype": "text/x-python",
   "name": "python",
   "nbconvert_exporter": "python",
   "pygments_lexer": "ipython3",
   "version": "3.12.8"
  }
 },
 "nbformat": 4,
 "nbformat_minor": 2
}
