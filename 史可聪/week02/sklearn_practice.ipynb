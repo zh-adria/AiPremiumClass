{
 "cells": [
  {
   "cell_type": "code",
   "execution_count": 9,
   "metadata": {},
   "outputs": [],
   "source": [
    "from sklearn.model_selection import train_test_split\n",
    "from sklearn.datasets import load_iris\n",
    "import numpy as np"
   ]
  },
  {
   "cell_type": "code",
   "execution_count": 10,
   "metadata": {},
   "outputs": [],
   "source": [
    "# 1、生成训练数据\n",
    "X_ori,y_ori = load_iris(return_X_y=True)\n",
    "X = X_ori[:100]  # 取前100个数据\n",
    "y = y_ori[:100]  # 取前100个标签(0,1)\n",
    "# print(X)\n",
    "# print(y)\n",
    "# 数据拆分\n",
    "# 局部样本训练模型（过拟合模型）测试预测不好\n",
    "# 新样本数据模型表现不好（泛化能力差）\n",
    "X_train, X_test, y_train, y_test = train_test_split(X,y,test_size=0.3)"
   ]
  },
  {
   "cell_type": "code",
   "execution_count": 12,
   "metadata": {},
   "outputs": [
    {
     "name": "stdout",
     "output_type": "stream",
     "text": [
      "[[-0.55066162  0.32109787 -0.21078265  0.07885826]]\n"
     ]
    }
   ],
   "source": [
    "theta = np.random.randn(1,4)\n",
    "print(theta)\n",
    "bias = 0\n",
    "# 学习率\n",
    "lr = 0.1\n",
    "# 训练轮数\n",
    "epochs = 3000"
   ]
  },
  {
   "cell_type": "code",
   "execution_count": 13,
   "metadata": {},
   "outputs": [
    {
     "name": "stdout",
     "output_type": "stream",
     "text": [
      "epoch: 0, loss: 1.5892957523758209, acc: 0.5285714285714286\n",
      "epoch: 100, loss: 0.0004998814148641961, acc: 1.0\n",
      "epoch: 200, loss: 0.00046732984338628014, acc: 1.0\n",
      "epoch: 300, loss: 0.0004389201911902023, acc: 1.0\n",
      "epoch: 400, loss: 0.0004138968770589126, acc: 1.0\n",
      "epoch: 500, loss: 0.0003916804035853248, acc: 1.0\n",
      "epoch: 600, loss: 0.00037181724271506553, acc: 1.0\n",
      "epoch: 700, loss: 0.0003539472362678281, acc: 1.0\n",
      "epoch: 800, loss: 0.00033778064915684165, acc: 1.0\n",
      "epoch: 900, loss: 0.0003230816902407136, acc: 1.0\n",
      "epoch: 1000, loss: 0.00030965646570044414, acc: 1.0\n",
      "epoch: 1100, loss: 0.00029734403115257293, acc: 1.0\n",
      "epoch: 1200, loss: 0.00028600964909263575, acc: 1.0\n",
      "epoch: 1300, loss: 0.00027553964138980384, acc: 1.0\n",
      "epoch: 1400, loss: 0.000265837412483286, acc: 1.0\n",
      "epoch: 1500, loss: 0.00025682034340615795, acc: 1.0\n",
      "epoch: 1600, loss: 0.0002484173415720505, acc: 1.0\n",
      "epoch: 1700, loss: 0.00024056688997719025, acc: 1.0\n",
      "epoch: 1800, loss: 0.00023321548073007486, acc: 1.0\n",
      "epoch: 1900, loss: 0.00022631634720786015, acc: 1.0\n",
      "epoch: 2000, loss: 0.00021982843033683326, acc: 1.0\n",
      "epoch: 2100, loss: 0.00021371552996318923, acc: 1.0\n",
      "epoch: 2200, loss: 0.00020794560369323645, acc: 1.0\n",
      "epoch: 2300, loss: 0.00020249018408740845, acc: 1.0\n",
      "epoch: 2400, loss: 0.000197323891491817, acc: 1.0\n",
      "epoch: 2500, loss: 0.00019242402464794315, acc: 1.0\n",
      "epoch: 2600, loss: 0.00018777021493996033, acc: 1.0\n",
      "epoch: 2700, loss: 0.00018334413300654894, acc: 1.0\n",
      "epoch: 2800, loss: 0.00017912923867398182, acc: 1.0\n",
      "epoch: 2900, loss: 0.00017511056691173367, acc: 1.0\n"
     ]
    }
   ],
   "source": [
    "# 2、模型计算函数\n",
    "def forward(x,theta,bias):\n",
    "    # 线性运行\n",
    "    z = np.dot(theta,x.T) + bias\n",
    "    # sigmoid\n",
    "    y_hat = 1 / ( 1 + np.exp(-z) )\n",
    "    return y_hat\n",
    "\n",
    "# 3、计算损失函数\n",
    "def loss(y,y_hat):\n",
    "    e = 1e-8\n",
    "    return - y * np.log(y_hat + e) - (1 - y) * np.log(1 - y_hat + e)\n",
    "\n",
    "# 4、计算梯度\n",
    "def calc_gradient(x,y,y_hat):\n",
    "    m = x.shape[-1]\n",
    "    # theta梯度计算\n",
    "    delta_theta = np.dot((y_hat-y),x) / m\n",
    "    # bias梯度计算\n",
    "    delta_bias = np.mean(y_hat-y)\n",
    "    # 返回梯度\n",
    "    return delta_theta,delta_bias\n",
    "\n",
    "# 5、模型训练\n",
    "for i in range(epochs):\n",
    "    # 前向计算\n",
    "    y_hat = forward(X_train,theta,bias)\n",
    "    # 计算损失\n",
    "    loss_val = loss(y_train,y_hat)\n",
    "    # 计算梯度\n",
    "    delta_theta,delta_bias = calc_gradient(X_train,y_train,y_hat)\n",
    "    # 更新参数\n",
    "    theta = theta - lr * delta_theta\n",
    "    bias = bias - lr * delta_bias\n",
    "    \n",
    "    if i % 100 == 0:\n",
    "        # 计算准确率\n",
    "        acc = np.mean(np.round(y_hat) == y_train)  # [False,True,...,False] -> [0,1,...,0]\n",
    "        print(f\"epoch: {i}, loss: {np.mean(loss_val)}, acc: {acc}\")"
   ]
  },
  {
   "cell_type": "code",
   "execution_count": 14,
   "metadata": {},
   "outputs": [],
   "source": [
    "np.save('theta.npy',theta)\n",
    "np.save('bias.npy',bias)\n"
   ]
  },
  {
   "cell_type": "code",
   "execution_count": 15,
   "metadata": {},
   "outputs": [],
   "source": [
    "theta_load = np.load('theta.npy')\n",
    "bias_load = np.load('bias.npy')"
   ]
  },
  {
   "cell_type": "code",
   "execution_count": 21,
   "metadata": {},
   "outputs": [
    {
     "name": "stdout",
     "output_type": "stream",
     "text": [
      "y: 1, predict: [1.]\n"
     ]
    }
   ],
   "source": [
    "# 模型推理\n",
    "idX = np.random.randint(len(X_test)) #随机选择一个测试样本索引\n",
    "x = X_test[idX]\n",
    "y = y_test[idX]\n",
    "y_predict = np.round(forward(x,theta_load,bias_load))\n",
    "print(f\"y: {y}, predict: {y_predict}\")"
   ]
  }
 ],
 "metadata": {
  "kernelspec": {
   "display_name": "py312",
   "language": "python",
   "name": "python3"
  },
  "language_info": {
   "codemirror_mode": {
    "name": "ipython",
    "version": 3
   },
   "file_extension": ".py",
   "mimetype": "text/x-python",
   "name": "python",
   "nbconvert_exporter": "python",
   "pygments_lexer": "ipython3",
   "version": "3.12.8"
  }
 },
 "nbformat": 4,
 "nbformat_minor": 2
}
