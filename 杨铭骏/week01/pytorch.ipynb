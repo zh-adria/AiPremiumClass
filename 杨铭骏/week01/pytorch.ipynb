{
 "cells": [
  {
   "cell_type": "markdown",
   "metadata": {},
   "source": [
    "# Pytorch基础"
   ]
  },
  {
   "cell_type": "code",
   "execution_count": 8,
   "metadata": {},
   "outputs": [],
   "source": [
    "import torch\n",
    "import numpy as np"
   ]
  },
  {
   "cell_type": "code",
   "execution_count": 9,
   "metadata": {},
   "outputs": [
    {
     "data": {
      "text/plain": [
       "tensor([[1., 2.],\n",
       "        [3., 4.]])"
      ]
     },
     "execution_count": 9,
     "metadata": {},
     "output_type": "execute_result"
    }
   ],
   "source": [
    "# 创建一个张量\n",
    "data1 = torch.tensor([[1,2],[3,4]], dtype=torch.float32)\n",
    "data1"
   ]
  },
  {
   "cell_type": "code",
   "execution_count": 10,
   "metadata": {},
   "outputs": [
    {
     "data": {
      "text/plain": [
       "tensor([[1, 2],\n",
       "        [3, 4]])"
      ]
     },
     "execution_count": 10,
     "metadata": {},
     "output_type": "execute_result"
    }
   ],
   "source": [
    "# 从numpy数组创建张量\n",
    "np_array = np.array([[1,2],[3,4]])\n",
    "data2 = torch.from_numpy(np_array)\n",
    "data2"
   ]
  },
  {
   "cell_type": "code",
   "execution_count": 11,
   "metadata": {},
   "outputs": [
    {
     "data": {
      "text/plain": [
       "tensor([[0.9252, 0.2815],\n",
       "        [0.3670, 0.9314]])"
      ]
     },
     "execution_count": 11,
     "metadata": {},
     "output_type": "execute_result"
    }
   ],
   "source": [
    "# 通过已知张量维度，创建新张量\n",
    "data3 = torch.rand_like(data2, dtype=torch.float)\n",
    "data3"
   ]
  },
  {
   "cell_type": "code",
   "execution_count": 12,
   "metadata": {},
   "outputs": [
    {
     "name": "stdout",
     "output_type": "stream",
     "text": [
      "Random Tensor: \n",
      " tensor([[0.2136, 0.2072, 0.2871],\n",
      "        [0.8560, 0.9568, 0.4280],\n",
      "        [0.8340, 0.8338, 0.0628]]) \n",
      "\n",
      "Ones Tensor: \n",
      " tensor([[1., 1., 1.],\n",
      "        [1., 1., 1.],\n",
      "        [1., 1., 1.]]) \n",
      "\n",
      "Zeros Tensor: \n",
      " tensor([[0., 0., 0.],\n",
      "        [0., 0., 0.],\n",
      "        [0., 0., 0.]])\n"
     ]
    }
   ],
   "source": [
    "shape = (3,3,)\n",
    "rand_tensor = torch.rand(shape)\n",
    "ones_tensor = torch.ones(shape)\n",
    "zeros_tensor = torch.zeros(shape)\n",
    "\n",
    "print(f\"Random Tensor: \\n {rand_tensor} \\n\")\n",
    "print(f\"Ones Tensor: \\n {ones_tensor} \\n\")\n",
    "print(f\"Zeros Tensor: \\n {zeros_tensor}\")"
   ]
  },
  {
   "cell_type": "code",
   "execution_count": 13,
   "metadata": {},
   "outputs": [
    {
     "name": "stdout",
     "output_type": "stream",
     "text": [
      "tensor([[0.0352, 0.3934, 0.3923, 0.5550, 0.2124],\n",
      "        [0.9065, 0.7071, 0.5158, 0.9739, 0.5010],\n",
      "        [0.0853, 0.4120, 0.4001, 0.6752, 0.3649],\n",
      "        [0.9802, 0.8112, 0.3816, 0.6474, 0.1025],\n",
      "        [0.8980, 0.9765, 0.4340, 0.2368, 0.0879]])\n",
      "tensor([[-0.2335,  0.1012, -1.3499, -0.8471,  0.8577],\n",
      "        [ 1.6731,  0.3031,  1.5962, -0.5222,  1.2655],\n",
      "        [ 1.2836,  0.5488, -0.2060,  0.1947,  0.4861],\n",
      "        [ 1.8964, -0.7889,  0.0843,  1.0398,  1.9656],\n",
      "        [-0.4985, -0.5802, -0.5190, -0.7904, -0.7036]])\n",
      "tensor([[ 0.3579, -1.2843,  0.4581,  1.2185, -0.3994],\n",
      "        [ 0.6997, -0.1102,  1.9063, -0.5577,  0.7814],\n",
      "        [-0.5750, -1.2827, -0.7207,  0.3613, -0.5178],\n",
      "        [-0.7206,  0.7436, -1.5946, -1.0283,  1.1820],\n",
      "        [ 0.1963,  0.9606, -1.1715,  1.1568,  1.1359]])\n",
      "tensor([ 1.0000,  1.4500,  1.9000,  2.3500,  2.8000,  3.2500,  3.7000,  4.1500,\n",
      "         4.6000,  5.0500,  5.5000,  5.9500,  6.4000,  6.8500,  7.3000,  7.7500,\n",
      "         8.2000,  8.6500,  9.1000,  9.5500, 10.0000])\n"
     ]
    }
   ],
   "source": [
    "# 均匀分布\n",
    "print(torch.rand(5,5))\n",
    "# 标准正态分布\n",
    "print(torch.randn(5,5))\n",
    "# 离散正态分布\n",
    "print(torch.normal(mean=.0,std=1.0,size=(5,5)))\n",
    "# 线性间隔向量(返回一个1维张量，包含在区间start和end上均匀间隔的steps个点)\n",
    "print(torch.linspace(start=1,end=10,steps=21))"
   ]
  },
  {
   "cell_type": "markdown",
   "metadata": {},
   "source": [
    "## 基础属性"
   ]
  },
  {
   "cell_type": "code",
   "execution_count": 14,
   "metadata": {},
   "outputs": [
    {
     "name": "stdout",
     "output_type": "stream",
     "text": [
      "Shape of tensor: torch.Size([3, 4])\n",
      "Datatype of tensor: torch.float32\n",
      "Device tensor is stored on: cpu\n"
     ]
    }
   ],
   "source": [
    "data4 = torch.rand(3,4)\n",
    "\n",
    "print(f\"Shape of tensor: {data4.shape}\")\n",
    "print(f\"Datatype of tensor: {data4.dtype}\")\n",
    "print(f\"Device tensor is stored on: {data4.device}\")"
   ]
  },
  {
   "cell_type": "code",
   "execution_count": 16,
   "metadata": {},
   "outputs": [
    {
     "name": "stdout",
     "output_type": "stream",
     "text": [
      "tensor([[0.5697, 0.6192, 0.1862, 0.1846],\n",
      "        [0.5973, 0.0060, 0.1910, 0.9932],\n",
      "        [0.6179, 0.8712, 0.1394, 0.4435],\n",
      "        [0.8921, 0.9741, 0.9179, 0.7546]])\n",
      "cpu\n",
      "tensor([[0.5697, 0.6192, 0.1862, 0.1846],\n",
      "        [0.5973, 0.0060, 0.1910, 0.9932],\n",
      "        [0.6179, 0.8712, 0.1394, 0.4435],\n",
      "        [0.8921, 0.9741, 0.9179, 0.7546]], device='mps:0')\n",
      "mps:0\n"
     ]
    }
   ],
   "source": [
    "data5 = torch.rand(4,4)\n",
    "# 检查pytorch是否支持GPU\n",
    "if torch.cuda.is_available():\n",
    "    device = torch.device(\"cuda\")\n",
    "    tensor = data5.to(device)\n",
    "\n",
    "print(data5)\n",
    "print(data5.device)\n",
    "\n",
    "# mac上没有GPU，使用M系列芯片\n",
    "if torch.backends.mps.is_available():\n",
    "    device = torch.device(\"mps\")\n",
    "    data5 = data5.to(device)\n",
    "\n",
    "print(data5)\n",
    "print(data5.device)"
   ]
  },
  {
   "cell_type": "code",
   "execution_count": 17,
   "metadata": {},
   "outputs": [
    {
     "name": "stdout",
     "output_type": "stream",
     "text": [
      "First row:  tensor([1., 1., 1., 1.])\n",
      "First column:  tensor([1., 1., 1., 1.])\n",
      "Last column: tensor([1., 1., 1., 1.])\n",
      "tensor([[1., 0., 1., 1.],\n",
      "        [1., 0., 1., 1.],\n",
      "        [1., 0., 1., 1.],\n",
      "        [1., 0., 1., 1.]])\n"
     ]
    }
   ],
   "source": [
    "# 切片\n",
    "data6 = torch.ones(4, 4)\n",
    "print('First row: ', data6[0])\n",
    "print('First column: ', data6[:, 0])\n",
    "print('Last column:', data6[..., -1])\n",
    "data6[:,1] = 0\n",
    "print(data6)"
   ]
  },
  {
   "cell_type": "code",
   "execution_count": 18,
   "metadata": {},
   "outputs": [
    {
     "data": {
      "text/plain": [
       "tensor([[1., 1., 1., 1.],\n",
       "        [1., 1., 1., 1.]])"
      ]
     },
     "execution_count": 18,
     "metadata": {},
     "output_type": "execute_result"
    }
   ],
   "source": [
    "# 拼接\n",
    "data7 = torch.ones(2, 2)\n",
    "data8 = torch.cat([data7, data7], dim=1)\n",
    "data8"
   ]
  },
  {
   "cell_type": "code",
   "execution_count": 20,
   "metadata": {},
   "outputs": [
    {
     "name": "stdout",
     "output_type": "stream",
     "text": [
      "tensor([[50., 50.],\n",
      "        [50., 50.]])\n",
      "tensor([[50., 50.],\n",
      "        [50., 50.]])\n",
      "tensor([[40., 40.],\n",
      "        [40., 40.]])\n",
      "tensor([[25., 25.],\n",
      "        [25., 25.]])\n",
      "tensor([[25., 25.],\n",
      "        [25., 25.]])\n",
      "tensor([[20., 20.],\n",
      "        [20., 20.]])\n"
     ]
    }
   ],
   "source": [
    "# 矩阵乘法\n",
    "data9 = torch.ones(2, 2) * 5\n",
    "data10 = torch.ones(2, 2) * 4\n",
    "\n",
    "y1 = data9 @ data9.T\n",
    "y2 = data9.matmul(data9.T)\n",
    "\n",
    "y3 = torch.rand_like(data9)\n",
    "torch.matmul(data9, data10.T, out=y3)\n",
    "\n",
    "print(y1, y2, y3, sep='\\n')\n",
    "\n",
    "z1 = data9 * data9\n",
    "z2 = data9.mul(data9)\n",
    "\n",
    "z3 = torch.rand_like(data9)\n",
    "torch.mul(data9, data10, out=z3)\n",
    "\n",
    "print(z1, z2, z3, sep='\\n')"
   ]
  }
 ],
 "metadata": {
  "kernelspec": {
   "display_name": "3.12.4",
   "language": "python",
   "name": "python3"
  },
  "language_info": {
   "codemirror_mode": {
    "name": "ipython",
    "version": 3
   },
   "file_extension": ".py",
   "mimetype": "text/x-python",
   "name": "python",
   "nbconvert_exporter": "python",
   "pygments_lexer": "ipython3",
   "version": "3.12.4"
  }
 },
 "nbformat": 4,
 "nbformat_minor": 2
}
