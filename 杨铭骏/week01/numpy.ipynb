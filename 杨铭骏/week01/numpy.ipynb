{
 "cells": [
  {
   "cell_type": "markdown",
   "metadata": {},
   "source": [
    "# Numpy"
   ]
  },
  {
   "cell_type": "markdown",
   "metadata": {},
   "source": [
    "## 基础用法"
   ]
  },
  {
   "cell_type": "code",
   "execution_count": 2,
   "metadata": {},
   "outputs": [],
   "source": [
    "import numpy as np"
   ]
  },
  {
   "cell_type": "code",
   "execution_count": 3,
   "metadata": {},
   "outputs": [
    {
     "name": "stdout",
     "output_type": "stream",
     "text": [
      "[[1 2 3]\n",
      " [4 5 6]\n",
      " [7 8 9]]\n",
      "[[1. 2. 3.]\n",
      " [4. 5. 6.]\n",
      " [7. 8. 9.]]\n"
     ]
    }
   ],
   "source": [
    "# 创建一个3x3的二维数组\n",
    "arr = np.array([(1,2,3), (4,5,6), (7,8,9)])\n",
    "print(arr)\n",
    "# 指定类型创建\n",
    "arr2 = np.array([(1,2,3), (4,5,6), (7,8,9)], float)\n",
    "print(arr2)"
   ]
  },
  {
   "cell_type": "code",
   "execution_count": 4,
   "metadata": {},
   "outputs": [
    {
     "name": "stdout",
     "output_type": "stream",
     "text": [
      "[[0. 0. 0.]\n",
      " [0. 0. 0.]\n",
      " [0. 0. 0.]]\n",
      "[1 2 3 4 5 6 7 8 9]\n",
      "[[1. 0. 0. 0.]\n",
      " [0. 1. 0. 0.]\n",
      " [0. 0. 1. 0.]\n",
      " [0. 0. 0. 1.]]\n",
      "[0.74578759 0.65006546 0.09357573 0.74688478 0.80706604]\n",
      "[-0.98437785 -1.43146219 -0.63437583 -1.07282624 -0.8655184   1.14521827\n",
      " -0.95052033  0.30392552 -2.1848777   0.60668895]\n"
     ]
    }
   ],
   "source": [
    "# 创建都是0的数组\n",
    "arr3 = np.zeros((3,3), dtype=np.float32)\n",
    "print(arr3)\n",
    "# 根据 start end step 创建数组\n",
    "arr4 = np.arange(1, 10, 1)\n",
    "print(arr4)\n",
    "# 创建对角矩阵\n",
    "arr5 = np.eye(4)\n",
    "print(arr5)\n",
    "# 创建随机数组\n",
    "arr6 = np.random.random(5) \n",
    "print(arr6)\n",
    "# 创建正态分布的随机数组\n",
    "arr7 = np.random.normal(0, 1, 10)\n",
    "print(arr7)"
   ]
  },
  {
   "cell_type": "code",
   "execution_count": 5,
   "metadata": {},
   "outputs": [
    {
     "name": "stdout",
     "output_type": "stream",
     "text": [
      "ndim: 2\n",
      "shape: (3, 3)\n",
      "size 9\n",
      "dtype float32\n"
     ]
    }
   ],
   "source": [
    "# 基础属性\n",
    "arr8 = np.array([(1,2,3), (4,5,6), (7,8,9)], dtype=np.float32)\n",
    "print(\"ndim:\", arr8.ndim)\n",
    "print(\"shape:\", arr8.shape)\n",
    "print(\"size\", arr8.size)\n",
    "print(\"dtype\", arr8.dtype)"
   ]
  },
  {
   "cell_type": "code",
   "execution_count": 6,
   "metadata": {},
   "outputs": [
    {
     "name": "stdout",
     "output_type": "stream",
     "text": [
      "[[1. 2. 3.]\n",
      " [4. 5. 6.]\n",
      " [7. 8. 9.]]\n",
      "[[1. 4. 7.]\n",
      " [2. 5. 8.]\n",
      " [3. 6. 9.]]\n"
     ]
    }
   ],
   "source": [
    "arr9 = np.array([(1,2,3), (4,5,6), (7,8,9)], dtype=np.float32)\n",
    "print(arr9)\n",
    "# 转置\n",
    "print(arr9.T)"
   ]
  },
  {
   "cell_type": "markdown",
   "metadata": {},
   "source": [
    "## 计算"
   ]
  },
  {
   "cell_type": "code",
   "execution_count": 7,
   "metadata": {},
   "outputs": [
    {
     "name": "stdout",
     "output_type": "stream",
     "text": [
      "[[1. 2. 3.]\n",
      " [4. 5. 6.]\n",
      " [7. 8. 9.]]\n",
      "45.0\n",
      "362880.0\n",
      "5.0\n",
      "6.6666665\n",
      "2.5819888\n",
      "1.0\n",
      "9.0\n",
      "0\n",
      "8\n",
      "[[1. 2. 3.]\n",
      " [4. 5. 6.]\n",
      " [7. 8. 9.]]\n",
      "[[1. 2. 3.]\n",
      " [4. 5. 6.]\n",
      " [7. 8. 9.]]\n",
      "[[1. 2. 3.]\n",
      " [4. 5. 6.]\n",
      " [7. 8. 9.]]\n"
     ]
    }
   ],
   "source": [
    "arr10 = np.array([(1,2,3), (4,5,6), (7,8,9)], dtype=np.float32)\n",
    "print(arr10)\n",
    "print(arr10.sum())\n",
    "print(arr10.prod())\n",
    "print(arr10.mean())\n",
    "print(arr10.var())\n",
    "print(arr10.std())\n",
    "print(arr10.min())\n",
    "print(arr10.max())\n",
    "print(arr10.argmin())\n",
    "print(arr10.argmax())\n",
    "print(np.ceil(arr10))\n",
    "print(np.floor(arr10))\n",
    "print(np.rint(arr10))"
   ]
  },
  {
   "cell_type": "code",
   "execution_count": 9,
   "metadata": {},
   "outputs": [
    {
     "name": "stdout",
     "output_type": "stream",
     "text": [
      "[[ 2.  4.  6.]\n",
      " [ 8. 10. 12.]\n",
      " [14. 16. 18.]]\n",
      "[[0. 0. 0.]\n",
      " [0. 0. 0.]\n",
      " [0. 0. 0.]]\n",
      "[[ 30.  36.  42.]\n",
      " [ 66.  81.  96.]\n",
      " [102. 126. 150.]]\n",
      "[[ 30.  36.  42.]\n",
      " [ 66.  81.  96.]\n",
      " [102. 126. 150.]]\n"
     ]
    }
   ],
   "source": [
    "# 矩阵运算\n",
    "arr11 = np.array([(1,2,3), (4,5,6), (7,8,9)], dtype=np.float32)\n",
    "arr12 = np.array([(1,2,3), (4,5,6), (7,8,9)], dtype=np.float32)\n",
    "print(arr11 + arr12)\n",
    "print(arr11 - arr12)\n",
    "print(arr11 @ arr12)\n",
    "print(np.dot(arr11, arr12))"
   ]
  }
 ],
 "metadata": {
  "kernelspec": {
   "display_name": "3.12.4",
   "language": "python",
   "name": "python3"
  },
  "language_info": {
   "codemirror_mode": {
    "name": "ipython",
    "version": 3
   },
   "file_extension": ".py",
   "mimetype": "text/x-python",
   "name": "python",
   "nbconvert_exporter": "python",
   "pygments_lexer": "ipython3",
   "version": "3.12.4"
  }
 },
 "nbformat": 4,
 "nbformat_minor": 2
}
