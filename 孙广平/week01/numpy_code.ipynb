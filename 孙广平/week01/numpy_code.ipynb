{
 "cells": [
  {
   "cell_type": "code",
   "execution_count": 2,
   "metadata": {},
   "outputs": [],
   "source": [
    "import numpy as np"
   ]
  },
  {
   "cell_type": "code",
   "execution_count": 3,
   "metadata": {},
   "outputs": [
    {
     "data": {
      "text/plain": [
       "array([1., 2., 3., 4., 5., 6.])"
      ]
     },
     "execution_count": 3,
     "metadata": {},
     "output_type": "execute_result"
    }
   ],
   "source": [
    "#创建ndarray数组\n",
    "arr = np.array([1,2,3,4,5,6],float)\n",
    "arr"
   ]
  },
  {
   "cell_type": "code",
   "execution_count": 4,
   "metadata": {},
   "outputs": [
    {
     "data": {
      "text/plain": [
       "array([[1, 2, 3],\n",
       "       [4, 5, 6],\n",
       "       [7, 8, 9]])"
      ]
     },
     "execution_count": 4,
     "metadata": {},
     "output_type": "execute_result"
    }
   ],
   "source": [
    "a = np.array([(1,2,3),(4,5,6),(7,8,9)])\n",
    "a"
   ]
  },
  {
   "cell_type": "code",
   "execution_count": 5,
   "metadata": {},
   "outputs": [
    {
     "data": {
      "text/plain": [
       "array([[0., 0., 0.],\n",
       "       [0., 0., 0.],\n",
       "       [0., 0., 0.]], dtype=float32)"
      ]
     },
     "execution_count": 5,
     "metadata": {},
     "output_type": "execute_result"
    }
   ],
   "source": [
    "a1 = np.zeros((3,3),dtype=np.float32)\n",
    "a1"
   ]
  },
  {
   "cell_type": "code",
   "execution_count": 6,
   "metadata": {},
   "outputs": [
    {
     "data": {
      "text/plain": [
       "array([1. , 1.5, 2. , 2.5, 3. , 3.5, 4. , 4.5, 5. , 5.5, 6. , 6.5, 7. ,\n",
       "       7.5, 8. , 8.5, 9. , 9.5])"
      ]
     },
     "execution_count": 6,
     "metadata": {},
     "output_type": "execute_result"
    }
   ],
   "source": [
    "a2 = np.arange(1,10,0.5)\n",
    "a2"
   ]
  },
  {
   "cell_type": "code",
   "execution_count": 7,
   "metadata": {},
   "outputs": [
    {
     "data": {
      "text/plain": [
       "array([[1., 0., 0.],\n",
       "       [0., 1., 0.],\n",
       "       [0., 0., 1.]])"
      ]
     },
     "execution_count": 7,
     "metadata": {},
     "output_type": "execute_result"
    }
   ],
   "source": [
    "#创建单位矩阵,可用于one-hot编码\n",
    "a3 = np.eye(3)\n",
    "a3"
   ]
  },
  {
   "cell_type": "code",
   "execution_count": 8,
   "metadata": {},
   "outputs": [
    {
     "data": {
      "text/plain": [
       "array([0.85483852, 0.33793429, 0.54296314, 0.04190963, 0.79761626,\n",
       "       0.58793977])"
      ]
     },
     "execution_count": 8,
     "metadata": {},
     "output_type": "execute_result"
    }
   ],
   "source": [
    "#创建随机数组，范围[0,1)，可用于模型参数初始值\n",
    "a4 = np.random.random(6)\n",
    "a4"
   ]
  },
  {
   "cell_type": "code",
   "execution_count": 9,
   "metadata": {},
   "outputs": [
    {
     "data": {
      "text/plain": [
       "array([ 1.81487529, -0.3185515 ,  1.3752987 ,  0.6300502 , -0.26661127,\n",
       "        0.39531429])"
      ]
     },
     "execution_count": 9,
     "metadata": {},
     "output_type": "execute_result"
    }
   ],
   "source": [
    "#创建随机数组，服从正态分布,也可用于模型参数初始值\n",
    "a5 = np.random.normal(0,1,6)\n",
    "a5"
   ]
  },
  {
   "cell_type": "code",
   "execution_count": 10,
   "metadata": {},
   "outputs": [
    {
     "name": "stdout",
     "output_type": "stream",
     "text": [
      "[[1 2]\n",
      " [3 4]\n",
      " [5 6]]\n",
      "[1 3 5]\n"
     ]
    }
   ],
   "source": [
    "a6 = np.array([(1,2),(3,4),(5,6)])\n",
    "print(a6)\n",
    "print(a6[:,0])\n",
    "# print(a6[1:])\n",
    "# print(a6[1,:])\n",
    "# print(a6[1,1])"
   ]
  },
  {
   "cell_type": "code",
   "execution_count": 11,
   "metadata": {},
   "outputs": [
    {
     "name": "stdout",
     "output_type": "stream",
     "text": [
      "1 2\n",
      "3 4\n",
      "5 6\n"
     ]
    }
   ],
   "source": [
    "a7 = np.array([(1,2),(3,4),(5,6)])\n",
    "\n",
    "# i,j = a7[0]\n",
    "# print(i,j)\n",
    "\n",
    "for i,j in a7:\n",
    "    print(i,j)"
   ]
  },
  {
   "cell_type": "code",
   "execution_count": 12,
   "metadata": {},
   "outputs": [
    {
     "name": "stdout",
     "output_type": "stream",
     "text": [
      "ndim: 2\n",
      "shape: (3, 3)\n",
      "size: 9\n",
      "dtype: int32\n",
      "itemsize: 4\n"
     ]
    }
   ],
   "source": [
    "a8 = np.array([(1,2,3),(4,5,6),(6,7,8)])\n",
    "print(\"ndim:\",a8.ndim)          #维度\n",
    "print(\"shape:\",a8.shape)        #形状\n",
    "print(\"size:\",a8.size)          #元素个数\n",
    "print(\"dtype:\",a8.dtype)        #元素类型\n",
    "print(\"itemsize:\",a8.itemsize)  #元素字节大小\n"
   ]
  },
  {
   "cell_type": "code",
   "execution_count": 13,
   "metadata": {},
   "outputs": [
    {
     "name": "stdout",
     "output_type": "stream",
     "text": [
      "True\n",
      "True\n"
     ]
    }
   ],
   "source": [
    "print((1,2,3) in a8)\n",
    "print(1 in a8)\n",
    "# print((1,2) in a8)    #报错"
   ]
  },
  {
   "cell_type": "code",
   "execution_count": 14,
   "metadata": {},
   "outputs": [
    {
     "name": "stdout",
     "output_type": "stream",
     "text": [
      "[1 2 3 4 5 6 7 8 9]\n",
      "(9,)\n",
      "[[1 2 3]\n",
      " [4 5 6]\n",
      " [7 8 9]]\n",
      "(3, 3)\n"
     ]
    }
   ],
   "source": [
    "a9 = np.arange(1,10,1)\n",
    "print(a9)\n",
    "print(a9.shape)\n",
    "\n",
    "a9 = a9.reshape(3,3)  #改变形状,数据元素个数要一致\n",
    "print(a9)\n",
    "print(a9.shape)\n",
    "\n",
    "\n",
    "# 高维矩阵，每个维度有具体含义\n",
    "# 加载图片数据  img.shape [1,3,120,120] 1表示图片数量，3表示RGB通道，120表示宽，120表示高"
   ]
  },
  {
   "cell_type": "code",
   "execution_count": 15,
   "metadata": {},
   "outputs": [
    {
     "name": "stdout",
     "output_type": "stream",
     "text": [
      "[[1 2 3]\n",
      " [4 5 6]\n",
      " [7 8 9]]\n",
      "[[1 4 7]\n",
      " [2 5 8]\n",
      " [3 6 9]]\n"
     ]
    }
   ],
   "source": [
    "print(a)\n",
    "a = a.T    #转置，也可以使用a.transpose()\n",
    "print(a)"
   ]
  },
  {
   "cell_type": "code",
   "execution_count": 16,
   "metadata": {},
   "outputs": [
    {
     "name": "stdout",
     "output_type": "stream",
     "text": [
      "[1 4 7 2 5 8 3 6 9]\n"
     ]
    }
   ],
   "source": [
    "a = a.flatten()  #降维\n",
    "print(a)"
   ]
  },
  {
   "cell_type": "code",
   "execution_count": 17,
   "metadata": {},
   "outputs": [
    {
     "name": "stdout",
     "output_type": "stream",
     "text": [
      "[[[1]\n",
      "  [2]]\n",
      "\n",
      " [[3]\n",
      "  [4]]\n",
      "\n",
      " [[5]\n",
      "  [6]]]\n",
      "(3, 2, 1)\n"
     ]
    }
   ],
   "source": [
    "a6 = np.array([(1,2),(3,4),(5,6)])\n",
    "a6 = a6[:,:,np.newaxis]  #增加维度\n",
    "print(a6)\n",
    "print(a6.shape)"
   ]
  },
  {
   "cell_type": "code",
   "execution_count": 18,
   "metadata": {},
   "outputs": [
    {
     "name": "stdout",
     "output_type": "stream",
     "text": [
      "[[1. 1. 1.]\n",
      " [1. 1. 1.]]\n",
      "[[1 2 3]\n",
      " [4 5 6]]\n",
      "\n",
      "[[2. 3. 4.]\n",
      " [5. 6. 7.]]\n",
      "\n"
     ]
    }
   ],
   "source": [
    "a10 = np.ones((2,3))\n",
    "b = np.array([(1,2,3),(4,5,6)])\n",
    "print(a10)\n",
    "print(b)\n",
    "print()\n",
    "\n",
    "print(a10+b)  #对应元素相加\n",
    "print()\n",
    "\n",
    "# print(a10-b)\n",
    "# print()\n",
    "\n",
    "# print(a10*b)\n",
    "# print()\n",
    "\n",
    "# print(a10/b)\n",
    "# print()\n"
   ]
  },
  {
   "cell_type": "code",
   "execution_count": 19,
   "metadata": {},
   "outputs": [
    {
     "name": "stdout",
     "output_type": "stream",
     "text": [
      "6.0\n",
      "[2. 2. 2.]\n",
      "[3. 3.]\n",
      "-----------------\n",
      "1.0\n",
      "[1. 1. 1.]\n",
      "[1. 1.]\n",
      "-----------------\n",
      "1.0\n",
      "-----------------\n"
     ]
    }
   ],
   "source": [
    "print(a10.sum())   #所有元素求和\n",
    "print(a10.sum(axis=0))   #列求和\n",
    "print(a10.sum(axis=1))   #行求和\n",
    "print(\"-----------------\")\n",
    "\n",
    "print(a10.max())   #所有元素最大值  \n",
    "print(a10.max(axis=0))   #列最大值\n",
    "print(a10.max(axis=1))   #行最大值\n",
    "print(\"-----------------\")\n",
    "\n",
    "print(a10.prod())  #所有元素乘积\n",
    "print(\"-----------------\")\n",
    "\n"
   ]
  },
  {
   "cell_type": "code",
   "execution_count": 20,
   "metadata": {},
   "outputs": [
    {
     "name": "stdout",
     "output_type": "stream",
     "text": [
      "mean: 3.9499999999999997\n",
      "var: 3.5291666666666672\n",
      "std: 1.8786076404259264\n",
      "median: 3.95\n",
      "argmax: 5\n",
      "argmin: 0\n",
      "ceil: [2. 3. 4. 5. 6. 7.]\n",
      "floor: [1. 2. 3. 4. 5. 6.]\n",
      "rint: [1. 2. 3. 4. 6. 7.]\n"
     ]
    }
   ],
   "source": [
    "a11 = np.array([1.2,2.3,3.4,4.5,5.6,6.7])\n",
    "print(\"mean:\",a11.mean())  #平均值\n",
    "print(\"var:\",a11.var())    #方差\n",
    "print(\"std:\",a11.std())    #标准差\n",
    "print(\"median:\",np.median(a11))  #中位数\n",
    "\n",
    "print(\"argmax:\",a11.argmax())  #最大值索引\n",
    "print(\"argmin:\",a11.argmin())  #最小值索引\n",
    "\n",
    "print(\"ceil:\",np.ceil(a11))    #向上取整\n",
    "print(\"floor:\",np.floor(a11))  #向下取整\n",
    "print(\"rint:\",np.rint(a11))    #四舍五入,round,around,rint等价"
   ]
  },
  {
   "cell_type": "code",
   "execution_count": 21,
   "metadata": {},
   "outputs": [
    {
     "name": "stdout",
     "output_type": "stream",
     "text": [
      "[ 2  7 16 32 40 55 62]\n",
      "[ 2  7 16 32 40 55 62]\n",
      "[62 55 40 32 16  7  2]\n"
     ]
    }
   ],
   "source": [
    "a12 =  np.array([16,32,55,7,2,62,40])\n",
    "a12.sort()  #排序,默认升序,默认是快速排序\n",
    "print(a12)\n",
    "\n",
    "a12.sort(kind='heapsort')  #堆排序\n",
    "print(a12)\n",
    "\n",
    "a12[::-1].sort()   #降序\n",
    "print(a12)"
   ]
  },
  {
   "cell_type": "code",
   "execution_count": 22,
   "metadata": {},
   "outputs": [
    {
     "data": {
      "text/plain": [
       "array([[ 7, 16, 27],\n",
       "       [40, 55, 72]])"
      ]
     },
     "execution_count": 22,
     "metadata": {},
     "output_type": "execute_result"
    }
   ],
   "source": [
    "a1 = np.array([[1,2,3],[4,5,6]])\n",
    "b1 = np.array([[7,8,9],[10,11,12]])\n",
    "\n",
    "a1 * b1"
   ]
  },
  {
   "cell_type": "code",
   "execution_count": null,
   "metadata": {},
   "outputs": [
    {
     "name": "stdout",
     "output_type": "stream",
     "text": [
      "矩阵1：\n",
      " [[1. 2.]\n",
      " [3. 4.]]\n",
      "矩阵2：\n",
      " [[5. 6.]\n",
      " [7. 8.]]\n",
      "使用dot函数计算的结果：\n",
      " [[19. 22.]\n",
      " [43. 50.]]\n",
      "使用@符号计算的结果：\n",
      " [[19. 22.]\n",
      " [43. 50.]]\n",
      "结果矩阵[1,1]:19.0\n",
      "\n",
      "结果矩阵[1,2]:22.0\n",
      "\n",
      "结果矩阵[2,1]:43.0\n",
      "\n",
      "结果矩阵[2,2]:50.0\n",
      "\n",
      "手动计算的结果：\n",
      " [[19. 22.]\n",
      " [43. 50.]]\n"
     ]
    }
   ],
   "source": [
    "# 定义两个矩阵\n",
    "from numpy import dtype\n",
    "\n",
    "\n",
    "m = np.array([[1,2],[3,4]],dtype = np.float32)\n",
    "n = np.array([[5,6],[7,8]],dtype = np.float32)\n",
    "\n",
    "'''--- A (..., m, n)的最后一个维度（倒数第一维 n）必须等于 B(..., n, p) 的倒数第二维（n）---'''\n",
    "# 使用dot函数计算两个矩阵的乘积\n",
    "result_dot = np.dot(m,n)            \n",
    "\n",
    "# 使用@符号计算两个矩阵的乘积\n",
    "result_at = m @ n\n",
    "\n",
    "print(\"矩阵1：\\n\",m)\n",
    "print(\"矩阵2：\\n\",n)\n",
    "print(\"使用dot函数计算的结果：\\n\",result_dot)\n",
    "print(\"使用@符号计算的结果：\\n\",result_at)\n",
    "\n",
    "# 创建一个全零矩阵，用于存放结果\n",
    "# 结果矩阵的行数等于矩阵m的行数，列数等于矩阵n的列数\n",
    "manual_result = np.zeros((m.shape[0],n.shape[1]),dtype = np.float32)\n",
    "\n",
    "# 外层循环遍历m的行\n",
    "# i表示结果矩阵的行索引\n",
    "for i in range(m.shape[0]):\n",
    "    # 中层循环遍历n的列\n",
    "    # j表示结果矩阵的列索引\n",
    "    for j in range(n.shape[1]):\n",
    "        # 初始化结果矩阵的元素为0\n",
    "        manual_result[i,j] = 0\n",
    "        # 内层循环：计算矩阵m的第i行和矩阵n的第j列对应元素的乘积之和\n",
    "        # k表示矩阵m的列索引，也是矩阵n的行索引\n",
    "        for k in range(m.shape[1]):\n",
    "            manual_result[i,j] += m[i,k] * n[k,j]\n",
    "        # 打印每次计算的结果\n",
    "        print(f\"结果矩阵[{i+1},{j+1}]:{manual_result[i,j]}\\n\")\n",
    "\n",
    "print(\"手动计算的结果：\\n\",manual_result)\n",
    "\n"
   ]
  },
  {
   "cell_type": "code",
   "execution_count": 28,
   "metadata": {},
   "outputs": [
    {
     "name": "stdout",
     "output_type": "stream",
     "text": [
      "特征值： [-0.37228132  5.37228132]\n",
      "特征向量： [[-0.82456484 -0.41597356]\n",
      " [ 0.56576746 -0.90937671]]\n",
      "--------------------\n",
      "逆矩阵：\n",
      " [[-2.   1. ]\n",
      " [ 1.5 -0.5]]\n",
      "--------------------\n",
      "Q矩阵：\n",
      " [[-0.31622777 -0.9486833 ]\n",
      " [-0.9486833   0.31622777]]\n",
      "R矩阵：\n",
      " [[-3.16227766 -4.42718872]\n",
      " [ 0.         -0.63245553]]\n",
      "--------------------\n",
      "U矩阵：\n",
      " [[-0.40455358 -0.9145143 ]\n",
      " [-0.9145143   0.40455358]]\n",
      "S矩阵：\n",
      " [5.4649857  0.36596619]\n",
      "V矩阵：\n",
      " [[-0.57604844 -0.81741556]\n",
      " [ 0.81741556 -0.57604844]]\n",
      "--------------------\n",
      "方程组的解： [-3.  4.]\n",
      "--------------------\n",
      "最小二乘解： (array([-3.,  4.]), array([], dtype=float64), 2, array([5.4649857 , 0.36596619]))\n",
      "--------------------\n"
     ]
    }
   ],
   "source": [
    "a = np.array([[1,2],[3,4]])\n",
    "\n",
    "# 特征值和特征向量\n",
    "eigvl,eigvt = np.linalg.eig(a)\n",
    "print(\"特征值：\",eigvl)\n",
    "print(\"特征向量：\",eigvt)\n",
    "print(\"--------------------\")\n",
    "\n",
    "# 逆矩阵\n",
    "inverse_a = np.linalg.inv(a)\n",
    "print(\"逆矩阵：\\n\",inverse_a)\n",
    "print(\"--------------------\")\n",
    "\n",
    "# QR分解,是将一个矩阵分解为一个正交矩阵Q和一个上三角矩阵R的乘积\n",
    "q,r = np.linalg.qr(a)\n",
    "print(\"Q矩阵：\\n\",q)\n",
    "print(\"R矩阵：\\n\",r)\n",
    "print(\"--------------------\")\n",
    "\n",
    "# SVD分解(奇异值分解)，\n",
    "u,s,v = np.linalg.svd(a)\n",
    "print(\"U矩阵：\\n\",u)\n",
    "print(\"S矩阵：\\n\",s)\n",
    "print(\"V矩阵：\\n\",v)\n",
    "print(\"--------------------\")\n",
    "\n",
    "# 解线性方程组\n",
    "b = np.array([5,7])\n",
    "x = np.linalg.solve(a,b)\n",
    "print(\"方程组的解：\",x)\n",
    "print(\"--------------------\")\n",
    "\n",
    "# 计算最小二乘解\n",
    "x = np.linalg.lstsq(a, b, rcond=None)  \n",
    "print(\"最小二乘解：\",x)\n",
    "print(\"--------------------\")\n"
   ]
  },
  {
   "cell_type": "code",
   "execution_count": 25,
   "metadata": {},
   "outputs": [],
   "source": [
    "np.save('result.npy',manual_result)  "
   ]
  },
  {
   "cell_type": "code",
   "execution_count": 26,
   "metadata": {},
   "outputs": [
    {
     "data": {
      "text/plain": [
       "array([[19., 22.],\n",
       "       [43., 50.]], dtype=float32)"
      ]
     },
     "execution_count": 26,
     "metadata": {},
     "output_type": "execute_result"
    }
   ],
   "source": [
    "result_np = np.load('result.npy')\n",
    "result_np"
   ]
  },
  {
   "cell_type": "code",
   "execution_count": 27,
   "metadata": {},
   "outputs": [
    {
     "data": {
      "text/plain": [
       "array([[0, 3],\n",
       "       [2, 5],\n",
       "       [4, 7],\n",
       "       [6, 9]])"
      ]
     },
     "execution_count": 27,
     "metadata": {},
     "output_type": "execute_result"
    }
   ],
   "source": [
    "a = np.array([(1,2),(3,4),(5,6),(7,8)])  #sahpe(4,2)\n",
    "b = np.array([-1,1])  #shape(2,) --> shape(1,2) --> shape(4,2)  广播机制  [(-1,1),(-1,1),(-1,1),(-1,1)]\n",
    "a + b"
   ]
  }
 ],
 "metadata": {
  "kernelspec": {
   "display_name": "py312",
   "language": "python",
   "name": "python3"
  },
  "language_info": {
   "codemirror_mode": {
    "name": "ipython",
    "version": 3
   },
   "file_extension": ".py",
   "mimetype": "text/x-python",
   "name": "python",
   "nbconvert_exporter": "python",
   "pygments_lexer": "ipython3",
   "version": "3.12.9"
  }
 },
 "nbformat": 4,
 "nbformat_minor": 2
}
