{
 "cells": [
  {
   "cell_type": "code",
   "execution_count": 2,
   "metadata": {},
   "outputs": [
    {
     "data": {
      "text/plain": [
       "tensor([[1., 2.],\n",
       "        [3., 4.]])"
      ]
     },
     "execution_count": 2,
     "metadata": {},
     "output_type": "execute_result"
    }
   ],
   "source": [
    "import torch\n",
    "\n",
    "data = torch.tensor([[1,2],[3,4]], dtype=torch.float32)\n",
    "data"
   ]
  },
  {
   "cell_type": "code",
   "execution_count": 7,
   "metadata": {},
   "outputs": [
    {
     "name": "stdout",
     "output_type": "stream",
     "text": [
      "tensor([[1, 2],\n",
      "        [3, 4]])\n"
     ]
    },
    {
     "data": {
      "text/plain": [
       "torch.int64"
      ]
     },
     "execution_count": 7,
     "metadata": {},
     "output_type": "execute_result"
    }
   ],
   "source": [
    "import torch\n",
    "import numpy as np\n",
    "\n",
    "data2 = torch.from_numpy(np.array([(1, 2), (3, 4)]))\n",
    "print(data2)\n",
    "data2.dtype\n",
    "\n",
    "# NumPy（Numerical Python）是 Python 中⼀个基础且强⼤的开源数值计算库，\n",
    "# 它为 Python 提供了⾼效的多维数组对象以及处理这些数组的各种⼯具，\n",
    "# ⼴泛应⽤于数据科学、机器学习、科学计算等众多领域。"
   ]
  },
  {
   "cell_type": "code",
   "execution_count": 5,
   "metadata": {},
   "outputs": [
    {
     "name": "stdout",
     "output_type": "stream",
     "text": [
      "ones tensor\n",
      " tensor([[1, 1],\n",
      "        [1, 1]]) \n",
      "\n",
      "random tensor \n",
      " tensor([[0.5630, 0.7480],\n",
      "        [0.8971, 0.8171]]) \n",
      "\n"
     ]
    }
   ],
   "source": [
    "# 从另⼀个张量：除⾮明确覆盖，否则新张量保留参数张量的属性（形状、数据类型）。\n",
    "x_ones = torch.ones_like(data2)  # 保留of data2的属性\n",
    "print(f\"ones tensor\\n {x_ones} \\n\")\n",
    "\n",
    "x_rand = torch.rand_like(data2, dtype=torch.float) #覆盖data的数据类型\n",
    "print(f\"random tensor \\n {x_rand} \\n\")\n"
   ]
  },
  {
   "cell_type": "code",
   "execution_count": 6,
   "metadata": {},
   "outputs": [
    {
     "name": "stdout",
     "output_type": "stream",
     "text": [
      "rand_tensor\n",
      " tensor([[0.8913, 0.9885, 0.3334],\n",
      "        [0.2340, 0.2721, 0.3548]]) \n",
      "\n",
      "ones_tensor\n",
      " tensor([[1., 1., 1.],\n",
      "        [1., 1., 1.]]) \n",
      "\n",
      "zeros_tensor\n",
      " tensor([[0., 0., 0.],\n",
      "        [0., 0., 0.]]) \n",
      "\n"
     ]
    }
   ],
   "source": [
    "#使用随机值或者常量值，shape 是张量维度的元组。在下⾯的函数中，它决定了输出张量的维度。\n",
    "shape = (2, 3)\n",
    "rand_tensor = torch.rand(shape)\n",
    "ones_tensor = torch.ones(shape)\n",
    "zeros_tensor = torch.zeros(shape)\n",
    "print(f\"rand_tensor\\n {rand_tensor} \\n\")\n",
    "print(f\"ones_tensor\\n {ones_tensor} \\n\")\n",
    "print(f\"zeros_tensor\\n {zeros_tensor} \\n\")\n",
    "\n",
    "# 其它⼀些创建⽅法"
   ]
  },
  {
   "cell_type": "code",
   "execution_count": null,
   "metadata": {},
   "outputs": [],
   "source": [
    "# 基于现有tensor构建，但使用新值填充\n",
    "m = torch.ones(5,3, dtype=torch.double)\n",
    "n = torch.rand_like(m, dtype=torch.float)\n",
    "# n 的返回结果是一个大小为 (5, 3) 的张量，其中的元素是从均匀分布 [0, 1) 中随机采样的浮点数，\n",
    "# 数据类型为 torch.float（32 位浮点数）。由于随机性，每次运行代码时 n 的具体数值会有所不同，但它们总是位于 0 和 1 之间。\n",
    "\n",
    "# 获取tensor的大小\n",
    "print(m.size()) # torch.Size([5,3])\n",
    "\n",
    "# 均匀分布\n",
    "print(torch.rand(5,3))\n",
    "# 标准正态分布\n",
    "print(torch.randn(5,3))\n",
    "# 离散正态分布\n",
    "print(torch.normal(mean=.0,std=1.0,size=(5,3)))\n",
    "# 线性间隔向量(返回一个1维张量，包含在区间start和end上均匀间隔的steps个点)\n",
    "print(torch.linspace(start=1,end=10,steps=21))\n"
   ]
  },
  {
   "cell_type": "code",
   "execution_count": 25,
   "metadata": {},
   "outputs": [
    {
     "name": "stdout",
     "output_type": "stream",
     "text": [
      "Shape of tensor: torch.Size([3, 4])\n",
      "Datatype of tensor: torch.float32\n",
      "Device tensor is stored on: cpu\n"
     ]
    }
   ],
   "source": [
    "# 张量的属性描述了张量的形状、数据类型和存储它们的设备。以对象的⻆度来判断，\n",
    "# 张量可以看做是具有特征和⽅法的对象。\n",
    "# https://pytorch.org/docs/stable/torch.html \n",
    "# 这个链接⾥ 全⾯介绍100 多种张量运算，包括算术、线性代数、矩阵操作（转置、索引、切⽚）、采样等等。\n",
    "\n",
    "tensor = torch.rand(3,4)\n",
    "tensor.shape\n",
    "tensor.dtype\n",
    "tensor.device\n",
    "print(f\"Shape of tensor: {tensor.shape}\")\n",
    "print(f\"Datatype of tensor: {tensor.dtype}\")\n",
    "print(f\"Device tensor is stored on: {tensor.device}\")"
   ]
  },
  {
   "cell_type": "code",
   "execution_count": 28,
   "metadata": {},
   "outputs": [
    {
     "name": "stdout",
     "output_type": "stream",
     "text": [
      "tensor([[0.2207, 0.9895, 0.0580, 0.3381],\n",
      "        [0.9759, 0.5539, 0.8441, 0.5568],\n",
      "        [0.5912, 0.4033, 0.8426, 0.7234]])\n",
      "cpu\n",
      "tensor([[0.2207, 0.9895, 0.0580, 0.3381],\n",
      "        [0.9759, 0.5539, 0.8441, 0.5568],\n",
      "        [0.5912, 0.4033, 0.8426, 0.7234]], device='mps:0')\n",
      "mps:0\n"
     ]
    }
   ],
   "source": [
    "# 检查pytorch是否支持GPU\n",
    "if torch.cuda.is_available():\n",
    "    device = torch.device(\"cuda\")\n",
    "    tensor = tensor.to(device)\n",
    "print(tensor)\n",
    "print(tensor.device)\n",
    "\n",
    "# mac上没有GPU，使用M系列芯片\n",
    "if torch.backends.mps.is_available():\n",
    "    device = torch.device(\"mps\")\n",
    "    tensor = tensor.to(device)\n",
    "\n",
    "print(tensor)\n",
    "print(tensor.device)\n"
   ]
  },
  {
   "cell_type": "code",
   "execution_count": 31,
   "metadata": {},
   "outputs": [
    {
     "name": "stdout",
     "output_type": "stream",
     "text": [
      "First row:  tensor([1., 1., 1., 1.])\n",
      "First column:  tensor([1., 1., 1., 1.])\n",
      "Last column: tensor([1., 1., 1., 1.])\n",
      "tensor([[1., 0., 1., 1.],\n",
      "        [1., 0., 1., 1.],\n",
      "        [1., 0., 1., 1.],\n",
      "        [1., 0., 1., 1.]])\n"
     ]
    }
   ],
   "source": [
    "# 张量的索引和切⽚：\n",
    "tensor = torch.ones(4, 4)\n",
    "print('First row: ', tensor[0])\n",
    "print('First column: ', tensor[:, 0])\n",
    "print('Last column:', tensor[..., -1])\n",
    "tensor[:,1] = 0  #对张量中所有行的第1列操作\n",
    "print(tensor)\n"
   ]
  },
  {
   "cell_type": "code",
   "execution_count": 32,
   "metadata": {},
   "outputs": [
    {
     "name": "stdout",
     "output_type": "stream",
     "text": [
      "tensor([[3., 0., 3., 3., 3., 0., 3., 3., 3., 0., 3., 3.],\n",
      "        [3., 0., 3., 3., 3., 0., 3., 3., 3., 0., 3., 3.],\n",
      "        [3., 0., 3., 3., 3., 0., 3., 3., 3., 0., 3., 3.],\n",
      "        [3., 0., 3., 3., 3., 0., 3., 3., 3., 0., 3., 3.]])\n",
      "torch.Size([4, 12])\n"
     ]
    }
   ],
   "source": [
    "# 可以使⽤ torch.cat ⽤来连接指定维度的⼀系列张量。另⼀个和 torch.cat 功能类似的函数\n",
    "# 是torch.stack\n",
    "# 参数 dim 指定了沿哪个维度进行拼接。对于 dim=1：\n",
    "# 如果 tensor 是一个二维张量（矩阵），dim=0 表示沿着行的方向（垂直方向）拼接，而 dim=1 表示沿着列的方向（水平方向）拼接。\n",
    "# 具体而言，dim=1 意味着将多个张量在列方向上拼接在一起。这会增加列的数量，而行数保持不变。\n",
    "t1 = torch.cat([tensor, tensor, tensor], dim=1)\n",
    "print(t1 * 3)\n",
    "print(t1.shape)"
   ]
  },
  {
   "cell_type": "code",
   "execution_count": 35,
   "metadata": {},
   "outputs": [
    {
     "name": "stdout",
     "output_type": "stream",
     "text": [
      "tensor([[ 14.,  32.,  50.],\n",
      "        [ 32.,  77., 122.],\n",
      "        [ 50., 122., 194.]])\n",
      "tensor([[ 14.,  32.,  50.],\n",
      "        [ 32.,  77., 122.],\n",
      "        [ 50., 122., 194.]])\n",
      "tensor([[0.7851, 0.9353, 0.2647],\n",
      "        [0.8768, 0.1896, 0.3515],\n",
      "        [0.0615, 0.9086, 0.5943]])\n",
      "tensor([[ 14.,  32.,  50.],\n",
      "        [ 32.,  77., 122.],\n",
      "        [ 50., 122., 194.]])\n",
      "tensor([[ 1.,  4.,  9.],\n",
      "        [16., 25., 36.],\n",
      "        [49., 64., 81.]])\n",
      "tensor([[ 1.,  4.,  9.],\n",
      "        [16., 25., 36.],\n",
      "        [49., 64., 81.]])\n"
     ]
    }
   ],
   "source": [
    "import torch\n",
    "tensor = torch.arange(1,10, dtype=torch.float32).reshape(3, 3)\n",
    "#reshape重新定义形状\n",
    "\n",
    "# 计算两个张量之间矩阵乘法的几种方式。 y1, y2, y3 最后的值是一样的 dot\n",
    "y1 = tensor @ tensor.T\n",
    "y2 = tensor.matmul(tensor.T)\n",
    "\n",
    "print(y1)\n",
    "print(y2)\n",
    "\n",
    "y3 = torch.rand_like(tensor) #初始化\n",
    "torch.matmul(tensor, tensor.T, out=y3)\n",
    "print(y3)\n",
    "\n",
    "\n",
    "# 计算张量逐元素相乘的几种方法。 z1, z2, z3 最后的值是一样的。\n",
    "z1 = tensor * tensor\n",
    "z2 = tensor.mul(tensor)\n",
    "\n",
    "z3 = torch.rand_like(tensor)\n",
    "torch.mul(tensor, tensor, out=z3)\n",
    "\n",
    "print(z1)\n",
    "print(z3)"
   ]
  },
  {
   "cell_type": "code",
   "execution_count": 37,
   "metadata": {},
   "outputs": [
    {
     "name": "stdout",
     "output_type": "stream",
     "text": [
      "45.0 <class 'float'>\n"
     ]
    }
   ],
   "source": [
    "# 如果⼀个单元素张量，例如将张量的值聚合计算，可以使⽤ item() ⽅法将其转换为Python 数值\n",
    "agg = tensor.sum()  #所有元素相加\n",
    "agg_item = agg.item() \n",
    "print(agg_item, type(agg_item))"
   ]
  },
  {
   "cell_type": "code",
   "execution_count": 38,
   "metadata": {},
   "outputs": [
    {
     "name": "stdout",
     "output_type": "stream",
     "text": [
      "tensor([[1., 2., 3.],\n",
      "        [4., 5., 6.],\n",
      "        [7., 8., 9.]]) \n",
      "\n",
      "tensor([[ 6.,  7.,  8.],\n",
      "        [ 9., 10., 11.],\n",
      "        [12., 13., 14.]])\n"
     ]
    }
   ],
   "source": [
    "# In-place操作\n",
    "# 把计算结果存储到当前操作数中的操作就称为就地操作。含义和pandas中inPlace参数的含义⼀样。\n",
    "# pytorch中，这些操作是由带有下划线 _ 后缀的函数表⽰。例如：\n",
    "# x.copy_(y) ,  x.t_() , 将改变 x ⾃⾝的值。\n",
    "print(tensor, \"\\n\")\n",
    "tensor.add_(5)\n",
    "\n",
    "# tensor = tensor + 5\n",
    "# tensor += 5\n",
    "\n",
    "print(tensor)\n",
    "\n",
    "##############特别注意##############\n",
    "# In-place操作虽然节省了⼀部分内存，但在计算导数时可能会出现问题，\n",
    "# 因为它会⽴即丢失历史记录。因此，不⿎励使⽤它们"
   ]
  },
  {
   "cell_type": "code",
   "execution_count": 39,
   "metadata": {},
   "outputs": [
    {
     "data": {
      "text/plain": [
       "tensor([[ 6.,  7.,  8.],\n",
       "        [ 9., 10., 11.],\n",
       "        [12., 13., 14.]])"
      ]
     },
     "execution_count": 39,
     "metadata": {},
     "output_type": "execute_result"
    }
   ],
   "source": [
    "tensor\n",
    "\n",
    "# 与numpy之间的转换\n",
    "# CPU 和 NumPy 数组上的张量共享底层内存位置，所以改变⼀个另⼀个也会变。\n"
   ]
  },
  {
   "cell_type": "code",
   "execution_count": 47,
   "metadata": {},
   "outputs": [
    {
     "name": "stdout",
     "output_type": "stream",
     "text": [
      "t: tensor([1., 1., 1., 1., 1.])\n",
      "n: [1. 1. 1. 1. 1.]\n",
      "t: tensor([2., 2., 2., 2., 2.])\n",
      "n: [2. 2. 2. 2. 2.]\n",
      "t: tensor([2., 2., 2., 2., 2., 2.], dtype=torch.float64)\n",
      "n: [2. 2. 2. 2. 2. 2.]\n"
     ]
    }
   ],
   "source": [
    "import numpy\n",
    "# 张量到numpy数组,\n",
    "t = torch.ones(5)\n",
    "print(f\"t: {t}\")\n",
    "n = t.numpy()\n",
    "print(f\"n: {n}\")\n",
    "\n",
    "# 与numpy之间的转换,CPU 和 NumPy 数组上的张量共享底层内存位置，所以改变⼀个另⼀个也会变。\n",
    "t.add_(1)\n",
    "print(f\"t: {t}\")\n",
    "print(f\"n: {n}\")\n",
    "\n",
    "# Numpy数组到张量\n",
    "n = numpy.ones(6)\n",
    "t = torch.from_numpy(n)\n",
    "\n",
    "numpy.add(n, 1, out=n)\n",
    "print(f\"t: {t}\")\n",
    "print(f\"n: {n}\")"
   ]
  },
  {
   "cell_type": "markdown",
   "metadata": {},
   "source": [
    "计算图\n",
    "在进⼀步学习pytorch之前，先要了解⼀个概念 —— 计算图( Computation graph)\n",
    "所有的深度学习框架都依赖于计算图来完成梯度下降、优化梯度值等计算。\n",
    "⽽计算图的创建和应⽤，通常包含如下两个部分：\n",
    "1. ⽤⼾构建前向传播图\n",
    "2. 框架处理后向传播(梯度更新)\n",
    "模型从简单到复杂，pytorch和tensorflow都使⽤计算图来完成⼯作。\n",
    "但是，这两个框架所使⽤的计算图也却有所不同：\n",
    "tensorflow1.x 使⽤的是静态计算图，tensorflow2.x和pytorch使⽤的是动态计算图。\n",
    "\n",
    "静态计算图\n",
    "通常包括以下两个阶段。\n",
    "阶段1：定义⼀个架构(可以使⽤⼀些基本的流控制⽅法，⽐如循环和条件指令)\n",
    "阶段2：运⾏⼀组数据来训练模型，进⾏推理。\n",
    "优点：允许对图进⾏强⼤的离线优化/调度，所以速度相对较快。\n",
    "缺点：难以调试，对代码中处理结构化或者可变⼤⼩的数据处理⽐较复杂。\n",
    "\n",
    "动态计算图\n",
    "在执⾏正向计算时，隐式地定义图(动态构建)。\n",
    "优点：灵活，侵⼊性⼩，允许动态构建和评估。\n",
    "缺点：难以优化。\n",
    "\n",
    "两种计算图⽐较起来，可以看出：动态图是对调试友好的(对程序员友好)。它允许逐\n",
    "⾏执⾏代码，并可以访问所有张量。这样更便于发现和找到我们计算或逻辑中的问\n",
    "题。当然，前提是你必须熟练掌握程序的调试(debug)技能 😄 ~~"
   ]
  },
  {
   "cell_type": "code",
   "execution_count": 10,
   "metadata": {},
   "outputs": [
    {
     "name": "stdout",
     "output_type": "stream",
     "text": [
      "tensor([ 0.4354, -7.9705, -1.9479,  0.9520,  3.5812, -0.8248,  0.4581, -0.7154,\n",
      "         0.6195, -4.3332], grad_fn=<MvBackward0>)\n",
      "tensor(-2.5183, grad_fn=<DotBackward0>)\n",
      "tensor([-1.0274], requires_grad=True)\n",
      "tensor([ -3.1103, -11.5161,  -5.4935,  -2.5937,   0.0355,  -4.3705,  -3.0876,\n",
      "         -4.2611,  -2.9262,  -7.8788], grad_fn=<AddBackward0>)\n"
     ]
    }
   ],
   "source": [
    "# pytorch计算图可视化\n",
    "# 通过torchviz可以实现\n",
    "\n",
    "import torch\n",
    "import torchviz\n",
    "from torchviz import make_dot\n",
    "\n",
    "# 定义矩阵 A，向量 b 和常数 c\n",
    "A = torch.randn(10, 10,requires_grad=True)  # requires_grad=True 表示我们要对 A 求导\n",
    "b = torch.randn(10,requires_grad=True)\n",
    "c = torch.randn(1,requires_grad=True)\n",
    "x = torch.randn(10, requires_grad=True)\n",
    "\n",
    "result1 = torch.matmul(A, x.T)\n",
    "result2 = torch.matmul(b, x)\n",
    "# print(b)\n",
    "# print(x)\n",
    "print(result1)\n",
    "\n",
    "print(result2)\n",
    "print(c)\n",
    "\n",
    "result = result1 + result2 + c\n",
    "print(result)\n",
    "# x.T\n",
    "# result1\n",
    "# # 计算 x^T * A + b * x + c\n",
    "# result = torch.matmul(A, x.T) + torch.matmul(b, x) + c\n",
    "\n",
    "# # 生成计算图节点\n",
    "# dot = make_dot(result, params={'A': A, 'b': b, 'c': c, 'x': x})\n",
    "# # 绘制计算图\n",
    "# dot.render('expression', format='png', cleanup=True, view=False)\n"
   ]
  },
  {
   "cell_type": "code",
   "execution_count": null,
   "metadata": {},
   "outputs": [],
   "source": []
  }
 ],
 "metadata": {
  "kernelspec": {
   "display_name": "py312",
   "language": "python",
   "name": "python3"
  },
  "language_info": {
   "codemirror_mode": {
    "name": "ipython",
    "version": 3
   },
   "file_extension": ".py",
   "mimetype": "text/x-python",
   "name": "python",
   "nbconvert_exporter": "python",
   "pygments_lexer": "ipython3",
   "version": "3.12.9"
  }
 },
 "nbformat": 4,
 "nbformat_minor": 2
}
