{
 "cells": [
  {
   "cell_type": "markdown",
   "metadata": {},
   "source": [
    "#### pytorch搭建神经网络模型，调试超参数，观察学习率和批次大小对训练的影响。\n"
   ]
  },
  {
   "cell_type": "code",
   "execution_count": null,
   "metadata": {},
   "outputs": [],
   "source": [
    "#导入包\n",
    "import torch\n",
    "from torchvision.datasets import KMNIST\n",
    "from torchvision.transforms import ToTensor \n",
    "from torch.utils.data import DataLoader\n",
    "import torch.nn as nn\n",
    "\n",
    "# 定义超参数\n",
    "LR = 0.1  #学习率调整 1.LR：0.01->Accuracy: 72.46000000000001%; 2. LR:0.005->Accuracy: 68.12% 3.LR：0.001->Accuracy: 53.400000000000006% 4.LR:0.1->Accuracy: 86.1%\n",
    "epochs = 10 #训练轮次，100轮左右损失率降到了1以下，1000轮降到0.3左右，Accuracy: 76.03%\n",
    "BATCH_SIZE = 32  #size:246->Accuracy: 82.49% ;size:128->Accuracy: 86.52% ; size:64->Accuracy: 88.07000000000001%;size:32->Accuracy: 88.97%\n",
    "\n",
    "\n",
    "#数据集加载\n",
    "train_data = KMNIST(root='./kmnist_data', train=True, download=True, transform=ToTensor())\n",
    "test_data = KMNIST(root='./kmnist_data', train=False, download=True, transform=ToTensor())\n",
    "\n",
    "#数据分批次处理\n",
    "train_dl = DataLoader(train_data, batch_size=BATCH_SIZE, shuffle=True) # shuffle：随机打乱数据\n",
    "\n",
    "\n",
    "# 模型创建 \n",
    "# 隐藏层仅1层，使用ReLU函数\n",
    "model = nn.Sequential(\n",
    "    nn.Linear(784, 128),  #输入层\n",
    "    nn.ReLU(),     #隐藏层\n",
    "    nn.Linear(128, 10)  #输出层\n",
    ")\n"
   ]
  },
  {
   "cell_type": "code",
   "execution_count": 24,
   "metadata": {},
   "outputs": [
    {
     "name": "stdout",
     "output_type": "stream",
     "text": [
      "Epoch:0, Loss:0.11257815361022949\n",
      "Epoch:1, Loss:0.2604348361492157\n",
      "Epoch:2, Loss:0.08711791783571243\n",
      "Epoch:3, Loss:0.14682842791080475\n",
      "Epoch:4, Loss:0.0807507261633873\n",
      "Epoch:5, Loss:0.06420960277318954\n",
      "Epoch:6, Loss:0.08008219301700592\n",
      "Epoch:7, Loss:0.020526552572846413\n",
      "Epoch:8, Loss:0.10468575358390808\n",
      "Epoch:9, Loss:0.021662214770913124\n"
     ]
    }
   ],
   "source": [
    "#损失函数和优化器\n",
    "loss_fn = nn.CrossEntropyLoss() #交叉熵损失函数\n",
    "\n",
    "#优化器（模型参数更新）\n",
    "optimizer = torch.optim.SGD(model.parameters(), lr=LR) #SGD优化器\n",
    "\n",
    "###加上训练轮次\n",
    "# 训练加速，数据加载器，分批次\n",
    "for epoch in range(epochs):\n",
    "    for data, target in train_dl:\n",
    "        #前向运算\n",
    "        output = model(data.reshape(-1, 784))\n",
    "        #计算损失\n",
    "        loss = loss_fn(output, target) #计算梯度\n",
    "        #反向传播\n",
    "        optimizer.zero_grad() #所有参数梯度清零\n",
    "        loss.backward()  #计算梯度（参数.grad）\n",
    "        optimizer.step() #更新参数\n",
    "    print(f'Epoch:{epoch}, Loss:{loss.item()}')"
   ]
  },
  {
   "cell_type": "code",
   "execution_count": 25,
   "metadata": {},
   "outputs": [
    {
     "name": "stdout",
     "output_type": "stream",
     "text": [
      "Accuracy: 88.97%\n"
     ]
    }
   ],
   "source": [
    "# 测试\n",
    "test_dl = DataLoader(test_data, batch_size=BATCH_SIZE)\n",
    "\n",
    "correct = 0\n",
    "total = 0\n",
    "\n",
    "with torch.no_grad(): #不计算梯度\n",
    "    for data, target in test_dl:\n",
    "        output = model(data.reshape(-1, 784))\n",
    "        _, predicted = torch.max(output, 1) #返回第一个维度的最大值张量\n",
    "        total += target.size(0) #返回张量的样本量\n",
    "        correct += (predicted == target).sum().item()\n",
    "print(f'Accuracy: {correct/total*100}%')"
   ]
  }
 ],
 "metadata": {
  "kernelspec": {
   "display_name": "py312",
   "language": "python",
   "name": "python3"
  },
  "language_info": {
   "codemirror_mode": {
    "name": "ipython",
    "version": 3
   },
   "file_extension": ".py",
   "mimetype": "text/x-python",
   "name": "python",
   "nbconvert_exporter": "python",
   "pygments_lexer": "ipython3",
   "version": "3.12.9"
  }
 },
 "nbformat": 4,
 "nbformat_minor": 2
}
