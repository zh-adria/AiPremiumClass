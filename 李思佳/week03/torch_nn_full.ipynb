{
 "cells": [
  {
   "cell_type": "markdown",
   "metadata": {},
   "source": [
    "#### pytorch fashionmnist数据集 神经网络搭建和训练"
   ]
  },
  {
   "cell_type": "code",
   "execution_count": 47,
   "metadata": {},
   "outputs": [],
   "source": [
    "# 导入包\n",
    "import torch\n",
    "from torchvision.datasets import FashionMNIST\n",
    "from torchvision.transforms import ToTensor #图像数据转换为张量\n",
    "import torch.nn as nn\n",
    "from torch.utils.data import DataLoader #数据加载器，将dataset喂给模型前，将数据分批次封装成小份"
   ]
  },
  {
   "cell_type": "code",
   "execution_count": 48,
   "metadata": {},
   "outputs": [],
   "source": [
    "# 定义超参数\n",
    "LR = 1e-3\n",
    "epochs = 3 #训练轮次\n",
    "BATCH_SIZE = 64  #每批64张"
   ]
  },
  {
   "cell_type": "code",
   "execution_count": 49,
   "metadata": {},
   "outputs": [],
   "source": [
    "#数据集加载\n",
    "train_data = FashionMNIST(root='./fashion_data', train=True, download=True, transform=ToTensor())\n",
    "test_data = FashionMNIST(root='./fashion_data', train=False, download=True, transform=ToTensor())"
   ]
  },
  {
   "cell_type": "code",
   "execution_count": 50,
   "metadata": {},
   "outputs": [],
   "source": [
    "#数据分批次处理\n",
    "train_dl = DataLoader(train_data, batch_size=BATCH_SIZE, shuffle=True) # shuffle：随机打乱数据"
   ]
  },
  {
   "cell_type": "code",
   "execution_count": 51,
   "metadata": {},
   "outputs": [],
   "source": [
    "# 模型创建\n",
    "model = nn.Sequential(\n",
    "    nn.Linear(784, 64),  #输入层\n",
    "    nn.Sigmoid(),     #隐藏层\n",
    "    nn.Linear(64, 10)  #输出层\n",
    ")"
   ]
  },
  {
   "cell_type": "code",
   "execution_count": 52,
   "metadata": {},
   "outputs": [
    {
     "name": "stdout",
     "output_type": "stream",
     "text": [
      "Sequential(\n",
      "  (0): Linear(in_features=784, out_features=64, bias=True)\n",
      "  (1): Sigmoid()\n",
      "  (2): Linear(in_features=64, out_features=10, bias=True)\n",
      ")\n"
     ]
    }
   ],
   "source": [
    "print(model)"
   ]
  },
  {
   "cell_type": "code",
   "execution_count": 53,
   "metadata": {},
   "outputs": [],
   "source": [
    "#损失函数和优化器\n",
    "loss_fn = nn.CrossEntropyLoss() #交叉熵损失函数\n",
    "\n",
    "#优化器（模型参数更新）\n",
    "optimizer = torch.optim.SGD(model.parameters(), lr=LR) #SGD优化器"
   ]
  },
  {
   "cell_type": "code",
   "execution_count": 54,
   "metadata": {},
   "outputs": [
    {
     "name": "stdout",
     "output_type": "stream",
     "text": [
      "Epoch:0, Loss:2.2411935329437256\n",
      "Epoch:1, Loss:2.190263509750366\n",
      "Epoch:2, Loss:2.1187117099761963\n"
     ]
    }
   ],
   "source": [
    "# for epoch in epochs:\n",
    "    #训练数据提取\n",
    "#直接for循环，效率特别低，耗时长，需要加速\n",
    "# for data, target in train_data:\n",
    "#     #前向运算\n",
    "#     output = model(data.reshape(-1))\n",
    "#     #计算损失\n",
    "#     loss = loss_fn(output, torch.tensor(target)) #计算梯度\n",
    "#     #反向传播\n",
    "#     optimizer.zero_grad() #所有参数梯度清零\n",
    "#     loss.backward()  #计算梯度（参数.grad）\n",
    "#     optimizer.step() #更新参数\n",
    "#     print(f'Loss:{loss.item()}')\n",
    "\n",
    "# ###训练加速，数据加载器，分批次\n",
    "# for data, target in train_dl:\n",
    "#     #前向运算\n",
    "#     output = model(data.reshape(-1, 784))\n",
    "#     #计算损失\n",
    "#     loss = loss_fn(output, target) #计算梯度\n",
    "#     #反向传播\n",
    "#     optimizer.zero_grad() #所有参数梯度清零\n",
    "#     loss.backward()  #计算梯度（参数.grad）\n",
    "#     optimizer.step() #更新参数\n",
    "#     print(f'Loss:{loss.item()}')\n",
    "\n",
    "\n",
    "###加上训练轮次\n",
    "# 训练加速，数据加载器，分批次\n",
    "for epoch in range(epochs):\n",
    "    for data, target in train_dl:\n",
    "        #前向运算\n",
    "        output = model(data.reshape(-1, 784))\n",
    "        #计算损失\n",
    "        loss = loss_fn(output, target) #计算梯度\n",
    "        #反向传播\n",
    "        optimizer.zero_grad() #所有参数梯度清零\n",
    "        loss.backward()  #计算梯度（参数.grad）\n",
    "        optimizer.step() #更新参数\n",
    "    print(f'Epoch:{epoch}, Loss:{loss.item()}')"
   ]
  },
  {
   "cell_type": "code",
   "execution_count": 57,
   "metadata": {},
   "outputs": [
    {
     "name": "stdout",
     "output_type": "stream",
     "text": [
      "Accuracy: 48.699999999999996%\n"
     ]
    }
   ],
   "source": [
    "# 测试\n",
    "test_dl = DataLoader(test_data, batch_size=BATCH_SIZE)\n",
    "\n",
    "correct = 0\n",
    "total = 0\n",
    "\n",
    "with torch.no_grad(): #不计算梯度\n",
    "    for data, target in test_dl:\n",
    "        output = model(data.reshape(-1, 784))\n",
    "        _, predicted = torch.max(output, 1) #返回第一个维度的最大值张量\n",
    "        total += target.size(0) #返回张量的样本量\n",
    "        correct += (predicted == target).sum().item()\n",
    "print(f'Accuracy: {correct/total*100}%')\n",
    "\n",
    "\n"
   ]
  }
 ],
 "metadata": {
  "kernelspec": {
   "display_name": "py312",
   "language": "python",
   "name": "python3"
  },
  "language_info": {
   "codemirror_mode": {
    "name": "ipython",
    "version": 3
   },
   "file_extension": ".py",
   "mimetype": "text/x-python",
   "name": "python",
   "nbconvert_exporter": "python",
   "pygments_lexer": "ipython3",
   "version": "3.12.9"
  }
 },
 "nbformat": 4,
 "nbformat_minor": 2
}
