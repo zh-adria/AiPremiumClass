{
 "cells": [
  {
   "cell_type": "code",
   "execution_count": 39,
   "metadata": {},
   "outputs": [],
   "source": [
    "import torch\n",
    "from sklearn.datasets import load_iris\n",
    "# from sklearn.model_selection import train_test_split"
   ]
  },
  {
   "cell_type": "code",
   "execution_count": 40,
   "metadata": {},
   "outputs": [],
   "source": [
    "#数据准备\n",
    "X, y = load_iris(return_X_y=True)\n",
    "X = X[:100]\n",
    "y = y[:100]\n",
    "\n",
    "#创建张量数据集\n",
    "tensor_x = torch.tensor(X, dtype=torch.float32)\n",
    "tensor_y = torch.tensor(y, dtype=torch.float32)\n",
    "\n",
    "#超参数设置\n",
    "learning_rate = 0.001\n",
    "epochs = 500 #计算次数\n",
    "# 模型参数\n",
    "w = torch.randn(1, 4, requires_grad=True)  #张量grad属性，额外的T度属性值，保存参数梯度值\n",
    "b = torch.randn(1, requires_grad=True)"
   ]
  },
  {
   "cell_type": "code",
   "execution_count": null,
   "metadata": {},
   "outputs": [],
   "source": [
    "w.grad  #默认None ,每个参数的梯度值保存在grad中，梯度值可手动指定或者算出来赋值\n",
    "\n",
    "for i in range(epochs):\n",
    "    #前向运算\n",
    "    z = torch.nn.functional.linear(tensor_x, w, b) #线性\n",
    "    z = torch.sigmoid(z)\n",
    "    # z.shape\n",
    "    #损失函数\n",
    "    loss = torch.nn.functional.binary_cross_entropy(z.reshape(-1), tensor_y, reduction='mean') #z.reshape让z自适应，也可以用 z.squeeze()表示去除维度为1的维度\n",
    "    # loss\n",
    "\n",
    "    #计算梯度\n",
    "    loss.backward() #计算梯度，梯度值保存在w.grad和b.grad中\n",
    "    w.grad\n",
    "\n",
    "    #更新参数\n",
    "    with torch.no_grad(): #关闭梯度计算跟踪\n",
    "        w -= learning_rate * w.grad\n",
    "        b -= learning_rate * b.grad\n",
    "        #清空梯度\n",
    "        w.grad.zero_()  #不清空的话梯度值会累加\n",
    "        b.grad.zero_()\n",
    "\n",
    "    # 训练动态损失\n",
    "    print('train loss:', loss.item())"
   ]
  }
 ],
 "metadata": {
  "kernelspec": {
   "display_name": "py312",
   "language": "python",
   "name": "python3"
  },
  "language_info": {
   "codemirror_mode": {
    "name": "ipython",
    "version": 3
   },
   "file_extension": ".py",
   "mimetype": "text/x-python",
   "name": "python",
   "nbconvert_exporter": "python",
   "pygments_lexer": "ipython3",
   "version": "3.12.9"
  }
 },
 "nbformat": 4,
 "nbformat_minor": 2
}
