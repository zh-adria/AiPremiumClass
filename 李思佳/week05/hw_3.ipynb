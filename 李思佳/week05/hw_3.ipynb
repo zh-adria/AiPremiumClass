{
 "cells": [
  {
   "cell_type": "markdown",
   "metadata": {},
   "source": [
    " #### 使用课堂示例cooking.stackexchange.txt，使用fasttext训练文本分类模型。"
   ]
  },
  {
   "cell_type": "code",
   "execution_count": 2,
   "metadata": {},
   "outputs": [
    {
     "name": "stderr",
     "output_type": "stream",
     "text": [
      "Read 0M words\n",
      "Number of words:  16568\n",
      "Number of labels: 736\n",
      "Progress:  97.3% words/sec/thread:   50373 lr:  0.002734 avg.loss:  9.236652 ETA:   0h 0m 0s"
     ]
    },
    {
     "name": "stdout",
     "output_type": "stream",
     "text": [
      "(('__label__substitutions',), array([0.43449843]))\n",
      "(('__label__chocolate',), array([0.30481833]))\n"
     ]
    },
    {
     "name": "stderr",
     "output_type": "stream",
     "text": [
      "Progress: 100.0% words/sec/thread:   49764 lr:  0.000000 avg.loss:  9.207012 ETA:   0h 0m 0s\n"
     ]
    }
   ],
   "source": [
    "import fasttext\n",
    "\n",
    "model = fasttext.train_supervised('/Users/peiqi/code/AiPremiumClass/李思佳/week05/cooking.stackexchange.txt', epoch=10, dim=200)\n",
    "\n",
    "#word2vec模型使用方法，文本分类中一样可用\n",
    "\n",
    "# 文本分类功能\n",
    "print(model.predict(\"What can I use instead of corn syrup?\"))\n",
    "print(model.predict(\"American equivalent for British chocolate terms\"))"
   ]
  },
  {
   "cell_type": "code",
   "execution_count": 15,
   "metadata": {},
   "outputs": [
    {
     "name": "stderr",
     "output_type": "stream",
     "text": [
      "Read 0M words\n",
      "Number of words:  12564\n",
      "Number of labels: 2\n",
      "Progress:  77.2% words/sec/thread: 2920171 lr:  0.022814 avg.loss:  0.494253 ETA:   0h 0m 0s"
     ]
    },
    {
     "name": "stdout",
     "output_type": "stream",
     "text": [
      "(('__label__0',), array([0.5215748]))\n"
     ]
    },
    {
     "name": "stderr",
     "output_type": "stream",
     "text": [
      "Progress: 100.0% words/sec/thread: 2735236 lr:  0.000000 avg.loss:  0.488301 ETA:   0h 0m 0s\n"
     ]
    }
   ],
   "source": [
    "# 处理fake_news中fake.csv和real.csv数据\n",
    "# 将fake数据定义标签__lable__0,real数据定义为__lable__1\n",
    "model_fake = fasttext.train_supervised('/Users/peiqi/code/AiPremiumClass/李思佳/week05/fake_news/train_1.txt', epoch=100, dim=200)\n",
    "\n",
    "print(model_fake.predict(\"Amal required table near them at\"))\n",
    "\n"
   ]
  },
  {
   "cell_type": "code",
   "execution_count": null,
   "metadata": {},
   "outputs": [],
   "source": []
  },
  {
   "cell_type": "code",
   "execution_count": null,
   "metadata": {},
   "outputs": [],
   "source": []
  },
  {
   "cell_type": "code",
   "execution_count": null,
   "metadata": {},
   "outputs": [],
   "source": []
  }
 ],
 "metadata": {
  "kernelspec": {
   "display_name": "py312",
   "language": "python",
   "name": "python3"
  },
  "language_info": {
   "codemirror_mode": {
    "name": "ipython",
    "version": 3
   },
   "file_extension": ".py",
   "mimetype": "text/x-python",
   "name": "python",
   "nbconvert_exporter": "python",
   "pygments_lexer": "ipython3",
   "version": "3.12.9"
  }
 },
 "nbformat": 4,
 "nbformat_minor": 2
}
