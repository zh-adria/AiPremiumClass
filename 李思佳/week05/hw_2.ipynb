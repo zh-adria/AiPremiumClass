{
 "cells": [
  {
   "cell_type": "markdown",
   "metadata": {},
   "source": [
    "#### 2. 使用自定义的文档文本，通过fasttext训练word2vec训练词向量模型，并计算词汇间的相关度。（选做：尝试tensorboard绘制词向量可视化图）\n"
   ]
  },
  {
   "cell_type": "code",
   "execution_count": null,
   "metadata": {},
   "outputs": [
    {
     "name": "stderr",
     "output_type": "stream",
     "text": [
      "Building prefix dict from the default dictionary ...\n",
      "Loading model from cache /var/folders/tl/s657k2kn70zdpt9vn9hq4cpm0000gq/T/jieba.cache\n",
      "Loading model cost 0.382 seconds.\n",
      "Prefix dict has been built successfully.\n"
     ]
    }
   ],
   "source": [
    "#文本处理\n",
    "import jieba\n",
    "\n",
    "with open('/Users/peiqi/code/AiPremiumClass/李思佳/week05/sg.txt','r') as f:\n",
    "    lines = f.read()\n",
    "\n",
    "with open('/Users/peiqi/code/AiPremiumClass/李思佳/week05/sg.txt', 'w') as f:\n",
    "    f.write(' '.join(jieba.cut(lines)))\n",
    "\n"
   ]
  },
  {
   "cell_type": "code",
   "execution_count": null,
   "metadata": {},
   "outputs": [
    {
     "name": "stderr",
     "output_type": "stream",
     "text": [
      "Read 0M words\n",
      "Number of words:  7594\n",
      "Number of labels: 0\n",
      "Progress: 100.0% words/sec/thread:  137976 lr:  0.000000 avg.loss:  2.482208 ETA:   0h 0m 0s\n"
     ]
    }
   ],
   "source": [
    "import fasttext\n",
    "\n",
    "model = fasttext.train_unsupervised('/Users/peiqi/code/AiPremiumClass/李思佳/week05/sg.txt', model='skipgram',epoch=5)\n",
    "\n",
    "print('文档词汇表长度：', len(model.words))\n",
    "#获取词向量\n",
    "print(model.get_word_vector('诸葛亮'))\n",
    "#获取紧邻词\n",
    "print(model.get_nearest_neighbors('诸葛亮', k=5))\n",
    "\n",
    "#分析词间类比\n",
    "print(model.get_analogies('诸葛亮','李逵','刘备'))\n"
   ]
  },
  {
   "cell_type": "code",
   "execution_count": 27,
   "metadata": {},
   "outputs": [
    {
     "name": "stderr",
     "output_type": "stream",
     "text": [
      "Read 0M words\n",
      "Number of words:  7594\n",
      "Number of labels: 0\n",
      "Progress: 100.0% words/sec/thread:  136742 lr:  0.000000 avg.loss:  2.489678 ETA:   0h 0m 0s\n"
     ]
    },
    {
     "name": "stdout",
     "output_type": "stream",
     "text": [
      "warning: Embedding dir exists, did you set global_step for add_embedding()?\n"
     ]
    }
   ],
   "source": [
    "#Tensorboard词向量可视化\n",
    "import torch\n",
    "from torch.utils.tensorboard import SummaryWriter\n",
    "import fasttext\n",
    "\n",
    "\n",
    "model = fasttext.train_unsupervised('/Users/peiqi/code/AiPremiumClass/李思佳/week05/sg.txt', model='skipgram',epoch=5)\n",
    "\n",
    "log_dir = '/Users/peiqi/code/AiPremiumClass/李思佳/week05/runs'\n",
    "writer = SummaryWriter(log_dir)\n",
    "\n",
    "# 获取词汇表\n",
    "words = model.get_words()\n",
    "meta = []\n",
    "\n",
    "\n",
    "# 收集前100个单词\n",
    "for i in range(min(100, len(words))):\n",
    "    meta.append(words[i])\n",
    "\n",
    "#获取词向量矩阵\n",
    "embeddings = model.get_input_matrix()\n",
    "\n",
    "# 添加嵌入到TensorBoard\n",
    "writer.add_embedding(embeddings[:100], metadata=meta)\n",
    "\n",
    "# 关闭SummaryWriter\n",
    "writer.close()\n",
    "\n"
   ]
  }
 ],
 "metadata": {
  "kernelspec": {
   "display_name": "py312",
   "language": "python",
   "name": "python3"
  },
  "language_info": {
   "codemirror_mode": {
    "name": "ipython",
    "version": 3
   },
   "file_extension": ".py",
   "mimetype": "text/x-python",
   "name": "python",
   "nbconvert_exporter": "python",
   "pygments_lexer": "ipython3",
   "version": "3.12.9"
  }
 },
 "nbformat": 4,
 "nbformat_minor": 2
}
