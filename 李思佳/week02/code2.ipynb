{
 "cells": [
  {
   "cell_type": "code",
   "execution_count": 88,
   "metadata": {},
   "outputs": [
    {
     "name": "stdout",
     "output_type": "stream",
     "text": [
      "(70, 4)\n",
      "(30, 4)\n"
     ]
    }
   ],
   "source": [
    "from sklearn.datasets import load_iris\n",
    "from sklearn.model_selection import train_test_split\n",
    "import numpy as np\n",
    "\n",
    "# 1.生成随机样本\n",
    "X, y = load_iris(return_X_y=True)\n",
    "X = X[:100]\n",
    "y = y[:100]\n",
    "\n",
    "X.shape\n",
    "\n",
    "#拆分数据\n",
    "#局部样本训练模型（过拟合模型）\n",
    "#新样板数据模型表现不好（泛化能力差）\n",
    "X_train, X_test, y_train, y_test = train_test_split(X, y, test_size = 0.3)\n",
    "\n",
    "print(X_train.shape)\n",
    "print(X_test.shape)\n"
   ]
  },
  {
   "cell_type": "code",
   "execution_count": 89,
   "metadata": {},
   "outputs": [
    {
     "name": "stdout",
     "output_type": "stream",
     "text": [
      "[[-0.75161122  1.02644005  0.88179385  0.72454912]]\n"
     ]
    }
   ],
   "source": [
    "#权重参数\n",
    "theta = np.random.randn(1, 4)\n",
    "print(theta)\n",
    "bias = 0\n",
    "#超参数\n",
    "lr = 0.05\n",
    "epochs = 1000 #训练次数"
   ]
  },
  {
   "cell_type": "code",
   "execution_count": null,
   "metadata": {},
   "outputs": [],
   "source": [
    "#2.模型计算函数\n",
    "def forward(x, theta, bias):\n",
    "    #线性运算\n",
    "    z = np.dot(theta, x.T) + bias\n",
    "    # sigmoid\n",
    "    y_hat= 1 / (1 + np.exp(-z)) \n",
    "    return y_hat\n",
    "\n",
    "\n",
    "#3.损失函数\n",
    "def loss(y, y_hat):\n",
    "    e = 1e-8\n",
    "    return - y * np.log(y_hat + e) - (1 - y) * np.log(1 - y_hat + e)\n",
    "\n",
    "#4.计算梯度\n",
    "def calc_gradient(x, y, y_hat):\n",
    "    m = x.shape[-1]\n",
    "    delta_theta = np.dot((y_hat - y), x) / m\n",
    "    delta_bias = np.mean(y_hat - y)\n",
    "    return delta_theta, delta_bias\n",
    "\n",
    "#5.模型训练\n",
    "for i in range(epochs):\n",
    "    #向前计算\n",
    "    y_hat = forward(X_train, theta, bias)\n",
    "    #计算损失\n",
    "    loss_val= loss(y_train, y_hat)\n",
    "    #计算梯度\n",
    "    delta_theta, delta_bias = calc_gradient(X_train, y_train, y_hat)\n",
    "    #更新参数\n",
    "    theta = theta - lr * delta_theta\n",
    "    bias -= lr * delta_bias\n",
    "    acc = np.mean(np.round(y_hat) == y_train)\n",
    "    print(f\"epoch: {i}, loss: {np.mean(loss_val)}, acc: {acc}\")\n",
    "\n",
    "    #保存参数模型\n",
    "    np.save('theta.npy',theta)\n",
    "    np.save('bias.npy',bias)\n"
   ]
  },
  {
   "cell_type": "code",
   "execution_count": 98,
   "metadata": {},
   "outputs": [
    {
     "name": "stdout",
     "output_type": "stream",
     "text": [
      "[[-1.8113225  -2.06512154  5.15274244  2.56902729]]\n",
      "-0.031281896565151346\n"
     ]
    }
   ],
   "source": [
    "#加载参数模型\n",
    "\n",
    "theta_1 = np.load('theta.npy')\n",
    "bias_1 = np.load('bias.npy')\n",
    "print(theta_1)\n",
    "print(bias_1)\n",
    "\n"
   ]
  },
  {
   "cell_type": "code",
   "execution_count": 69,
   "metadata": {},
   "outputs": [
    {
     "name": "stdout",
     "output_type": "stream",
     "text": [
      "y:1, predict:[1.]\n"
     ]
    }
   ],
   "source": [
    "#模型推理\n",
    "idx = np.random.randint(len(X_test)) # 随机选择一个测试样本索引\n",
    "x = X_test[idx]\n",
    "y = y_test[idx]\n",
    "\n",
    "predict = np.round(forward(x, theta, bias))\n",
    "print(f\"y:{y}, predict:{predict}\")"
   ]
  }
 ],
 "metadata": {
  "kernelspec": {
   "display_name": "py312",
   "language": "python",
   "name": "python3"
  },
  "language_info": {
   "codemirror_mode": {
    "name": "ipython",
    "version": 3
   },
   "file_extension": ".py",
   "mimetype": "text/x-python",
   "name": "python",
   "nbconvert_exporter": "python",
   "pygments_lexer": "ipython3",
   "version": "3.12.9"
  }
 },
 "nbformat": 4,
 "nbformat_minor": 2
}
