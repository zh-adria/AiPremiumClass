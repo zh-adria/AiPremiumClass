{
 "cells": [
  {
   "cell_type": "markdown",
   "metadata": {
    "vscode": {
     "languageId": "plaintext"
    }
   },
   "source": [
    "#### 尝试不同optimizer对模型进行训练，观察对比loss结果。"
   ]
  },
  {
   "cell_type": "code",
   "execution_count": 41,
   "metadata": {},
   "outputs": [],
   "source": [
    "import torch\n",
    "import torch.nn as nn\n",
    "from sklearn.datasets import fetch_olivetti_faces\n",
    "from sklearn.model_selection import train_test_split\n",
    "\n",
    "\n",
    "\n",
    "# 定义超参数\n",
    "LR = 1e-3\n",
    "epochs = 100 #训练轮次\n",
    "BATCH_SIZE = 10 \n",
    "\n",
    "\n",
    "# 1.生成随机样本\n",
    "X, y = fetch_olivetti_faces(data_home='./face_data',return_X_y=True,shuffle=True)\n",
    "\n",
    "# #拆分数据\n",
    "# #局部样本训练模型（过拟合模型）\n",
    "# #新样板数据模型表现不好（泛化能力差）\n",
    "X_train, X_test, y_train, y_test = train_test_split(X, y, test_size = 0.3)\n",
    "\n",
    "\n",
    "train_data_set = [(img,lbl) for img,lbl in zip(X_train, y_train)]\n",
    "test_data_set = [(img,lbl) for img,lbl in zip(X_test, y_test)]\n",
    "\n",
    "\n",
    "train_dl = torch.utils.data.DataLoader(train_data_set, batch_size=BATCH_SIZE, shuffle=True)\n",
    "test_dl = torch.utils.data.DataLoader(test_data_set, batch_size=BATCH_SIZE, shuffle=True)\n"
   ]
  },
  {
   "cell_type": "code",
   "execution_count": 42,
   "metadata": {},
   "outputs": [],
   "source": [
    "# 归一化&正则化模型\n",
    "model = nn.Sequential(\n",
    "    nn.Linear(4096, 256),  #输入层\n",
    "    nn.BatchNorm1d(256),       #归一化\n",
    "    nn.Dropout(p=0.2),      #正则化\n",
    "    nn.ReLU(),     #隐藏层\n",
    "    nn.Linear(256, 40)  #输出层\n",
    ")"
   ]
  },
  {
   "cell_type": "code",
   "execution_count": 43,
   "metadata": {},
   "outputs": [],
   "source": [
    "optimizers = [torch.optim.SGD(model.parameters(), lr=LR) , torch.optim.RAdam(model.parameters(), lr=LR)]\n",
    "\n",
    "def train_iter(epochs, model, trian_dl, lr, optim):\n",
    "    #损失函数和优化器\n",
    "    loss_fn = nn.CrossEntropyLoss() #交叉熵损失函数\n",
    "\n",
    "    #优化器（模型参数更新）\n",
    "    optimizers = optim\n",
    "\n",
    "    model.train()\n",
    "    for epoch in range(epochs):\n",
    "        for data, target in train_dl:\n",
    "            #前向运算\n",
    "            output = model(data.reshape(-1, 4096))\n",
    "            #计算损失\n",
    "            loss = loss_fn(output, target) #计算梯度\n",
    "            #反向传播\n",
    "            optim.zero_grad() #所有参数梯度清零\n",
    "            loss.backward()  #计算梯度（参数.grad）\n",
    "            optim.step() #更新参数\n",
    "    print(f'optimizers:{optimizers}, Epoch:{epoch}, Loss:{loss.item()}')\n",
    "\n",
    "    correct = 0\n",
    "    total = 0\n",
    "    model.eval()  #train(false)\n",
    "    with torch.no_grad(): #不计算梯度\n",
    "        for data, target in test_dl:\n",
    "            output = model(data.reshape(-1, 4096))\n",
    "            _, predicted = torch.max(output, 1) #返回第一个维度的最大值张量\n",
    "            total += target.size(0) #返回张量的样本量\n",
    "            correct += (predicted == target).sum().item()  \n",
    "    print(f'Accuracy: {correct/total*100}%')\n"
   ]
  },
  {
   "cell_type": "code",
   "execution_count": 44,
   "metadata": {},
   "outputs": [
    {
     "name": "stdout",
     "output_type": "stream",
     "text": [
      "optimizers:SGD (\n",
      "Parameter Group 0\n",
      "    dampening: 0\n",
      "    differentiable: False\n",
      "    foreach: None\n",
      "    fused: None\n",
      "    lr: 0.001\n",
      "    maximize: False\n",
      "    momentum: 0\n",
      "    nesterov: False\n",
      "    weight_decay: 0\n",
      "), Epoch:99, Loss:0.37744736671447754\n",
      "Accuracy: 95.0%\n",
      "optimizers:RAdam (\n",
      "Parameter Group 0\n",
      "    betas: (0.9, 0.999)\n",
      "    capturable: False\n",
      "    decoupled_weight_decay: False\n",
      "    differentiable: False\n",
      "    eps: 1e-08\n",
      "    foreach: None\n",
      "    lr: 0.001\n",
      "    maximize: False\n",
      "    weight_decay: 0\n",
      "), Epoch:99, Loss:0.011122578755021095\n",
      "Accuracy: 95.83333333333334%\n"
     ]
    }
   ],
   "source": [
    "\n",
    "train_hists = [train_iter(epochs, model, train_dl, lr=LR, optim=optim) for optim in optimizers]\n"
   ]
  }
 ],
 "metadata": {
  "kernelspec": {
   "display_name": "py312",
   "language": "python",
   "name": "python3"
  },
  "language_info": {
   "codemirror_mode": {
    "name": "ipython",
    "version": 3
   },
   "file_extension": ".py",
   "mimetype": "text/x-python",
   "name": "python",
   "nbconvert_exporter": "python",
   "pygments_lexer": "ipython3",
   "version": "3.12.9"
  }
 },
 "nbformat": 4,
 "nbformat_minor": 2
}
