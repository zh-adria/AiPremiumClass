{
 "cells": [
  {
   "cell_type": "markdown",
   "metadata": {},
   "source": [
    "#### 1. 搭建的神经网络，使用olivettiface数据集进行训练\n"
   ]
  },
  {
   "cell_type": "code",
   "execution_count": null,
   "metadata": {},
   "outputs": [],
   "source": [
    "import torch\n",
    "import torch.nn as nn\n",
    "from sklearn.datasets import fetch_olivetti_faces\n",
    "from sklearn.model_selection import train_test_split\n",
    "\n",
    "\n",
    "\n",
    "# 定义超参数\n",
    "LR = 1e-3\n",
    "epochs = 1000 #训练轮次\n",
    "BATCH_SIZE = 10  #每批10张\n",
    "\n",
    "\n",
    "# 1.生成随机样本\n",
    "X, y = fetch_olivetti_faces(data_home='./face_data',return_X_y=True,shuffle=True)\n",
    "\n",
    "# #拆分数据\n",
    "# #局部样本训练模型（过拟合模型）\n",
    "# #新样板数据模型表现不好（泛化能力差）\n",
    "X_train, X_test, y_train, y_test = train_test_split(X, y, test_size = 0.3)\n",
    "\n",
    "\n",
    "train_data_set = [(img,lbl) for img,lbl in zip(X_train, y_train)]\n",
    "test_data_set = [(img,lbl) for img,lbl in zip(X_test, y_test)]\n",
    "\n",
    "\n",
    "train_dl = torch.utils.data.DataLoader(train_data_set, batch_size=BATCH_SIZE, shuffle=True)\n",
    "test_dl = torch.utils.data.DataLoader(test_data_set, batch_size=BATCH_SIZE, shuffle=True)\n"
   ]
  },
  {
   "cell_type": "code",
   "execution_count": null,
   "metadata": {},
   "outputs": [],
   "source": [
    "# 模型\n",
    "model = nn.Sequential(\n",
    "    nn.Linear(4096, 256),  #输入层\n",
    "    nn.ReLU(),     #隐藏层\n",
    "    nn.Linear(256, 40)  #输出层\n",
    ")\n",
    "\n",
    "#损失函数和优化器\n",
    "loss_fn = nn.CrossEntropyLoss() #交叉熵损失函数\n",
    "\n",
    "#优化器（模型参数更新）\n",
    "optimizer = torch.optim.SGD(model.parameters(), lr=LR) #SGD优化器\n",
    "\n",
    "\n",
    "for epoch in range(epochs):\n",
    "    for data, target in train_dl:\n",
    "        #前向运算\n",
    "        output = model(data.reshape(-1, 4096))\n",
    "        #计算损失\n",
    "        loss = loss_fn(output, target) #计算梯度\n",
    "        #反向传播\n",
    "        optimizer.zero_grad() #所有参数梯度清零\n",
    "        loss.backward()  #计算梯度（参数.grad）\n",
    "        optimizer.step() #更新参数\n",
    "    print(f'Epoch:{epoch}, Loss:{loss.item()}')"
   ]
  },
  {
   "cell_type": "code",
   "execution_count": null,
   "metadata": {},
   "outputs": [],
   "source": [
    "# 测试\n",
    "correct = 0\n",
    "total = 0\n",
    "\n",
    "model.eval()  #train(false)\n",
    "with torch.no_grad(): #不计算梯度\n",
    "    for data, target in test_dl:\n",
    "        output = model(data.reshape(-1, 4096))\n",
    "        _, predicted = torch.max(output, 1) #返回第一个维度的最大值张量\n",
    "        total += target.size(0) #返回张量的样本量\n",
    "        correct += (predicted == target).sum().item()\n",
    "print(f'Accuracy: {correct/total*100}%')\n"
   ]
  }
 ],
 "metadata": {
  "language_info": {
   "name": "python"
  }
 },
 "nbformat": 4,
 "nbformat_minor": 2
}
