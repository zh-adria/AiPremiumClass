{
 "cells": [
  {
   "metadata": {
    "ExecuteTime": {
     "end_time": "2025-03-22T15:01:37.085780Z",
     "start_time": "2025-03-22T15:01:37.082143Z"
    }
   },
   "cell_type": "code",
   "source": [
    "from sklearn.datasets import fetch_olivetti_faces\n",
    "import matplotlib.pyplot as plt\n",
    "import torch\n",
    "import torch.nn as nn\n",
    "from torch_nn import TorchNN"
   ],
   "id": "e6d53795b20efdc6",
   "outputs": [],
   "execution_count": 3
  },
  {
   "metadata": {
    "ExecuteTime": {
     "end_time": "2025-03-22T15:04:10.588203Z",
     "start_time": "2025-03-22T15:04:10.543261Z"
    }
   },
   "cell_type": "code",
   "source": [
    "olivetti_faces = fetch_olivetti_faces(data_home=\"./data\", shuffle=True)\n",
    "images = torch.tensor(olivetti_faces.data, dtype=torch.float)\n",
    "targets = torch.tensor(olivetti_faces.target, dtype=torch.long)\n",
    "datasets = [(img, lbl) for img, lbl in zip(images, targets)]\n",
    "dl = torch.utils.data.DataLoader(datasets, batch_size=40, shuffle=True)"
   ],
   "id": "23206a780e23f9fb",
   "outputs": [],
   "execution_count": 8
  },
  {
   "metadata": {
    "ExecuteTime": {
     "end_time": "2025-03-22T15:04:24.338588Z",
     "start_time": "2025-03-22T15:04:24.335681Z"
    }
   },
   "cell_type": "code",
   "source": [
    "epochs = 120\n",
    "learning_rate = 0.01"
   ],
   "id": "10f2fb4ed42dcd84",
   "outputs": [],
   "execution_count": 10
  },
  {
   "metadata": {
    "ExecuteTime": {
     "end_time": "2025-03-22T15:04:25.298454Z",
     "start_time": "2025-03-22T15:04:25.293932Z"
    }
   },
   "cell_type": "code",
   "source": [
    "def train_model(epochs, model, lr):\n",
    "    train_losses = []\n",
    "    loss_fn = nn.CrossEntropyLoss()\n",
    "    optimizer = torch.optim.SGD(model.parameters(), lr=lr)\n",
    "    for epoch in range(epochs):\n",
    "        for img, target in dl:\n",
    "            out = model(img.reshape(-1, 64 * 64))\n",
    "            loss = loss_fn(out, target)\n",
    "            optimizer.zero_grad()\n",
    "            loss.backward()\n",
    "            optimizer.step()\n",
    "        print(f'epoch {epoch}, loss {loss.item()}')\n",
    "        train_losses.append(loss.item())\n",
    "    return train_losses"
   ],
   "id": "cd26680336066796",
   "outputs": [],
   "execution_count": 11
  },
  {
   "metadata": {
    "ExecuteTime": {
     "end_time": "2025-03-22T15:04:30.070811Z",
     "start_time": "2025-03-22T15:04:26.715779Z"
    }
   },
   "cell_type": "code",
   "source": [
    "model = TorchNN()\n",
    "train_losses = train_model(epochs, model, learning_rate)"
   ],
   "id": "7368314ae189eaee",
   "outputs": [
    {
     "name": "stdout",
     "output_type": "stream",
     "text": [
      "epoch 0, loss 3.698437452316284\n",
      "epoch 1, loss 3.6788926124572754\n",
      "epoch 2, loss 3.6748766899108887\n",
      "epoch 3, loss 3.6873154640197754\n",
      "epoch 4, loss 3.667856216430664\n",
      "epoch 5, loss 3.681060791015625\n",
      "epoch 6, loss 3.6677958965301514\n",
      "epoch 7, loss 3.6453604698181152\n",
      "epoch 8, loss 3.6679911613464355\n",
      "epoch 9, loss 3.6439671516418457\n",
      "epoch 10, loss 3.651737689971924\n",
      "epoch 11, loss 3.6529197692871094\n",
      "epoch 12, loss 3.6623146533966064\n",
      "epoch 13, loss 3.66900897026062\n",
      "epoch 14, loss 3.6503307819366455\n",
      "epoch 15, loss 3.651817798614502\n",
      "epoch 16, loss 3.6240909099578857\n",
      "epoch 17, loss 3.6408047676086426\n",
      "epoch 18, loss 3.6262824535369873\n",
      "epoch 19, loss 3.623812198638916\n",
      "epoch 20, loss 3.6080474853515625\n",
      "epoch 21, loss 3.6280951499938965\n",
      "epoch 22, loss 3.6263644695281982\n",
      "epoch 23, loss 3.607713222503662\n",
      "epoch 24, loss 3.612790584564209\n",
      "epoch 25, loss 3.6207382678985596\n",
      "epoch 26, loss 3.606698513031006\n",
      "epoch 27, loss 3.578795909881592\n",
      "epoch 28, loss 3.598860263824463\n",
      "epoch 29, loss 3.588855028152466\n",
      "epoch 30, loss 3.5794403553009033\n",
      "epoch 31, loss 3.5789401531219482\n",
      "epoch 32, loss 3.5690321922302246\n",
      "epoch 33, loss 3.5479254722595215\n",
      "epoch 34, loss 3.56870698928833\n",
      "epoch 35, loss 3.5544731616973877\n",
      "epoch 36, loss 3.527024745941162\n",
      "epoch 37, loss 3.529815673828125\n",
      "epoch 38, loss 3.5109455585479736\n",
      "epoch 39, loss 3.503737688064575\n",
      "epoch 40, loss 3.511970043182373\n",
      "epoch 41, loss 3.495363712310791\n",
      "epoch 42, loss 3.505844831466675\n",
      "epoch 43, loss 3.4874234199523926\n",
      "epoch 44, loss 3.452009677886963\n",
      "epoch 45, loss 3.489286422729492\n",
      "epoch 46, loss 3.434575319290161\n",
      "epoch 47, loss 3.439835786819458\n",
      "epoch 48, loss 3.423449754714966\n",
      "epoch 49, loss 3.398369550704956\n",
      "epoch 50, loss 3.3527703285217285\n",
      "epoch 51, loss 3.331942319869995\n",
      "epoch 52, loss 3.326625347137451\n",
      "epoch 53, loss 3.3075428009033203\n",
      "epoch 54, loss 3.323512315750122\n",
      "epoch 55, loss 3.2799839973449707\n",
      "epoch 56, loss 3.2568881511688232\n",
      "epoch 57, loss 3.294773817062378\n",
      "epoch 58, loss 3.206035614013672\n",
      "epoch 59, loss 3.3195900917053223\n",
      "epoch 60, loss 3.312967300415039\n",
      "epoch 61, loss 3.118455410003662\n",
      "epoch 62, loss 3.2100632190704346\n",
      "epoch 63, loss 3.0807557106018066\n",
      "epoch 64, loss 3.0523669719696045\n",
      "epoch 65, loss 3.0249898433685303\n",
      "epoch 66, loss 3.0142416954040527\n",
      "epoch 67, loss 3.096895933151245\n",
      "epoch 68, loss 2.931210517883301\n",
      "epoch 69, loss 3.0541281700134277\n",
      "epoch 70, loss 2.9289581775665283\n",
      "epoch 71, loss 2.709965705871582\n",
      "epoch 72, loss 2.8532049655914307\n",
      "epoch 73, loss 2.902480363845825\n",
      "epoch 74, loss 2.8909687995910645\n",
      "epoch 75, loss 2.8675408363342285\n",
      "epoch 76, loss 2.686779499053955\n",
      "epoch 77, loss 2.759678602218628\n",
      "epoch 78, loss 2.6735992431640625\n",
      "epoch 79, loss 2.640847682952881\n",
      "epoch 80, loss 2.4823296070098877\n",
      "epoch 81, loss 2.702051877975464\n",
      "epoch 82, loss 2.556819200515747\n",
      "epoch 83, loss 2.502458095550537\n",
      "epoch 84, loss 2.3513686656951904\n",
      "epoch 85, loss 2.4907095432281494\n",
      "epoch 86, loss 2.3386943340301514\n",
      "epoch 87, loss 2.6353814601898193\n",
      "epoch 88, loss 2.3663392066955566\n",
      "epoch 89, loss 2.382251501083374\n",
      "epoch 90, loss 2.0459933280944824\n",
      "epoch 91, loss 2.1323482990264893\n",
      "epoch 92, loss 2.1544532775878906\n",
      "epoch 93, loss 2.136209726333618\n",
      "epoch 94, loss 2.0668113231658936\n",
      "epoch 95, loss 2.1368207931518555\n",
      "epoch 96, loss 1.9476606845855713\n",
      "epoch 97, loss 1.8855425119400024\n",
      "epoch 98, loss 2.041602611541748\n",
      "epoch 99, loss 1.9951931238174438\n",
      "epoch 100, loss 1.9498649835586548\n",
      "epoch 101, loss 1.6746467351913452\n",
      "epoch 102, loss 1.9498412609100342\n",
      "epoch 103, loss 1.7182592153549194\n",
      "epoch 104, loss 1.855987787246704\n",
      "epoch 105, loss 1.3792176246643066\n",
      "epoch 106, loss 1.7522251605987549\n",
      "epoch 107, loss 1.6538978815078735\n",
      "epoch 108, loss 1.5050005912780762\n",
      "epoch 109, loss 1.5306675434112549\n",
      "epoch 110, loss 1.5618597269058228\n",
      "epoch 111, loss 1.4234875440597534\n",
      "epoch 112, loss 1.6530706882476807\n",
      "epoch 113, loss 1.3843398094177246\n",
      "epoch 114, loss 1.2716399431228638\n",
      "epoch 115, loss 1.2749642133712769\n",
      "epoch 116, loss 1.477634310722351\n",
      "epoch 117, loss 1.1826562881469727\n",
      "epoch 118, loss 1.3478679656982422\n",
      "epoch 119, loss 1.1872124671936035\n"
     ]
    }
   ],
   "execution_count": 12
  }
 ],
 "metadata": {
  "kernelspec": {
   "display_name": "Python 3",
   "language": "python",
   "name": "python3"
  },
  "language_info": {
   "codemirror_mode": {
    "name": "ipython",
    "version": 2
   },
   "file_extension": ".py",
   "mimetype": "text/x-python",
   "name": "python",
   "nbconvert_exporter": "python",
   "pygments_lexer": "ipython2",
   "version": "2.7.6"
  }
 },
 "nbformat": 4,
 "nbformat_minor": 5
}
