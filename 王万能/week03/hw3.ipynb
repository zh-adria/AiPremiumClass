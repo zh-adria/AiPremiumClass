{
 "cells": [
  {
   "cell_type": "code",
   "id": "initial_id",
   "metadata": {
    "collapsed": true,
    "ExecuteTime": {
     "end_time": "2025-03-13T15:07:55.669863Z",
     "start_time": "2025-03-13T15:07:55.667236Z"
    }
   },
   "source": [
    "from torchvision import datasets\n",
    "from torchvision.transforms import ToTensor\n",
    "from torch.utils.data import DataLoader\n",
    "import torch.nn as nn\n",
    "import torch"
   ],
   "outputs": [],
   "execution_count": 17
  },
  {
   "metadata": {
    "ExecuteTime": {
     "end_time": "2025-03-13T15:07:57.136071Z",
     "start_time": "2025-03-13T15:07:57.089981Z"
    }
   },
   "cell_type": "code",
   "source": [
    "train_data = datasets.MNIST(root='./data', train=True, download=True, transform=ToTensor())\n",
    "test_data = datasets.MNIST(root='./data', train=False, download=False, transform=ToTensor())"
   ],
   "id": "83b3edcedfd4516e",
   "outputs": [],
   "execution_count": 18
  },
  {
   "metadata": {
    "ExecuteTime": {
     "end_time": "2025-03-13T15:19:38.789581Z",
     "start_time": "2025-03-13T15:19:38.784335Z"
    }
   },
   "cell_type": "code",
   "source": [
    "LR=1e-3\n",
    "BATCH_SIZE = [64,128,256,512,1024]\n",
    "epochs = 40"
   ],
   "id": "3002e30d5852f2d6",
   "outputs": [],
   "execution_count": 28
  },
  {
   "metadata": {
    "ExecuteTime": {
     "end_time": "2025-03-13T15:19:51.466904Z",
     "start_time": "2025-03-13T15:19:51.461970Z"
    }
   },
   "cell_type": "code",
   "source": [
    "model = nn.Sequential(\n",
    "    nn.Linear(28*28, 64),\n",
    "    nn.Sigmoid(),\n",
    "    nn.Linear(64, 10)\n",
    ")\n",
    "device = \"cuda\" if not torch.cuda.is_available() else \"cpu\"\n",
    "model = model.to(device)\n",
    "loss_fn = nn.CrossEntropyLoss()\n",
    "optimizer = torch.optim.SGD(model.parameters(), lr=LR)"
   ],
   "id": "582aff3d24ab3710",
   "outputs": [],
   "execution_count": 29
  },
  {
   "metadata": {},
   "cell_type": "code",
   "outputs": [],
   "execution_count": null,
   "source": "",
   "id": "c060d5589f094822"
  },
  {
   "metadata": {
    "ExecuteTime": {
     "end_time": "2025-03-13T15:49:31.246227Z",
     "start_time": "2025-03-13T15:19:53.999449Z"
    }
   },
   "cell_type": "code",
   "source": [
    "for batch_size in BATCH_SIZE:\n",
    "    train_dataloader = DataLoader(train_data, batch_size=batch_size, shuffle=True)\n",
    "    test_dataloader = DataLoader(test_data, batch_size=batch_size, shuffle=True)\n",
    "    for epoch in range(epochs):\n",
    "        for data,target in train_dataloader:\n",
    "            data, target = data.to(device), target.to(device)\n",
    "            predict = model(data.reshape(data.shape[0], -1))\n",
    "            loss = loss_fn(predict, target)\n",
    "            optimizer.zero_grad()\n",
    "            loss.backward()\n",
    "            optimizer.step()\n",
    "    print(f'batch_size:{batch_size} Epoch:{epoch} Loss: {loss.item()}')"
   ],
   "id": "65c3b8850d7d31cf",
   "outputs": [
    {
     "name": "stdout",
     "output_type": "stream",
     "text": [
      "batch_size:64 Epoch:39 Loss: 0.7040919065475464\n",
      "batch_size:128 Epoch:39 Loss: 0.5000953078269958\n",
      "batch_size:256 Epoch:39 Loss: 0.586323082447052\n",
      "batch_size:512 Epoch:39 Loss: 0.6334527134895325\n",
      "batch_size:1024 Epoch:39 Loss: 0.4597504734992981\n"
     ]
    }
   ],
   "execution_count": 30
  },
  {
   "metadata": {
    "ExecuteTime": {
     "end_time": "2025-03-13T15:49:50.228553Z",
     "start_time": "2025-03-13T15:49:47.841085Z"
    }
   },
   "cell_type": "code",
   "source": [
    "# 测试\n",
    "for batch_size in BATCH_SIZE:\n",
    "    correct = 0\n",
    "    total = 0\n",
    "    test_dataloader = DataLoader(test_data, batch_size=batch_size, shuffle=True)\n",
    "    with torch.no_grad():\n",
    "        for data,target in test_dataloader:\n",
    "            output = model(data.reshape(data.shape[0], -1))\n",
    "            _,predict = torch.max(output, 1)\n",
    "            total += target.size(0)\n",
    "            correct += (predict == target).sum().item()\n",
    "    print(f'batch_size : {batch_size} Accuracy: {100 * correct / total:.2f}%')"
   ],
   "id": "a8c58d09faf4100e",
   "outputs": [
    {
     "name": "stdout",
     "output_type": "stream",
     "text": [
      "batch_size : 64 Accuracy: 88.21%\n",
      "batch_size : 128 Accuracy: 88.21%\n",
      "batch_size : 256 Accuracy: 88.21%\n",
      "batch_size : 512 Accuracy: 88.21%\n",
      "batch_size : 1024 Accuracy: 88.21%\n"
     ]
    }
   ],
   "execution_count": 31
  }
 ],
 "metadata": {
  "kernelspec": {
   "display_name": "Python 3",
   "language": "python",
   "name": "python3"
  },
  "language_info": {
   "codemirror_mode": {
    "name": "ipython",
    "version": 2
   },
   "file_extension": ".py",
   "mimetype": "text/x-python",
   "name": "python",
   "nbconvert_exporter": "python",
   "pygments_lexer": "ipython2",
   "version": "2.7.6"
  }
 },
 "nbformat": 4,
 "nbformat_minor": 5
}
