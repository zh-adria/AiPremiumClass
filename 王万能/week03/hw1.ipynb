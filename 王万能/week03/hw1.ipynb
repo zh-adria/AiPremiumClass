{
 "cells": [
  {
   "cell_type": "code",
   "id": "initial_id",
   "metadata": {
    "collapsed": true,
    "ExecuteTime": {
     "end_time": "2025-03-13T14:43:34.765011Z",
     "start_time": "2025-03-13T14:43:32.374908Z"
    }
   },
   "source": [
    "from torchvision import datasets\n",
    "from torchvision.transforms import ToTensor\n",
    "from torch.utils.data import DataLoader\n",
    "import torch.nn as nn\n",
    "import torch"
   ],
   "outputs": [],
   "execution_count": 2
  },
  {
   "metadata": {
    "ExecuteTime": {
     "end_time": "2025-03-13T14:47:42.834690Z",
     "start_time": "2025-03-13T14:47:42.797004Z"
    }
   },
   "cell_type": "code",
   "source": [
    "train_data = datasets.MNIST(root='./data', train=True, download=True, transform=ToTensor())\n",
    "test_data = datasets.MNIST(root='./data', train=False, download=False, transform=ToTensor())"
   ],
   "id": "83b3edcedfd4516e",
   "outputs": [],
   "execution_count": 4
  },
  {
   "metadata": {
    "ExecuteTime": {
     "end_time": "2025-03-13T14:59:44.680456Z",
     "start_time": "2025-03-13T14:59:44.677118Z"
    }
   },
   "cell_type": "code",
   "source": [
    "LR=1e-3\n",
    "BATCH_SIZE = 64\n",
    "epochs = 20"
   ],
   "id": "3002e30d5852f2d6",
   "outputs": [],
   "execution_count": 28
  },
  {
   "metadata": {
    "ExecuteTime": {
     "end_time": "2025-03-13T14:48:44.656011Z",
     "start_time": "2025-03-13T14:48:44.651981Z"
    }
   },
   "cell_type": "code",
   "source": [
    "train_dataloader = DataLoader(train_data, batch_size=BATCH_SIZE, shuffle=True)\n",
    "test_dataloader = DataLoader(test_data, batch_size=BATCH_SIZE, shuffle=True)\n"
   ],
   "id": "65c3b8850d7d31cf",
   "outputs": [],
   "execution_count": 7
  },
  {
   "metadata": {
    "ExecuteTime": {
     "end_time": "2025-03-13T14:51:41.570062Z",
     "start_time": "2025-03-13T14:51:41.537068Z"
    }
   },
   "cell_type": "code",
   "source": [
    "train_data1 = datasets.MNIST(root='./data', train=True, download=True)\n",
    "print(train_data1[1])"
   ],
   "id": "a4e080c59bffee6d",
   "outputs": [
    {
     "name": "stdout",
     "output_type": "stream",
     "text": [
      "(<PIL.Image.Image image mode=L size=28x28 at 0x1ED2199ABA0>, 0)\n"
     ]
    }
   ],
   "execution_count": 18
  },
  {
   "metadata": {
    "ExecuteTime": {
     "end_time": "2025-03-13T14:53:56.084041Z",
     "start_time": "2025-03-13T14:52:23.271253Z"
    }
   },
   "cell_type": "code",
   "source": [
    "# 定义模型\n",
    "model = nn.Sequential(\n",
    "    nn.Linear(28*28, 64),\n",
    "    nn.Sigmoid(),\n",
    "    nn.Linear(64, 10)\n",
    ")\n",
    "\n",
    "loss_fn = nn.CrossEntropyLoss()\n",
    "optimizer = torch.optim.SGD(model.parameters(), lr=LR)\n",
    "for epoch in range(epochs):\n",
    "    for data,target in train_dataloader:\n",
    "        predict = model(data.reshape(data.shape[0], -1))\n",
    "        loss = loss_fn(predict, target)\n",
    "        optimizer.zero_grad()\n",
    "        loss.backward()\n",
    "        optimizer.step()\n",
    "    print(f'Epoch:{epoch} Loss: {loss.item()}')"
   ],
   "id": "ba198743e2a3ec1",
   "outputs": [
    {
     "name": "stdout",
     "output_type": "stream",
     "text": [
      "Epoch:0 Loss: 2.283726692199707\n",
      "Epoch:1 Loss: 2.257652997970581\n",
      "Epoch:2 Loss: 2.2492852210998535\n",
      "Epoch:3 Loss: 2.218611240386963\n",
      "Epoch:4 Loss: 2.1589267253875732\n",
      "Epoch:5 Loss: 2.173550605773926\n",
      "Epoch:6 Loss: 2.0992841720581055\n",
      "Epoch:7 Loss: 2.052844524383545\n",
      "Epoch:8 Loss: 1.9702410697937012\n",
      "Epoch:9 Loss: 1.9044820070266724\n",
      "Epoch:10 Loss: 1.9027129411697388\n",
      "Epoch:11 Loss: 1.815340518951416\n",
      "Epoch:12 Loss: 1.8991639614105225\n",
      "Epoch:13 Loss: 1.8385186195373535\n",
      "Epoch:14 Loss: 1.6532789468765259\n",
      "Epoch:15 Loss: 1.6879451274871826\n",
      "Epoch:16 Loss: 1.507694959640503\n",
      "Epoch:17 Loss: 1.5603489875793457\n",
      "Epoch:18 Loss: 1.3563910722732544\n",
      "Epoch:19 Loss: 1.370925784111023\n"
     ]
    }
   ],
   "execution_count": 20
  },
  {
   "metadata": {
    "ExecuteTime": {
     "end_time": "2025-03-13T14:59:32.403482Z",
     "start_time": "2025-03-13T14:59:31.916772Z"
    }
   },
   "cell_type": "code",
   "source": [
    "# 测试\n",
    "correct = 0\n",
    "total = 0\n",
    "with torch.no_grad():\n",
    "    for data,target in test_dataloader:\n",
    "        output = model(data.reshape(data.shape[0], -1))\n",
    "        _,predict = torch.max(output, 1)\n",
    "        total += target.size(0)\n",
    "        correct += (predict == target).sum().item()\n",
    "    print(f'Accuracy: {100 * correct / total:.2f}%')\n"
   ],
   "id": "bc0f57a012f9c261",
   "outputs": [
    {
     "name": "stdout",
     "output_type": "stream",
     "text": [
      "Accuracy: 74.00%\n"
     ]
    }
   ],
   "execution_count": 27
  }
 ],
 "metadata": {
  "kernelspec": {
   "display_name": "Python 3",
   "language": "python",
   "name": "python3"
  },
  "language_info": {
   "codemirror_mode": {
    "name": "ipython",
    "version": 2
   },
   "file_extension": ".py",
   "mimetype": "text/x-python",
   "name": "python",
   "nbconvert_exporter": "python",
   "pygments_lexer": "ipython2",
   "version": "2.7.6"
  }
 },
 "nbformat": 4,
 "nbformat_minor": 5
}
