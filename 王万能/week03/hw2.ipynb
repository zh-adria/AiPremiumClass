{
 "cells": [
  {
   "cell_type": "code",
   "id": "initial_id",
   "metadata": {
    "collapsed": true,
    "ExecuteTime": {
     "end_time": "2025-03-14T14:40:41.104604Z",
     "start_time": "2025-03-14T14:40:38.462083Z"
    }
   },
   "source": [
    "from torchvision import datasets\n",
    "from torchvision.transforms import ToTensor\n",
    "from torch.utils.data import DataLoader\n",
    "import torch.nn as nn\n",
    "import torch"
   ],
   "outputs": [],
   "execution_count": 3
  },
  {
   "metadata": {
    "ExecuteTime": {
     "end_time": "2025-03-14T14:40:44.070564Z",
     "start_time": "2025-03-14T14:40:43.986577Z"
    }
   },
   "cell_type": "code",
   "source": [
    "train_data = datasets.MNIST(root='./data', train=True, download=True, transform=ToTensor())\n",
    "test_data = datasets.MNIST(root='./data', train=False, download=False, transform=ToTensor())"
   ],
   "id": "83b3edcedfd4516e",
   "outputs": [],
   "execution_count": 4
  },
  {
   "metadata": {
    "ExecuteTime": {
     "end_time": "2025-03-14T14:59:21.967486Z",
     "start_time": "2025-03-14T14:59:21.964553Z"
    }
   },
   "cell_type": "code",
   "source": [
    "LR=0.01\n",
    "BATCH_SIZE = 128\n",
    "epochs = 60"
   ],
   "id": "3002e30d5852f2d6",
   "outputs": [],
   "execution_count": 23
  },
  {
   "metadata": {
    "ExecuteTime": {
     "end_time": "2025-03-14T14:40:48.638999Z",
     "start_time": "2025-03-14T14:40:48.636040Z"
    }
   },
   "cell_type": "code",
   "source": [
    "train_dataloader = DataLoader(train_data, batch_size=BATCH_SIZE, shuffle=True)\n",
    "test_dataloader = DataLoader(test_data, batch_size=BATCH_SIZE, shuffle=True)\n"
   ],
   "id": "65c3b8850d7d31cf",
   "outputs": [],
   "execution_count": 6
  },
  {
   "metadata": {
    "ExecuteTime": {
     "end_time": "2025-03-13T14:51:41.570062Z",
     "start_time": "2025-03-13T14:51:41.537068Z"
    }
   },
   "cell_type": "code",
   "source": [
    "train_data1 = datasets.MNIST(root='./data', train=True, download=True)\n",
    "print(train_data1[1])"
   ],
   "id": "a4e080c59bffee6d",
   "outputs": [
    {
     "name": "stdout",
     "output_type": "stream",
     "text": [
      "(<PIL.Image.Image image mode=L size=28x28 at 0x1ED2199ABA0>, 0)\n"
     ]
    }
   ],
   "execution_count": 18
  },
  {
   "metadata": {
    "ExecuteTime": {
     "end_time": "2025-03-14T15:03:29.183204Z",
     "start_time": "2025-03-14T14:59:30.811995Z"
    }
   },
   "cell_type": "code",
   "source": [
    "# 定义模型\n",
    "model = nn.Sequential(\n",
    "    nn.Linear(28*28, 64),\n",
    "    nn.ReLU(),\n",
    "    nn.Linear(64, 64),\n",
    "    nn.Sigmoid(),\n",
    "    nn.Linear(64, 10),\n",
    ")\n",
    "\n",
    "loss_fn = nn.CrossEntropyLoss()\n",
    "optimizer = torch.optim.SGD(model.parameters(), lr=LR)\n",
    "for epoch in range(epochs):\n",
    "    for data,target in train_dataloader:\n",
    "        predict = model(data.reshape(data.shape[0], -1))\n",
    "        loss = loss_fn(predict, target)\n",
    "        optimizer.zero_grad()\n",
    "        loss.backward()\n",
    "        optimizer.step()\n",
    "    print(f'Epoch:{epoch} Loss: {loss.item()}')"
   ],
   "id": "ba198743e2a3ec1",
   "outputs": [
    {
     "name": "stdout",
     "output_type": "stream",
     "text": [
      "Epoch:0 Loss: 2.2039196491241455\n",
      "Epoch:1 Loss: 1.7996997833251953\n",
      "Epoch:2 Loss: 1.2025959491729736\n",
      "Epoch:3 Loss: 0.8626178503036499\n",
      "Epoch:4 Loss: 0.6236766576766968\n",
      "Epoch:5 Loss: 0.4649280607700348\n",
      "Epoch:6 Loss: 0.37801504135131836\n",
      "Epoch:7 Loss: 0.49283862113952637\n",
      "Epoch:8 Loss: 0.21768394112586975\n",
      "Epoch:9 Loss: 0.42302823066711426\n",
      "Epoch:10 Loss: 0.5250106453895569\n",
      "Epoch:11 Loss: 0.25007736682891846\n",
      "Epoch:12 Loss: 0.40013906359672546\n",
      "Epoch:13 Loss: 0.322744220495224\n",
      "Epoch:14 Loss: 0.2036755532026291\n",
      "Epoch:15 Loss: 0.24299101531505585\n",
      "Epoch:16 Loss: 0.3206779658794403\n",
      "Epoch:17 Loss: 0.1413886398077011\n",
      "Epoch:18 Loss: 0.4033753275871277\n",
      "Epoch:19 Loss: 0.21080411970615387\n",
      "Epoch:20 Loss: 0.22059078514575958\n",
      "Epoch:21 Loss: 0.34660130739212036\n",
      "Epoch:22 Loss: 0.2959798574447632\n",
      "Epoch:23 Loss: 0.27858468890190125\n",
      "Epoch:24 Loss: 0.261096715927124\n",
      "Epoch:25 Loss: 0.5505657196044922\n",
      "Epoch:26 Loss: 0.12790700793266296\n",
      "Epoch:27 Loss: 0.33429914712905884\n",
      "Epoch:28 Loss: 0.30399012565612793\n",
      "Epoch:29 Loss: 0.12665271759033203\n",
      "Epoch:30 Loss: 0.21603477001190186\n",
      "Epoch:31 Loss: 0.47843247652053833\n",
      "Epoch:32 Loss: 0.21754559874534607\n",
      "Epoch:33 Loss: 0.12414771318435669\n",
      "Epoch:34 Loss: 0.06628937274217606\n",
      "Epoch:35 Loss: 0.09061682224273682\n",
      "Epoch:36 Loss: 0.040769122540950775\n",
      "Epoch:37 Loss: 0.15998287498950958\n",
      "Epoch:38 Loss: 0.17646420001983643\n",
      "Epoch:39 Loss: 0.25489968061447144\n",
      "Epoch:40 Loss: 0.13362035155296326\n",
      "Epoch:41 Loss: 0.06410804390907288\n",
      "Epoch:42 Loss: 0.0832081288099289\n",
      "Epoch:43 Loss: 0.11194700747728348\n",
      "Epoch:44 Loss: 0.2076103687286377\n",
      "Epoch:45 Loss: 0.17828823626041412\n",
      "Epoch:46 Loss: 0.0723288282752037\n",
      "Epoch:47 Loss: 0.10962036997079849\n",
      "Epoch:48 Loss: 0.03483591228723526\n",
      "Epoch:49 Loss: 0.04490966349840164\n",
      "Epoch:50 Loss: 0.06186285242438316\n",
      "Epoch:51 Loss: 0.11625268310308456\n",
      "Epoch:52 Loss: 0.15077483654022217\n",
      "Epoch:53 Loss: 0.07296725362539291\n",
      "Epoch:54 Loss: 0.06123269349336624\n",
      "Epoch:55 Loss: 0.23150019347667694\n",
      "Epoch:56 Loss: 0.24325715005397797\n",
      "Epoch:57 Loss: 0.15920229256153107\n",
      "Epoch:58 Loss: 0.15873542428016663\n",
      "Epoch:59 Loss: 0.04909149557352066\n"
     ]
    }
   ],
   "execution_count": 24
  },
  {
   "metadata": {
    "ExecuteTime": {
     "end_time": "2025-03-15T00:33:26.590109Z",
     "start_time": "2025-03-15T00:33:26.084489Z"
    }
   },
   "cell_type": "code",
   "source": [
    "# 测试\n",
    "correct = 0\n",
    "total = 0\n",
    "with torch.no_grad():\n",
    "    for data,target in test_dataloader:\n",
    "        output = model(data.reshape(data.shape[0], -1))\n",
    "        _,predict = torch.max(output, 1)\n",
    "        total += target.size(0)\n",
    "        correct += (predict == target).sum().item()\n",
    "    print(f'Accuracy: {100 * correct / total:.2f}%')\n"
   ],
   "id": "bc0f57a012f9c261",
   "outputs": [
    {
     "name": "stdout",
     "output_type": "stream",
     "text": [
      "Accuracy: 95.72%\n"
     ]
    }
   ],
   "execution_count": 25
  }
 ],
 "metadata": {
  "kernelspec": {
   "display_name": "Python 3",
   "language": "python",
   "name": "python3"
  },
  "language_info": {
   "codemirror_mode": {
    "name": "ipython",
    "version": 2
   },
   "file_extension": ".py",
   "mimetype": "text/x-python",
   "name": "python",
   "nbconvert_exporter": "python",
   "pygments_lexer": "ipython2",
   "version": "2.7.6"
  }
 },
 "nbformat": 4,
 "nbformat_minor": 5
}
