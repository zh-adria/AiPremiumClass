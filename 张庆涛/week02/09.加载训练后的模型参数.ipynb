{
 "cells": [
  {
   "cell_type": "code",
   "execution_count": null,
   "metadata": {},
   "outputs": [
    {
     "name": "stdout",
     "output_type": "stream",
     "text": [
      "真实值: 0\n",
      "预测值: [0. 0. 0. 0. 0. 0. 0. 0. 0. 0. 0. 0. 0. 0. 0. 0. 0. 0. 0. 0. 0. 0. 0. 0.\n",
      " 0. 0. 0. 0. 0. 0.]\n"
     ]
    }
   ],
   "source": [
    "from sklearn.datasets import load_iris\n",
    "import numpy as np\n",
    "X,y = load_iris(return_X_y=True)\n",
    "X = X[:100]  # 取前100个数据\n",
    "y = y[:100]\n",
    "model_params = np.load(\"model_params.npz\") # 加载训练后的模型参数\n",
    "theta = model_params[\"theta\"]\n",
    "bias = model_params[\"bias\"]\n",
    "# print(\"theta:\",theta)\n",
    "# print(\"bias:\",bias)\n",
    "\n",
    "\n",
    "def forward(X,theta,bias):\n",
    "  # 前向传播 线性回归\n",
    "  z = np.dot(theta,X.T) + bias\n",
    "  # sigmoid 函数\n",
    "  y_hat = 1 / (1 + np.exp(-z))\n",
    "  return y_hat\n",
    "\n",
    "\n",
    "# 随机选择一个测试样本\n",
    "idx = np.random.randint(len(X))\n",
    "x = X[idx]\n",
    "y_true = y[idx]\n",
    "\n",
    "# y_pre = forward(x,theta,bias)#预测值\n",
    "predict = np.round(forward(x, theta, bias))\n",
    "print(\"真实值:\",y_true)\n",
    "print(\"预测值:\",predict)\n"
   ]
  }
 ],
 "metadata": {
  "kernelspec": {
   "display_name": "py3.12",
   "language": "python",
   "name": "python3"
  },
  "language_info": {
   "codemirror_mode": {
    "name": "ipython",
    "version": 3
   },
   "file_extension": ".py",
   "mimetype": "text/x-python",
   "name": "python",
   "nbconvert_exporter": "python",
   "pygments_lexer": "ipython3",
   "version": "3.12.8"
  }
 },
 "nbformat": 4,
 "nbformat_minor": 2
}
