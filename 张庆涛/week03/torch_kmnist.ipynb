{
 "cells": [
  {
   "cell_type": "code",
   "execution_count": null,
   "metadata": {},
   "outputs": [],
   "source": [
    "## 导入必要包\n",
    "import torch\n",
    "import torch.nn as nn\n",
    "import torch.optim as optim \n",
    "from torchvision.transforms.v2 import ToTensor  # 将数据转换为tensor\n",
    "from torchvision.datasets import KMNIST\n",
    "from torch.utils.data import DataLoader # 数据集加载器"
   ]
  },
  {
   "cell_type": "code",
   "execution_count": 159,
   "metadata": {},
   "outputs": [],
   "source": [
    "# 设置参数\n",
    "BATCH_SIZE = 128\n",
    "LR = 3e-2\n",
    "# 轮询次数\n",
    "epochs = 10"
   ]
  },
  {
   "cell_type": "code",
   "execution_count": null,
   "metadata": {},
   "outputs": [],
   "source": [
    "## 数据集的加载\n",
    "# 数据集加载\n",
    "train_data = KMNIST(root='./kmnist_data', train=True, download=True,transform=ToTensor() )\n",
    "test_data = KMNIST(root='./kmnist_data', train=False, download=True,transform=ToTensor())\n",
    "\n"
   ]
  },
  {
   "cell_type": "code",
   "execution_count": 164,
   "metadata": {},
   "outputs": [],
   "source": [
    "train_dl = DataLoader(train_data,batch_size=BATCH_SIZE,shuffle=True) # shuffle=True 打乱数据\n",
    "test_dl = DataLoader(test_data,batch_size=BATCH_SIZE,shuffle=True) # shuffle=True 打乱数据  "
   ]
  },
  {
   "cell_type": "code",
   "execution_count": 160,
   "metadata": {},
   "outputs": [
    {
     "name": "stdout",
     "output_type": "stream",
     "text": [
      "epoch:0,loss:1.0532050132751465\n",
      "epoch:1,loss:0.6653103232383728\n",
      "epoch:2,loss:0.5593573451042175\n",
      "epoch:3,loss:0.49068906903266907\n",
      "epoch:4,loss:0.3427845537662506\n",
      "epoch:5,loss:0.3084276616573334\n",
      "epoch:6,loss:0.1818365454673767\n",
      "epoch:7,loss:0.20330004394054413\n",
      "epoch:8,loss:0.255153089761734\n",
      "epoch:9,loss:0.17091763019561768\n"
     ]
    }
   ],
   "source": [
    "# 定义模型\n",
    "model = nn.Sequential(\n",
    "  nn.Linear(28*28, 512),\n",
    "  nn.ReLU(),\n",
    "  nn.Linear(512, 128),\n",
    "  nn.ReLU(),\n",
    "  nn.Linear(128, 10),\n",
    ")\n",
    "# 创建损失函数和优化器\n",
    "loss_fn = nn.CrossEntropyLoss()\n",
    "optimizer = optim.SGD(model.parameters(), lr=LR)\n",
    "for epoch in range(epochs):\n",
    "  # 训练模型\n",
    "  for data,target in train_dl:\n",
    "      # 向前运算\n",
    "      output = model(data.reshape(-1,784)) #\n",
    "      # 计算损失\n",
    "      loss = loss_fn(output,target)\n",
    "      # 清空所有梯度\n",
    "      optimizer.zero_grad()\n",
    "      # 反向传播\n",
    "      loss.backward()\n",
    "      # 更新参数\n",
    "      optimizer.step()\n",
    "  print('epoch:{},loss:{}'.format(epoch,loss.item()))\n",
    "    "
   ]
  },
  {
   "cell_type": "code",
   "execution_count": 165,
   "metadata": {},
   "outputs": [
    {
     "name": "stdout",
     "output_type": "stream",
     "text": [
      "accuracy:84.39%\n"
     ]
    }
   ],
   "source": [
    "\n",
    "# 测试模型\n",
    "correct = 0\n",
    "total = 0\n",
    "with torch.no_grad(): # 不计算梯度\n",
    "  for data,target in test_dl:\n",
    "      output = model(data.reshape(-1,784))\n",
    "      _,predicted = torch.max(output,1)\n",
    "      total += target.size(0)\n",
    "      correct += (predicted == target).sum().item()\n",
    "print('accuracy:{}%'.format(correct/total*100))\n"
   ]
  }
 ],
 "metadata": {
  "kernelspec": {
   "display_name": "py3.12",
   "language": "python",
   "name": "python3"
  },
  "language_info": {
   "codemirror_mode": {
    "name": "ipython",
    "version": 3
   },
   "file_extension": ".py",
   "mimetype": "text/x-python",
   "name": "python",
   "nbconvert_exporter": "python",
   "pygments_lexer": "ipython3",
   "version": "3.12.8"
  }
 },
 "nbformat": 4,
 "nbformat_minor": 2
}
