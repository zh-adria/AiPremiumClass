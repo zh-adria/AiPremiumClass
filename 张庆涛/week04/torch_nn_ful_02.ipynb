{
 "cells": [
  {
   "cell_type": "code",
   "execution_count": null,
   "metadata": {},
   "outputs": [],
   "source": [
    "# 导入必要包\n",
    "\n",
    "import torch\n",
    "import torch.nn as nn\n",
    "import torch.optim as optim\n",
    "from sklearn.datasets import fetch_olivetti_faces\n",
    "from torch.utils.data import DataLoader  # 数据加载器\n",
    "from sklearn.model_selection import train_test_split\n",
    "\n"
   ]
  },
  {
   "cell_type": "code",
   "execution_count": 174,
   "metadata": {},
   "outputs": [],
   "source": [
    "# 定义超参数\n",
    "LR = 1e-3\n",
    "epochs = 20\n",
    "BATCH_SIZE = 32"
   ]
  },
  {
   "cell_type": "code",
   "execution_count": 175,
   "metadata": {},
   "outputs": [
    {
     "name": "stdout",
     "output_type": "stream",
     "text": [
      "(400, 4096)\n",
      "(400,)\n",
      "(400, 64, 64)\n"
     ]
    }
   ],
   "source": [
    "# 数据集加载\n",
    "olivetti_faces = fetch_olivetti_faces(data_home='./fetth_olivetti_faces_data', shuffle=True)\n",
    "print(olivetti_faces.data.shape)\n",
    "print(olivetti_faces.target.shape)\n",
    "print(olivetti_faces.images.shape)"
   ]
  },
  {
   "cell_type": "code",
   "execution_count": 176,
   "metadata": {},
   "outputs": [
    {
     "data": {
      "image/png": "[encoded data removed]",
      "text/plain": [
       "<Figure size 640x480 with 1 Axes>"
      ]
     },
     "metadata": {},
     "output_type": "display_data"
    }
   ],
   "source": [
    "import matplotlib.pyplot as plt\n",
    "\n",
    "face = olivetti_faces.images[1]\n",
    "plt.imshow(face, cmap='gray')\n",
    "plt.show()"
   ]
  },
  {
   "cell_type": "code",
   "execution_count": 177,
   "metadata": {},
   "outputs": [],
   "source": [
    "images = torch.tensor(olivetti_faces.data, dtype=torch.float32)\n",
    "targets = torch.tensor(olivetti_faces.target,dtype=torch.long)\n",
    "\n",
    "# 划分训练集和测试集\n",
    "train_images, test_images, train_targets, test_targets = train_test_split(\n",
    "    images, targets, test_size=0.2, random_state=42\n",
    ")\n",
    "\n",
    "# 创建训练集和测试集的 DataLoader\n",
    "train_dataset = [(img, lbl) for img, lbl in zip(train_images, train_targets)]\n",
    "test_dataset = [(img, lbl) for img, lbl in zip(test_images, test_targets)]\n",
    "\n",
    "trian_dl = DataLoader(train_dataset, batch_size=BATCH_SIZE, shuffle=True)\n",
    "test_dl = DataLoader(test_dataset, batch_size=BATCH_SIZE, shuffle=False)"
   ]
  },
  {
   "cell_type": "code",
   "execution_count": 178,
   "metadata": {},
   "outputs": [
    {
     "name": "stdout",
     "output_type": "stream",
     "text": [
      "TorchNN(\n",
      "  (linear1): Linear(in_features=4096, out_features=2048, bias=True)\n",
      "  (bn1): BatchNorm1d(2048, eps=1e-05, momentum=0.1, affine=True, track_running_stats=True)\n",
      "  (linear2): Linear(in_features=2048, out_features=1024, bias=True)\n",
      "  (bn2): BatchNorm1d(1024, eps=1e-05, momentum=0.1, affine=True, track_running_stats=True)\n",
      "  (linear3): Linear(in_features=1024, out_features=512, bias=True)\n",
      "  (bn3): BatchNorm1d(512, eps=1e-05, momentum=0.1, affine=True, track_running_stats=True)\n",
      "  (linear4): Linear(in_features=512, out_features=512, bias=True)\n",
      "  (bn4): BatchNorm1d(512, eps=1e-05, momentum=0.1, affine=True, track_running_stats=True)\n",
      "  (linear5): Linear(in_features=512, out_features=128, bias=True)\n",
      "  (bn5): BatchNorm1d(128, eps=1e-05, momentum=0.1, affine=True, track_running_stats=True)\n",
      "  (linear6): Linear(in_features=128, out_features=40, bias=True)\n",
      "  (dropout): Dropout(p=0.3, inplace=False)\n",
      "  (act): ReLU()\n",
      ")\n"
     ]
    }
   ],
   "source": [
    "# 定义模型\n",
    "from torch_nn_02 import TorchNN\n",
    "model = TorchNN()\n",
    "print(model)"
   ]
  },
  {
   "cell_type": "code",
   "execution_count": 179,
   "metadata": {},
   "outputs": [],
   "source": [
    "# 定义损失函数\n",
    "loss_fn = nn.CrossEntropyLoss()\n",
    "# 定义优化器\n",
    "### 使用 AdamW 优化器\n",
    "### 使用sgd 训练速度提升，但是准确李下降\n",
    "### 使用 Adam 优化器 训练速度提升一点， 但是准确率下降一点点但是和 AdamW 相差不多\n",
    "optim = optim.AdamW(model.parameters(), lr=LR)\n"
   ]
  },
  {
   "cell_type": "code",
   "execution_count": 180,
   "metadata": {},
   "outputs": [
    {
     "name": "stdout",
     "output_type": "stream",
     "text": [
      "Epoch:0 Loss: 3.1451711654663086\n",
      "Epoch:1 Loss: 2.5128402709960938\n",
      "Epoch:2 Loss: 1.9184142351150513\n",
      "Epoch:3 Loss: 1.6772565841674805\n",
      "Epoch:4 Loss: 1.3218175172805786\n",
      "Epoch:5 Loss: 0.985535740852356\n",
      "Epoch:6 Loss: 0.6412800550460815\n",
      "Epoch:7 Loss: 0.5726368427276611\n",
      "Epoch:8 Loss: 0.39044681191444397\n",
      "Epoch:9 Loss: 0.36700859665870667\n",
      "Epoch:10 Loss: 0.39196282625198364\n",
      "Epoch:11 Loss: 0.22740109264850616\n",
      "Epoch:12 Loss: 0.3344111144542694\n",
      "Epoch:13 Loss: 0.18448065221309662\n",
      "Epoch:14 Loss: 0.12268303334712982\n",
      "Epoch:15 Loss: 0.17254707217216492\n",
      "Epoch:16 Loss: 0.18875151872634888\n",
      "Epoch:17 Loss: 0.13069769740104675\n",
      "Epoch:18 Loss: 0.10566042363643646\n",
      "Epoch:19 Loss: 0.07927833497524261\n"
     ]
    }
   ],
   "source": [
    "model.train()\n",
    "# 训练模型\n",
    "### 未加 Dropout 训练速度 2.0S 左右  \n",
    "### 加上Dropout 训练速度 2.0S  \n",
    "### 增加隐藏层之后 训练速度9s左右\n",
    "### 使用sgd 优化器之后  执行速度 4s 准确率下架\n",
    "for epoch in range(epochs):\n",
    "  for data,target in trian_dl:\n",
    "    out = model(data.reshape(-1,64*64))\n",
    "    loss = loss_fn(out, target.long())\n",
    "    model.zero_grad()\n",
    "    loss.backward()\n",
    "    optim.step()\n",
    "# 测试模型\n",
    "  print(f'Epoch:{epoch} Loss: {loss.item()}')\n",
    "    "
   ]
  },
  {
   "cell_type": "code",
   "execution_count": 181,
   "metadata": {},
   "outputs": [
    {
     "name": "stdout",
     "output_type": "stream",
     "text": [
      "tensor([39, 26, 22,  6,  0, 30, 36, 19, 27,  2, 21, 36,  5,  6,  6,  0, 29, 16,\n",
      "        21,  7, 30,  5,  0, 37, 13, 19, 36,  7,  1, 28, 32,  2]) tensor([39, 26, 22,  6,  0, 30, 36, 19, 27,  2, 21, 36,  5,  6,  6,  0, 29, 16,\n",
      "        21,  7, 30,  5,  0, 37, 13, 19, 36,  7,  1, 28, 32,  2])\n",
      "tensor([30,  1, 38, 25,  2, 27, 19, 18, 22, 31, 36, 31,  5, 19, 23,  7, 12, 39,\n",
      "        37, 35, 35,  0, 33, 39,  1, 20, 17, 28, 37, 30, 20, 36]) tensor([30,  1, 38, 25,  2, 27, 19, 18,  3, 31, 36, 31,  5, 19, 23,  7, 12, 39,\n",
      "        37, 35, 35,  0, 33, 39,  1, 20, 17, 28, 37, 30, 20, 36])\n",
      "tensor([ 6, 30, 15,  7, 25,  2, 13, 16,  6,  5, 24, 11, 37, 19, 10, 14]) tensor([ 6, 30, 15,  7, 25,  2, 13, 16,  6,  5, 24, 11, 39, 19, 10, 31])\n",
      "Accuracy: 96.25%\n"
     ]
    }
   ],
   "source": [
    "\n",
    "# 测试\n",
    "#test_dl = DataLoader(test_data, batch_size=BATCH_SIZE)\n",
    "\n",
    "correct = 0\n",
    "total = 0\n",
    "### 未加 Dropout 训练准确度 95% \n",
    "##  未加 Dropout 训练准确度 经过多次训练 并没有比未加 Dropout 准确度高，95% \n",
    "\n",
    "## 在原四个隐藏层基础添加2个隐藏层 训练速速增加近一倍  准确率倒是没有什么变化  修改优化器\n",
    "### 使用 sgd 优化器  训练速度 4s  准确率下降到60% 左右\n",
    "model.eval()\n",
    "with torch.no_grad():\n",
    "  for data,target in test_dl:\n",
    "    out = model(data.reshape(-1,64*64))\n",
    "    pred = torch.argmax(out, dim=1)\n",
    "    total += target.size(0)  # size(0) 等效 shape[0]\n",
    "    correct += (pred == target).sum().item()\n",
    "    \n",
    "    print(pred,target)\n",
    "\n",
    "\n",
    "print(f'Accuracy: {correct/total*100}%')"
   ]
  }
 ],
 "metadata": {
  "kernelspec": {
   "display_name": "py3.12",
   "language": "python",
   "name": "python3"
  },
  "language_info": {
   "codemirror_mode": {
    "name": "ipython",
    "version": 3
   },
   "file_extension": ".py",
   "mimetype": "text/x-python",
   "name": "python",
   "nbconvert_exporter": "python",
   "pygments_lexer": "ipython3",
   "version": "3.12.8"
  }
 },
 "nbformat": 4,
 "nbformat_minor": 2
}
