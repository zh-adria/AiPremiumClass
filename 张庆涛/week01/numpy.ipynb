{
 "cells": [
  {
   "cell_type": "code",
   "execution_count": 1,
   "metadata": {},
   "outputs": [
    {
     "data": {
      "text/plain": [
       "array([1, 2, 3])"
      ]
     },
     "execution_count": 1,
     "metadata": {},
     "output_type": "execute_result"
    }
   ],
   "source": [
    "import numpy as np\n",
    "a = [1,2,3]\n",
    "b = np.array(a)\n",
    "b"
   ]
  },
  {
   "cell_type": "code",
   "execution_count": 2,
   "metadata": {},
   "outputs": [
    {
     "data": {
      "text/plain": [
       "array([1., 2., 3.])"
      ]
     },
     "execution_count": 2,
     "metadata": {},
     "output_type": "execute_result"
    }
   ],
   "source": [
    "a = np.array([1,2,3],float)\n",
    "a"
   ]
  },
  {
   "cell_type": "code",
   "execution_count": 3,
   "metadata": {},
   "outputs": [
    {
     "data": {
      "text/plain": [
       "array([[1, 2, 3],\n",
       "       [4, 5, 6],\n",
       "       [7, 8, 9]])"
      ]
     },
     "execution_count": 3,
     "metadata": {},
     "output_type": "execute_result"
    }
   ],
   "source": [
    "a = np.array([(1,2,3),(4,5,6),(7,8,9)])\n",
    "a "
   ]
  },
  {
   "cell_type": "code",
   "execution_count": 4,
   "metadata": {},
   "outputs": [
    {
     "data": {
      "text/plain": [
       "array([[0., 0., 0., 0.],\n",
       "       [0., 0., 0., 0.],\n",
       "       [0., 0., 0., 0.]])"
      ]
     },
     "execution_count": 4,
     "metadata": {},
     "output_type": "execute_result"
    }
   ],
   "source": [
    "a = np.zeros((3,4),dtype = float)\n",
    "a "
   ]
  },
  {
   "cell_type": "code",
   "execution_count": 6,
   "metadata": {},
   "outputs": [
    {
     "data": {
      "text/plain": [
       "array([[1., 1., 1., 1.],\n",
       "       [1., 1., 1., 1.],\n",
       "       [1., 1., 1., 1.]])"
      ]
     },
     "execution_count": 6,
     "metadata": {},
     "output_type": "execute_result"
    }
   ],
   "source": [
    "a = np.ones((3,4))\n",
    "a"
   ]
  },
  {
   "cell_type": "code",
   "execution_count": 9,
   "metadata": {},
   "outputs": [
    {
     "data": {
      "text/plain": [
       "array([1. , 1.3, 1.6, 1.9, 2.2, 2.5, 2.8, 3.1, 3.4, 3.7, 4. , 4.3, 4.6,\n",
       "       4.9, 5.2, 5.5, 5.8, 6.1, 6.4, 6.7, 7. , 7.3, 7.6, 7.9, 8.2, 8.5,\n",
       "       8.8, 9.1, 9.4, 9.7])"
      ]
     },
     "execution_count": 9,
     "metadata": {},
     "output_type": "execute_result"
    }
   ],
   "source": [
    "a = np.arange(1,10,0.3)\n",
    "a"
   ]
  },
  {
   "cell_type": "code",
   "execution_count": 11,
   "metadata": {},
   "outputs": [
    {
     "data": {
      "text/plain": [
       "array([[1., 0., 0., 0.],\n",
       "       [0., 1., 0., 0.],\n",
       "       [0., 0., 1., 0.],\n",
       "       [0., 0., 0., 1.]])"
      ]
     },
     "execution_count": 11,
     "metadata": {},
     "output_type": "execute_result"
    }
   ],
   "source": [
    "a = np.eye(4)\n",
    "a"
   ]
  },
  {
   "cell_type": "code",
   "execution_count": 17,
   "metadata": {},
   "outputs": [
    {
     "data": {
      "text/plain": [
       "array([0.26535338, 0.43199591, 0.45743995, 0.21528814, 0.0212151 ])"
      ]
     },
     "execution_count": 17,
     "metadata": {},
     "output_type": "execute_result"
    }
   ],
   "source": [
    "a = np.random.random(5)\n",
    "a"
   ]
  },
  {
   "cell_type": "code",
   "execution_count": 18,
   "metadata": {},
   "outputs": [
    {
     "data": {
      "text/plain": [
       "array([ 0.01730427,  0.04444697, -0.11973847, -0.08130224, -0.10487705])"
      ]
     },
     "execution_count": 18,
     "metadata": {},
     "output_type": "execute_result"
    }
   ],
   "source": [
    "mu,sigma = 0, 0.1\n",
    "a = np.random.normal(mu,sigma,5)\n",
    "a"
   ]
  },
  {
   "cell_type": "code",
   "execution_count": null,
   "metadata": {},
   "outputs": [
    {
     "data": {
      "text/plain": [
       "array([[1],\n",
       "       [3],\n",
       "       [5]])"
      ]
     },
     "execution_count": 29,
     "metadata": {},
     "output_type": "execute_result"
    }
   ],
   "source": [
    "a = np.array([(1,2),(3,4),(5,6)])\n",
    "a[0]\n",
    "a[1:]\n",
    "a[1][1]\n",
    "a[:,:1]\n",
    "a[:,:]"
   ]
  },
  {
   "cell_type": "code",
   "execution_count": 31,
   "metadata": {},
   "outputs": [
    {
     "name": "stdout",
     "output_type": "stream",
     "text": [
      "1\n",
      "2\n",
      "3\n"
     ]
    }
   ],
   "source": [
    "a = np.array((1,2,3))\n",
    "for i in a:\n",
    "  print(i)"
   ]
  },
  {
   "cell_type": "code",
   "execution_count": 35,
   "metadata": {},
   "outputs": [
    {
     "name": "stdout",
     "output_type": "stream",
     "text": [
      "2\n",
      "12\n",
      "30\n"
     ]
    }
   ],
   "source": [
    "a = np.array([(1,2),(3,4),(5,6)])\n",
    "for i,j in a:\n",
    "  print(i*j)"
   ]
  },
  {
   "cell_type": "code",
   "execution_count": null,
   "metadata": {},
   "outputs": [
    {
     "name": "stdout",
     "output_type": "stream",
     "text": [
      "ndim 2\n",
      "shape (3, 3)\n",
      "size 9\n",
      "dtype int32\n"
     ]
    }
   ],
   "source": [
    "a = np.array([(1,2,3), (4,5,6), (7,8,9)])\n",
    "print(\"ndim\",a.ndim) #维度\n",
    "print(\"shape\",a.shape) #形状\n",
    "print(\"size\",a.size) #元素个数\n",
    "print(\"dtype\",a.dtype) #数据类型\n"
   ]
  },
  {
   "cell_type": "code",
   "execution_count": null,
   "metadata": {},
   "outputs": [
    {
     "name": "stdout",
     "output_type": "stream",
     "text": [
      "True\n",
      "False\n"
     ]
    }
   ],
   "source": [
    "a = np.array([(1,2),(3,4)])\n",
    "print(3 in a ) #\n",
    "print(5 in a )"
   ]
  },
  {
   "cell_type": "code",
   "execution_count": null,
   "metadata": {},
   "outputs": [
    {
     "data": {
      "text/plain": [
       "array([0., 0., 0., 0., 0., 0., 0., 0., 0., 0., 0., 0., 0., 0., 0., 0., 0.,\n",
       "       0., 0., 0., 0., 0., 0., 0.])"
      ]
     },
     "execution_count": 47,
     "metadata": {},
     "output_type": "execute_result"
    }
   ],
   "source": [
    "a = np.zeros([2,3,4])\n",
    "a\n",
    "b = a.reshape(a.size) #展平成一维数组\n",
    "a\n",
    "b"
   ]
  },
  {
   "cell_type": "code",
   "execution_count": 58,
   "metadata": {},
   "outputs": [
    {
     "data": {
      "text/plain": [
       "array([[1, 4, 7],\n",
       "       [2, 5, 8],\n",
       "       [3, 6, 9]])"
      ]
     },
     "execution_count": 58,
     "metadata": {},
     "output_type": "execute_result"
    }
   ],
   "source": [
    "a = np.array([[1,2,3],(4,5,6),(7,8,9)])\n",
    "a\n",
    "a.transpose() #转置 (可以用.T)\n",
    "a.T"
   ]
  },
  {
   "cell_type": "code",
   "execution_count": null,
   "metadata": {},
   "outputs": [
    {
     "data": {
      "text/plain": [
       "array([1, 2, 3, 4, 5, 6])"
      ]
     },
     "execution_count": 59,
     "metadata": {},
     "output_type": "execute_result"
    }
   ],
   "source": [
    "a = np.array([(1,2),(3,4),(5,6)])\n",
    "a.flatten() #展平成一维数组"
   ]
  },
  {
   "cell_type": "code",
   "execution_count": null,
   "metadata": {},
   "outputs": [
    {
     "data": {
      "text/plain": [
       "(3, 1, 1)"
      ]
     },
     "execution_count": 64,
     "metadata": {},
     "output_type": "execute_result"
    }
   ],
   "source": [
    "a = np.array([1,2,3])\n",
    "a = a[:,np.newaxis] #增加一维\n",
    "a = a[:,np.newaxis]\n",
    "a\n",
    "a.shape #形状"
   ]
  },
  {
   "cell_type": "code",
   "execution_count": null,
   "metadata": {},
   "outputs": [
    {
     "name": "stdout",
     "output_type": "stream",
     "text": [
      "[[1. 1.]\n",
      " [1. 1.]]\n",
      "[[-1  1]\n",
      " [-1  1]]\n"
     ]
    },
    {
     "data": {
      "text/plain": [
       "array([[-1.,  1.],\n",
       "       [-1.,  1.]])"
      ]
     },
     "execution_count": 75,
     "metadata": {},
     "output_type": "execute_result"
    }
   ],
   "source": [
    " a = np.ones((2,2))\n",
    " b = np.array([(-1,1),(-1,1)]) \n",
    " print(a)\n",
    " print(b)\n",
    " \n",
    " a + b\n",
    " a - b\n",
    " a * b\n",
    " a / b\n",
    " \n",
    " "
   ]
  },
  {
   "cell_type": "code",
   "execution_count": null,
   "metadata": {},
   "outputs": [
    {
     "data": {
      "text/plain": [
       "2"
      ]
     },
     "execution_count": 78,
     "metadata": {},
     "output_type": "execute_result"
    }
   ],
   "source": [
    "a = np.array([1,2,1])\n",
    "a.sum() #求和\n",
    "a.prod() #求积"
   ]
  },
  {
   "cell_type": "code",
   "execution_count": 82,
   "metadata": {},
   "outputs": [
    {
     "name": "stdout",
     "output_type": "stream",
     "text": [
      "mean 3.0\n",
      "var 2.6666666666666665\n",
      "std 1.632993161855452\n",
      "min 1\n",
      "max 5\n"
     ]
    }
   ],
   "source": [
    "a = np.array([5,3,1])\n",
    "a\n",
    "print(\"mean\",a.mean()) #求均值\n",
    "print(\"var\",a.var()) #求方差\n",
    "print(\"std\",a.std()) #求标准差\n",
    "print(\"min\",a.min()) #求最小值\n",
    "print(\"max\",a.max()) #求最大值\n"
   ]
  },
  {
   "cell_type": "code",
   "execution_count": 83,
   "metadata": {},
   "outputs": [
    {
     "name": "stdout",
     "output_type": "stream",
     "text": [
      "argmax 2\n",
      "argmin 0\n",
      "ceil [2. 4. 5.]\n",
      "floor [1. 3. 4.]\n",
      "rint [1. 4. 5.]\n"
     ]
    }
   ],
   "source": [
    "a = np.array([1.2,3.8,4.9])\n",
    "print(\"argmax\",a.argmax()) #求最大值的索引\n",
    "print(\"argmin\",a.argmin()) #求最小值的索引\n",
    "print(\"ceil\", np.ceil(a)) #向上取整\n",
    "print(\"floor\",np.floor(a)) #向下取整\n",
    "print(\"rint\",np.rint(a)) #四舍五入\n"
   ]
  },
  {
   "cell_type": "code",
   "execution_count": null,
   "metadata": {},
   "outputs": [
    {
     "ename": "AxisError",
     "evalue": "axis 1 is out of bounds for array of dimension 1",
     "output_type": "error",
     "traceback": [
      "\u001b[1;31m---------------------------------------------------------------------------\u001b[0m",
      "\u001b[1;31mAxisError\u001b[0m                                 Traceback (most recent call last)",
      "Cell \u001b[1;32mIn[85], line 3\u001b[0m\n\u001b[0;32m      1\u001b[0m a \u001b[38;5;241m=\u001b[39m np\u001b[38;5;241m.\u001b[39marray([\u001b[38;5;241m16\u001b[39m,\u001b[38;5;241m31\u001b[39m,\u001b[38;5;241m12\u001b[39m,\u001b[38;5;241m28\u001b[39m,\u001b[38;5;241m22\u001b[39m,\u001b[38;5;241m31\u001b[39m,\u001b[38;5;241m48\u001b[39m])\n\u001b[0;32m      2\u001b[0m a\u001b[38;5;241m.\u001b[39msort() \u001b[38;5;66;03m#排序\u001b[39;00m\n\u001b[1;32m----> 3\u001b[0m \u001b[43ma\u001b[49m\u001b[38;5;241;43m.\u001b[39;49m\u001b[43msort\u001b[49m\u001b[43m(\u001b[49m\u001b[38;5;28;43;01mTrue\u001b[39;49;00m\u001b[43m)\u001b[49m\n",
      "\u001b[1;31mAxisError\u001b[0m: axis 1 is out of bounds for array of dimension 1"
     ]
    }
   ],
   "source": [
    "a = np.array([16,31,12,28,22,31,48])\n",
    "a.sort() #排序\n"
   ]
  },
  {
   "cell_type": "code",
   "execution_count": 109,
   "metadata": {},
   "outputs": [
    {
     "name": "stdout",
     "output_type": "stream",
     "text": [
      "[[19. 22.]\n",
      " [43. 50.]]\n",
      "[[19. 22.]\n",
      " [43. 50.]]\n",
      "矩阵1 :\n",
      "[[1. 2.]\n",
      " [3. 4.]]\n",
      "矩阵2 :\n",
      "[[5. 6.]\n",
      " [7. 8.]]\n",
      "使用 np.dot 矩阵乘法结果 :\n",
      "[[19. 22.]\n",
      " [43. 50.]]\n",
      "使⽤ @ 运算符得到的矩阵乘法结果:\n",
      "[[19. 22.]\n",
      " [43. 50.]]\n",
      "1.0 * 5.0 = 5.0\n",
      "2.0 * 7.0 = 14.0\n",
      "1.0 * 6.0 = 6.0\n",
      "2.0 * 8.0 = 16.0\n",
      "结果矩阵[1,2]:22.0\n",
      "\n",
      "3.0 * 5.0 = 15.0\n",
      "4.0 * 7.0 = 28.0\n",
      "3.0 * 6.0 = 18.0\n",
      "4.0 * 8.0 = 32.0\n",
      "结果矩阵[2,2]:50.0\n",
      "\n",
      "⼿动推演结果:\n",
      "[[19. 22.]\n",
      " [43. 50.]]\n"
     ]
    }
   ],
   "source": [
    "#定义两个简单的矩阵\n",
    "m1 = np.array([[1, 2], [3, 4]] , dtype=np.float32)\n",
    "m2 = np.array([[5, 6], [7, 8]] , dtype=np.float32)\n",
    "# 使用np.dot函数计算矩阵乘法\n",
    "result_dot = np.dot(m1, m2)\n",
    "print(result_dot)\n",
    "# 使用 @ 运算符进行矩阵乘法\n",
    "result_at = m1 @ m2\n",
    "print(result_at)\n",
    "\n",
    "print(\"矩阵1 :\")\n",
    "print(m1)\n",
    "print(\"矩阵2 :\")\n",
    "print(m2)\n",
    "print(\"使用 np.dot 矩阵乘法结果 :\")\n",
    "print(result_dot)\n",
    "\n",
    "\n",
    "print(\"使⽤ @ 运算符得到的矩阵乘法结果:\")\n",
    "print(result_at)\n",
    "# 创建⼀个全零矩阵，⽤于存储⼿动推演的结果\n",
    "# 结果矩阵的⾏数等于 matrix1 的⾏数，列数等于 matrix2 的列数\n",
    "manual_result = np.zeros((m1.shape[0], m2.shape[1]), dtype=np.float32)\n",
    "# 外层循环：遍历 matrix1 的每⼀⾏\n",
    "# i 表⽰结果矩阵的⾏索引\n",
    "for i in range(m1.shape[0]):\n",
    "  # 中层循环：遍历 matrix2 的每⼀列\n",
    "  # j 表⽰结果矩阵的列索引\n",
    "  for j in range(m2.shape[1]):\n",
    "    # 初始化当前位置的结果为 0\n",
    "    manual_result[i, j] = 0\n",
    "    # 内层循环：计算 matrix1 的第 i ⾏与 matrix2 的第 j 列对应元素的乘积之和\n",
    "    # k 表⽰参与乘法运算的元素索引\n",
    "    for k in range(m1.shape[1]):\n",
    "      # 打印当前正在计算的元素\n",
    "      print(f\"{m1[i, k]} * {m2[k, j]} = {m1[i, k] * m2[k, j]}\")\n",
    "      # 将 matrix1 的第 i ⾏第 k 列元素与 matrix2 的第 k ⾏第 j 列元素相乘，并累\n",
    "      manual_result[i, j] += m1[i, k] * m2[k, j]\n",
    "    # 打印当前位置计算完成后的结果\n",
    "  print(f\"结果矩阵[{i+1},{j+1}]:{manual_result[i, j]}\\n\")\n",
    "  \n",
    "print(\"⼿动推演结果:\")\n",
    "print(manual_result)"
   ]
  }
 ],
 "metadata": {
  "kernelspec": {
   "display_name": "py3.12",
   "language": "python",
   "name": "python3"
  },
  "language_info": {
   "codemirror_mode": {
    "name": "ipython",
    "version": 3
   },
   "file_extension": ".py",
   "mimetype": "text/x-python",
   "name": "python",
   "nbconvert_exporter": "python",
   "pygments_lexer": "ipython3",
   "version": "3.12.8"
  }
 },
 "nbformat": 4,
 "nbformat_minor": 2
}
