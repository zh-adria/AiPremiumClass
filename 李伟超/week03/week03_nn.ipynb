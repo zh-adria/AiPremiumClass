{
 "cells": [
  {
   "cell_type": "markdown",
   "id": "96374c62-6486-4a86-ac1c-2f4c83f74398",
   "metadata": {},
   "source": [
    "### torch_nn"
   ]
  },
  {
   "cell_type": "code",
   "execution_count": 16,
   "id": "25b722e2-442c-4d6d-93d0-684b583fcca2",
   "metadata": {},
   "outputs": [],
   "source": [
    "# 导入必要包\n",
    "import torch\n",
    "import torch.nn as nn\n",
    "import torch.optim as optim\n",
    "from torchvision.transforms.v2 import ToTensor     # 转换图像数据为张量\n",
    "from torchvision.datasets import KMNIST\n",
    "from torch.utils.data import DataLoader  # 数据加载器"
   ]
  },
  {
   "cell_type": "code",
   "execution_count": 18,
   "id": "c2db93c4-6b5f-4d2a-97a3-fc76f1d836ca",
   "metadata": {},
   "outputs": [],
   "source": [
    "# 定义超参数\n",
    "LR = 1e-2\n",
    "epochs = 20\n",
    "BATCH_SIZE = 64"
   ]
  },
  {
   "cell_type": "code",
   "execution_count": 24,
   "id": "97820694-f963-4a1f-8d31-efb8dfb90ba0",
   "metadata": {},
   "outputs": [],
   "source": [
    "# 数据集加载\n",
    "train_data = KMNIST(root='./kmnist_data', train=True, download=True, \n",
    "                          transform=ToTensor())\n",
    "test_data = KMNIST(root='./kmnist_data', train=False, download=True,\n",
    "                         transform=ToTensor())\n",
    "trian_dl = DataLoader(train_data, batch_size=BATCH_SIZE, shuffle=True)  # shuffle=True表示打乱数据"
   ]
  },
  {
   "cell_type": "code",
   "execution_count": 26,
   "id": "91850fc0-3e86-420d-ab31-90cd7e474294",
   "metadata": {},
   "outputs": [],
   "source": [
    "# 定义模型\n",
    "model = nn.Sequential(\n",
    "    nn.Linear(784, 64),\n",
    "    nn.Sigmoid(),\n",
    "    nn.Linear(64, 10)\n",
    ")"
   ]
  },
  {
   "cell_type": "code",
   "execution_count": 28,
   "id": "96941ecf-9a2f-41ba-9558-ccbac043403f",
   "metadata": {},
   "outputs": [],
   "source": [
    "# 损失函数&优化器\n",
    "loss_fn = nn.CrossEntropyLoss()  # 交叉熵损失函数\n",
    "# 优化器（模型参数更新）\n",
    "optimizer = torch.optim.SGD(model.parameters(), lr=LR)"
   ]
  },
  {
   "cell_type": "code",
   "execution_count": 30,
   "id": "5ad7a13b-2dd9-4054-acc9-74c08d60b190",
   "metadata": {},
   "outputs": [
    {
     "name": "stdout",
     "output_type": "stream",
     "text": [
      "Epoch:0 Loss: 2.013511896133423\n",
      "Epoch:1 Loss: 1.7458852529525757\n",
      "Epoch:2 Loss: 1.3170135021209717\n",
      "Epoch:3 Loss: 1.1379555463790894\n",
      "Epoch:4 Loss: 0.80256187915802\n",
      "Epoch:5 Loss: 0.8713520169258118\n",
      "Epoch:6 Loss: 0.8657978177070618\n",
      "Epoch:7 Loss: 0.7771780490875244\n",
      "Epoch:8 Loss: 0.5008813142776489\n",
      "Epoch:9 Loss: 0.7824341654777527\n",
      "Epoch:10 Loss: 0.6028114557266235\n",
      "Epoch:11 Loss: 0.753823459148407\n",
      "Epoch:12 Loss: 0.7095181941986084\n",
      "Epoch:13 Loss: 0.6935404539108276\n",
      "Epoch:14 Loss: 0.8269312381744385\n",
      "Epoch:15 Loss: 0.5660656094551086\n",
      "Epoch:16 Loss: 0.46672502160072327\n",
      "Epoch:17 Loss: 0.5000573396682739\n",
      "Epoch:18 Loss: 0.6882199645042419\n",
      "Epoch:19 Loss: 0.4001474380493164\n"
     ]
    }
   ],
   "source": [
    "for epoch in range(epochs):\n",
    "    # 提取训练数据\n",
    "    for data, target in trian_dl:\n",
    "        # 前向运算\n",
    "        output = model(data.reshape(-1, 784))\n",
    "        # 计算损失\n",
    "        loss = loss_fn(output, target)\n",
    "        # 反向传播\n",
    "        optimizer.zero_grad()  # 所有参数梯度清零\n",
    "        loss.backward()     # 计算梯度（参数.grad）\n",
    "        optimizer.step()    # 更新参数\n",
    "\n",
    "    print(f'Epoch:{epoch} Loss: {loss.item()}')"
   ]
  },
  {
   "cell_type": "code",
   "execution_count": 7,
   "id": "a417fab7-59c5-4058-98b4-2a75319c5e9d",
   "metadata": {},
   "outputs": [
    {
     "name": "stdout",
     "output_type": "stream",
     "text": [
      "Accuracy: 48.84%\n"
     ]
    }
   ],
   "source": [
    "# 测试\n",
    "test_dl = DataLoader(test_data, batch_size=BATCH_SIZE)\n",
    "\n",
    "correct = 0\n",
    "total = 0\n",
    "with torch.no_grad():  # 不计算梯度\n",
    "    for data, target in test_dl:\n",
    "        output = model(data.reshape(-1, 784))\n",
    "        _, predicted = torch.max(output, 1)  # 返回每行最大值和索引\n",
    "        total += target.size(0)  # size(0) 等效 shape[0]\n",
    "        correct += (predicted == target).sum().item()\n",
    "\n",
    "print(f'Accuracy: {correct/total*100}%')"
   ]
  },
  {
   "cell_type": "code",
   "execution_count": null,
   "id": "e22feb83-530b-4090-916f-8271828ddaef",
   "metadata": {},
   "outputs": [],
   "source": []
  }
 ],
 "metadata": {
  "kernelspec": {
   "display_name": "Python 3 (ipykernel)",
   "language": "python",
   "name": "python3"
  },
  "language_info": {
   "codemirror_mode": {
    "name": "ipython",
    "version": 3
   },
   "file_extension": ".py",
   "mimetype": "text/x-python",
   "name": "python",
   "nbconvert_exporter": "python",
   "pygments_lexer": "ipython3",
   "version": "3.12.4"
  }
 },
 "nbformat": 4,
 "nbformat_minor": 5
}
