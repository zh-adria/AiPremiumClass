{
 "cells": [
  {
   "cell_type": "code",
   "execution_count": 7,
   "id": "e422405a",
   "metadata": {},
   "outputs": [],
   "source": [
    "# 修复后内容存盘\n",
    "fixed = open(\"douban_comments_fixed.txt\", \"w\",encoding=\"utf-8\")\n",
    "\n",
    "# 修复后内容文件\n",
    "lines =[line for line in open(\"doubanbook_top250_comments.txt\",\"r\",encoding=\"utf-8\")]\n",
    "\n",
    "for i, line in enumerate(lines):\n",
    "    # 保存标题列\n",
    "    if i == 0:\n",
    "        fixed.write(line) # 标题列不做处理，直接写入文件中即可。\n",
    "        prev_line = line # 记录上一行的内容，用于后续的内容比对。\n",
    "        continue # 跳过当前循环，继续执行下一次循环。\n",
    "    # 提取书名和评论文本\n",
    "    terms = line.split(\"\\t\")\n",
    "\n",
    "    # 当前行的书名 == 上一行的书名\n",
    "    if terms[0] ==prev_line.split(\"\\t\")[0]:\n",
    "        if len(prev_line.split(\"\\t\")) == 6: # 上一行是评论\n",
    "            #保存上一行记录\n",
    "            fixed.write(prev_line + '\\n')\n",
    "            prev_line = line.strip() # 保存当前行\n",
    "        else:\n",
    "            prev_line = \"\"\n",
    "    else:\n",
    "        if len(terms) == 6:\n",
    "            prev_line = line.strip() # 保存当前行\n",
    "        else:\n",
    "            prev_line += line.strip() # 合并当前行与上一行的评论文本内容，用于后续的内容比对。\n",
    "fixed.close()"
   ]
  }
 ],
 "metadata": {
  "kernelspec": {
   "display_name": "base",
   "language": "python",
   "name": "python3"
  },
  "language_info": {
   "codemirror_mode": {
    "name": "ipython",
    "version": 3
   },
   "file_extension": ".py",
   "mimetype": "text/x-python",
   "name": "python",
   "nbconvert_exporter": "python",
   "pygments_lexer": "ipython3",
   "version": "3.12.4"
  }
 },
 "nbformat": 4,
 "nbformat_minor": 5
}
