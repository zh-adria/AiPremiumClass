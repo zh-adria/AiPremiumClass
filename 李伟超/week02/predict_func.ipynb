{
 "cells": [
  {
   "cell_type": "code",
   "execution_count": 1,
   "id": "d7ec3aca-5df3-4b41-b606-9e8d378de347",
   "metadata": {},
   "outputs": [
    {
     "name": "stdout",
     "output_type": "stream",
     "text": [
      "真实标签: [1 1 1 1 1 1 1 1 1 1]\n",
      "预测结果: [[1 1 1 1 1 1 1 1 1 1]]\n"
     ]
    }
   ],
   "source": [
    "import numpy as np\n",
    "from sklearn.datasets import load_iris\n",
    "\n",
    "# 1. 读取鸢尾花数据集（只取前100个样本）\n",
    "X, y = load_iris(return_X_y=True)\n",
    "X, y = X[:100], y[:100]\n",
    "\n",
    "# 2. 加载训练好的参数\n",
    "theta = np.load(\"theta.npy\")\n",
    "bias = np.load(\"bias.npy\")[0]  # 读取后取出标量\n",
    "\n",
    "# 3. 定义预测函数\n",
    "def forward(x, theta, bias):\n",
    "    # 线性运算\n",
    "    z = np.dot(theta, x.T) + bias\n",
    "    # sigmoid 激活函数\n",
    "    y_hat = 1 / (1 + np.exp(-z))\n",
    "    return np.round(y_hat)  # 返回0或1的分类结果\n",
    "\n",
    "# 4. 选择部分测试数据进行预测\n",
    "X_sample = X[90:100]  # 选取一些测试样本\n",
    "y_sample = y[90:100]\n",
    "\n",
    "# 5. 进行预测\n",
    "y_pred = forward(X_sample, theta, bias)\n",
    "\n",
    "# 6. 输出预测结果\n",
    "print(\"真实标签:\", y_sample)\n",
    "print(\"预测结果:\", y_pred.astype(int))"
   ]
  },
  {
   "cell_type": "code",
   "execution_count": null,
   "id": "df292fb2-7ee7-4530-83e8-d8141fbf3ec0",
   "metadata": {},
   "outputs": [],
   "source": []
  }
 ],
 "metadata": {
  "kernelspec": {
   "display_name": "Python 3 (ipykernel)",
   "language": "python",
   "name": "python3"
  },
  "language_info": {
   "codemirror_mode": {
    "name": "ipython",
    "version": 3
   },
   "file_extension": ".py",
   "mimetype": "text/x-python",
   "name": "python",
   "nbconvert_exporter": "python",
   "pygments_lexer": "ipython3",
   "version": "3.12.4"
  }
 },
 "nbformat": 4,
 "nbformat_minor": 5
}
