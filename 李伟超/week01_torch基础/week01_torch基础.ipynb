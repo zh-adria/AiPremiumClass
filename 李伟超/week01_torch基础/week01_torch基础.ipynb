{
 "cells": [
  {
   "cell_type": "markdown",
   "id": "66a5df01-51d0-40ab-9c22-8c91c5c16b54",
   "metadata": {},
   "source": [
    "## 第一周  torch基础"
   ]
  },
  {
   "cell_type": "code",
   "execution_count": 7,
   "id": "73cbc9db-4e2a-441f-b940-090a45d0c594",
   "metadata": {},
   "outputs": [],
   "source": [
    "import numpy as np"
   ]
  },
  {
   "cell_type": "code",
   "execution_count": 11,
   "id": "35ead82a-e67a-495d-9886-0562f03ecca8",
   "metadata": {},
   "outputs": [
    {
     "data": {
      "text/plain": [
       "array([ 1.1 ,  2.2 ,  3.3 ,  4.33,  5.  , 22.  ])"
      ]
     },
     "execution_count": 11,
     "metadata": {},
     "output_type": "execute_result"
    }
   ],
   "source": [
    "arr = np.array([1.1,2.2,3.3,4.33,5.0,22], float)    # 创建ndarray数组\n",
    "arr"
   ]
  },
  {
   "cell_type": "code",
   "execution_count": 17,
   "id": "6e3ce041-5e8c-40fd-b90b-18ec9bcc661a",
   "metadata": {},
   "outputs": [
    {
     "data": {
      "text/plain": [
       "array([[1, 2, 3, 5],\n",
       "       [4, 5, 6, 5],\n",
       "       [7, 8, 9, 5]])"
      ]
     },
     "execution_count": 17,
     "metadata": {},
     "output_type": "execute_result"
    }
   ],
   "source": [
    "a = np.array([(1,2,3,5), (4,5,6,5), (7,8,9,5)])\n",
    "a"
   ]
  },
  {
   "cell_type": "code",
   "execution_count": 27,
   "id": "d6572da3-b321-4c27-a36b-9aff0ccf971b",
   "metadata": {},
   "outputs": [
    {
     "data": {
      "text/plain": [
       "array([[0, 0, 0, 0, 0],\n",
       "       [0, 0, 0, 0, 0],\n",
       "       [0, 0, 0, 0, 0],\n",
       "       [0, 0, 0, 0, 0],\n",
       "       [0, 0, 0, 0, 0]], dtype=int64)"
      ]
     },
     "execution_count": 27,
     "metadata": {},
     "output_type": "execute_result"
    }
   ],
   "source": [
    "a1 = np.zeros((5,5), dtype=np.int64)\n",
    "a1"
   ]
  },
  {
   "cell_type": "code",
   "execution_count": 33,
   "id": "6e2b2329-db04-4506-93d2-3365e97ac4a5",
   "metadata": {},
   "outputs": [
    {
     "data": {
      "text/plain": [
       "array([ 2. ,  2.5,  3. ,  3.5,  4. ,  4.5,  5. ,  5.5,  6. ,  6.5,  7. ,\n",
       "        7.5,  8. ,  8.5,  9. ,  9.5, 10. , 10.5, 11. , 11.5, 12. , 12.5,\n",
       "       13. , 13.5, 14. , 14.5, 15. , 15.5, 16. , 16.5, 17. , 17.5, 18. ,\n",
       "       18.5, 19. , 19.5, 20. , 20.5])"
      ]
     },
     "execution_count": 33,
     "metadata": {},
     "output_type": "execute_result"
    }
   ],
   "source": [
    "a2 = np.arange(2,21, 0.5)\n",
    "a2"
   ]
  },
  {
   "cell_type": "code",
   "execution_count": 39,
   "id": "814836a8-6a92-4a24-8cab-17ec9698feca",
   "metadata": {},
   "outputs": [
    {
     "data": {
      "text/plain": [
       "array([[1., 0., 0., 0.],\n",
       "       [0., 1., 0., 0.],\n",
       "       [0., 0., 1., 0.],\n",
       "       [0., 0., 0., 1.]])"
      ]
     },
     "execution_count": 39,
     "metadata": {},
     "output_type": "execute_result"
    }
   ],
   "source": [
    "a3 = np.eye(4)\n",
    "a3 "
   ]
  },
  {
   "cell_type": "code",
   "execution_count": 45,
   "id": "86198702-3ecc-436b-97b3-0ae2c7f8fbfc",
   "metadata": {},
   "outputs": [
    {
     "data": {
      "text/plain": [
       "array([0.54745352, 0.33762347, 0.27134311])"
      ]
     },
     "execution_count": 45,
     "metadata": {},
     "output_type": "execute_result"
    }
   ],
   "source": [
    "a4 = np.random.random(3)  \n",
    "a4"
   ]
  },
  {
   "cell_type": "code",
   "execution_count": 49,
   "id": "da3f6250-73c7-4677-a503-d6a633df25ea",
   "metadata": {},
   "outputs": [
    {
     "data": {
      "text/plain": [
       "array([ 1.51005024,  1.40351273, -0.23337164,  1.45401238, -0.09536447])"
      ]
     },
     "execution_count": 49,
     "metadata": {},
     "output_type": "execute_result"
    }
   ],
   "source": [
    "a5 = np.random.normal(0, 1, 5)  \n",
    "a5"
   ]
  },
  {
   "cell_type": "code",
   "execution_count": 53,
   "id": "9a342d24-43d8-4c7a-aff9-9ad8efe8b998",
   "metadata": {},
   "outputs": [
    {
     "name": "stdout",
     "output_type": "stream",
     "text": [
      "[2 4 6]\n"
     ]
    }
   ],
   "source": [
    "a6 = np.array([(1,2,3), (3,4,3), (5,6,3)])\n",
    "# print(a6)\n",
    "print(a6[:,1])"
   ]
  },
  {
   "cell_type": "code",
   "execution_count": 55,
   "id": "e27dbf3c-cb66-4d6d-89d6-b50ce7b1f04a",
   "metadata": {},
   "outputs": [
    {
     "name": "stdout",
     "output_type": "stream",
     "text": [
      "1.0 2.1\n",
      "3.0 4.231\n",
      "5.1 6.312\n"
     ]
    }
   ],
   "source": [
    "a7 = np.array([(1,2.1), (3,4.231), (5.1,6.312)])\n",
    "for i,j in a7:\n",
    "    print(i,j)"
   ]
  },
  {
   "cell_type": "code",
   "execution_count": 57,
   "id": "f4d1270f-d566-4525-b34c-a7e6bde2c15f",
   "metadata": {},
   "outputs": [
    {
     "name": "stdout",
     "output_type": "stream",
     "text": [
      "ndim: 2\n",
      "shape: (3, 3)\n",
      "size 9\n",
      "dtype float64\n"
     ]
    }
   ],
   "source": [
    "a = np.array([(1.11,2.1,32), (4.3,5.1,6), (7,8.123,9)])\n",
    "print(\"ndim:\", a.ndim)\n",
    "print(\"shape:\", a.shape)\n",
    "print(\"size\", a.size)\n",
    "print(\"dtype\", a.dtype)"
   ]
  },
  {
   "cell_type": "code",
   "execution_count": 59,
   "id": "2150f055-e4f2-4639-a798-8a8206bad97f",
   "metadata": {},
   "outputs": [
    {
     "name": "stdout",
     "output_type": "stream",
     "text": [
      "False\n"
     ]
    }
   ],
   "source": [
    "print(3 in a)"
   ]
  },
  {
   "cell_type": "code",
   "execution_count": 65,
   "id": "817b9e27-9b36-439e-85cd-8bde7e9cf986",
   "metadata": {},
   "outputs": [
    {
     "name": "stdout",
     "output_type": "stream",
     "text": [
      "[ 1  2  3  4  5  6  7  8  9 10 11 12]\n",
      "(12,)\n",
      "[[[ 1]\n",
      "  [ 2]\n",
      "  [ 3]\n",
      "  [ 4]]\n",
      "\n",
      " [[ 5]\n",
      "  [ 6]\n",
      "  [ 7]\n",
      "  [ 8]]\n",
      "\n",
      " [[ 9]\n",
      "  [10]\n",
      "  [11]\n",
      "  [12]]]\n",
      "(3, 4, 1)\n"
     ]
    }
   ],
   "source": [
    "a7 = np.arange(1,13)\n",
    "print(a7)\n",
    "print(a7.shape)\n",
    "\n",
    "a7 = a7.reshape(3,4,1)  # 维度大小乘积 == 元素个数\n",
    "print(a7)\n",
    "\n",
    "print(a7.shape) "
   ]
  },
  {
   "cell_type": "code",
   "execution_count": 67,
   "id": "b0c0ebe5-d489-4f4a-b0e1-3e30a8639339",
   "metadata": {},
   "outputs": [
    {
     "name": "stdout",
     "output_type": "stream",
     "text": [
      "[[ 1.11   2.1   32.   ]\n",
      " [ 4.3    5.1    6.   ]\n",
      " [ 7.     8.123  9.   ]]\n",
      "[[ 1.11   4.3    7.   ]\n",
      " [ 2.1    5.1    8.123]\n",
      " [32.     6.     9.   ]]\n"
     ]
    }
   ],
   "source": [
    "print(a)\n",
    "a = a.T\n",
    "print(a)"
   ]
  },
  {
   "cell_type": "code",
   "execution_count": 69,
   "id": "5bec9676-94b7-4af5-8761-c21a5a90188e",
   "metadata": {},
   "outputs": [
    {
     "name": "stdout",
     "output_type": "stream",
     "text": [
      "[ 1.11   4.3    7.     2.1    5.1    8.123 32.     6.     9.   ]\n"
     ]
    }
   ],
   "source": [
    "a = a.flatten()\n",
    "print(a)"
   ]
  },
  {
   "cell_type": "code",
   "execution_count": 71,
   "id": "adb5081e-942e-4fcd-a66c-48b7d0cf8f14",
   "metadata": {},
   "outputs": [
    {
     "data": {
      "text/plain": [
       "(3, 2, 1)"
      ]
     },
     "execution_count": 71,
     "metadata": {},
     "output_type": "execute_result"
    }
   ],
   "source": [
    "a8 = np.array([(1,2), (3,4), (5,6)])\n",
    "a8 = a8[:,:,np.newaxis]  # [3,1,2]\n",
    "a8.shape"
   ]
  },
  {
   "cell_type": "code",
   "execution_count": 77,
   "id": "c3fcb935-e5a5-48a4-8385-cb994642f6d1",
   "metadata": {},
   "outputs": [
    {
     "name": "stdout",
     "output_type": "stream",
     "text": [
      "[[1. 1.]\n",
      " [1. 1.]\n",
      " [1. 1.]\n",
      " [1. 1.]]\n",
      "[[-1  1]\n",
      " [-1  1]\n",
      " [-1  1]\n",
      " [-1  1]]\n",
      "\n",
      "[[0. 2.]\n",
      " [0. 2.]\n",
      " [0. 2.]\n",
      " [0. 2.]]\n",
      "\n",
      "[[2. 0.]\n",
      " [2. 0.]\n",
      " [2. 0.]\n",
      " [2. 0.]]\n"
     ]
    }
   ],
   "source": [
    "a = np.ones((4,2))\n",
    "b = np.array([(-1,1),(-1,1),(-1,1),(-1,1)])\n",
    "print(a)\n",
    "print(b)\n",
    "print()\n",
    "print(a+b)\n",
    "print()\n",
    "print(a-b)"
   ]
  },
  {
   "cell_type": "code",
   "execution_count": 79,
   "id": "58238718-b4fd-474d-948d-771b3899d696",
   "metadata": {},
   "outputs": [
    {
     "data": {
      "text/plain": [
       "8.0"
      ]
     },
     "execution_count": 79,
     "metadata": {},
     "output_type": "execute_result"
    }
   ],
   "source": [
    "a.sum()"
   ]
  },
  {
   "cell_type": "code",
   "execution_count": 81,
   "id": "44fff7c4-4c78-4e8c-ba2e-07b38e75fdc2",
   "metadata": {},
   "outputs": [
    {
     "data": {
      "text/plain": [
       "1.0"
      ]
     },
     "execution_count": 81,
     "metadata": {},
     "output_type": "execute_result"
    }
   ],
   "source": [
    "a.prod()"
   ]
  },
  {
   "cell_type": "code",
   "execution_count": 83,
   "id": "40198667-7dde-4150-936d-c3bd0469b7ef",
   "metadata": {},
   "outputs": [
    {
     "name": "stdout",
     "output_type": "stream",
     "text": [
      "mean: 6.7\n",
      "var: 69.36400000000002\n",
      "std: 8.328505268053807\n"
     ]
    }
   ],
   "source": [
    "a = np.array([5,3.2,1.1,1.1,23.1])\n",
    "print(\"mean:\",a.mean())\n",
    "print(\"var:\", a.var())\n",
    "print(\"std:\", a.std())"
   ]
  },
  {
   "cell_type": "code",
   "execution_count": 85,
   "id": "ae7a6679-2a3c-40d0-afe9-6ed9bdb918fb",
   "metadata": {},
   "outputs": [
    {
     "name": "stdout",
     "output_type": "stream",
     "text": [
      "argmax: 2\n",
      "argmin: 0\n",
      "ceil: [2. 4. 6.]\n",
      "floor: [1. 3. 5.]\n",
      "rint: [1. 4. 6.]\n"
     ]
    }
   ],
   "source": [
    "a = np.array([1.022, 3.8, 5.9])\n",
    "print(\"argmax:\", a.argmax()) \n",
    "print(\"argmin:\", a.argmin()) \n",
    "\n",
    "print(\"ceil:\", np.ceil(a))  \n",
    "print(\"floor:\", np.floor(a)) \n",
    "print(\"rint:\", np.rint(a)) "
   ]
  },
  {
   "cell_type": "code",
   "execution_count": 89,
   "id": "554befe5-4598-4349-bb1e-ea93fdf686e5",
   "metadata": {},
   "outputs": [
    {
     "data": {
      "text/plain": [
       "array([-21. ,   1.2,   4.8,  16. ,  22. ,  28. ,  31. ,  31. ])"
      ]
     },
     "execution_count": 89,
     "metadata": {},
     "output_type": "execute_result"
    }
   ],
   "source": [
    "a = np.array([16,31,1.2,28,22,31,4.8,-21])\n",
    "a.sort()  # 排序\n",
    "a"
   ]
  },
  {
   "cell_type": "code",
   "execution_count": 91,
   "id": "96897d5c-66a6-41b6-9558-cc5d31f123cd",
   "metadata": {},
   "outputs": [
    {
     "name": "stdout",
     "output_type": "stream",
     "text": [
      "torch.float32\n"
     ]
    },
    {
     "data": {
      "text/plain": [
       "tensor([[ 1.,  4.,  9.],\n",
       "        [16., 25., 36.],\n",
       "        [49., 64., 81.]])"
      ]
     },
     "execution_count": 91,
     "metadata": {},
     "output_type": "execute_result"
    }
   ],
   "source": [
    "import torch\n",
    "tensor = torch.arange(1,10, dtype=torch.float32).reshape(3, 3)\n",
    "\n",
    "print(tensor.dtype)\n",
    "\n",
    "y1 = tensor @ tensor.T\n",
    "y2 = tensor.matmul(tensor.T)\n",
    "\n",
    "y3 = torch.rand_like(tensor)\n",
    "torch.matmul(tensor, tensor.T, out=y3)\n",
    "\n",
    "z1 = tensor * tensor\n",
    "z2 = tensor.mul(tensor)\n",
    "\n",
    "z3 = torch.rand_like(tensor)\n",
    "torch.mul(tensor, tensor, out=z3)"
   ]
  },
  {
   "cell_type": "code",
   "execution_count": 93,
   "id": "fa927ae2-71cb-4f83-906c-e2b3c18c578e",
   "metadata": {},
   "outputs": [
    {
     "data": {
      "text/plain": [
       "array([[ 4, 10, 18],\n",
       "       [28, 40, 54]])"
      ]
     },
     "execution_count": 93,
     "metadata": {},
     "output_type": "execute_result"
    }
   ],
   "source": [
    "a9 = np.array([[1,2,3],[4,5,6]])\n",
    "b9 = np.array([[4,5,6],[7,8,9]])\n",
    "\n",
    "a9 * b9"
   ]
  },
  {
   "cell_type": "code",
   "execution_count": 95,
   "id": "b947b05b-879e-41ae-9919-12ad1f2e3777",
   "metadata": {},
   "outputs": [
    {
     "name": "stdout",
     "output_type": "stream",
     "text": [
      "矩阵 1:\n",
      "[[2. 2.]\n",
      " [4. 4.]]\n",
      "矩阵 2:\n",
      "[[66.  6.]\n",
      " [55.  8.]]\n",
      "使用 np.dot 得到的矩阵乘法结果:\n",
      "[[242.  28.]\n",
      " [484.  56.]]\n",
      "使用 @ 运算符得到的矩阵乘法结果:\n",
      "[[242.  28.]\n",
      " [484.  56.]]\n",
      "2.0 * 66.0 = 132.0\n",
      "2.0 * 55.0 = 110.0\n",
      "结果矩阵[1,1]:242.0\n",
      "\n",
      "2.0 * 6.0 = 12.0\n",
      "2.0 * 8.0 = 16.0\n",
      "结果矩阵[1,2]:28.0\n",
      "\n",
      "4.0 * 66.0 = 264.0\n",
      "4.0 * 55.0 = 220.0\n",
      "结果矩阵[2,1]:484.0\n",
      "\n",
      "4.0 * 6.0 = 24.0\n",
      "4.0 * 8.0 = 32.0\n",
      "结果矩阵[2,2]:56.0\n",
      "\n",
      "手动推演结果:\n",
      "[[242.  28.]\n",
      " [484.  56.]]\n"
     ]
    }
   ],
   "source": [
    "import numpy as np\n",
    "\n",
    "# 定义两个简单的矩阵\n",
    "m1 = np.array([[2, 2], [4, 4]], dtype=np.float32)\n",
    "m2 = np.array([[66, 6], [55, 8]], dtype=np.float32)\n",
    "# m1 = m1.reshape(2,2)  # 矩阵1最后1个维度 == 矩阵2倒数第2个维度\n",
    "# m2 = m2.reshape(2,2)\n",
    "\n",
    "# 使用 np.dot 进行矩阵乘法\n",
    "result_dot = np.dot(m1, m2)\n",
    "\n",
    "# 使用 @ 运算符进行矩阵乘法\n",
    "result_at = m1 @ m2\n",
    "\n",
    "print(\"矩阵 1:\")\n",
    "print(m1)\n",
    "print(\"矩阵 2:\")\n",
    "print(m2)\n",
    "print(\"使用 np.dot 得到的矩阵乘法结果:\")\n",
    "print(result_dot)\n",
    "print(\"使用 @ 运算符得到的矩阵乘法结果:\")\n",
    "print(result_at)\n",
    "\n",
    "# 创建一个全零矩阵，用于存储手动推演的结果\n",
    "# 结果矩阵的行数等于 matrix1 的行数，列数等于 matrix2 的列数\n",
    "manual_result = np.zeros((m1.shape[0], m2.shape[1]), dtype=np.float32)\n",
    "\n",
    "# 外层循环：遍历 matrix1 的每一行\n",
    "# i 表示结果矩阵的行索引\n",
    "for i in range(m1.shape[0]):\n",
    "    # 中层循环：遍历 matrix2 的每一列\n",
    "    # j 表示结果矩阵的列索引\n",
    "    for j in range(m2.shape[1]):\n",
    "        # 初始化当前位置的结果为 0\n",
    "        manual_result[i, j] = 0\n",
    "        # 内层循环：计算 matrix1 的第 i 行与 matrix2 的第 j 列对应元素的乘积之和\n",
    "        # k 表示参与乘法运算的元素索引\n",
    "        for k in range(m1.shape[1]):\n",
    "            # 打印当前正在计算的元素\n",
    "            print(f\"{m1[i, k]} * {m2[k, j]} = {m1[i, k] * m2[k, j]}\")\n",
    "            # 将 matrix1 的第 i 行第 k 列元素与 matrix2 的第 k 行第 j 列元素相乘，并累加到结果矩阵的相应位置\n",
    "            manual_result[i, j] += m1[i, k] * m2[k, j]\n",
    "        # 打印当前位置计算完成后的结果\n",
    "        print(f\"结果矩阵[{i+1},{j+1}]:{manual_result[i, j]}\\n\")\n",
    "\n",
    "print(\"手动推演结果:\")\n",
    "print(manual_result)"
   ]
  },
  {
   "cell_type": "code",
   "execution_count": 97,
   "id": "4a462208-d806-4a89-a50f-774495c9a259",
   "metadata": {},
   "outputs": [],
   "source": [
    "np.save('result.npy',manual_result)"
   ]
  },
  {
   "cell_type": "code",
   "execution_count": 99,
   "id": "e6005817-96ff-4587-b09f-5407ae8a8dc7",
   "metadata": {},
   "outputs": [
    {
     "data": {
      "text/plain": [
       "array([[242.,  28.],\n",
       "       [484.,  56.]], dtype=float32)"
      ]
     },
     "execution_count": 99,
     "metadata": {},
     "output_type": "execute_result"
    }
   ],
   "source": [
    "result_np = np.load('result.npy')\n",
    "result_np"
   ]
  },
  {
   "cell_type": "code",
   "execution_count": 103,
   "id": "93ff156d-6b77-4e6d-8cdc-ba4501a241c6",
   "metadata": {},
   "outputs": [
    {
     "data": {
      "text/plain": [
       "array([ 6.1, -1.9,  9. ])"
      ]
     },
     "execution_count": 103,
     "metadata": {},
     "output_type": "execute_result"
    }
   ],
   "source": [
    "a = np.array([2.1,-2,3])\n",
    "b = np.array([4,0.1,6])\n",
    "a + b"
   ]
  },
  {
   "cell_type": "code",
   "execution_count": 105,
   "id": "7e0058da-86b6-4864-b4c8-2f391dc2c3ac",
   "metadata": {},
   "outputs": [
    {
     "data": {
      "text/plain": [
       "array([[ 0. , -2. ],\n",
       "       [ 1. ,  3.3],\n",
       "       [ 2. ,  4. ],\n",
       "       [ 3. ,  5. ]])"
      ]
     },
     "execution_count": 105,
     "metadata": {},
     "output_type": "execute_result"
    }
   ],
   "source": [
    "a = np.array([(1,-3), (2,2.3), (3,3), (4,4)]) \n",
    "b = np.array([-1,1]) \n",
    "a + b"
   ]
  },
  {
   "cell_type": "markdown",
   "id": "ad2b0a97-32da-45b1-919d-c62550aae5b7",
   "metadata": {},
   "source": [
    "#### torch部分"
   ]
  },
  {
   "cell_type": "code",
   "execution_count": 109,
   "id": "140b84e7-eae6-4b2c-8c05-9ab59ceaa790",
   "metadata": {},
   "outputs": [
    {
     "data": {
      "text/plain": [
       "tensor([[ 1,  2],\n",
       "        [-3,  4]])"
      ]
     },
     "execution_count": 109,
     "metadata": {},
     "output_type": "execute_result"
    }
   ],
   "source": [
    "import torch\n",
    "\n",
    "data = torch.tensor([[1.22,2],[-3,4]], dtype=torch.int64)\n",
    "data"
   ]
  },
  {
   "cell_type": "code",
   "execution_count": 113,
   "id": "bab39537-b662-4d1f-bc64-efd7bfd4a1ef",
   "metadata": {},
   "outputs": [
    {
     "data": {
      "text/plain": [
       "tensor([[1, 2],\n",
       "        [3, 4]], dtype=torch.int32)"
      ]
     },
     "execution_count": 113,
     "metadata": {},
     "output_type": "execute_result"
    }
   ],
   "source": [
    "import numpy as np\n",
    "\n",
    "np_array = np.array([[1,2],[3,4]])\n",
    "data2 = torch.from_numpy(np_array)\n",
    "data2"
   ]
  },
  {
   "cell_type": "code",
   "execution_count": 115,
   "id": "51eaedae-54da-4e24-9b98-2addb87e38a3",
   "metadata": {},
   "outputs": [
    {
     "data": {
      "text/plain": [
       "torch.int32"
      ]
     },
     "execution_count": 115,
     "metadata": {},
     "output_type": "execute_result"
    }
   ],
   "source": [
    "data2.dtype"
   ]
  },
  {
   "cell_type": "code",
   "execution_count": 117,
   "id": "db2d37ae-45a3-4fde-b705-86b35140f58e",
   "metadata": {},
   "outputs": [
    {
     "data": {
      "text/plain": [
       "tensor([[0.9243, 0.8976],\n",
       "        [0.2261, 0.0765]])"
      ]
     },
     "execution_count": 117,
     "metadata": {},
     "output_type": "execute_result"
    }
   ],
   "source": [
    "data3 = torch.rand_like(data2, dtype=torch.float)\n",
    "data3"
   ]
  },
  {
   "cell_type": "code",
   "execution_count": 121,
   "id": "5dc8d073-3610-4104-b2f6-85b9de1538f4",
   "metadata": {},
   "outputs": [
    {
     "name": "stdout",
     "output_type": "stream",
     "text": [
      "Random Tensor: \n",
      " tensor([[1.2939e-01, 6.4910e-01, 3.8337e-01],\n",
      "        [1.1860e-01, 9.5664e-02, 6.6221e-04],\n",
      "        [1.2983e-02, 7.1168e-01, 2.7900e-01]]) \n",
      "\n",
      "Ones Tensor: \n",
      " tensor([[1., 1., 1.],\n",
      "        [1., 1., 1.],\n",
      "        [1., 1., 1.]]) \n",
      "\n",
      "Zeros Tensor: \n",
      " tensor([[0., 0., 0.],\n",
      "        [0., 0., 0.],\n",
      "        [0., 0., 0.]])\n"
     ]
    }
   ],
   "source": [
    "shape = (3,3,)\n",
    "rand_tensor = torch.rand(shape)\n",
    "ones_tensor = torch.ones(shape)\n",
    "zeros_tensor = torch.zeros(shape)\n",
    "\n",
    "print(f\"Random Tensor: \\n {rand_tensor} \\n\")\n",
    "print(f\"Ones Tensor: \\n {ones_tensor} \\n\")\n",
    "print(f\"Zeros Tensor: \\n {zeros_tensor}\")"
   ]
  },
  {
   "cell_type": "code",
   "execution_count": 129,
   "id": "97ca3495-bb86-4e17-87cc-435637ae2b5d",
   "metadata": {},
   "outputs": [
    {
     "name": "stdout",
     "output_type": "stream",
     "text": [
      "torch.Size([5, 3])\n",
      "tensor([[0.0253, 0.5634, 0.7158],\n",
      "        [0.0409, 0.2538, 0.4257],\n",
      "        [0.4102, 0.8232, 0.6657],\n",
      "        [0.5244, 0.1739, 0.0332],\n",
      "        [0.9824, 0.4972, 0.6443]])\n",
      "tensor([[ 0.4652,  0.6326,  1.5525],\n",
      "        [ 2.4014,  0.8585, -1.3350],\n",
      "        [-0.2401,  0.9674, -0.7421],\n",
      "        [ 0.0852,  0.1484,  0.6778],\n",
      "        [ 0.0176, -1.2343,  0.1053]])\n",
      "tensor([[ 0.1613,  1.4550,  0.3578],\n",
      "        [ 0.3535,  0.1019,  1.9520],\n",
      "        [-1.2587, -0.0879, -1.3987],\n",
      "        [-0.1704, -0.0927,  1.1030],\n",
      "        [ 0.5359, -1.4332,  0.2473]])\n",
      "tensor([1.0000, 1.1818, 1.3636, 1.5455, 1.7273, 1.9091, 2.0909, 2.2727, 2.4545,\n",
      "        2.6364, 2.8182, 3.0000, 3.1818, 3.3636, 3.5455, 3.7273, 3.9091, 4.0909,\n",
      "        4.2727, 4.4545, 4.6364, 4.8182, 5.0000])\n"
     ]
    }
   ],
   "source": [
    "m = torch.ones(5,3, dtype=torch.double)\n",
    "n = torch.rand_like(m, dtype=torch.float)\n",
    "\n",
    "print(m.size()) # torch.Size([5,3])\n",
    "\n",
    "\n",
    "print(torch.rand(5,3))\n",
    "\n",
    "print(torch.randn(5,3))\n",
    "\n",
    "print(torch.normal(mean=.0,std=1.0,size=(5,3)))\n",
    "\n",
    "print(torch.linspace(start=1,end=5,steps=23))"
   ]
  },
  {
   "cell_type": "code",
   "execution_count": 131,
   "id": "66d9a9d8-8b2e-468b-96ce-86cfb04e9421",
   "metadata": {},
   "outputs": [
    {
     "name": "stdout",
     "output_type": "stream",
     "text": [
      "Shape of tensor: torch.Size([3, 4])\n",
      "Datatype of tensor: torch.float32\n",
      "Device tensor is stored on: cpu\n"
     ]
    }
   ],
   "source": [
    "tensor = torch.rand(3,4)\n",
    "\n",
    "print(f\"Shape of tensor: {tensor.shape}\")\n",
    "print(f\"Datatype of tensor: {tensor.dtype}\")\n",
    "print(f\"Device tensor is stored on: {tensor.device}\")"
   ]
  },
  {
   "cell_type": "code",
   "execution_count": 135,
   "id": "4062c302-aef8-4aa8-8a9f-f2e801b6511a",
   "metadata": {},
   "outputs": [
    {
     "name": "stdout",
     "output_type": "stream",
     "text": [
      "tensor([[0.5017, 0.2891, 0.7540, 0.9164],\n",
      "        [0.4219, 0.8838, 0.9351, 0.3876],\n",
      "        [0.7259, 0.7434, 0.9578, 0.1590]])\n",
      "cpu\n"
     ]
    }
   ],
   "source": [
    "\n",
    "device = torch.device('cuda' if torch.cuda.is_available() else 'cpu')\n",
    "tensor = tensor.to(device)\n",
    "\n",
    "print(tensor)\n",
    "print(tensor.device)\n"
   ]
  },
  {
   "cell_type": "code",
   "execution_count": 137,
   "id": "2d25b30f-ed18-415e-9553-2eea4fbfd172",
   "metadata": {},
   "outputs": [
    {
     "name": "stdout",
     "output_type": "stream",
     "text": [
      "First row:  tensor([1., 1., 1., 1.])\n",
      "First column:  tensor([1., 1., 1., 1., 1.])\n",
      "Last column: tensor([1., 1., 1., 1., 1.])\n",
      "tensor([[1., 0., 1., 1.],\n",
      "        [1., 0., 1., 1.],\n",
      "        [1., 0., 1., 1.],\n",
      "        [1., 0., 1., 1.],\n",
      "        [1., 0., 1., 1.]])\n"
     ]
    }
   ],
   "source": [
    "tensor = torch.ones(5, 4)\n",
    "print('First row: ', tensor[0])\n",
    "print('First column: ', tensor[:, 0])\n",
    "print('Last column:', tensor[..., -1])\n",
    "tensor[:,1] = 0\n",
    "print(tensor)"
   ]
  },
  {
   "cell_type": "code",
   "execution_count": 143,
   "id": "7da558f6-b51f-4fcb-b039-8d06f87600f1",
   "metadata": {},
   "outputs": [
    {
     "name": "stdout",
     "output_type": "stream",
     "text": [
      "tensor([[3.1000, 0.0000, 3.1000, 3.1000],\n",
      "        [3.1000, 0.0000, 3.1000, 3.1000],\n",
      "        [3.1000, 0.0000, 3.1000, 3.1000],\n",
      "        [3.1000, 0.0000, 3.1000, 3.1000],\n",
      "        [3.1000, 0.0000, 3.1000, 3.1000],\n",
      "        [3.1000, 0.0000, 3.1000, 3.1000],\n",
      "        [3.1000, 0.0000, 3.1000, 3.1000],\n",
      "        [3.1000, 0.0000, 3.1000, 3.1000],\n",
      "        [3.1000, 0.0000, 3.1000, 3.1000],\n",
      "        [3.1000, 0.0000, 3.1000, 3.1000],\n",
      "        [3.1000, 0.0000, 3.1000, 3.1000],\n",
      "        [3.1000, 0.0000, 3.1000, 3.1000],\n",
      "        [3.1000, 0.0000, 3.1000, 3.1000],\n",
      "        [3.1000, 0.0000, 3.1000, 3.1000],\n",
      "        [3.1000, 0.0000, 3.1000, 3.1000]])\n",
      "torch.Size([15, 4])\n"
     ]
    }
   ],
   "source": [
    "t1 = torch.cat([tensor, tensor, tensor], dim=0)\n",
    "print(t1 * 3.1)\n",
    "print(t1.shape)"
   ]
  },
  {
   "cell_type": "code",
   "execution_count": 145,
   "id": "3d446288-b037-4b8d-91c8-eb590235bd12",
   "metadata": {},
   "outputs": [
    {
     "name": "stdout",
     "output_type": "stream",
     "text": [
      "tensor([[ 14.,  32.,  50.],\n",
      "        [ 32.,  77., 122.],\n",
      "        [ 50., 122., 194.]])\n",
      "tensor([[ 14.,  32.,  50.],\n",
      "        [ 32.,  77., 122.],\n",
      "        [ 50., 122., 194.]])\n",
      "tensor([[ 14.,  32.,  50.],\n",
      "        [ 32.,  77., 122.],\n",
      "        [ 50., 122., 194.]])\n",
      "tensor([[ 1.,  4.,  9.],\n",
      "        [16., 25., 36.],\n",
      "        [49., 64., 81.]])\n",
      "tensor([[ 1.,  4.,  9.],\n",
      "        [16., 25., 36.],\n",
      "        [49., 64., 81.]])\n"
     ]
    }
   ],
   "source": [
    "import torch\n",
    "tensor = torch.arange(1,10, dtype=torch.float32).reshape(3, 3)\n",
    "\n",
    "y1 = tensor @ tensor.T\n",
    "y2 = tensor.matmul(tensor.T)\n",
    "\n",
    "print(y1)\n",
    "print(y2)\n",
    "\n",
    "y3 = torch.rand_like(tensor)\n",
    "torch.matmul(tensor, tensor.T, out=y3)\n",
    "print(y3)\n",
    "\n",
    "z1 = tensor * tensor\n",
    "z2 = tensor.mul(tensor)\n",
    "\n",
    "z3 = torch.rand_like(tensor)\n",
    "torch.mul(tensor, tensor, out=z3)\n",
    "\n",
    "print(z1)\n",
    "print(z3)"
   ]
  },
  {
   "cell_type": "code",
   "execution_count": 147,
   "id": "2cf0680a-c8f7-48c1-91ea-6467ed0914d4",
   "metadata": {},
   "outputs": [
    {
     "name": "stdout",
     "output_type": "stream",
     "text": [
      "45.0 <class 'float'>\n"
     ]
    }
   ],
   "source": [
    "agg = tensor.sum()\n",
    "agg_item = agg.item()\n",
    "print(agg_item, type(agg_item))"
   ]
  },
  {
   "cell_type": "code",
   "execution_count": 149,
   "id": "11b3de86-f755-40b4-8ca9-b7da022caa98",
   "metadata": {},
   "outputs": [
    {
     "data": {
      "text/plain": [
       "array([[ 1.,  4.,  9.],\n",
       "       [16., 25., 36.],\n",
       "       [49., 64., 81.]], dtype=float32)"
      ]
     },
     "execution_count": 149,
     "metadata": {},
     "output_type": "execute_result"
    }
   ],
   "source": [
    "np_arr = z1.numpy()\n",
    "np_arr"
   ]
  },
  {
   "cell_type": "code",
   "execution_count": 151,
   "id": "2182f880-2814-4a0d-97b9-de34123ba1e9",
   "metadata": {},
   "outputs": [
    {
     "name": "stdout",
     "output_type": "stream",
     "text": [
      "tensor([[1., 2., 3.],\n",
      "        [4., 5., 6.],\n",
      "        [7., 8., 9.]]) \n",
      "\n",
      "tensor([[ 6.,  7.,  8.],\n",
      "        [ 9., 10., 11.],\n",
      "        [12., 13., 14.]])\n",
      "tensor([[16., 17., 18.],\n",
      "        [19., 20., 21.],\n",
      "        [22., 23., 24.]])\n"
     ]
    }
   ],
   "source": [
    "print(tensor, \"\\n\")\n",
    "tensor.add_(5)\n",
    "print(tensor)\n",
    "tensor = tensor + 5\n",
    "tensor += 5\n",
    "print(tensor)"
   ]
  },
  {
   "cell_type": "code",
   "execution_count": 153,
   "id": "aa453a79-d9c1-4fa2-9965-f87cc39096dc",
   "metadata": {},
   "outputs": [
    {
     "data": {
      "text/plain": [
       "tensor([[16., 17., 18.],\n",
       "        [19., 20., 21.],\n",
       "        [22., 23., 24.]])"
      ]
     },
     "execution_count": 153,
     "metadata": {},
     "output_type": "execute_result"
    }
   ],
   "source": [
    "tensor"
   ]
  },
  {
   "cell_type": "code",
   "execution_count": 5,
   "id": "ffa51c59-7de8-4a23-b527-afdf330ab406",
   "metadata": {},
   "outputs": [
    {
     "data": {
      "text/plain": [
       "'expression.png'"
      ]
     },
     "execution_count": 5,
     "metadata": {},
     "output_type": "execute_result"
    }
   ],
   "source": [
    "\n",
    "import os\n",
    "import torch\n",
    "from torchviz import make_dot\n",
    "\n",
    "os.environ[\"PATH\"] += os.pathsep + r\"C:\\Program Files\\Graphviz\\bin\"\n",
    "\n",
    "A = torch.randn(10, 10,requires_grad=True)  \n",
    "b = torch.randn(10,requires_grad=True)\n",
    "c = torch.randn(1,requires_grad=True)\n",
    "x = torch.randn(10, requires_grad=True)\n",
    "\n",
    "result = torch.matmul(A, x.T) + torch.matmul(b, x) + c    # 计算 x^T * A + b * x + c\n",
    "\n",
    "dot = make_dot(result, params={'A': A, 'b': b, 'c': c, 'x': x})\n",
    "\n",
    "dot.render('expression', format='png', cleanup=True, view=False)"
   ]
  },
  {
   "cell_type": "code",
   "execution_count": null,
   "id": "67ac9d36-59fe-4586-980c-78010da801c4",
   "metadata": {},
   "outputs": [],
   "source": []
  },
  {
   "cell_type": "code",
   "execution_count": null,
   "id": "b023c192-6bf5-4256-88e9-eea8b61cd560",
   "metadata": {},
   "outputs": [],
   "source": []
  }
 ],
 "metadata": {
  "kernelspec": {
   "display_name": "Python 3 (ipykernel)",
   "language": "python",
   "name": "python3"
  },
  "language_info": {
   "codemirror_mode": {
    "name": "ipython",
    "version": 3
   },
   "file_extension": ".py",
   "mimetype": "text/x-python",
   "name": "python",
   "nbconvert_exporter": "python",
   "pygments_lexer": "ipython3",
   "version": "3.12.4"
  }
 },
 "nbformat": 4,
 "nbformat_minor": 5
}
