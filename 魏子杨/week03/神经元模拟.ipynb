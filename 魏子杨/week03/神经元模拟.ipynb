{
 "cells": [
  {
   "cell_type": "code",
   "execution_count": 40,
   "metadata": {},
   "outputs": [],
   "source": [
    "import torch\n",
    "from  torchvision.datasets import KMNIST \n",
    "from torchvision.transforms.v2 import ToTensor \n",
    "import torch.nn as nn\n",
    "from torch.utils.data import DataLoader  "
   ]
  },
  {
   "cell_type": "code",
   "execution_count": 41,
   "metadata": {},
   "outputs": [],
   "source": [
    "# 定义超参数\n",
    "LR = 1e-3\n",
    "epochs = 20\n",
    "BATCH_SIZE = 128"
   ]
  },
  {
   "cell_type": "code",
   "execution_count": 42,
   "metadata": {},
   "outputs": [
    {
     "name": "stderr",
     "output_type": "stream",
     "text": [
      "d:\\software\\python\\miniconda\\envs\\py312\\Lib\\site-packages\\torchvision\\transforms\\v2\\_deprecated.py:42: UserWarning: The transform `ToTensor()` is deprecated and will be removed in a future release. Instead, please use `v2.Compose([v2.ToImage(), v2.ToDtype(torch.float32, scale=True)])`.Output is equivalent up to float precision.\n",
      "  warnings.warn(\n"
     ]
    }
   ],
   "source": [
    "train_data =KMNIST(root='./k_date',train=True,download=True,transform=ToTensor())\n",
    "test_data =KMNIST(root='./k_date',train=False,download=True, transform=ToTensor())\n",
    "\n",
    "train_dl = DataLoader(train_data, batch_size=BATCH_SIZE, shuffle=True)"
   ]
  },
  {
   "cell_type": "code",
   "execution_count": 55,
   "metadata": {},
   "outputs": [],
   "source": [
    "# 定义模型\n",
    "model = nn.Sequential(\n",
    "    nn.Linear(784, 128),\n",
    "    nn.Sigmoid(),\n",
    "    nn.Linear(128, 128),\n",
    "    nn.Softmax(dim=1),\n",
    "    nn.Linear(128, 10)\n",
    ")"
   ]
  },
  {
   "cell_type": "code",
   "execution_count": 56,
   "metadata": {},
   "outputs": [],
   "source": [
    "# 损失函数&优化器\n",
    "loss_fn = nn.CrossEntropyLoss()  # 交叉熵损失函数\n",
    "# 优化器（模型参数更新）\n",
    "optimizer = torch.optim.SGD(model.parameters(), lr=LR)"
   ]
  },
  {
   "cell_type": "code",
   "execution_count": 57,
   "metadata": {},
   "outputs": [
    {
     "name": "stdout",
     "output_type": "stream",
     "text": [
      "Epoch:0 Loss: 2.303105354309082\n",
      "Epoch:1 Loss: 2.298931837081909\n",
      "Epoch:2 Loss: 2.3087656497955322\n",
      "Epoch:3 Loss: 2.3083183765411377\n",
      "Epoch:4 Loss: 2.3059651851654053\n",
      "Epoch:5 Loss: 2.3060128688812256\n",
      "Epoch:6 Loss: 2.299717664718628\n",
      "Epoch:7 Loss: 2.3091304302215576\n",
      "Epoch:8 Loss: 2.2993814945220947\n",
      "Epoch:9 Loss: 2.301455020904541\n",
      "Epoch:10 Loss: 2.3072474002838135\n",
      "Epoch:11 Loss: 2.304672956466675\n",
      "Epoch:12 Loss: 2.3050484657287598\n",
      "Epoch:13 Loss: 2.304311513900757\n",
      "Epoch:14 Loss: 2.3047685623168945\n",
      "Epoch:15 Loss: 2.2991764545440674\n",
      "Epoch:16 Loss: 2.305070638656616\n",
      "Epoch:17 Loss: 2.3012335300445557\n",
      "Epoch:18 Loss: 2.303389310836792\n",
      "Epoch:19 Loss: 2.304790735244751\n"
     ]
    }
   ],
   "source": [
    "for epoch in range(epochs):\n",
    "     # 提取训练数据\n",
    "    for data, target in train_dl:\n",
    "        # 前向运算\n",
    "        output = model(data.reshape(-1, 784))\n",
    "        # 计算损失\n",
    "        loss = loss_fn(output, target)\n",
    "        # 反向传播\n",
    "        optimizer.zero_grad()  # 所有参数梯度清零\n",
    "        loss.backward()     # 计算梯度（参数.grad）\n",
    "        optimizer.step()    # 更新参数\n",
    "\n",
    "    print(f'Epoch:{epoch} Loss: {loss.item()}')\n",
    "        "
   ]
  },
  {
   "cell_type": "code",
   "execution_count": 58,
   "metadata": {},
   "outputs": [
    {
     "name": "stdout",
     "output_type": "stream",
     "text": [
      "Accuracy: 10.0%\n"
     ]
    }
   ],
   "source": [
    "# 测试\n",
    "test_dl = DataLoader(test_data, batch_size=BATCH_SIZE)\n",
    "\n",
    "correct = 0\n",
    "total = 0\n",
    "with torch.no_grad():  \n",
    "    for data, target in test_dl:\n",
    "        output = model(data.reshape(-1, 784))\n",
    "        _, predicted = torch.max(output, 1)  # 返回每行最大值和索引\n",
    "        total += target.size(0)  # size(0) 等效 shape[0]\n",
    "        correct += (predicted == target).sum().item()\n",
    "\n",
    "print(f'Accuracy: {correct/total*100}%')"
   ]
  }
 ],
 "metadata": {
  "kernelspec": {
   "display_name": "py312",
   "language": "python",
   "name": "python3"
  },
  "language_info": {
   "codemirror_mode": {
    "name": "ipython",
    "version": 3
   },
   "file_extension": ".py",
   "mimetype": "text/x-python",
   "name": "python",
   "nbconvert_exporter": "python",
   "pygments_lexer": "ipython3",
   "version": "3.12.9"
  }
 },
 "nbformat": 4,
 "nbformat_minor": 2
}
