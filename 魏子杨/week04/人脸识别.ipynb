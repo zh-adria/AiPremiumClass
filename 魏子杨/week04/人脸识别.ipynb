{
 "cells": [
  {
   "cell_type": "code",
   "execution_count": 47,
   "metadata": {},
   "outputs": [],
   "source": [
    "import torch\n",
    "import torch.nn as nn\n",
    "from  sklearn.datasets import fetch_olivetti_faces \n",
    "# 批次加载数据\n",
    "from torch.utils.data import DataLoader , TensorDataset \n",
    "#转化为向量\n",
    "from torchvision.transforms.v2 import ToTensor \n",
    "#拆分函数\n",
    "from sklearn.model_selection import train_test_split\n"
   ]
  },
  {
   "cell_type": "code",
   "execution_count": 66,
   "metadata": {},
   "outputs": [],
   "source": [
    "class TorchNN(nn.Module):\n",
    "    # 初始化\n",
    "    def __init__(self):  # self 指代新创建模型对象\n",
    "        super().__init__()\n",
    "\n",
    "        self.linear1 = nn.Linear(4096, 512)\n",
    "        #归一化\n",
    "        self.bn1 = nn.BatchNorm1d(512)\n",
    "        self.linear2 = nn.Linear(512, 512)\n",
    "        self.bn2 = nn.BatchNorm1d(512)\n",
    "        self.linear3 = nn.Linear(512, 40)\n",
    "        #正则话\n",
    "        self.drop = nn.Dropout(p=0.3)\n",
    "        self.act = nn.ReLU()\n",
    "\n",
    "    # forward 前向运算 (nn.Module方法重写)\n",
    "    def forward(self, input_tensor):\n",
    "        out = self.linear1(input_tensor)\n",
    "        out = self.bn1(out)\n",
    "        out = self.act(out)\n",
    "        out = self.drop(out)\n",
    "        out = self.linear2(out)\n",
    "        out = self.bn2(out)\n",
    "        out = self.act(out)\n",
    "        out = self.drop(out)\n",
    "        final = self.linear3(out) # shape\n",
    "\n",
    "        return final"
   ]
  },
  {
   "cell_type": "code",
   "execution_count": 96,
   "metadata": {},
   "outputs": [],
   "source": [
    "#学习率\n",
    "LR = 1e-1  \n",
    "# 训练周期\n",
    "epochs = 30\n",
    "# 批次大小\n",
    "BATCH_SIZE = 10"
   ]
  },
  {
   "cell_type": "code",
   "execution_count": 97,
   "metadata": {},
   "outputs": [],
   "source": [
    "#数据导入，训练集与测试集划分\n",
    "face =fetch_olivetti_faces(data_home='./face_date',shuffle=True)\n",
    "train_X,test_X, train_y,test_y=train_test_split(face.data,face.target,test_size=0.2,random_state=42)\n",
    "# 转换为 PyTorch Tensor 格式\n",
    "train_X_tensor = torch.tensor(train_X)\n",
    "train_y_tensor = torch.tensor(train_y)\n",
    "# 创建 PyTorch Dataset 对象\n",
    "train_dataset = TensorDataset(train_X_tensor, train_y_tensor)\n",
    "train_dl = DataLoader(train_dataset, batch_size=BATCH_SIZE, shuffle=True)\n"
   ]
  },
  {
   "cell_type": "code",
   "execution_count": 98,
   "metadata": {},
   "outputs": [],
   "source": [
    "  #核心函数\n",
    "model =TorchNN()\n",
    "# 损失函数&优化器\n",
    "loss_fn = nn.CrossEntropyLoss()  # 交叉熵损失函数\n",
    "# 优化器（模型参数更新）\n",
    "#optimizer = torch.optim.SGD(model.parameters(), lr=LR)\n",
    "optimizer = torch.optim.SGD(model.parameters(), lr=LR,momentum=0.9)\n",
    "#optimizer = torch.optim.SGD(model.parameters(), lr=LR,momentum=0.9, nesterov=True)\n",
    "#optimizer_adam = torch.optim.Adam(model.parameters(), lr=1e-3)\n",
    "#optimizer_rmsprop = torch.optim.RMSprop(model.parameters(), lr=1e-3)"
   ]
  },
  {
   "cell_type": "code",
   "execution_count": 99,
   "metadata": {},
   "outputs": [
    {
     "name": "stdout",
     "output_type": "stream",
     "text": [
      "Epoch:0 Loss: 8.726295471191406\n",
      "Epoch:1 Loss: 4.149713039398193\n",
      "Epoch:2 Loss: 1.471557855606079\n",
      "Epoch:3 Loss: 1.5062861442565918\n",
      "Epoch:4 Loss: 0.5195940136909485\n",
      "Epoch:5 Loss: 0.29590046405792236\n",
      "Epoch:6 Loss: 1.6169488430023193\n",
      "Epoch:7 Loss: 1.3594567775726318\n",
      "Epoch:8 Loss: 0.5680615305900574\n",
      "Epoch:9 Loss: 1.8261350393295288\n",
      "Epoch:10 Loss: 0.09815323352813721\n",
      "Epoch:11 Loss: 0.0016433664131909609\n",
      "Epoch:12 Loss: 1.0548722743988037\n",
      "Epoch:13 Loss: 0.5640944838523865\n",
      "Epoch:14 Loss: 0.8294516801834106\n",
      "Epoch:15 Loss: 0.3266984522342682\n",
      "Epoch:16 Loss: 0.024898501113057137\n",
      "Epoch:17 Loss: 0.20863310992717743\n",
      "Epoch:18 Loss: 0.0035601588897407055\n",
      "Epoch:19 Loss: 0.7695937752723694\n",
      "Epoch:20 Loss: 0.7142073512077332\n",
      "Epoch:21 Loss: 0.5360990762710571\n",
      "Epoch:22 Loss: 0.012976089492440224\n",
      "Epoch:23 Loss: 0.9208377599716187\n",
      "Epoch:24 Loss: 0.9352172017097473\n",
      "Epoch:25 Loss: 1.1191473007202148\n",
      "Epoch:26 Loss: 0.37058359384536743\n",
      "Epoch:27 Loss: 0.3616981506347656\n",
      "Epoch:28 Loss: 0.9810177683830261\n",
      "Epoch:29 Loss: 1.344286322593689\n"
     ]
    }
   ],
   "source": [
    "for epoch in range(epochs):\n",
    "    # 提取训练数据\n",
    "    for data, target in train_dl:\n",
    "        # 前向运算\n",
    "        output = model(data)\n",
    "        # 计算损失\n",
    "        loss = loss_fn(output, target)\n",
    "        # 反向传播\n",
    "        model.zero_grad()  # 所有参数梯度清零\n",
    "        loss.backward()     # 计算梯度（参数.grad）\n",
    "        optimizer.step()    # 更新参数\n",
    "    print(f'Epoch:{epoch} Loss: {loss.item()}')"
   ]
  },
  {
   "cell_type": "code",
   "execution_count": 100,
   "metadata": {},
   "outputs": [
    {
     "name": "stdout",
     "output_type": "stream",
     "text": [
      "Accuracy: 76.25%\n"
     ]
    }
   ],
   "source": [
    "#测试\n",
    "# 转换为 PyTorch Tensor 格式\n",
    "test_X_tensor = torch.tensor(test_X)\n",
    "test_tensor = torch.tensor(test_y)\n",
    "# 创建 PyTorch Dataset 对象\n",
    "test_dataset = TensorDataset(test_X_tensor, test_tensor)\n",
    "test_dl = DataLoader(test_dataset, batch_size=BATCH_SIZE, shuffle=True)\n",
    "\n",
    "correct = 0\n",
    "total = 0\n",
    "with torch.no_grad():  \n",
    "    for data, target in test_dl:\n",
    "        output = model(data)\n",
    "        _, predicted = torch.max(output, 1)  # 返回每行最大值和索引\n",
    "        total += target.size(0)  # size(0) 等效 shape[0]\n",
    "        correct += (predicted == target).sum().item()\n",
    "\n",
    "print(f'Accuracy: {correct/total*100}%')"
   ]
  }
 ],
 "metadata": {
  "kernelspec": {
   "display_name": "py312",
   "language": "python",
   "name": "python3"
  },
  "language_info": {
   "codemirror_mode": {
    "name": "ipython",
    "version": 3
   },
   "file_extension": ".py",
   "mimetype": "text/x-python",
   "name": "python",
   "nbconvert_exporter": "python",
   "pygments_lexer": "ipython3",
   "version": "3.12.9"
  }
 },
 "nbformat": 4,
 "nbformat_minor": 2
}
