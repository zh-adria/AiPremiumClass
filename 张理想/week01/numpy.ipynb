{
 "cells": [
  {
   "cell_type": "code",
   "id": "initial_id",
   "metadata": {
    "collapsed": true,
    "ExecuteTime": {
     "end_time": "2025-02-27T03:34:05.772649Z",
     "start_time": "2025-02-27T03:34:05.542572Z"
    }
   },
   "source": "import numpy as np",
   "outputs": [],
   "execution_count": 2
  },
  {
   "metadata": {},
   "cell_type": "markdown",
   "source": [
    "指定数据集生成\n",
    "##\n",
    "dtType可选参数指定数据类型"
   ],
   "id": "8064aa9aa21ae4ec"
  },
  {
   "metadata": {
    "ExecuteTime": {
     "end_time": "2025-02-26T07:51:32.467097Z",
     "start_time": "2025-02-26T07:51:32.462918Z"
    }
   },
   "cell_type": "code",
   "source": [
    "_ = np.array([1, 2], dtype=float)\n",
    "_"
   ],
   "id": "2461d32ec16c76fb",
   "outputs": [
    {
     "data": {
      "text/plain": [
       "array([1., 2.])"
      ]
     },
     "execution_count": 5,
     "metadata": {},
     "output_type": "execute_result"
    }
   ],
   "execution_count": 5
  },
  {
   "metadata": {},
   "cell_type": "markdown",
   "source": "指定生成多维",
   "id": "f8d66cdc9f29a81"
  },
  {
   "metadata": {
    "ExecuteTime": {
     "end_time": "2025-02-26T07:53:02.543683Z",
     "start_time": "2025-02-26T07:53:02.530086Z"
    }
   },
   "cell_type": "code",
   "source": [
    "_ = np.array([[1, 2, 3], [2, 3, 4]])\n",
    "_"
   ],
   "id": "de365514ad0f08a2",
   "outputs": [
    {
     "data": {
      "text/plain": [
       "array([[1, 2, 3],\n",
       "       [2, 3, 4]])"
      ]
     },
     "execution_count": 6,
     "metadata": {},
     "output_type": "execute_result"
    }
   ],
   "execution_count": 6
  },
  {
   "metadata": {},
   "cell_type": "markdown",
   "source": "构建几行几列的值都为1的矩阵",
   "id": "ba4cb37315b0355e"
  },
  {
   "metadata": {
    "ExecuteTime": {
     "end_time": "2025-02-26T07:54:35.223920Z",
     "start_time": "2025-02-26T07:54:35.214937Z"
    }
   },
   "cell_type": "code",
   "source": [
    "a = np.ones((3, 3))\n",
    "a"
   ],
   "id": "f4713dec7959690c",
   "outputs": [
    {
     "data": {
      "text/plain": [
       "array([[1., 1., 1.],\n",
       "       [1., 1., 1.],\n",
       "       [1., 1., 1.]])"
      ]
     },
     "execution_count": 9,
     "metadata": {},
     "output_type": "execute_result"
    }
   ],
   "execution_count": 9
  },
  {
   "metadata": {},
   "cell_type": "markdown",
   "source": "构建几行几列的值都为0的矩阵",
   "id": "ba2f5fa1cddf55a"
  },
  {
   "metadata": {
    "ExecuteTime": {
     "end_time": "2025-02-26T07:54:09.316144Z",
     "start_time": "2025-02-26T07:54:09.312678Z"
    }
   },
   "cell_type": "code",
   "source": [
    "a1 = np.zeros((2, 3))\n",
    "a1"
   ],
   "id": "509dbaf20f2af0f7",
   "outputs": [
    {
     "data": {
      "text/plain": [
       "array([[0., 0., 0.],\n",
       "       [0., 0., 0.]])"
      ]
     },
     "execution_count": 7,
     "metadata": {},
     "output_type": "execute_result"
    }
   ],
   "execution_count": 7
  },
  {
   "metadata": {},
   "cell_type": "markdown",
   "source": "生成等差数据 前闭后开",
   "id": "580b54490cf95909"
  },
  {
   "metadata": {
    "ExecuteTime": {
     "end_time": "2025-02-26T07:59:43.103582Z",
     "start_time": "2025-02-26T07:59:43.086412Z"
    }
   },
   "cell_type": "code",
   "source": [
    "_ = np.arange(1, 5, 1)\n",
    "_"
   ],
   "id": "7f247ed16512d9a2",
   "outputs": [
    {
     "data": {
      "text/plain": [
       "array([1, 2, 3, 4])"
      ]
     },
     "execution_count": 11,
     "metadata": {},
     "output_type": "execute_result"
    }
   ],
   "execution_count": 11
  },
  {
   "metadata": {},
   "cell_type": "markdown",
   "source": "添加单位矩阵 对角线都为1",
   "id": "e71d0e74c49bb476"
  },
  {
   "metadata": {
    "ExecuteTime": {
     "end_time": "2025-02-26T08:00:50.252435Z",
     "start_time": "2025-02-26T08:00:50.236302Z"
    }
   },
   "cell_type": "code",
   "source": [
    "_ = np.eye(5)\n",
    "_"
   ],
   "id": "bb5bc98459161bbc",
   "outputs": [
    {
     "data": {
      "text/plain": [
       "array([[1., 0., 0., 0., 0.],\n",
       "       [0., 1., 0., 0., 0.],\n",
       "       [0., 0., 1., 0., 0.],\n",
       "       [0., 0., 0., 1., 0.],\n",
       "       [0., 0., 0., 0., 1.]])"
      ]
     },
     "execution_count": 13,
     "metadata": {},
     "output_type": "execute_result"
    }
   ],
   "execution_count": 13
  },
  {
   "metadata": {},
   "cell_type": "markdown",
   "source": "生成[0,1)范围内指定数量的随机数据据",
   "id": "e226954310ce0eeb"
  },
  {
   "metadata": {
    "ExecuteTime": {
     "end_time": "2025-02-26T08:29:42.138208Z",
     "start_time": "2025-02-26T08:29:42.122184Z"
    }
   },
   "cell_type": "code",
   "source": [
    "_ = np.random.random(4)\n",
    "_"
   ],
   "id": "3e9204eaa9362855",
   "outputs": [
    {
     "data": {
      "text/plain": [
       "array([0.70796837, 0.77421071, 0.65362806, 0.62886411])"
      ]
     },
     "execution_count": 20,
     "metadata": {},
     "output_type": "execute_result"
    }
   ],
   "execution_count": 20
  },
  {
   "metadata": {},
   "cell_type": "markdown",
   "source": "生成均值为1 标准差为1指定数量的随机数据:均值不为1是数据量足够大时趋近于1",
   "id": "9af0923a57ccba1d"
  },
  {
   "metadata": {
    "ExecuteTime": {
     "end_time": "2025-02-26T08:35:27.600718Z",
     "start_time": "2025-02-26T08:35:27.587041Z"
    }
   },
   "cell_type": "code",
   "source": [
    "_ = np.random.normal(0, 1, 4)\n",
    "_"
   ],
   "id": "76bba11f78346617",
   "outputs": [
    {
     "data": {
      "text/plain": [
       "array([ 2.03796257,  0.66220711,  0.92722308, -0.09519438])"
      ]
     },
     "execution_count": 24,
     "metadata": {},
     "output_type": "execute_result"
    }
   ],
   "execution_count": 24
  },
  {
   "metadata": {},
   "cell_type": "markdown",
   "source": "切片",
   "id": "28348d9298f8897c"
  },
  {
   "metadata": {
    "ExecuteTime": {
     "end_time": "2025-02-26T08:38:10.662098Z",
     "start_time": "2025-02-26T08:38:10.646583Z"
    }
   },
   "cell_type": "code",
   "source": [
    "a2 = np.array([[1, 2, 3], [4, 5, 6], [7, 8, 9]])\n",
    "a4 = a2[0]\n",
    "print(a4)\n",
    "a3 = a2[1:, 1:]\n",
    "a3"
   ],
   "id": "28ac1bf08e4a7547",
   "outputs": [
    {
     "name": "stdout",
     "output_type": "stream",
     "text": [
      "[1 2 3]\n"
     ]
    },
    {
     "data": {
      "text/plain": [
       "array([[5, 6],\n",
       "       [8, 9]])"
      ]
     },
     "execution_count": 28,
     "metadata": {},
     "output_type": "execute_result"
    }
   ],
   "execution_count": 28
  },
  {
   "metadata": {},
   "cell_type": "markdown",
   "source": "遍历",
   "id": "db04465ceca5e74d"
  },
  {
   "metadata": {
    "ExecuteTime": {
     "end_time": "2025-02-26T08:40:10.684839Z",
     "start_time": "2025-02-26T08:40:10.671003Z"
    }
   },
   "cell_type": "code",
   "source": [
    "a2 = np.array([[1, 2, 3], [4, 5, 6], [7, 8, 9]])\n",
    "for i, j, k in a2:\n",
    "    print(i * j * k)"
   ],
   "id": "b20f12d840eb00df",
   "outputs": [
    {
     "name": "stdout",
     "output_type": "stream",
     "text": [
      "6\n",
      "120\n",
      "504\n"
     ]
    }
   ],
   "execution_count": 30
  },
  {
   "metadata": {
    "ExecuteTime": {
     "end_time": "2025-02-27T03:34:14.769630Z",
     "start_time": "2025-02-27T03:34:14.760568Z"
    }
   },
   "cell_type": "code",
   "source": [
    "a2 = np.array([[1, 2, 3], [4, 5, 6], [7, 8, 9]])\n",
    "print(f'数据的维度{a2.ndim}')\n",
    "print(f'数据的大小{a2.shape}')\n",
    "print(f'数据的个数{a2.size}')\n",
    "print(f'数据的类型{a2.dtype}')"
   ],
   "id": "17d7cb8d503373d3",
   "outputs": [
    {
     "name": "stdout",
     "output_type": "stream",
     "text": [
      "数据的维度2\n",
      "数据的大小(3, 3)\n",
      "数据的个数9\n",
      "数据的类型int32\n"
     ]
    }
   ],
   "execution_count": 4
  },
  {
   "metadata": {},
   "cell_type": "markdown",
   "source": [
    "均值 (1,2,3) a=(1+2+3)/3\n",
    "方差 b=((1-a)^2 +(2-a)^2+(3-a)^2)/3\n",
    "标准差c=根号b"
   ],
   "id": "77f8a1011f5281e3"
  },
  {
   "metadata": {
    "ExecuteTime": {
     "end_time": "2025-02-27T03:34:17.975231Z",
     "start_time": "2025-02-27T03:34:17.964680Z"
    }
   },
   "cell_type": "code",
   "source": [
    "a4 = np.mean(a2)\n",
    "a5 = np.var(a2)\n",
    "a6 = np.std(a2)\n",
    "print(f'均值{a4}')\n",
    "print(f'方差{a5}')\n",
    "print(f'标准差{a6}')"
   ],
   "id": "9e682752734a8df2",
   "outputs": [
    {
     "name": "stdout",
     "output_type": "stream",
     "text": [
      "均值5.0\n",
      "方差6.666666666666667\n",
      "标准差2.581988897471611\n"
     ]
    }
   ],
   "execution_count": 5
  },
  {
   "metadata": {},
   "cell_type": "markdown",
   "source": "判断元素是否在数组中 ",
   "id": "aae49b8780ef60f1"
  },
  {
   "metadata": {
    "ExecuteTime": {
     "end_time": "2025-02-27T03:41:26.094274Z",
     "start_time": "2025-02-27T03:41:26.083987Z"
    }
   },
   "cell_type": "code",
   "source": [
    "print(10 in np.arange(10))\n",
    "print(1 in np.arange(10))"
   ],
   "id": "4091f8e7e7b13fc7",
   "outputs": [
    {
     "name": "stdout",
     "output_type": "stream",
     "text": [
      "False\n",
      "True\n"
     ]
    }
   ],
   "execution_count": 7
  },
  {
   "metadata": {},
   "cell_type": "markdown",
   "source": [
    "## 向上取整\n",
    "## 向下取整\n",
    "## 四舍五入\n",
    "## 最大值的索引\n",
    "## 最小值的索引\n",
    "## 最大值的索引沿x轴\n",
    "## 最小值的索引沿x轴\n",
    "## 最大值的索引沿y轴\n",
    "## 最小值的索引沿y轴"
   ],
   "id": "9638c87558d8e96d"
  },
  {
   "metadata": {
    "ExecuteTime": {
     "end_time": "2025-02-27T06:18:10.376709Z",
     "start_time": "2025-02-27T06:18:10.358296Z"
    }
   },
   "cell_type": "code",
   "source": [
    "a2 = np.array([(1.1, 2.2),\n",
    "               (2.6, 3.3,),\n",
    "               (1.1, 3.9)])\n",
    "a7 = np.ceil(a2)\n",
    "a8 = np.floor(a2)\n",
    "a9 = np.rint(a2)\n",
    "a10 = np.argmax(a2)\n",
    "a11 = np.argmin(a2)\n",
    "a12 = np.argmax(a2, axis=0)\n",
    "a13 = np.argmin(a2, axis=0)\n",
    "a14 = np.argmax(a2, axis=1)\n",
    "a15 = np.argmin(a2, axis=1)\n",
    "print(a7)\n",
    "print(a8)\n",
    "print(a9)\n",
    "print(a10)\n",
    "print(a11)\n",
    "print(a12)\n",
    "print(a13)\n",
    "print(a14)\n",
    "print(a15)"
   ],
   "id": "c35e612f8cd14a1",
   "outputs": [
    {
     "name": "stdout",
     "output_type": "stream",
     "text": [
      "[[2. 3.]\n",
      " [3. 4.]\n",
      " [2. 4.]]\n",
      "[[1. 2.]\n",
      " [2. 3.]\n",
      " [1. 3.]]\n",
      "[[1. 2.]\n",
      " [3. 3.]\n",
      " [1. 4.]]\n",
      "5\n",
      "0\n",
      "[1 2]\n",
      "[0 0]\n",
      "[1 1 1]\n",
      "[0 0 0]\n"
     ]
    }
   ],
   "execution_count": 55
  },
  {
   "metadata": {},
   "cell_type": "markdown",
   "source": "数组排序",
   "id": "5de49e3be1662a4e"
  },
  {
   "metadata": {
    "ExecuteTime": {
     "end_time": "2025-02-27T06:19:57.987154Z",
     "start_time": "2025-02-27T06:19:57.972606Z"
    }
   },
   "cell_type": "code",
   "source": [
    "_ = np.array([(1, 5, 2, 6, 3, 7, 4, 8)])\n",
    "_.sort()\n",
    "_"
   ],
   "id": "b9abf77dfda3a127",
   "outputs": [
    {
     "data": {
      "text/plain": [
       "array([[1, 2, 3, 4, 5, 6, 7, 8]])"
      ]
     },
     "execution_count": 57,
     "metadata": {},
     "output_type": "execute_result"
    }
   ],
   "execution_count": 57
  },
  {
   "metadata": {},
   "cell_type": "markdown",
   "source": [
    "# 数组结构重排序\n",
    "## T和transpose 转置行转列\n",
    "## reshape 返回新的内容 数据数量不一致时报错\n",
    "## resize 修改原内容  数据数量不一致时填充或截取\n",
    "## 多维转一维\n"
   ],
   "id": "86b40726b4560364"
  },
  {
   "metadata": {
    "ExecuteTime": {
     "end_time": "2025-02-27T05:39:10.317928Z",
     "start_time": "2025-02-27T05:39:10.298693Z"
    }
   },
   "cell_type": "code",
   "source": [
    "a2 = np.array([[1, 2, 3, 5], [4, 5, 6, 6]])\n",
    "print(a2.T)\n",
    "print(a2.transpose())\n",
    "a2.resize((2, 4))\n",
    "print(a2)\n",
    "# print(a3)\n",
    "print('--------------')\n",
    "print(a2.reshape(4, 2))\n",
    "print('--------------')\n",
    "print(a2.flatten())"
   ],
   "id": "2a59f8622028db37",
   "outputs": [
    {
     "name": "stdout",
     "output_type": "stream",
     "text": [
      "[[1 4]\n",
      " [2 5]\n",
      " [3 6]\n",
      " [5 6]]\n",
      "[[1 2 3 5]\n",
      " [4 5 6 6]]\n",
      "--------------\n",
      "[[1 2]\n",
      " [3 5]\n",
      " [4 5]\n",
      " [6 6]]\n",
      "--------------\n",
      "[1 2 3 5 4 5 6 6]\n"
     ]
    }
   ],
   "execution_count": 29
  },
  {
   "metadata": {},
   "cell_type": "markdown",
   "source": "增加维度",
   "id": "21fce43d0e550f68"
  },
  {
   "metadata": {
    "ExecuteTime": {
     "end_time": "2025-02-27T05:52:56.337502Z",
     "start_time": "2025-02-27T05:52:56.330899Z"
    }
   },
   "cell_type": "code",
   "source": [
    "_ = np.ones((3, 4), dtype=int)\n",
    "print(_)\n",
    "print(_.shape)\n",
    "_ = _[:, :, np.newaxis]\n",
    "print(_.shape)\n",
    "print(_)"
   ],
   "id": "8b8fc4a5164d5080",
   "outputs": [
    {
     "name": "stdout",
     "output_type": "stream",
     "text": [
      "[[1 1 1 1]\n",
      " [1 1 1 1]\n",
      " [1 1 1 1]]\n",
      "(3, 4)\n",
      "(3, 4, 1)\n",
      "[[[1]\n",
      "  [1]\n",
      "  [1]\n",
      "  [1]]\n",
      "\n",
      " [[1]\n",
      "  [1]\n",
      "  [1]\n",
      "  [1]]\n",
      "\n",
      " [[1]\n",
      "  [1]\n",
      "  [1]\n",
      "  [1]]]\n"
     ]
    }
   ],
   "execution_count": 38
  },
  {
   "metadata": {},
   "cell_type": "markdown",
   "source": [
    "数据运算\n",
    "## 加法  数组间的每个位置数之和\n",
    "## 减法  数组间的每个位置数之差\n",
    "## 乘法  数组间的每个位置数之积\n",
    "## 除法  数组间的每个位置数之除"
   ],
   "id": "5abd6c5214733e78"
  },
  {
   "metadata": {
    "ExecuteTime": {
     "end_time": "2025-02-27T06:00:30.206495Z",
     "start_time": "2025-02-27T06:00:30.186522Z"
    }
   },
   "cell_type": "code",
   "source": [
    "a1 = np.ones((3, 2), dtype=int)\n",
    "a2 = np.array([(1, 1), (2, 2), (3, 3)])\n",
    "print(a1)\n",
    "print('--------')\n",
    "print(a2)\n",
    "print('--------')\n",
    "print(a1 + a2)\n",
    "print('--------')\n",
    "print(a1 - a2)\n",
    "print('--------')\n",
    "print(a1 * a2)\n",
    "print('--------')\n",
    "print(a1 / a2)"
   ],
   "id": "fb44accf77a8358d",
   "outputs": [
    {
     "name": "stdout",
     "output_type": "stream",
     "text": [
      "[[1 1]\n",
      " [1 1]\n",
      " [1 1]]\n",
      "--------\n",
      "[[1 1]\n",
      " [2 2]\n",
      " [3 3]]\n",
      "--------\n",
      "[[2 2]\n",
      " [3 3]\n",
      " [4 4]]\n",
      "--------\n",
      "[[ 0  0]\n",
      " [-1 -1]\n",
      " [-2 -2]]\n",
      "--------\n",
      "[[1 1]\n",
      " [2 2]\n",
      " [3 3]]\n",
      "--------\n",
      "[[1.         1.        ]\n",
      " [0.5        0.5       ]\n",
      " [0.33333333 0.33333333]]\n"
     ]
    }
   ],
   "execution_count": 46
  },
  {
   "metadata": {},
   "cell_type": "markdown",
   "source": "数组求和/求积",
   "id": "7d07eeed77de3ab6"
  },
  {
   "metadata": {
    "ExecuteTime": {
     "end_time": "2025-02-27T06:02:00.109611Z",
     "start_time": "2025-02-27T06:02:00.097552Z"
    }
   },
   "cell_type": "code",
   "source": [
    "_ = np.array([(3, 4), (5, 6)])\n",
    "print(_.sum())\n",
    "print(_.prod())"
   ],
   "id": "605df1c33f010857",
   "outputs": [
    {
     "name": "stdout",
     "output_type": "stream",
     "text": [
      "18\n",
      "360\n"
     ]
    }
   ],
   "execution_count": 48
  },
  {
   "metadata": {},
   "cell_type": "markdown",
   "source": [
    "线代\n",
    "## np.dot和@ 矩阵乘法 [1,1]=1x7+2x4 [1,2]=1x8+2x5 [2,1]=4x7+5x4 [2,2]=4x8+5x5"
   ],
   "id": "dd325a8d8c9b8cd3"
  },
  {
   "metadata": {
    "ExecuteTime": {
     "end_time": "2025-02-27T06:23:08.038183Z",
     "start_time": "2025-02-27T06:23:08.033273Z"
    }
   },
   "cell_type": "code",
   "source": [
    "b1 = np.array([[1, 2],\n",
    "               [4, 5]])\n",
    "b2 = np.array([[7, 8],\n",
    "               [4, 5]])\n",
    "b4 = np.dot(b1, b2)\n",
    "b5 = b1 @ b2\n",
    "print(b4)\n",
    "print(b5)"
   ],
   "id": "9b55de405373ba2",
   "outputs": [
    {
     "name": "stdout",
     "output_type": "stream",
     "text": [
      "[[15 18]\n",
      " [48 57]]\n",
      "[[15 18]\n",
      " [48 57]]\n"
     ]
    }
   ],
   "execution_count": 58
  },
  {
   "metadata": {
    "ExecuteTime": {
     "end_time": "2025-02-27T06:26:55.518998Z",
     "start_time": "2025-02-27T06:26:55.505425Z"
    }
   },
   "cell_type": "code",
   "source": [
    "_ = np.array([(1, 2, 3)])\n",
    "np.save('numpy/data.npy', _)\n",
    "_ = np.load('numpy/data.npy')\n",
    "print(_)\n",
    "np.savetxt('numpy/data.txt', _)\n",
    "_ = np.loadtxt('numpy/data.txt')\n",
    "print(_)"
   ],
   "id": "e23db295ab331b4d",
   "outputs": [
    {
     "name": "stdout",
     "output_type": "stream",
     "text": [
      "[[1 2 3]]\n",
      "[1. 2. 3.]\n"
     ]
    }
   ],
   "execution_count": 61
  },
  {
   "metadata": {},
   "cell_type": "markdown",
   "source": [
    "广播 形状不同时自动触发升维\n",
    "## c2->[-1.2],[-1,2] 升维 拷贝自身 低维->高维"
   ],
   "id": "ec121d2dea329195"
  },
  {
   "metadata": {
    "ExecuteTime": {
     "end_time": "2025-02-27T06:29:25.492923Z",
     "start_time": "2025-02-27T06:29:25.478572Z"
    }
   },
   "cell_type": "code",
   "source": [
    "c1 = np.array([(1, 1), (2, 2)])\n",
    "c2 = np.array([-1, 2])\n",
    "c3 = c1 + c2\n",
    "c3"
   ],
   "id": "61f364127ac78122",
   "outputs": [
    {
     "data": {
      "text/plain": [
       "array([[0, 3],\n",
       "       [1, 4]])"
      ]
     },
     "execution_count": 62,
     "metadata": {},
     "output_type": "execute_result"
    }
   ],
   "execution_count": 62
  },
  {
   "metadata": {},
   "cell_type": "markdown",
   "source": "T转置 行转列\n",
   "id": "7e533ff9bf2675e2"
  },
  {
   "metadata": {
    "ExecuteTime": {
     "end_time": "2025-02-23T08:14:02.679201Z",
     "start_time": "2025-02-23T08:14:02.661843Z"
    }
   },
   "cell_type": "code",
   "source": [
    "c1 = np.array([(1, 3), (2, 4)])\n",
    "c4 = c1.trace()\n",
    "print(c1)\n",
    "print(c4)"
   ],
   "id": "371f8e36fe1782d8",
   "outputs": [
    {
     "name": "stdout",
     "output_type": "stream",
     "text": [
      "[[1 3]\n",
      " [2 4]]\n",
      "[[1 2]\n",
      " [3 4]]\n"
     ]
    }
   ],
   "execution_count": 4
  },
  {
   "metadata": {},
   "cell_type": "markdown",
   "source": "生成三维数组",
   "id": "a4810194901d918e"
  },
  {
   "metadata": {
    "ExecuteTime": {
     "end_time": "2025-02-23T10:40:56.214590Z",
     "start_time": "2025-02-23T10:40:56.172533Z"
    }
   },
   "cell_type": "code",
   "source": [
    "d1 = np.zeros([2, 3, 4])\n",
    "d1"
   ],
   "id": "97df43f09a137330",
   "outputs": [
    {
     "data": {
      "text/plain": [
       "array([[[0., 0., 0., 0.],\n",
       "        [0., 0., 0., 0.],\n",
       "        [0., 0., 0., 0.]],\n",
       "\n",
       "       [[0., 0., 0., 0.],\n",
       "        [0., 0., 0., 0.],\n",
       "        [0., 0., 0., 0.]]])"
      ]
     },
     "execution_count": 5,
     "metadata": {},
     "output_type": "execute_result"
    }
   ],
   "execution_count": 5
  },
  {
   "metadata": {},
   "cell_type": "markdown",
   "source": "",
   "id": "56dc0f93ba48ac39"
  }
 ],
 "metadata": {
  "kernelspec": {
   "display_name": "Python 3",
   "language": "python",
   "name": "python3"
  },
  "language_info": {
   "codemirror_mode": {
    "name": "ipython",
    "version": 2
   },
   "file_extension": ".py",
   "mimetype": "text/x-python",
   "name": "python",
   "nbconvert_exporter": "python",
   "pygments_lexer": "ipython2",
   "version": "2.7.6"
  }
 },
 "nbformat": 4,
 "nbformat_minor": 5
}
