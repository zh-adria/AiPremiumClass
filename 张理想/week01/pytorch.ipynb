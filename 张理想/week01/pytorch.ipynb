{
 "cells": [
  {
   "metadata": {},
   "cell_type": "markdown",
   "source": "创建一个未初始化的张量 不包含任何确切的值",
   "id": "572e82addda2c385"
  },
  {
   "metadata": {},
   "cell_type": "code",
   "outputs": [
    {
     "data": {
      "text/plain": [
       "tensor([[ 0.0000e+00,  0.0000e+00, -3.0347e-36,  6.1237e-43],\n",
       "        [ 1.1771e-43,  0.0000e+00,  1.3032e-43,  1.8037e+28],\n",
       "        [ 0.0000e+00,  0.0000e+00,  0.0000e+00,  0.0000e+00],\n",
       "        [ 1.4013e-44,  0.0000e+00,  1.5414e-44,  0.0000e+00],\n",
       "        [ 0.0000e+00,  0.0000e+00,  1.4013e-44,  0.0000e+00]])"
      ]
     },
     "execution_count": 1,
     "metadata": {},
     "output_type": "execute_result"
    }
   ],
   "execution_count": 1,
   "source": [
    "import torch\n",
    "\n",
    "a = torch.empty(5, 4)\n",
    "a"
   ],
   "id": "initial_id"
  },
  {
   "metadata": {},
   "cell_type": "markdown",
   "source": [
    "创建一个随机数的张量 高斯分布 均值为0 方差为1\n",
    "#\n",
    "torch.rand(4, 2)：生成的是[0, 1)区间内均匀分布的随机数。\n",
    "#\n",
    "torch.randn(4, 2)：生成的是均值为0，方差为1的标准正态分布随机数。"
   ],
   "id": "81593caefd4a28a7"
  },
  {
   "metadata": {
    "ExecuteTime": {
     "end_time": "2025-02-24T02:00:23.758521Z",
     "start_time": "2025-02-24T02:00:21.552609Z"
    }
   },
   "cell_type": "code",
   "source": [
    "a1 = torch.randn(4, 2, device=\"cuda\")\n",
    "a1"
   ],
   "id": "f7bbadc7cc2cfc67",
   "outputs": [
    {
     "data": {
      "text/plain": [
       "tensor([[-1.0591,  0.8531],\n",
       "        [ 1.9666, -0.0130],\n",
       "        [ 1.1879, -0.5566],\n",
       "        [ 0.0860,  0.5483]], device='cuda:0')"
      ]
     },
     "execution_count": 4,
     "metadata": {},
     "output_type": "execute_result"
    }
   ],
   "execution_count": 4
  },
  {
   "metadata": {},
   "cell_type": "markdown",
   "source": "",
   "id": "966dd7d242212cf5"
  },
  {
   "metadata": {},
   "cell_type": "markdown",
   "source": "*全矩阵为0且指定数据元素的类型为long",
   "id": "36e22a9fb8d39e42"
  },
  {
   "metadata": {
    "ExecuteTime": {
     "end_time": "2025-02-27T07:06:27.477509Z",
     "start_time": "2025-02-27T07:06:27.467949Z"
    }
   },
   "cell_type": "code",
   "source": [
    "a2 = torch.zeros((5, 3), dtype=torch.long)\n",
    "a2"
   ],
   "id": "5aba58eecc0ab2ab",
   "outputs": [
    {
     "data": {
      "text/plain": [
       "tensor([[0, 0, 0],\n",
       "        [0, 0, 0],\n",
       "        [0, 0, 0],\n",
       "        [0, 0, 0],\n",
       "        [0, 0, 0]])"
      ]
     },
     "execution_count": 11,
     "metadata": {},
     "output_type": "execute_result"
    }
   ],
   "execution_count": 11
  },
  {
   "metadata": {},
   "cell_type": "markdown",
   "source": "*全矩阵为1且指定数据元素的类型为long",
   "id": "836bb99c7c32be60"
  },
  {
   "metadata": {
    "ExecuteTime": {
     "end_time": "2025-02-27T07:06:57.011292Z",
     "start_time": "2025-02-27T07:06:56.994481Z"
    }
   },
   "cell_type": "code",
   "source": [
    "a2 = torch.ones((5, 3), dtype=torch.long)\n",
    "a2"
   ],
   "id": "de44e0bbf4c931b0",
   "outputs": [
    {
     "data": {
      "text/plain": [
       "tensor([[1, 1, 1],\n",
       "        [1, 1, 1],\n",
       "        [1, 1, 1],\n",
       "        [1, 1, 1],\n",
       "        [1, 1, 1]])"
      ]
     },
     "execution_count": 12,
     "metadata": {},
     "output_type": "execute_result"
    }
   ],
   "execution_count": 12
  },
  {
   "metadata": {},
   "cell_type": "markdown",
   "source": "*通过数据创建",
   "id": "f1289cdd7ee53662"
  },
  {
   "metadata": {
    "ExecuteTime": {
     "end_time": "2025-02-24T02:10:18.986011Z",
     "start_time": "2025-02-24T02:10:18.965573Z"
    }
   },
   "cell_type": "code",
   "source": [
    "a3 = torch.tensor([2.5, 3.5])\n",
    "a3"
   ],
   "id": "6a1757ab3fde31f",
   "outputs": [
    {
     "data": {
      "text/plain": [
       "tensor([2.5000, 3.5000])"
      ]
     },
     "execution_count": 6,
     "metadata": {},
     "output_type": "execute_result"
    }
   ],
   "execution_count": 6
  },
  {
   "metadata": {},
   "cell_type": "markdown",
   "source": [
    "通过已有的张量创建相同尺寸的新张量\n",
    "#\n",
    "new_ones:矩阵内容全为1 new_ones可重新指定大小\n",
    "randn_like:随机数 高斯分配 不可指定\n",
    "# \n",
    "a2与a4不会存在数据上的内容关联 存放地址会保持一致 \n",
    "#\n",
    "可选按照a2的矩阵大小和数据类型生成\n",
    "a2.new_ones(a2.size()),dtype=torch.double)\n",
    "randn_like会根据模板中的size生成均匀"
   ],
   "id": "f9ddd14e84991298"
  },
  {
   "metadata": {
    "ExecuteTime": {
     "end_time": "2025-02-27T07:03:18.698683Z",
     "start_time": "2025-02-27T07:03:18.680308Z"
    }
   },
   "cell_type": "code",
   "source": [
    "a4 = a2.new_ones(2, 2, dtype=torch.double)\n",
    "print(a4)\n",
    "a4 = torch.randn_like(a2, dtype=torch.float)\n",
    "print(a4)"
   ],
   "id": "733c3f38e7862fae",
   "outputs": [
    {
     "name": "stdout",
     "output_type": "stream",
     "text": [
      "tensor([[1., 1.],\n",
      "        [1., 1.]], dtype=torch.float64)\n",
      "tensor([[ 2.2718,  0.1945,  0.8392],\n",
      "        [-1.3175,  0.1312, -0.4787],\n",
      "        [-0.3626, -0.7453,  0.0386],\n",
      "        [-1.2123,  0.7305, -0.8259],\n",
      "        [-0.6018,  0.4820,  0.9370]])\n"
     ]
    }
   ],
   "execution_count": 10
  },
  {
   "metadata": {},
   "cell_type": "markdown",
   "source": "根据其他的张量创建类似的张量，保留形状和属性",
   "id": "30c623e3d213274a"
  },
  {
   "metadata": {
    "ExecuteTime": {
     "end_time": "2025-02-27T07:57:28.272882Z",
     "start_time": "2025-02-27T07:57:28.265947Z"
    }
   },
   "cell_type": "code",
   "source": [
    "_ = torch.ones_like(a2)\n",
    "print(_)\n",
    "_ = torch.zeros_like(a2)\n",
    "print('---------')\n",
    "print(_)"
   ],
   "id": "bb426f4aa3b222c7",
   "outputs": [
    {
     "name": "stdout",
     "output_type": "stream",
     "text": [
      "tensor([[1, 1, 1],\n",
      "        [1, 1, 1],\n",
      "        [1, 1, 1],\n",
      "        [1, 1, 1],\n",
      "        [1, 1, 1]])\n",
      "---------\n",
      "tensor([[0, 0, 0],\n",
      "        [0, 0, 0],\n",
      "        [0, 0, 0],\n",
      "        [0, 0, 0],\n",
      "        [0, 0, 0]])\n"
     ]
    }
   ],
   "execution_count": 15
  },
  {
   "metadata": {},
   "cell_type": "markdown",
   "source": [
    "## rand均匀分布 \n",
    "## randn标准正态分布\n",
    "## normal离散正态分布 mean均值 std标准差\n",
    "## linspace[start,end]等差数列"
   ],
   "id": "b7f991b76718dbfa"
  },
  {
   "metadata": {
    "ExecuteTime": {
     "end_time": "2025-02-27T08:02:06.576455Z",
     "start_time": "2025-02-27T08:02:06.566833Z"
    }
   },
   "cell_type": "code",
   "source": [
    "_ = torch.rand(2, 3)\n",
    "print(_)\n",
    "_ = torch.randn(2, 3)\n",
    "print(_)\n",
    "_ = torch.normal(mean=.0, std=1.1, size=(2, 3))\n",
    "print(_)\n",
    "\n",
    "_ = torch.linspace(start=1, end=20, steps=10)\n",
    "print(_)"
   ],
   "id": "9be356506eb57d87",
   "outputs": [
    {
     "name": "stdout",
     "output_type": "stream",
     "text": [
      "tensor([[0.0555, 0.6121, 0.4497],\n",
      "        [0.0522, 0.6280, 0.3700]])\n",
      "tensor([[-1.0699, -0.0926,  0.0834],\n",
      "        [ 0.6546, -0.8661,  0.0937]])\n",
      "tensor([[-1.8292, -0.3627, -0.0715],\n",
      "        [-1.2439,  2.3822, -1.5954]])\n",
      "tensor([ 1.0000,  3.1111,  5.2222,  7.3333,  9.4444, 11.5556, 13.6667, 15.7778,\n",
      "        17.8889, 20.0000])\n"
     ]
    }
   ],
   "execution_count": 19
  },
  {
   "metadata": {},
   "cell_type": "markdown",
   "source": "张量属性",
   "id": "89282841e7881dc8"
  },
  {
   "metadata": {
    "ExecuteTime": {
     "end_time": "2025-02-27T08:04:53.582327Z",
     "start_time": "2025-02-27T08:04:53.565520Z"
    }
   },
   "cell_type": "code",
   "source": [
    "_ = torch.ones((2, 3))\n",
    "print(f'尺寸{_.size()}')\n",
    "print(f'尺寸{_.shape}')\n",
    "print(f'数据类型{_.dtype}')\n",
    "print(f'张量位置{_.device}')"
   ],
   "id": "c512dfb27d8d21fa",
   "outputs": [
    {
     "name": "stdout",
     "output_type": "stream",
     "text": [
      "尺寸torch.Size([2, 3])\n",
      "尺寸torch.Size([2, 3])\n",
      "数据类型torch.float32\n",
      "张量位置cpu\n"
     ]
    }
   ],
   "execution_count": 21
  },
  {
   "metadata": {},
   "cell_type": "markdown",
   "source": "*view改变张量形状 view(总数)为平铺 view(-1,x) -1代表行数为total/x",
   "id": "c4e77f634fdad484"
  },
  {
   "metadata": {
    "ExecuteTime": {
     "end_time": "2025-02-24T03:17:00.177518Z",
     "start_time": "2025-02-24T03:17:00.163491Z"
    }
   },
   "cell_type": "code",
   "source": [
    "a5 = torch.rand(4, 4)\n",
    "a6 = a5.view(16)\n",
    "print(a5)\n",
    "print(a6)"
   ],
   "id": "a1eea1a9161179ff",
   "outputs": [
    {
     "name": "stdout",
     "output_type": "stream",
     "text": [
      "tensor([[0.9708, 0.2777, 0.6909, 0.1032],\n",
      "        [0.5955, 0.3348, 0.5300, 0.7151],\n",
      "        [0.3286, 0.5423, 0.7002, 0.8647],\n",
      "        [0.3275, 0.1470, 0.3169, 0.7049]])\n",
      "tensor([0.9708, 0.2777, 0.6909, 0.1032, 0.5955, 0.3348, 0.5300, 0.7151, 0.3286,\n",
      "        0.5423, 0.7002, 0.8647, 0.3275, 0.1470, 0.3169, 0.7049])\n"
     ]
    }
   ],
   "execution_count": 14
  },
  {
   "metadata": {},
   "cell_type": "markdown",
   "source": "*torch中只有一个值时可以使用取出 会以python number形式输出;一般用于损失值",
   "id": "1c6c3d24a2ab7607"
  },
  {
   "metadata": {
    "ExecuteTime": {
     "end_time": "2025-02-24T04:03:04.926314Z",
     "start_time": "2025-02-24T04:03:04.913093Z"
    }
   },
   "cell_type": "code",
   "source": [
    "a7 = torch.rand(1)\n",
    "print(a7.item())"
   ],
   "id": "3204c7d612bbdd59",
   "outputs": [
    {
     "name": "stdout",
     "output_type": "stream",
     "text": [
      "0.14267945289611816\n"
     ]
    }
   ],
   "execution_count": 15
  },
  {
   "metadata": {},
   "cell_type": "markdown",
   "source": "torch.tolist转列表",
   "id": "51fefbd78a7e16c9"
  },
  {
   "metadata": {
    "ExecuteTime": {
     "end_time": "2025-02-24T04:07:57.963734Z",
     "start_time": "2025-02-24T04:07:57.952791Z"
    }
   },
   "cell_type": "code",
   "source": [
    "a8 = torch.rand(2, 2)\n",
    "a9 = a8.tolist()\n",
    "a9"
   ],
   "id": "4d5069a1ec589478",
   "outputs": [
    {
     "data": {
      "text/plain": [
       "[[0.40513527393341064, 0.9360982775688171],\n",
       " [0.837430477142334, 0.24525201320648193]]"
      ]
     },
     "execution_count": 18,
     "metadata": {},
     "output_type": "execute_result"
    }
   ],
   "execution_count": 18
  },
  {
   "metadata": {},
   "cell_type": "markdown",
   "source": "*torch和numpy相互转换(除了ChartTensor)，共享底层内存空间。数据有着相同的物理地址",
   "id": "7900a2035cb6008b"
  },
  {
   "metadata": {
    "ExecuteTime": {
     "end_time": "2025-02-27T08:05:24.919265Z",
     "start_time": "2025-02-27T08:05:24.908350Z"
    }
   },
   "cell_type": "code",
   "source": [
    "a10 = torch.ones(5)\n",
    "a11 = a10.numpy()\n",
    "a12 = torch.from_numpy(a11)\n",
    "print(a10)\n",
    "print(a11)\n",
    "print(a12)\n"
   ],
   "id": "495c8be2ca66559f",
   "outputs": [
    {
     "name": "stdout",
     "output_type": "stream",
     "text": [
      "tensor([1., 1., 1., 1., 1.])\n",
      "[1. 1. 1. 1. 1.]\n",
      "tensor([1., 1., 1., 1., 1.])\n"
     ]
    }
   ],
   "execution_count": 22
  },
  {
   "metadata": {},
   "cell_type": "markdown",
   "source": "张量索引和切片",
   "id": "3bf43a8047f22006"
  },
  {
   "metadata": {
    "ExecuteTime": {
     "end_time": "2025-02-27T08:34:11.814441Z",
     "start_time": "2025-02-27T08:34:11.806935Z"
    }
   },
   "cell_type": "code",
   "source": [
    "_ = torch.rand(4, 4)\n",
    "print(_)\n",
    "print(f'第一行{_[0]}')\n",
    "print(f'第一列{_[:, 0]}')\n",
    "print(f'最后一列{_[:, -1]}')"
   ],
   "id": "99dca0ef3192bdfc",
   "outputs": [
    {
     "name": "stdout",
     "output_type": "stream",
     "text": [
      "tensor([[0.8589, 0.0458, 0.2084, 0.7922],\n",
      "        [0.2908, 0.3417, 0.0392, 0.6765],\n",
      "        [0.8436, 0.7635, 0.0838, 0.8913],\n",
      "        [0.9059, 0.3328, 0.1794, 0.1751]])\n",
      "第一行tensor([0.8589, 0.0458, 0.2084, 0.7922])\n",
      "第一列tensor([0.8589, 0.2908, 0.8436, 0.9059])\n",
      "最后一列tensor([0.7922, 0.6765, 0.8913, 0.1751])\n"
     ]
    }
   ],
   "execution_count": 28
  },
  {
   "metadata": {},
   "cell_type": "markdown",
   "source": [
    "张量拼接\n",
    "## cat拼接张量的维度需要保持一致且不会修改张量返回新的张量 dim表示按照那个维度进行拼接。在现有维度上拼接张量，指定的维度大小会增加，其他维度的大小保持不变\n",
    "## stack 在新的维度上堆叠张量，会在最前面增加一个新的维度，其他维度的大小保持不变"
   ],
   "id": "28145bb9bcc269df"
  },
  {
   "metadata": {
    "ExecuteTime": {
     "end_time": "2025-02-27T11:16:00.683235Z",
     "start_time": "2025-02-27T11:16:00.670889Z"
    }
   },
   "cell_type": "code",
   "source": [
    "_ = torch.randn((2, 3))\n",
    "_1 = torch.cat([_, _], dim=0)\n",
    "print('-------')\n",
    "print(_1.shape)\n",
    "_2 = torch.stack([_, _], dim=2)\n",
    "print('-------')\n",
    "print(_2.shape)"
   ],
   "id": "976ad0106651888",
   "outputs": [
    {
     "name": "stdout",
     "output_type": "stream",
     "text": [
      "tensor([[ 0.4780, -0.1433,  1.6600],\n",
      "        [ 1.9918,  0.3839, -0.5865]])\n",
      "-------\n",
      "torch.Size([4, 3])\n",
      "-------\n",
      "torch.Size([2, 3, 2])\n"
     ]
    }
   ],
   "execution_count": 43
  },
  {
   "metadata": {},
   "cell_type": "markdown",
   "source": "张量运算:矩阵乘法",
   "id": "fc85e1539bda8e07"
  },
  {
   "metadata": {
    "ExecuteTime": {
     "end_time": "2025-02-27T11:29:12.335991Z",
     "start_time": "2025-02-27T11:29:12.319093Z"
    }
   },
   "cell_type": "code",
   "source": [
    "tensor1 = torch.tensor([[1, 2],\n",
    "                        [3,4]])\n",
    "print(tensor1)\n",
    "print(tensor1.T)\n",
    "tensor3 = tensor1 @ tensor1.T\n",
    "tensor4 = tensor1.matmul(tensor1.T)\n",
    "tensor5 = torch.ones_like(tensor1)\n",
    "torch.matmul(tensor1, tensor1.T,out=tensor5)\n",
    "print(tensor3)\n",
    "print(tensor4)\n",
    "print(tensor5)"
   ],
   "id": "e94679f0981423dc",
   "outputs": [
    {
     "name": "stdout",
     "output_type": "stream",
     "text": [
      "tensor([[1, 2],\n",
      "        [3, 4]])\n",
      "tensor([[1, 3],\n",
      "        [2, 4]])\n",
      "tensor([[ 5, 11],\n",
      "        [11, 25]])\n",
      "tensor([[ 5, 11],\n",
      "        [11, 25]])\n",
      "tensor([[ 5, 11],\n",
      "        [11, 25]])\n"
     ]
    }
   ],
   "execution_count": 50
  },
  {
   "metadata": {},
   "cell_type": "markdown",
   "source": "矩阵元素相乘",
   "id": "3660d53d10e0745f"
  },
  {
   "metadata": {
    "ExecuteTime": {
     "end_time": "2025-02-27T11:32:18.783466Z",
     "start_time": "2025-02-27T11:32:18.770555Z"
    }
   },
   "cell_type": "code",
   "source": [
    "tensor1 = torch.tensor([[1, 2],\n",
    "                        [3,4]])\n",
    "_=tensor1*tensor1\n",
    "print(_)\n",
    "_=torch.mul(tensor1,tensor1)\n",
    "print(_)\n",
    "_=torch.multiply(tensor1,tensor1)\n",
    "print(_)\n",
    "tensor2=torch.ones_like(tensor1)\n",
    "torch.mul(tensor1,tensor1,out=tensor2)\n",
    "print(tensor2)"
   ],
   "id": "1cb1ae1d255f622d",
   "outputs": [
    {
     "name": "stdout",
     "output_type": "stream",
     "text": [
      "tensor([[ 1,  4],\n",
      "        [ 9, 16]])\n",
      "tensor([[ 1,  4],\n",
      "        [ 9, 16]])\n",
      "tensor([[ 1,  4],\n",
      "        [ 9, 16]])\n",
      "tensor([[ 1,  4],\n",
      "        [ 9, 16]])\n"
     ]
    }
   ],
   "execution_count": 52
  },
  {
   "metadata": {},
   "cell_type": "markdown",
   "source": "矩阵In-place操做 所有的运算方法后有_.修改原张量(不建议使用)",
   "id": "f0a5f3baab560e2e"
  },
  {
   "metadata": {
    "ExecuteTime": {
     "end_time": "2025-02-27T11:28:27.451484Z",
     "start_time": "2025-02-27T11:28:27.427837Z"
    }
   },
   "cell_type": "code",
   "source": [
    "tensor1 = torch.tensor([[1, 2],\n",
    "                        [3,4]])\n",
    "print(tensor1)\n",
    "tensor1.add_(tensor1.new_tensor([1, 2]))\n",
    "print(tensor1)"
   ],
   "id": "fb4b9f45a2f1c8b3",
   "outputs": [
    {
     "name": "stdout",
     "output_type": "stream",
     "text": [
      "tensor([[1, 2],\n",
      "        [3, 4]])\n",
      "tensor([[2, 4],\n",
      "        [4, 6]])\n"
     ]
    }
   ],
   "execution_count": 49
  },
  {
   "metadata": {},
   "cell_type": "markdown",
   "source": [
    "*torch.cuda.is_available判断是否可以使用gpu\n",
    "#\n",
    "tensor迁移至gpu时需填cuda或cuda:0 gpu迁移至cpu时指定cpu即可 相同设备下才可以进行操作符计算"
   ],
   "id": "41db6a0f78a39e9b"
  },
  {
   "metadata": {
    "ExecuteTime": {
     "end_time": "2025-02-27T11:32:30.551843Z",
     "start_time": "2025-02-27T11:32:28.360729Z"
    }
   },
   "cell_type": "code",
   "source": [
    "import torch\n",
    "\n",
    "a13 = torch.rand(1)\n",
    "if torch.cuda.is_available():\n",
    "    device = torch.device('cuda')\n",
    "    print(device)\n",
    "    a14 = torch.rand(1, device=device)\n",
    "    a13 = a13.to(device)\n",
    "    a15 = a13 + a14\n",
    "    print(a15)\n",
    "    print(a15.to('cpu', dtype=torch.double))"
   ],
   "id": "6cff200ff13f6bfe",
   "outputs": [
    {
     "name": "stdout",
     "output_type": "stream",
     "text": [
      "cuda\n",
      "tensor([0.4497], device='cuda:0')\n",
      "tensor([0.4497], dtype=torch.float64)\n"
     ]
    }
   ],
   "execution_count": 53
  },
  {
   "metadata": {},
   "cell_type": "markdown",
   "source": "计算图",
   "id": "310bf002a508a43e"
  },
  {
   "metadata": {
    "ExecuteTime": {
     "end_time": "2025-02-27T11:34:04.651014Z",
     "start_time": "2025-02-27T11:34:04.174386Z"
    }
   },
   "cell_type": "code",
   "source": [
    "from torchviz import make_dot\n",
    "a = torch.randn(5, 5, requires_grad=True)\n",
    "b = torch.randn(5, requires_grad=True)\n",
    "c = torch.randn(1, requires_grad=True)\n",
    "x = torch.randn(5, requires_grad=True)\n",
    "result = torch.multiply(a,x.T) + torch.multiply(b,x)+ c\n",
    "dot=make_dot(result,params={'A':a,'b':b,'c':c,'x':x})\n",
    "dot.render('a',format='png',cleanup=True,view=False)"
   ],
   "id": "57426a030c2e101c",
   "outputs": [
    {
     "data": {
      "text/plain": [
       "'a.png'"
      ]
     },
     "execution_count": 57,
     "metadata": {},
     "output_type": "execute_result"
    }
   ],
   "execution_count": 57
  }
 ],
 "metadata": {
  "kernelspec": {
   "display_name": "Python 3",
   "language": "python",
   "name": "python3"
  },
  "language_info": {
   "codemirror_mode": {
    "name": "ipython",
    "version": 2
   },
   "file_extension": ".py",
   "mimetype": "text/x-python",
   "name": "python",
   "nbconvert_exporter": "python",
   "pygments_lexer": "ipython2",
   "version": "2.7.6"
  }
 },
 "nbformat": 4,
 "nbformat_minor": 5
}
