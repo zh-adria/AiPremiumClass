{
 "cells": [
  {
   "cell_type": "code",
   "id": "initial_id",
   "metadata": {
    "collapsed": true
   },
   "source": [
    "# 导包\n",
    "import torch\n",
    "import torch.nn as nn\n",
    "import torch.optim as optim  # 优化器的包\n",
    "from torchvision.transforms import ToTensor       # 将图像数据转换为张量的包\n",
    "from torchvision.datasets import KMNIST # 导入的数据集\n",
    "from torch.utils.data import DataLoader # 数据加载器（数据的批次训练）"
   ],
   "outputs": [],
   "execution_count": null
  },
  {
   "metadata": {},
   "cell_type": "code",
   "source": [
    "# 加载数据集\n",
    "train1_data = KMNIST(root='./kmnist/train1_data', train=True, download=True, transform=ToTensor())  # 训练集\n",
    "test1_data = KMNIST(root='./kmnist/test1_data', train=False, download=True, transform=ToTensor())   # 测试集"
   ],
   "id": "7cf6a51954de041e",
   "outputs": [],
   "execution_count": null
  },
  {
   "metadata": {},
   "cell_type": "code",
   "source": "test1_data[1][0].shape",
   "id": "f250deb99f89b275",
   "outputs": [],
   "execution_count": null
  },
  {
   "metadata": {},
   "cell_type": "code",
   "source": [
    "# 设置超参数  （学习率、训练轮数、批次）\n",
    "LR = 0.12\n",
    "epochs = 20\n",
    "BATCH_SIZE = 128\n",
    "\n",
    "# 设置数据集的批次  每次打乱数据集\n",
    "train_dl = DataLoader(train1_data , batch_size = BATCH_SIZE , shuffle = True )\n",
    "\n",
    "# 定义神经网络\n",
    "model = nn.Sequential(\n",
    "    # 输入层\n",
    "    nn.Linear(784 , 64),\n",
    "    # 激活函数\n",
    "    # nn.Sigmoid(),\n",
    "    # nn.Linear(256 , 128),\n",
    "    # nn.Sigmoid(),\n",
    "    # nn.Linear(128,64),\n",
    "    # nn.Sigmoid(),\n",
    "    # nn.Linear(64,32),\n",
    "    nn.Sigmoid(),\n",
    "    nn.Linear(64,10)\n",
    ")\n",
    "\n",
    "\n",
    "# 定义损失函数\n",
    "loss_fun = nn.CrossEntropyLoss()\n",
    "\n",
    "# 设置优化器\n",
    "optimizer = torch.optim.SGD(model.parameters() , lr = LR)\n",
    "\n",
    "\n",
    "# 训练\n",
    "for epoch in range(epochs):\n",
    "    # 提取数据\n",
    "    for data , target in train_dl:\n",
    "        # 前向运算  传入data\n",
    "        output = model(data.reshape(-1,784))\n",
    "        # 计算损失 传入前向运算的结果和真实值\n",
    "        loss = loss_fun(output , target)\n",
    "\n",
    "        # 反向传播\n",
    "        optimizer.zero_grad() # 所有参数的梯度清零\n",
    "        loss.backward()  # 计算梯度\n",
    "        optimizer.step()  # 参数梯度下降\n",
    "    print(f'Epoch{epoch}  Loos:{loss}')\n",
    "\n"
   ],
   "id": "4806f9e3616ee30e",
   "outputs": [],
   "execution_count": null
  },
  {
   "metadata": {},
   "cell_type": "code",
   "source": [
    "# 测试模型\n",
    "test_dl = DataLoader(test1_data , batch_size = BATCH_SIZE)\n",
    "\n",
    "correct = 0\n",
    "total = 0\n",
    "\n",
    "with torch.no_grad():   # 测试模型不需要梯度计算\n",
    "    for data , target in test_dl :\n",
    "        output = model(data.reshape(-1 , 784))\n",
    "        _,predicted = torch.max(output , 1) # 返回每行的最大值以及索引 _, 忽略最大值，最保存最大值的索引\n",
    "        total += target.size(0)   # target.size(0)  累加所有批次的样本数量\n",
    "        correct += (predicted == target).sum().item()\n",
    "print(f'Accuracy : {correct/total*100}%')"
   ],
   "id": "4fd06e30199fcde9",
   "outputs": [],
   "execution_count": null
  }
 ],
 "metadata": {
  "kernelspec": {
   "display_name": "Python 3",
   "language": "python",
   "name": "python3"
  },
  "language_info": {
   "codemirror_mode": {
    "name": "ipython",
    "version": 2
   },
   "file_extension": ".py",
   "mimetype": "text/x-python",
   "name": "python",
   "nbconvert_exporter": "python",
   "pygments_lexer": "ipython2",
   "version": "2.7.6"
  }
 },
 "nbformat": 4,
 "nbformat_minor": 5
}
