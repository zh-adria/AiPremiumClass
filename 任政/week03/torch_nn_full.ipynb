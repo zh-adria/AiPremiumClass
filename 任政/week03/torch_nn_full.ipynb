{
 "cells": [
  {
   "cell_type": "code",
   "id": "initial_id",
   "metadata": {
    "collapsed": true
   },
   "source": [
    "# 导包\n",
    "import torch\n",
    "import torch.nn as nn\n",
    "import torch.optim as optim  # 优化器的包\n",
    "from torchvision.transforms import ToTensor       # 将图像数据转换为张量的包\n",
    "from torchvision.datasets import FashionMNIST # 导入的数据集\n",
    "from torch.utils.data import DataLoader # 数据加载器（数据的批次训练）"
   ],
   "outputs": [],
   "execution_count": null
  },
  {
   "metadata": {},
   "cell_type": "code",
   "source": [
    "## 步骤\n",
    "# 1、数据集加载并转换成张量\n",
    "# 2、定义神经网络（根据数据集的张量来判断输入数据的个数，定义神经元的个数）（隐藏层，激活函数，输出层）\n",
    "# 3、定义损失函数（用交叉熵损失函数（CrossEntropyLoss()））\n",
    "# 4、定义优化器(用SGD 随机梯度下降)（模型参数进行更新，调整学习率）"
   ],
   "id": "1e59f7fd3506e2ce",
   "outputs": [],
   "execution_count": null
  },
  {
   "metadata": {},
   "cell_type": "code",
   "source": "",
   "id": "2f3ef0956fc8cf74",
   "outputs": [],
   "execution_count": null
  },
  {
   "metadata": {},
   "cell_type": "code",
   "source": [
    "# 加载数据集\n",
    "train_data = FashionMNIST(root = './rain_data' , train = True , download = True , transform = ToTensor())\n",
    "test_data = FashionMNIST(root = './rain_data' , train = True , download = False , transform = ToTensor())"
   ],
   "id": "e759273ae895348",
   "outputs": [],
   "execution_count": null
  },
  {
   "metadata": {},
   "cell_type": "code",
   "source": [
    "# 设置超参数\n",
    "LR = 0.1\n",
    "epochs = 20\n",
    "BATCH_SIZE = 64  # 每批处理的数量\n",
    "\n",
    "trian_dl = DataLoader(train_data , batch_size = BATCH_SIZE , shuffle = True)     # shuffle是否打乱数据\n",
    "\n",
    "# 定义神经网络\n",
    "model = nn.Sequential(\n",
    "    # 定义隐藏层 输入数据跟输出数据\n",
    "    nn.Linear(784 , 64),\n",
    "\n",
    "    # 激活函数\n",
    "    nn.Sigmoid(),\n",
    "\n",
    "    # 输出层\n",
    "    nn.Linear(64 , 10)\n",
    ")\n",
    "\n",
    "# 使用交叉熵损失函数 计算 损失函数\n",
    "loss_fun = nn.CrossEntropyLoss()\n",
    "\n",
    "# 定义优化器，SGD 随机梯度下降\n",
    "optimizer = torch.optim.SGD(model.parameters() , lr = LR)\n",
    "\n",
    "for epoch in range(epochs):\n",
    "    # 提取训练数据  data: 数据   ， target ：数据的标签\n",
    "    for data , target in trian_dl:\n",
    "        # 前向运算\n",
    "        output = model(data.reshape(-1,784))\n",
    "\n",
    "        # 计算损失\n",
    "        loss = loss_fun(output , target)\n",
    "\n",
    "        # 反向传播 梯度下降\n",
    "        optimizer.zero_grad()   # 所有参数的梯度清零\n",
    "        loss.backward()  # 计算梯度\n",
    "        optimizer.step()  # 更新参数\n",
    "    print(f'Epoch{epoch}  Loos:{loss.item()}')"
   ],
   "id": "1af8799c6fa4f914",
   "outputs": [],
   "execution_count": null
  },
  {
   "metadata": {},
   "cell_type": "code",
   "source": [
    "# 测试模型\n",
    "test_dl = DataLoader(test_data , batch_size = BATCH_SIZE)\n",
    "\n",
    "correct = 0\n",
    "total = 0\n",
    "\n",
    "with torch.no_grad():   # 测试模型不需要梯度计算\n",
    "    for data , target in test_dl :\n",
    "        output = model(data.reshape(-1 , 784))\n",
    "        _,predicted = torch.max(output , 1) # 返回每行的最大值以及索引 _, 忽略最大值，最保存最大值的索引\n",
    "        total += target.size(0)   # target.size(0)  累加所有批次的样本数量\n",
    "        correct += (predicted == target).sum().item()\n",
    "print(f'Accuracy : {correct/total*100}%')\n"
   ],
   "id": "ed908e88fd285605",
   "outputs": [],
   "execution_count": null
  },
  {
   "metadata": {},
   "cell_type": "code",
   "source": "predicted",
   "id": "b3fd0a533c88747b",
   "outputs": [],
   "execution_count": null
  }
 ],
 "metadata": {
  "kernelspec": {
   "display_name": "Python 3",
   "language": "python",
   "name": "python3"
  },
  "language_info": {
   "codemirror_mode": {
    "name": "ipython",
    "version": 2
   },
   "file_extension": ".py",
   "mimetype": "text/x-python",
   "name": "python",
   "nbconvert_exporter": "python",
   "pygments_lexer": "ipython2",
   "version": "2.7.6"
  }
 },
 "nbformat": 4,
 "nbformat_minor": 5
}
