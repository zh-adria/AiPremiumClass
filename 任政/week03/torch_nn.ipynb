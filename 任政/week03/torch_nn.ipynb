{
 "cells": [
  {
   "cell_type": "code",
   "id": "initial_id",
   "metadata": {
    "collapsed": true
   },
   "source": [
    "import torch\n",
    "from torchvision.datasets import FashionMNIST\n",
    "from torchvision.transforms import ToTensor  # 将图像转换为张量 的 包"
   ],
   "outputs": [],
   "execution_count": null
  },
  {
   "metadata": {},
   "cell_type": "code",
   "source": [
    "# 加载数据集\n",
    "# 训练样本 train  root:保存的位置 ；download：动态下载数据集\n",
    "train_data = FashionMNIST(root = './train_data' , train = True , download = True , transform = ToTensor())\n",
    "\n",
    "# 测试样本 test\n",
    "test_data = FashionMNIST(root = './test_data' , train = False , download = True , transform = ToTensor())"
   ],
   "id": "bd02060cc490b552",
   "outputs": [],
   "execution_count": null
  },
  {
   "metadata": {},
   "cell_type": "code",
   "source": [
    "# 查看里边数据集的数据\n",
    "import matplotlib.pyplot as plt\n",
    "\n",
    "img , clazz = train_data[8888]\n",
    "# cmap='gray' 图像以灰度模式显示\n",
    "plt.imshow(img , cmap = 'gray')\n",
    "plt.title(clazz)\n",
    "plt.show()"
   ],
   "id": "bac2205d15f15f2d",
   "outputs": [],
   "execution_count": null
  },
  {
   "metadata": {
    "ExecuteTime": {
     "end_time": "2025-03-14T08:00:39.355799Z",
     "start_time": "2025-03-14T08:00:39.349330Z"
    }
   },
   "cell_type": "code",
   "source": [
    "train_data[5][0].shape  # 1个颜色通道，高度，宽度\n",
    "# 转换一维的向量\n",
    "train_data[5][0].reshape(-1).shape"
   ],
   "id": "d1120a0e690ced",
   "outputs": [
    {
     "data": {
      "text/plain": [
       "torch.Size([784])"
      ]
     },
     "execution_count": 34,
     "metadata": {},
     "output_type": "execute_result"
    }
   ],
   "execution_count": 34
  }
 ],
 "metadata": {
  "kernelspec": {
   "display_name": "Python 3",
   "language": "python",
   "name": "python3"
  },
  "language_info": {
   "codemirror_mode": {
    "name": "ipython",
    "version": 2
   },
   "file_extension": ".py",
   "mimetype": "text/x-python",
   "name": "python",
   "nbconvert_exporter": "python",
   "pygments_lexer": "ipython2",
   "version": "2.7.6"
  }
 },
 "nbformat": 4,
 "nbformat_minor": 5
}
