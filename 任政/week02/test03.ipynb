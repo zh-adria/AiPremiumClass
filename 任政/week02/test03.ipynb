{
 "cells": [
  {
   "cell_type": "code",
   "id": "initial_id",
   "metadata": {
    "collapsed": true,
    "ExecuteTime": {
     "end_time": "2025-03-12T00:38:05.598411Z",
     "start_time": "2025-03-12T00:38:05.593053Z"
    }
   },
   "source": [
    "from joblib import load\n",
    "from sklearn.model_selection import train_test_split\n",
    "from sklearn.datasets import make_classification\n",
    "import numpy as np\n",
    "\n",
    "# 加载模型\n",
    "# model = load('iris_model.joblib')\n",
    "# theta = model['theta']\n",
    "# bias = model['bias']\n",
    "\n",
    "test_x = np.load(\"X_test.npy\")\n",
    "test_y = np.load(\"y_test.npy\")\n",
    "theta = np.load('theta.npy')\n",
    "\n",
    "bias = np.load('bias.npy')\n",
    "# 预测函数\n",
    "def forward(x,theta,bias):\n",
    "    z = np.dot(theta, x.T) + bias\n",
    "    y_hat = 1 / (1 + np.exp(-z))\n",
    "    return y_hat\n",
    "# 使用示例\n",
    "idx = np.random.randint(len(test_x))\n",
    "x = test_x[idx]\n",
    "y = test_y[idx]\n",
    "\n",
    "predict = np.round(forward(x , theta , bias))\n",
    "print(f'y:{y} , predict:{predict}')\n",
    "\n"
   ],
   "outputs": [
    {
     "name": "stdout",
     "output_type": "stream",
     "text": [
      "y:0 , predict:[0.]\n"
     ]
    }
   ],
   "execution_count": 17
  }
 ],
 "metadata": {
  "kernelspec": {
   "display_name": "Python 3",
   "language": "python",
   "name": "python3"
  },
  "language_info": {
   "codemirror_mode": {
    "name": "ipython",
    "version": 2
   },
   "file_extension": ".py",
   "mimetype": "text/x-python",
   "name": "python",
   "nbconvert_exporter": "python",
   "pygments_lexer": "ipython2",
   "version": "2.7.6"
  }
 },
 "nbformat": 4,
 "nbformat_minor": 5
}
