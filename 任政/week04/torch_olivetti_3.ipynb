{
 "cells": [
  {
   "cell_type": "code",
   "id": "initial_id",
   "metadata": {
    "collapsed": true
   },
   "source": [
    "# 导包\n",
    "import torch\n",
    "import torch.nn as nn\n",
    "import torch.optim as optim\n",
    "import matplotlib.pyplot as plt\n",
    "from torch.utils.data import DataLoader\n",
    "from sklearn.model_selection import train_test_split\n",
    "from torchvision.transforms import ToTensor\n",
    "from sklearn.datasets import fetch_olivetti_faces"
   ],
   "outputs": [],
   "execution_count": null
  },
  {
   "metadata": {},
   "cell_type": "code",
   "source": [
    "# 提取数据集 并且将数据集转换成张量\n",
    "faces = fetch_olivetti_faces(data_home = './face_data' , shuffle = True,)\n",
    "# # 百分之三十测试数据集  百分之七十 训练数据集\n",
    "# train_data, test_data , train_target , test_target = train_test_split(faces.data , faces.target , test_size = 0.3 , random_state = 50)\n",
    "\n",
    "# 将图片数据集转换成张量\n",
    "image = torch.FloatTensor(faces.data)\n",
    "targets = torch.LongTensor(faces.target)\n",
    "\n",
    "# image.shape\n",
    "# targets.shape\n",
    "\n",
    "# 将每个图片对应一个标签\n",
    "datas = [(img , lbl) for img , lbl in zip(image , targets)]\n",
    "# datas[1]"
   ],
   "id": "18568b3fb5f3111b",
   "outputs": [],
   "execution_count": null
  },
  {
   "metadata": {},
   "cell_type": "code",
   "source": [
    "# 设置权重参数 (学习率、训练轮数、训练批次)\n",
    "LR = 0.1\n",
    "epochs = 50\n",
    "BATCH_SIZE = 128\n",
    "# 设置数据集的l批次\n",
    "train_dl = DataLoader(datas , batch_size = BATCH_SIZE , shuffle = True )"
   ],
   "id": "d9273f8fbcaa246b",
   "outputs": [],
   "execution_count": null
  },
  {
   "metadata": {},
   "cell_type": "code",
   "source": [
    "from week04.Model import Model\n",
    "# 数据模型\n",
    "model = Model()"
   ],
   "id": "fd3e8d8349efcb26",
   "outputs": [],
   "execution_count": null
  },
  {
   "metadata": {},
   "cell_type": "code",
   "source": [
    "def train_iter(epochs , model , train_dl):\n",
    "    train_hist = []\n",
    "    # 定义损失函数\n",
    "    loss_fun = nn.CrossEntropyLoss()\n",
    "    # 设置优化器\n",
    "    # optimizer = torch.optim.SGD(model.parameters() , lr = LR)\n",
    "    optimizer = torch.optim.Adam(model.parameters() , lr = LR)\n",
    "    for epoch in range(epochs):\n",
    "        for data , target in train_dl:\n",
    "            # 前向运算\n",
    "            output = model(data.reshape(-1 , 4096))\n",
    "             # 计算损失\n",
    "            loss = loss_fun(output , target)\n",
    "             # 反向传播\n",
    "            optimizer.zero_grad() # 所有参数梯度清零\n",
    "            loss.backward()  # 计算梯度\n",
    "            optimizer.step() # 更新参数\n",
    "\n",
    "        print(f'Epoch:{epoch} Loss:{loss.item()}')\n",
    "        train_hist.append(loss.item())\n",
    "    return train_hist"
   ],
   "id": "94fe1d8e57ef99f",
   "outputs": [],
   "execution_count": null
  },
  {
   "metadata": {},
   "cell_type": "code",
   "source": [
    "def draw_train_hist(hist_list):\n",
    "    plt.plot(hist_list)\n",
    "    plt.xlabel('Epochs')\n",
    "    plt.ylabel('Loss')\n",
    "    plt.title('Training Loss')\n",
    "    plt.show()"
   ],
   "id": "6b3310e94c8d5a38",
   "outputs": [],
   "execution_count": null
  },
  {
   "metadata": {},
   "cell_type": "code",
   "source": [
    "# 用SGD 优化器\n",
    "model_hist = train_iter(epochs, model, train_dl)\n",
    "draw = draw_train_hist(model_hist)"
   ],
   "id": "95de8469860b54a2",
   "outputs": [],
   "execution_count": null
  },
  {
   "metadata": {},
   "cell_type": "code",
   "source": [
    "# RAdam优化器\n",
    "model_hist = train_iter(epochs, model, train_dl)\n",
    "draw = draw_train_hist(model_hist)"
   ],
   "id": "551c03030fe4f1be",
   "outputs": [],
   "execution_count": null
  }
 ],
 "metadata": {
  "kernelspec": {
   "display_name": "Python 3",
   "language": "python",
   "name": "python3"
  },
  "language_info": {
   "codemirror_mode": {
    "name": "ipython",
    "version": 2
   },
   "file_extension": ".py",
   "mimetype": "text/x-python",
   "name": "python",
   "nbconvert_exporter": "python",
   "pygments_lexer": "ipython2",
   "version": "2.7.6"
  }
 },
 "nbformat": 4,
 "nbformat_minor": 5
}
