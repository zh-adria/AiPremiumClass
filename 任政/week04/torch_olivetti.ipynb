{
 "cells": [
  {
   "cell_type": "code",
   "id": "initial_id",
   "metadata": {
    "collapsed": true,
    "ExecuteTime": {
     "end_time": "2025-03-19T14:18:28.480815Z",
     "start_time": "2025-03-19T14:18:27.126814Z"
    }
   },
   "source": [
    "# 导包\n",
    "import torch\n",
    "import torch.nn as nn\n",
    "import torch.optim as optim\n",
    "import matplotlib.pyplot as plt\n",
    "from torch.utils.data import DataLoader\n",
    "from sklearn.model_selection import train_test_split\n",
    "from torchvision.transforms import ToTensor\n",
    "from sklearn.datasets import fetch_olivetti_faces"
   ],
   "outputs": [],
   "execution_count": 70
  },
  {
   "metadata": {
    "ExecuteTime": {
     "end_time": "2025-03-19T23:37:30.420303Z",
     "start_time": "2025-03-19T23:37:30.389535Z"
    }
   },
   "cell_type": "code",
   "source": [
    "# 提取数据集 并且将数据集转换成张量\n",
    "faces = fetch_olivetti_faces(data_home = './face_data' , shuffle = True,)\n",
    "# # 百分之三十测试数据集  百分之七十 训练数据集\n",
    "train_data, test_data , train_target , test_target = train_test_split(faces.data , faces.target , test_size = 0.3 , random_state = 50)\n",
    "\n",
    "# 将图片数据集转换成张量\n",
    "image = torch.FloatTensor(faces.data)\n",
    "targets = torch.LongTensor(faces.target)\n",
    "\n",
    "# image.shape\n",
    "# targets.shape\n",
    "\n",
    "# 将每个图片对应一个标签\n",
    "datas = [(img , lbl) for img , lbl in zip(image , targets)]\n",
    "# datas[1]"
   ],
   "id": "18568b3fb5f3111b",
   "outputs": [],
   "execution_count": 116
  },
  {
   "metadata": {
    "ExecuteTime": {
     "end_time": "2025-03-19T23:47:59.218570Z",
     "start_time": "2025-03-19T23:47:59.215549Z"
    }
   },
   "cell_type": "code",
   "source": [
    "# 设置权重参数 (学习率、训练轮数、训练批次)\n",
    "LR = 0.1\n",
    "epochs = 50\n",
    "BATCH_SIZE = 128\n",
    "# 设置数据集的l批次\n",
    "train_dl = DataLoader(datas , batch_size = BATCH_SIZE , shuffle = True )"
   ],
   "id": "d9273f8fbcaa246b",
   "outputs": [],
   "execution_count": 141
  },
  {
   "metadata": {
    "ExecuteTime": {
     "end_time": "2025-03-19T23:45:45.718284Z",
     "start_time": "2025-03-19T23:45:45.685206Z"
    }
   },
   "cell_type": "code",
   "source": [
    "# 数据模型\n",
    "model = nn.Sequential(\n",
    "    nn.Linear(4096 , 2048),\n",
    "    nn.ReLU(),\n",
    "    nn.Linear(2048 , 1024),\n",
    "    nn.ReLU(),\n",
    "    nn.Linear(1024 , 512),\n",
    "    nn.ReLU(),\n",
    "    nn.Linear(512 , 256),\n",
    "    nn.ReLU(),\n",
    "    nn.Linear(256 , 128),\n",
    "    nn.ReLU(),\n",
    "    nn.Linear(128 , 40),\n",
    ")\n"
   ],
   "id": "fd3e8d8349efcb26",
   "outputs": [],
   "execution_count": 139
  },
  {
   "metadata": {
    "ExecuteTime": {
     "end_time": "2025-03-19T23:45:54.970926Z",
     "start_time": "2025-03-19T23:45:48.340840Z"
    }
   },
   "cell_type": "code",
   "source": [
    "\n",
    "# 定义损失函数\n",
    "loss_fun = nn.CrossEntropyLoss()\n",
    "\n",
    "# 设置优化器\n",
    "optimizer = torch.optim.SGD(model.parameters() , lr = LR)\n",
    "\n",
    "train_iter = []\n",
    "\n",
    "for epoch in range(epochs):\n",
    "    for data , target in train_dl:\n",
    "        # 前向运算\n",
    "        output = model(data.reshape(-1 , 4096))\n",
    "         # 计算损失\n",
    "        loss = loss_fun(output , target)\n",
    "         # 反向传播\n",
    "        optimizer.zero_grad() # 所有参数梯度清零\n",
    "        loss.backward()  # 计算梯度\n",
    "        optimizer.step() # 更新参数\n",
    "    print(f'Epoch:{epoch} Loss:{loss.item()}')\n",
    "    train_iter.append(loss.item())"
   ],
   "id": "94fe1d8e57ef99f",
   "outputs": [
    {
     "name": "stdout",
     "output_type": "stream",
     "text": [
      "Epoch:0 Loss:3.677525520324707\n",
      "Epoch:1 Loss:3.6969215869903564\n",
      "Epoch:2 Loss:3.69528865814209\n",
      "Epoch:3 Loss:3.7090704441070557\n",
      "Epoch:4 Loss:3.683786392211914\n",
      "Epoch:5 Loss:3.6848487854003906\n",
      "Epoch:6 Loss:3.6905736923217773\n",
      "Epoch:7 Loss:3.6856493949890137\n",
      "Epoch:8 Loss:3.672736883163452\n",
      "Epoch:9 Loss:3.7038190364837646\n",
      "Epoch:10 Loss:3.680588722229004\n",
      "Epoch:11 Loss:3.659719705581665\n",
      "Epoch:12 Loss:3.700829029083252\n",
      "Epoch:13 Loss:3.6935207843780518\n",
      "Epoch:14 Loss:3.7015304565429688\n",
      "Epoch:15 Loss:3.681993007659912\n",
      "Epoch:16 Loss:3.687413454055786\n",
      "Epoch:17 Loss:3.686803102493286\n",
      "Epoch:18 Loss:3.709510087966919\n",
      "Epoch:19 Loss:3.6855099201202393\n",
      "Epoch:20 Loss:3.691603422164917\n",
      "Epoch:21 Loss:3.6980390548706055\n",
      "Epoch:22 Loss:3.689603805541992\n",
      "Epoch:23 Loss:3.6954143047332764\n",
      "Epoch:24 Loss:3.6688106060028076\n",
      "Epoch:25 Loss:3.6899867057800293\n",
      "Epoch:26 Loss:3.6924915313720703\n",
      "Epoch:27 Loss:3.6841437816619873\n",
      "Epoch:28 Loss:3.6720659732818604\n",
      "Epoch:29 Loss:3.6732017993927\n",
      "Epoch:30 Loss:3.6818697452545166\n",
      "Epoch:31 Loss:3.672452211380005\n",
      "Epoch:32 Loss:3.684628486633301\n",
      "Epoch:33 Loss:3.679672956466675\n",
      "Epoch:34 Loss:3.693324565887451\n",
      "Epoch:35 Loss:3.6982405185699463\n",
      "Epoch:36 Loss:3.67566180229187\n",
      "Epoch:37 Loss:3.685398817062378\n",
      "Epoch:38 Loss:3.6868252754211426\n",
      "Epoch:39 Loss:3.689016103744507\n",
      "Epoch:40 Loss:3.6852784156799316\n",
      "Epoch:41 Loss:3.669560432434082\n",
      "Epoch:42 Loss:3.6762208938598633\n",
      "Epoch:43 Loss:3.681424856185913\n",
      "Epoch:44 Loss:3.6978044509887695\n",
      "Epoch:45 Loss:3.673072338104248\n",
      "Epoch:46 Loss:3.6883997917175293\n",
      "Epoch:47 Loss:3.6692609786987305\n",
      "Epoch:48 Loss:3.683784246444702\n",
      "Epoch:49 Loss:3.683704137802124\n",
      "Epoch:50 Loss:3.6766984462738037\n",
      "Epoch:51 Loss:3.673703193664551\n",
      "Epoch:52 Loss:3.66298246383667\n",
      "Epoch:53 Loss:3.672090530395508\n",
      "Epoch:54 Loss:3.6751840114593506\n",
      "Epoch:55 Loss:3.678473949432373\n",
      "Epoch:56 Loss:3.6796319484710693\n",
      "Epoch:57 Loss:3.6968774795532227\n",
      "Epoch:58 Loss:3.6883175373077393\n",
      "Epoch:59 Loss:3.6723248958587646\n",
      "Epoch:60 Loss:3.6838128566741943\n",
      "Epoch:61 Loss:3.6666951179504395\n",
      "Epoch:62 Loss:3.675140619277954\n",
      "Epoch:63 Loss:3.685159921646118\n",
      "Epoch:64 Loss:3.66959285736084\n",
      "Epoch:65 Loss:3.668414831161499\n",
      "Epoch:66 Loss:3.6668763160705566\n",
      "Epoch:67 Loss:3.6681716442108154\n",
      "Epoch:68 Loss:3.6719846725463867\n",
      "Epoch:69 Loss:3.6703317165374756\n",
      "Epoch:70 Loss:3.6597511768341064\n",
      "Epoch:71 Loss:3.6630070209503174\n",
      "Epoch:72 Loss:3.6560120582580566\n",
      "Epoch:73 Loss:3.6633267402648926\n",
      "Epoch:74 Loss:3.667371988296509\n",
      "Epoch:75 Loss:3.668797731399536\n",
      "Epoch:76 Loss:3.660208225250244\n",
      "Epoch:77 Loss:3.650153398513794\n",
      "Epoch:78 Loss:3.646919012069702\n",
      "Epoch:79 Loss:3.662710189819336\n",
      "Epoch:80 Loss:3.645231246948242\n",
      "Epoch:81 Loss:3.6610336303710938\n",
      "Epoch:82 Loss:3.6321568489074707\n",
      "Epoch:83 Loss:3.6931493282318115\n",
      "Epoch:84 Loss:3.6341891288757324\n",
      "Epoch:85 Loss:3.5942437648773193\n",
      "Epoch:86 Loss:3.6170239448547363\n",
      "Epoch:87 Loss:3.6061267852783203\n",
      "Epoch:88 Loss:3.5693678855895996\n",
      "Epoch:89 Loss:3.5771644115448\n",
      "Epoch:90 Loss:3.591984272003174\n",
      "Epoch:91 Loss:3.587623119354248\n",
      "Epoch:92 Loss:3.5887396335601807\n",
      "Epoch:93 Loss:3.698683738708496\n",
      "Epoch:94 Loss:3.506398916244507\n",
      "Epoch:95 Loss:3.7399585247039795\n",
      "Epoch:96 Loss:3.5068981647491455\n",
      "Epoch:97 Loss:3.7854413986206055\n",
      "Epoch:98 Loss:3.498988389968872\n",
      "Epoch:99 Loss:3.4399654865264893\n"
     ]
    }
   ],
   "execution_count": 140
  }
 ],
 "metadata": {
  "kernelspec": {
   "display_name": "Python 3",
   "language": "python",
   "name": "python3"
  },
  "language_info": {
   "codemirror_mode": {
    "name": "ipython",
    "version": 2
   },
   "file_extension": ".py",
   "mimetype": "text/x-python",
   "name": "python",
   "nbconvert_exporter": "python",
   "pygments_lexer": "ipython2",
   "version": "2.7.6"
  }
 },
 "nbformat": 4,
 "nbformat_minor": 5
}
