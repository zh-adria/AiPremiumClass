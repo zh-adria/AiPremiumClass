{
 "cells": [
  {
   "cell_type": "code",
   "execution_count": 3,
   "metadata": {},
   "outputs": [],
   "source": [
    "import numpy as np"
   ]
  },
  {
   "cell_type": "code",
   "execution_count": null,
   "metadata": {},
   "outputs": [],
   "source": [
    "# 创建ndarray数组\n",
    "arr = np.array([2,4,6,8,10],float)\n",
    "arr"
   ]
  },
  {
   "cell_type": "code",
   "execution_count": 13,
   "metadata": {},
   "outputs": [
    {
     "data": {
      "text/plain": [
       "array([[1, 4, 6],\n",
       "       [2, 5, 7],\n",
       "       [3, 6, 9]])"
      ]
     },
     "execution_count": 13,
     "metadata": {},
     "output_type": "execute_result"
    }
   ],
   "source": [
    "# 三维数组，每个数组分别是一个元组\n",
    "a = np.array([(1,4,6),(2,5,7),(3,6,9)])\n",
    "a"
   ]
  },
  {
   "cell_type": "code",
   "execution_count": 11,
   "metadata": {},
   "outputs": [
    {
     "data": {
      "text/plain": [
       "array([[0., 0., 0., 0., 0.],\n",
       "       [0., 0., 0., 0., 0.],\n",
       "       [0., 0., 0., 0., 0.],\n",
       "       [0., 0., 0., 0., 0.]], dtype=float32)"
      ]
     },
     "execution_count": 11,
     "metadata": {},
     "output_type": "execute_result"
    }
   ],
   "source": [
    "# 4行5列的0数组数据类型float32\n",
    "a1 = np.zeros((4,5),dtype=np.float32)\n",
    "a1"
   ]
  },
  {
   "cell_type": "code",
   "execution_count": 17,
   "metadata": {},
   "outputs": [
    {
     "data": {
      "text/plain": [
       "array([1. , 1.5, 2. , 2.5, 3. , 3.5, 4. , 4.5, 5. , 5.5, 6. , 6.5, 7. ,\n",
       "       7.5, 8. , 8.5, 9. , 9.5])"
      ]
     },
     "execution_count": 17,
     "metadata": {},
     "output_type": "execute_result"
    }
   ],
   "source": [
    "# 等差数列 左闭右开\n",
    "a2 = np.arange(1,10,0.5)\n",
    "a2"
   ]
  },
  {
   "cell_type": "code",
   "execution_count": 19,
   "metadata": {},
   "outputs": [
    {
     "data": {
      "text/plain": [
       "array([[1., 0., 0., 0.],\n",
       "       [0., 1., 0., 0.],\n",
       "       [0., 0., 1., 0.],\n",
       "       [0., 0., 0., 1.]])"
      ]
     },
     "execution_count": 19,
     "metadata": {},
     "output_type": "execute_result"
    }
   ],
   "source": [
    "# one-hot编码 (4 * 4 的单位矩阵，对角线为1，其他为0)\n",
    "a3 = np.eye(4)\n",
    "a3"
   ]
  },
  {
   "cell_type": "code",
   "execution_count": 23,
   "metadata": {},
   "outputs": [
    {
     "data": {
      "text/plain": [
       "array([0.60978013, 0.8444086 , 0.1930087 , 0.24776652, 0.99238868,\n",
       "       0.24582662, 0.56692405, 0.64523231, 0.27398492, 0.16301272])"
      ]
     },
     "execution_count": 23,
     "metadata": {},
     "output_type": "execute_result"
    }
   ],
   "source": [
    "# 模型运算参数初始值，10个维度的随机值，0-1范围 ， 均匀分布的随机数\n",
    "a4 = np.random.random(10)\n",
    "a4"
   ]
  },
  {
   "cell_type": "code",
   "execution_count": 25,
   "metadata": {},
   "outputs": [
    {
     "data": {
      "text/plain": [
       "array([-0.07942029, -0.01526367,  0.16352615,  0.2688252 , -0.13734071,\n",
       "        0.01039792,  0.28720485,  0.10773415,  0.17866335, -0.39691472])"
      ]
     },
     "execution_count": 25,
     "metadata": {},
     "output_type": "execute_result"
    }
   ],
   "source": [
    "# 模型运算参数初始值, 正态分布（高斯分布）的随机数,均值=0，标准差=0.2\n",
    "a5 = np.random.normal(0,0.2,10)\n",
    "a5"
   ]
  },
  {
   "cell_type": "code",
   "execution_count": 35,
   "metadata": {},
   "outputs": [
    {
     "name": "stdout",
     "output_type": "stream",
     "text": [
      "[2 5 7]\n",
      "[ 6  7  9 11]\n"
     ]
    }
   ],
   "source": [
    "# 4行 * 3列 矩阵，取第1行，第2列 （共0-3行，0-2列）\n",
    "a6 = np.array([(1,4,6),(2,5,7),(3,6,9),(0,10,11)])\n",
    "print(a6[1,])\n",
    "print(a6[:,2])"
   ]
  },
  {
   "cell_type": "code",
   "execution_count": 55,
   "metadata": {},
   "outputs": [
    {
     "name": "stdout",
     "output_type": "stream",
     "text": [
      "1 4 6\n",
      "2 5 7\n",
      "3 6 9\n",
      "0 10 11\n"
     ]
    }
   ],
   "source": [
    "# 遍历矩阵元素，i,j,k 的个数要和每个元组的个数一致\n",
    "a7 = np.array([(1,4,6),(2,5,7),(3,6,9),(0,10,11)])\n",
    "# i,j,k = a7[0]\n",
    "# print(i,j,k)\n",
    "for i,j,k in a7:\n",
    "    print(i,j,k)"
   ]
  },
  {
   "cell_type": "code",
   "execution_count": 57,
   "metadata": {},
   "outputs": [
    {
     "name": "stdout",
     "output_type": "stream",
     "text": [
      "ndim: 2\n",
      "shape: (4, 3)\n",
      "size 12\n",
      "dtype int64\n"
     ]
    }
   ],
   "source": [
    "# 数组属性 维度等\n",
    "a8 = np.array([(1,4,6),(2,5,7),(3,6,9),(0,10,11)])\n",
    "print(\"ndim:\", a8.ndim)\n",
    "print(\"shape:\", a8.shape)\n",
    "print(\"size\", a8.size)\n",
    "print(\"dtype\", a8.dtype)"
   ]
  },
  {
   "cell_type": "code",
   "execution_count": 67,
   "metadata": {},
   "outputs": [
    {
     "name": "stdout",
     "output_type": "stream",
     "text": [
      "False\n"
     ]
    }
   ],
   "source": [
    "print(12 in a8)"
   ]
  },
  {
   "cell_type": "code",
   "execution_count": 73,
   "metadata": {},
   "outputs": [
    {
     "name": "stdout",
     "output_type": "stream",
     "text": [
      "[ 1  2  3  4  5  6  7  8  9 10 11 12]\n",
      "(12,)\n",
      "[[[ 1]\n",
      "  [ 2]\n",
      "  [ 3]\n",
      "  [ 4]]\n",
      "\n",
      " [[ 5]\n",
      "  [ 6]\n",
      "  [ 7]\n",
      "  [ 8]]\n",
      "\n",
      " [[ 9]\n",
      "  [10]\n",
      "  [11]\n",
      "  [12]]]\n",
      "(3, 4, 1)\n"
     ]
    }
   ],
   "source": [
    "# 从1-13（不包含13）的等差数列，步长默认为 1\n",
    "a9 = np.arange(1,13)\n",
    "print(a9)\n",
    "print(a9.shape)\n",
    "\n",
    "a9 = a9.reshape(3,4,1)  # 维度大小乘积 == 元素个数\n",
    "print(a9)\n",
    "\n",
    "print(a9.shape)  # 高维矩阵，每个维度都有含义\n",
    "\n",
    "# 加载图像数据\n",
    "# img.shape [1,3,120,120] 1个样本，3颜色特征通道，120高，120宽"
   ]
  },
  {
   "cell_type": "code",
   "execution_count": 77,
   "metadata": {},
   "outputs": [
    {
     "name": "stdout",
     "output_type": "stream",
     "text": [
      "[[ 1  4  6]\n",
      " [ 2  5  7]\n",
      " [ 3  6  9]\n",
      " [ 0 10 11]]\n",
      "[[ 1  2  3  0]\n",
      " [ 4  5  6 10]\n",
      " [ 6  7  9 11]]\n"
     ]
    }
   ],
   "source": [
    "# 转置\n",
    "print(a8)\n",
    "a8 = a8.T\n",
    "print(a8)"
   ]
  },
  {
   "cell_type": "code",
   "execution_count": 81,
   "metadata": {},
   "outputs": [
    {
     "name": "stdout",
     "output_type": "stream",
     "text": [
      "[ 1  2  3  0  4  5  6 10  6  7  9 11]\n"
     ]
    }
   ],
   "source": [
    "# 展平为一维数组\n",
    "a8 = a8.flatten()\n",
    "print(a8)"
   ]
  },
  {
   "cell_type": "code",
   "execution_count": 99,
   "metadata": {},
   "outputs": [
    {
     "name": "stdout",
     "output_type": "stream",
     "text": [
      "(4, 3, 1)\n",
      "[[[ 1]\n",
      "  [ 4]\n",
      "  [ 6]]\n",
      "\n",
      " [[ 2]\n",
      "  [ 5]\n",
      "  [ 7]]\n",
      "\n",
      " [[ 3]\n",
      "  [ 6]\n",
      "  [ 9]]\n",
      "\n",
      " [[ 0]\n",
      "  [10]\n",
      "  [11]]]\n"
     ]
    }
   ],
   "source": [
    "# 添加一个新的轴（维度）,非常常用\n",
    "a8 = np.array([(1,4,6),(2,5,7),(3,6,9),(0,10,11)])\n",
    "a8 = a8[:,:,np.newaxis]\n",
    "print(a8.shape)\n",
    "print(a8)"
   ]
  },
  {
   "cell_type": "code",
   "execution_count": 101,
   "metadata": {},
   "outputs": [
    {
     "name": "stdout",
     "output_type": "stream",
     "text": [
      "[[1. 1. 1.]\n",
      " [1. 1. 1.]\n",
      " [1. 1. 1.]]\n",
      "[[-1  1  0]\n",
      " [-1  1  0]\n",
      " [-1  0  1]]\n",
      "\n",
      "[[0. 2. 1.]\n",
      " [0. 2. 1.]\n",
      " [0. 1. 2.]]\n",
      "\n",
      "[[2. 0. 1.]\n",
      " [2. 0. 1.]\n",
      " [2. 1. 0.]]\n"
     ]
    }
   ],
   "source": [
    "a = np.ones((3,3))\n",
    "b = np.array([(-1,1,0),(-1,1,0),(-1,0,1)])\n",
    "print(a)\n",
    "print(b)\n",
    "print()\n",
    "print(a+b)\n",
    "print()\n",
    "print(a-b)"
   ]
  },
  {
   "cell_type": "code",
   "execution_count": 103,
   "metadata": {},
   "outputs": [
    {
     "data": {
      "text/plain": [
       "np.float64(9.0)"
      ]
     },
     "execution_count": 103,
     "metadata": {},
     "output_type": "execute_result"
    }
   ],
   "source": [
    "# 元素之和\n",
    "a.sum()"
   ]
  },
  {
   "cell_type": "code",
   "execution_count": 107,
   "metadata": {},
   "outputs": [
    {
     "data": {
      "text/plain": [
       "np.float64(1.0)"
      ]
     },
     "execution_count": 107,
     "metadata": {},
     "output_type": "execute_result"
    }
   ],
   "source": [
    "# 所有元素的乘积\n",
    "a.prod()"
   ]
  },
  {
   "cell_type": "code",
   "execution_count": null,
   "metadata": {},
   "outputs": [],
   "source": [
    "# 数组，矩阵、维度\n",
    "# 数组、矩阵  ： 数据组织结构形式\n",
    "# 维度： 通讯地址"
   ]
  },
  {
   "cell_type": "code",
   "execution_count": 111,
   "metadata": {},
   "outputs": [
    {
     "name": "stdout",
     "output_type": "stream",
     "text": [
      "mean: 5.0\n",
      "var: 8.0\n",
      "std: 2.8284271247461903\n"
     ]
    }
   ],
   "source": [
    "a = np.array([9,7,5,3,1])\n",
    "print(\"mean:\",a.mean()) # 均值\n",
    "print(\"var:\", a.var())  # 方差\n",
    "print(\"std:\", a.std())  # 标准差"
   ]
  },
  {
   "cell_type": "code",
   "execution_count": 113,
   "metadata": {},
   "outputs": [
    {
     "name": "stdout",
     "output_type": "stream",
     "text": [
      "argmax: 1\n",
      "argmin: 0\n",
      "ceil: [2. 8. 4.]\n",
      "floor: [1. 7. 3.]\n",
      "rint: [1. 8. 4.]\n"
     ]
    }
   ],
   "source": [
    "a = np.array([1.02, 7.8, 3.9])\n",
    "print(\"argmax:\", a.argmax()) # 最大值的索引\n",
    "print(\"argmin:\", a.argmin()) # 最小值的索引\n",
    "print(\"ceil:\", np.ceil(a))  # 向上取整\n",
    "print(\"floor:\", np.floor(a)) # 向下取整\n",
    "print(\"rint:\", np.rint(a))  # 四舍五入，“round to nearest integer”的缩写，四舍五入到最近的整数"
   ]
  },
  {
   "cell_type": "code",
   "execution_count": 115,
   "metadata": {},
   "outputs": [
    {
     "data": {
      "text/plain": [
       "array([ 3,  6,  8,  9, 12, 45, 48])"
      ]
     },
     "execution_count": 115,
     "metadata": {},
     "output_type": "execute_result"
    }
   ],
   "source": [
    "a = np.array([6,3,12,8,45,9,48])\n",
    "a.sort()  # 排序\n",
    "a"
   ]
  },
  {
   "cell_type": "code",
   "execution_count": 123,
   "metadata": {},
   "outputs": [
    {
     "name": "stdout",
     "output_type": "stream",
     "text": [
      "torch.float32\n",
      "tensor([[ 30.,  70., 110., 150.],\n",
      "        [ 70., 174., 278., 382.],\n",
      "        [110., 278., 446., 614.],\n",
      "        [150., 382., 614., 846.]])\n"
     ]
    },
    {
     "data": {
      "text/plain": [
       "tensor([[  1.,   4.,   9.,  16.],\n",
       "        [ 25.,  36.,  49.,  64.],\n",
       "        [ 81., 100., 121., 144.],\n",
       "        [169., 196., 225., 256.]])"
      ]
     },
     "execution_count": 123,
     "metadata": {},
     "output_type": "execute_result"
    }
   ],
   "source": [
    "# 矩阵乘法和逐元素相乘的多种实现方式\n",
    "import torch\n",
    "tensor = torch.arange(1,17, dtype=torch.float32).reshape(4, 4)\n",
    "print(tensor.dtype)\n",
    "\n",
    "# 计算两个张量之间矩阵乘法的几种方式。 y1, y2, y3 最后的值是一样的dot\n",
    "y1 = tensor @ tensor.T\n",
    "y2 = tensor.matmul(tensor.T)\n",
    "y3 = torch.rand_like(tensor) # 一个和tensor相似的张量，值随机\n",
    "torch.matmul(tensor, tensor.T, out=y3)  # 矩阵相乘，数据存放在y3中\n",
    "print(y3)\n",
    "# 计算张量逐元素相乘的几种方法。 z1, z2, z3 最后的值是一样的。\n",
    "z1 = tensor * tensor\n",
    "z2 = tensor.mul(tensor)\n",
    "z3 = torch.rand_like(tensor)\n",
    "torch.mul(tensor, tensor, out=z3)"
   ]
  },
  {
   "cell_type": "code",
   "execution_count": 125,
   "metadata": {},
   "outputs": [
    {
     "data": {
      "text/plain": [
       "array([[ 4, 10, 18],\n",
       "       [28, 40, 54]])"
      ]
     },
     "execution_count": 125,
     "metadata": {},
     "output_type": "execute_result"
    }
   ],
   "source": [
    "a9 = np.array([[1,2,3],[4,5,6]])\n",
    "b9 = np.array([[4,5,6],[7,8,9]])\n",
    "a9 * b9"
   ]
  },
  {
   "cell_type": "code",
   "execution_count": 5,
   "metadata": {},
   "outputs": [
    {
     "name": "stdout",
     "output_type": "stream",
     "text": [
      "矩阵 1:\n",
      "[[1. 2.]\n",
      " [4. 8.]]\n",
      "矩阵 2:\n",
      "[[ 3.  6.]\n",
      " [ 5. 10.]]\n",
      "使用 np.dot 得到的矩阵乘法结果:\n",
      "[[ 13.  26.]\n",
      " [ 52. 104.]]\n",
      "使用 @ 运算符得到的矩阵乘法结果:\n",
      "[[ 13.  26.]\n",
      " [ 52. 104.]]\n",
      "1.0 * 3.0 = 3.0\n",
      "2.0 * 5.0 = 10.0\n",
      "结果矩阵[1,1]:13.0\n",
      "\n",
      "1.0 * 6.0 = 6.0\n",
      "2.0 * 10.0 = 20.0\n",
      "结果矩阵[1,2]:26.0\n",
      "\n",
      "4.0 * 3.0 = 12.0\n",
      "8.0 * 5.0 = 40.0\n",
      "结果矩阵[2,1]:52.0\n",
      "\n",
      "4.0 * 6.0 = 24.0\n",
      "8.0 * 10.0 = 80.0\n",
      "结果矩阵[2,2]:104.0\n",
      "\n",
      "手动推演结果:\n",
      "[[ 13.  26.]\n",
      " [ 52. 104.]]\n"
     ]
    }
   ],
   "source": [
    "# 定义两个简单的矩阵\n",
    "m1 = np.array([[1, 2], [4, 8]], dtype=np.float32)\n",
    "m2 = np.array([[3, 6], [5, 10]], dtype=np.float32)\n",
    "# m1 = m1.reshape(2,2)  # 矩阵1最后1个维度 == 矩阵2倒数第2个维度\n",
    "# m2 = m2.reshape(2,2)\n",
    "\n",
    "# 使用 np.dot 进行矩阵乘法\n",
    "result_dot = np.dot(m1, m2)\n",
    "\n",
    "# 使用 @ 运算符进行矩阵乘法\n",
    "result_at = m1 @ m2\n",
    "\n",
    "print(\"矩阵 1:\")\n",
    "print(m1)\n",
    "print(\"矩阵 2:\")\n",
    "print(m2)\n",
    "print(\"使用 np.dot 得到的矩阵乘法结果:\")\n",
    "print(result_dot)\n",
    "print(\"使用 @ 运算符得到的矩阵乘法结果:\")\n",
    "print(result_at)\n",
    "\n",
    "# 创建一个全零矩阵，用于存储手动推演的结果\n",
    "# 结果矩阵的行数等于 matrix1 的行数，列数等于 matrix2 的列数\n",
    "manual_result = np.zeros((m1.shape[0], m2.shape[1]), dtype=np.float32)\n",
    "\n",
    "# 外层循环：遍历 matrix1 的每一行\n",
    "# i 表示结果矩阵的行索引\n",
    "for i in range(m1.shape[0]):\n",
    "    # 中层循环：遍历 matrix2 的每一列\n",
    "    # j 表示结果矩阵的列索引\n",
    "    for j in range(m2.shape[1]):\n",
    "        # 初始化当前位置的结果为 0\n",
    "        manual_result[i, j] = 0\n",
    "        # 内层循环：计算 matrix1 的第 i 行与 matrix2 的第 j 列对应元素的乘积之和\n",
    "        # k 表示参与乘法运算的元素索引\n",
    "        for k in range(m1.shape[1]):\n",
    "            # 打印当前正在计算的元素\n",
    "            print(f\"{m1[i, k]} * {m2[k, j]} = {m1[i, k] * m2[k, j]}\")\n",
    "            # 将 matrix1 的第 i 行第 k 列元素与 matrix2 的第 k 行第 j 列元素相乘，并累加到结果矩阵的相应位置\n",
    "            manual_result[i, j] += m1[i, k] * m2[k, j]\n",
    "        # 打印当前位置计算完成后的结果\n",
    "        print(f\"结果矩阵[{i+1},{j+1}]:{manual_result[i, j]}\\n\")\n",
    "\n",
    "print(\"手动推演结果:\")\n",
    "print(manual_result)"
   ]
  },
  {
   "cell_type": "code",
   "execution_count": 7,
   "metadata": {},
   "outputs": [],
   "source": [
    "np.save('result.npy',manual_result)"
   ]
  },
  {
   "cell_type": "code",
   "execution_count": 9,
   "metadata": {},
   "outputs": [
    {
     "data": {
      "text/plain": [
       "array([[ 13.,  26.],\n",
       "       [ 52., 104.]], dtype=float32)"
      ]
     },
     "execution_count": 9,
     "metadata": {},
     "output_type": "execute_result"
    }
   ],
   "source": [
    "result_np = np.load('result.npy')\n",
    "result_np"
   ]
  },
  {
   "cell_type": "code",
   "execution_count": 11,
   "metadata": {},
   "outputs": [
    {
     "data": {
      "text/plain": [
       "array([ 5, 27, 29])"
      ]
     },
     "execution_count": 11,
     "metadata": {},
     "output_type": "execute_result"
    }
   ],
   "source": [
    "a = np.array([1,12,13])\n",
    "b = np.array([4,15,16])\n",
    "a + b"
   ]
  },
  {
   "cell_type": "code",
   "execution_count": 21,
   "metadata": {},
   "outputs": [
    {
     "name": "stdout",
     "output_type": "stream",
     "text": [
      "(2,)\n"
     ]
    },
    {
     "data": {
      "text/plain": [
       "array([[ 0, -1],\n",
       "       [ 1,  0],\n",
       "       [ 2,  1],\n",
       "       [ 3,  2]])"
      ]
     },
     "execution_count": 21,
     "metadata": {},
     "output_type": "execute_result"
    }
   ],
   "source": [
    "a = np.array([(1,1), (2,2), (3,3), (4,4)])  # shape(4,2)\n",
    "b = np.array([-1,-2])  # shape(2)-> shape(1,2) -> shape(4,2)  [[-1,-2],[-1,2],[-1,2],[-1,2]]\n",
    "print(b.shape)\n",
    "a + b"
   ]
  },
  {
   "cell_type": "code",
   "execution_count": null,
   "metadata": {},
   "outputs": [],
   "source": []
  }
 ],
 "metadata": {
  "kernelspec": {
   "display_name": "Python [conda env:ai_py10]",
   "language": "python",
   "name": "conda-env-ai_py10-py"
  },
  "language_info": {
   "codemirror_mode": {
    "name": "ipython",
    "version": 3
   },
   "file_extension": ".py",
   "mimetype": "text/x-python",
   "name": "python",
   "nbconvert_exporter": "python",
   "pygments_lexer": "ipython3",
   "version": "3.11.11"
  }
 },
 "nbformat": 4,
 "nbformat_minor": 4
}
