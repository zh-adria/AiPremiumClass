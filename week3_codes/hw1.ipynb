{
 "cells": [
  {
   "cell_type": "markdown",
   "metadata": {},
   "source": [
    "#### 使用KMnist数据集 训练神经网络模型"
   ]
  },
  {
   "cell_type": "code",
   "execution_count": 3,
   "metadata": {},
   "outputs": [],
   "source": [
    "# 导入必要包\n",
    "import torch\n",
    "import torch.nn as nn\n",
    "import torch.optim as optim\n",
    "from torchvision.transforms.v2 import ToTensor     # 转换图像数据为张量\n",
    "from torchvision.datasets import KMNIST\n",
    "from torch.utils.data import DataLoader  # 数据加载器"
   ]
  },
  {
   "cell_type": "code",
   "execution_count": 4,
   "metadata": {},
   "outputs": [],
   "source": [
    "# 定义超参数\n",
    "LR = 1e-3\n",
    "epochs = 150\n",
    "BATCH_SIZE = 128"
   ]
  },
  {
   "cell_type": "code",
   "execution_count": 5,
   "metadata": {},
   "outputs": [
    {
     "name": "stderr",
     "output_type": "stream",
     "text": [
      "/opt/conda/lib/python3.11/site-packages/torchvision/transforms/v2/_deprecated.py:42: UserWarning: The transform `ToTensor()` is deprecated and will be removed in a future release. Instead, please use `v2.Compose([v2.ToImage(), v2.ToDtype(torch.float32, scale=True)])`.Output is equivalent up to float precision.\n",
      "  warnings.warn(\n"
     ]
    }
   ],
   "source": [
    "# 数据集加载\n",
    "train_data = KMNIST(root='./data', train=True, download=True, \n",
    "                          transform=ToTensor())\n",
    "test_data = KMNIST(root='./data', train=False, download=True,\n",
    "                         transform=ToTensor())\n"
   ]
  },
  {
   "cell_type": "code",
   "execution_count": 6,
   "metadata": {},
   "outputs": [
    {
     "data": {
      "image/png": "[encoded data removed]",
      "text/plain": [
       "<Figure size 640x480 with 1 Axes>"
      ]
     },
     "metadata": {},
     "output_type": "display_data"
    }
   ],
   "source": [
    "import matplotlib.pyplot as plt\n",
    "\n",
    "img,label = train_data[1]\n",
    "img.numpy().shape\n",
    "plt.imshow(img.numpy().squeeze(), cmap='gray')\n",
    "plt.title(label)\n",
    "plt.show()"
   ]
  },
  {
   "cell_type": "code",
   "execution_count": 7,
   "metadata": {},
   "outputs": [],
   "source": [
    "trian_dl = DataLoader(train_data, batch_size=BATCH_SIZE, shuffle=True)  # shuffle=True表示打乱数据"
   ]
  },
  {
   "cell_type": "code",
   "execution_count": 8,
   "metadata": {},
   "outputs": [],
   "source": [
    "# 定义模型\n",
    "model = nn.Sequential(\n",
    "    nn.Linear(784, 256),\n",
    "    nn.Sigmoid(),\n",
    "    nn.Linear(256, 10)\n",
    ")"
   ]
  },
  {
   "cell_type": "code",
   "execution_count": 9,
   "metadata": {},
   "outputs": [],
   "source": [
    "# 损失函数&优化器\n",
    "loss_fn = nn.CrossEntropyLoss()  # 交叉熵损失函数\n",
    "# 优化器（模型参数更新）\n",
    "optimizer = torch.optim.SGD(model.parameters(), lr=LR)"
   ]
  },
  {
   "cell_type": "code",
   "execution_count": 10,
   "metadata": {},
   "outputs": [
    {
     "name": "stdout",
     "output_type": "stream",
     "text": [
      "Epoch:0 Loss: 2.2949724197387695\n",
      "Epoch:1 Loss: 2.2827203273773193\n",
      "Epoch:2 Loss: 2.2614500522613525\n",
      "Epoch:3 Loss: 2.260878562927246\n",
      "Epoch:4 Loss: 2.2431552410125732\n",
      "Epoch:5 Loss: 2.2188303470611572\n",
      "Epoch:6 Loss: 2.2028350830078125\n",
      "Epoch:7 Loss: 2.1891868114471436\n",
      "Epoch:8 Loss: 2.174729585647583\n",
      "Epoch:9 Loss: 2.1593434810638428\n",
      "Epoch:10 Loss: 2.156759023666382\n",
      "Epoch:11 Loss: 2.1055524349212646\n",
      "Epoch:12 Loss: 2.101066827774048\n",
      "Epoch:13 Loss: 2.0667498111724854\n",
      "Epoch:14 Loss: 2.0761470794677734\n",
      "Epoch:15 Loss: 2.0078113079071045\n",
      "Epoch:16 Loss: 1.9736117124557495\n",
      "Epoch:17 Loss: 2.000061273574829\n",
      "Epoch:18 Loss: 1.9550198316574097\n",
      "Epoch:19 Loss: 1.9544330835342407\n",
      "Epoch:20 Loss: 1.9359760284423828\n",
      "Epoch:21 Loss: 1.8944798707962036\n",
      "Epoch:22 Loss: 1.8442035913467407\n",
      "Epoch:23 Loss: 1.8258461952209473\n",
      "Epoch:24 Loss: 1.78997004032135\n",
      "Epoch:25 Loss: 1.7949461936950684\n",
      "Epoch:26 Loss: 1.699066162109375\n",
      "Epoch:27 Loss: 1.7932456731796265\n",
      "Epoch:28 Loss: 1.6598411798477173\n",
      "Epoch:29 Loss: 1.6636499166488647\n",
      "Epoch:30 Loss: 1.6115881204605103\n",
      "Epoch:31 Loss: 1.56694757938385\n",
      "Epoch:32 Loss: 1.604077696800232\n",
      "Epoch:33 Loss: 1.6042275428771973\n",
      "Epoch:34 Loss: 1.646527886390686\n",
      "Epoch:35 Loss: 1.526955246925354\n",
      "Epoch:36 Loss: 1.5504854917526245\n",
      "Epoch:37 Loss: 1.3827462196350098\n",
      "Epoch:38 Loss: 1.4874471426010132\n",
      "Epoch:39 Loss: 1.3638581037521362\n",
      "Epoch:40 Loss: 1.391299843788147\n",
      "Epoch:41 Loss: 1.4950895309448242\n",
      "Epoch:42 Loss: 1.4103885889053345\n",
      "Epoch:43 Loss: 1.3887909650802612\n",
      "Epoch:44 Loss: 1.452225685119629\n",
      "Epoch:45 Loss: 1.3004589080810547\n",
      "Epoch:46 Loss: 1.5329245328903198\n",
      "Epoch:47 Loss: 1.2979401350021362\n",
      "Epoch:48 Loss: 1.2866450548171997\n",
      "Epoch:49 Loss: 1.3064695596694946\n",
      "Epoch:50 Loss: 1.2293647527694702\n",
      "Epoch:51 Loss: 1.1685190200805664\n",
      "Epoch:52 Loss: 1.267316222190857\n",
      "Epoch:53 Loss: 1.2529525756835938\n",
      "Epoch:54 Loss: 1.361549973487854\n",
      "Epoch:55 Loss: 1.1214543581008911\n",
      "Epoch:56 Loss: 1.2188721895217896\n",
      "Epoch:57 Loss: 1.0932570695877075\n",
      "Epoch:58 Loss: 1.1105412244796753\n",
      "Epoch:59 Loss: 1.0570625066757202\n",
      "Epoch:60 Loss: 1.0443674325942993\n",
      "Epoch:61 Loss: 0.9773818850517273\n",
      "Epoch:62 Loss: 1.081383228302002\n",
      "Epoch:63 Loss: 1.0315735340118408\n",
      "Epoch:64 Loss: 1.1309419870376587\n",
      "Epoch:65 Loss: 1.0598737001419067\n",
      "Epoch:66 Loss: 1.0908623933792114\n",
      "Epoch:67 Loss: 1.0776315927505493\n",
      "Epoch:68 Loss: 1.1484838724136353\n",
      "Epoch:69 Loss: 1.2718759775161743\n",
      "Epoch:70 Loss: 1.200432538986206\n",
      "Epoch:71 Loss: 1.0699368715286255\n",
      "Epoch:72 Loss: 1.0010303258895874\n",
      "Epoch:73 Loss: 1.01650869846344\n",
      "Epoch:74 Loss: 1.1278883218765259\n",
      "Epoch:75 Loss: 1.024191975593567\n",
      "Epoch:76 Loss: 0.933129608631134\n",
      "Epoch:77 Loss: 0.8572883605957031\n",
      "Epoch:78 Loss: 0.9602656364440918\n",
      "Epoch:79 Loss: 1.1982804536819458\n",
      "Epoch:80 Loss: 0.9088950753211975\n",
      "Epoch:81 Loss: 0.9147363305091858\n",
      "Epoch:82 Loss: 0.9885921478271484\n",
      "Epoch:83 Loss: 0.7632876038551331\n",
      "Epoch:84 Loss: 0.9802797436714172\n",
      "Epoch:85 Loss: 0.7925876975059509\n",
      "Epoch:86 Loss: 0.8812975287437439\n",
      "Epoch:87 Loss: 0.7615725994110107\n",
      "Epoch:88 Loss: 0.9247433543205261\n",
      "Epoch:89 Loss: 0.8360063433647156\n",
      "Epoch:90 Loss: 1.0887051820755005\n",
      "Epoch:91 Loss: 1.0187450647354126\n",
      "Epoch:92 Loss: 0.8700183033943176\n",
      "Epoch:93 Loss: 0.965263307094574\n",
      "Epoch:94 Loss: 0.9978761076927185\n",
      "Epoch:95 Loss: 0.8430783152580261\n",
      "Epoch:96 Loss: 0.8382557034492493\n",
      "Epoch:97 Loss: 1.0246039628982544\n",
      "Epoch:98 Loss: 0.9995048642158508\n",
      "Epoch:99 Loss: 0.9101569652557373\n",
      "Epoch:100 Loss: 0.8624143600463867\n",
      "Epoch:101 Loss: 0.8650316596031189\n",
      "Epoch:102 Loss: 0.7592236399650574\n",
      "Epoch:103 Loss: 0.8995092511177063\n",
      "Epoch:104 Loss: 0.7779060006141663\n",
      "Epoch:105 Loss: 0.7953377366065979\n",
      "Epoch:106 Loss: 0.7721405625343323\n",
      "Epoch:107 Loss: 0.9213677048683167\n",
      "Epoch:108 Loss: 0.7844934463500977\n",
      "Epoch:109 Loss: 0.8969842791557312\n",
      "Epoch:110 Loss: 0.7935298085212708\n",
      "Epoch:111 Loss: 0.7948945164680481\n",
      "Epoch:112 Loss: 0.8616451621055603\n",
      "Epoch:113 Loss: 1.0198619365692139\n",
      "Epoch:114 Loss: 0.780790388584137\n",
      "Epoch:115 Loss: 0.8231627941131592\n",
      "Epoch:116 Loss: 0.8635091185569763\n",
      "Epoch:117 Loss: 0.8554850220680237\n",
      "Epoch:118 Loss: 0.7845058441162109\n",
      "Epoch:119 Loss: 0.764507532119751\n",
      "Epoch:120 Loss: 0.6594322323799133\n",
      "Epoch:121 Loss: 0.8443564772605896\n",
      "Epoch:122 Loss: 0.7502710223197937\n",
      "Epoch:123 Loss: 1.006726861000061\n",
      "Epoch:124 Loss: 0.8739242553710938\n",
      "Epoch:125 Loss: 0.8800039887428284\n",
      "Epoch:126 Loss: 0.8859372138977051\n",
      "Epoch:127 Loss: 0.9232515692710876\n",
      "Epoch:128 Loss: 0.7724588513374329\n",
      "Epoch:129 Loss: 0.5929439067840576\n",
      "Epoch:130 Loss: 0.7831692099571228\n",
      "Epoch:131 Loss: 0.64969801902771\n",
      "Epoch:132 Loss: 0.6230625510215759\n",
      "Epoch:133 Loss: 0.6935809254646301\n",
      "Epoch:134 Loss: 0.8213734030723572\n",
      "Epoch:135 Loss: 0.7291770577430725\n",
      "Epoch:136 Loss: 0.8974499702453613\n",
      "Epoch:137 Loss: 0.8564558625221252\n",
      "Epoch:138 Loss: 0.6970863342285156\n",
      "Epoch:139 Loss: 0.6193056702613831\n",
      "Epoch:140 Loss: 0.7856078147888184\n",
      "Epoch:141 Loss: 0.803506076335907\n",
      "Epoch:142 Loss: 0.7513875961303711\n",
      "Epoch:143 Loss: 0.6916818618774414\n",
      "Epoch:144 Loss: 0.6612368226051331\n",
      "Epoch:145 Loss: 0.7338235378265381\n",
      "Epoch:146 Loss: 0.8190929889678955\n",
      "Epoch:147 Loss: 0.8044829368591309\n",
      "Epoch:148 Loss: 0.8402076363563538\n",
      "Epoch:149 Loss: 0.7668378353118896\n"
     ]
    }
   ],
   "source": [
    "for epoch in range(epochs):\n",
    "    # 提取训练数据\n",
    "    for data, target in trian_dl:\n",
    "        # 前向运算\n",
    "        output = model(data.reshape(-1, 784))\n",
    "        # 计算损失\n",
    "        loss = loss_fn(output, target)\n",
    "        # 反向传播\n",
    "        optimizer.zero_grad()  # 所有参数梯度清零\n",
    "        loss.backward()     # 计算梯度（参数.grad）\n",
    "        optimizer.step()    # 更新参数\n",
    "\n",
    "    print(f'Epoch:{epoch} Loss: {loss.item()}')"
   ]
  },
  {
   "cell_type": "code",
   "execution_count": 11,
   "metadata": {},
   "outputs": [
    {
     "name": "stdout",
     "output_type": "stream",
     "text": [
      "Accuracy: 63.78%\n"
     ]
    }
   ],
   "source": [
    "# 测试\n",
    "test_dl = DataLoader(test_data, batch_size=BATCH_SIZE)\n",
    "\n",
    "correct = 0\n",
    "total = 0\n",
    "with torch.no_grad():  # 不计算梯度\n",
    "    for data, target in test_dl:\n",
    "        output = model(data.reshape(-1, 784))\n",
    "        _, predicted = torch.max(output, 1)  # 返回每行最大值和索引\n",
    "        total += target.size(0)  # size(0) 等效 shape[0]\n",
    "        correct += (predicted == target).sum().item()\n",
    "\n",
    "print(f'Accuracy: {correct/total*100}%')"
   ]
  }
 ],
 "metadata": {
  "kernelspec": {
   "display_name": "base",
   "language": "python",
   "name": "python3"
  },
  "language_info": {
   "codemirror_mode": {
    "name": "ipython",
    "version": 3
   },
   "file_extension": ".py",
   "mimetype": "text/x-python",
   "name": "python",
   "nbconvert_exporter": "python",
   "pygments_lexer": "ipython3",
   "version": "3.11.10"
  }
 },
 "nbformat": 4,
 "nbformat_minor": 2
}
