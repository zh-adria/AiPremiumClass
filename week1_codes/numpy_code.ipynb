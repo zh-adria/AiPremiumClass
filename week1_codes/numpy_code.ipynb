{
  "cells": [
    {
      "cell_type": "markdown",
      "source": [
        "**练习 1.1：矩阵的特征值与特征向量\n",
        "题目：创建一个随机的 3×3 矩阵，并计算其特征值和特征向量。**"
      ],
      "metadata": {
        "id": "2rUgThApIt2B"
      }
    },
    {
      "cell_type": "code",
      "source": [
        "import numpy as np\n",
        "\n",
        "# 创建一个随机的 3×3 矩阵\n",
        "matrix = np.random.rand(3, 3)\n",
        "\n",
        "# 计算特征值和特征向量\n",
        "eigenvalues, eigenvectors = np.linalg.eig(matrix)\n",
        "\n",
        "print(\"矩阵：\\n\", matrix)\n",
        "print(\"特征值：\\n\", eigenvalues)\n",
        "print(\"特征向量：\\n\", eigenvectors)"
      ],
      "metadata": {
        "colab": {
          "base_uri": "https://localhost:8080/"
        },
        "id": "bQ3jCwb0IstC",
        "outputId": "7606a227-14ba-45bb-a460-f8da87708407"
      },
      "execution_count": null,
      "outputs": [
        {
          "output_type": "stream",
          "name": "stdout",
          "text": [
            "矩阵：\n",
            " [[0.51166035 0.53710759 0.13081581]\n",
            " [0.15652108 0.10612971 0.23807403]\n",
            " [0.67909128 0.03740372 0.82356746]]\n",
            "特征值：\n",
            " [1.14604782+0.j         0.14765485+0.14506471j 0.14765485-0.14506471j]\n",
            "特征向量：\n",
            " [[ 0.40225808+0.j          0.67034222+0.j          0.67034222-0.j        ]\n",
            " [ 0.26141548+0.j         -0.30197978+0.21666069j -0.30197978-0.21666069j]\n",
            " [ 0.87741118+0.j         -0.62540319-0.14621395j -0.62540319+0.14621395j]]\n"
          ]
        }
      ]
    },
    {
      "cell_type": "markdown",
      "source": [
        "\n",
        "**练习 1.2：矩阵分解 题目：创建一个 4×4 的随机矩阵，并对其进行奇异值分解（SVD）**"
      ],
      "metadata": {
        "id": "Fev8PGgEI3Dc"
      }
    },
    {
      "cell_type": "code",
      "source": [
        "# 创建一个 4×4 的随机矩阵\n",
        "matrix = np.random.rand(4, 4)\n",
        "\n",
        "# 进行奇异值分解\n",
        "U, S, Vt = np.linalg.svd(matrix)\n",
        "\n",
        "print(\"矩阵 U：\\n\", U)\n",
        "print(\"奇异值 S：\\n\", S)\n",
        "print(\"矩阵 V^T：\\n\", Vt)"
      ],
      "metadata": {
        "colab": {
          "base_uri": "https://localhost:8080/"
        },
        "id": "7sgEbFsHJDce",
        "outputId": "83d82eaa-78fa-4c2a-bc1d-8c854f1e0a6d"
      },
      "execution_count": null,
      "outputs": [
        {
          "output_type": "stream",
          "name": "stdout",
          "text": [
            "矩阵 U：\n",
            " [[-0.5870957   0.25972029 -0.45974213 -0.61359692]\n",
            " [-0.35211436 -0.8926161   0.20413088 -0.1938622 ]\n",
            " [-0.39384452 -0.12753085 -0.54360098  0.73015091]\n",
            " [-0.61336825  0.34571339  0.67191199  0.22977362]]\n",
            "奇异值 S：\n",
            " [1.66621826 0.76637738 0.3830737  0.15219379]\n",
            "矩阵 V^T：\n",
            " [[-0.27306812 -0.18042741 -0.41128904 -0.85071798]\n",
            " [-0.90925967  0.07890203  0.40047095  0.08151283]\n",
            " [ 0.31213328 -0.03911799  0.8153355  -0.48607677]\n",
            " [-0.0354044  -0.97963779  0.07544779  0.18265804]]\n"
          ]
        }
      ]
    },
    {
      "cell_type": "markdown",
      "source": [
        "**练习 1.3：矩阵的逆与伪逆\n",
        "题目：创建一个 5×5 的随机矩阵，并计算其逆矩阵和伪逆矩阵。**"
      ],
      "metadata": {
        "id": "HBDCkE_pJbK1"
      }
    },
    {
      "cell_type": "code",
      "source": [
        "# 创建一个 5×5 的随机矩阵\n",
        "matrix = np.random.rand(5, 5)\n",
        "\n",
        "# 计算逆矩阵\n",
        "inverse_matrix = np.linalg.inv(matrix)\n",
        "\n",
        "# 计算伪逆矩阵\n",
        "pinv_matrix = np.linalg.pinv(matrix)\n",
        "\n",
        "print(\"原矩阵：\\n\", matrix)\n",
        "print(\"逆矩阵：\\n\", inverse_matrix)\n",
        "print(\"伪逆矩阵：\\n\", pinv_matrix)"
      ],
      "metadata": {
        "colab": {
          "base_uri": "https://localhost:8080/"
        },
        "id": "hCYPBBm5JZ_d",
        "outputId": "c29a262e-8d24-4f2b-8ca0-efc7801e592b"
      },
      "execution_count": null,
      "outputs": [
        {
          "output_type": "stream",
          "name": "stdout",
          "text": [
            "原矩阵：\n",
            " [[0.36621122 0.85525691 0.62084391 0.20996974 0.51208281]\n",
            " [0.59303756 0.44670265 0.11135147 0.76817313 0.45444432]\n",
            " [0.88054519 0.386644   0.40561647 0.39228732 0.78942153]\n",
            " [0.96638982 0.56754776 0.52932911 0.45180814 0.2129374 ]\n",
            " [0.99236779 0.33774359 0.91173698 0.39104497 0.15577898]]\n",
            "逆矩阵：\n",
            " [[-0.93342251 -0.97247197  0.74734107  2.15707171 -0.8304356 ]\n",
            " [ 0.9417903  -0.30709621 -0.66227955  1.86342302 -1.39101709]\n",
            " [ 0.65768191  0.23253918 -0.38973338 -2.11010205  2.01901358]\n",
            " [-0.09282166  2.17757127 -0.99422353 -1.58789173  1.16145642]\n",
            " [ 0.28809611  0.03355256  1.45182559 -1.44546163 -0.00697382]]\n",
            "伪逆矩阵：\n",
            " [[-0.93342251 -0.97247197  0.74734107  2.15707171 -0.8304356 ]\n",
            " [ 0.9417903  -0.30709621 -0.66227955  1.86342302 -1.39101709]\n",
            " [ 0.65768191  0.23253918 -0.38973338 -2.11010205  2.01901358]\n",
            " [-0.09282166  2.17757127 -0.99422353 -1.58789173  1.16145642]\n",
            " [ 0.28809611  0.03355256  1.45182559 -1.44546163 -0.00697382]]\n"
          ]
        }
      ]
    },
    {
      "cell_type": "markdown",
      "source": [
        "**练习 2.1：多维数组的切片与索引\n",
        "题目：创建一个 3×4×5 的随机多维数组。提取其中第 2 行、第 3 列的所有元素，并将其值设置为 -1。**"
      ],
      "metadata": {
        "id": "9pKiG-pnJkiT"
      }
    },
    {
      "cell_type": "code",
      "source": [
        "# 创建一个 3×4×5 的随机多维数组\n",
        "array = np.random.rand(3, 4, 5)\n",
        "\n",
        "# 提取第 2 行、第 3 列的所有元素，并设置为 -1\n",
        "array[1, 2, :] = -1  # 第 2 行和第 3 列（索引从 0 开始）\n",
        "\n",
        "print(\"修改后的数组：\\n\", array)"
      ],
      "metadata": {
        "colab": {
          "base_uri": "https://localhost:8080/"
        },
        "id": "9tSP30yGJmJT",
        "outputId": "0996c5b6-0d59-4e3d-fde9-8151a3aa641e"
      },
      "execution_count": null,
      "outputs": [
        {
          "output_type": "stream",
          "name": "stdout",
          "text": [
            "修改后的数组：\n",
            " [[[ 0.10079887  0.29813483  0.57698459  0.11066888  0.18791347]\n",
            "  [ 0.41264096  0.93847569  0.54652773  0.22245645  0.69658256]\n",
            "  [ 0.40988775  0.61758788  0.26475949  0.09155232  0.8632349 ]\n",
            "  [ 0.83739953  0.09273224  0.55463366  0.1365873   0.67785624]]\n",
            "\n",
            " [[ 0.40146553  0.04858202  0.74857279  0.64554309  0.52581716]\n",
            "  [ 0.82153162  0.09885012  0.30499013  0.7772186   0.35630398]\n",
            "  [-1.         -1.         -1.         -1.         -1.        ]\n",
            "  [ 0.69687345  0.85334931  0.96899227  0.82566279  0.06628087]]\n",
            "\n",
            " [[ 0.09858662  0.47500222  0.56413333  0.58329063  0.11978352]\n",
            "  [ 0.23330615  0.46537836  0.68031827  0.18662762  0.5500308 ]\n",
            "  [ 0.10217651  0.75932004  0.39964847  0.69959963  0.3417323 ]\n",
            "  [ 0.96203185  0.77487631  0.64462209  0.9651079   0.27541367]]]\n"
          ]
        }
      ]
    },
    {
      "cell_type": "markdown",
      "source": [
        "**练习 2.2：布尔索引与条件筛选\n",
        "题目：创建一个 10×10 的随机数组，值在 [0, 1) 范围内。提取所有大于 0.5 的元素，并将其替换为 -1。**"
      ],
      "metadata": {
        "id": "j77H3r_zJqNZ"
      }
    },
    {
      "cell_type": "code",
      "source": [
        "# 创建一个 10×10 的随机数组\n",
        "array = np.random.rand(10, 10)\n",
        "\n",
        "# 提取所有大于 0.5 的元素，并将其替换为 -1\n",
        "array[array > 0.5] = -1\n",
        "\n",
        "print(\"修改后的数组：\\n\", array)"
      ],
      "metadata": {
        "colab": {
          "base_uri": "https://localhost:8080/"
        },
        "id": "VBQf5TZOJy_6",
        "outputId": "553b6f73-7c0a-4e68-d89c-8fb11b59c24d"
      },
      "execution_count": null,
      "outputs": [
        {
          "output_type": "stream",
          "name": "stdout",
          "text": [
            "修改后的数组：\n",
            " [[ 0.32869672 -1.          0.34595746  0.12418815 -1.         -1.\n",
            "   0.47210857  0.26973162 -1.          0.44900034]\n",
            " [-1.         -1.          0.06813529 -1.          0.09234744 -1.\n",
            "   0.42924171  0.36773215 -1.          0.04757293]\n",
            " [-1.          0.02696801 -1.          0.49061745 -1.          0.36448317\n",
            "  -1.          0.01550313 -1.          0.20059714]\n",
            " [ 0.0854446   0.48936298 -1.          0.10878461 -1.         -1.\n",
            "  -1.         -1.          0.46541817 -1.        ]\n",
            " [-1.          0.26295231 -1.          0.48744161  0.10765034  0.43562461\n",
            "   0.33907285 -1.          0.46134824 -1.        ]\n",
            " [-1.         -1.          0.20621618  0.09796066 -1.         -1.\n",
            "  -1.          0.01608813  0.17238208  0.33676971]\n",
            " [ 0.11223791  0.06783657  0.29483364 -1.          0.02414556  0.42295465\n",
            "  -1.         -1.         -1.          0.30166365]\n",
            " [-1.         -1.          0.18979343 -1.         -1.          0.01410748\n",
            "   0.18308396 -1.          0.01945923 -1.        ]\n",
            " [ 0.32050594  0.08610128 -1.          0.21051467 -1.          0.42052545\n",
            "  -1.          0.14690101 -1.         -1.        ]\n",
            " [ 0.30264332 -1.         -1.          0.17291987  0.01869292 -1.\n",
            "  -1.          0.23548033  0.47992048 -1.        ]]\n"
          ]
        }
      ]
    },
    {
      "cell_type": "markdown",
      "source": [
        "**练习 2.3：数组的广播与运算\n",
        "题目：创建两个数组：A 是一个 3×4 的随机数组，B 是一个长度为 4 的随机数组。计算 A 中每一行与 B 的点积。**"
      ],
      "metadata": {
        "id": "uTeujUBlJ1_w"
      }
    },
    {
      "cell_type": "code",
      "source": [
        "# 创建两个数组\n",
        "A = np.random.rand(3, 4)\n",
        "B = np.random.rand(4)\n",
        "\n",
        "# 计算 A 中每一行与 B 的点积\n",
        "result = A @ B  # 或者使用 np.dot(A, B)\n",
        "\n",
        "print(\"A：\\n\", A)\n",
        "print(\"B：\\n\", B)\n",
        "print(\"点积结果：\\n\", result)"
      ],
      "metadata": {
        "colab": {
          "base_uri": "https://localhost:8080/"
        },
        "id": "9aqXlXjqJ89f",
        "outputId": "5e436313-111b-42fc-b280-324d7ea9c1ae"
      },
      "execution_count": null,
      "outputs": [
        {
          "output_type": "stream",
          "name": "stdout",
          "text": [
            "A：\n",
            " [[0.18297155 0.81839466 0.23688411 0.67868471]\n",
            " [0.19432903 0.74543067 0.77271749 0.78210912]\n",
            " [0.1045489  0.73985376 0.12565807 0.43719972]]\n",
            "B：\n",
            " [0.21606556 0.97882423 0.18470592 0.88668929]\n",
            "点积结果：\n",
            " [1.48613473 1.6078467  1.15764631]\n"
          ]
        }
      ]
    },
    {
      "cell_type": "markdown",
      "source": [
        "**练习 3.1：随机数生成与统计\n",
        "题目：创建一个 100×100 的随机数组，值服从标准正态分布。计算每行的均值和标准差，并将结果存储到一个新的数组中。**"
      ],
      "metadata": {
        "id": "4qiCq8vtKCl5"
      }
    },
    {
      "cell_type": "code",
      "source": [
        "# 创建一个 100×100 的随机数组，服从标准正态分布\n",
        "array = np.random.normal(size=(100, 100))\n",
        "\n",
        "# 计算每行的均值和标准差\n",
        "means = np.mean(array, axis=1)\n",
        "stds = np.std(array, axis=1)\n",
        "\n",
        "# 将结果存储到一个新的数组中\n",
        "result = np.vstack((means, stds)).T\n",
        "\n",
        "print(\"每行的均值和标准差：\\n\", result)"
      ],
      "metadata": {
        "colab": {
          "base_uri": "https://localhost:8080/"
        },
        "id": "YyzdljsKKEm0",
        "outputId": "3f9ad6d6-c5fa-405c-a42c-617108c84238"
      },
      "execution_count": null,
      "outputs": [
        {
          "output_type": "stream",
          "name": "stdout",
          "text": [
            "每行的均值和标准差：\n",
            " [[-0.00818407  1.00048041]\n",
            " [ 0.00905545  1.071941  ]\n",
            " [ 0.15911637  1.03415624]\n",
            " [ 0.04837493  0.94226503]\n",
            " [ 0.09273964  1.02592182]\n",
            " [ 0.01219982  1.0282976 ]\n",
            " [-0.16716991  0.99222619]\n",
            " [ 0.02935051  1.07836836]\n",
            " [-0.10943271  0.92659554]\n",
            " [-0.07688783  0.92652886]\n",
            " [ 0.23920069  1.0601238 ]\n",
            " [ 0.02334554  0.94775205]\n",
            " [-0.00406625  0.937411  ]\n",
            " [-0.15084226  0.88124511]\n",
            " [-0.03193642  0.88673569]\n",
            " [-0.19430883  0.95393806]\n",
            " [ 0.13786293  1.06403744]\n",
            " [-0.04807341  0.80588813]\n",
            " [ 0.02226144  1.00625893]\n",
            " [-0.03984794  0.88497857]\n",
            " [ 0.11897899  0.90995986]\n",
            " [ 0.13361624  1.01685422]\n",
            " [ 0.10482886  0.88028008]\n",
            " [-0.1091583   0.98805937]\n",
            " [ 0.12183663  0.92943337]\n",
            " [ 0.1821306   0.9991502 ]\n",
            " [-0.00421595  0.93463479]\n",
            " [-0.04022859  0.91420221]\n",
            " [-0.00766473  0.95637838]\n",
            " [ 0.14992135  1.03095481]\n",
            " [ 0.00221183  1.01983107]\n",
            " [-0.12040496  1.07071735]\n",
            " [-0.07744226  1.02552725]\n",
            " [-0.00763463  0.97729454]\n",
            " [ 0.04287289  1.04937219]\n",
            " [ 0.09715118  1.05583358]\n",
            " [ 0.09999199  1.132776  ]\n",
            " [ 0.05626911  1.10947453]\n",
            " [ 0.08797618  1.08007212]\n",
            " [ 0.1300587   1.09311975]\n",
            " [-0.00175608  0.92994475]\n",
            " [-0.03669991  0.94893394]\n",
            " [ 0.03280779  1.06488609]\n",
            " [ 0.03874209  0.94469662]\n",
            " [ 0.05688478  1.01492735]\n",
            " [ 0.03442342  1.13983001]\n",
            " [ 0.08929368  0.92661905]\n",
            " [-0.22308849  0.94958835]\n",
            " [-0.02827898  0.90901012]\n",
            " [ 0.17672437  1.07755379]\n",
            " [-0.01469264  0.90364868]\n",
            " [ 0.14113564  1.12629376]\n",
            " [ 0.069036    0.92850534]\n",
            " [-0.14154053  1.11402179]\n",
            " [-0.12623739  0.89184685]\n",
            " [ 0.04186855  0.82832496]\n",
            " [-0.10245497  0.8944026 ]\n",
            " [-0.12437295  1.01397527]\n",
            " [ 0.08439094  1.02478113]\n",
            " [ 0.03565519  0.96374763]\n",
            " [-0.11737833  0.97129189]\n",
            " [-0.04166592  1.0362821 ]\n",
            " [-0.08266452  1.07560211]\n",
            " [-0.03702657  0.97101765]\n",
            " [ 0.1038173   0.94532602]\n",
            " [-0.03412539  0.9575275 ]\n",
            " [ 0.01703806  1.10921272]\n",
            " [ 0.14066582  1.08501639]\n",
            " [-0.12925786  1.04971027]\n",
            " [ 0.13634904  1.06444194]\n",
            " [ 0.0310233   0.998256  ]\n",
            " [-0.0345496   0.97435878]\n",
            " [-0.01391375  1.00269573]\n",
            " [ 0.02995269  1.11281382]\n",
            " [ 0.04040216  0.89234539]\n",
            " [ 0.07925239  0.99764095]\n",
            " [-0.02057988  0.97865271]\n",
            " [-0.06367992  1.03593614]\n",
            " [ 0.01148274  1.03875005]\n",
            " [-0.00308361  0.98548517]\n",
            " [-0.09337017  1.08975925]\n",
            " [-0.06267475  1.08079082]\n",
            " [-0.09219108  1.0755668 ]\n",
            " [ 0.12569566  0.95553114]\n",
            " [-0.15034421  1.130986  ]\n",
            " [ 0.1060621   1.04639156]\n",
            " [-0.0401262   0.95378179]\n",
            " [-0.07103449  0.95308611]\n",
            " [-0.15011626  0.99924812]\n",
            " [ 0.06714371  0.98856676]\n",
            " [-0.01527479  0.91277189]\n",
            " [-0.00123376  0.87594446]\n",
            " [-0.01985518  0.96390172]\n",
            " [ 0.11676444  0.98336672]\n",
            " [-0.17972902  0.97908848]\n",
            " [ 0.04540492  1.06071946]\n",
            " [-0.17719932  0.9931773 ]\n",
            " [ 0.13122952  1.02579143]\n",
            " [-0.07701031  0.97437087]\n",
            " [-0.02281063  1.04938852]]\n"
          ]
        }
      ]
    },
    {
      "cell_type": "markdown",
      "source": [
        "**题目：创建一个 10×10 的随机整数数组，范围为 [1, 100]。从数组中随机抽取 10 个元素，允许重复。**"
      ],
      "metadata": {
        "id": "MuHgwBloKI9N"
      }
    },
    {
      "cell_type": "code",
      "source": [
        "# 创建一个 10×10 的随机整数数组\n",
        "array = np.random.randint(1, 101, size=(10, 10))\n",
        "\n",
        "# 随机抽取 10 个元素，允许重复\n",
        "sample = np.random.choice(array.flatten(), size=10, replace=True)\n",
        "\n",
        "print(\"原始数组：\\n\", array)\n",
        "print(\"随机抽样结果：\\n\", sample)"
      ],
      "metadata": {
        "colab": {
          "base_uri": "https://localhost:8080/"
        },
        "id": "X-OPOHKRKMwF",
        "outputId": "1d5219ad-0a18-4498-9471-138b17bcd394"
      },
      "execution_count": null,
      "outputs": [
        {
          "output_type": "stream",
          "name": "stdout",
          "text": [
            "原始数组：\n",
            " [[ 47  52  81  57   6  85  92  62  31  13]\n",
            " [ 69  11  50  42  44   8  82  49  61  43]\n",
            " [ 34  61  75  30  12 100  31  40  30  96]\n",
            " [ 84  26  61  41  21  52  26  98  29  23]\n",
            " [ 33  98  16  49  56  50  28  42  68  25]\n",
            " [ 83  11  63  87  97  67  90  25  21  60]\n",
            " [ 41  96  57  23  45  87  64  20  70  77]\n",
            " [ 65 100  75  32  83  17  10  88  63  38]\n",
            " [ 76  99  24  12  91  71  70  69  19  98]\n",
            " [  5  94  73  34  48  97  46  22  30  16]]\n",
            "随机抽样结果：\n",
            " [20 65 52 77 12 22 22 83 25 98]\n"
          ]
        }
      ]
    },
    {
      "cell_type": "markdown",
      "source": [
        "**练习 3.3：直方图与统计\n",
        "题目：创建一个 1000×1 的随机数组，值服从均匀分布 [0, 10]。计算其直方图，将范围分为 10 个区间，并返回每个区间的计数。**"
      ],
      "metadata": {
        "id": "3qWQHXPBKQhS"
      }
    },
    {
      "cell_type": "code",
      "source": [
        "# 创建一个 1000×1 的随机数组，服从均匀分布 [0, 10]\n",
        "array = np.random.uniform(0, 10, size=1000)\n",
        "\n",
        "# 计算直方图，将范围分为 10 个区间\n",
        "hist, bins = np.histogram(array, bins=10, range=(0, 10))\n",
        "\n",
        "print(\"直方图计数：\\n\", hist)\n",
        "print(\"区间划分：\\n\", bins)"
      ],
      "metadata": {
        "colab": {
          "base_uri": "https://localhost:8080/"
        },
        "id": "zHkhrKykKUQj",
        "outputId": "2c763e89-6bbc-4545-d1c3-323333ae3a2f"
      },
      "execution_count": null,
      "outputs": [
        {
          "output_type": "stream",
          "name": "stdout",
          "text": [
            "直方图计数：\n",
            " [140 105 101  98  99  87  88  97 100  85]\n",
            "区间划分：\n",
            " [ 0.  1.  2.  3.  4.  5.  6.  7.  8.  9. 10.]\n"
          ]
        }
      ]
    },
    {
      "cell_type": "markdown",
      "source": [
        "**练习 4.1：数组的堆叠\n",
        "题目：创建两个 3×3 的随机数组 A 和 B。将它们沿行方向堆叠成一个 6×3 的数组，再沿列方向堆叠成一个 3×6 的数组。**"
      ],
      "metadata": {
        "id": "flkMBGFZKXC4"
      }
    },
    {
      "cell_type": "code",
      "source": [
        "# 创建两个 3×3 的随机数组\n",
        "A = np.random.rand(3, 3)\n",
        "B = np.random.rand(3, 3)\n",
        "\n",
        "# 沿行方向堆叠\n",
        "row_stack = np.vstack((A, B))\n",
        "\n",
        "# 沿列方向堆叠\n",
        "col_stack = np.hstack((A, B))\n",
        "\n",
        "print(\"沿行方向堆叠：\\n\", row_stack)\n",
        "print(\"沿列方向堆叠：\\n\", col_stack)"
      ],
      "metadata": {
        "colab": {
          "base_uri": "https://localhost:8080/"
        },
        "id": "iq-GOst9KcNE",
        "outputId": "6abfc335-1988-47c3-f0fc-dd55eeb5f4a3"
      },
      "execution_count": null,
      "outputs": [
        {
          "output_type": "stream",
          "name": "stdout",
          "text": [
            "沿行方向堆叠：\n",
            " [[0.17041223 0.73264358 0.50226309]\n",
            " [0.84833343 0.08780218 0.06942786]\n",
            " [0.87582434 0.2628689  0.61479676]\n",
            " [0.93449386 0.14044956 0.0597752 ]\n",
            " [0.21141261 0.8230412  0.84731361]\n",
            " [0.67600283 0.53707674 0.07413411]]\n",
            "沿列方向堆叠：\n",
            " [[0.17041223 0.73264358 0.50226309 0.93449386 0.14044956 0.0597752 ]\n",
            " [0.84833343 0.08780218 0.06942786 0.21141261 0.8230412  0.84731361]\n",
            " [0.87582434 0.2628689  0.61479676 0.67600283 0.53707674 0.07413411]]\n"
          ]
        }
      ]
    },
    {
      "cell_type": "markdown",
      "source": [
        "**练习 4.2：数组的拆分\n",
        "题目：创建一个 6×6 的随机数组。将其沿行方向拆分为 3 个 2×6 的数组，再沿列方向拆分为 3 个 6×2 的数组。**"
      ],
      "metadata": {
        "id": "GMiGzl_GKiva"
      }
    },
    {
      "cell_type": "code",
      "source": [
        "# 创建一个 6×6 的随机数组\n",
        "array = np.random.rand(6, 6)\n",
        "\n",
        "# 沿行方向拆分\n",
        "row_split = np.split(array, 3, axis=0)\n",
        "\n",
        "# 沿列方向拆分\n",
        "col_split = np.split(array, 3, axis=1)\n",
        "\n",
        "print(\"沿行方向拆分：\\n\", row_split)\n",
        "print(\"沿列方向拆分：\\n\", col_split)"
      ],
      "metadata": {
        "colab": {
          "base_uri": "https://localhost:8080/"
        },
        "id": "W1wa0oyuKmT4",
        "outputId": "0e4624a7-547e-4a59-ece5-391a0ad235d6"
      },
      "execution_count": null,
      "outputs": [
        {
          "output_type": "stream",
          "name": "stdout",
          "text": [
            "沿行方向拆分：\n",
            " [array([[0.93807855, 0.5121059 , 0.9585033 , 0.66740027, 0.72852062,\n",
            "        0.93841085],\n",
            "       [0.13268213, 0.49834978, 0.40667712, 0.93289021, 0.0894141 ,\n",
            "        0.46833997]]), array([[0.93555777, 0.57434688, 0.2265648 , 0.22695887, 0.66246911,\n",
            "        0.04055954],\n",
            "       [0.103774  , 0.11736627, 0.06512668, 0.9399776 , 0.94364672,\n",
            "        0.54570452]]), array([[0.74565528, 0.50286066, 0.77844835, 0.49504334, 0.10614232,\n",
            "        0.88633123],\n",
            "       [0.79476621, 0.90014485, 0.70648025, 0.93487934, 0.97222133,\n",
            "        0.65925353]])]\n",
            "沿列方向拆分：\n",
            " [array([[0.93807855, 0.5121059 ],\n",
            "       [0.13268213, 0.49834978],\n",
            "       [0.93555777, 0.57434688],\n",
            "       [0.103774  , 0.11736627],\n",
            "       [0.74565528, 0.50286066],\n",
            "       [0.79476621, 0.90014485]]), array([[0.9585033 , 0.66740027],\n",
            "       [0.40667712, 0.93289021],\n",
            "       [0.2265648 , 0.22695887],\n",
            "       [0.06512668, 0.9399776 ],\n",
            "       [0.77844835, 0.49504334],\n",
            "       [0.70648025, 0.93487934]]), array([[0.72852062, 0.93841085],\n",
            "       [0.0894141 , 0.46833997],\n",
            "       [0.66246911, 0.04055954],\n",
            "       [0.94364672, 0.54570452],\n",
            "       [0.10614232, 0.88633123],\n",
            "       [0.97222133, 0.65925353]])]\n"
          ]
        }
      ]
    },
    {
      "cell_type": "code",
      "execution_count": null,
      "metadata": {
        "id": "YeYSa93fHkMK"
      },
      "outputs": [],
      "source": [
        "import numpy as np"
      ]
    },
    {
      "cell_type": "code",
      "execution_count": null,
      "metadata": {
        "colab": {
          "base_uri": "https://localhost:8080/"
        },
        "id": "hk0h51LWHkMM",
        "outputId": "29ca5b39-37a6-4840-d668-3104b166b89a"
      },
      "outputs": [
        {
          "output_type": "execute_result",
          "data": {
            "text/plain": [
              "array([1., 2., 3., 4., 5.])"
            ]
          },
          "metadata": {},
          "execution_count": 2
        }
      ],
      "source": [
        "# 创建ndarray数组\n",
        "arr = np.array([1,2,3,4,5], float)\n",
        "arr"
      ]
    },
    {
      "cell_type": "code",
      "execution_count": null,
      "metadata": {
        "colab": {
          "base_uri": "https://localhost:8080/"
        },
        "id": "21tkz8EjHkMM",
        "outputId": "37aaa8af-c093-4228-e4a0-5532fa2c7f78"
      },
      "outputs": [
        {
          "output_type": "execute_result",
          "data": {
            "text/plain": [
              "array([[1, 2, 3],\n",
              "       [4, 5, 6],\n",
              "       [7, 8, 9]])"
            ]
          },
          "metadata": {},
          "execution_count": 3
        }
      ],
      "source": [
        "a = np.array([(1,2,3), (4,5,6), (7,8,9)])\n",
        "a"
      ]
    },
    {
      "cell_type": "code",
      "execution_count": null,
      "metadata": {
        "colab": {
          "base_uri": "https://localhost:8080/"
        },
        "id": "rQW0m_IeHkMN",
        "outputId": "f6907789-9890-486c-eaf9-1d6b971682f2"
      },
      "outputs": [
        {
          "output_type": "execute_result",
          "data": {
            "text/plain": [
              "array([[0., 0., 0.],\n",
              "       [0., 0., 0.]], dtype=float32)"
            ]
          },
          "metadata": {},
          "execution_count": 4
        }
      ],
      "source": [
        "a1 = np.zeros((2,3), dtype=np.float32)\n",
        "a1"
      ]
    },
    {
      "cell_type": "code",
      "execution_count": null,
      "metadata": {
        "colab": {
          "base_uri": "https://localhost:8080/"
        },
        "id": "ijmhcIITHkMN",
        "outputId": "51f67d5f-19b8-4797-ae42-fc247fe4d1f6"
      },
      "outputs": [
        {
          "output_type": "execute_result",
          "data": {
            "text/plain": [
              "array([1. , 1.3, 1.6, 1.9, 2.2, 2.5, 2.8, 3.1, 3.4, 3.7, 4. , 4.3, 4.6,\n",
              "       4.9, 5.2, 5.5, 5.8])"
            ]
          },
          "metadata": {},
          "execution_count": 5
        }
      ],
      "source": [
        "a2 = np.arange(1,6, 0.3)\n",
        "a2"
      ]
    },
    {
      "cell_type": "code",
      "execution_count": null,
      "metadata": {
        "colab": {
          "base_uri": "https://localhost:8080/"
        },
        "id": "9wgzASjbHkMN",
        "outputId": "ada7fb30-5453-4e68-f593-d80da1e3ef85"
      },
      "outputs": [
        {
          "output_type": "execute_result",
          "data": {
            "text/plain": [
              "array([[1., 0., 0.],\n",
              "       [0., 1., 0.],\n",
              "       [0., 0., 1.]])"
            ]
          },
          "metadata": {},
          "execution_count": 6
        }
      ],
      "source": [
        "a3 = np.eye(3)\n",
        "a3  # one-hot编码"
      ]
    },
    {
      "cell_type": "code",
      "execution_count": null,
      "metadata": {
        "colab": {
          "base_uri": "https://localhost:8080/"
        },
        "id": "Xp17U742HkMN",
        "outputId": "521ca5c2-84a1-41a9-bef5-b7f98a7e9d59"
      },
      "outputs": [
        {
          "output_type": "execute_result",
          "data": {
            "text/plain": [
              "array([0.85197818, 0.53542747, 0.69376428, 0.35640313, 0.62931527])"
            ]
          },
          "metadata": {},
          "execution_count": 7
        }
      ],
      "source": [
        "a4 = np.random.random(5)  # 模型运算参数初始值\n",
        "a4"
      ]
    },
    {
      "cell_type": "code",
      "execution_count": null,
      "metadata": {
        "colab": {
          "base_uri": "https://localhost:8080/"
        },
        "id": "29egSFV9HkMN",
        "outputId": "ba534524-ff91-4154-c548-1644aa58710a"
      },
      "outputs": [
        {
          "output_type": "execute_result",
          "data": {
            "text/plain": [
              "array([ 0.09843588,  0.22422758,  0.02775411, -0.03748287,  0.20932644])"
            ]
          },
          "metadata": {},
          "execution_count": 8
        }
      ],
      "source": [
        "a5 = np.random.normal(0, 0.1, 5)  # 模型运算参数初始值\n",
        "a5"
      ]
    },
    {
      "cell_type": "code",
      "execution_count": null,
      "metadata": {
        "colab": {
          "base_uri": "https://localhost:8080/"
        },
        "id": "5xMhvDyAHkMN",
        "outputId": "2cb58350-a779-47f2-c1a0-969cd467c5b7"
      },
      "outputs": [
        {
          "output_type": "stream",
          "name": "stdout",
          "text": [
            "[2 4 6]\n"
          ]
        }
      ],
      "source": [
        "a6 = np.array([(1,2), (3,4), (5,6)])\n",
        "# print(a6)\n",
        "print(a6[:,1])"
      ]
    },
    {
      "cell_type": "code",
      "execution_count": null,
      "metadata": {
        "colab": {
          "base_uri": "https://localhost:8080/"
        },
        "id": "RAYOKy2cHkMO",
        "outputId": "847b5baa-0b9d-4931-e8a9-89a6d02140a4"
      },
      "outputs": [
        {
          "output_type": "stream",
          "name": "stdout",
          "text": [
            "1 2\n",
            "3 4\n",
            "5 6\n"
          ]
        }
      ],
      "source": [
        "a7 = np.array([(1,2), (3,4), (5,6)])\n",
        "# i,j = a7[0]\n",
        "for i,j in a7:\n",
        "    print(i,j)"
      ]
    },
    {
      "cell_type": "code",
      "execution_count": null,
      "metadata": {
        "colab": {
          "base_uri": "https://localhost:8080/"
        },
        "id": "p2gfTsAaHkMO",
        "outputId": "8816c1a1-c185-46b0-a5b1-5f259864be1b"
      },
      "outputs": [
        {
          "output_type": "stream",
          "name": "stdout",
          "text": [
            "ndim: 2\n",
            "shape: (3, 3)\n",
            "size 9\n",
            "dtype int64\n"
          ]
        }
      ],
      "source": [
        "a = np.array([(1,2,3), (4,5,6), (7,8,9)])\n",
        "print(\"ndim:\", a.ndim)\n",
        "print(\"shape:\", a.shape)\n",
        "print(\"size\", a.size)\n",
        "print(\"dtype\", a.dtype)"
      ]
    },
    {
      "cell_type": "code",
      "execution_count": null,
      "metadata": {
        "colab": {
          "base_uri": "https://localhost:8080/"
        },
        "id": "uecLWCoCHkMO",
        "outputId": "8d8821d0-5eac-4171-bb3d-99d1549f8f5b"
      },
      "outputs": [
        {
          "output_type": "stream",
          "name": "stdout",
          "text": [
            "True\n"
          ]
        }
      ],
      "source": [
        "print(3 in a)"
      ]
    },
    {
      "cell_type": "code",
      "execution_count": null,
      "metadata": {
        "colab": {
          "base_uri": "https://localhost:8080/"
        },
        "id": "YbDB7YosHkMO",
        "outputId": "93feaeb3-e568-4a60-8d92-72e2f4617cd1"
      },
      "outputs": [
        {
          "output_type": "stream",
          "name": "stdout",
          "text": [
            "[1 2 3 4 5 6 7 8 9]\n",
            "(9,)\n",
            "[[[1]\n",
            "  [2]\n",
            "  [3]]\n",
            "\n",
            " [[4]\n",
            "  [5]\n",
            "  [6]]\n",
            "\n",
            " [[7]\n",
            "  [8]\n",
            "  [9]]]\n",
            "(3, 3, 1)\n"
          ]
        }
      ],
      "source": [
        "a7 = np.arange(1,10)\n",
        "print(a7)\n",
        "print(a7.shape)\n",
        "\n",
        "a7 = a7.reshape(3,3,1)  # 维度大小乘积 == 元素个数\n",
        "print(a7)\n",
        "\n",
        "print(a7.shape)  # 高维矩阵，每个维度都有含义\n",
        "\n",
        "# 加载图像数据\n",
        "# img.shape [1,3,120,120] 1个样本，3颜色特征通道，120高，120宽"
      ]
    },
    {
      "cell_type": "code",
      "execution_count": null,
      "metadata": {
        "colab": {
          "base_uri": "https://localhost:8080/"
        },
        "id": "NJMFXsxpHkMO",
        "outputId": "d609b083-1fdc-4e40-9e59-1774ab65379c"
      },
      "outputs": [
        {
          "output_type": "stream",
          "name": "stdout",
          "text": [
            "[[1 2 3]\n",
            " [4 5 6]\n",
            " [7 8 9]]\n",
            "[[1 4 7]\n",
            " [2 5 8]\n",
            " [3 6 9]]\n"
          ]
        }
      ],
      "source": [
        "print(a)\n",
        "a = a.T\n",
        "print(a)"
      ]
    },
    {
      "cell_type": "code",
      "execution_count": null,
      "metadata": {
        "colab": {
          "base_uri": "https://localhost:8080/"
        },
        "id": "OvHsvn7NHkMO",
        "outputId": "92a77ce0-7748-47e3-c2a1-46c31ec27ab1"
      },
      "outputs": [
        {
          "output_type": "stream",
          "name": "stdout",
          "text": [
            "[1 4 7 2 5 8 3 6 9]\n"
          ]
        }
      ],
      "source": [
        "a = a.flatten()\n",
        "print(a)"
      ]
    },
    {
      "cell_type": "code",
      "execution_count": null,
      "metadata": {
        "colab": {
          "base_uri": "https://localhost:8080/"
        },
        "id": "G_UXzn4RHkMO",
        "outputId": "7713e899-aaa7-4d27-a1c1-e7b30f5dc0e8"
      },
      "outputs": [
        {
          "output_type": "execute_result",
          "data": {
            "text/plain": [
              "(3, 2, 1)"
            ]
          },
          "metadata": {},
          "execution_count": 16
        }
      ],
      "source": [
        "a8 = np.array([(1,2), (3,4), (5,6)])\n",
        "a8 = a8[:,:,np.newaxis]  # [3,1,2]\n",
        "a8.shape"
      ]
    },
    {
      "cell_type": "code",
      "execution_count": null,
      "metadata": {
        "colab": {
          "base_uri": "https://localhost:8080/"
        },
        "id": "pTdTAVrOHkMO",
        "outputId": "92323633-de80-4449-9e67-d01bc24e9e8f"
      },
      "outputs": [
        {
          "output_type": "stream",
          "name": "stdout",
          "text": [
            "[[1. 1.]\n",
            " [1. 1.]]\n",
            "[[-1  1]\n",
            " [-1  1]]\n",
            "\n",
            "[[0. 2.]\n",
            " [0. 2.]]\n",
            "\n",
            "[[2. 0.]\n",
            " [2. 0.]]\n"
          ]
        }
      ],
      "source": [
        "a = np.ones((2,2))\n",
        "b = np.array([(-1,1),(-1,1)])\n",
        "print(a)\n",
        "print(b)\n",
        "print()\n",
        "print(a+b)\n",
        "print()\n",
        "print(a-b)"
      ]
    },
    {
      "cell_type": "code",
      "execution_count": null,
      "metadata": {
        "colab": {
          "base_uri": "https://localhost:8080/"
        },
        "id": "M0We28fmHkMO",
        "outputId": "3f4c095e-49a3-4343-c792-134786f1fcff"
      },
      "outputs": [
        {
          "output_type": "execute_result",
          "data": {
            "text/plain": [
              "4.0"
            ]
          },
          "metadata": {},
          "execution_count": 18
        }
      ],
      "source": [
        "a.sum()"
      ]
    },
    {
      "cell_type": "code",
      "execution_count": null,
      "metadata": {
        "colab": {
          "base_uri": "https://localhost:8080/"
        },
        "id": "4xq-Sw1WHkMO",
        "outputId": "7c2e4208-e660-4896-bc59-692799454222"
      },
      "outputs": [
        {
          "output_type": "execute_result",
          "data": {
            "text/plain": [
              "1.0"
            ]
          },
          "metadata": {},
          "execution_count": 19
        }
      ],
      "source": [
        "a.prod()"
      ]
    },
    {
      "cell_type": "code",
      "execution_count": null,
      "metadata": {
        "id": "kqIkXroVHkMO"
      },
      "outputs": [],
      "source": [
        "# 数组，矩阵、维度\n",
        "\n",
        "# 数组、矩阵  ： 数据组织结构形式\n",
        "\n",
        "# 维度： 通讯地址"
      ]
    },
    {
      "cell_type": "code",
      "execution_count": null,
      "metadata": {
        "colab": {
          "base_uri": "https://localhost:8080/"
        },
        "id": "Lf-dhqBUHkMO",
        "outputId": "8adb2323-8fbb-4279-b11d-4730dbfd51a7"
      },
      "outputs": [
        {
          "output_type": "stream",
          "name": "stdout",
          "text": [
            "mean: 3.0\n",
            "var: 2.6666666666666665\n",
            "std: 1.632993161855452\n"
          ]
        }
      ],
      "source": [
        "a = np.array([5,3,1])\n",
        "print(\"mean:\",a.mean())\n",
        "print(\"var:\", a.var())\n",
        "print(\"std:\", a.std())"
      ]
    },
    {
      "cell_type": "code",
      "execution_count": null,
      "metadata": {
        "colab": {
          "base_uri": "https://localhost:8080/"
        },
        "id": "cjPNmhw7HkMO",
        "outputId": "b2cc4757-ae4b-41ff-ee68-1a702161f797"
      },
      "outputs": [
        {
          "output_type": "stream",
          "name": "stdout",
          "text": [
            "argmax: 2\n",
            "argmin: 0\n",
            "ceil: [2. 4. 5.]\n",
            "floor: [1. 3. 4.]\n",
            "rint: [1. 4. 5.]\n"
          ]
        }
      ],
      "source": [
        "a = np.array([1.02, 3.8, 4.9])\n",
        "print(\"argmax:\", a.argmax()) # 最大值的索引\n",
        "print(\"argmin:\", a.argmin()) # 最小值的索引\n",
        "\n",
        "print(\"ceil:\", np.ceil(a))  # 向上取整\n",
        "print(\"floor:\", np.floor(a)) # 向下取整\n",
        "print(\"rint:\", np.rint(a))  # 四舍五入"
      ]
    },
    {
      "cell_type": "code",
      "execution_count": null,
      "metadata": {
        "colab": {
          "base_uri": "https://localhost:8080/"
        },
        "id": "qSsq0lrPHkMP",
        "outputId": "dec62860-e42b-48ac-fac1-f1ff06fa9ec9"
      },
      "outputs": [
        {
          "output_type": "execute_result",
          "data": {
            "text/plain": [
              "array([12, 16, 22, 28, 31, 31, 48])"
            ]
          },
          "metadata": {},
          "execution_count": 23
        }
      ],
      "source": [
        "a = np.array([16,31,12,28,22,31,48])\n",
        "a.sort()  # 排序\n",
        "a"
      ]
    },
    {
      "cell_type": "code",
      "execution_count": null,
      "metadata": {
        "colab": {
          "base_uri": "https://localhost:8080/"
        },
        "id": "YdfeWkuXHkMP",
        "outputId": "6587f26e-2585-4105-b765-6e90e1dfc55c"
      },
      "outputs": [
        {
          "output_type": "stream",
          "name": "stdout",
          "text": [
            "torch.float32\n"
          ]
        },
        {
          "output_type": "execute_result",
          "data": {
            "text/plain": [
              "tensor([[ 1.,  4.,  9.],\n",
              "        [16., 25., 36.],\n",
              "        [49., 64., 81.]])"
            ]
          },
          "metadata": {},
          "execution_count": 24
        }
      ],
      "source": [
        "import torch\n",
        "tensor = torch.arange(1,10, dtype=torch.float32).reshape(3, 3)\n",
        "\n",
        "print(tensor.dtype)\n",
        "\n",
        "# 计算两个张量之间矩阵乘法的几种方式。 y1, y2, y3 最后的值是一样的 dot\n",
        "y1 = tensor @ tensor.T\n",
        "y2 = tensor.matmul(tensor.T)\n",
        "\n",
        "y3 = torch.rand_like(tensor)\n",
        "torch.matmul(tensor, tensor.T, out=y3)\n",
        "\n",
        "\n",
        "# 计算张量逐元素相乘的几种方法。 z1, z2, z3 最后的值是一样的。\n",
        "z1 = tensor * tensor\n",
        "z2 = tensor.mul(tensor)\n",
        "\n",
        "z3 = torch.rand_like(tensor)\n",
        "torch.mul(tensor, tensor, out=z3)"
      ]
    },
    {
      "cell_type": "code",
      "execution_count": null,
      "metadata": {
        "colab": {
          "base_uri": "https://localhost:8080/"
        },
        "id": "__0L_GjvHkMP",
        "outputId": "d4e5b9e8-053c-47cc-a126-08fb745a7ea9"
      },
      "outputs": [
        {
          "output_type": "execute_result",
          "data": {
            "text/plain": [
              "array([[ 4, 10, 18],\n",
              "       [28, 40, 54]])"
            ]
          },
          "metadata": {},
          "execution_count": 25
        }
      ],
      "source": [
        "a9 = np.array([[1,2,3],[4,5,6]])\n",
        "b9 = np.array([[4,5,6],[7,8,9]])\n",
        "\n",
        "a9 * b9"
      ]
    },
    {
      "cell_type": "code",
      "execution_count": null,
      "metadata": {
        "colab": {
          "base_uri": "https://localhost:8080/"
        },
        "id": "D3ci4SKZHkMP",
        "outputId": "8a68bad8-a7cf-422f-93b3-8fa835c12b16"
      },
      "outputs": [
        {
          "output_type": "stream",
          "name": "stdout",
          "text": [
            "矩阵 1:\n",
            "[[1. 2.]\n",
            " [3. 4.]]\n",
            "矩阵 2:\n",
            "[[5. 6.]\n",
            " [7. 8.]]\n",
            "使用 np.dot 得到的矩阵乘法结果:\n",
            "[[19. 22.]\n",
            " [43. 50.]]\n",
            "使用 @ 运算符得到的矩阵乘法结果:\n",
            "[[19. 22.]\n",
            " [43. 50.]]\n",
            "1.0 * 5.0 = 5.0\n",
            "2.0 * 7.0 = 14.0\n",
            "结果矩阵[1,1]:19.0\n",
            "\n",
            "1.0 * 6.0 = 6.0\n",
            "2.0 * 8.0 = 16.0\n",
            "结果矩阵[1,2]:22.0\n",
            "\n",
            "3.0 * 5.0 = 15.0\n",
            "4.0 * 7.0 = 28.0\n",
            "结果矩阵[2,1]:43.0\n",
            "\n",
            "3.0 * 6.0 = 18.0\n",
            "4.0 * 8.0 = 32.0\n",
            "结果矩阵[2,2]:50.0\n",
            "\n",
            "手动推演结果:\n",
            "[[19. 22.]\n",
            " [43. 50.]]\n"
          ]
        }
      ],
      "source": [
        "import numpy as np\n",
        "\n",
        "# 定义两个简单的矩阵\n",
        "m1 = np.array([[1, 2], [3, 4]], dtype=np.float32)\n",
        "m2 = np.array([[5, 6], [7, 8]], dtype=np.float32)\n",
        "# m1 = m1.reshape(2,2)  # 矩阵1最后1个维度 == 矩阵2倒数第2个维度\n",
        "# m2 = m2.reshape(2,2)\n",
        "\n",
        "# 使用 np.dot 进行矩阵乘法\n",
        "result_dot = np.dot(m1, m2)\n",
        "\n",
        "# 使用 @ 运算符进行矩阵乘法\n",
        "result_at = m1 @ m2\n",
        "\n",
        "print(\"矩阵 1:\")\n",
        "print(m1)\n",
        "print(\"矩阵 2:\")\n",
        "print(m2)\n",
        "print(\"使用 np.dot 得到的矩阵乘法结果:\")\n",
        "print(result_dot)\n",
        "print(\"使用 @ 运算符得到的矩阵乘法结果:\")\n",
        "print(result_at)\n",
        "\n",
        "# 创建一个全零矩阵，用于存储手动推演的结果\n",
        "# 结果矩阵的行数等于 matrix1 的行数，列数等于 matrix2 的列数\n",
        "manual_result = np.zeros((m1.shape[0], m2.shape[1]), dtype=np.float32)\n",
        "\n",
        "# 外层循环：遍历 matrix1 的每一行\n",
        "# i 表示结果矩阵的行索引\n",
        "for i in range(m1.shape[0]):\n",
        "    # 中层循环：遍历 matrix2 的每一列\n",
        "    # j 表示结果矩阵的列索引\n",
        "    for j in range(m2.shape[1]):\n",
        "        # 初始化当前位置的结果为 0\n",
        "        manual_result[i, j] = 0\n",
        "        # 内层循环：计算 matrix1 的第 i 行与 matrix2 的第 j 列对应元素的乘积之和\n",
        "        # k 表示参与乘法运算的元素索引\n",
        "        for k in range(m1.shape[1]):\n",
        "            # 打印当前正在计算的元素\n",
        "            print(f\"{m1[i, k]} * {m2[k, j]} = {m1[i, k] * m2[k, j]}\")\n",
        "            # 将 matrix1 的第 i 行第 k 列元素与 matrix2 的第 k 行第 j 列元素相乘，并累加到结果矩阵的相应位置\n",
        "            manual_result[i, j] += m1[i, k] * m2[k, j]\n",
        "        # 打印当前位置计算完成后的结果\n",
        "        print(f\"结果矩阵[{i+1},{j+1}]:{manual_result[i, j]}\\n\")\n",
        "\n",
        "print(\"手动推演结果:\")\n",
        "print(manual_result)"
      ]
    },
    {
      "cell_type": "code",
      "execution_count": null,
      "metadata": {
        "id": "4N-bGic8HkMP"
      },
      "outputs": [],
      "source": [
        "np.save('result.npy',manual_result)"
      ]
    },
    {
      "cell_type": "code",
      "execution_count": null,
      "metadata": {
        "colab": {
          "base_uri": "https://localhost:8080/"
        },
        "id": "7b5kmp1tHkMP",
        "outputId": "e027971e-b82b-410d-c68b-df756af643c2"
      },
      "outputs": [
        {
          "output_type": "execute_result",
          "data": {
            "text/plain": [
              "array([[19., 22.],\n",
              "       [43., 50.]], dtype=float32)"
            ]
          },
          "metadata": {},
          "execution_count": 28
        }
      ],
      "source": [
        "result_np = np.load('result.npy')\n",
        "result_np"
      ]
    },
    {
      "cell_type": "code",
      "execution_count": null,
      "metadata": {
        "colab": {
          "base_uri": "https://localhost:8080/"
        },
        "id": "7PdfxbvcHkMP",
        "outputId": "8b29154a-38bd-4bbf-b1de-b7d4f09dfa94"
      },
      "outputs": [
        {
          "output_type": "execute_result",
          "data": {
            "text/plain": [
              "array([5, 7, 9])"
            ]
          },
          "metadata": {},
          "execution_count": 29
        }
      ],
      "source": [
        "a = np.array([1,2,3])\n",
        "b = np.array([4,5,6])\n",
        "a + b"
      ]
    },
    {
      "cell_type": "code",
      "execution_count": null,
      "metadata": {
        "colab": {
          "base_uri": "https://localhost:8080/"
        },
        "id": "9uhdVghRHkMP",
        "outputId": "8e27c216-1ce3-4e68-863c-39ea59c80be6"
      },
      "outputs": [
        {
          "output_type": "execute_result",
          "data": {
            "text/plain": [
              "array([[0, 3],\n",
              "       [1, 3],\n",
              "       [2, 4],\n",
              "       [3, 5]])"
            ]
          },
          "metadata": {},
          "execution_count": 30
        }
      ],
      "source": [
        "a = np.array([(1,2), (2,2), (3,3), (4,4)])  # shape(4,2)\n",
        "b = np.array([-1,1])  # shape(2)-> shape(1,2) -> shape(4,2)  [[-1,1],[-1,1],[-1,1],[-1,1]]\n",
        "a + b"
      ]
    },
    {
      "cell_type": "code",
      "source": [
        "import numpy as np\n",
        "\n",
        "# 创建一个随机的 3×3 矩阵\n",
        "matrix = np.random.rand(3, 3)\n",
        "\n",
        "# 计算特征值和特征向量\n",
        "eigenvalues, eigenvectors = np.linalg.eig(matrix)\n",
        "\n",
        "print(\"矩阵：\\n\", matrix)\n",
        "print(\"特征值：\\n\", eigenvalues)\n",
        "print(\"特征向量：\\n\", eigenvectors)"
      ],
      "metadata": {
        "colab": {
          "base_uri": "https://localhost:8080/"
        },
        "id": "cJb0UjieqYGO",
        "outputId": "490208a1-91af-4efb-e7e2-52bfaa539524"
      },
      "execution_count": 1,
      "outputs": [
        {
          "output_type": "stream",
          "name": "stdout",
          "text": [
            "矩阵：\n",
            " [[0.09163492 0.63017795 0.67635724]\n",
            " [0.28184355 0.91578172 0.38013454]\n",
            " [0.52808837 0.50590738 0.82545079]]\n",
            "特征值：\n",
            " [ 1.64471852 -0.26635918  0.45450809]\n",
            "特征向量：\n",
            " [[-0.51069553 -0.91218186  0.15030869]\n",
            " [-0.54445976  0.08884209 -0.68182061]\n",
            " [-0.66539736  0.40003917  0.71591058]]\n"
          ]
        }
      ]
    },
    {
      "cell_type": "code",
      "execution_count": null,
      "metadata": {
        "id": "CzBbGzYYHkMP"
      },
      "outputs": [],
      "source": []
    },
    {
      "cell_type": "code",
      "source": [],
      "metadata": {
        "id": "nXwtptHhIrXV"
      },
      "execution_count": null,
      "outputs": []
    }
  ],
  "metadata": {
    "kernelspec": {
      "display_name": "base",
      "language": "python",
      "name": "python3"
    },
    "language_info": {
      "codemirror_mode": {
        "name": "ipython",
        "version": 3
      },
      "file_extension": ".py",
      "mimetype": "text/x-python",
      "name": "python",
      "nbconvert_exporter": "python",
      "pygments_lexer": "ipython3",
      "version": "3.11.10"
    },
    "colab": {
      "provenance": []
    }
  },
  "nbformat": 4,
  "nbformat_minor": 0
}