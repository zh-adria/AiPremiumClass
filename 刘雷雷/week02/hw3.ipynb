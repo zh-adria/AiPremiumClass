{
 "cells": [
  {
   "cell_type": "markdown",
   "source": [
    "hw3. 从文件中读取训练好的模型参数\n"
   ],
   "metadata": {
    "collapsed": false
   },
   "id": "e3e94a8dbbe4d974"
  },
  {
   "cell_type": "code",
   "outputs": [],
   "source": [
    "import numpy as np\n",
    "\n",
    "#导入参数\n",
    "data = np.load(\"model_data.npz\")\n",
    "theta = data['theta']\n",
    "bias = data['bias']\n",
    "X_test = data['X_test']\n",
    "y_test = data['y_test']\n",
    "\n",
    "print(theta)\n",
    "print(bias)\n",
    "print(X_test.shape)\n",
    "print(y_test.shape)\n",
    "\n",
    "# 模型：给出x的值，计算y的预测值\n",
    "def forward(x, theta, bias):\n",
    "    z = np.dot(theta, x.T) + bias\n",
    "    y_hat = 1 / (1 + np.exp(-z))\n",
    "    return y_hat\n",
    "\n",
    "# 模型推理\n",
    "idx = np.random.randint(len(X_test))\n",
    "x = X_test[idx]\n",
    "y = y_test[idx]\n",
    "\n",
    "predict = np.round(forward(x,theta,bias))\n",
    "print(f\"y:{y}, predicted:{predict}\")\n",
    "\n"
   ],
   "metadata": {
    "collapsed": false
   },
   "id": "d4f0336d6cda1e90",
   "execution_count": null
  },
  {
   "cell_type": "markdown",
   "source": [
    "hw4. 总结逻辑回归运算\n",
    "逻辑回归模型构建流程\n",
    "1.数据准备,初始化参数\n",
    "2.模型计算函数\n",
    "3.计算损失函数\n",
    "4.计算梯度\n",
    "5.模型运算(参数更新)\n",
    "6.得到参数\n"
   ],
   "metadata": {
    "collapsed": false
   },
   "id": "820cd05668f6b354"
  },
  {
   "cell_type": "code",
   "outputs": [],
   "source": [],
   "metadata": {
    "collapsed": false
   },
   "id": "b0bad1ef2d25dd92"
  }
 ],
 "metadata": {
  "kernelspec": {
   "display_name": "Python 3",
   "language": "python",
   "name": "python3"
  },
  "language_info": {
   "codemirror_mode": {
    "name": "ipython",
    "version": 2
   },
   "file_extension": ".py",
   "mimetype": "text/x-python",
   "name": "python",
   "nbconvert_exporter": "python",
   "pygments_lexer": "ipython2",
   "version": "2.7.6"
  }
 },
 "nbformat": 4,
 "nbformat_minor": 5
}
