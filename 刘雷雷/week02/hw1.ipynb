{
 "cells": [
  {
   "cell_type": "markdown",
   "source": [
    "hw1. 使用 sklearn 数据集训练逻辑回归模型\n",
    "hw2. 调整样本拆分比例,学习率常量,训练次数\n",
    "hw3. 将训练好的参数保存到文件中"
   ],
   "metadata": {
    "collapsed": false
   },
   "id": "80271fa0096a5304"
  },
  {
   "cell_type": "code",
   "outputs": [
    {
     "name": "stdout",
     "output_type": "stream",
     "text": [
      "epoch: 0, loss: 9.390530264205568, acc:0.4888888888888889\n",
      "epoch: 20, loss: 8.73150073968547, acc:0.5222222222222223\n",
      "epoch: 40, loss: 7.191478764076934, acc:0.9777777777777777\n",
      "epoch: 60, loss: 5.990737144636739, acc:1.0\n",
      "epoch: 80, loss: 5.080832320469835, acc:1.0\n",
      "epoch: 100, loss: 4.384775430483946, acc:1.0\n",
      "epoch: 120, loss: 3.8429831407524424, acc:1.0\n",
      "epoch: 140, loss: 3.413128625956025, acc:1.0\n",
      "epoch: 160, loss: 3.065759617037538, acc:1.0\n",
      "epoch: 180, loss: 2.7803004952230994, acc:1.0\n",
      "epoch: 200, loss: 2.5421779376815303, acc:1.0\n",
      "epoch: 220, loss: 2.3408904626979266, acc:1.0\n",
      "epoch: 240, loss: 2.1687336626314315, acc:1.0\n",
      "epoch: 260, loss: 2.01995577921636, acc:1.0\n",
      "epoch: 280, loss: 1.8901917917669395, acc:1.0\n",
      "epoch: 300, loss: 1.7760783620453986, acc:1.0\n",
      "epoch: 320, loss: 1.6749875216784256, acc:1.0\n",
      "epoch: 340, loss: 1.5848394465279854, acc:1.0\n",
      "epoch: 360, loss: 1.503968732167155, acc:1.0\n",
      "epoch: 380, loss: 1.431027435852147, acc:1.0\n",
      "epoch: 400, loss: 1.3649137757621421, acc:1.0\n",
      "epoch: 420, loss: 1.3047190003567923, acc:1.0\n",
      "epoch: 440, loss: 1.2496873062874105, acc:1.0\n",
      "epoch: 460, loss: 1.199185250880758, acc:1.0\n",
      "epoch: 480, loss: 1.1526781590205162, acc:1.0\n",
      "theta: [[-0.27334342 -1.0540398   1.21221301  1.84462553]], bias:-0.014951573366295552\n"
     ]
    }
   ],
   "source": [
    "from sklearn.datasets import load_iris\n",
    "from sklearn.model_selection import train_test_split\n",
    "import numpy as np\n",
    "\n",
    "# 定义样本拆分比例,学习率常量,训练次数\n",
    "testSize = 0.1\n",
    "study_rate = 0.001\n",
    "epochs = 500\n",
    "\n",
    "# 1.生成训练数据\n",
    "X, y = load_iris(return_X_y=True)\n",
    "X = X[:100]\n",
    "y = y[:100]\n",
    "\n",
    "# 数据拆分:分为训练数据和测试数据\n",
    "X_train, X_test, y_train, y_test = train_test_split(X, y, test_size=testSize)\n",
    "\n",
    "# 权重参数\n",
    "theta = np.random.randn(1, 4)\n",
    "bias = 0\n",
    "\n",
    "\n",
    "# 超参数\n",
    "\n",
    "# 2.模型计算函数\n",
    "def forward(x, theta, bias):\n",
    "    # 线性运算\n",
    "    z = np.dot(theta, x.T) + bias\n",
    "    # sigmoid\n",
    "    y_hat = 1 / (1 + np.exp(-z))\n",
    "    return y_hat\n",
    "\n",
    "\n",
    "# 3.计算损失函数\n",
    "def loss(y_hat, y):\n",
    "    e = 1e-8  # 防⽌y_hat计算值为0，添加的极⼩值epsilon\n",
    "    return - y * np.log(y_hat + e) - (1 - y) * np.log(1 - y_hat + e)\n",
    "\n",
    "\n",
    "# 4.计算梯度\n",
    "def calc_gradient(x, y, y_hat):\n",
    "    m = x.shape[-1]\n",
    "    # theta 的梯度值\n",
    "    delta_w = np.dot(y_hat - y, x) / m\n",
    "    # bias 的梯度值\n",
    "    delta_b = np.mean(y_hat - y)\n",
    "    return delta_w, delta_b\n",
    "\n",
    "\n",
    "# 5.模型运算\n",
    "for i in range(epochs):\n",
    "    # 前向运算\n",
    "    y_hat = forward(X_train, theta, bias)\n",
    "    # 计算损失\n",
    "    loss_val = loss(y_train, y_hat)\n",
    "\n",
    "    # 计算梯度\n",
    "    dw, db = calc_gradient(X_train, y_train, y_hat)\n",
    "\n",
    "    # 更新参数\n",
    "    theta -= study_rate * dw\n",
    "    bias -= study_rate * db\n",
    "\n",
    "    if i % 20 == 0:\n",
    "        # 准确率\n",
    "        acc = np.mean(np.round(y_hat) == y_train)\n",
    "        print(f\"epoch: {i}, loss: {np.mean(loss_val)}, acc:{acc}\")\n",
    "\n",
    "print(f\"theta: {theta}, bias:{bias}\")\n",
    "\n",
    "# 6.将模型训练好的参数 theta和bias 和测试数据X_test,y_test 保存到文件中去\n",
    "np.savez('model_data.npz', theta=theta, bias=bias, X_test=X_test, y_test=y_test)"
   ],
   "metadata": {
    "collapsed": false,
    "ExecuteTime": {
     "end_time": "2025-03-29T06:22:46.516180Z",
     "start_time": "2025-03-29T06:22:46.481394Z"
    }
   },
   "id": "8817be2c964b42c3",
   "execution_count": 14
  },
  {
   "cell_type": "code",
   "outputs": [],
   "source": [],
   "metadata": {
    "collapsed": false
   },
   "id": "2abc3674e62991e0"
  }
 ],
 "metadata": {
  "kernelspec": {
   "display_name": "Python 3",
   "language": "python",
   "name": "python3"
  },
  "language_info": {
   "codemirror_mode": {
    "name": "ipython",
    "version": 2
   },
   "file_extension": ".py",
   "mimetype": "text/x-python",
   "name": "python",
   "nbconvert_exporter": "python",
   "pygments_lexer": "ipython2",
   "version": "2.7.6"
  }
 },
 "nbformat": 4,
 "nbformat_minor": 5
}
