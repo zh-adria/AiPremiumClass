{
 "cells": [
  {
   "cell_type": "code",
   "execution_count": null,
   "id": "initial_id",
   "metadata": {
    "collapsed": true,
    "ExecuteTime": {
     "end_time": "2025-02-28T11:04:27.229162Z",
     "start_time": "2025-02-28T11:04:27.137654Z"
    }
   },
   "outputs": [
    {
     "data": {
      "text/plain": "array([[1, 2, 3],\n       [4, 5, 6],\n       [7, 8, 9]])"
     },
     "execution_count": null,
     "metadata": {},
     "output_type": "execute_result"
    }
   ],
   "source": [
    "import numpy as np\n",
    "\n",
    "# 1.Numpy基础数组创建-------\n",
    "# 1.1 将list转化为np.array\n",
    "a = [1,2,3]\n",
    "b=np.array(a)\n",
    "b\n",
    "\n",
    "a = np.array([1,2,3],float)\n",
    "a\n",
    "\n",
    "# 1.2 创建多维数组\n",
    "a = np.array([(1,2,3),(4,5,6),(7,8,9)])\n",
    "a"
   ]
  },
  {
   "cell_type": "code",
   "outputs": [
    {
     "data": {
      "text/plain": "array([0.55413906, 0.3298561 , 0.867313  , 0.13433579, 0.02591641])"
     },
     "execution_count": null,
     "metadata": {},
     "output_type": "execute_result"
    }
   ],
   "source": [
    "# 2.NumPy 特殊数组创建-------\n",
    "# 2.1 通过占位符创建\n",
    "\n",
    "#创建为0的矩阵\n",
    "a=np.zeros((2,3),dtype=float)\n",
    "a\n",
    "\n",
    "# 创建为1的矩阵\n",
    "a = np.ones((3,3))\n",
    "a\n",
    "\n",
    "#等差数列\n",
    "a=np.arange(1,5,0.5)\n",
    "a\n",
    "\n",
    "#单位矩阵\n",
    "a = np.eye(3)\n",
    "a\n",
    "\n",
    "#指定长度\n",
    "np.random.random(5)"
   ],
   "metadata": {
    "collapsed": false,
    "ExecuteTime": {
     "end_time": "2025-02-27T10:11:34.702953Z",
     "start_time": "2025-02-27T10:11:34.697286Z"
    }
   },
   "id": "275164dfce4e8e29",
   "execution_count": null
  },
  {
   "cell_type": "code",
   "outputs": [
    {
     "data": {
      "text/plain": "5"
     },
     "execution_count": null,
     "metadata": {},
     "output_type": "execute_result"
    }
   ],
   "source": [
    "# 3. NumPy 数组的访问-------\n",
    "a=np.array([(1,2,3),(4,5,6), (7,8,9)])\n",
    "a[0]\n",
    "\n",
    "a[1:]\n",
    "\n",
    "a[:,:1]\n",
    "\n",
    "a[1][1]"
   ],
   "metadata": {
    "collapsed": false,
    "ExecuteTime": {
     "end_time": "2025-02-27T10:11:34.709372Z",
     "start_time": "2025-02-27T10:11:34.704014Z"
    }
   },
   "id": "ce93e01e197ac91d",
   "execution_count": null
  },
  {
   "cell_type": "code",
   "outputs": [
    {
     "name": "stdout",
     "output_type": "stream",
     "text": [
      "1\n",
      "2\n",
      "3\n",
      "2\n",
      "12\n",
      "30\n"
     ]
    }
   ],
   "source": [
    "# 4. NumPy 数组的遍历-------\n",
    "\n",
    "#一维\n",
    "a=np.array([1,2,3])\n",
    "\n",
    "for i in a:\n",
    "    print(i)\n",
    "\n",
    "#多维\n",
    "a=np.array([(1,2),(3,4),(5,6)])\n",
    "for i,j in a:\n",
    "    print(i*j)\n"
   ],
   "metadata": {
    "collapsed": false,
    "ExecuteTime": {
     "end_time": "2025-02-27T10:12:00.067593Z",
     "start_time": "2025-02-27T10:12:00.063590Z"
    }
   },
   "id": "50268c7f0bf4b121",
   "execution_count": null
  },
  {
   "cell_type": "code",
   "outputs": [
    {
     "name": "stdout",
     "output_type": "stream",
     "text": [
      "ndim: 2\n",
      "shape: (1, 9)\n",
      "size 9\n",
      "dtype int32\n"
     ]
    }
   ],
   "source": [
    "# 5. NumPy 数组的常用属性-------\n",
    "\n",
    "#ndarray.ndim : 数组的维度（数组轴的个数），等于秩\n",
    "#ndarray.shape : 数组的⼤⼩。为⼀个表⽰数组在每个维度上⼤⼩的整数元组。例如⼆维\n",
    "#数组中，表⽰数组的ʼʼ ⾏数ʼʼ 和ʼʼ 列数ˮ\n",
    "#ndarray.size : 数组元素的总个数，等于 shape 属性中元组元素的乘积\n",
    "#ndarray.dtype : 表⽰数组中元素类型的对象\n",
    "\n",
    "a = np.array([(1,2,3, 4,5,6, 7,8,9)])\n",
    "print(\"ndim:\", a.ndim)\n",
    "print(\"shape:\", a.shape)\n",
    "print(\"size\", a.size)\n",
    "print(\"dtype\", a.dtype)\n"
   ],
   "metadata": {
    "collapsed": false,
    "ExecuteTime": {
     "end_time": "2025-02-27T10:19:23.900672Z",
     "start_time": "2025-02-27T10:19:23.895933Z"
    }
   },
   "id": "6cce2d5c8b44af63",
   "execution_count": null
  },
  {
   "cell_type": "code",
   "outputs": [
    {
     "name": "stdout",
     "output_type": "stream",
     "text": [
      "True\n",
      "False\n"
     ]
    },
    {
     "data": {
      "text/plain": "(3, 1)"
     },
     "execution_count": null,
     "metadata": {},
     "output_type": "execute_result"
    }
   ],
   "source": [
    "# 6. NumPy 数组的基本操作-------\n",
    "# in :检测数值是否在数组中\n",
    "a = np.array([(1,2),(3,4)])\n",
    "print(3 in a)\n",
    "print(5 in a)\n",
    "\n",
    "# reshape : 数组的重排列，例如将⼀个 3 维数组转变为 1 维（元素数⼀定要保持不变）\n",
    "a=np.zeros([2,3,4])\n",
    "a\n",
    "\n",
    "a=a.reshape(24)\n",
    "a\n",
    "\n",
    "#tanspose ：转置 (可以直接.T\n",
    "a = np.array([(1,2,3),(4,5,6),(7,8,9)])\n",
    "a\n",
    "a.transpose() #a.T\n",
    "\n",
    "#flatten : 把多维数组转换为⼀维数组，注意每个元组的⻓度是相同的\n",
    "a=np.array([(1,2),(3,4),(5,6)])\n",
    "a\n",
    "a.flatten()\n",
    "\n",
    "#newaxis : 增加维度\n",
    "a=np.array([1,2,3])\n",
    "a.shape\n",
    "\n",
    "a=a[:,np.newaxis]\n",
    "a\n",
    "a.shape"
   ],
   "metadata": {
    "collapsed": false,
    "ExecuteTime": {
     "end_time": "2025-02-27T10:30:46.198750Z",
     "start_time": "2025-02-27T10:30:46.192823Z"
    }
   },
   "id": "a754e83649356513",
   "execution_count": null
  },
  {
   "cell_type": "code",
   "outputs": [
    {
     "name": "stdout",
     "output_type": "stream",
     "text": [
      "[[1. 1.]\n",
      " [1. 1.]] (2, 2) float64\n",
      "[[-1  1]\n",
      " [-1  1]] (2, 2) int32\n",
      "mean: 3.0\n",
      "var: 2.6666666666666665\n",
      "std: 1.632993161855452\n",
      "max: 5\n",
      "min: 1\n",
      "0 2\n",
      "ceil: [2. 4. 5.]\n",
      "floor: [1. 3. 4.]\n",
      "rint: [1. 4. 5.]\n",
      "(2, 2)\n",
      "[[2 5]\n",
      " [2 4]]\n"
     ]
    }
   ],
   "source": [
    "# 7.NumPy 数组的数学操作-------\n",
    "\n",
    "# 7.1 加减乘除\n",
    "#* 星乘表⽰矩阵内各对应位置相乘，点乘表⽰求矩阵内积，⼆维数组称为矩阵积（mastrix product）：\n",
    "a=np.ones((2,2))\n",
    "b=np.array([(-1,1),(-1,1)])\n",
    "print(a,a.shape,a.dtype)\n",
    "print(b,b.shape,b.dtype)\n",
    "\n",
    "a+b\n",
    "a-b\n",
    "a*b\n",
    "a/b\n",
    "\n",
    "# 7.2 求和、求积\n",
    "a = np.array([1,2,1])\n",
    "a.sum()\n",
    "\n",
    "a.prod()\n",
    "\n",
    "# 7.2 平均数，⽅差，标准差，最⼤值，最⼩值\n",
    "a = np.array([5,3,1])\n",
    "print(\"mean:\",a.mean())\n",
    "print(\"var:\", a.var())\n",
    "print(\"std:\", a.std())\n",
    "print(\"max:\", a.max())\n",
    "print(\"min:\", a.min())\n",
    "\n",
    "# 7.3 最⼤与最⼩值对应的索引值\n",
    "a = np.array([5,3,1])\n",
    "print(a.argmax(),a.argmin())\n",
    "\n",
    "# 7.4 取元素值上限，下限，四舍五⼊\n",
    "a = np.array([1.2, 3.8, 4.9])\n",
    "print(\"ceil:\", np.ceil(a))\n",
    "print(\"floor:\", np.floor(a))\n",
    "print(\"rint:\", np.rint(a))\n",
    "\n",
    "# 7.4 排序\n",
    "a = np.array([16,31,12,28,22,31,48])\n",
    "a.sort()\n",
    "a\n",
    "\n",
    "a = np.array([(5,2),(2,4)])\n",
    "print(a.shape)\n",
    "a.sort()\n",
    "print(a)"
   ],
   "metadata": {
    "collapsed": false,
    "ExecuteTime": {
     "end_time": "2025-02-27T13:56:41.735321Z",
     "start_time": "2025-02-27T13:56:41.727533Z"
    }
   },
   "id": "425b442477b32b49",
   "execution_count": null
  },
  {
   "cell_type": "code",
   "outputs": [
    {
     "name": "stdout",
     "output_type": "stream",
     "text": [
      "m1-----\n",
      "[[1. 2.]\n",
      " [3. 4.]]\n",
      "m2-----\n",
      "[[5. 6.]\n",
      " [7. 8.]]\n",
      "[[19. 22.]\n",
      " [43. 50.]]\n",
      "[[19. 22.]\n",
      " [43. 50.]]\n",
      "开始手动推演\n",
      "1.0 * 5.0 = 5.0\n",
      "2.0 * 7.0 = 14.0\n",
      "结果矩阵[1,1]:19.0\n",
      "\n",
      "1.0 * 6.0 = 6.0\n",
      "2.0 * 8.0 = 16.0\n",
      "结果矩阵[1,2]:22.0\n",
      "\n",
      "3.0 * 5.0 = 15.0\n",
      "4.0 * 7.0 = 28.0\n",
      "结果矩阵[2,1]:43.0\n",
      "\n",
      "3.0 * 6.0 = 18.0\n",
      "4.0 * 8.0 = 32.0\n",
      "结果矩阵[2,2]:50.0\n",
      "\n",
      "手动推演结果:\n",
      "[[19. 22.]\n",
      " [43. 50.]]\n"
     ]
    }
   ],
   "source": [
    "# 8.NumPy 线性代数-------\n",
    "# 有关线性代数的运算均在 numpy.linalg 中\n",
    "# dot : 矩阵乘法，\n",
    "# 对于两个⼀维的数组，计算的是这两个数组对应下标元素的乘积和(数学上称之为内积)；\n",
    "a=np.array([1,2,3])\n",
    "b=np.array([2,3,4])\n",
    "\n",
    "np.dot(a,b)\n",
    "\n",
    "# 对于⼆维数组，计算的是两个数组的矩阵乘积；\n",
    "# 对于多维数组，它的通⽤计算公式如下，即结果数组中的每个元素都是：数组 a \n",
    "# 的最后⼀维上的所有元素与数组 b 的倒数第⼆位上的所有元素的乘积和：\n",
    "# dot(a, b)[i,j,k,m]= sum(a[i,j,:] * b[k,:,m])\n",
    "\n",
    "m1 = np.array([[1, 2], [3, 4]], dtype=np.float32)\n",
    "print(\"m1-----\")\n",
    "print(m1)\n",
    "m2 = np.array([[5, 6], [7, 8]], dtype=np.float32)\n",
    "print(\"m2-----\")\n",
    "print(m2)\n",
    "\n",
    "result_dot = np.dot(m1, m2)\n",
    "result_dot\n",
    "print(result_dot)\n",
    "\n",
    "result_at = m1 @ m2\n",
    "result_at\n",
    "print(result_at)\n",
    "\n",
    "print(\"开始手动推演\")\n",
    "\n",
    "# 创建⼀个全零矩阵，⽤于存储⼿动推演的结果\n",
    "# 结果矩阵的⾏数等于 matrix1 的⾏数，列数等于 matrix2 的列数\n",
    "manual_result = np.zeros((m1.shape[0], m2.shape[1]), dtype=np.float32)\n",
    "\n",
    "# 外层循环: 遍历 matrix1的每一行\n",
    "# i:表示结果矩阵的行索引\n",
    "for i in range(m1.shape[0]):\n",
    "    # 中层循环: 遍历matrix2的每一列\n",
    "    # j: 表示结果矩阵的列索引\n",
    "    for j in range(m2.shape[1]):\n",
    "        # 初始化当前位置的结果为0\n",
    "        manual_result[i,j]=0\n",
    "        \n",
    "        #内层循环:计算matrix1的第i行与matrix2的第j列对应元素的乘积之和\n",
    "        #k:当前参与乘法运算的元素索引\n",
    "        for k in range(m1.shape[1]):\n",
    "            # 打印当前正在计算的元素\n",
    "            print(f\"{m1[i,k]} * {m2[k,j]} = {m1[i,k] * m2[k,j]}\")\n",
    "            # 将matrix1的第i行第k列元素与matrix2的第k行第j列元素相乘,并累计加\n",
    "            manual_result[i,j] += m1[i,k] * m2[k,j]\n",
    "        # 打印当前位置计算完成后的结果\n",
    "        print(f\"结果矩阵[{i+1},{j+1}]:{manual_result[i,j]}\\n\")\n",
    "\n",
    "print(\"手动推演结果:\")\n",
    "print(manual_result)\n",
    "\n",
    "\n",
    "# eig : 特征值、特征向量\n",
    "# inv : 逆\n",
    "# qr : QR 分解\n",
    "# svd : 奇异值分解\n",
    "# solve : 解线性⽅程 Ax=b\n",
    "# lstsq : 计算Ax=b 的最⼩⼆乘解"
   ],
   "metadata": {
    "collapsed": false,
    "ExecuteTime": {
     "end_time": "2025-02-27T14:34:18.315132Z",
     "start_time": "2025-02-27T14:34:18.306945Z"
    }
   },
   "id": "215b8327d3400f3b",
   "execution_count": null
  },
  {
   "cell_type": "code",
   "outputs": [],
   "source": [
    "# 9.文件操作-------\n",
    "\n",
    "# ⼆进制⽂件： np.save 、 np.load\n",
    "# ⽂本⽂件： np.loadtxt 、 np.savetxt\n",
    "m1 = np.array([[1, 2], [3, 4]], dtype=np.float32)\n",
    "np.save(\"result.npy\",m1)"
   ],
   "metadata": {
    "collapsed": false,
    "ExecuteTime": {
     "end_time": "2025-02-27T14:55:46.762493Z",
     "start_time": "2025-02-27T14:55:46.757788Z"
    }
   },
   "id": "70be18463ffdd9e9",
   "execution_count": null
  },
  {
   "cell_type": "code",
   "outputs": [],
   "source": [
    "\n",
    "# 10.NumPy ⼴播机制-------\n",
    "# ⼴播 (Broadcast) 是 numpy 对不同形状 (shape) 的数组进⾏数值计算的⽅式，对数\n",
    "# 组的算术运算通常在相应的元素上进⾏。如果两个数组 a 和 b 形状相同，即满⾜\n",
    "# a.shape == b.shape，那么 a*b 的结果就是 a 与 b 数组对应位相乘。这要求维数相\n",
    "# 同，且各维度的⻓度相同。\n",
    "\n",
    "#当运算中的 2 个数组的形状不同时，numpy 将⾃动触发⼴播机制\n",
    "a = np.array([(1,2), (2,2), (3,3), (4,4)]) # shape(4,2)\n",
    "b = np.array([-1,1]) # shape(2)→ shape(1,2) → shape(4,2) [[-1,1],[-1,1],[-1,1],[-1,1]]\n",
    "a + b\n",
    "\n",
    "# 注意: 广播机制要求两个数组最后一维的维度要对其\n"
   ],
   "metadata": {
    "collapsed": false
   },
   "id": "bc2b5177c4e8ee2"
  }
 ],
 "metadata": {
  "kernelspec": {
   "display_name": "Python 3",
   "language": "python",
   "name": "python3"
  },
  "language_info": {
   "codemirror_mode": {
    "name": "ipython",
    "version": 2
   },
   "file_extension": ".py",
   "mimetype": "text/x-python",
   "name": "python",
   "nbconvert_exporter": "python",
   "pygments_lexer": "ipython2",
   "version": "2.7.6"
  }
 },
 "nbformat": 4,
 "nbformat_minor": 5
}
