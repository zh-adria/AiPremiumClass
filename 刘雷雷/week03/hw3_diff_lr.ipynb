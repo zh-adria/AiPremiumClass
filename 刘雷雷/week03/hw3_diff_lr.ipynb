{
 "cells": [
  {
   "cell_type": "markdown",
   "metadata": {},
   "source": [
    "3. 调试超参数，观察学习率和批次大小对训练的影响"
   ]
  },
  {
   "cell_type": "code",
   "execution_count": 1,
   "metadata": {},
   "outputs": [],
   "source": [
    "# 导入KMNIST数据集\n",
    "import torch\n",
    "import torch.nn as nn\n",
    "import torch.optim as optim\n",
    "from torchvision.transforms.v2 import ToTensor #转换图像数据为张量\n",
    "from torchvision.datasets import KMNIST # 导入KMNIST数据集\n",
    "from torch.utils.data import DataLoader # 导入DataLoader数据加载器"
   ]
  },
  {
   "cell_type": "code",
   "execution_count": 2,
   "metadata": {},
   "outputs": [],
   "source": [
    "# 超参数: 学习率,batch_size 不同值的效果\n",
    "epochs = 10\n",
    "BATCH_SIZE = 256\n",
    "learings = [0.01, 0.001, 0.0001]"
   ]
  },
  {
   "cell_type": "code",
   "execution_count": 3,
   "metadata": {},
   "outputs": [
    {
     "name": "stderr",
     "output_type": "stream",
     "text": [
      "g:\\Hmsoft\\Anaconda\\package\\envs\\py312\\Lib\\site-packages\\torchvision\\transforms\\v2\\_deprecated.py:42: UserWarning: The transform `ToTensor()` is deprecated and will be removed in a future release. Instead, please use `v2.Compose([v2.ToImage(), v2.ToDtype(torch.float32, scale=True)])`.Output is equivalent up to float precision.\n",
      "  warnings.warn(\n"
     ]
    }
   ],
   "source": [
    "# 加载数据集\n",
    "train_dataset = KMNIST(root='./data', train=True, download=True, transform=ToTensor())\n",
    "test_dataset = KMNIST(root='./data', train=False, download=True, transform=ToTensor())"
   ]
  },
  {
   "cell_type": "code",
   "execution_count": 4,
   "metadata": {},
   "outputs": [],
   "source": [
    "# 创建数据加载器\n",
    "train_loader = DataLoader(dataset=train_dataset, batch_size=BATCH_SIZE, shuffle=True)\n",
    "test_loader = DataLoader(dataset=test_dataset, batch_size=BATCH_SIZE, shuffle=False)"
   ]
  },
  {
   "cell_type": "code",
   "execution_count": 6,
   "metadata": {},
   "outputs": [],
   "source": [
    "# 定义训练模型\n",
    "# 定义训练模型\n",
    "def train_iter(epochs, model, train_loader, LR):\n",
    "    print(f\"----------------学习率 is :{LR}\")\n",
    "    \n",
    "    train_history = []\n",
    "    # 定义损失函数,优化器\n",
    "    loss_fn = nn.CrossEntropyLoss()  # 交叉熵损失函数\n",
    "    optimizer = optim.SGD(model.parameters(), lr=LR)\n",
    "\n",
    "    for epoch in range(epochs):\n",
    "        # 提取数据\n",
    "        for data, target in train_loader:\n",
    "            # 前向计算\n",
    "            data = data.reshape(-1, 784)  # 将数据展平\n",
    "            output = model(data)\n",
    "            # 计算损失\n",
    "            loss = loss_fn(output, target)\n",
    "            # 反向传播\n",
    "            optimizer.zero_grad()\n",
    "            loss.backward()\n",
    "            optimizer.step()\n",
    "        # 打印损失\n",
    "        print(\"Epoch:\", epoch, \"Loss:\", loss.item())\n",
    "        # 记录训练损失\n",
    "        train_history.append(loss.item())\n",
    "    return train_history"
   ]
  },
  {
   "cell_type": "code",
   "execution_count": 18,
   "metadata": {},
   "outputs": [],
   "source": [
    "# 定义可视化损失值函数\n",
    "def draw_train_hist(hist_list):\n",
    "    import matplotlib.pyplot as plt\n",
    "\n",
    "    for i, hist in enumerate(hist_list):\n",
    "        plt.plot(hist, label=f\"lr={learings[i]}\")\n",
    "    plt.legend()\n",
    "    plt.xlabel(\"epochs\")\n",
    "    plt.ylabel(\"loss\")\n",
    "    plt.title(\"train loss\")\n",
    "    plt.show()"
   ]
  },
  {
   "cell_type": "code",
   "execution_count": 8,
   "metadata": {},
   "outputs": [],
   "source": [
    "# 测试模型\n",
    "def test_acc(test_loader, model):\n",
    "    correct = 0\n",
    "    total = 0\n",
    "    with torch.no_grad():  # 禁用梯度计算\n",
    "        for data, target in test_loader:\n",
    "            data = data.reshape(-1, 784)  # 将数据展平\n",
    "            output = model(data)\n",
    "            _, predicted = torch.max(output.data, 1)  # 取最大值,返回索引\n",
    "            total += target.size(0)  # size(0) 等效于 shape[0]\n",
    "\n",
    "            correct += (predicted == target).sum().item()\n",
    "    print(\"Accuracy of the network on the test images: %d %%\" % (100 * correct / total))\n",
    "    return correct / total * 100"
   ]
  },
  {
   "cell_type": "code",
   "execution_count": 9,
   "metadata": {},
   "outputs": [],
   "source": [
    "# 定义模型: 两个隐藏层,relu激活函数,同时输出3个相同的模型\n",
    "models = nn.ModuleList(\n",
    "    [\n",
    "        nn.Sequential(\n",
    "            nn.Linear(784, 512),  # 输入层到隐藏层\n",
    "            nn.ReLU(),  # 激活函数\n",
    "            nn.Linear(512, 256),  # 隐藏层到隐藏层\n",
    "            nn.ReLU(),  # 激活函数\n",
    "            nn.Linear(256, 10),  # 隐藏层到输出层\n",
    "        )\n",
    "        for _ in range(3)  # 创建3个相同的模型\n",
    "    ]\n",
    ")"
   ]
  },
  {
   "cell_type": "code",
   "execution_count": 11,
   "metadata": {},
   "outputs": [
    {
     "name": "stdout",
     "output_type": "stream",
     "text": [
      "----------------学习率 is :0.01\n",
      "Epoch: 0 Loss: 2.1881659030914307\n",
      "Epoch: 1 Loss: 1.817860722541809\n",
      "Epoch: 2 Loss: 1.4035849571228027\n",
      "Epoch: 3 Loss: 0.9430648684501648\n",
      "Epoch: 4 Loss: 0.837122917175293\n",
      "Epoch: 5 Loss: 0.7731978297233582\n",
      "Epoch: 6 Loss: 0.652772843837738\n",
      "Epoch: 7 Loss: 0.5344610214233398\n",
      "Epoch: 8 Loss: 0.6040763854980469\n",
      "Epoch: 9 Loss: 0.7295594811439514\n",
      "----------------学习率 is :0.001\n",
      "Epoch: 0 Loss: 2.311840772628784\n",
      "Epoch: 1 Loss: 2.2834084033966064\n",
      "Epoch: 2 Loss: 2.291456699371338\n",
      "Epoch: 3 Loss: 2.259742259979248\n",
      "Epoch: 4 Loss: 2.260493040084839\n",
      "Epoch: 5 Loss: 2.248673677444458\n",
      "Epoch: 6 Loss: 2.2381346225738525\n",
      "Epoch: 7 Loss: 2.214475154876709\n",
      "Epoch: 8 Loss: 2.2110822200775146\n",
      "Epoch: 9 Loss: 2.1791446208953857\n",
      "----------------学习率 is :0.0001\n",
      "Epoch: 0 Loss: 2.302434206008911\n",
      "Epoch: 1 Loss: 2.2999749183654785\n",
      "Epoch: 2 Loss: 2.2960927486419678\n",
      "Epoch: 3 Loss: 2.297996997833252\n",
      "Epoch: 4 Loss: 2.3044750690460205\n",
      "Epoch: 5 Loss: 2.2958033084869385\n",
      "Epoch: 6 Loss: 2.3012993335723877\n",
      "Epoch: 7 Loss: 2.2987678050994873\n",
      "Epoch: 8 Loss: 2.2972350120544434\n",
      "Epoch: 9 Loss: 2.2949395179748535\n"
     ]
    }
   ],
   "source": [
    "# 模型训练\n",
    "tarin_hists = [\n",
    "    train_iter(epochs, model, train_loader, LR=LR)\n",
    "    for model, LR in zip(models, learings)\n",
    "]"
   ]
  },
  {
   "cell_type": "code",
   "execution_count": 19,
   "metadata": {},
   "outputs": [
    {
     "data": {
      "image/png": "[encoded data removed]",
      "text/plain": [
       "<Figure size 640x480 with 1 Axes>"
      ]
     },
     "metadata": {},
     "output_type": "display_data"
    }
   ],
   "source": [
    "# 可视化损失值\n",
    "draw_train_hist(tarin_hists)"
   ]
  },
  {
   "cell_type": "code",
   "execution_count": 20,
   "metadata": {},
   "outputs": [
    {
     "name": "stdout",
     "output_type": "stream",
     "text": [
      "Accuracy of the network on the test images: 68 %\n",
      "model1 test accuracy: 68.17999999999999\n",
      "Accuracy of the network on the test images: 30 %\n",
      "model1 test accuracy: 30.7\n",
      "Accuracy of the network on the test images: 10 %\n",
      "model1 test accuracy: 10.879999999999999\n"
     ]
    }
   ],
   "source": [
    "# 不同学习率的模型测试\n",
    "for model in models:\n",
    "    print(\"model1 test accuracy:\", test_acc(test_loader, model))"
   ]
  }
 ],
 "metadata": {
  "kernelspec": {
   "display_name": "py312",
   "language": "python",
   "name": "python3"
  },
  "language_info": {
   "codemirror_mode": {
    "name": "ipython",
    "version": 3
   },
   "file_extension": ".py",
   "mimetype": "text/x-python",
   "name": "python",
   "nbconvert_exporter": "python",
   "pygments_lexer": "ipython3",
   "version": "3.12.9"
  }
 },
 "nbformat": 4,
 "nbformat_minor": 2
}
