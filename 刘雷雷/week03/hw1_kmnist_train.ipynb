{
 "cells": [
  {
   "cell_type": "markdown",
   "metadata": {},
   "source": [
    "1. 使用pytorch搭建神经网络模型，实现对KMNIST数据集的训练。\n",
    "https://pytorch.org/vision/stable/generated/torchvision.datasets.KMNIST.html#torchvision.datasets.KMNIST\n"
   ]
  },
  {
   "cell_type": "code",
   "execution_count": null,
   "metadata": {},
   "outputs": [],
   "source": [
    "# 导入KMNIST数据集\n",
    "import torch\n",
    "import torch.nn as nn\n",
    "import torch.optim as optim\n",
    "from torchvision.transforms.v2 import ToTensor #转换图像数据为张量\n",
    "from torchvision.datasets import KMNIST # 导入KMNIST数据集\n",
    "from torch.utils.data import DataLoader # 导入DataLoader数据加载器"
   ]
  },
  {
   "cell_type": "code",
   "execution_count": null,
   "metadata": {},
   "outputs": [],
   "source": [
    "# 定义超参数\n",
    "LR = 0.001\n",
    "BATCH_SIZE = 128\n",
    "epochs = 150"
   ]
  },
  {
   "cell_type": "code",
   "execution_count": 4,
   "metadata": {},
   "outputs": [
    {
     "name": "stderr",
     "output_type": "stream",
     "text": [
      "100%|██████████| 18.2M/18.2M [00:55<00:00, 327kB/s]\n",
      "100%|██████████| 29.5k/29.5k [00:00<00:00, 786kB/s]\n",
      "100%|██████████| 3.04M/3.04M [00:12<00:00, 239kB/s]\n",
      "100%|██████████| 5.12k/5.12k [00:00<?, ?B/s]\n"
     ]
    }
   ],
   "source": [
    "# 加载数据集\n",
    "train_dataset = KMNIST(root='./data', train=True, download=True, transform=ToTensor())\n",
    "test_dataset = KMNIST(root='./data', train=False, download=True, transform=ToTensor())\n"
   ]
  },
  {
   "cell_type": "code",
   "execution_count": 12,
   "metadata": {},
   "outputs": [
    {
     "name": "stdout",
     "output_type": "stream",
     "text": [
      "(1, 28, 28)\n"
     ]
    },
    {
     "data": {
      "image/png": "[encoded data removed]",
      "text/plain": [
       "<Figure size 640x480 with 1 Axes>"
      ]
     },
     "metadata": {},
     "output_type": "display_data"
    }
   ],
   "source": [
    "# 查看数据\n",
    "import matplotlib.pyplot as plt\n",
    "img, label = train_dataset[2]\n",
    "print(img.numpy().shape)\n",
    "plt.imshow(img.numpy().squeeze(), cmap='gray')\n",
    "plt.title(label)\n",
    "plt.show()\n"
   ]
  },
  {
   "cell_type": "code",
   "execution_count": 13,
   "metadata": {},
   "outputs": [],
   "source": [
    "# 创建数据加载器\n",
    "train_loader = DataLoader(dataset=train_dataset, batch_size=BATCH_SIZE, shuffle=True)\n",
    "test_loader = DataLoader(dataset=test_dataset, batch_size=BATCH_SIZE, shuffle=False)\n"
   ]
  },
  {
   "cell_type": "code",
   "execution_count": null,
   "metadata": {},
   "outputs": [],
   "source": [
    "# 定义模型\n",
    "model = nn.Sequential(nn.Linear(784, 512), nn.Sigmoid(), nn.Linear(512, 10))"
   ]
  },
  {
   "cell_type": "code",
   "execution_count": 15,
   "metadata": {},
   "outputs": [],
   "source": [
    "# 损失函数, 优化器\n",
    "loss_fn = nn.CrossEntropyLoss() # 交叉熵损失函数\n",
    "optimizer = optim.SGD(model.parameters(), lr=LR) # 随机梯度下降优化器,模型参数更新\n"
   ]
  },
  {
   "cell_type": "code",
   "execution_count": 16,
   "metadata": {},
   "outputs": [
    {
     "name": "stdout",
     "output_type": "stream",
     "text": [
      "Epoch: 0, Loss: 2.286038875579834\n",
      "Epoch: 1, Loss: 2.2661590576171875\n",
      "Epoch: 2, Loss: 2.253910779953003\n",
      "Epoch: 3, Loss: 2.2287752628326416\n",
      "Epoch: 4, Loss: 2.218946933746338\n",
      "Epoch: 5, Loss: 2.1845710277557373\n",
      "Epoch: 6, Loss: 2.1731929779052734\n",
      "Epoch: 7, Loss: 2.152825117111206\n",
      "Epoch: 8, Loss: 2.1243927478790283\n",
      "Epoch: 9, Loss: 2.0909810066223145\n",
      "Epoch: 10, Loss: 2.0931808948516846\n",
      "Epoch: 11, Loss: 2.0806474685668945\n",
      "Epoch: 12, Loss: 2.0395631790161133\n",
      "Epoch: 13, Loss: 2.0743539333343506\n",
      "Epoch: 14, Loss: 2.001107931137085\n",
      "Epoch: 15, Loss: 1.9631727933883667\n",
      "Epoch: 16, Loss: 1.9050841331481934\n",
      "Epoch: 17, Loss: 1.8727174997329712\n",
      "Epoch: 18, Loss: 1.8893532752990723\n",
      "Epoch: 19, Loss: 1.8008995056152344\n",
      "Epoch: 20, Loss: 1.783116340637207\n",
      "Epoch: 21, Loss: 1.7509440183639526\n",
      "Epoch: 22, Loss: 1.7533539533615112\n",
      "Epoch: 23, Loss: 1.6904412508010864\n",
      "Epoch: 24, Loss: 1.7179423570632935\n",
      "Epoch: 25, Loss: 1.7168766260147095\n",
      "Epoch: 26, Loss: 1.6590547561645508\n",
      "Epoch: 27, Loss: 1.6181279420852661\n",
      "Epoch: 28, Loss: 1.543801188468933\n",
      "Epoch: 29, Loss: 1.5542606115341187\n",
      "Epoch: 30, Loss: 1.5916200876235962\n",
      "Epoch: 31, Loss: 1.6608033180236816\n",
      "Epoch: 32, Loss: 1.5358343124389648\n",
      "Epoch: 33, Loss: 1.5655827522277832\n",
      "Epoch: 34, Loss: 1.3743816614151\n",
      "Epoch: 35, Loss: 1.3960503339767456\n",
      "Epoch: 36, Loss: 1.4484477043151855\n",
      "Epoch: 37, Loss: 1.3404349088668823\n",
      "Epoch: 38, Loss: 1.4257737398147583\n",
      "Epoch: 39, Loss: 1.2884997129440308\n",
      "Epoch: 40, Loss: 1.2881566286087036\n",
      "Epoch: 41, Loss: 1.3467503786087036\n",
      "Epoch: 42, Loss: 1.258514404296875\n",
      "Epoch: 43, Loss: 1.3555852174758911\n",
      "Epoch: 44, Loss: 1.3601808547973633\n",
      "Epoch: 45, Loss: 1.2009389400482178\n",
      "Epoch: 46, Loss: 1.228399634361267\n",
      "Epoch: 47, Loss: 1.2542232275009155\n",
      "Epoch: 48, Loss: 1.1365152597427368\n",
      "Epoch: 49, Loss: 1.2381325960159302\n",
      "Epoch: 50, Loss: 1.1848236322402954\n",
      "Epoch: 51, Loss: 1.229230523109436\n",
      "Epoch: 52, Loss: 1.060003399848938\n",
      "Epoch: 53, Loss: 1.113627314567566\n",
      "Epoch: 54, Loss: 1.0417882204055786\n",
      "Epoch: 55, Loss: 1.1551951169967651\n",
      "Epoch: 56, Loss: 1.1555246114730835\n",
      "Epoch: 57, Loss: 1.2338618040084839\n",
      "Epoch: 58, Loss: 0.9989299178123474\n",
      "Epoch: 59, Loss: 0.9147429466247559\n",
      "Epoch: 60, Loss: 1.2010987997055054\n",
      "Epoch: 61, Loss: 1.0621936321258545\n",
      "Epoch: 62, Loss: 0.9755261540412903\n",
      "Epoch: 63, Loss: 1.1593612432479858\n",
      "Epoch: 64, Loss: 1.2430721521377563\n",
      "Epoch: 65, Loss: 0.9696938395500183\n",
      "Epoch: 66, Loss: 1.0371274948120117\n",
      "Epoch: 67, Loss: 0.9276183247566223\n",
      "Epoch: 68, Loss: 1.072108268737793\n",
      "Epoch: 69, Loss: 1.0219050645828247\n",
      "Epoch: 70, Loss: 0.9853258728981018\n",
      "Epoch: 71, Loss: 1.0533292293548584\n",
      "Epoch: 72, Loss: 0.9065731167793274\n",
      "Epoch: 73, Loss: 1.2577784061431885\n",
      "Epoch: 74, Loss: 1.0402802228927612\n",
      "Epoch: 75, Loss: 1.063217282295227\n",
      "Epoch: 76, Loss: 1.0536285638809204\n",
      "Epoch: 77, Loss: 0.979128897190094\n",
      "Epoch: 78, Loss: 0.9584081768989563\n",
      "Epoch: 79, Loss: 0.9668348431587219\n",
      "Epoch: 80, Loss: 0.9264495968818665\n",
      "Epoch: 81, Loss: 0.9237545132637024\n",
      "Epoch: 82, Loss: 0.8809728026390076\n",
      "Epoch: 83, Loss: 0.885138213634491\n",
      "Epoch: 84, Loss: 0.8700862526893616\n",
      "Epoch: 85, Loss: 0.9372485280036926\n",
      "Epoch: 86, Loss: 0.8263671398162842\n",
      "Epoch: 87, Loss: 0.9095714688301086\n",
      "Epoch: 88, Loss: 0.9227493405342102\n",
      "Epoch: 89, Loss: 0.8106493949890137\n",
      "Epoch: 90, Loss: 0.8254236578941345\n",
      "Epoch: 91, Loss: 0.9404838681221008\n",
      "Epoch: 92, Loss: 0.9170589447021484\n",
      "Epoch: 93, Loss: 0.8129913210868835\n",
      "Epoch: 94, Loss: 0.9516221880912781\n",
      "Epoch: 95, Loss: 0.8875665068626404\n",
      "Epoch: 96, Loss: 0.8107538223266602\n",
      "Epoch: 97, Loss: 0.9025211930274963\n",
      "Epoch: 98, Loss: 0.8371524810791016\n",
      "Epoch: 99, Loss: 0.720103919506073\n",
      "Epoch: 100, Loss: 0.7980125546455383\n",
      "Epoch: 101, Loss: 0.7855167984962463\n",
      "Epoch: 102, Loss: 0.788709819316864\n",
      "Epoch: 103, Loss: 0.8723811507225037\n",
      "Epoch: 104, Loss: 0.9591291546821594\n",
      "Epoch: 105, Loss: 0.7476446628570557\n",
      "Epoch: 106, Loss: 0.6671140193939209\n",
      "Epoch: 107, Loss: 0.9788993000984192\n",
      "Epoch: 108, Loss: 0.906219482421875\n",
      "Epoch: 109, Loss: 0.7468798756599426\n",
      "Epoch: 110, Loss: 0.7900023460388184\n",
      "Epoch: 111, Loss: 0.6928794384002686\n",
      "Epoch: 112, Loss: 0.838768482208252\n",
      "Epoch: 113, Loss: 1.0200037956237793\n",
      "Epoch: 114, Loss: 0.7065749764442444\n",
      "Epoch: 115, Loss: 0.9019195437431335\n",
      "Epoch: 116, Loss: 0.920735776424408\n",
      "Epoch: 117, Loss: 0.8715066909790039\n",
      "Epoch: 118, Loss: 0.7503928542137146\n",
      "Epoch: 119, Loss: 0.8276686072349548\n",
      "Epoch: 120, Loss: 0.8401176333427429\n",
      "Epoch: 121, Loss: 0.7590987086296082\n",
      "Epoch: 122, Loss: 0.6586017608642578\n",
      "Epoch: 123, Loss: 0.8524087071418762\n",
      "Epoch: 124, Loss: 0.8463888168334961\n",
      "Epoch: 125, Loss: 0.7895268797874451\n",
      "Epoch: 126, Loss: 0.8529908061027527\n",
      "Epoch: 127, Loss: 0.7909265160560608\n",
      "Epoch: 128, Loss: 0.6789878010749817\n",
      "Epoch: 129, Loss: 0.7723341584205627\n",
      "Epoch: 130, Loss: 0.711035430431366\n",
      "Epoch: 131, Loss: 0.6393790245056152\n",
      "Epoch: 132, Loss: 0.6679769158363342\n",
      "Epoch: 133, Loss: 0.651417076587677\n",
      "Epoch: 134, Loss: 0.8816282153129578\n",
      "Epoch: 135, Loss: 0.776836097240448\n",
      "Epoch: 136, Loss: 0.8569059371948242\n",
      "Epoch: 137, Loss: 0.6634140610694885\n",
      "Epoch: 138, Loss: 0.7429044246673584\n",
      "Epoch: 139, Loss: 0.6070584654808044\n",
      "Epoch: 140, Loss: 0.835895299911499\n",
      "Epoch: 141, Loss: 0.7559049129486084\n",
      "Epoch: 142, Loss: 0.7536576390266418\n",
      "Epoch: 143, Loss: 0.7141888737678528\n",
      "Epoch: 144, Loss: 0.7783611416816711\n",
      "Epoch: 145, Loss: 0.7685909867286682\n",
      "Epoch: 146, Loss: 0.7597857117652893\n",
      "Epoch: 147, Loss: 0.7093023657798767\n",
      "Epoch: 148, Loss: 0.6799415946006775\n",
      "Epoch: 149, Loss: 0.694073498249054\n"
     ]
    }
   ],
   "source": [
    "# 训练模型\n",
    "for epoch in range(epochs):\n",
    "\n",
    "    # 提取训练数据\n",
    "    for data, target in train_loader:\n",
    "        # 前向运算\n",
    "        data = data.reshape(-1, 784)  # 将数据展平\n",
    "        output = model(data)\n",
    "\n",
    "        # 计算损失\n",
    "        loss = loss_fn(output, target)\n",
    "\n",
    "        # 反向传播\n",
    "        optimizer.zero_grad()  # 梯度清零\n",
    "        loss.backward()  # 反向传播,计算梯度\n",
    "        optimizer.step()  # 更新参数\n",
    "\n",
    "    # 计算准确率\n",
    "    print(f\"Epoch: {epoch}, Loss: {loss.item()}\")"
   ]
  },
  {
   "cell_type": "code",
   "execution_count": 17,
   "metadata": {},
   "outputs": [
    {
     "name": "stdout",
     "output_type": "stream",
     "text": [
      "Accuracy: 63.85\n"
     ]
    }
   ],
   "source": [
    "# 测试模型\n",
    "correct = 0\n",
    "total = 0\n",
    "\n",
    "with torch.no_grad(): # 不计算梯度\n",
    "    for data, target in test_loader:\n",
    "        data = data.reshape(-1, 784) # 将数据展平\n",
    "        output = model(data)     \n",
    "        _, predicted = torch.max(output, 1) #返回每行最大值和索引\n",
    "        total += target.size(0) # 累加测试样本数量\n",
    "        correct += (predicted == target).sum().item()\n",
    "\n",
    "print(f\"Accuracy: {100 * correct / total}\")\n"
   ]
  }
 ],
 "metadata": {
  "kernelspec": {
   "display_name": "py312",
   "language": "python",
   "name": "python3"
  },
  "language_info": {
   "codemirror_mode": {
    "name": "ipython",
    "version": 3
   },
   "file_extension": ".py",
   "mimetype": "text/x-python",
   "name": "python",
   "nbconvert_exporter": "python",
   "pygments_lexer": "ipython3",
   "version": "3.12.9"
  }
 },
 "nbformat": 4,
 "nbformat_minor": 2
}
