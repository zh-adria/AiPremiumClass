{
 "cells": [
  {
   "cell_type": "markdown",
   "metadata": {},
   "source": [
    "##### 逻辑回归运算及训练流程\n",
    "1. 准备数据\n",
    "    * 模型训练数据：拆分为训练集、测试集\n",
    "    * 参数初始化：包括权重参数（权重和偏执）、超参数（学习率和迭代次数）\n",
    "2. 模型运算：把自变量、权重参数导入模型，计算y_hat，这个过程也称为前向运算；\n",
    "3. 计算损失：通过负对数损失函数，计算y和y_hat的损失；\n",
    "4. 计算梯度：通过自变量（x）,y,y_hat计算权重和偏执的梯度；\n",
    "5. 更新参数：根据4中计算的梯度，更新权重和偏执；\n",
    "6. 模型训练：重复2-5步骤，直到达到最大迭代次数；\n",
    "7. 模型测试：使用6中训练得到的权重参数，将测试集的x和y导入模型，计算模型的准确率；"
   ]
  },
  {
   "cell_type": "code",
   "execution_count": 1,
   "metadata": {},
   "outputs": [],
   "source": [
    "from sklearn.datasets import make_classification\n",
    "from sklearn.model_selection import train_test_split\n",
    "import numpy as np"
   ]
  },
  {
   "cell_type": "code",
   "execution_count": 99,
   "metadata": {},
   "outputs": [],
   "source": [
    "# 1、准备数据\n",
    "# 数据集\n",
    "X, y = make_classification(n_features=10)\n",
    "# 拆分训练和测试集\n",
    "X_train, X_test, y_train, y_test = train_test_split(X, y, test_size=0.3)"
   ]
  },
  {
   "cell_type": "code",
   "execution_count": 100,
   "metadata": {},
   "outputs": [],
   "source": [
    "# 初始化权重参数\n",
    "theta = np.random.randn(10) # 权重：shape=(10,)\n",
    "# theta = np.random.randn(1,10) # 权重：shape=(1,10)\n",
    "bias = 0 # 偏置\n",
    "# 初始化超参数\n",
    "lr = 1e-2 # 学习率\n",
    "epochs = 1000 # 迭代次数"
   ]
  },
  {
   "cell_type": "code",
   "execution_count": 101,
   "metadata": {},
   "outputs": [],
   "source": [
    "# 2、模型运算\n",
    "def forward(x, theta, bias):\n",
    "    # 线性运算\n",
    "    z = np.dot(theta, x.T) + bias\n",
    "    # 激活函数\n",
    "    y_hat = 1 / (1 + np.exp(-z))\n",
    "    return y_hat"
   ]
  },
  {
   "cell_type": "code",
   "execution_count": 102,
   "metadata": {},
   "outputs": [],
   "source": [
    "# 3、计算损失\n",
    "def loss_fn(y, y_hat):\n",
    "    e = 1e-8\n",
    "    return -y * np.log(y_hat + e) - (1 - y) * np.log(1 - y_hat + e)"
   ]
  },
  {
   "cell_type": "code",
   "execution_count": null,
   "metadata": {},
   "outputs": [],
   "source": [
    "# 4、计算梯度\n",
    "def gradient_fn(x, y, y_hat):\n",
    "    # 样本数量\n",
    "    m = x.shape[0]\n",
    "    delta_w = np.dot(y_hat-y, x) / m\n",
    "    delta_b = np.mean(y_hat - y)\n",
    "    return delta_w, delta_b"
   ]
  },
  {
   "cell_type": "code",
   "execution_count": 104,
   "metadata": {},
   "outputs": [
    {
     "name": "stdout",
     "output_type": "stream",
     "text": [
      "epoch: 0, loss: 0.4691719843363235, acc: 0.8285714285714286\n",
      "epoch: 100, loss: 0.18257798151531204, acc: 0.9428571428571428\n",
      "epoch: 200, loss: 0.13020869010965674, acc: 0.9714285714285714\n",
      "epoch: 300, loss: 0.10893855437647666, acc: 0.9857142857142858\n",
      "epoch: 400, loss: 0.09692184822957814, acc: 0.9857142857142858\n",
      "epoch: 500, loss: 0.08883132383877079, acc: 0.9857142857142858\n",
      "epoch: 600, loss: 0.08282836038657056, acc: 0.9857142857142858\n",
      "epoch: 700, loss: 0.07810766319930995, acc: 0.9857142857142858\n",
      "epoch: 800, loss: 0.07425142291093716, acc: 0.9857142857142858\n",
      "epoch: 900, loss: 0.07101540875822354, acc: 0.9857142857142858\n",
      "[ 0.04423183  1.54467873  0.27714728  0.50581788 -0.00806348 -0.81124878\n",
      "  1.20053651  3.79124636  0.51692506 -0.26030022]\n",
      "0.12171880354243696\n"
     ]
    }
   ],
   "source": [
    "# 模型训练\n",
    "for i in range(epochs):\n",
    "    # 前向运算（模型运算）\n",
    "    y_hat = forward(X_train, theta, bias)\n",
    "    # 计算损失\n",
    "    loss = loss_fn(y_train, y_hat)\n",
    "    # 计算梯度\n",
    "    delta_w, delta_b = gradient_fn(X_train, y_train, y_hat)\n",
    "    # 更新权重\n",
    "    theta -= lr * delta_w\n",
    "    bias -= lr * delta_b\n",
    "    if i % 100 == 0:\n",
    "        acc = np.mean(np.round(y_hat) == y_train)\n",
    "        print(f'epoch: {i}, loss: {np.mean(loss)}, acc: {acc}')\n",
    "print(theta)\n",
    "print(bias)"
   ]
  },
  {
   "cell_type": "code",
   "execution_count": 113,
   "metadata": {},
   "outputs": [
    {
     "name": "stdout",
     "output_type": "stream",
     "text": [
      "[ 0.22173994  0.32231868 -1.60223837  1.39487168 -0.50878385 -0.7399641\n",
      " -0.11264061  1.40288028  0.29808052 -0.38996952]\n",
      "y: 1, pred: 1.0\n"
     ]
    }
   ],
   "source": [
    "# 模型测试\n",
    "idx = np.random.randint(len(X_test))\n",
    "x = X_test[idx]\n",
    "y = y_test[idx]\n",
    "pred = np.round(forward(x, theta, bias))\n",
    "print(x)\n",
    "print(f'y: {y}, pred: {pred}')"
   ]
  }
 ],
 "metadata": {
  "kernelspec": {
   "display_name": "Python 3",
   "language": "python",
   "name": "python3"
  },
  "language_info": {
   "codemirror_mode": {
    "name": "ipython",
    "version": 3
   },
   "file_extension": ".py",
   "mimetype": "text/x-python",
   "name": "python",
   "nbconvert_exporter": "python",
   "pygments_lexer": "ipython3",
   "version": "3.12.8"
  }
 },
 "nbformat": 4,
 "nbformat_minor": 2
}
