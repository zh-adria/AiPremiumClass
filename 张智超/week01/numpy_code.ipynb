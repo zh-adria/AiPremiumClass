{
 "cells": [
  {
   "cell_type": "code",
   "execution_count": 2,
   "metadata": {},
   "outputs": [
    {
     "data": {
      "text/plain": [
       "array([1, 2, 3, 4])"
      ]
     },
     "execution_count": 2,
     "metadata": {},
     "output_type": "execute_result"
    }
   ],
   "source": [
    "import numpy as np\n",
    "# 1、numpy数组: Ndarray\n",
    "# 1.1、基础数组创建\n",
    "a1 = [1 ,2 ,3, 4]\n",
    "b1 = np.array(a1)\n",
    "b1"
   ]
  },
  {
   "cell_type": "code",
   "execution_count": 8,
   "metadata": {},
   "outputs": [
    {
     "data": {
      "text/plain": [
       "array([1, 3, 4])"
      ]
     },
     "execution_count": 8,
     "metadata": {},
     "output_type": "execute_result"
    }
   ],
   "source": [
    "b2 = np.array(a1, float)\n",
    "b2\n",
    "b3 = np.array([1, 3, 4])\n",
    "b3"
   ]
  },
  {
   "cell_type": "code",
   "execution_count": 10,
   "metadata": {},
   "outputs": [
    {
     "name": "stdout",
     "output_type": "stream",
     "text": [
      "[[1 2 3]\n",
      " [4 5 6]\n",
      " [7 8 9]]\n"
     ]
    }
   ],
   "source": [
    "b4 = np.array([(1,2,3), (4,5,6), (7,8,9)])\n",
    "print(b4)"
   ]
  },
  {
   "cell_type": "code",
   "execution_count": 14,
   "metadata": {},
   "outputs": [
    {
     "name": "stdout",
     "output_type": "stream",
     "text": [
      "[[0. 0. 0. 0.]\n",
      " [0. 0. 0. 0.]]\n",
      "[[0. 0. 0.]\n",
      " [0. 0. 0.]\n",
      " [0. 0. 0.]]\n",
      "float64\n"
     ]
    }
   ],
   "source": [
    "# 1.2、特殊数组创建\n",
    "b5 = np.zeros((2,4), dtype=float)\n",
    "print(b5)\n",
    "b6 = np.zeros((3,3))\n",
    "print(b6)\n",
    "print(b6.dtype)"
   ]
  },
  {
   "cell_type": "code",
   "execution_count": 17,
   "metadata": {},
   "outputs": [
    {
     "name": "stdout",
     "output_type": "stream",
     "text": [
      "[[1. 1. 1.]\n",
      " [1. 1. 1.]\n",
      " [1. 1. 1.]]\n",
      "[[[1. 1. 1. 1. 1.]\n",
      "  [1. 1. 1. 1. 1.]\n",
      "  [1. 1. 1. 1. 1.]\n",
      "  [1. 1. 1. 1. 1.]]\n",
      "\n",
      " [[1. 1. 1. 1. 1.]\n",
      "  [1. 1. 1. 1. 1.]\n",
      "  [1. 1. 1. 1. 1.]\n",
      "  [1. 1. 1. 1. 1.]]\n",
      "\n",
      " [[1. 1. 1. 1. 1.]\n",
      "  [1. 1. 1. 1. 1.]\n",
      "  [1. 1. 1. 1. 1.]\n",
      "  [1. 1. 1. 1. 1.]]]\n"
     ]
    }
   ],
   "source": [
    "b7 = np.ones((3,3))\n",
    "print(b7)\n",
    "b8 = np.ones((3,4,5))\n",
    "print(b8)"
   ]
  },
  {
   "cell_type": "code",
   "execution_count": 21,
   "metadata": {},
   "outputs": [
    {
     "name": "stdout",
     "output_type": "stream",
     "text": [
      "[1.  1.2 1.4 1.6 1.8 2.  2.2 2.4 2.6 2.8 3.  3.2 3.4 3.6 3.8 4.  4.2 4.4\n",
      " 4.6 4.8 5.  5.2 5.4 5.6 5.8 6.  6.2 6.4 6.6 6.8]\n",
      "float64\n",
      "[1 2 3 4 5 6]\n",
      "int64\n",
      "[]\n",
      "int64\n"
     ]
    }
   ],
   "source": [
    "b9 = np.arange(1, 7, 0.2)\n",
    "print(b9)\n",
    "print(b9.dtype)\n",
    "b10 = np.arange(1, 7, 1)\n",
    "print(b10)\n",
    "print(b10.dtype)\n",
    "b11 = np.arange(1, 7, -1)\n",
    "print(b11)\n",
    "print(b11.dtype)"
   ]
  },
  {
   "cell_type": "code",
   "execution_count": 24,
   "metadata": {},
   "outputs": [
    {
     "name": "stdout",
     "output_type": "stream",
     "text": [
      "[[1. 0.]\n",
      " [0. 1.]]\n",
      "[[1. 0. 0.]\n",
      " [0. 1. 0.]\n",
      " [0. 0. 1.]]\n",
      "[[1. 0. 0. 0. 0. 0.]\n",
      " [0. 1. 0. 0. 0. 0.]\n",
      " [0. 0. 1. 0. 0. 0.]\n",
      " [0. 0. 0. 1. 0. 0.]\n",
      " [0. 0. 0. 0. 1. 0.]\n",
      " [0. 0. 0. 0. 0. 1.]]\n"
     ]
    }
   ],
   "source": [
    "b12 = np.eye(2)\n",
    "print(b12)\n",
    "b13 = np.eye(3)\n",
    "print(b13)\n",
    "b14 = np.eye(6)\n",
    "print(b14)"
   ]
  },
  {
   "cell_type": "code",
   "execution_count": 28,
   "metadata": {},
   "outputs": [
    {
     "name": "stdout",
     "output_type": "stream",
     "text": [
      "[0.53434827 0.47005096 0.24632449 0.75564545 0.88290284 0.81010416\n",
      " 0.76732191]\n",
      "[-0.01034373  0.04421758  0.01502351 -0.02592748  0.23805934  0.09061323\n",
      "  0.16693391]\n",
      "[ 8.2767358   9.42386307 10.02974344 13.58000322 10.16374639 11.25147729\n",
      " 10.30361126]\n"
     ]
    }
   ],
   "source": [
    "b15 = np.random.random(7)\n",
    "print(b15)\n",
    "# ⽣成指定⻓度，符合正态分布的随机数组，指定其均值为 0，标准差为 0.1\n",
    "b16 = np.random.normal(0, 0.1, 7)\n",
    "print(b16)\n",
    "b17 = np.random.normal(10, 2, 7)\n",
    "print(b17)"
   ]
  },
  {
   "cell_type": "code",
   "execution_count": 33,
   "metadata": {},
   "outputs": [
    {
     "name": "stdout",
     "output_type": "stream",
     "text": [
      "[1 2 3]\n",
      "2\n",
      "[[4 5 6]\n",
      " [7 8 9]]\n",
      "[[4]\n",
      " [7]]\n",
      "[[5 6]\n",
      " [8 9]]\n"
     ]
    }
   ],
   "source": [
    "# 1.3、数组访问\n",
    "b18 = np.array([[1, 2, 3], [4, 5, 6], [7, 8, 9]])\n",
    "print(b18[0])\n",
    "print(b18[0][1])\n",
    "print(b18[1:])\n",
    "print(b18[1:, :1])\n",
    "print(b18[1:, 1:])"
   ]
  },
  {
   "cell_type": "code",
   "execution_count": 37,
   "metadata": {},
   "outputs": [
    {
     "name": "stdout",
     "output_type": "stream",
     "text": [
      "1 - 2 - 3\n",
      "4 - 5 - 6\n",
      "7 - 8 - 9\n"
     ]
    }
   ],
   "source": [
    "# 1.4、数据遍历\n",
    "b19 = np.array([[1,2,3],[4,5,6],[7,8,9]])\n",
    "for i,j,k in b19:\n",
    "    print(i,\"-\",j,\"-\",k)"
   ]
  },
  {
   "cell_type": "code",
   "execution_count": 39,
   "metadata": {},
   "outputs": [
    {
     "name": "stdout",
     "output_type": "stream",
     "text": [
      "[[[1. 1. 1. 1. 1.]\n",
      "  [1. 1. 1. 1. 1.]\n",
      "  [1. 1. 1. 1. 1.]\n",
      "  [1. 1. 1. 1. 1.]]\n",
      "\n",
      " [[1. 1. 1. 1. 1.]\n",
      "  [1. 1. 1. 1. 1.]\n",
      "  [1. 1. 1. 1. 1.]\n",
      "  [1. 1. 1. 1. 1.]]]\n",
      "数组的维度（数组轴的个数），等于秩： 3\n",
      "数组的⼤⼩： (2, 4, 5)\n",
      "数组元素的总个数，等于 shape 属性中元组元素的乘积： 40\n",
      "元素类型： float64\n"
     ]
    }
   ],
   "source": [
    "# 1.5、数组常用属性\n",
    "b20 = np.ones((2,4,5))\n",
    "print(b20)\n",
    "print(\"数组的维度（数组轴的个数），等于秩：\", b20.ndim)\n",
    "print(\"数组的⼤⼩：\", b20.shape)\n",
    "print(\"数组元素的总个数，等于 shape 属性中元组元素的乘积：\", b20.size)\n",
    "print(\"元素类型：\", b20.dtype)"
   ]
  },
  {
   "cell_type": "code",
   "execution_count": 59,
   "metadata": {},
   "outputs": [
    {
     "name": "stdout",
     "output_type": "stream",
     "text": [
      "[[1 2 3]\n",
      " [4 5 6]\n",
      " [7 8 9]]\n",
      "True\n",
      "True\n",
      "False\n",
      "True\n"
     ]
    }
   ],
   "source": [
    "# 1.6、数组的基本操作\n",
    "b21 = np.array([[1,2,3],[4,5,6],[7,8,9]])\n",
    "print(b21)\n",
    "print(1 in b21)\n",
    "# print((1,2) in b21) # 报错：operands could not be broadcast together with shapes (3,3) (2,)\n",
    "print((11,22,3) in b21)\n",
    "print((11,22,33) in b21)\n",
    "print([1,2,3] in b21)"
   ]
  },
  {
   "cell_type": "code",
   "execution_count": null,
   "metadata": {},
   "outputs": [],
   "source": [
    "b22 = np.ones((3,4,5))\n",
    "print(b22)\n",
    "# 元素数需保持一致\n",
    "b23 = b22.reshape(3,20)\n",
    "print(\"b23=\", b23)\n",
    "b24 = b22.reshape(5, 4, 3)\n",
    "print(\"b24=\", b24)\n",
    "b25 = b22.reshape(3*4*5)\n",
    "print(\"b25=\", b25)\n"
   ]
  },
  {
   "cell_type": "code",
   "execution_count": 66,
   "metadata": {},
   "outputs": [
    {
     "name": "stdout",
     "output_type": "stream",
     "text": [
      "[[1. 1. 1.]\n",
      " [1. 1. 1.]]\n",
      "[[1. 1. 1.]\n",
      " [1. 1. 1.]]\n",
      "[[1. 1.]\n",
      " [1. 1.]\n",
      " [1. 1.]]\n",
      "b28= [[[1. 1. 1. 1.]\n",
      "  [1. 1. 1. 1.]\n",
      "  [1. 1. 1. 1.]]\n",
      "\n",
      " [[1. 1. 1. 1.]\n",
      "  [1. 1. 1. 1.]\n",
      "  [1. 1. 1. 1.]]]\n",
      "(2, 3, 4)\n",
      "b28.T= [[[1. 1.]\n",
      "  [1. 1.]\n",
      "  [1. 1.]]\n",
      "\n",
      " [[1. 1.]\n",
      "  [1. 1.]\n",
      "  [1. 1.]]\n",
      "\n",
      " [[1. 1.]\n",
      "  [1. 1.]\n",
      "  [1. 1.]]\n",
      "\n",
      " [[1. 1.]\n",
      "  [1. 1.]\n",
      "  [1. 1.]]]\n",
      "(4, 3, 2)\n"
     ]
    }
   ],
   "source": [
    "b26 = np.ones((2,3))\n",
    "print(b26)\n",
    "b26.transpose()\n",
    "print(b26)\n",
    "b27 = b26.transpose()\n",
    "print(b27)\n",
    "b28 = np.ones((2,3,4))\n",
    "print(\"b28=\", b28)\n",
    "print(b28.shape)\n",
    "b29 = b28.T\n",
    "print(\"b28.T=\", b29)\n",
    "print(b29.shape)"
   ]
  },
  {
   "cell_type": "code",
   "execution_count": 68,
   "metadata": {},
   "outputs": [
    {
     "name": "stdout",
     "output_type": "stream",
     "text": [
      "[[1. 1. 1. 1.]\n",
      " [1. 1. 1. 1.]\n",
      " [1. 1. 1. 1.]]\n",
      "[[1. 1. 1. 1.]\n",
      " [1. 1. 1. 1.]\n",
      " [1. 1. 1. 1.]]\n",
      "[1. 1. 1. 1. 1. 1. 1. 1. 1. 1. 1. 1.]\n"
     ]
    }
   ],
   "source": [
    "b30 = np.ones((3,4))\n",
    "print(b30)\n",
    "b30.flatten()\n",
    "print(b30)\n",
    "b31 = b30.flatten()\n",
    "print(b31)"
   ]
  },
  {
   "cell_type": "code",
   "execution_count": null,
   "metadata": {},
   "outputs": [
    {
     "name": "stdout",
     "output_type": "stream",
     "text": [
      "[[1. 1. 1.]\n",
      " [1. 1. 1.]]\n",
      "(2, 3)\n",
      "[[[1. 1. 1.]]\n",
      "\n",
      " [[1. 1. 1.]]]\n",
      "(2, 1, 3)\n",
      "[[[1.]\n",
      "  [1.]\n",
      "  [1.]]\n",
      "\n",
      " [[1.]\n",
      "  [1.]\n",
      "  [1.]]]\n",
      "(2, 3, 1)\n",
      "[[[1. 1. 1.]\n",
      "  [1. 1. 1.]]]\n",
      "(1, 2, 3)\n",
      "1.0\n"
     ]
    }
   ],
   "source": [
    "# 增加维度\n",
    "b32 = np.ones((2,3))\n",
    "print(b32)\n",
    "print(b32.shape)\n",
    "b33 = b32[:,np.newaxis]\n",
    "print(b33)\n",
    "print(b33.shape)\n",
    "b34 = b32[:,:,np.newaxis]\n",
    "print(b34)\n",
    "print(b34.shape)\n",
    "b35 = b32[np.newaxis]\n",
    "print(b35)\n",
    "print(b35.shape)\n",
    "print(b35[0][1][2])"
   ]
  },
  {
   "cell_type": "code",
   "execution_count": 85,
   "metadata": {},
   "outputs": [
    {
     "name": "stdout",
     "output_type": "stream",
     "text": [
      "[[1 2]\n",
      " [3 4]]\n",
      "[[-1  1]\n",
      " [-1  1]]\n",
      "[[0 3]\n",
      " [2 5]]\n",
      "[[2 1]\n",
      " [4 3]]\n",
      "[[-1  2]\n",
      " [-3  4]]\n",
      "[[-1.  2.]\n",
      " [-3.  4.]]\n",
      "\n",
      "[[1 2 5]\n",
      " [3 4 7]]\n",
      "[[-1  1]\n",
      " [-1  1]]\n",
      "元素求和 22\n",
      "元素求积 840\n"
     ]
    }
   ],
   "source": [
    "# 1.7、数组的数学操作\n",
    "b36 = np.array([(1,2),(3,4)])\n",
    "b37 = np.array([(-1,1),(-1,1)])\n",
    "print(b36)\n",
    "print(b37)\n",
    "print(b36 + b37)\n",
    "print(b36 - b37)\n",
    "print(b36 * b37)\n",
    "print(b36 / b37)\n",
    "print()\n",
    "b38 = np.array([(1,2,5),(3,4,7)])\n",
    "b39 = np.array([(-1,1),(-1,1)])\n",
    "print(b38)\n",
    "print(b39)\n",
    "# print(b38 + b39) # 报错：operands could not be broadcast together with shapes (2,3) (2,2)\n",
    "print(\"元素求和\", b38.sum())\n",
    "print(\"元素求积\", b38.prod())"
   ]
  },
  {
   "cell_type": "code",
   "execution_count": 93,
   "metadata": {},
   "outputs": [
    {
     "name": "stdout",
     "output_type": "stream",
     "text": [
      "[[1.1 2.2 3.3]\n",
      " [4.4 5.5 6.6]]\n",
      "平均数： 3.85\n",
      "方差： 3.5291666666666663\n",
      "标准差： 1.8786076404259262\n",
      "最大值： 6.6\n",
      "最小值： 1.1\n",
      "最大值索引： 5\n",
      "最小值索引： 0\n",
      "元素值上限 [[2. 3. 4.]\n",
      " [5. 6. 7.]]\n",
      "元素值下限 [[1. 2. 3.]\n",
      " [4. 5. 6.]]\n",
      "元素值四舍五入 [[1. 2. 3.]\n",
      " [4. 6. 7.]]\n"
     ]
    }
   ],
   "source": [
    "b40 = np.array([[1.1, 2.2, 3.3], [4.4, 5.5, 6.6]])\n",
    "print(b40)\n",
    "print(\"平均数：\", b40.mean())\n",
    "print(\"方差：\", b40.var())\n",
    "print(\"标准差：\", b40.std())\n",
    "print(\"最大值：\", b40.max())\n",
    "print(\"最小值：\", b40.min())\n",
    "print(\"最大值索引：\", b40.argmax())\n",
    "print(\"最小值索引：\", b40.argmin())\n",
    "b41 = np.ceil(b40)\n",
    "print(\"元素值上限\", b41)\n",
    "b42 = np.floor(b40)\n",
    "print(\"元素值下限\", b42)\n",
    "b43 = np.rint(b40)\n",
    "print(\"元素值四舍五入\", b43)"
   ]
  },
  {
   "cell_type": "code",
   "execution_count": 97,
   "metadata": {},
   "outputs": [
    {
     "name": "stdout",
     "output_type": "stream",
     "text": [
      "[[7.2 3.3 1.1]\n",
      " [6.6 4.4 5.5]]\n",
      "[[1.1 3.3 7.2]\n",
      " [4.4 5.5 6.6]]\n",
      "[[1.1 3.3 6.6]\n",
      " [4.4 5.5 7.2]]\n"
     ]
    }
   ],
   "source": [
    "b44 = np.array([[7.2, 3.3, 1.1], [6.6, 4.4, 5.5]])\n",
    "print(b44)\n",
    "b44.sort()\n",
    "print(b44) # 原数组发生变化\n",
    "b44.sort(axis=0)\n",
    "print(b44)"
   ]
  },
  {
   "cell_type": "code",
   "execution_count": null,
   "metadata": {},
   "outputs": [
    {
     "name": "stdout",
     "output_type": "stream",
     "text": [
      "[[19 22]\n",
      " [43 50]]\n",
      "[[19 22]\n",
      " [43 50]]\n",
      "点乘：数组 a 的最后⼀维上的所有元素与数组 b 的倒数第⼆位上的所有元素的乘积和\n",
      "(2, 3)\n",
      "(3, 2)\n",
      "[[ 64  72]\n",
      " [ 88 100]]\n",
      "[[ 64  72]\n",
      " [ 88 100]]\n"
     ]
    }
   ],
   "source": [
    "# 1.8、线性代数：numpy.linalg\n",
    "m1 = np.array([[1, 2], [3, 4]])\n",
    "m2 = np.array([[5, 6], [7, 8]])\n",
    "r1 = np.dot(m1, m2)\n",
    "r2 = m1 @ m2\n",
    "print(r1)\n",
    "print(r2)\n",
    "print(\"点乘：数组 a 的最后⼀维上的所有元素与数组 b 的倒数第⼆位上的所有元素的乘积和\")\n",
    "m1 = np.array([[1, 2, 5], [3, 4, 5]])\n",
    "m2 = np.array([[5, 6], [7, 8], [9, 10]])\n",
    "print(m1.shape)\n",
    "print(m2.shape)\n",
    "r1 = np.dot(m1, m2)\n",
    "r2 = m1 @ m2\n",
    "print(r1)\n",
    "print(r2)"
   ]
  },
  {
   "cell_type": "code",
   "execution_count": 106,
   "metadata": {},
   "outputs": [
    {
     "name": "stdout",
     "output_type": "stream",
     "text": [
      "EigResult(eigenvalues=array([-0.37228132,  5.37228132]), eigenvectors=array([[-0.82456484, -0.41597356],\n",
      "       [ 0.56576746, -0.90937671]]))\n"
     ]
    }
   ],
   "source": [
    "m1 = np.array([[1, 2], [3, 4]])\n",
    "m2 = np.array([[5, 6], [7, 8], [9, 10]])\n",
    "# 特征值\n",
    "r1 = np.linalg.eig(m1)\n",
    "print(r1)"
   ]
  },
  {
   "cell_type": "code",
   "execution_count": 5,
   "metadata": {},
   "outputs": [
    {
     "name": "stdout",
     "output_type": "stream",
     "text": [
      "[[ 30  36  42]\n",
      " [ 66  81  96]\n",
      " [102 126 150]]\n",
      "[[ 30  36  42]\n",
      " [ 66  81  96]\n",
      " [102 126 150]]\n"
     ]
    }
   ],
   "source": [
    "# 2、文件操作\n",
    "m = np.array([[1, 2, 3], [4, 5, 6], [7, 8, 9]])\n",
    "r = m @ m\n",
    "print(r)\n",
    "np.save('test.npy', r)\n",
    "r1 = np.load('test.npy')\n",
    "print(r1)"
   ]
  },
  {
   "cell_type": "code",
   "execution_count": null,
   "metadata": {},
   "outputs": [
    {
     "name": "stdout",
     "output_type": "stream",
     "text": [
      "[[0 3]\n",
      " [1 3]\n",
      " [2 4]\n",
      " [3 5]]\n",
      "(2, 3)\n",
      "(3,)\n",
      "[[0 1 2]\n",
      " [1 1 2]]\n"
     ]
    }
   ],
   "source": [
    "# 3、Numpy数组的广播机制\n",
    "m1 = np.array([(1,2), (2,2), (3,3), (4,4)])  # shape(4,2)\n",
    "m2 = np.array([-1,1])  # shape(2)-> shape(1,2) -> shape(4,2)  [[-1,1],[-1,1],[-1,1],[-1,1]]\n",
    "r = m1 + m2\n",
    "print(r)\n",
    "m1 = np.array([(1,2,3), (2,2,3)])  # shape(2,3)\n",
    "m2 = np.array([-1,-1,-1])  # shape(3)-> shape(1,3) -> shape(2,3)  [[-1,-1,-1],[-1,-1,-1]]\n",
    "print(m1.shape)\n",
    "print(m2.shape)\n",
    "r = m1 + m2\n",
    "print(r)"
   ]
  }
 ],
 "metadata": {
  "kernelspec": {
   "display_name": "py312",
   "language": "python",
   "name": "python3"
  },
  "language_info": {
   "codemirror_mode": {
    "name": "ipython",
    "version": 3
   },
   "file_extension": ".py",
   "mimetype": "text/x-python",
   "name": "python",
   "nbconvert_exporter": "python",
   "pygments_lexer": "ipython3",
   "version": "3.12.8"
  }
 },
 "nbformat": 4,
 "nbformat_minor": 2
}
