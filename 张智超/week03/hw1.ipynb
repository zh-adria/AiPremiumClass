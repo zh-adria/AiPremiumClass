{
 "cells": [
  {
   "cell_type": "markdown",
   "metadata": {},
   "source": [
    "#### 使用pytorch搭建神经网络模型，实现对KMNIST数据集的训练"
   ]
  },
  {
   "cell_type": "code",
   "execution_count": null,
   "metadata": {},
   "outputs": [],
   "source": [
    "from torchvision.datasets import KMNIST\n",
    "from torchvision.transforms import ToTensor\n",
    "from torch.utils.data import DataLoader\n",
    "import torch.nn as nn\n",
    "import torch"
   ]
  },
  {
   "cell_type": "code",
   "execution_count": 18,
   "metadata": {},
   "outputs": [],
   "source": [
    "# 加载数据集\n",
    "train_data = KMNIST(root='./data', train=True, download=True, transform=ToTensor())\n",
    "test_data = KMNIST(root='./data', train=False, download=True, transform=ToTensor())\n",
    "# print(set([clz for _,clz in train_data])) # 输出训练集的类别:10类"
   ]
  },
  {
   "cell_type": "code",
   "execution_count": 24,
   "metadata": {},
   "outputs": [],
   "source": [
    "# 设置超参数\n",
    "BATCH_SIZE = 128 # 批次大小\n",
    "NEURON_NUM = 64 # 神经元数量\n",
    "LR = 1e-2 # 学习率\n",
    "EPOCHS = 10 # 训练轮数"
   ]
  },
  {
   "cell_type": "code",
   "execution_count": 30,
   "metadata": {},
   "outputs": [],
   "source": [
    "# 按照批次大小加载训练数据\n",
    "train_dl = DataLoader(train_data, batch_size=BATCH_SIZE, shuffle=True)\n",
    "# 定义模型\n",
    "model = nn.Sequential(\n",
    "    nn.Linear(28 * 28, NEURON_NUM),\n",
    "    nn.Sigmoid(),\n",
    "    nn.Linear(NEURON_NUM, 10)\n",
    ")\n",
    "# 定义损失函数\n",
    "loss_fn = nn.CrossEntropyLoss()\n",
    "# 定义优化器\n",
    "optimizer = torch.optim.SGD(model.parameters(), lr=LR)"
   ]
  },
  {
   "cell_type": "code",
   "execution_count": 34,
   "metadata": {},
   "outputs": [
    {
     "name": "stdout",
     "output_type": "stream",
     "text": [
      "epoch 1, loss 0.9099068641662598\n",
      "epoch 2, loss 0.8687978386878967\n",
      "epoch 3, loss 0.9167964458465576\n",
      "epoch 4, loss 0.8573535084724426\n",
      "epoch 5, loss 0.7044726014137268\n",
      "epoch 6, loss 0.756251335144043\n",
      "epoch 7, loss 0.7400946617126465\n",
      "epoch 8, loss 0.6477290391921997\n",
      "epoch 9, loss 0.8314477801322937\n",
      "epoch 10, loss 0.6795104146003723\n"
     ]
    }
   ],
   "source": [
    "# 训练模型\n",
    "for i in range(EPOCHS):\n",
    "    for x, y in train_dl:\n",
    "        # 前向计算\n",
    "        y_hat = model(x.reshape(-1, 28 * 28))\n",
    "        # 计算损失\n",
    "        loss = loss_fn(y_hat, y)\n",
    "        # 反向传播\n",
    "        optimizer.zero_grad() # 梯度清零\n",
    "        loss.backward() # 计算梯度\n",
    "        # 更新参数\n",
    "        optimizer.step()\n",
    "    print(f'epoch {i + 1}, loss {loss.item()}')"
   ]
  },
  {
   "cell_type": "code",
   "execution_count": 37,
   "metadata": {},
   "outputs": [
    {
     "name": "stdout",
     "output_type": "stream",
     "text": [
      "accuracy: 0.6537\n"
     ]
    }
   ],
   "source": [
    "# 预测\n",
    "test_dl = DataLoader(test_data, batch_size=BATCH_SIZE)\n",
    "correct = 0\n",
    "total = len(test_data)\n",
    "with torch.no_grad():\n",
    "    for x, y in test_dl: # y的shape: [BATCH_SIZE]\n",
    "        out = model(x.reshape(-1, 28 * 28)) # shape: [BATCH_SIZE, 10]\n",
    "        _, pred = torch.max(out, 1) # out的最大值的索引\n",
    "        correct += (pred == y).sum().item()\n",
    "print(f'accuracy: {correct / total}')"
   ]
  }
 ],
 "metadata": {
  "kernelspec": {
   "display_name": "py312",
   "language": "python",
   "name": "python3"
  },
  "language_info": {
   "codemirror_mode": {
    "name": "ipython",
    "version": 3
   },
   "file_extension": ".py",
   "mimetype": "text/x-python",
   "name": "python",
   "nbconvert_exporter": "python",
   "pygments_lexer": "ipython3",
   "version": "3.12.8"
  }
 },
 "nbformat": 4,
 "nbformat_minor": 2
}
