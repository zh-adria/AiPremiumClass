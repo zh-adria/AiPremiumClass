{
 "cells": [
  {
   "cell_type": "markdown",
   "metadata": {},
   "source": [
    "#### 调整模型结构（变更神经元数量，增加隐藏层）来提升模型预测的准确率"
   ]
  },
  {
   "cell_type": "code",
   "execution_count": 7,
   "metadata": {},
   "outputs": [],
   "source": [
    "from torchvision.datasets import KMNIST\n",
    "from torchvision.transforms import ToTensor\n",
    "from torch.utils.data import DataLoader\n",
    "import torch.nn as nn\n",
    "import torch\n",
    "import time"
   ]
  },
  {
   "cell_type": "code",
   "execution_count": 8,
   "metadata": {},
   "outputs": [],
   "source": [
    "# 加载数据集\n",
    "train_data = KMNIST(root='./data', train=True, download=True, transform=ToTensor())\n",
    "test_data = KMNIST(root='./data', train=False, download=True, transform=ToTensor())"
   ]
  },
  {
   "cell_type": "code",
   "execution_count": 9,
   "metadata": {},
   "outputs": [],
   "source": [
    "# 设置超参数\n",
    "BATCH_SIZE = 128 # 批次大小\n",
    "NEURON_NUM = (64, 128, 256) # 神经元数量\n",
    "LR = 1e-2 # 学习率\n",
    "EPOCHS = 10 # 训练轮数"
   ]
  },
  {
   "cell_type": "code",
   "execution_count": 10,
   "metadata": {},
   "outputs": [],
   "source": [
    "# 根据神经元数量定义模型\n",
    "def gen_model(neuron_num):\n",
    "    model = nn.Sequential(\n",
    "        nn.Linear(28 * 28, neuron_num),\n",
    "        nn.Sigmoid(),\n",
    "        nn.Linear(neuron_num, 10)\n",
    "    )\n",
    "    return model"
   ]
  },
  {
   "cell_type": "code",
   "execution_count": 11,
   "metadata": {},
   "outputs": [],
   "source": [
    "# 定义训练及预测函数\n",
    "def train_and_test(model):\n",
    "    # 训练\n",
    "    train_dl = DataLoader(train_data, batch_size=BATCH_SIZE, shuffle=True)\n",
    "    loss_fn = nn.CrossEntropyLoss()\n",
    "    optimizer = torch.optim.SGD(model.parameters(), lr=LR)\n",
    "    start_time = time.time() # 记录开始时间\n",
    "    for i in range(EPOCHS):\n",
    "        for x, y in train_dl:\n",
    "            # 前向传播\n",
    "            y_hat = model(x.reshape(-1, 28 * 28))\n",
    "            # 计算损失\n",
    "            loss = loss_fn(y_hat, y)\n",
    "            # 反向传播\n",
    "            optimizer.zero_grad()\n",
    "            loss.backward()\n",
    "            optimizer.step()\n",
    "        if i % 2 == 0:\n",
    "            print(f'epoch {i + 1}, loss {loss.item()}')\n",
    "    end_time = time.time() # 记录结束时间\n",
    "    print(f'train time: {end_time - start_time} seconds')\n",
    "    # 预测\n",
    "    test_dl = DataLoader(test_data, batch_size=BATCH_SIZE)\n",
    "    correct = 0\n",
    "    total = len(test_data)\n",
    "    with torch.no_grad():\n",
    "        for x, y in test_dl:\n",
    "            out = model(x.reshape(-1, 28 * 28))\n",
    "            _, pred = torch.max(out, 1)\n",
    "            correct += (pred == y).sum().item()\n",
    "    print(f'accuracy: {correct / total}')"
   ]
  },
  {
   "cell_type": "code",
   "execution_count": 12,
   "metadata": {},
   "outputs": [
    {
     "name": "stdout",
     "output_type": "stream",
     "text": [
      "====================神经元数量: 64====================\n",
      "epoch 1, loss 2.163438320159912\n",
      "epoch 3, loss 1.8204965591430664\n",
      "epoch 5, loss 1.4746975898742676\n",
      "epoch 7, loss 1.2006958723068237\n",
      "epoch 9, loss 1.0566405057907104\n",
      "train time: 347.59226655960083 seconds\n",
      "accuracy: 0.5903\n",
      "====================神经元数量: 128====================\n",
      "epoch 1, loss 2.1570260524749756\n",
      "epoch 3, loss 1.7846139669418335\n",
      "epoch 5, loss 1.489632248878479\n",
      "epoch 7, loss 0.9923272132873535\n",
      "epoch 9, loss 0.8565981984138489\n",
      "train time: 301.93175411224365 seconds\n",
      "accuracy: 0.6007\n",
      "====================神经元数量: 256====================\n",
      "epoch 1, loss 2.1628241539001465\n",
      "epoch 3, loss 1.6429399251937866\n",
      "epoch 5, loss 1.1950052976608276\n",
      "epoch 7, loss 1.024361491203308\n",
      "epoch 9, loss 0.8858514428138733\n",
      "train time: 399.64902997016907 seconds\n",
      "accuracy: 0.6005\n"
     ]
    }
   ],
   "source": [
    "# （1）改变神经元数量训练并预测\n",
    "for neuron_num in NEURON_NUM:\n",
    "    model = gen_model(neuron_num)\n",
    "    print(f'====================神经元数量: {neuron_num}====================')\n",
    "    train_and_test(model)"
   ]
  },
  {
   "cell_type": "code",
   "execution_count": 13,
   "metadata": {},
   "outputs": [
    {
     "name": "stdout",
     "output_type": "stream",
     "text": [
      "====================隐藏层数量: 1层====================\n",
      "epoch 1, loss 2.153247117996216\n",
      "epoch 3, loss 1.6239908933639526\n",
      "epoch 5, loss 1.2390376329421997\n",
      "epoch 7, loss 0.9520652890205383\n",
      "epoch 9, loss 0.9681587219238281\n",
      "train time: 319.85018038749695 seconds\n",
      "accuracy: 0.6014\n",
      "====================隐藏层数量: 2层====================\n",
      "epoch 1, loss 2.299945592880249\n",
      "epoch 3, loss 2.292205572128296\n",
      "epoch 5, loss 2.2771785259246826\n",
      "epoch 7, loss 2.2514472007751465\n",
      "epoch 9, loss 2.191967248916626\n",
      "train time: 306.4417362213135 seconds\n",
      "accuracy: 0.3791\n",
      "====================隐藏层数量: 3层====================\n",
      "epoch 1, loss 2.302993059158325\n",
      "epoch 3, loss 2.3025014400482178\n",
      "epoch 5, loss 2.3009226322174072\n",
      "epoch 7, loss 2.3028883934020996\n",
      "epoch 9, loss 2.304628849029541\n",
      "train time: 307.9380750656128 seconds\n",
      "accuracy: 0.1\n"
     ]
    }
   ],
   "source": [
    "# （2）增加隐藏层训练并预测\n",
    "# 1个隐藏层\n",
    "model1 = nn.Sequential(\n",
    "    nn.Linear(28 * 28, 256),\n",
    "    nn.Sigmoid(),\n",
    "    nn.Linear(256, 10)\n",
    ")\n",
    "print('====================隐藏层数量: 1层====================')\n",
    "train_and_test(model1)\n",
    "# 2个隐藏层\n",
    "model2 = nn.Sequential(\n",
    "    nn.Linear(28 * 28, 256),\n",
    "    nn.Sigmoid(),\n",
    "    nn.Linear(256, 128),\n",
    "    nn.Sigmoid(),\n",
    "    nn.Linear(128, 10)\n",
    ")\n",
    "print('====================隐藏层数量: 2层====================')\n",
    "train_and_test(model2)\n",
    "# 3个隐藏层\n",
    "model3 = nn.Sequential(\n",
    "    nn.Linear(28 * 28, 256),\n",
    "    nn.Sigmoid(),\n",
    "    nn.Linear(256, 128),\n",
    "    nn.Sigmoid(),\n",
    "    nn.Linear(128, 64),\n",
    "    nn.Sigmoid(),\n",
    "    nn.Linear(64, 10)\n",
    ")\n",
    "print('====================隐藏层数量: 3层====================')\n",
    "train_and_test(model3)"
   ]
  },
  {
   "cell_type": "code",
   "execution_count": 14,
   "metadata": {},
   "outputs": [
    {
     "name": "stdout",
     "output_type": "stream",
     "text": [
      "====================隐藏层数量: 2层====================\n",
      "epoch 1, loss 2.3003270626068115\n",
      "epoch 3, loss 2.2856078147888184\n",
      "epoch 5, loss 2.2719359397888184\n",
      "epoch 7, loss 2.240614891052246\n",
      "epoch 9, loss 2.1197235584259033\n",
      "train time: 348.09534096717834 seconds\n",
      "accuracy: 0.277\n",
      "====================隐藏层数量: 3层====================\n",
      "epoch 1, loss 2.3075175285339355\n",
      "epoch 3, loss 2.306304693222046\n",
      "epoch 5, loss 2.3128809928894043\n",
      "epoch 7, loss 2.3080661296844482\n",
      "epoch 9, loss 2.3020246028900146\n",
      "train time: 371.26202940940857 seconds\n",
      "accuracy: 0.1\n"
     ]
    }
   ],
   "source": [
    "model4 = nn.Sequential(\n",
    "    nn.Linear(28 * 28, 256),\n",
    "    nn.Sigmoid(),\n",
    "    nn.Linear(256, 256),\n",
    "    nn.Sigmoid(),\n",
    "    nn.Linear(256, 10)\n",
    ")\n",
    "print('====================隐藏层数量: 2层====================')\n",
    "train_and_test(model4)\n",
    "model5 = nn.Sequential(\n",
    "    nn.Linear(28 * 28, 256),\n",
    "    nn.Sigmoid(),\n",
    "    nn.Linear(256, 256),\n",
    "    nn.Sigmoid(),\n",
    "    nn.Linear(256, 256),\n",
    "    nn.Sigmoid(),\n",
    "    nn.Linear(256, 10)\n",
    ")\n",
    "print('====================隐藏层数量: 3层====================')\n",
    "train_and_test(model5)"
   ]
  }
 ],
 "metadata": {
  "kernelspec": {
   "display_name": "py312",
   "language": "python",
   "name": "python3"
  },
  "language_info": {
   "codemirror_mode": {
    "name": "ipython",
    "version": 3
   },
   "file_extension": ".py",
   "mimetype": "text/x-python",
   "name": "python",
   "nbconvert_exporter": "python",
   "pygments_lexer": "ipython3",
   "version": "3.12.8"
  }
 },
 "nbformat": 4,
 "nbformat_minor": 2
}
