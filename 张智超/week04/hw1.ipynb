{
 "cells": [
  {
   "cell_type": "markdown",
   "metadata": {},
   "source": [
    "##### 搭建的神经网络，使用olivettiface数据集进行训练\n",
    "激活函数使用Tanh效果更好"
   ]
  },
  {
   "cell_type": "code",
   "execution_count": 9,
   "metadata": {},
   "outputs": [],
   "source": [
    "from sklearn.datasets import fetch_olivetti_faces\n",
    "import torch\n",
    "from sklearn.model_selection import train_test_split\n",
    "from torch.utils.data import DataLoader\n",
    "import torch.nn as nn"
   ]
  },
  {
   "cell_type": "code",
   "execution_count": 10,
   "metadata": {},
   "outputs": [],
   "source": [
    "class MyTorchNN(nn.Module):\n",
    "    def __init__(self, act):\n",
    "        super().__init__()\n",
    "        self.linear1 = nn.Linear(4096, 2048)\n",
    "        self.linear2 = nn.Linear(2048, 512)\n",
    "        self.linear3 = nn.Linear(512, 40)\n",
    "        self.act = act\n",
    "\n",
    "    def forward(self, input_tensor):\n",
    "        out = self.linear1(input_tensor)\n",
    "        out = self.act(out)\n",
    "        out = self.linear2(out)\n",
    "        out = self.act(out)\n",
    "        final = self.linear3(out)\n",
    "        return final"
   ]
  },
  {
   "cell_type": "code",
   "execution_count": 11,
   "metadata": {},
   "outputs": [],
   "source": [
    "olivetti_faces = fetch_olivetti_faces(data_home='./face_data')\n",
    "datasets = [(data, lab) for data,lab in zip(torch.tensor(olivetti_faces.data), torch.tensor(olivetti_faces.target))]"
   ]
  },
  {
   "cell_type": "code",
   "execution_count": 12,
   "metadata": {},
   "outputs": [],
   "source": [
    "train_data, test_data = train_test_split(datasets, test_size=0.2)\n",
    "train_dl = DataLoader(train_data, batch_size=32, shuffle=True)"
   ]
  },
  {
   "cell_type": "code",
   "execution_count": 13,
   "metadata": {},
   "outputs": [],
   "source": [
    "LR = 1e-2\n",
    "EPOCHS = 150"
   ]
  },
  {
   "cell_type": "code",
   "execution_count": 14,
   "metadata": {},
   "outputs": [],
   "source": [
    "def model_train_test(model):\n",
    "    print(model)\n",
    "    loss_fn = nn.CrossEntropyLoss()\n",
    "    optimizer = torch.optim.SGD(model.parameters(), lr=LR)\n",
    "    for i in range(EPOCHS):\n",
    "        for x, y in train_dl:\n",
    "            out = model(x)\n",
    "            loss = loss_fn(out, y)\n",
    "            optimizer.zero_grad()\n",
    "            loss.backward()\n",
    "            optimizer.step()\n",
    "        if (i+1) % 10 == 0:\n",
    "            print(f\"Epoch {i+1} loss: {loss.item()}\")\n",
    "    test_dl = DataLoader(test_data, batch_size=32)\n",
    "    correct = 0\n",
    "    total = 0\n",
    "    with torch.no_grad():\n",
    "        for x, y in test_dl:\n",
    "            out = model(x)\n",
    "            pred = torch.max(out, dim=1).indices\n",
    "            total += y.size(0)\n",
    "            correct += (pred == y).sum().item()\n",
    "        print(correct/total)"
   ]
  },
  {
   "cell_type": "code",
   "execution_count": 15,
   "metadata": {},
   "outputs": [
    {
     "name": "stdout",
     "output_type": "stream",
     "text": [
      "MyTorchNN(\n",
      "  (linear1): Linear(in_features=4096, out_features=2048, bias=True)\n",
      "  (linear2): Linear(in_features=2048, out_features=512, bias=True)\n",
      "  (linear3): Linear(in_features=512, out_features=40, bias=True)\n",
      "  (act): Sigmoid()\n",
      ")\n",
      "Epoch 10 loss: 3.6863808631896973\n",
      "Epoch 20 loss: 3.706195116043091\n",
      "Epoch 30 loss: 3.6799144744873047\n",
      "Epoch 40 loss: 3.690176486968994\n",
      "Epoch 50 loss: 3.7053062915802\n",
      "Epoch 60 loss: 3.6753480434417725\n",
      "Epoch 70 loss: 3.730012893676758\n",
      "Epoch 80 loss: 3.747464179992676\n",
      "Epoch 90 loss: 3.6670243740081787\n",
      "Epoch 100 loss: 3.6409754753112793\n",
      "Epoch 110 loss: 3.6903445720672607\n",
      "Epoch 120 loss: 3.685051918029785\n",
      "Epoch 130 loss: 3.6895639896392822\n",
      "Epoch 140 loss: 3.6862666606903076\n",
      "Epoch 150 loss: 3.650583028793335\n",
      "0.0\n"
     ]
    }
   ],
   "source": [
    "# 激活函数使用Sigmoid\n",
    "model1 = MyTorchNN(nn.Sigmoid())\n",
    "model_train_test(model1)"
   ]
  },
  {
   "cell_type": "code",
   "execution_count": 16,
   "metadata": {},
   "outputs": [
    {
     "name": "stdout",
     "output_type": "stream",
     "text": [
      "MyTorchNN(\n",
      "  (linear1): Linear(in_features=4096, out_features=2048, bias=True)\n",
      "  (linear2): Linear(in_features=2048, out_features=512, bias=True)\n",
      "  (linear3): Linear(in_features=512, out_features=40, bias=True)\n",
      "  (act): ReLU()\n",
      ")\n",
      "Epoch 10 loss: 3.6729559898376465\n",
      "Epoch 20 loss: 3.6237881183624268\n",
      "Epoch 30 loss: 3.52656888961792\n",
      "Epoch 40 loss: 3.4969482421875\n",
      "Epoch 50 loss: 3.3700644969940186\n",
      "Epoch 60 loss: 3.25490665435791\n",
      "Epoch 70 loss: 2.8004982471466064\n",
      "Epoch 80 loss: 2.7336175441741943\n",
      "Epoch 90 loss: 2.218996524810791\n",
      "Epoch 100 loss: 1.6435471773147583\n",
      "Epoch 110 loss: 1.7220968008041382\n",
      "Epoch 120 loss: 1.142727017402649\n",
      "Epoch 130 loss: 1.1207741498947144\n",
      "Epoch 140 loss: 0.9978784918785095\n",
      "Epoch 150 loss: 0.6398963928222656\n",
      "0.7625\n"
     ]
    }
   ],
   "source": [
    "# 激活函数使用ReLU\n",
    "model2 = MyTorchNN(nn.ReLU())\n",
    "model_train_test(model2)"
   ]
  },
  {
   "cell_type": "code",
   "execution_count": 17,
   "metadata": {},
   "outputs": [
    {
     "name": "stdout",
     "output_type": "stream",
     "text": [
      "MyTorchNN(\n",
      "  (linear1): Linear(in_features=4096, out_features=2048, bias=True)\n",
      "  (linear2): Linear(in_features=2048, out_features=512, bias=True)\n",
      "  (linear3): Linear(in_features=512, out_features=40, bias=True)\n",
      "  (act): LeakyReLU(negative_slope=0.01)\n",
      ")\n",
      "Epoch 10 loss: 3.627753496170044\n",
      "Epoch 20 loss: 3.601989984512329\n",
      "Epoch 30 loss: 3.545433282852173\n",
      "Epoch 40 loss: 3.424151659011841\n",
      "Epoch 50 loss: 3.3368024826049805\n",
      "Epoch 60 loss: 3.2275924682617188\n",
      "Epoch 70 loss: 2.837883949279785\n",
      "Epoch 80 loss: 2.5818891525268555\n",
      "Epoch 90 loss: 2.0619451999664307\n",
      "Epoch 100 loss: 1.6914341449737549\n",
      "Epoch 110 loss: 1.749488115310669\n",
      "Epoch 120 loss: 1.2109463214874268\n",
      "Epoch 130 loss: 0.9541550874710083\n",
      "Epoch 140 loss: 0.7977380752563477\n",
      "Epoch 150 loss: 0.7588453888893127\n",
      "0.7125\n"
     ]
    }
   ],
   "source": [
    "# 激活函数使用leaky ReLU\n",
    "model3 = MyTorchNN(nn.LeakyReLU())\n",
    "model_train_test(model3)"
   ]
  },
  {
   "cell_type": "code",
   "execution_count": 18,
   "metadata": {},
   "outputs": [
    {
     "name": "stdout",
     "output_type": "stream",
     "text": [
      "MyTorchNN(\n",
      "  (linear1): Linear(in_features=4096, out_features=2048, bias=True)\n",
      "  (linear2): Linear(in_features=2048, out_features=512, bias=True)\n",
      "  (linear3): Linear(in_features=512, out_features=40, bias=True)\n",
      "  (act): Tanh()\n",
      ")\n",
      "Epoch 10 loss: 3.642531394958496\n",
      "Epoch 20 loss: 3.451119899749756\n",
      "Epoch 30 loss: 3.30916166305542\n",
      "Epoch 40 loss: 2.8823750019073486\n",
      "Epoch 50 loss: 2.6426312923431396\n",
      "Epoch 60 loss: 2.1406636238098145\n",
      "Epoch 70 loss: 1.7998460531234741\n",
      "Epoch 80 loss: 1.4507555961608887\n",
      "Epoch 90 loss: 1.2026138305664062\n",
      "Epoch 100 loss: 1.0833070278167725\n",
      "Epoch 110 loss: 0.9464811682701111\n",
      "Epoch 120 loss: 0.781516969203949\n",
      "Epoch 130 loss: 0.5900763869285583\n",
      "Epoch 140 loss: 0.4723603129386902\n",
      "Epoch 150 loss: 0.4502752721309662\n",
      "0.8125\n"
     ]
    }
   ],
   "source": [
    "# 激活函数使用Tanh\n",
    "model4 = MyTorchNN(nn.Tanh())\n",
    "model_train_test(model4)"
   ]
  },
  {
   "cell_type": "code",
   "execution_count": 19,
   "metadata": {},
   "outputs": [
    {
     "name": "stdout",
     "output_type": "stream",
     "text": [
      "MyTorchNN(\n",
      "  (linear1): Linear(in_features=4096, out_features=2048, bias=True)\n",
      "  (linear2): Linear(in_features=2048, out_features=512, bias=True)\n",
      "  (linear3): Linear(in_features=512, out_features=40, bias=True)\n",
      "  (act): Hardswish()\n",
      ")\n",
      "Epoch 10 loss: 3.6522715091705322\n",
      "Epoch 20 loss: 3.6421377658843994\n",
      "Epoch 30 loss: 3.696922779083252\n",
      "Epoch 40 loss: 3.609097480773926\n",
      "Epoch 50 loss: 3.563714027404785\n",
      "Epoch 60 loss: 3.6513917446136475\n",
      "Epoch 70 loss: 3.5876221656799316\n",
      "Epoch 80 loss: 3.512171745300293\n",
      "Epoch 90 loss: 3.4566962718963623\n",
      "Epoch 100 loss: 3.266608715057373\n",
      "Epoch 110 loss: 2.8324832916259766\n",
      "Epoch 120 loss: 2.6181182861328125\n",
      "Epoch 130 loss: 2.1018035411834717\n",
      "Epoch 140 loss: 1.7471659183502197\n",
      "Epoch 150 loss: 1.4902384281158447\n",
      "0.5\n"
     ]
    }
   ],
   "source": [
    "# 激活函数使用swish\n",
    "model5 = MyTorchNN(nn.Hardswish())\n",
    "model_train_test(model5)"
   ]
  }
 ],
 "metadata": {
  "kernelspec": {
   "display_name": "py312",
   "language": "python",
   "name": "python3"
  },
  "language_info": {
   "codemirror_mode": {
    "name": "ipython",
    "version": 3
   },
   "file_extension": ".py",
   "mimetype": "text/x-python",
   "name": "python",
   "nbconvert_exporter": "python",
   "pygments_lexer": "ipython3",
   "version": "3.12.8"
  }
 },
 "nbformat": 4,
 "nbformat_minor": 2
}
