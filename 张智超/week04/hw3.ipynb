{
 "cells": [
  {
   "cell_type": "markdown",
   "metadata": {},
   "source": [
    "##### 尝试不同optimizer对模型进行训练，观察对比loss结果。\n",
    "使用RMSprop优化器，在训练50次左右时，loss可以降到0.0001左右"
   ]
  },
  {
   "cell_type": "code",
   "execution_count": 1,
   "metadata": {},
   "outputs": [],
   "source": [
    "from sklearn.datasets import fetch_olivetti_faces\n",
    "import torch\n",
    "from sklearn.model_selection import train_test_split\n",
    "from torch.utils.data import DataLoader\n",
    "import torch.nn as nn"
   ]
  },
  {
   "cell_type": "code",
   "execution_count": 2,
   "metadata": {},
   "outputs": [],
   "source": [
    "class MyTorchNN(nn.Module):\n",
    "    def __init__(self):\n",
    "        super().__init__()\n",
    "        self.linear1 = nn.Linear(4096, 2048)\n",
    "        self.batchNorm1 = nn.BatchNorm1d(2048)\n",
    "        self.linear2 = nn.Linear(2048, 512)\n",
    "        self.batchNorm2 = nn.BatchNorm1d(512)\n",
    "        self.linear3 = nn.Linear(512, 40)\n",
    "        self.act = nn.Tanh()\n",
    "        self.dropout = nn.Dropout(0.1)\n",
    "\n",
    "    def forward(self, input_tensor):\n",
    "        out = self.linear1(input_tensor)\n",
    "        out = self.batchNorm1(out) # 归一化\n",
    "        out = self.act(out)\n",
    "        out = self.dropout(out) # 正则化\n",
    "        out = self.linear2(out)\n",
    "        out = self.batchNorm2(out) # 归一化\n",
    "        out = self.act(out)\n",
    "        out = self.dropout(out) # 正则化\n",
    "        final = self.linear3(out)\n",
    "        return final"
   ]
  },
  {
   "cell_type": "code",
   "execution_count": 3,
   "metadata": {},
   "outputs": [],
   "source": [
    "olivetti_faces = fetch_olivetti_faces(data_home='./face_data')\n",
    "datasets = [(data, lab) for data,lab in zip(torch.tensor(olivetti_faces.data), torch.tensor(olivetti_faces.target))]"
   ]
  },
  {
   "cell_type": "code",
   "execution_count": 4,
   "metadata": {},
   "outputs": [],
   "source": [
    "train_data, test_data = train_test_split(datasets, test_size=0.2)\n",
    "train_dl = DataLoader(train_data, batch_size=32, shuffle=True)"
   ]
  },
  {
   "cell_type": "code",
   "execution_count": 5,
   "metadata": {},
   "outputs": [],
   "source": [
    "LR = 1e-2\n",
    "EPOCHS = 150"
   ]
  },
  {
   "cell_type": "code",
   "execution_count": 10,
   "metadata": {},
   "outputs": [],
   "source": [
    "def model_train_test(model, optimizer):\n",
    "    print(\"======>\", type(optimizer))\n",
    "    loss_fn = nn.CrossEntropyLoss()\n",
    "    model.train() # 归一化、正则化生效\n",
    "    for i in range(EPOCHS):\n",
    "        for x, y in train_dl:\n",
    "            out = model(x)\n",
    "            loss = loss_fn(out, y)\n",
    "            optimizer.zero_grad()\n",
    "            loss.backward()\n",
    "            optimizer.step()\n",
    "        if (i+1) % 10 == 0:\n",
    "            print(f\"Epoch {i+1} loss: {loss.item()}\")\n",
    "            \n",
    "    test_dl = DataLoader(test_data, batch_size=32)\n",
    "    correct = 0\n",
    "    total = 0\n",
    "    model.eval() # 归一化、正则化不生效\n",
    "    with torch.no_grad():\n",
    "        for x, y in test_dl:\n",
    "            out = model(x)\n",
    "            pred = torch.max(out, dim=1).indices\n",
    "            total += y.size(0)\n",
    "            correct += (pred == y).sum().item()\n",
    "        print(correct/total)"
   ]
  },
  {
   "cell_type": "code",
   "execution_count": 12,
   "metadata": {},
   "outputs": [
    {
     "name": "stdout",
     "output_type": "stream",
     "text": [
      "======> <class 'torch.optim.sgd.SGD'>\n",
      "Epoch 10 loss: 0.20887590944766998\n",
      "Epoch 20 loss: 0.11782942712306976\n",
      "Epoch 30 loss: 0.05995038151741028\n",
      "Epoch 40 loss: 0.038809072226285934\n",
      "Epoch 50 loss: 0.04247087240219116\n",
      "Epoch 60 loss: 0.02686908468604088\n",
      "Epoch 70 loss: 0.02056385949254036\n",
      "Epoch 80 loss: 0.02187480591237545\n",
      "Epoch 90 loss: 0.020156994462013245\n",
      "Epoch 100 loss: 0.014928937889635563\n",
      "Epoch 110 loss: 0.014847781509160995\n",
      "Epoch 120 loss: 0.013830840587615967\n",
      "Epoch 130 loss: 0.011224251240491867\n",
      "Epoch 140 loss: 0.010266399942338467\n",
      "Epoch 150 loss: 0.009852776303887367\n",
      "1.0\n"
     ]
    }
   ],
   "source": [
    "# 优化器使用SGD\n",
    "model1 = MyTorchNN()\n",
    "optimizer1 = torch.optim.SGD(model1.parameters(), lr=LR)\n",
    "model_train_test(model1, optimizer1)"
   ]
  },
  {
   "cell_type": "code",
   "execution_count": 22,
   "metadata": {},
   "outputs": [
    {
     "name": "stdout",
     "output_type": "stream",
     "text": [
      "======> <class 'torch.optim.rmsprop.RMSprop'>\n",
      "Epoch 10 loss: 0.035026177763938904\n",
      "Epoch 20 loss: 0.2037833333015442\n",
      "Epoch 30 loss: 0.0005376567714847624\n",
      "Epoch 40 loss: 0.0001555976050440222\n",
      "Epoch 50 loss: 0.00010971107985824347\n",
      "Epoch 60 loss: 0.00017484942509327084\n",
      "Epoch 70 loss: 3.581593409762718e-05\n",
      "Epoch 80 loss: 0.03440999239683151\n",
      "Epoch 90 loss: 0.0010026624659076333\n",
      "Epoch 100 loss: 0.00044648515176959336\n",
      "Epoch 110 loss: 0.0013121808879077435\n",
      "Epoch 120 loss: 0.00027923195739276707\n",
      "Epoch 130 loss: 3.217717676307075e-05\n",
      "Epoch 140 loss: 0.009920645505189896\n",
      "Epoch 150 loss: 0.0008343622321262956\n",
      "0.8125\n"
     ]
    }
   ],
   "source": [
    "# 优化器使用RMSprop\n",
    "model2 = MyTorchNN()\n",
    "optimizer2 = torch.optim.RMSprop(model2.parameters(), lr=LR)\n",
    "model_train_test(model2, optimizer2)"
   ]
  },
  {
   "cell_type": "code",
   "execution_count": 20,
   "metadata": {},
   "outputs": [
    {
     "name": "stdout",
     "output_type": "stream",
     "text": [
      "======> <class 'torch.optim.adam.Adam'>\n",
      "Epoch 10 loss: 0.00620283093303442\n",
      "Epoch 20 loss: 0.0033291650470346212\n",
      "Epoch 30 loss: 0.0017179101705551147\n",
      "Epoch 40 loss: 0.0010761336889117956\n",
      "Epoch 50 loss: 0.0017936397343873978\n",
      "Epoch 60 loss: 0.0006151125999167562\n",
      "Epoch 70 loss: 0.0002807878772728145\n",
      "Epoch 80 loss: 0.00015354283095803112\n",
      "Epoch 90 loss: 0.00013325491454452276\n",
      "Epoch 100 loss: 0.00025626429123803973\n",
      "Epoch 110 loss: 0.00010698313417378813\n",
      "Epoch 120 loss: 0.016146689653396606\n",
      "Epoch 130 loss: 0.17505022883415222\n",
      "Epoch 140 loss: 4.6006671254872344e-06\n",
      "Epoch 150 loss: 3.516989454510622e-05\n",
      "0.95\n"
     ]
    }
   ],
   "source": [
    "# 优化器使用Adam\n",
    "model3 = MyTorchNN()\n",
    "optimizer3 = torch.optim.Adam(model3.parameters(), lr=LR)\n",
    "model_train_test(model3, optimizer3)"
   ]
  },
  {
   "cell_type": "code",
   "execution_count": 21,
   "metadata": {},
   "outputs": [
    {
     "name": "stdout",
     "output_type": "stream",
     "text": [
      "======> <class 'torch.optim.adamw.AdamW'>\n",
      "Epoch 10 loss: 0.051093075424432755\n",
      "Epoch 20 loss: 0.01029511820524931\n",
      "Epoch 30 loss: 0.0007972782477736473\n",
      "Epoch 40 loss: 0.000995403272099793\n",
      "Epoch 50 loss: 0.0019867916125804186\n",
      "Epoch 60 loss: 0.00048064024304039776\n",
      "Epoch 70 loss: 0.000287108268821612\n",
      "Epoch 80 loss: 0.00026440314832143486\n",
      "Epoch 90 loss: 0.0022210844326764345\n",
      "Epoch 100 loss: 0.00025398394791409373\n",
      "Epoch 110 loss: 0.0005125068710185587\n",
      "Epoch 120 loss: 9.761198452906683e-05\n",
      "Epoch 130 loss: 0.00014167251356411725\n",
      "Epoch 140 loss: 0.00040922677726484835\n",
      "Epoch 150 loss: 0.00010953166201943532\n",
      "0.95\n"
     ]
    }
   ],
   "source": [
    "# 优化器使用Adamw\n",
    "model4 = MyTorchNN()\n",
    "optimizer4 = torch.optim.AdamW(model4.parameters(), lr=LR)\n",
    "model_train_test(model4, optimizer4)"
   ]
  }
 ],
 "metadata": {
  "kernelspec": {
   "display_name": "py312",
   "language": "python",
   "name": "python3"
  },
  "language_info": {
   "codemirror_mode": {
    "name": "ipython",
    "version": 3
   },
   "file_extension": ".py",
   "mimetype": "text/x-python",
   "name": "python",
   "nbconvert_exporter": "python",
   "pygments_lexer": "ipython3",
   "version": "3.12.8"
  }
 },
 "nbformat": 4,
 "nbformat_minor": 2
}
