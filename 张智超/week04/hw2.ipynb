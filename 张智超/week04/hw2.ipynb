{
 "cells": [
  {
   "cell_type": "markdown",
   "metadata": {},
   "source": [
    "##### 结合归一化和正则化来优化网络模型结构，观察对比loss结果。\n",
    "使用Dropout(p=0.1)"
   ]
  },
  {
   "cell_type": "code",
   "execution_count": 1,
   "metadata": {},
   "outputs": [],
   "source": [
    "from sklearn.datasets import fetch_olivetti_faces\n",
    "import torch\n",
    "from sklearn.model_selection import train_test_split\n",
    "from torch.utils.data import DataLoader\n",
    "import torch.nn as nn"
   ]
  },
  {
   "cell_type": "code",
   "execution_count": 2,
   "metadata": {},
   "outputs": [],
   "source": [
    "class MyTorchNN(nn.Module):\n",
    "    def __init__(self, dp):\n",
    "        super().__init__()\n",
    "        self.linear1 = nn.Linear(4096, 2048)\n",
    "        self.batchNorm1 = nn.BatchNorm1d(2048)\n",
    "        self.linear2 = nn.Linear(2048, 512)\n",
    "        self.batchNorm2 = nn.BatchNorm1d(512)\n",
    "        self.linear3 = nn.Linear(512, 40)\n",
    "        self.act = nn.Tanh()\n",
    "        self.dropout = nn.Dropout(dp)\n",
    "\n",
    "    def forward(self, input_tensor):\n",
    "        out = self.linear1(input_tensor)\n",
    "        out = self.batchNorm1(out) # 归一化\n",
    "        out = self.act(out)\n",
    "        out = self.dropout(out) # 正则化\n",
    "        out = self.linear2(out)\n",
    "        out = self.batchNorm2(out) # 归一化\n",
    "        out = self.act(out)\n",
    "        out = self.dropout(out) # 正则化\n",
    "        final = self.linear3(out)\n",
    "        return final"
   ]
  },
  {
   "cell_type": "code",
   "execution_count": 3,
   "metadata": {},
   "outputs": [],
   "source": [
    "olivetti_faces = fetch_olivetti_faces(data_home='./face_data')\n",
    "datasets = [(data, lab) for data,lab in zip(torch.tensor(olivetti_faces.data), torch.tensor(olivetti_faces.target))]"
   ]
  },
  {
   "cell_type": "code",
   "execution_count": 4,
   "metadata": {},
   "outputs": [],
   "source": [
    "train_data, test_data = train_test_split(datasets, test_size=0.2)\n",
    "train_dl = DataLoader(train_data, batch_size=32, shuffle=True)"
   ]
  },
  {
   "cell_type": "code",
   "execution_count": 9,
   "metadata": {},
   "outputs": [],
   "source": [
    "LR = 1e-2\n",
    "EPOCHS = 150\n",
    "DP = [0.1, 0.3, 0.5, 0.7]"
   ]
  },
  {
   "cell_type": "code",
   "execution_count": 6,
   "metadata": {},
   "outputs": [],
   "source": [
    "def model_train_test(model):\n",
    "    print(model)\n",
    "    loss_fn = nn.CrossEntropyLoss()\n",
    "    optimizer = torch.optim.SGD(model.parameters(), lr=LR)\n",
    "    model.train() # 归一化、正则化生效\n",
    "    for i in range(EPOCHS):\n",
    "        for x, y in train_dl:\n",
    "            out = model(x)\n",
    "            loss = loss_fn(out, y)\n",
    "            optimizer.zero_grad()\n",
    "            loss.backward()\n",
    "            optimizer.step()\n",
    "        if (i+1) % 10 == 0:\n",
    "            print(f\"Epoch {i+1} loss: {loss.item()}\")\n",
    "            \n",
    "    test_dl = DataLoader(test_data, batch_size=32)\n",
    "    correct = 0\n",
    "    total = 0\n",
    "    model.eval() # 归一化、正则化不生效\n",
    "    with torch.no_grad():\n",
    "        for x, y in test_dl:\n",
    "            out = model(x)\n",
    "            pred = torch.max(out, dim=1).indices\n",
    "            total += y.size(0)\n",
    "            correct += (pred == y).sum().item()\n",
    "        print(correct/total)"
   ]
  },
  {
   "cell_type": "code",
   "execution_count": 10,
   "metadata": {},
   "outputs": [
    {
     "name": "stdout",
     "output_type": "stream",
     "text": [
      "MyTorchNN(\n",
      "  (linear1): Linear(in_features=4096, out_features=2048, bias=True)\n",
      "  (batchNorm1): BatchNorm1d(2048, eps=1e-05, momentum=0.1, affine=True, track_running_stats=True)\n",
      "  (linear2): Linear(in_features=2048, out_features=512, bias=True)\n",
      "  (batchNorm2): BatchNorm1d(512, eps=1e-05, momentum=0.1, affine=True, track_running_stats=True)\n",
      "  (linear3): Linear(in_features=512, out_features=40, bias=True)\n",
      "  (act): Tanh()\n",
      "  (dropout): Dropout(p=0.1, inplace=False)\n",
      ")\n",
      "Epoch 10 loss: 0.2250312864780426\n",
      "Epoch 20 loss: 0.09079863876104355\n",
      "Epoch 30 loss: 0.05426532030105591\n",
      "Epoch 40 loss: 0.04481801390647888\n",
      "Epoch 50 loss: 0.034069597721099854\n",
      "Epoch 60 loss: 0.02425672672688961\n",
      "Epoch 70 loss: 0.02534124255180359\n",
      "Epoch 80 loss: 0.02078363485634327\n",
      "Epoch 90 loss: 0.019974078983068466\n",
      "Epoch 100 loss: 0.014581501483917236\n",
      "Epoch 110 loss: 0.014908287674188614\n",
      "Epoch 120 loss: 0.011505710892379284\n",
      "Epoch 130 loss: 0.011984811164438725\n",
      "Epoch 140 loss: 0.013230388052761555\n",
      "Epoch 150 loss: 0.011295147240161896\n",
      "0.9875\n",
      "MyTorchNN(\n",
      "  (linear1): Linear(in_features=4096, out_features=2048, bias=True)\n",
      "  (batchNorm1): BatchNorm1d(2048, eps=1e-05, momentum=0.1, affine=True, track_running_stats=True)\n",
      "  (linear2): Linear(in_features=2048, out_features=512, bias=True)\n",
      "  (batchNorm2): BatchNorm1d(512, eps=1e-05, momentum=0.1, affine=True, track_running_stats=True)\n",
      "  (linear3): Linear(in_features=512, out_features=40, bias=True)\n",
      "  (act): Tanh()\n",
      "  (dropout): Dropout(p=0.3, inplace=False)\n",
      ")\n",
      "Epoch 10 loss: 0.331056147813797\n",
      "Epoch 20 loss: 0.12987610697746277\n",
      "Epoch 30 loss: 0.07662435621023178\n",
      "Epoch 40 loss: 0.0469047948718071\n",
      "Epoch 50 loss: 0.05565106123685837\n",
      "Epoch 60 loss: 0.03396092355251312\n",
      "Epoch 70 loss: 0.027405401691794395\n",
      "Epoch 80 loss: 0.025955364108085632\n",
      "Epoch 90 loss: 0.021011654287576675\n",
      "Epoch 100 loss: 0.020261919125914574\n",
      "Epoch 110 loss: 0.018858645111322403\n",
      "Epoch 120 loss: 0.020040618255734444\n",
      "Epoch 130 loss: 0.01535850390791893\n",
      "Epoch 140 loss: 0.01190954353660345\n",
      "Epoch 150 loss: 0.015365839004516602\n",
      "0.9625\n",
      "MyTorchNN(\n",
      "  (linear1): Linear(in_features=4096, out_features=2048, bias=True)\n",
      "  (batchNorm1): BatchNorm1d(2048, eps=1e-05, momentum=0.1, affine=True, track_running_stats=True)\n",
      "  (linear2): Linear(in_features=2048, out_features=512, bias=True)\n",
      "  (batchNorm2): BatchNorm1d(512, eps=1e-05, momentum=0.1, affine=True, track_running_stats=True)\n",
      "  (linear3): Linear(in_features=512, out_features=40, bias=True)\n",
      "  (act): Tanh()\n",
      "  (dropout): Dropout(p=0.5, inplace=False)\n",
      ")\n",
      "Epoch 10 loss: 0.630036473274231\n",
      "Epoch 20 loss: 0.20380283892154694\n",
      "Epoch 30 loss: 0.1281893253326416\n",
      "Epoch 40 loss: 0.10038675367832184\n",
      "Epoch 50 loss: 0.07845407724380493\n",
      "Epoch 60 loss: 0.05273475497961044\n",
      "Epoch 70 loss: 0.05133182182908058\n",
      "Epoch 80 loss: 0.03509635478258133\n",
      "Epoch 90 loss: 0.032069265842437744\n",
      "Epoch 100 loss: 0.021731821820139885\n",
      "Epoch 110 loss: 0.03311334550380707\n",
      "Epoch 120 loss: 0.019445903599262238\n",
      "Epoch 130 loss: 0.021425992250442505\n",
      "Epoch 140 loss: 0.02300219051539898\n",
      "Epoch 150 loss: 0.01822119764983654\n",
      "0.975\n",
      "MyTorchNN(\n",
      "  (linear1): Linear(in_features=4096, out_features=2048, bias=True)\n",
      "  (batchNorm1): BatchNorm1d(2048, eps=1e-05, momentum=0.1, affine=True, track_running_stats=True)\n",
      "  (linear2): Linear(in_features=2048, out_features=512, bias=True)\n",
      "  (batchNorm2): BatchNorm1d(512, eps=1e-05, momentum=0.1, affine=True, track_running_stats=True)\n",
      "  (linear3): Linear(in_features=512, out_features=40, bias=True)\n",
      "  (act): Tanh()\n",
      "  (dropout): Dropout(p=0.7, inplace=False)\n",
      ")\n",
      "Epoch 10 loss: 1.1320730447769165\n",
      "Epoch 20 loss: 0.6327599287033081\n",
      "Epoch 30 loss: 0.2765718102455139\n",
      "Epoch 40 loss: 0.15432113409042358\n",
      "Epoch 50 loss: 0.09621385484933853\n",
      "Epoch 60 loss: 0.08691209554672241\n",
      "Epoch 70 loss: 0.07806725800037384\n",
      "Epoch 80 loss: 0.0624871589243412\n",
      "Epoch 90 loss: 0.0683148056268692\n",
      "Epoch 100 loss: 0.042300138622522354\n",
      "Epoch 110 loss: 0.045347005128860474\n",
      "Epoch 120 loss: 0.044709213078022\n",
      "Epoch 130 loss: 0.03672299161553383\n",
      "Epoch 140 loss: 0.02815193682909012\n",
      "Epoch 150 loss: 0.02739720605313778\n",
      "0.9875\n"
     ]
    }
   ],
   "source": [
    "for dp in DP:\n",
    "    model = MyTorchNN(dp)\n",
    "    model_train_test(model)"
   ]
  }
 ],
 "metadata": {
  "kernelspec": {
   "display_name": "py312",
   "language": "python",
   "name": "python3"
  },
  "language_info": {
   "codemirror_mode": {
    "name": "ipython",
    "version": 3
   },
   "file_extension": ".py",
   "mimetype": "text/x-python",
   "name": "python",
   "nbconvert_exporter": "python",
   "pygments_lexer": "ipython3",
   "version": "3.12.8"
  }
 },
 "nbformat": 4,
 "nbformat_minor": 2
}
