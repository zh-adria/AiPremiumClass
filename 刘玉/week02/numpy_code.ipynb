{
 "cells": [
  {
   "cell_type": "code",
   "execution_count": 109,
   "metadata": {},
   "outputs": [
    {
     "data": {
      "text/plain": [
       "array([1, 2, 3])"
      ]
     },
     "execution_count": 109,
     "metadata": {},
     "output_type": "execute_result"
    }
   ],
   "source": [
    "import numpy as np\n",
    "\n",
    "a = [1,2,3]\n",
    "b=np.array(a)\n",
    "b"
   ]
  },
  {
   "cell_type": "code",
   "execution_count": 129,
   "metadata": {},
   "outputs": [
    {
     "data": {
      "text/plain": [
       "array([1., 2., 3.])"
      ]
     },
     "execution_count": 129,
     "metadata": {},
     "output_type": "execute_result"
    }
   ],
   "source": [
    "a1 = np.array([1,2,3], float)\n",
    "a1\n"
   ]
  },
  {
   "cell_type": "code",
   "execution_count": 130,
   "metadata": {},
   "outputs": [
    {
     "data": {
      "text/plain": [
       "array([[1, 2, 3],\n",
       "       [4, 5, 6],\n",
       "       [7, 8, 9]])"
      ]
     },
     "execution_count": 130,
     "metadata": {},
     "output_type": "execute_result"
    }
   ],
   "source": [
    "a2 = np.array([(1,2,3), (4,5,6), (7,8,9)])\n",
    "a2\n"
   ]
  },
  {
   "cell_type": "code",
   "execution_count": 131,
   "metadata": {},
   "outputs": [
    {
     "data": {
      "text/plain": [
       "array([[0., 0., 0.],\n",
       "       [0., 0., 0.]])"
      ]
     },
     "execution_count": 131,
     "metadata": {},
     "output_type": "execute_result"
    }
   ],
   "source": [
    "# 特殊数组创建\n",
    "a3 = np.zeros((2,3), dtype = float)\n",
    "a3\n"
   ]
  },
  {
   "cell_type": "code",
   "execution_count": 132,
   "metadata": {},
   "outputs": [
    {
     "data": {
      "text/plain": [
       "array([[1., 1., 1.],\n",
       "       [1., 1., 1.],\n",
       "       [1., 1., 1.]])"
      ]
     },
     "execution_count": 132,
     "metadata": {},
     "output_type": "execute_result"
    }
   ],
   "source": [
    "# 创建一个全为1的数组\n",
    "a4 =  np.ones((3, 3))\n",
    "a4"
   ]
  },
  {
   "cell_type": "code",
   "execution_count": 133,
   "metadata": {},
   "outputs": [
    {
     "data": {
      "text/plain": [
       "array([1. , 1.5, 2. , 2.5, 3. , 3.5, 4. , 4.5])"
      ]
     },
     "execution_count": 133,
     "metadata": {},
     "output_type": "execute_result"
    }
   ],
   "source": [
    "# 等差数列\n",
    "a5 = np.arange(1, 5, 0.5)\n",
    "a5\n"
   ]
  },
  {
   "cell_type": "code",
   "execution_count": 134,
   "metadata": {},
   "outputs": [
    {
     "data": {
      "text/plain": [
       "array([[1., 0., 0.],\n",
       "       [0., 1., 0.],\n",
       "       [0., 0., 1.]])"
      ]
     },
     "execution_count": 134,
     "metadata": {},
     "output_type": "execute_result"
    }
   ],
   "source": [
    "# 单位矩阵\n",
    "a6 = np.eye(3)\n",
    "a6"
   ]
  },
  {
   "cell_type": "code",
   "execution_count": 135,
   "metadata": {},
   "outputs": [
    {
     "data": {
      "text/plain": [
       "array([-0.03147279, -0.04196463, -0.13094255,  0.01513747,  0.12733112])"
      ]
     },
     "execution_count": 135,
     "metadata": {},
     "output_type": "execute_result"
    }
   ],
   "source": [
    "# ⽣成随机数组，指定其均值为 0，标准差为 0.1：\n",
    "np.random.normal(0, 0.1, 5)"
   ]
  },
  {
   "cell_type": "code",
   "execution_count": 136,
   "metadata": {},
   "outputs": [
    {
     "name": "stdout",
     "output_type": "stream",
     "text": [
      "[[1 2]\n",
      " [3 4]\n",
      " [5 6]]\n",
      "------------------\n",
      "[[3 4]\n",
      " [5 6]]\n",
      "------------------\n",
      "[[1 2]]\n",
      "------------------\n",
      "[[1]\n",
      " [3]\n",
      " [5]]\n"
     ]
    }
   ],
   "source": [
    "# numpy数组访问\n",
    "a = np.array([(1,2), (3,4), (5,6)])\n",
    "print(a)\n",
    "print(\"------------------\")\n",
    "print(a[1:])\n",
    "print(\"------------------\")\n",
    "print(a[:1])\n",
    "print(\"------------------\")\n",
    "print(a[:,:1])\n"
   ]
  },
  {
   "cell_type": "code",
   "execution_count": 137,
   "metadata": {},
   "outputs": [
    {
     "name": "stdout",
     "output_type": "stream",
     "text": [
      "1\n",
      "2\n",
      "3\n",
      "------------------\n",
      "2\n",
      "12\n",
      "30\n"
     ]
    }
   ],
   "source": [
    "# NumPy 数组的遍历\n",
    "a = np.array([1,2,3])\n",
    "for i in a:\n",
    "    print(i)\n",
    "\n",
    "print(\"------------------\")\n",
    "# 多维数组的遍历：\n",
    "a2 = np.array([(1,2), (3,4), (5,6)])\n",
    "for i,j in a2:\n",
    "    print(i*j)\n"
   ]
  },
  {
   "cell_type": "code",
   "execution_count": 138,
   "metadata": {},
   "outputs": [
    {
     "name": "stdout",
     "output_type": "stream",
     "text": [
      "ndim: 2\n",
      "shape: (3, 3)\n",
      "size 9\n",
      "dtype int32\n"
     ]
    }
   ],
   "source": [
    "# NumPy 数组的常⽤属性\n",
    "a = np.array([(1,2,3), (4,5,6), (7,8,9)])\n",
    "print(\"ndim:\", a.ndim)\n",
    "print(\"shape:\", a.shape)\n",
    "print(\"size\", a.size)\n",
    "print(\"dtype\", a.dtype)"
   ]
  },
  {
   "cell_type": "code",
   "execution_count": 139,
   "metadata": {},
   "outputs": [
    {
     "name": "stdout",
     "output_type": "stream",
     "text": [
      "True\n",
      "False\n",
      "------------------\n",
      "[[[0. 0. 0. 0.]\n",
      "  [0. 0. 0. 0.]\n",
      "  [0. 0. 0. 0.]]\n",
      "\n",
      " [[0. 0. 0. 0.]\n",
      "  [0. 0. 0. 0.]\n",
      "  [0. 0. 0. 0.]]]\n",
      "------------------\n",
      "[[1 2 3]\n",
      " [4 5 6]\n",
      " [7 8 9]]\n",
      "[[1 4 7]\n",
      " [2 5 8]\n",
      " [3 6 9]]\n",
      "------------------\n",
      "[[1 2 3]\n",
      " [4 5 6]\n",
      " [7 8 9]]\n",
      "[[1 4 7]\n",
      " [2 5 8]\n",
      " [3 6 9]]\n",
      "------------------\n",
      "af.flatten()= [ 1 21 32  4 54 68]\n",
      "------------------\n",
      "(3, 3, 1)\n"
     ]
    }
   ],
   "source": [
    "# NumPy 数组的基本操作\n",
    "# in :检测数值是否在数组中\n",
    "a = np.array([(1,2), (3,4)])\n",
    "print(3 in a)\n",
    "print(5 in a)\n",
    "\n",
    "print(\"------------------\")\n",
    "\n",
    "# reshape : 数组的重排列\n",
    "ar = np.zeros([2,3,4])\n",
    "print(ar)\n",
    "ar.reshape(24)\n",
    "print(\"------------------\")\n",
    "\n",
    "# tanspose ：转置 (可以直接.T）\n",
    "at = np.array([(1,2,3), (4,5,6), (7,8,9)])\n",
    "print(at)\n",
    "print(at.transpose())\n",
    "print(\"------------------\")\n",
    "at1 = np.array([(1,2,3), (4,5,6), (7,8,9)])\n",
    "print(at1)\n",
    "print(at1.T)\n",
    "print(\"------------------\")\n",
    "\n",
    "# flatten : 把多维数组转换为⼀维数组\n",
    "af = np.array([(1,21), (32,4), (54,68)])\n",
    "print(\"af.flatten()=\",af.flatten())\n",
    "print(\"------------------\")\n",
    "\n",
    "# newaxis : 增加维度\n",
    "an = np.array([(1,2,3), (4,5,6), (7,8,9)])\n",
    "an = an[:,:,np.newaxis]\n",
    "print(an.shape)\n",
    "\n"
   ]
  },
  {
   "cell_type": "code",
   "execution_count": 140,
   "metadata": {},
   "outputs": [
    {
     "name": "stdout",
     "output_type": "stream",
     "text": [
      "[[1. 1.]\n",
      " [1. 1.]]\n",
      "------------------\n",
      "[[-1  2]\n",
      " [-1  3]]\n",
      "------------------\n",
      "[[0. 3.]\n",
      " [0. 4.]]\n",
      "------------------\n",
      "[[ 2. -1.]\n",
      " [ 2. -2.]]\n",
      "------------------\n",
      "[[-1.  2.]\n",
      " [-1.  3.]]\n",
      "------------------\n",
      "[[-1.          0.5       ]\n",
      " [-1.          0.33333333]]\n",
      "------------------\n"
     ]
    }
   ],
   "source": [
    "# NumPy 数组的数学操作\n",
    "a = np.ones((2,2))\n",
    "b = np.array([(-1,2),(-1,3)])\n",
    "print(a)\n",
    "print(\"------------------\")\n",
    "print(b)\n",
    "print(\"------------------\")\n",
    "print(a+b)\n",
    "print(\"------------------\")\n",
    "print(a-b)\n",
    "print(\"------------------\")\n",
    "print(a*b)\n",
    "print(\"------------------\")\n",
    "print(a/b)\n",
    "print(\"------------------\")\n"
   ]
  },
  {
   "cell_type": "code",
   "execution_count": 141,
   "metadata": {},
   "outputs": [
    {
     "name": "stdout",
     "output_type": "stream",
     "text": [
      "4\n",
      "2\n"
     ]
    }
   ],
   "source": [
    "# 求和、求积\n",
    "a = np.array([1,2,1])\n",
    "print(a.sum())\n",
    "\n",
    "print(a.prod())"
   ]
  },
  {
   "cell_type": "code",
   "execution_count": 142,
   "metadata": {},
   "outputs": [
    {
     "name": "stdout",
     "output_type": "stream",
     "text": [
      "mean: 3.0\n",
      "var: 2.6666666666666665\n",
      "std: 1.632993161855452\n",
      "max: 5\n",
      "min: 1\n"
     ]
    }
   ],
   "source": [
    "# 平均数，⽅差，标准差，最⼤值，最⼩值\n",
    "a = np.array([5,3,1])\n",
    "print(\"mean:\",a.mean())\n",
    "print(\"var:\", a.var())\n",
    "print(\"std:\", a.std())\n",
    "\n",
    "print(\"max:\", a.max())\n",
    "print(\"min:\", a.min())"
   ]
  },
  {
   "cell_type": "code",
   "execution_count": 143,
   "metadata": {},
   "outputs": [
    {
     "name": "stdout",
     "output_type": "stream",
     "text": [
      "最⼤值索引 argmax: 2\n",
      "最小值索引 argmin: 0\n",
      "向上取整 ceil: [2. 4. 5.]\n",
      "向下取整 floor: [1. 3. 4.]\n",
      "四舍五入 rint: [1. 4. 5.]\n"
     ]
    }
   ],
   "source": [
    "# 最⼤与最⼩值对应的索引值：argmax,argmin\n",
    "# 取元素值上限，下限\n",
    "a = np.array([1.2, 3.8, 4.9])\n",
    "print(\"最⼤值索引 argmax:\", a.argmax())\n",
    "print(\"最小值索引 argmin:\", a.argmin())\n",
    "print(\"向上取整 ceil:\", np.ceil(a))\n",
    "print(\"向下取整 floor:\", np.floor(a))\n",
    "print(\"四舍五入 rint:\", np.rint(a))"
   ]
  },
  {
   "cell_type": "code",
   "execution_count": 144,
   "metadata": {},
   "outputs": [
    {
     "name": "stdout",
     "output_type": "stream",
     "text": [
      "排序  [12 16 22 28 31 31 48]\n"
     ]
    }
   ],
   "source": [
    "# 排序\n",
    "a = np.array([16,31,12,28,22,31,48])\n",
    "a.sort()\n",
    "print(\"排序 \",a)"
   ]
  },
  {
   "cell_type": "code",
   "execution_count": 145,
   "metadata": {},
   "outputs": [
    {
     "name": "stdout",
     "output_type": "stream",
     "text": [
      "矩阵 1:\n",
      "[[1. 2.]\n",
      " [3. 4.]]\n",
      "矩阵 2:\n",
      "[[5. 6.]\n",
      " [7. 8.]]\n",
      "使⽤ np.dot 得到的矩阵乘法结果  [[19. 22.]\n",
      " [43. 50.]]\n",
      "使⽤ @ 运算符进⾏矩阵乘法  [[19. 22.]\n",
      " [43. 50.]]\n"
     ]
    }
   ],
   "source": [
    "# NumPy 线性代数\n",
    "# dot 矩阵乘法\n",
    "m1 = np.array([[1, 2], [3, 4]], dtype=np.float32)\n",
    "m2 = np.array([[5, 6], [7, 8]], dtype=np.float32)\n",
    "print(\"矩阵 1:\")\n",
    "print(m1)\n",
    "print(\"矩阵 2:\")\n",
    "print(m2)\n",
    "# 使⽤ np.dot 进⾏矩阵乘法\n",
    "result_dot = np.dot(m1, m2)\n",
    "print(\"使⽤ np.dot 得到的矩阵乘法结果 \",result_dot)\n",
    "# 使⽤ @ 运算符进⾏矩阵乘法\n",
    "result_at = m1 @ m2\n",
    "print(\"使⽤ @ 运算符进⾏矩阵乘法 \",result_at)"
   ]
  },
  {
   "cell_type": "code",
   "execution_count": 146,
   "metadata": {},
   "outputs": [
    {
     "name": "stdout",
     "output_type": "stream",
     "text": [
      "1.0 * 5.0 = 5.0\n",
      "结果矩阵[1,1]:5.0\n",
      "\n",
      "2.0 * 7.0 = 14.0\n",
      "结果矩阵[1,1]:19.0\n",
      "\n",
      "1.0 * 6.0 = 6.0\n",
      "结果矩阵[1,2]:6.0\n",
      "\n",
      "2.0 * 8.0 = 16.0\n",
      "结果矩阵[1,2]:22.0\n",
      "\n",
      "3.0 * 5.0 = 15.0\n",
      "结果矩阵[2,1]:15.0\n",
      "\n",
      "4.0 * 7.0 = 28.0\n",
      "结果矩阵[2,1]:43.0\n",
      "\n",
      "3.0 * 6.0 = 18.0\n",
      "结果矩阵[2,2]:18.0\n",
      "\n",
      "4.0 * 8.0 = 32.0\n",
      "结果矩阵[2,2]:50.0\n",
      "\n",
      "⼿动推演结果: [[19. 22.]\n",
      " [43. 50.]]\n"
     ]
    }
   ],
   "source": [
    "# 全零矩阵储⼿动推演\n",
    "# 结果矩阵的⾏数等于 matrix1 的⾏数，列数等于 matrix2 的列数\n",
    "manual_result = np.zeros((m1.shape[0], m2.shape[1]), dtype=np.float32)\n",
    "# 外层循环：遍历 matrix1 的每⼀⾏\n",
    "# i 表⽰结果矩阵的⾏索引\n",
    "for i in range(m1.shape[0]):\n",
    "    # 中层循环：遍历 matrix2 的每⼀列 j 表⽰结果矩阵的列索引\n",
    "    for j in range(m2.shape[1]):\n",
    "        # 初始化当前位置的结果为 0\n",
    "        manual_result[i, j] = 0\n",
    "        # 内层循环：计算 matrix1 的第 i ⾏与 matrix2 的第 j 列对应元素的乘积之和; k 表⽰参与乘法运算的元素索引\n",
    "        for k in range(m1.shape[1]):\n",
    "            # 打印当前正在计算的元素\n",
    "            print(f\"{m1[i, k]} * {m2[k, j]} = {m1[i, k] * m2[k, j]}\")\n",
    "            # 将 matrix1 的第 i ⾏第 k 列元素与 matrix2 的第 k ⾏第 j 列元素相乘，并累\n",
    "            manual_result[i, j] += m1[i, k] * m2[k, j]\n",
    "            # 打印当前位置计算完成后的结果\n",
    "            print(f\"结果矩阵[{i+1},{j+1}]:{manual_result[i, j]}\\n\")\n",
    "\n",
    "print(\"⼿动推演结果:\" , manual_result)"
   ]
  },
  {
   "cell_type": "code",
   "execution_count": 147,
   "metadata": {},
   "outputs": [
    {
     "name": "stdout",
     "output_type": "stream",
     "text": [
      "[5 7 9]\n",
      "------------------\n",
      "[[0 3]\n",
      " [1 3]\n",
      " [2 4]\n",
      " [3 5]]\n",
      "------------------\n"
     ]
    }
   ],
   "source": [
    "# NumPy ⼴播机制\n",
    "# ⼴播 (Broadcast) 是 numpy 对不同形状 (shape) 的数组进⾏数值计算的⽅式，对数组的算术运算通常在相应的元素上进⾏。\n",
    "# 如果两个数组 a 和 b 形状相同，即满⾜a.shape == b.shape，那么 a*b 的结果就是 a 与 b 数组对应位相乘。这要求维数相同，且各维度的⻓度相同\n",
    "\n",
    "a = np.array([1,2,3])\n",
    "b = np.array([4,5,6])\n",
    "print(a + b)\n",
    "print(\"------------------\")\n",
    "\n",
    "# 当运算中的 2 个数组的形状不同时，numpy 将⾃动触发⼴播机制\n",
    "a1 = np.array([(1,2), (2,2), (3,3), (4,4)]) # shape(4,2)\n",
    "b1 = np.array([-1,1]) # shape(2)-> shape(1,2) -> shape(4,2) [ -1,1],[-1,1],[-1,1],[-1\n",
    "a1 + b1\n",
    "print(a1 + b1)\n",
    "print(\"------------------\")\n"
   ]
  }
 ],
 "metadata": {
  "kernelspec": {
   "display_name": "myenv1",
   "language": "python",
   "name": "python3"
  },
  "language_info": {
   "codemirror_mode": {
    "name": "ipython",
    "version": 3
   },
   "file_extension": ".py",
   "mimetype": "text/x-python",
   "name": "python",
   "nbconvert_exporter": "python",
   "pygments_lexer": "ipython3",
   "version": "3.12.9"
  }
 },
 "nbformat": 4,
 "nbformat_minor": 2
}
