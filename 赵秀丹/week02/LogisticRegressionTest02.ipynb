{
 "cells": [
  {
   "cell_type": "code",
   "execution_count": 55,
   "metadata": {},
   "outputs": [],
   "source": [
    "##测试模型\n",
    "###2、前向计算\n",
    "import numpy as np\n",
    "def forward(x,theta,bias):\n",
    "    z=np.dot(theta,x.T)+bias \n",
    "    ##sigmoid\n",
    "    y_hat=1/(1+np.exp(-z))\n",
    "    return y_hat\n",
    "\n",
    " \n"
   ]
  },
  {
   "cell_type": "code",
   "execution_count": 68,
   "metadata": {},
   "outputs": [
    {
     "name": "stdout",
     "output_type": "stream",
     "text": [
      "test_y:[[1]\n",
      " [1]\n",
      " [0]\n",
      " [0]\n",
      " [0]\n",
      " [0]\n",
      " [1]\n",
      " [1]\n",
      " [1]\n",
      " [0]\n",
      " [1]\n",
      " [1]\n",
      " [1]\n",
      " [0]\n",
      " [1]\n",
      " [0]\n",
      " [1]\n",
      " [0]\n",
      " [0]\n",
      " [1]]\n",
      "reshape test_y:[[1 1 0 0 0 0 1 1 1 0 1 1 1 0 1 0 1 0 0 1]]\n",
      "test_x:[[6.3 2.3 4.4 1.3]\n",
      " [5.8 2.6 4.  1.2]\n",
      " [4.8 3.  1.4 0.3]\n",
      " [5.4 3.4 1.7 0.2]\n",
      " [4.7 3.2 1.6 0.2]\n",
      " [5.2 3.4 1.4 0.2]\n",
      " [5.8 2.7 3.9 1.2]\n",
      " [5.7 2.8 4.5 1.3]\n",
      " [5.4 3.  4.5 1.5]\n",
      " [5.8 4.  1.2 0.2]\n",
      " [5.6 2.5 3.9 1.1]\n",
      " [6.  2.9 4.5 1.5]\n",
      " [5.7 2.6 3.5 1. ]\n",
      " [4.6 3.6 1.  0.2]\n",
      " [5.6 3.  4.5 1.5]\n",
      " [4.3 3.  1.1 0.1]\n",
      " [6.2 2.9 4.3 1.3]\n",
      " [5.  3.  1.6 0.2]\n",
      " [5.  3.5 1.6 0.6]\n",
      " [6.1 2.8 4.  1.3]]\n",
      "预测值：[1, 1, 0, 0, 0, 0, 1, 1, 1, 0, 1, 1, 1, 0, 1, 0, 1, 0, 0, 1]\n",
      " 真实值：[[1 1 0 0 0 0 1 1 1 0 1 1 1 0 1 0 1 0 0 1]],\n",
      " 相减[[0 0 0 0 0 0 0 0 0 0 0 0 0 0 0 0 0 0 0 0]]\n",
      "0\n"
     ]
    }
   ],
   "source": [
    "import pandas as pd \n",
    "import numpy as np\n",
    "def predict(x):    \n",
    "    pred=forward(x,theta,bias)[0]   \n",
    "    return [1 if i>0.5 else 0 for i in pred]\n",
    "\n",
    "##读取验证数据，theta、 bias\n",
    "test_x = pd.read_csv(\"test_x.csv\")   \n",
    "test_y=pd.read_csv(\"test_y.csv\") \n",
    "theta=pd.read_csv(\"theta.csv\")\n",
    "bias=pd.read_csv(\"bias.csv\")\n",
    "\n",
    "\n",
    "###把dataframe 转ndarray\n",
    "test_x=test_x.values\n",
    "test_y=test_y.values\n",
    "theta=theta.values\n",
    "bias=bias.values\n",
    "print(f\"test_y:{test_y}\")\n",
    "test_y=np.reshape(test_y,(1,20))\n",
    "print(f\"reshape test_y:{test_y}\")\n",
    "\n",
    "print(f\"test_x:{test_x}\")\n",
    "\n",
    "pred=predict(test_x)\n",
    "print(f\"预测值：{pred}\\n 真实值：{test_y},\\n 相减{pred-test_y}\")\n",
    "\n",
    "\n",
    "print(np.sum(pred-test_y))"
   ]
  }
 ],
 "metadata": {
  "kernelspec": {
   "display_name": "py312",
   "language": "python",
   "name": "python3"
  },
  "language_info": {
   "codemirror_mode": {
    "name": "ipython",
    "version": 3
   },
   "file_extension": ".py",
   "mimetype": "text/x-python",
   "name": "python",
   "nbconvert_exporter": "python",
   "pygments_lexer": "ipython3",
   "version": "3.12.9"
  }
 },
 "nbformat": 4,
 "nbformat_minor": 2
}
