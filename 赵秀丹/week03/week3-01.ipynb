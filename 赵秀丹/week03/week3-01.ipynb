{
 "cells": [
  {
   "cell_type": "markdown",
   "metadata": {},
   "source": [
    "使用pytorch搭建神经网络模型，实现对KMNIST数据集的训练。"
   ]
  },
  {
   "cell_type": "code",
   "execution_count": 21,
   "metadata": {},
   "outputs": [],
   "source": [
    "import torch\n",
    "from torchvision.transforms.v2 import ToTensor     # 转换图像数据为张量\n",
    "from torchvision.datasets import KMNIST"
   ]
  },
  {
   "cell_type": "code",
   "execution_count": 2,
   "metadata": {},
   "outputs": [
    {
     "name": "stderr",
     "output_type": "stream",
     "text": [
      "e:\\software\\miniconda3\\install\\envs\\py312\\Lib\\site-packages\\torchvision\\transforms\\v2\\_deprecated.py:42: UserWarning: The transform `ToTensor()` is deprecated and will be removed in a future release. Instead, please use `v2.Compose([v2.ToImage(), v2.ToDtype(torch.float32, scale=True)])`.Output is equivalent up to float precision.\n",
      "  warnings.warn(\n"
     ]
    }
   ],
   "source": [
    "# 加载数据集 train\n",
    "train_data = KMNIST(root='./kmnist_data', train=True, download=True, \n",
    "                          transform=ToTensor())\n",
    "test_data = KMNIST(root='./kmnist_data', train=False, download=True,\n",
    "                         transform=ToTensor())"
   ]
  },
  {
   "cell_type": "code",
   "execution_count": 3,
   "metadata": {},
   "outputs": [
    {
     "data": {
      "text/plain": [
       "Dataset KMNIST\n",
       "    Number of datapoints: 60000\n",
       "    Root location: ./kmnist_data\n",
       "    Split: Train\n",
       "    StandardTransform\n",
       "Transform: ToTensor()"
      ]
     },
     "execution_count": 3,
     "metadata": {},
     "output_type": "execute_result"
    }
   ],
   "source": [
    "train_data"
   ]
  },
  {
   "cell_type": "code",
   "execution_count": 4,
   "metadata": {},
   "outputs": [
    {
     "name": "stdout",
     "output_type": "stream",
     "text": [
      "(tensor([[[0.0000, 0.0000, 0.0000, 0.0000, 0.0000, 0.0000, 0.0000, 0.0000,\n",
      "          0.0000, 0.0000, 0.0000, 0.0000, 0.0000, 0.0000, 0.0000, 0.0000,\n",
      "          0.0000, 0.0000, 0.0000, 0.0000, 0.0000, 0.0000, 0.0000, 0.0000,\n",
      "          0.0000, 0.0000, 0.0000, 0.0000],\n",
      "         [0.0000, 0.0000, 0.0000, 0.0000, 0.0000, 0.0000, 0.0000, 0.0000,\n",
      "          0.0000, 0.0000, 0.0000, 0.0000, 0.0000, 0.0000, 0.0000, 0.0000,\n",
      "          0.0000, 0.0000, 0.0000, 0.0000, 0.0000, 0.0000, 0.0000, 0.0000,\n",
      "          0.0000, 0.0000, 0.0000, 0.0000],\n",
      "         [0.0000, 0.0000, 0.0000, 0.0000, 0.0000, 0.0000, 0.0000, 0.0000,\n",
      "          0.0000, 0.0000, 0.0000, 0.0000, 0.0000, 0.0000, 0.0000, 0.0000,\n",
      "          0.0000, 0.0000, 0.0000, 0.0000, 0.0000, 0.0000, 0.0000, 0.0000,\n",
      "          0.0000, 0.0000, 0.0000, 0.0000],\n",
      "         [0.0000, 0.0000, 0.0000, 0.0000, 0.0000, 0.0000, 0.0000, 0.0000,\n",
      "          0.0000, 0.0000, 0.0000, 0.0000, 0.0000, 0.0000, 0.0000, 0.0000,\n",
      "          0.0000, 0.0000, 0.0000, 0.0000, 0.0000, 0.0000, 0.0000, 0.0000,\n",
      "          0.0000, 0.0000, 0.0000, 0.0000],\n",
      "         [0.0000, 0.0000, 0.0000, 0.0000, 0.0000, 0.0000, 0.0000, 0.0000,\n",
      "          0.0000, 0.0000, 0.0000, 0.0000, 0.0000, 0.0000, 0.0000, 0.0000,\n",
      "          0.0000, 0.0000, 0.0000, 0.0000, 0.0000, 0.0000, 0.0000, 0.0000,\n",
      "          0.0000, 0.0000, 0.0000, 0.0000],\n",
      "         [0.0000, 0.0000, 0.0000, 0.0000, 0.0000, 0.0000, 0.0000, 0.0000,\n",
      "          0.0000, 0.0000, 0.0000, 0.0000, 0.0000, 0.0000, 0.0000, 0.0000,\n",
      "          0.0000, 0.0000, 0.0000, 0.0000, 0.0000, 0.0000, 0.0000, 0.0000,\n",
      "          0.0000, 0.0000, 0.0000, 0.0000],\n",
      "         [0.0000, 0.0000, 0.0000, 0.0000, 0.0000, 0.0000, 0.0000, 0.0000,\n",
      "          0.0000, 0.0000, 0.0000, 0.0000, 0.0039, 0.5255, 0.6353, 0.6078,\n",
      "          0.1922, 0.0000, 0.2471, 0.3490, 0.0000, 0.0000, 0.0000, 0.0000,\n",
      "          0.0000, 0.0000, 0.0000, 0.0000],\n",
      "         [0.0000, 0.0000, 0.0000, 0.0000, 0.0000, 0.0000, 0.0000, 0.0000,\n",
      "          0.0000, 0.0000, 0.0000, 0.0275, 0.4706, 0.9922, 0.9804, 0.5059,\n",
      "          0.0000, 0.0000, 0.0000, 0.0000, 0.0000, 0.0000, 0.0000, 0.0000,\n",
      "          0.0000, 0.0000, 0.0000, 0.0000],\n",
      "         [0.0000, 0.0000, 0.0000, 0.0000, 0.0000, 0.0000, 0.0000, 0.0000,\n",
      "          0.0000, 0.0000, 0.0000, 0.3020, 0.9882, 0.9843, 0.3059, 0.0000,\n",
      "          0.0000, 0.0000, 0.0000, 0.0000, 0.0000, 0.0000, 0.0000, 0.0000,\n",
      "          0.0000, 0.0000, 0.0000, 0.0000],\n",
      "         [0.0000, 0.0000, 0.0000, 0.0000, 0.0000, 0.0000, 0.0000, 0.0000,\n",
      "          0.0000, 0.0157, 0.4196, 0.8235, 0.9451, 0.4745, 0.5216, 0.0627,\n",
      "          0.0000, 0.0000, 0.0000, 0.0000, 0.0000, 0.0000, 0.0000, 0.0000,\n",
      "          0.0000, 0.0000, 0.0000, 0.0000],\n",
      "         [0.0000, 0.0000, 0.0000, 0.0000, 0.0000, 0.0000, 0.0000, 0.0000,\n",
      "          0.0157, 0.5765, 0.9961, 0.9569, 0.9216, 0.9020, 1.0000, 0.5412,\n",
      "          0.0824, 0.0000, 0.0000, 0.0000, 0.0000, 0.0000, 0.0000, 0.0000,\n",
      "          0.0000, 0.0000, 0.0000, 0.0000],\n",
      "         [0.0000, 0.0000, 0.0000, 0.0000, 0.0000, 0.0000, 0.0000, 0.3216,\n",
      "          0.7059, 0.9961, 0.8275, 0.9255, 1.0000, 0.8549, 1.0000, 1.0000,\n",
      "          0.5647, 0.0000, 0.0000, 0.0000, 0.0000, 0.0000, 0.0000, 0.0000,\n",
      "          0.0000, 0.0000, 0.0000, 0.0000],\n",
      "         [0.0000, 0.0000, 0.0000, 0.0000, 0.0000, 0.0000, 0.3647, 0.9765,\n",
      "          1.0000, 0.8157, 0.2078, 0.9451, 0.2745, 0.0392, 0.8510, 1.0000,\n",
      "          0.9137, 0.2235, 0.2784, 0.4588, 0.5922, 0.4314, 0.2471, 0.0353,\n",
      "          0.0000, 0.0000, 0.0000, 0.0000],\n",
      "         [0.0000, 0.0000, 0.0000, 0.0000, 0.0510, 0.6941, 0.9333, 0.9843,\n",
      "          0.4706, 0.0745, 0.3843, 0.8549, 0.3216, 0.4000, 0.9922, 1.0000,\n",
      "          1.0000, 0.9882, 1.0000, 1.0000, 1.0000, 1.0000, 0.9961, 0.8392,\n",
      "          0.4235, 0.0196, 0.0000, 0.0000],\n",
      "         [0.0000, 0.0000, 0.0000, 0.0235, 0.6510, 1.0000, 0.8000, 0.3255,\n",
      "          0.5373, 0.8980, 1.0000, 1.0000, 0.9961, 0.8706, 0.9765, 1.0000,\n",
      "          1.0000, 0.7529, 0.4078, 0.5216, 0.7255, 1.0000, 1.0000, 1.0000,\n",
      "          1.0000, 0.8706, 0.3373, 0.0078],\n",
      "         [0.0000, 0.0000, 0.2588, 0.8588, 0.9765, 0.8510, 0.4863, 0.9137,\n",
      "          0.9961, 1.0000, 1.0000, 0.8549, 0.4549, 0.0078, 0.4235, 1.0000,\n",
      "          1.0000, 0.4314, 0.0000, 0.0000, 0.0039, 0.2745, 0.2863, 0.7255,\n",
      "          0.9294, 1.0000, 0.9882, 0.2588],\n",
      "         [0.0039, 0.3804, 0.8353, 0.8275, 0.8039, 1.0000, 0.9373, 0.9294,\n",
      "          0.9882, 0.6392, 0.6196, 0.6941, 0.2510, 0.0000, 0.4471, 1.0000,\n",
      "          0.9882, 0.2588, 0.0000, 0.0000, 0.0000, 0.0000, 0.0000, 0.0000,\n",
      "          0.4196, 1.0000, 1.0000, 0.5490],\n",
      "         [0.2980, 0.9373, 0.9255, 1.0000, 1.0000, 1.0000, 0.9020, 0.6392,\n",
      "          0.2902, 0.0078, 0.0863, 0.7569, 0.9529, 0.4314, 0.5255, 1.0000,\n",
      "          0.8392, 0.0235, 0.0000, 0.0000, 0.0000, 0.0000, 0.1451, 0.6078,\n",
      "          0.9569, 1.0000, 1.0000, 0.7490],\n",
      "         [0.4784, 1.0000, 1.0000, 1.0000, 1.0000, 0.8627, 0.2549, 0.0196,\n",
      "          0.0000, 0.0000, 0.0000, 0.1176, 0.7216, 0.9882, 0.9216, 1.0000,\n",
      "          0.4000, 0.0000, 0.0000, 0.0000, 0.1137, 0.5490, 0.9294, 1.0000,\n",
      "          1.0000, 1.0000, 1.0000, 0.4431],\n",
      "         [0.0157, 0.2784, 0.5373, 0.7255, 0.5843, 0.1255, 0.0000, 0.0000,\n",
      "          0.0000, 0.0000, 0.0000, 0.0000, 0.0471, 0.6941, 1.0000, 1.0000,\n",
      "          0.5176, 0.2941, 0.4314, 0.7647, 0.9529, 1.0000, 1.0000, 1.0000,\n",
      "          1.0000, 1.0000, 0.7882, 0.0471],\n",
      "         [0.0000, 0.0000, 0.0000, 0.0000, 0.0000, 0.0000, 0.0000, 0.0000,\n",
      "          0.0000, 0.0000, 0.0000, 0.0000, 0.0000, 0.0706, 0.2863, 0.3490,\n",
      "          0.2588, 0.5961, 0.8902, 1.0000, 1.0000, 1.0000, 1.0000, 1.0000,\n",
      "          0.8078, 0.4353, 0.0431, 0.0000],\n",
      "         [0.0000, 0.0000, 0.0000, 0.0000, 0.0000, 0.0000, 0.0000, 0.0000,\n",
      "          0.0000, 0.0000, 0.0000, 0.0000, 0.0000, 0.2588, 0.0000, 0.0000,\n",
      "          0.0000, 0.0000, 0.0000, 0.0000, 0.0000, 0.1333, 0.1922, 0.0196,\n",
      "          0.0039, 0.0000, 0.0000, 0.0000],\n",
      "         [0.0000, 0.0000, 0.0000, 0.0000, 0.0000, 0.0000, 0.0000, 0.0000,\n",
      "          0.0000, 0.0000, 0.0000, 0.0000, 0.0000, 0.0000, 0.0000, 0.0000,\n",
      "          0.0000, 0.0000, 0.0000, 0.0000, 0.0000, 0.0000, 0.0000, 0.0000,\n",
      "          0.0000, 0.0000, 0.0000, 0.0000],\n",
      "         [0.0000, 0.0000, 0.0000, 0.0000, 0.0000, 0.0000, 0.0000, 0.0000,\n",
      "          0.0000, 0.0000, 0.0000, 0.0000, 0.0000, 0.0000, 0.0000, 0.0000,\n",
      "          0.0000, 0.0000, 0.0000, 0.0000, 0.0000, 0.0000, 0.0000, 0.0000,\n",
      "          0.0000, 0.0000, 0.0000, 0.0000],\n",
      "         [0.0000, 0.0000, 0.0000, 0.0000, 0.0000, 0.0000, 0.0000, 0.0000,\n",
      "          0.0000, 0.0000, 0.0000, 0.0000, 0.0000, 0.0000, 0.0000, 0.0000,\n",
      "          0.0000, 0.0000, 0.0000, 0.0000, 0.0000, 0.0000, 0.0000, 0.0000,\n",
      "          0.0000, 0.0000, 0.0000, 0.0000],\n",
      "         [0.0000, 0.0000, 0.0000, 0.0000, 0.0000, 0.0000, 0.0000, 0.0000,\n",
      "          0.0000, 0.0000, 0.0000, 0.0000, 0.0000, 0.0000, 0.0000, 0.0000,\n",
      "          0.0000, 0.0000, 0.0000, 0.0000, 0.0000, 0.0000, 0.0000, 0.0000,\n",
      "          0.0000, 0.0000, 0.0000, 0.0000],\n",
      "         [0.0000, 0.0000, 0.0000, 0.0000, 0.0000, 0.0000, 0.0000, 0.0000,\n",
      "          0.0000, 0.0000, 0.0000, 0.0000, 0.0000, 0.0000, 0.0000, 0.0000,\n",
      "          0.0000, 0.0000, 0.0000, 0.0000, 0.0000, 0.0000, 0.0000, 0.0000,\n",
      "          0.0000, 0.0000, 0.0000, 0.0000],\n",
      "         [0.0000, 0.0000, 0.0000, 0.0000, 0.0000, 0.0000, 0.0000, 0.0000,\n",
      "          0.0000, 0.0000, 0.0000, 0.0000, 0.0000, 0.0000, 0.0000, 0.0000,\n",
      "          0.0000, 0.0000, 0.0000, 0.0000, 0.0000, 0.0000, 0.0000, 0.0000,\n",
      "          0.0000, 0.0000, 0.0000, 0.0000]]]), 7)\n",
      "torch.Size([1, 28, 28])\n",
      "torch.Size([784])\n"
     ]
    }
   ],
   "source": [
    "print(train_data[1])  # 返回一个元组，第一个元素是图像数据，第二个元素是标签\n",
    "print(train_data[1][0].shape)  # 图像数据(1个颜色通道,图像高度,图像宽度)\n",
    "print(train_data[1][0].reshape(-1).shape)  # 将图像数据展平为一维张量"
   ]
  },
  {
   "cell_type": "code",
   "execution_count": 45,
   "metadata": {},
   "outputs": [
    {
     "data": {
      "image/png": "[encoded data removed]",
      "text/plain": [
       "<Figure size 640x480 with 1 Axes>"
      ]
     },
     "metadata": {},
     "output_type": "display_data"
    },
    {
     "data": {
      "image/jpeg": "[encoded data removed]",
      "image/png": "[encoded data removed]",
      "text/plain": [
       "<PIL.Image.Image image mode=L size=28x28>"
      ]
     },
     "execution_count": 45,
     "metadata": {},
     "output_type": "execute_result"
    }
   ],
   "source": [
    "import matplotlib.pyplot as plt\n",
    "from torchvision.transforms.v2 import ToTensor     # 转换图像数据为张量\n",
    "from torchvision.datasets import KMNIST\n",
    "train_data = KMNIST(root='./kmnist_data', train=True, download=True)\n",
    "\n",
    "img,clzz = train_data[2]\n",
    "\n",
    "plt.imshow(img, cmap='gray')  # img是一个PIL.Image对象(python原始数据)\n",
    "plt.title(clzz)\n",
    "plt.show()\n",
    "img"
   ]
  },
  {
   "cell_type": "code",
   "execution_count": 40,
   "metadata": {},
   "outputs": [
    {
     "data": {
      "text/plain": [
       "{0, 1, 2, 3, 4, 5, 6, 7, 8, 9}"
      ]
     },
     "execution_count": 40,
     "metadata": {},
     "output_type": "execute_result"
    }
   ],
   "source": [
    "labels = set([clz for img,clz in train_data])\n",
    "labels"
   ]
  },
  {
   "cell_type": "markdown",
   "metadata": {},
   "source": [
    "搭建模型"
   ]
  },
  {
   "cell_type": "code",
   "execution_count": null,
   "metadata": {},
   "outputs": [],
   "source": [
    "# 简单实现\n",
    "import torch\n",
    "import torch.nn as nn  # 常用模块\n",
    "import torch.optim as optim  #优化器\n",
    "\n",
    "from torch.utils.data import DataLoader  # 数据加载器  \n",
    "\n",
    "# X输入 shape(,784)\n",
    "# 隐藏层 shape(784,56)  # 参数矩阵 # 784个特征 56个神经元\n",
    "# 隐藏层 shape(56,)  # 偏置bias\n",
    "# 输出层 shape(56,10)  # 参数矩阵 # 64个神经元 10个类别\n",
    "# 输出层 shape(10,)  # 偏置bias\n",
    "# Y输出 shape(,10)  # 10个类别"
   ]
  },
  {
   "cell_type": "code",
   "execution_count": 467,
   "metadata": {},
   "outputs": [],
   "source": [
    "# 定义超参数\n",
    "LR = 1e-2   ##学习率\n",
    "epochs = 20      ##训练次数\n",
    "BATCH_SIZE = 25  ###批次"
   ]
  },
  {
   "cell_type": "code",
   "execution_count": 468,
   "metadata": {},
   "outputs": [],
   "source": [
    "# 加载数据集 train 加上transform=ToTensor() \n",
    "train_data = KMNIST(root='./kmnist_data', train=True, download=True, \n",
    "                          transform=ToTensor())\n",
    "test_data = KMNIST(root='./kmnist_data', train=False, download=True,\n",
    "                         transform=ToTensor())"
   ]
  },
  {
   "cell_type": "code",
   "execution_count": 469,
   "metadata": {},
   "outputs": [],
   "source": [
    "# 定义模型\n",
    "model = nn.Sequential(\n",
    "    nn.Linear(784, 1000),\n",
    "    nn.Sigmoid(),\n",
    "    nn.Linear(1000, 500),\n",
    "    nn.ReLU(),\n",
    "    nn.Linear(500, 255),\n",
    "    nn.ReLU(),\n",
    "    nn.Linear(255,10)\n",
    ")"
   ]
  },
  {
   "cell_type": "code",
   "execution_count": 470,
   "metadata": {},
   "outputs": [],
   "source": [
    "# 损失函数&优化器\n",
    "loss_fn = nn.CrossEntropyLoss()  # 交叉熵损失函数\n",
    "# 优化器（模型参数更新）\n",
    "optimizer = torch.optim.SGD(model.parameters(), lr=LR)"
   ]
  },
  {
   "cell_type": "code",
   "execution_count": 471,
   "metadata": {},
   "outputs": [],
   "source": [
    "trian_dl = DataLoader(train_data, batch_size=BATCH_SIZE, shuffle=True)  # shuffle=True表示打乱数据"
   ]
  },
  {
   "cell_type": "code",
   "execution_count": 472,
   "metadata": {},
   "outputs": [
    {
     "name": "stdout",
     "output_type": "stream",
     "text": [
      "BatchSize:25 Epoch:0 Loss: 1.9861161708831787\n",
      "BatchSize:25 Epoch:1 Loss: 1.1890045404434204\n",
      "BatchSize:25 Epoch:2 Loss: 0.7190592288970947\n",
      "BatchSize:25 Epoch:3 Loss: 0.5034181475639343\n",
      "BatchSize:25 Epoch:4 Loss: 0.6044895052909851\n",
      "BatchSize:25 Epoch:5 Loss: 0.3761017918586731\n",
      "BatchSize:25 Epoch:6 Loss: 0.6697747111320496\n",
      "BatchSize:25 Epoch:7 Loss: 0.17297737300395966\n",
      "BatchSize:25 Epoch:8 Loss: 0.40198785066604614\n",
      "BatchSize:25 Epoch:9 Loss: 0.49235886335372925\n",
      "BatchSize:25 Epoch:10 Loss: 0.3792593777179718\n",
      "BatchSize:25 Epoch:11 Loss: 0.3443739712238312\n",
      "BatchSize:25 Epoch:12 Loss: 0.21543532609939575\n",
      "BatchSize:25 Epoch:13 Loss: 0.3583548665046692\n",
      "BatchSize:25 Epoch:14 Loss: 0.38327518105506897\n",
      "BatchSize:25 Epoch:15 Loss: 0.33750319480895996\n",
      "BatchSize:25 Epoch:16 Loss: 0.6967771649360657\n",
      "BatchSize:25 Epoch:17 Loss: 0.4816640615463257\n",
      "BatchSize:25 Epoch:18 Loss: 0.12449073791503906\n",
      "BatchSize:25 Epoch:19 Loss: 0.3193734586238861\n"
     ]
    }
   ],
   "source": [
    "for epoch in range(epochs):\n",
    "    # 提取训练数据\n",
    "    for data, target in trian_dl:\n",
    "        # 前向运算\n",
    "        output = model(data.reshape(-1, 784))\n",
    "        # 计算损失\n",
    "        loss = loss_fn(output, target)\n",
    "        # 反向传播\n",
    "        optimizer.zero_grad()  # 所有参数梯度清零\n",
    "        loss.backward()     # 计算梯度（参数.grad）\n",
    "        optimizer.step()    # 更新参数\n",
    "\n",
    "    print(f'BatchSize:{BATCH_SIZE} Epoch:{epoch} Loss: {loss.item()}')"
   ]
  },
  {
   "cell_type": "code",
   "execution_count": 473,
   "metadata": {},
   "outputs": [
    {
     "name": "stdout",
     "output_type": "stream",
     "text": [
      "Accuracy: 80.69%\n"
     ]
    }
   ],
   "source": [
    "# 测试\n",
    "test_dl = DataLoader(test_data, batch_size=BATCH_SIZE)\n",
    "\n",
    "correct = 0\n",
    "total = 0\n",
    "with torch.no_grad():  # 不计算梯度\n",
    "    for data, target in test_dl:\n",
    "        output = model(data.reshape(-1, 784))\n",
    "        _, predicted = torch.max(output, 1)  # 返回每行最大值和索引\n",
    "        total += target.size(0)  # size(0) 等效 shape[0]\n",
    "        correct += (predicted == target).sum().item()\n",
    "\n",
    "print(f'Accuracy: {correct/total*100}%')"
   ]
  },
  {
   "cell_type": "code",
   "execution_count": 474,
   "metadata": {},
   "outputs": [
    {
     "data": {
      "text/plain": [
       "torch.Size([25, 10])"
      ]
     },
     "execution_count": 474,
     "metadata": {},
     "output_type": "execute_result"
    }
   ],
   "source": [
    "output.shape\n",
    "\n"
   ]
  },
  {
   "cell_type": "code",
   "execution_count": 475,
   "metadata": {},
   "outputs": [
    {
     "data": {
      "text/plain": [
       "tensor([[ 5.4612, -6.2740, -4.0663,  1.0679, -1.4249,  1.1094, -0.0351, 10.3851,\n",
       "         -3.0997, -1.3139],\n",
       "        [-3.0179, -1.1330,  6.0574,  6.1829, -2.3400, -0.6702, -1.9453, -2.5524,\n",
       "          3.9141,  0.0213],\n",
       "        [-3.1176,  2.9699,  1.3169, -2.3484,  1.3979, -2.3027,  0.6317, -2.0444,\n",
       "         -0.4336,  6.6588],\n",
       "        [-3.4820,  2.6498,  3.5717, -3.8172,  1.2658, -1.0641,  0.8932, -2.0405,\n",
       "          0.7792,  3.9827],\n",
       "        [-3.4005,  7.0056, -0.4561,  0.3830,  4.3500,  2.2295,  2.0020, -5.1656,\n",
       "          1.6746, -6.3904],\n",
       "        [ 5.6933, -2.7933, -8.0344,  4.2462,  0.2629, 12.0772, -7.3966,  0.4707,\n",
       "          2.0909, -4.7504],\n",
       "        [ 2.5878, -7.2117, -2.0964, 11.9148,  2.3108,  5.2712, -2.5014,  4.0880,\n",
       "         -8.3993, -4.6706],\n",
       "        [-2.7079,  7.1715,  3.3692, -1.4629, -0.9799,  1.6274, -3.6885, -3.5686,\n",
       "         -1.9337,  5.5917],\n",
       "        [-7.0508,  2.0794,  2.0747,  4.9829, -3.5640, -1.5719,  1.5420,  0.7106,\n",
       "          0.5550,  2.2220],\n",
       "        [ 4.4215, -2.1103, -4.3469,  3.1282,  4.7724,  0.8021, -5.8364, -1.6601,\n",
       "          3.4193,  0.2232],\n",
       "        [-4.1892, 10.8310, -2.6178, -2.8289,  2.6844, -1.8704,  0.3319, -2.2067,\n",
       "          1.7190,  1.6659],\n",
       "        [-8.6918, -0.9841,  3.6035,  0.0436, -1.9099, 11.8231,  0.5862, -5.1042,\n",
       "          7.6687, -4.4978],\n",
       "        [ 1.3982, -6.3400,  1.0320,  1.0662, -0.3073, -0.4089,  1.4053,  7.9835,\n",
       "         -7.5123,  2.4448],\n",
       "        [-4.8369,  0.6250,  2.3350,  4.9731, -3.4754, -1.9031,  0.4719, -0.5967,\n",
       "          2.7853,  2.9403],\n",
       "        [ 1.5467, -2.2746, -0.7718, -2.5852,  3.9790, -1.0967, -1.5947,  0.4123,\n",
       "         -8.0645, 13.0623],\n",
       "        [ 0.1410,  0.1617,  6.5547,  3.5827, -1.5288,  1.9798, -3.3423, -6.7217,\n",
       "          3.6897, -0.5754],\n",
       "        [ 1.4097, -0.0908, -0.1401, -1.2216,  6.4203,  0.6703, -1.7573,  1.1802,\n",
       "         -5.9647,  1.8112],\n",
       "        [ 3.0684, -5.5880,  0.4674, -0.9326,  1.3669,  1.0769,  1.2736,  8.1946,\n",
       "         -9.6242,  1.7640],\n",
       "        [-5.5909,  3.9514,  0.7113, -3.2809,  1.7702, -0.0620,  7.2343, -2.3312,\n",
       "          2.1274, -2.2357],\n",
       "        [11.4011, -1.5296, -4.3124, -4.3614,  1.3657,  5.3188, -4.5454, -0.6030,\n",
       "         -2.8969,  1.8428],\n",
       "        [ 0.4452,  0.0874, -0.7658, -1.6666,  6.7316, -0.0955, -1.5877, -3.3009,\n",
       "         -5.6012,  8.5626],\n",
       "        [ 6.2225, -3.4528, -2.9910, -1.6798, -0.1395,  2.2480, -1.6061,  2.4765,\n",
       "          0.2774,  0.6099],\n",
       "        [-2.8802,  1.7883,  5.7367, -4.1869,  1.0954, -0.9017, -2.0147, -2.2998,\n",
       "         -1.4359,  8.6370],\n",
       "        [ 1.7666,  0.9247, -1.5665, -0.7892,  2.5121, -2.0138, -1.0421, -2.9366,\n",
       "          4.6433,  1.4068],\n",
       "        [-7.0672,  1.7418,  3.8671,  4.4660, -4.2042, -0.9848,  1.6678, -1.0338,\n",
       "          1.2178,  3.7140]])"
      ]
     },
     "execution_count": 475,
     "metadata": {},
     "output_type": "execute_result"
    }
   ],
   "source": [
    "output"
   ]
  },
  {
   "cell_type": "code",
   "execution_count": 476,
   "metadata": {},
   "outputs": [
    {
     "data": {
      "text/plain": [
       "tensor([7, 3, 9, 9, 1, 5, 3, 1, 3, 4, 1, 5, 7, 3, 9, 2, 4, 7, 6, 0, 9, 0, 9, 8,\n",
       "        3])"
      ]
     },
     "execution_count": 476,
     "metadata": {},
     "output_type": "execute_result"
    }
   ],
   "source": [
    "predicted\n"
   ]
  },
  {
   "cell_type": "code",
   "execution_count": 477,
   "metadata": {},
   "outputs": [
    {
     "name": "stdout",
     "output_type": "stream",
     "text": [
      "tensor([7, 3, 9, 5, 1, 5, 3, 1, 3, 0, 1, 5, 7, 3, 9, 2, 4, 7, 6, 0, 4, 0, 9, 4,\n",
      "        2])\n"
     ]
    },
    {
     "data": {
      "text/plain": [
       "torch.Size([25])"
      ]
     },
     "execution_count": 477,
     "metadata": {},
     "output_type": "execute_result"
    }
   ],
   "source": [
    "print(target)\n",
    "target.shape"
   ]
  },
  {
   "cell_type": "code",
   "execution_count": 478,
   "metadata": {},
   "outputs": [
    {
     "data": {
      "text/plain": [
       "tensor(20)"
      ]
     },
     "execution_count": 478,
     "metadata": {},
     "output_type": "execute_result"
    }
   ],
   "source": [
    "(predicted == target).int().sum()"
   ]
  }
 ],
 "metadata": {
  "kernelspec": {
   "display_name": "py312",
   "language": "python",
   "name": "python3"
  },
  "language_info": {
   "codemirror_mode": {
    "name": "ipython",
    "version": 3
   },
   "file_extension": ".py",
   "mimetype": "text/x-python",
   "name": "python",
   "nbconvert_exporter": "python",
   "pygments_lexer": "ipython3",
   "version": "3.12.9"
  }
 },
 "nbformat": 4,
 "nbformat_minor": 2
}
