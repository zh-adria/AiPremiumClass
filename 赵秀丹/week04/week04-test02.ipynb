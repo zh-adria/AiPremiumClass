{
 "cells": [
  {
   "cell_type": "markdown",
   "metadata": {},
   "source": [
    "#第四周作业-2   结合归一化和正则化来优化网络模型结构，观察对比loss结果。"
   ]
  },
  {
   "cell_type": "code",
   "execution_count": 2,
   "metadata": {},
   "outputs": [],
   "source": [
    "from sklearn.datasets import fetch_olivetti_faces\n",
    "from torchvision.transforms.v2 import ToTensor     # 转换图像数据为张量\n"
   ]
  },
  {
   "cell_type": "code",
   "execution_count": 3,
   "metadata": {},
   "outputs": [
    {
     "name": "stdout",
     "output_type": "stream",
     "text": [
      "(400, 4096)\n",
      "(400,)\n",
      "(400, 64, 64)\n"
     ]
    }
   ],
   "source": [
    "olivetti_faces = fetch_olivetti_faces(data_home='./face_data', shuffle=True)\n",
    "print(olivetti_faces.data.shape)\n",
    "print(olivetti_faces.target.shape)\n",
    "print(olivetti_faces.images.shape)\n"
   ]
  },
  {
   "cell_type": "code",
   "execution_count": 4,
   "metadata": {},
   "outputs": [
    {
     "data": {
      "image/png": "[encoded data removed]",
      "text/plain": [
       "<Figure size 640x480 with 1 Axes>"
      ]
     },
     "metadata": {},
     "output_type": "display_data"
    }
   ],
   "source": [
    "import matplotlib.pyplot as plt\n",
    "\n",
    "face = olivetti_faces.images[1]\n",
    "plt.imshow(face, cmap='gray')\n",
    "plt.show()"
   ]
  },
  {
   "cell_type": "code",
   "execution_count": 5,
   "metadata": {},
   "outputs": [
    {
     "data": {
      "text/plain": [
       "40"
      ]
     },
     "execution_count": 5,
     "metadata": {},
     "output_type": "execute_result"
    }
   ],
   "source": [
    "import numpy as np\n",
    "olivetti_faces.data[1]\n",
    "face_num=set(olivetti_faces.target)\n",
    "len(face_num)"
   ]
  },
  {
   "cell_type": "code",
   "execution_count": 110,
   "metadata": {},
   "outputs": [],
   "source": [
    "import torch\n",
    "import torch.nn as nn"
   ]
  },
  {
   "cell_type": "code",
   "execution_count": 149,
   "metadata": {},
   "outputs": [],
   "source": [
    "images = torch.tensor(olivetti_faces.data)\n",
    "targets = torch.tensor(olivetti_faces.target,dtype=torch.long)"
   ]
  },
  {
   "cell_type": "code",
   "execution_count": 150,
   "metadata": {},
   "outputs": [],
   "source": [
    "images = torch.tensor(olivetti_faces.data)\n",
    "targets = torch.tensor(olivetti_faces.target,dtype=torch.long)"
   ]
  },
  {
   "cell_type": "code",
   "execution_count": 151,
   "metadata": {},
   "outputs": [
    {
     "data": {
      "text/plain": [
       "torch.Size([320, 4096])"
      ]
     },
     "execution_count": 151,
     "metadata": {},
     "output_type": "execute_result"
    }
   ],
   "source": [
    "###划分训练数据和测试数据\n",
    "from sklearn.model_selection import train_test_split\n",
    "X_train, X_test, y_train, y_test = train_test_split(images, targets, \n",
    "                                                     train_size=0.80, \n",
    "                                                    random_state=100, shuffle=True, stratify=targets)\n",
    "\n",
    "X_train.shape\n",
    "\n",
    "##参数stratify=olivetti_faces.target 表示安装target分层抽样\n",
    "\n"
   ]
  },
  {
   "cell_type": "code",
   "execution_count": 152,
   "metadata": {},
   "outputs": [],
   "source": [
    "# 简单实现\n",
    "import torch\n",
    "import torch.nn as nn  # 常用模块\n",
    "import torch.optim as optim  #优化器\n",
    "\n",
    "from torch.utils.data import DataLoader  # 数据加载器  \n"
   ]
  },
  {
   "cell_type": "code",
   "execution_count": 153,
   "metadata": {},
   "outputs": [],
   "source": [
    "# 定义超参数\n",
    "LR = 1e-2   ##学习率\n",
    "epochs = 60      ##训练次数\n",
    "BATCH_SIZE = 128  ###批次"
   ]
  },
  {
   "cell_type": "code",
   "execution_count": 154,
   "metadata": {},
   "outputs": [],
   "source": [
    "# 定义模型\n",
    "model = nn.Sequential(\n",
    "    nn.Linear(4096, 2048),\n",
    "    nn.BatchNorm1d(2048),\n",
    "    nn.ReLU(),\n",
    "    nn.Linear(2048, 1024),\n",
    "    nn.ReLU(),\n",
    "    nn.Linear(1024, 255),\n",
    "    nn.ReLU(),\n",
    "            nn.Dropout(p=0.5),\n",
    "\n",
    "    nn.Linear(255,40)\n",
    ")"
   ]
  },
  {
   "cell_type": "code",
   "execution_count": 155,
   "metadata": {},
   "outputs": [],
   "source": [
    "# 损失函数&优化器\n",
    "loss_fn = nn.CrossEntropyLoss()  # 交叉熵损失函数\n",
    "# 优化器（模型参数更新）\n",
    "optimizer = torch.optim.SGD(model.parameters(), lr=LR)"
   ]
  },
  {
   "cell_type": "code",
   "execution_count": 156,
   "metadata": {},
   "outputs": [
    {
     "name": "stdout",
     "output_type": "stream",
     "text": [
      "(tensor([0.5083, 0.6281, 0.6694,  ..., 0.1116, 0.1198, 0.1240]), tensor(31))\n"
     ]
    },
    {
     "data": {
      "text/plain": [
       "320"
      ]
     },
     "execution_count": 156,
     "metadata": {},
     "output_type": "execute_result"
    }
   ],
   "source": [
    "\n",
    "\n",
    "dataset = [(img,lbl) for img,lbl in zip(X_train, y_train)]\n",
    "print(dataset[0])\n",
    "\n",
    "trian_dl = DataLoader(dataset, batch_size=BATCH_SIZE, shuffle=True)  # shuffle=True表示打乱数据\n",
    "\n",
    "len(dataset)"
   ]
  },
  {
   "cell_type": "code",
   "execution_count": 157,
   "metadata": {},
   "outputs": [
    {
     "name": "stdout",
     "output_type": "stream",
     "text": [
      "BatchSize:128 Epoch:0 Loss: 3.6914889812469482\n",
      "BatchSize:128 Epoch:1 Loss: 3.666973829269409\n",
      "BatchSize:128 Epoch:2 Loss: 3.647179365158081\n",
      "BatchSize:128 Epoch:3 Loss: 3.6333272457122803\n",
      "BatchSize:128 Epoch:4 Loss: 3.5983266830444336\n",
      "BatchSize:128 Epoch:5 Loss: 3.5944223403930664\n",
      "BatchSize:128 Epoch:6 Loss: 3.5360491275787354\n",
      "BatchSize:128 Epoch:7 Loss: 3.531395435333252\n",
      "BatchSize:128 Epoch:8 Loss: 3.5401840209960938\n",
      "BatchSize:128 Epoch:9 Loss: 3.5042097568511963\n",
      "BatchSize:128 Epoch:10 Loss: 3.4813730716705322\n",
      "BatchSize:128 Epoch:11 Loss: 3.464637041091919\n",
      "BatchSize:128 Epoch:12 Loss: 3.432676076889038\n",
      "BatchSize:128 Epoch:13 Loss: 3.4130585193634033\n",
      "BatchSize:128 Epoch:14 Loss: 3.4009621143341064\n",
      "BatchSize:128 Epoch:15 Loss: 3.3442394733428955\n",
      "BatchSize:128 Epoch:16 Loss: 3.3513541221618652\n",
      "BatchSize:128 Epoch:17 Loss: 3.2669472694396973\n",
      "BatchSize:128 Epoch:18 Loss: 3.2643370628356934\n",
      "BatchSize:128 Epoch:19 Loss: 3.2312123775482178\n",
      "BatchSize:128 Epoch:20 Loss: 3.23333740234375\n",
      "BatchSize:128 Epoch:21 Loss: 3.2164599895477295\n",
      "BatchSize:128 Epoch:22 Loss: 3.1512489318847656\n",
      "BatchSize:128 Epoch:23 Loss: 3.118076801300049\n",
      "BatchSize:128 Epoch:24 Loss: 3.1028425693511963\n",
      "BatchSize:128 Epoch:25 Loss: 3.031909942626953\n",
      "BatchSize:128 Epoch:26 Loss: 3.045663833618164\n",
      "BatchSize:128 Epoch:27 Loss: 3.069723129272461\n",
      "BatchSize:128 Epoch:28 Loss: 2.9573185443878174\n",
      "BatchSize:128 Epoch:29 Loss: 2.9545199871063232\n",
      "BatchSize:128 Epoch:30 Loss: 2.9179203510284424\n",
      "BatchSize:128 Epoch:31 Loss: 2.885051727294922\n",
      "BatchSize:128 Epoch:32 Loss: 2.826420545578003\n",
      "BatchSize:128 Epoch:33 Loss: 2.851025342941284\n",
      "BatchSize:128 Epoch:34 Loss: 2.7388370037078857\n",
      "BatchSize:128 Epoch:35 Loss: 2.733732223510742\n",
      "BatchSize:128 Epoch:36 Loss: 2.7301182746887207\n",
      "BatchSize:128 Epoch:37 Loss: 2.76902437210083\n",
      "BatchSize:128 Epoch:38 Loss: 2.566155433654785\n",
      "BatchSize:128 Epoch:39 Loss: 2.5593931674957275\n",
      "BatchSize:128 Epoch:40 Loss: 2.5309033393859863\n",
      "BatchSize:128 Epoch:41 Loss: 2.5197458267211914\n",
      "BatchSize:128 Epoch:42 Loss: 2.5247435569763184\n",
      "BatchSize:128 Epoch:43 Loss: 2.5310423374176025\n",
      "BatchSize:128 Epoch:44 Loss: 2.413050413131714\n",
      "BatchSize:128 Epoch:45 Loss: 2.4917397499084473\n",
      "BatchSize:128 Epoch:46 Loss: 2.207261800765991\n",
      "BatchSize:128 Epoch:47 Loss: 2.219197988510132\n",
      "BatchSize:128 Epoch:48 Loss: 2.21689510345459\n",
      "BatchSize:128 Epoch:49 Loss: 2.14371395111084\n",
      "BatchSize:128 Epoch:50 Loss: 2.251309633255005\n",
      "BatchSize:128 Epoch:51 Loss: 2.1571216583251953\n",
      "BatchSize:128 Epoch:52 Loss: 2.045511484146118\n",
      "BatchSize:128 Epoch:53 Loss: 2.0884904861450195\n",
      "BatchSize:128 Epoch:54 Loss: 1.9766088724136353\n",
      "BatchSize:128 Epoch:55 Loss: 1.9368438720703125\n",
      "BatchSize:128 Epoch:56 Loss: 1.785962700843811\n",
      "BatchSize:128 Epoch:57 Loss: 1.8170182704925537\n",
      "BatchSize:128 Epoch:58 Loss: 1.8835185766220093\n",
      "BatchSize:128 Epoch:59 Loss: 1.7445056438446045\n"
     ]
    }
   ],
   "source": [
    "model.train()\n",
    "for epoch in range(epochs):\n",
    "    # 提取训练数据\n",
    "    for data, target in trian_dl:\n",
    "        # 前向运算\n",
    "        output = model(data.reshape(-1, 4096))\n",
    "        # 计算损失\n",
    "        loss = loss_fn(output, target)\n",
    "        # 反向传播\n",
    "        optimizer.zero_grad()  # 所有参数梯度清零\n",
    "        loss.backward()     # 计算梯度（参数.grad）\n",
    "        optimizer.step()    # 更新参数\n",
    "\n",
    "    print(f'BatchSize:{BATCH_SIZE} Epoch:{epoch} Loss: {loss.item()}')"
   ]
  },
  {
   "cell_type": "code",
   "execution_count": 158,
   "metadata": {},
   "outputs": [
    {
     "name": "stdout",
     "output_type": "stream",
     "text": [
      "(tensor([0.5248, 0.5372, 0.5785,  ..., 0.5289, 0.5083, 0.4380]), tensor(4))\n"
     ]
    },
    {
     "data": {
      "text/plain": [
       "tensor([ 4, 11, 33, 27, 24,  3, 34, 16,  4, 39, 39,  6,  7, 19, 27, 15, 17, 36,\n",
       "        37, 20, 38, 22,  5, 10,  9, 31, 12, 24, 22,  6, 36, 28, 25, 21,  9, 25,\n",
       "        17, 12, 19,  5, 14,  8, 28, 23, 34, 37, 13, 38, 23, 20,  0,  3,  7,  1,\n",
       "        29, 32, 14, 26, 18,  2, 10, 15, 16,  2, 26, 13, 11, 29, 33, 21, 30, 35,\n",
       "         8, 30,  0, 35, 32,  1, 31, 18])"
      ]
     },
     "execution_count": 158,
     "metadata": {},
     "output_type": "execute_result"
    }
   ],
   "source": [
    "dataset_test = [(img,lbl) for img,lbl in zip(X_test, y_test)]\n",
    "print(dataset_test[0])\n",
    "\n",
    "len(dataset_test)\n",
    " \n",
    "y_test"
   ]
  },
  {
   "cell_type": "code",
   "execution_count": 159,
   "metadata": {},
   "outputs": [
    {
     "name": "stdout",
     "output_type": "stream",
     "text": [
      "Accuracy: 78.75%\n",
      "torch.return_types.max(\n",
      "values=tensor([1.4908, 2.8740, 4.4309, 3.2130, 0.8869, 0.9157, 1.1496, 2.3716, 1.6703,\n",
      "        1.0900, 0.9779, 2.7432, 3.6579, 1.6988, 2.6392, 2.1476, 1.4482, 4.2407,\n",
      "        1.0307, 0.7449, 3.2023, 0.8692, 2.3419, 3.0485, 2.1414, 2.3658, 0.7374,\n",
      "        0.7903, 1.0764, 2.9982, 4.2562, 2.9796, 2.2754, 4.3611, 2.2996, 1.0448,\n",
      "        1.2403, 0.6281, 1.4687, 4.0494, 1.4209, 1.6394, 2.7711, 2.3324, 2.1757,\n",
      "        1.4332, 1.1607, 3.4193, 2.3185, 1.4470, 2.2897, 0.8942, 2.6983, 2.4837,\n",
      "        1.8439, 3.9876, 0.8986, 2.0875, 2.3060, 0.9947, 3.0577, 1.5892, 1.4537,\n",
      "        1.1166, 2.1419, 2.1359, 3.2035, 1.4102, 4.5259, 4.2344, 1.8689, 2.4678,\n",
      "        1.5152, 2.6700, 1.3037, 2.3475, 3.8729, 2.5587, 2.5415, 2.6632]),\n",
      "indices=tensor([ 5, 11, 33, 27,  9,  7, 38, 16,  5, 39, 11,  6,  7, 21, 27, 15,  7, 36,\n",
      "        37, 20, 38, 22,  5, 10,  9, 31, 12, 16, 22,  6, 36, 28, 25, 21,  9, 27,\n",
      "        17,  7, 19,  5, 14,  8, 28, 23, 34, 37, 13, 38, 23, 28,  0,  5,  7,  1,\n",
      "        29, 32, 14, 26, 18, 11, 10,  0, 25, 21, 26, 13, 11, 29, 33, 21, 30, 35,\n",
      "         8, 30,  0, 35, 32,  1, 31, 18]))\n",
      "predicted-->tensor([ 5, 11, 33, 27,  9,  7, 38, 16,  5, 39, 11,  6,  7, 21, 27, 15,  7, 36,\n",
      "        37, 20, 38, 22,  5, 10,  9, 31, 12, 16, 22,  6, 36, 28, 25, 21,  9, 27,\n",
      "        17,  7, 19,  5, 14,  8, 28, 23, 34, 37, 13, 38, 23, 28,  0,  5,  7,  1,\n",
      "        29, 32, 14, 26, 18, 11, 10,  0, 25, 21, 26, 13, 11, 29, 33, 21, 30, 35,\n",
      "         8, 30,  0, 35, 32,  1, 31, 18])\n"
     ]
    }
   ],
   "source": [
    "###测试\n",
    "# 测试\n",
    "test_dl = DataLoader(dataset_test, batch_size=BATCH_SIZE)\n",
    "\n",
    "correct = 0\n",
    "total = 0\n",
    "model.eval() ##作用于drop 正则化和归一化失效\n",
    "with torch.no_grad():  # 不计算梯度\n",
    "    for data, target in test_dl:\n",
    "        output = model(data.reshape(-1, 4096))\n",
    "        _, predicted = torch.max(output, 1)  # 返回每行最大值和索引\n",
    "        total += target.size(0)  # size(0) 等效 shape[0]\n",
    "        correct += (predicted == target).sum().item()\n",
    "\n",
    "print(f'Accuracy: {correct/total*100}%')\n",
    "\n",
    "print(torch.max(output, 1))\n",
    "print(f\"predicted-->{predicted}\")\n"
   ]
  }
 ],
 "metadata": {
  "kernelspec": {
   "display_name": "py312",
   "language": "python",
   "name": "python3"
  },
  "language_info": {
   "codemirror_mode": {
    "name": "ipython",
    "version": 3
   },
   "file_extension": ".py",
   "mimetype": "text/x-python",
   "name": "python",
   "nbconvert_exporter": "python",
   "pygments_lexer": "ipython3",
   "version": "3.12.9"
  }
 },
 "nbformat": 4,
 "nbformat_minor": 2
}
