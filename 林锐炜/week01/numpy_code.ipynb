{
 "cells": [
  {
   "cell_type": "code",
   "execution_count": 1,
   "metadata": {},
   "outputs": [],
   "source": [
    "import numpy as np"
   ]
  },
  {
   "cell_type": "markdown",
   "metadata": {},
   "source": [
    "### numpy_base 数组创建及基础属性"
   ]
  },
  {
   "cell_type": "code",
   "execution_count": 2,
   "metadata": {},
   "outputs": [
    {
     "name": "stdout",
     "output_type": "stream",
     "text": [
      "一维数组：[1. 2. 3.]\n",
      "数组类型：<class 'numpy.ndarray'>\n",
      "维数ndim：1\n",
      "数组项类型dtype：float64\n",
      "元素个数size:3\n",
      "\n",
      "\n",
      "二维数组：[[1 2]\n",
      " [3 4]\n",
      " [5 6]]\n",
      "数组类型：<class 'numpy.ndarray'>\n",
      "维数ndim：2\n",
      "数组项类型dtype：int64\n",
      "元素个数size:6\n",
      "\n",
      "\n",
      "三维数组：[[[ 1.  2.  3.]\n",
      "  [ 5.  6.  7.]]\n",
      "\n",
      " [[11. 22. 33.]\n",
      "  [44. 55. 66.]]]\n",
      "数组类型：<class 'numpy.ndarray'>\n",
      "维数ndim：3\n",
      "数组项类型dtype：float64\n",
      "元素个数size:12\n"
     ]
    }
   ],
   "source": [
    "# 一维数组\n",
    "arr_1 = np.array([1, 2, 3], float)\n",
    "print(f\"一维数组：{arr_1}\")\n",
    "print(f\"数组类型：{type(arr_1)}\")\n",
    "print(f\"维数ndim：{arr_1.ndim}\")\n",
    "print(f\"数组项类型dtype：{arr_1.dtype}\")\n",
    "print(f\"元素个数size:{arr_1.size}\")\n",
    "print(\"\\n\")\n",
    "\n",
    "# 二维数组\n",
    "arr_2 = np.array([[1, 2], [3, 4], [5, 6]])\n",
    "print(f\"二维数组：{arr_2}\")\n",
    "print(f\"数组类型：{type(arr_2)}\")\n",
    "print(f\"维数ndim：{arr_2.ndim}\")\n",
    "print(f\"数组项类型dtype：{arr_2.dtype}\")\n",
    "print(f\"元素个数size:{arr_2.size}\")\n",
    "print(\"\\n\")\n",
    "\n",
    "# 三维数组\n",
    "arr_3 = np.array([[[1, 2, 3], [5, 6, 7]], [[11, 22, 33], [44, 55, 66.]]])\n",
    "print(f\"三维数组：{arr_3}\")\n",
    "print(f\"数组类型：{type(arr_2)}\")\n",
    "print(f\"维数ndim：{arr_3.ndim}\")\n",
    "print(f\"数组项类型dtype：{arr_3.dtype}\")\n",
    "print(f\"元素个数size:{arr_3.size}\")\n"
   ]
  },
  {
   "cell_type": "markdown",
   "metadata": {},
   "source": [
    "### inner_func 内置函数创建数组"
   ]
  },
  {
   "cell_type": "code",
   "execution_count": 3,
   "metadata": {},
   "outputs": [
    {
     "name": "stdout",
     "output_type": "stream",
     "text": [
      "[0 1 2 3 4 5 6 7 8 9]\n",
      "zeros:\n",
      " [[0. 0. 0.]\n",
      " [0. 0. 0.]\n",
      " [0. 0. 0.]]\n",
      "ones:\n",
      " [[1 1]\n",
      " [1 1]]\n",
      "zeros_like:\n",
      " [[0 0]\n",
      " [0 0]]\n",
      "eye:\n",
      " [[1. 0. 0. 0.]\n",
      " [0. 1. 0. 0.]\n",
      " [0. 0. 1. 0.]\n",
      " [0. 0. 0. 1.]]\n"
     ]
    },
    {
     "data": {
      "text/plain": [
       "'\\n[[1. 0. 0. 0.]\\n[0. 1. 0. 0.]\\n[0. 0. 1. 0.]\\n[0. 0. 0. 1.]]\\n'"
      ]
     },
     "execution_count": 3,
     "metadata": {},
     "output_type": "execute_result"
    }
   ],
   "source": [
    "# 内置函数创建数组\n",
    "# 创建数组\n",
    "print(np.arange(0, 10, 1))  # [0, 1, 2, 3, 4, 5, 6, 7, 8, 9]\n",
    "\n",
    "# zeros\n",
    "print(\"zeros:\\n\", np.zeros((3, 3), dtype=float))\n",
    "\"\"\"\n",
    "[[0. 0. 0.]\n",
    "[0. 0. 0.]\n",
    "[0. 0. 0.]]\n",
    "\"\"\"\n",
    "\n",
    "# ones\n",
    "print(\"ones:\\n\", np.ones((2, 2), dtype=int))\n",
    "\"\"\"\n",
    "[[1 1]\n",
    "[1 1]]\n",
    "\"\"\"\n",
    "\n",
    "# zeros_like\n",
    "print(\"zeros_like:\\n\", np.zeros_like([[1, 1], [1, 1]]))\n",
    "\"\"\"\n",
    "[[0 0]\n",
    "[0 0]]\n",
    "\"\"\"\n",
    "\n",
    "# eye\n",
    "print(\"eye:\\n\", np.eye(4))\n",
    "\"\"\"\n",
    "[[1. 0. 0. 0.]\n",
    "[0. 1. 0. 0.]\n",
    "[0. 0. 1. 0.]\n",
    "[0. 0. 0. 1.]]\n",
    "\"\"\"\n"
   ]
  },
  {
   "cell_type": "markdown",
   "metadata": {},
   "source": [
    "### NumPy常用函数"
   ]
  },
  {
   "cell_type": "code",
   "execution_count": 4,
   "metadata": {},
   "outputs": [
    {
     "name": "stdout",
     "output_type": "stream",
     "text": [
      "求和: 15\n",
      "求均值 3.0\n",
      "最大值: 5\n",
      "最小值: 1\n",
      "累积和: [ 1  3  6 10 15]\n",
      "二维求和 21\n",
      "二维求均值 3.5\n",
      "二维最大值: 6\n",
      "二维最小值: 1\n",
      "二维累积和: [ 1  3  6 10 15 21]\n"
     ]
    }
   ],
   "source": [
    "# NumPy常用函数\n",
    "arr = np.array([1, 2, 3, 4, 5])\n",
    "print(\"求和:\", np.sum(arr))  # 15\n",
    "print(\"求均值\", np.mean(arr))  # 3.0\n",
    "print(\"最大值:\", np.max(arr))  # 5\n",
    "print(\"最小值:\", np.min(arr))  # 1\n",
    "print(\"累积和:\", np.cumsum(arr))  # [ 1  3  6 10 15]\n",
    "\n",
    "arr_2 = np.array([[1, 2], [3, 4], [5, 6]])\n",
    "print(\"二维求和\", np.sum(arr_2))  # 21\n",
    "print(\"二维求均值\", np.mean(arr_2))  # 3.5\n",
    "print(\"二维最大值:\", np.max(arr_2))  # 6\n",
    "print(\"二维最小值:\", np.min(arr_2))  # 1\n",
    "print(\"二维累积和:\", np.cumsum(arr_2))  # [ 1  3  6 10 15 21]\n"
   ]
  },
  {
   "cell_type": "markdown",
   "metadata": {},
   "source": [
    "### numpy数据操作,index_and_slice"
   ]
  },
  {
   "cell_type": "code",
   "execution_count": 5,
   "metadata": {},
   "outputs": [
    {
     "name": "stdout",
     "output_type": "stream",
     "text": [
      "[1 2 3]\n",
      "[[1 2 3]]\n",
      "[1]\n",
      "[[1]]\n",
      "\n",
      "\n",
      "[False False False  True  True  True]\n",
      "[4 5 6]\n",
      "[10 40 50]\n"
     ]
    }
   ],
   "source": [
    "# 数组索引与切片\n",
    "arr = np.array([[1, 2, 3], [4, 5, 6], [7, 8, 9]])\n",
    "\n",
    "print(arr[0])  # [1,2,3]\n",
    "print(arr[0:1])  # [[1 2 3]]\n",
    "print(arr[0:1, 0])  # [1]\n",
    "print(arr[0:1, 0:1])  # [[1]]\n",
    "print(\"\\n\")\n",
    "\n",
    "# bool索引，布尔索引用于基于条件来选择数组中的元素\n",
    "arr = np.array([1, 2, 3, 4, 5, 6])\n",
    "bool_idx = arr > 3\n",
    "print(bool_idx)  # [False False False  True  True  True]\n",
    "print(arr[bool_idx])  # 去除大于3的项 [4 5 6]\n",
    "\n",
    "# 花式索引，花式索引允许我们使用数组或列表来指定索引顺序，从而按特定顺序选择数组中的元素\n",
    "arr = np.array([10, 20, 30, 40, 50])\n",
    "indices = [0, 3, 4]\n",
    "print(arr[indices])  # [10 40 50]\n"
   ]
  },
  {
   "cell_type": "markdown",
   "metadata": {},
   "source": [
    "### numpy_shape"
   ]
  },
  {
   "cell_type": "code",
   "execution_count": 6,
   "metadata": {},
   "outputs": [
    {
     "name": "stdout",
     "output_type": "stream",
     "text": [
      "share...\n",
      "arr_1 share:(3,)\n",
      "arr_2 share:(3, 2)\n",
      "arr_3 share:(2, 2, 3)\n",
      "转置T...\n",
      "arr_1 T:[1. 2. 3.]\n",
      "arr_2 T:[[1 3 5]\n",
      " [2 4 6]]\n",
      "转置 transpose\n",
      "transpose 1:[1. 2. 3.]\n",
      "transpose 2:[[1 3 5]\n",
      " [2 4 6]]\n",
      "[[1 2]\n",
      " [3 4]\n",
      " [5 6]]\n",
      "[[1 2 3]\n",
      " [4 5 6]]\n",
      "ravel:二维数组转一维数组 [1 2 3 4 5 6]\n",
      "ravel:三维数组转一维数组 [ 1  2  3  4  5  6 11 22 33 44 55 66]\n",
      "flatten:二维数组转一维数组 [1 2 3 4 5 6]\n",
      "flatten:三维数组转一维数组 [ 1  2  3  4  5  6 11 22 33 44 55 66]\n",
      "[[1 4]\n",
      " [2 5]\n",
      " [3 6]]\n",
      "[[1 4]\n",
      " [2 5]\n",
      " [3 6]]\n",
      "(3,)\n",
      "[[1]\n",
      " [2]\n",
      " [3]]\n",
      "(3, 1)\n"
     ]
    }
   ],
   "source": [
    "# 数组形状 share\n",
    "arr_1 = np.array([1, 2, 3], float)\n",
    "arr_2 = np.array([[1, 2], [3, 4], [5, 6]])\n",
    "arr_3 = np.array([[[1, 2, 3], [5, 6, 7]], [[11, 22, 33], [44, 55, 66.]]])\n",
    "print(\"share...\")\n",
    "print(f\"arr_1 share:{arr_1.shape}\")\n",
    "print(f\"arr_2 share:{arr_2.shape}\")\n",
    "print(f\"arr_3 share:{arr_3.shape}\")\n",
    "# 转置\n",
    "print(\"转置T...\")\n",
    "print(f\"arr_1 T:{arr_1.T}\")\n",
    "print(f\"arr_2 T:{arr_2.T}\")\n",
    "\n",
    "print(\"转置 transpose\")\n",
    "print(f\"transpose 1:{arr_1.transpose()}\")\n",
    "print(f\"transpose 2:{arr_2.transpose()}\")\n",
    "\n",
    "# reshape 方法可以改变数组的形状而不改变数据内容\n",
    "arr = np.array([1, 2, 3, 4, 5, 6])\n",
    "reshaped_arr = arr.reshape((3, 2))\n",
    "print(reshaped_arr)\n",
    "\"\"\"\n",
    "[[1 2]\n",
    "[3 4]\n",
    "[5 6]]\n",
    "\"\"\"\n",
    "reshaped_arr = arr.reshape((2, 3))\n",
    "print(reshaped_arr)\n",
    "\"\"\"\n",
    "[[1 2 3]\n",
    "[4 5 6]]\n",
    "\"\"\"\n",
    "\n",
    "# ravel方法将多维数组展平成一维数组\n",
    "matrix = np.array([[1, 2, 3], [4, 5, 6]])\n",
    "flattened = matrix.ravel()\n",
    "print(\"ravel:二维数组转一维数组\", flattened)  # [1 2 3 4 5 6]\n",
    "\n",
    "matrix = np.array([[[1, 2, 3], [4, 5, 6]], [[11, 22, 33], [44, 55, 66]]])\n",
    "flattened = matrix.ravel()\n",
    "print(\"ravel:三维数组转一维数组\", flattened)  # [ 1  2  3  4  5  6 11 22 33 44 55 66]\n",
    "\n",
    "# flatten把多维数组转换为⼀维数组，注意每个元组的⻓度是相同的\n",
    "matrix = np.array([[1, 2, 3], [4, 5, 6]])\n",
    "flattened = matrix.flatten()\n",
    "print(\"flatten:二维数组转一维数组\", flattened)  # [1 2 3 4 5 6]\n",
    "\n",
    "matrix = np.array([[[1, 2, 3], [4, 5, 6]], [[11, 22, 33], [44, 55, 66]]])\n",
    "flattened = matrix.flatten()\n",
    "print(\"flatten:三维数组转一维数组\", flattened)  # [ 1  2  3  4  5  6 11 22 33 44 55 66]\n",
    "\n",
    "# transpose方法用于矩阵的转置操作，交换数组的维度\n",
    "matrix = np.array([[1, 2, 3], [4, 5, 6]])\n",
    "\n",
    "# 转置 darray.T\n",
    "print(matrix.T)\n",
    "\"\"\"\n",
    "[[1 4]\n",
    "[2 5]\n",
    "[3 6]]\n",
    "\"\"\"\n",
    "transposed = matrix.transpose()\n",
    "print(transposed)\n",
    "\"\"\"\n",
    "[[1 4]\n",
    "[2 5]\n",
    "[3 6]]\n",
    "\"\"\"\n",
    "\n",
    "# newaxis : 增加维度\n",
    "newaxis_arr = np.array([1, 2, 3])\n",
    "print(newaxis_arr.shape)  # (3,)\n",
    "\n",
    "newaxis_arr = newaxis_arr[:, np.newaxis]\n",
    "print(newaxis_arr)\n",
    "\"\"\"\n",
    "[[1]\n",
    "[2]\n",
    "[3]]\n",
    "\"\"\"\n",
    "print(newaxis_arr.shape)  # (3, 1)\n"
   ]
  },
  {
   "cell_type": "markdown",
   "metadata": {},
   "source": [
    "### 数组的运算 arithmetic_operations"
   ]
  },
  {
   "cell_type": "code",
   "execution_count": 7,
   "metadata": {},
   "outputs": [
    {
     "name": "stdout",
     "output_type": "stream",
     "text": [
      "[2 4 6]\n",
      "[0 0 0]\n",
      "[1 4 9]\n",
      "[1. 1. 1.]\n",
      "---\n",
      "sum 求和： 9\n",
      "sum 求积： 12\n",
      "---\n",
      "mean 平均数: 3.0\n",
      "var 方差: 2.6666666666666665\n",
      "std 标准差: 1.632993161855452\n",
      "max 最大值: 5\n",
      "min 最⼩值: 1\n",
      "---\n",
      "argmax 最大值索引: 2\n",
      "argmin 最小值索引: 0\n",
      "ceil 取元素值上限: [2. 4. 5.]\n",
      "floor 取元素值下限: [1. 3. 4.]\n",
      "rint 四舍五入: [1. 4. 5.]\n",
      "---\n",
      "[10 20 30]\n",
      "---\n",
      "[[2 2 4]\n",
      " [5 5 7]]\n"
     ]
    },
    {
     "data": {
      "text/plain": [
       "'\\n[[2 2 4]\\n[5 5 7]]\\n'"
      ]
     },
     "execution_count": 7,
     "metadata": {},
     "output_type": "execute_result"
    }
   ],
   "source": [
    "# 算数运算\n",
    "arr_1 = np.array([1, 2, 3])\n",
    "arr_2 = np.array([1, 2, 3])\n",
    "\n",
    "print(arr_1 + arr_2)  # [2 4 6]\n",
    "print(arr_1 - arr_2)  # [0 0 0]\n",
    "print(arr_1 * arr_2)  # [1 4 9]\n",
    "print(arr_1 / arr_2)  # [1. 1. 1.]\n",
    "print(\"---\")\n",
    "\n",
    "# 求和、求积\n",
    "arr_3 = np.array([1, 2, 6])\n",
    "print(\"sum 求和：\", arr_3.sum())\n",
    "print(\"sum 求积：\", arr_3.prod())\n",
    "print(\"---\")\n",
    "\n",
    "# 平均数，⽅差，标准差，最⼤值，最⼩值\n",
    "arr_4 = np.array([1, 3, 5])\n",
    "print(\"mean 平均数:\", arr_4.mean())\n",
    "print(\"var 方差:\", arr_4.var())\n",
    "print(\"std 标准差:\", arr_4.std())\n",
    "print(\"max 最大值:\", arr_4.max())\n",
    "print(\"min 最⼩值:\", arr_4.min())\n",
    "print(\"---\")\n",
    "\n",
    "# 最⼤与最⼩值对应的索引值：argmax,argmin:\n",
    "# 取元素值上限，下限，四舍五⼊：ceil, floor, rint\n",
    "arr_5 = np.array([1.2, 3.8, 4.9])\n",
    "print(\"argmax 最大值索引:\", arr_5.argmax())\n",
    "print(\"argmin 最小值索引:\", arr_5.argmin())\n",
    "print(\"ceil 取元素值上限:\", np.ceil(arr_5))\n",
    "print(\"floor 取元素值下限:\", np.floor(arr_5))\n",
    "print(\"rint 四舍五入:\", np.rint(arr_5))\n",
    "print(\"---\")\n",
    "\n",
    "# 标量运算\n",
    "print(arr_1 * 10)  # [10 20 30]\n",
    "print(\"---\")\n",
    "\n",
    "# 广播是NumPy的一个强大特性，它允许对形状不同的数组进行算术运算。\n",
    "# NumPy会自动扩展较小的数组，使得它们的形状兼容，从而完成运算\n",
    "arr_1 = np.array([[1, 2, 3], [4, 5, 6]])\n",
    "arr_2 = np.array([1, 0, 1])\n",
    "\n",
    "print(arr_1 + arr_2)\n",
    "\"\"\"\n",
    "[[2 2 4]\n",
    "[5 5 7]]\n",
    "\"\"\"\n"
   ]
  },
  {
   "cell_type": "markdown",
   "metadata": {},
   "source": [
    "### Numpy矩阵操作（高级）"
   ]
  },
  {
   "cell_type": "code",
   "execution_count": 8,
   "metadata": {},
   "outputs": [
    {
     "name": "stdout",
     "output_type": "stream",
     "text": [
      "[[19 22]\n",
      " [43 50]]\n",
      "[[19 22]\n",
      " [43 50]]\n",
      "[[ 5 12]\n",
      " [21 32]]\n",
      "[[-2.   1. ]\n",
      " [ 1.5 -0.5]]\n",
      "[[1. 2.]\n",
      " [3. 4.]]\n"
     ]
    },
    {
     "data": {
      "text/plain": [
       "'\\n[[1. 2.]\\n[3. 4.]]\\n'"
      ]
     },
     "execution_count": 8,
     "metadata": {},
     "output_type": "execute_result"
    }
   ],
   "source": [
    "# Numpy矩阵操作（高级）\n",
    "# 矩阵乘法\n",
    "arr_1 = np.array([[1, 2], [3, 4]])\n",
    "arr_2 = np.array([[5, 6], [7, 8]])\n",
    "\n",
    "# 使用dot函数进行矩阵乘法(arr_1 横向行项分别跟arr_2纵向分别相乘的和)\n",
    "# 使用np.dot()函数进行了矩阵乘法，结果是两个矩阵的标准矩阵乘积\n",
    "result = np.dot(arr_1, arr_2)\n",
    "print(result)\n",
    "\"\"\"\n",
    "arr_1=a\n",
    "arr_2=b\n",
    "\n",
    "a11 * b11 + a12 * b21 = 1*5+2*7=19\n",
    "a11 * b12 + a12 * b22 = 1*6+2*8=22\n",
    "a21 * b11 + a22 * b21 = 3*5+4*7=43\n",
    "a21 * b12 + a22 * b22 = 3*6+4*8=50\n",
    "\n",
    "[[19 22]\n",
    "[43 50]]\n",
    "\"\"\"\n",
    "# dot 等同于 @\n",
    "print(arr_1 @ arr_2)\n",
    "\n",
    "# * 对比dot\n",
    "result = arr_1 * arr_2\n",
    "print(result)\n",
    "\"\"\"\n",
    "[[ 5 12]\n",
    "[21 32]]\n",
    "\"\"\"\n",
    "\n",
    "# 矩阵的逆，使用np.linalg.inv()函数来计算矩阵的逆\n",
    "arr = np.array([[1, 2], [3, 4]])\n",
    "arr_inv = np.linalg.inv(arr)\n",
    "print(arr_inv)\n",
    "\n",
    "\"\"\"\n",
    "[[-2.   1. ]\n",
    "[ 1.5 -0.5]]\n",
    "\"\"\"\n",
    "\n",
    "arr = np.array([[-2., 1.], [1.5, -0.5]])\n",
    "arr_inv = np.linalg.inv(arr)\n",
    "print(arr_inv)\n",
    "\"\"\"\n",
    "[[1. 2.]\n",
    "[3. 4.]]\n",
    "\"\"\"\n",
    "\n",
    "# arr = np.array([[0, 0], [3, 4]])\n",
    "# arr_inv = np.linalg.inv(arr)\n",
    "# print(arr_inv) # LinAlgError: Singular matrix\n"
   ]
  },
  {
   "cell_type": "markdown",
   "metadata": {},
   "source": [
    "### 广播机制"
   ]
  },
  {
   "cell_type": "code",
   "execution_count": 9,
   "metadata": {},
   "outputs": [
    {
     "name": "stdout",
     "output_type": "stream",
     "text": [
      "[[2 2 4]\n",
      " [5 5 7]]\n",
      "[[2 2 4]\n",
      " [7 8 9]]\n",
      "operands could not be broadcast together with shapes (2,3) (2,) \n",
      "[0.18163901 0.10916568 0.48077437 0.19876987 0.1925944 ]\n",
      "---\n",
      "[[0.36872511 0.74919979 0.57880257]\n",
      " [0.4123466  0.08227294 0.80441764]\n",
      " [0.99839055 0.80886926 0.96498323]]\n",
      "---\n",
      "[ 0.06168115 -0.05498912  0.0162885  -0.20932898  0.03323028]\n",
      "---\n",
      "[[-1.44970395 -2.18293169 -0.06945888]\n",
      " [ 2.30970701 -0.68986004 -0.95576462]\n",
      " [ 1.78193471  1.42148357  0.78933612]]\n",
      "---\n",
      "[[9 5 5]\n",
      " [3 0 2]\n",
      " [9 5 0]]\n"
     ]
    }
   ],
   "source": [
    "# 广播机制\n",
    "arr_1 = np.array([[1, 2, 3], [4, 5, 6]])\n",
    "arr_2 = np.array([1, 0, 1])  # 缺失的维度，即[[1,0,1],[1,0,1]]\n",
    "\n",
    "result = arr_1 + arr_2\n",
    "print(result)\n",
    "\"\"\"\n",
    "[[2 2 4]\n",
    "[5 5 7]]\n",
    "\"\"\"\n",
    "\n",
    "arr_1 = np.array([[1, 2, 3], [4, 5, 6]])\n",
    "arr_2 = np.array([[1, 0, 1], [3, 3, 3]])\n",
    "\n",
    "result = arr_1 + arr_2\n",
    "print(result)\n",
    "\"\"\"\n",
    "[[2 2 4]\n",
    "[7 8 9]]\n",
    "\"\"\"\n",
    "\n",
    "arr_1 = np.array([[1, 2, 3],\n",
    "                  [4, 5, 6]])  # shape (2, 3)\n",
    "\n",
    "arr_2 = np.array([10, 20, 30])  # shape (3,)\n",
    "\n",
    "result = arr_1 + arr_2\n",
    "\"\"\"\n",
    "1. 首先，NumPy 会将arr_2 的形状从 (3,) 扩展为 (1, 3)\n",
    "2. 然后，NumPy 会将arr_2沿着第一个维度复制，使其形状变为(2, 3)\n",
    "3. 最后，进行元素级的加法操作。\n",
    "arr_1 + arr_2 = [[1+10, 2+20, 3+30],\n",
    "                [4+10, 5+20, 6+30]] \n",
    "            = [[11, 22, 33],\n",
    "                [14, 25, 36]]\n",
    "\"\"\"\n",
    "\n",
    "# 广播机制的限制,两个数组在某个维度上都不为1，且大小不相同，NumPy 会抛出 `ValueError` 异常，表示无法进行广播\n",
    "try:\n",
    "    arr_1 = np.array([[1, 2, 3],\n",
    "                      [4, 5, 6]])  # shape (2, 3)\n",
    "\n",
    "    arr_2 = np.array([10, 20])  # shape (2,)\n",
    "    result = arr_1 + arr_2\n",
    "except Exception as ex:\n",
    "    print(ex)\n",
    "\n",
    "# 随机数生成\n",
    "# ⽣成指定⻓度，在 [0,1) 之间平均分布的随机数组：\n",
    "random_arr = np.random.random(5)\n",
    "print(random_arr)\n",
    "print(\"---\")\n",
    "\n",
    "# 生成一个3x3的随机数组，元素在[0, 1)之间\n",
    "rand_arr = np.random.rand(3, 3)\n",
    "print(rand_arr)\n",
    "print(\"---\")\n",
    "\n",
    "# ⽣成指定⻓度，符合正态分布的随机数组，指定其均值为 0，标准差为 0.1：\n",
    "mu, sigma = 0, 0.1\n",
    "normal_arr = np.random.normal(mu, sigma, 5)\n",
    "print(normal_arr)\n",
    "print(\"---\")\n",
    "\n",
    "# 生成一个服从标准正态分布的随机数组\n",
    "normal_arr = np.random.randn(3, 3)\n",
    "print(normal_arr)\n",
    "print(\"---\")\n",
    "\n",
    "# 生成一个0到10之间的随机整数数组\n",
    "int_arr = np.random.randint(0, 10, size=(3, 3))\n",
    "print(int_arr)\n"
   ]
  },
  {
   "cell_type": "code",
   "execution_count": null,
   "metadata": {},
   "outputs": [],
   "source": []
  }
 ],
 "metadata": {
  "kernelspec": {
   "display_name": "py312",
   "language": "python",
   "name": "python3"
  },
  "language_info": {
   "codemirror_mode": {
    "name": "ipython",
    "version": 3
   },
   "file_extension": ".py",
   "mimetype": "text/x-python",
   "name": "python",
   "nbconvert_exporter": "python",
   "pygments_lexer": "ipython3",
   "version": "3.12.9"
  }
 },
 "nbformat": 4,
 "nbformat_minor": 2
}
