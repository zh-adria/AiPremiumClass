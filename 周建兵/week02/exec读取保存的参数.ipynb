{
 "cells": [
  {
   "cell_type": "code",
   "execution_count": 19,
   "metadata": {},
   "outputs": [],
   "source": [
    "# 调整学习率，样本数据拆分比率，观察训练结果\n",
    "# 把模型训练参数保存到文件，在另一个代码中加载参数实现预测功能"
   ]
  },
  {
   "cell_type": "code",
   "execution_count": 20,
   "metadata": {},
   "outputs": [],
   "source": [
    "from sklearn.model_selection import train_test_split\n",
    "import numpy as np\n",
    "\n",
    "# 使用sklearn数据集训练逻辑回归模型\n",
    "from sklearn.datasets import load_iris"
   ]
  },
  {
   "cell_type": "code",
   "execution_count": 21,
   "metadata": {},
   "outputs": [],
   "source": [
    "# 1. 生成数据集\n",
    "_test_size = 0.3\n",
    "X,y = load_iris(return_X_y=True)\n",
    "X = X[:100] \n",
    "y = y[:100]\n",
    "X_train, X_test, y_train, y_test = train_test_split(X, y, test_size=_test_size)"
   ]
  },
  {
   "cell_type": "code",
   "execution_count": 22,
   "metadata": {},
   "outputs": [
    {
     "name": "stdout",
     "output_type": "stream",
     "text": [
      "[[-0.91786827 -1.85904983  3.5766107   1.57973232]]\n",
      "-0.03566147625811531\n"
     ]
    }
   ],
   "source": [
    "\n",
    "# 权重参数\n",
    "#theta = np.random.randn(1, X_train.shape[1]) # shape (1, 4)\n",
    "#bias = 0\n",
    "dict_data = np.load('data.npz')\n",
    "theta = dict_data['theta']\n",
    "bias = dict_data['bias']\n",
    "print(theta)\n",
    "print(bias)\n",
    "# 超参数\n",
    "learning_rate = 0.01 # 学习率\n",
    "epochs = 1000 # 迭代次数"
   ]
  },
  {
   "cell_type": "code",
   "execution_count": 23,
   "metadata": {},
   "outputs": [],
   "source": [
    "# 2. 模型计算函数\n",
    "def forward(x, theta, bias):\n",
    "    # 线性运算\n",
    "    z = np.dot(theta, x.T) + bias # shape (105,10)\n",
    "    # sigmoid\n",
    "    y_hat = 1 / (1 + np.exp(-z))  # shape (105,10)\n",
    "    return y_hat"
   ]
  },
  {
   "cell_type": "code",
   "execution_count": 24,
   "metadata": {},
   "outputs": [],
   "source": [
    "# 3. 计算损失函数\n",
    "def loss(y, y_hat):\n",
    "    e = 1e-8\n",
    "    return - y * np.log(y_hat + e) - (1 - y) * np.log(1 - y_hat + e)"
   ]
  },
  {
   "cell_type": "code",
   "execution_count": 25,
   "metadata": {},
   "outputs": [],
   "source": [
    "# 4. 计算梯度\n",
    "def calc_gradient(x,y,y_hat):\n",
    "    # 计算梯度\n",
    "    m = x.shape[-1]\n",
    "    # theta梯度计算\n",
    "    delta_theta = np.dot((y_hat - y), x) / m\n",
    "    # bias梯度计算\n",
    "    delta_bias = np.mean(y_hat - y)\n",
    "    # 返回梯度\n",
    "    return delta_theta, delta_bias"
   ]
  },
  {
   "cell_type": "code",
   "execution_count": 26,
   "metadata": {},
   "outputs": [
    {
     "name": "stdout",
     "output_type": "stream",
     "text": [
      "epoch: 0, loss: 0.004384133500216676, acc: 1.0\n",
      "epoch: 100, loss: 0.003882336823141474, acc: 1.0\n",
      "epoch: 200, loss: 0.0035874362757169326, acc: 1.0\n",
      "epoch: 300, loss: 0.0033359012909256803, acc: 1.0\n",
      "epoch: 400, loss: 0.0031185172464823093, acc: 1.0\n",
      "epoch: 500, loss: 0.002928700492922088, acc: 1.0\n",
      "epoch: 600, loss: 0.002761465838467737, acc: 1.0\n",
      "epoch: 700, loss: 0.002612967392166986, acc: 1.0\n",
      "epoch: 800, loss: 0.00248018984664941, acc: 1.0\n",
      "epoch: 900, loss: 0.0023607351470179574, acc: 1.0\n"
     ]
    }
   ],
   "source": [
    "# 5. 模型训练\n",
    "for i in range(epochs):\n",
    "    # 前向计算\n",
    "    y_hat = forward(X_train, theta, bias)\n",
    "    # 计算损失\n",
    "    loss_val = loss(y_train, y_hat)\n",
    "    # 计算梯度\n",
    "    delta_theta, delta_bias = calc_gradient(X_train, y_train, y_hat)\n",
    "    # 更新参数\n",
    "    theta = theta - learning_rate * delta_theta\n",
    "    bias = bias - learning_rate * delta_bias\n",
    "\n",
    "    if i % 100 == 0:\n",
    "        # 计算准确率\n",
    "        acc = np.mean(np.round(y_hat) == y_train)  # [False,True,...,False] -> [0,1,...,0]\n",
    "        print(f\"epoch: {i}, loss: {np.mean(loss_val)}, acc: {acc}\")"
   ]
  }
 ],
 "metadata": {
  "kernelspec": {
   "display_name": "base",
   "language": "python",
   "name": "python3"
  },
  "language_info": {
   "codemirror_mode": {
    "name": "ipython",
    "version": 3
   },
   "file_extension": ".py",
   "mimetype": "text/x-python",
   "name": "python",
   "nbconvert_exporter": "python",
   "pygments_lexer": "ipython3",
   "version": "3.12.8"
  }
 },
 "nbformat": 4,
 "nbformat_minor": 2
}
