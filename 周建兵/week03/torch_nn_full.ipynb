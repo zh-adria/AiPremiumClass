{
 "cells": [
  {
   "cell_type": "code",
   "execution_count": 92,
   "metadata": {},
   "outputs": [],
   "source": [
    "# 导入必要包\n",
    "import torch\n",
    "import torch.nn as nn\n",
    "import torch.optim as optim\n",
    "from torchvision.transforms.v2 import ToTensor     # 转换图像数据为张量\n",
    "from torchvision.datasets import KMNIST\n",
    "from torch.utils.data import DataLoader"
   ]
  },
  {
   "cell_type": "code",
   "execution_count": 93,
   "metadata": {},
   "outputs": [],
   "source": [
    "# 超参数\n",
    "LR = 0.001 # 0.001 学习率为0.01时候，训练效果更好\n",
    "EPOCHS = 50\n",
    "BATCH_SIZE = 32 # 64 批次越小，训练时间越长，但是训练效果更好"
   ]
  },
  {
   "cell_type": "code",
   "execution_count": 94,
   "metadata": {},
   "outputs": [],
   "source": [
    "# 数据集加载\n",
    "# torchvision.datasets.KMNIST(root: Union[str, Path], train: bool = True, transform: Optional[Callable] = None, target_transform: Optional[Callable] = None, download: bool = False)\n",
    "train_data = KMNIST(root='./KMNIST_Data', train=True, transform=ToTensor(), target_transform=ToTensor(), download=True)\n",
    "test_data = KMNIST(root='./KMNIST_Data', train=False, transform=ToTensor(), target_transform=ToTensor(), download=True)\n"
   ]
  },
  {
   "cell_type": "code",
   "execution_count": 95,
   "metadata": {},
   "outputs": [
    {
     "data": {
      "text/plain": [
       "torch.Size([1, 28, 28])"
      ]
     },
     "execution_count": 95,
     "metadata": {},
     "output_type": "execute_result"
    }
   ],
   "source": [
    "train_data[0][0].shape"
   ]
  },
  {
   "cell_type": "code",
   "execution_count": 96,
   "metadata": {},
   "outputs": [],
   "source": [
    "trian_dl = DataLoader(train_data, batch_size=BATCH_SIZE, shuffle=True)  # shuffle=True表示打乱数据"
   ]
  },
  {
   "cell_type": "code",
   "execution_count": 97,
   "metadata": {},
   "outputs": [],
   "source": [
    "# 定义模型\n",
    "## 神经元数量越多， 模型越复杂， 训练时间越长， 但是准确率越高\n",
    "model = nn.Sequential(\n",
    "    nn.Linear(784, 128),\n",
    "    nn.Sigmoid(),\n",
    "    nn.Linear(128, 10)\n",
    ")"
   ]
  },
  {
   "cell_type": "code",
   "execution_count": 98,
   "metadata": {},
   "outputs": [
    {
     "data": {
      "text/plain": [
       "Sequential(\n",
       "  (0): Linear(in_features=784, out_features=128, bias=True)\n",
       "  (1): Sigmoid()\n",
       "  (2): Linear(in_features=128, out_features=10, bias=True)\n",
       ")"
      ]
     },
     "execution_count": 98,
     "metadata": {},
     "output_type": "execute_result"
    }
   ],
   "source": [
    "model"
   ]
  },
  {
   "cell_type": "code",
   "execution_count": 99,
   "metadata": {},
   "outputs": [],
   "source": [
    "# 损失函数&优化器\n",
    "loss_fn = nn.CrossEntropyLoss()  # 交叉熵损失函数\n",
    "# 优化器（模型参数更新）\n",
    "optimizer = optim.SGD(model.parameters(), lr=LR)"
   ]
  },
  {
   "cell_type": "code",
   "execution_count": 100,
   "metadata": {},
   "outputs": [
    {
     "name": "stdout",
     "output_type": "stream",
     "text": [
      "Epoch:0 Loss: 2.2653586864471436\n",
      "Epoch:1 Loss: 2.201000213623047\n",
      "Epoch:2 Loss: 2.1436164379119873\n",
      "Epoch:3 Loss: 2.0474472045898438\n",
      "Epoch:4 Loss: 2.006267786026001\n",
      "Epoch:5 Loss: 1.897168517112732\n",
      "Epoch:6 Loss: 1.7029169797897339\n",
      "Epoch:7 Loss: 1.7497572898864746\n",
      "Epoch:8 Loss: 1.737067461013794\n",
      "Epoch:9 Loss: 1.5919218063354492\n",
      "Epoch:10 Loss: 1.5934805870056152\n",
      "Epoch:11 Loss: 1.332713007926941\n",
      "Epoch:12 Loss: 1.4134931564331055\n",
      "Epoch:13 Loss: 1.2592637538909912\n",
      "Epoch:14 Loss: 1.2907319068908691\n",
      "Epoch:15 Loss: 1.3370507955551147\n",
      "Epoch:16 Loss: 1.2118308544158936\n",
      "Epoch:17 Loss: 1.1482478380203247\n",
      "Epoch:18 Loss: 1.0992625951766968\n",
      "Epoch:19 Loss: 1.268397569656372\n",
      "Epoch:20 Loss: 0.9122025370597839\n",
      "Epoch:21 Loss: 0.9489626288414001\n",
      "Epoch:22 Loss: 1.0597217082977295\n",
      "Epoch:23 Loss: 0.9110960960388184\n",
      "Epoch:24 Loss: 0.8166453242301941\n",
      "Epoch:25 Loss: 1.0789971351623535\n",
      "Epoch:26 Loss: 0.9755407571792603\n",
      "Epoch:27 Loss: 0.8099924921989441\n",
      "Epoch:28 Loss: 0.6511939167976379\n",
      "Epoch:29 Loss: 0.758277952671051\n",
      "Epoch:30 Loss: 0.6809871196746826\n",
      "Epoch:31 Loss: 1.114829182624817\n",
      "Epoch:32 Loss: 0.9823598265647888\n",
      "Epoch:33 Loss: 0.6547361612319946\n",
      "Epoch:34 Loss: 0.6567531228065491\n",
      "Epoch:35 Loss: 0.706882119178772\n",
      "Epoch:36 Loss: 0.5508086681365967\n",
      "Epoch:37 Loss: 0.7851302623748779\n",
      "Epoch:38 Loss: 0.7289578318595886\n",
      "Epoch:39 Loss: 0.7609951496124268\n",
      "Epoch:40 Loss: 0.8476547002792358\n",
      "Epoch:41 Loss: 0.6254373788833618\n",
      "Epoch:42 Loss: 0.7196228504180908\n",
      "Epoch:43 Loss: 0.5737690329551697\n",
      "Epoch:44 Loss: 1.1124935150146484\n",
      "Epoch:45 Loss: 0.9969396591186523\n",
      "Epoch:46 Loss: 1.2579216957092285\n",
      "Epoch:47 Loss: 0.7446036338806152\n",
      "Epoch:48 Loss: 0.8681339621543884\n",
      "Epoch:49 Loss: 0.5667599439620972\n"
     ]
    }
   ],
   "source": [
    "for epoch in range(EPOCHS):\n",
    "    # 提取训练数据\n",
    "    for data, target in trian_dl:\n",
    "        # 前向运算\n",
    "        output = model(data.reshape(-1, 784))\n",
    "        # 计算损失\n",
    "        loss = loss_fn(output, target)\n",
    "        # 反向传播\n",
    "        optimizer.zero_grad()  # 所有参数梯度清零\n",
    "        loss.backward()     # 计算梯度（参数.grad）\n",
    "        optimizer.step()    # 更新参数\n",
    "\n",
    "    print(f'Epoch:{epoch} Loss: {loss.item()}')"
   ]
  },
  {
   "cell_type": "code",
   "execution_count": 102,
   "metadata": {},
   "outputs": [
    {
     "name": "stdout",
     "output_type": "stream",
     "text": [
      "Accuracy: 65.34%\n"
     ]
    }
   ],
   "source": [
    "# 测试\n",
    "test_dl = DataLoader(test_data, batch_size=BATCH_SIZE)\n",
    "\n",
    "correct = 0\n",
    "total = 0\n",
    "with torch.no_grad():  # 不计算梯度\n",
    "    for data, target in test_dl:\n",
    "        output = model(data.reshape(-1, 784))\n",
    "        _, predicted = torch.max(output, 1)  # 返回每行最大值和索引\n",
    "        total += target.size(0)  # size(0) 等效 shape[0]\n",
    "        correct += (predicted == target).sum().item()\n",
    "\n",
    "print(f'Accuracy: {correct/total*100}%')"
   ]
  }
 ],
 "metadata": {
  "kernelspec": {
   "display_name": "py312",
   "language": "python",
   "name": "python3"
  },
  "language_info": {
   "codemirror_mode": {
    "name": "ipython",
    "version": 3
   },
   "file_extension": ".py",
   "mimetype": "text/x-python",
   "name": "python",
   "nbconvert_exporter": "python",
   "pygments_lexer": "ipython3",
   "version": "3.12.8"
  }
 },
 "nbformat": 4,
 "nbformat_minor": 2
}
