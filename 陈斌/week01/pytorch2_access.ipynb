{
 "cells": [
  {
   "cell_type": "code",
   "execution_count": 5,
   "metadata": {},
   "outputs": [
    {
     "name": "stdout",
     "output_type": "stream",
     "text": [
      "原始张量: \n",
      " tensor([[ 0.2767, -0.6826, -0.3169,  1.3604],\n",
      "        [-0.2712, -1.2449, -0.1660,  0.7241],\n",
      "        [ 1.4916,  0.9854, -0.7983,  0.3595],\n",
      "        [-1.3402, -0.3410, -0.1998, -0.6995]])\n",
      "第一行数据： tensor([ 0.2767, -0.6826, -0.3169,  1.3604])\n",
      "第一列数据： tensor([ 0.2767, -0.2712,  1.4916, -1.3402])\n",
      "最后一列: tensor([ 1.3604,  0.7241,  0.3595, -0.6995])\n"
     ]
    }
   ],
   "source": [
    "'''tensor 的索引和切片'''\n",
    "import torch\n",
    "\n",
    "tsr_arr = torch.randn((4, 4))\n",
    "print(\"原始张量: \\n\", tsr_arr)\n",
    "print(\"第一行数据：\", tsr_arr[0])\n",
    "print(\"第一列数据：\", tsr_arr[:, 0])\n",
    "print(\"最后一列:\", tsr_arr[..., -1])"
   ]
  },
  {
   "cell_type": "code",
   "execution_count": 10,
   "metadata": {},
   "outputs": [
    {
     "name": "stdout",
     "output_type": "stream",
     "text": [
      "tensor([[1, 2],\n",
      "        [3, 4],\n",
      "        [5, 6],\n",
      "        [7, 8]])\n",
      "tensor([[1, 2, 5, 6],\n",
      "        [3, 4, 7, 8]])\n"
     ]
    }
   ],
   "source": [
    "'''张量拼接\n",
    "@function-torch.cat(inputs, dim) -> Tensor\n",
    "@params-inputs: 待拼接的张量序列，可以是任意相同Tensor类型的序列(shape相同)\n",
    "@params-dim: 选择的维度，不能超过待拼接的第一个序列的维度 \n",
    "'''\n",
    "tensor1 = torch.tensor([[1, 2], [3, 4]])\n",
    "tensor2 = torch.tensor([[5, 6], [7, 8]])\n",
    "tensor3 = torch.cat((tensor1, tensor2), dim=0)\n",
    "print(tensor3)\n",
    "tensor4 = torch.cat((tensor1, tensor2), dim=1)\n",
    "print(tensor4)"
   ]
  }
 ],
 "metadata": {
  "kernelspec": {
   "display_name": "py312",
   "language": "python",
   "name": "python3"
  },
  "language_info": {
   "codemirror_mode": {
    "name": "ipython",
    "version": 3
   },
   "file_extension": ".py",
   "mimetype": "text/x-python",
   "name": "python",
   "nbconvert_exporter": "python",
   "pygments_lexer": "ipython3",
   "version": "3.12.9"
  }
 },
 "nbformat": 4,
 "nbformat_minor": 2
}
