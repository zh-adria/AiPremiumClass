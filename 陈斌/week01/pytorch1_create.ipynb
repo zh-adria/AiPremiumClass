{
 "cells": [
  {
   "cell_type": "code",
   "execution_count": 2,
   "id": "fa35e3fc-4182-484f-985f-d85e1e6af3e8",
   "metadata": {},
   "outputs": [
    {
     "name": "stdout",
     "output_type": "stream",
     "text": [
      "2.5.1\n"
     ]
    },
    {
     "data": {
      "text/plain": [
       "tensor([[1., 2.],\n",
       "        [3., 4.]], dtype=torch.float64)"
      ]
     },
     "execution_count": 2,
     "metadata": {},
     "output_type": "execute_result"
    }
   ],
   "source": [
    "'''\n",
    "pytorch-张量\n",
    "Tensor\n",
    "'''\n",
    "import torch\n",
    "\n",
    "print(torch.__version__)\n",
    "\n",
    "tsr_arr = torch.tensor([[1, 2], [3, 4]], dtype=torch.float64)\n",
    "tsr_arr"
   ]
  },
  {
   "cell_type": "code",
   "execution_count": 10,
   "id": "69974551",
   "metadata": {},
   "outputs": [
    {
     "data": {
      "text/plain": [
       "tensor([[1., 2.],\n",
       "        [3., 4.]], dtype=torch.float64)"
      ]
     },
     "execution_count": 10,
     "metadata": {},
     "output_type": "execute_result"
    }
   ],
   "source": [
    "'''使用np.array生成, 会将 np定义的数据类型转换为torch的数据类型'''\n",
    "import numpy as np\n",
    "\n",
    "np_arr = np.array([[1, 2], [3, 4]], dtype=np.float64)\n",
    "tsr_arr = torch.from_numpy(np_arr)\n",
    "tsr_arr"
   ]
  },
  {
   "cell_type": "code",
   "execution_count": 11,
   "id": "b6a7926c",
   "metadata": {},
   "outputs": [
    {
     "data": {
      "text/plain": [
       "tensor([[0.6775, 0.4067],\n",
       "        [0.5247, 0.7241]], dtype=torch.float64)"
      ]
     },
     "execution_count": 11,
     "metadata": {},
     "output_type": "execute_result"
    }
   ],
   "source": [
    "'''使用现有张量作为模板，创建结构相同的新张量\n",
    "@注意：当使用 rand_like()生成随机数张量时，如果模板是int类型时，要在使用时 需要指定数据类型\n",
    "'''\n",
    "tsr_arr2 = torch.ones_like(tsr_arr) # 以 tsr_arr为模板，创建元素全都是1的新张量(同样的还有zeros_like:创建全部为0的张量)\n",
    "tsr_arr2    # 如果tsr_arr是float的，新的张量也是float\n",
    "# tsr_arr3 = torch.rand_like(tsr_arr, dtype=torch.float64)\n",
    "tsr_arr3 = torch.rand_like(tsr_arr)\n",
    "tsr_arr3"
   ]
  },
  {
   "cell_type": "code",
   "execution_count": null,
   "id": "05e80c7b",
   "metadata": {},
   "outputs": [
    {
     "name": "stdout",
     "output_type": "stream",
     "text": [
      "Random Tensor: \n",
      " tensor([[[0.9251, 0.5246, 0.3799, 0.4356],\n",
      "         [0.3967, 0.4015, 0.1455, 0.9895],\n",
      "         [0.4735, 0.1042, 0.9410, 0.5648]],\n",
      "\n",
      "        [[0.3801, 0.0555, 0.9222, 0.0790],\n",
      "         [0.2793, 0.5313, 0.7522, 0.7536],\n",
      "         [0.4518, 0.5462, 0.9305, 0.7687]]])\n",
      "Ones Tensor: \n",
      " tensor([[1., 1., 1., 1.],\n",
      "        [1., 1., 1., 1.],\n",
      "        [1., 1., 1., 1.]]), type: <built-in method type of Tensor object at 0x0000028D342DCEB0>\n",
      "Zeros Tensor: \n",
      " tensor([[0., 0., 0., 0.],\n",
      "        [0., 0., 0., 0.],\n",
      "        [0., 0., 0., 0.]]), type: <built-in method type of Tensor object at 0x0000028D342DCEB0>\n"
     ]
    }
   ],
   "source": [
    "'''使用shape自定义张量'''\n",
    "size = (3, 4)\n",
    "tsr_rand = torch.rand(size=(2, 3, 4))\n",
    "tsr_ones = torch.ones(size)\n",
    "tsr_zero = torch.zeros(size)\n",
    "print(f\"Random Tensor: \\n {tsr_rand}\")\n",
    "print(f\"Ones Tensor: \\n {tsr_ones}\")\n",
    "print(f\"Zeros Tensor: \\n {tsr_zero}\")"
   ]
  },
  {
   "cell_type": "code",
   "execution_count": 18,
   "id": "b671bdd9",
   "metadata": {},
   "outputs": [
    {
     "name": "stdout",
     "output_type": "stream",
     "text": [
      "Tensor'Shape: torch.Size([3, 4])\n",
      "Tensor'DataType: torch.float32\n",
      "Tensor'Stored Device: cpu\n"
     ]
    }
   ],
   "source": [
    "'''张量属性'''\n",
    "\n",
    "tsr_prope = torch.rand(3, 4)\n",
    "print(\"Tensor'Shape:\",tsr_prope.shape)  #obj.shape & obj.size()\n",
    "print(\"Tensor'DataType:\", tsr_prope.dtype)\n",
    "print(\"Tensor'Stored Device:\", tsr_prope.device)"
   ]
  },
  {
   "cell_type": "code",
   "execution_count": null,
   "id": "73d30b1f",
   "metadata": {},
   "outputs": [
    {
     "name": "stdout",
     "output_type": "stream",
     "text": [
      "torch 支持GPU加速吗：False\n",
      "torch 支持GPU加速吗：False\n"
     ]
    }
   ],
   "source": [
    "'''GPU&CPU\n",
    "@：检查一下本地服务器是否支持GPU加速\n",
    "'''\n",
    "print(f\"torch 支持GPU加速吗：{torch.cuda.is_available()}\")\n",
    "# mac上\n",
    "print(f\"torch 支持GPU加速吗：{torch.backends.mps.is_available()}\")"
   ]
  }
 ],
 "metadata": {
  "kernelspec": {
   "display_name": "py312",
   "language": "python",
   "name": "python3"
  },
  "language_info": {
   "codemirror_mode": {
    "name": "ipython",
    "version": 3
   },
   "file_extension": ".py",
   "mimetype": "text/x-python",
   "name": "python",
   "nbconvert_exporter": "python",
   "pygments_lexer": "ipython3",
   "version": "3.12.9"
  }
 },
 "nbformat": 4,
 "nbformat_minor": 5
}
