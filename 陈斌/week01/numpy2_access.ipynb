{
 "cells": [
  {
   "cell_type": "code",
   "execution_count": 33,
   "metadata": {},
   "outputs": [
    {
     "name": "stdout",
     "output_type": "stream",
     "text": [
      "原始数组：\n",
      " [[1. 2. 3.]\n",
      " [4. 5. 6.]\n",
      " [7. 8. 9.]]\n",
      "只要前两个：\n",
      " [[1. 2. 3.]\n",
      " [4. 5. 6.]] <class 'numpy.ndarray'>\n",
      "第二行，最后一列: 21.0 <class 'numpy.float64'>\n",
      "这个该死的小混蛋，它没在这里面\n",
      "True\n",
      "False\n"
     ]
    }
   ],
   "source": [
    "'''\n",
    "numpy数组对象访问\n",
    "1. 切片\n",
    "'''\n",
    "import numpy as np\n",
    "\n",
    "np_arr = np.array([[1, 2, 3], [4, 5, 6], [7, 8, 9]], dtype=np.float64)\n",
    "print(\"原始数组：\\n\",np_arr)\n",
    "# 切片访问\n",
    "print(\"只要前两个：\\n\", np_arr[:2], type(np_arr[:2]))\n",
    "# 获取具体的元素\n",
    "np_item = np_arr[1, -1] + 15\n",
    "print(\"第二行，最后一列:\", np_item, type(np_item))\n",
    "# 判断元素是否在数组里\n",
    "if 21 in np_arr:\n",
    "    print(\"是的， 它在这个数组中\")\n",
    "else:\n",
    "    print(\"这个该死的小混蛋，它没在这里面\")\n",
    "# 另外可以查询\n",
    "print((4, 5, 6) in np_arr)\n",
    "print((3, 4, 5) in np_arr)"
   ]
  },
  {
   "cell_type": "code",
   "execution_count": 16,
   "metadata": {},
   "outputs": [
    {
     "name": "stdout",
     "output_type": "stream",
     "text": [
      "1.0 2.0 3.0\n",
      "4.0 5.0 6.0\n",
      "7.0 8.0 9.0\n"
     ]
    }
   ],
   "source": [
    "'''np.arr遍历'''\n",
    "# 多维数组遍历1：\n",
    "for a1, a2, a3 in np_arr:\n",
    "    print(a1, a2, a3)"
   ]
  },
  {
   "cell_type": "code",
   "execution_count": 30,
   "metadata": {},
   "outputs": [
    {
     "name": "stdout",
     "output_type": "stream",
     "text": [
      "数组np_arr的维度：2\n",
      "数组np_arr的大小：(3, 3)\n",
      "数组np_arr一共 9 个元素\n",
      "数组np_arr里元素的类型： float64\n",
      "[[[0. 0. 0. 0.]\n",
      "  [0. 0. 0. 0.]\n",
      "  [0. 0. 0. 0.]]\n",
      "\n",
      " [[0. 0. 0. 0.]\n",
      "  [0. 0. 0. 0.]\n",
      "  [0. 0. 0. 0.]]]\n",
      "数组np_arr2的维度：3\n",
      "数组np_arr2的大小：(2, 3, 4)\n",
      "数组np_arr2一共 24 个元素\n",
      "数组np_arr2里元素的类型： float64\n"
     ]
    }
   ],
   "source": [
    "'''获取数组属性'''\n",
    "print(f\"数组np_arr的维度：{np_arr.ndim}\")\n",
    "print(f\"数组np_arr的大小：{np_arr.shape}\")\n",
    "print(f\"数组np_arr一共 {np_arr.size} 个元素\")\n",
    "print(f\"数组np_arr里元素的类型： {np_arr.dtype}\")\n",
    "# 创建一个多维数组\n",
    "np_arr2 = np.zeros((2, 3, 4))\n",
    "print(np_arr2)\n",
    "print(f\"数组np_arr2的维度：{np_arr2.ndim}\")\n",
    "print(f\"数组np_arr2的大小：{np_arr2.shape}\")\n",
    "print(f\"数组np_arr2一共 {np_arr2.size} 个元素\")\n",
    "print(f\"数组np_arr2里元素的类型： {np_arr2.dtype}\")"
   ]
  },
  {
   "cell_type": "code",
   "execution_count": null,
   "metadata": {},
   "outputs": [
    {
     "name": "stdout",
     "output_type": "stream",
     "text": [
      "3 2\n"
     ]
    }
   ],
   "source": [
    "np_arr3 = np.arange(1, 10)\n",
    "np_arr3\n",
    "np_arr4 = np_arr3.reshape(1, 3, 3)\n",
    "np_arr5 = np_arr3.reshape(3, 3)\n",
    "print(np_arr4.ndim, np_arr5.ndim)"
   ]
  },
  {
   "cell_type": "code",
   "execution_count": 44,
   "metadata": {},
   "outputs": [
    {
     "name": "stdout",
     "output_type": "stream",
     "text": [
      "原始数组：\n",
      " [[1. 2. 3.]\n",
      " [4. 5. 6.]\n",
      " [7. 8. 9.]]\n",
      "转置后的数组：\n",
      " [[1. 4. 7.]\n",
      " [2. 5. 8.]\n",
      " [3. 6. 9.]]\n",
      "[[1 3 5]\n",
      " [2 4 6]]\n"
     ]
    }
   ],
   "source": [
    "'''\n",
    "转置(T)\n",
    "行列互换\n",
    "'''\n",
    "print(\"原始数组：\\n\", np_arr)\n",
    "print(\"转置后的数组：\\n\", np_arr.T)\n",
    "np_arr6 = np.array([(1, 2), (3, 4), (5, 6)])\n",
    "print(np_arr6.T)"
   ]
  },
  {
   "cell_type": "code",
   "execution_count": 51,
   "metadata": {},
   "outputs": [
    {
     "name": "stdout",
     "output_type": "stream",
     "text": [
      "[1 3 5 2 4 6]\n",
      "[1. 4. 7. 2. 5. 8. 3. 6. 9.]\n"
     ]
    }
   ],
   "source": [
    "'''将多维数组拉伸成一维数组'''\n",
    "print(np_arr6.T.flatten())\n",
    "print(np_arr.T.flatten())"
   ]
  },
  {
   "cell_type": "code",
   "execution_count": 57,
   "metadata": {},
   "outputs": [
    {
     "name": "stdout",
     "output_type": "stream",
     "text": [
      "arr_n1: \n",
      " [[1. 1.]\n",
      " [1. 1.]] \n",
      " arr_n2: \n",
      " [[1 2]\n",
      " [4 6]] \n",
      " arr_n3: \n",
      " [[2. 3.]\n",
      " [5. 7.]]\n",
      "数组 arr_n3 元素相加= 17.0; 元素相乘= 210.0\n",
      "数组相乘: \n",
      " [[ 2.  6.]\n",
      " [20. 42.]]\n"
     ]
    }
   ],
   "source": [
    "'''np.arr 数学运算\n",
    "1. 两个数组相加首先两个数组 shape要相同;\n",
    "2. 数组自身运算： 求 数组元素相加，相乘；\n",
    "'''\n",
    "arr_n1 = np.ones((2, 2))\n",
    "arr_n2 = np.array([[1, 2], [4, 6]])\n",
    "arr_n3 = arr_n1 + arr_n2\n",
    "print(\"arr_n1: \\n\", arr_n1, \"\\n arr_n2: \\n\", arr_n2, \"\\n arr_n3: \\n\", arr_n3)\n",
    "print(f\"数组 arr_n3 元素相加= {arr_n3.sum()}; 元素相乘= {arr_n3.prod()}\")\n",
    "print(\"数组相乘: \\n\", arr_n2 * arr_n3)"
   ]
  },
  {
   "cell_type": "code",
   "execution_count": 63,
   "metadata": {},
   "outputs": [
    {
     "name": "stdout",
     "output_type": "stream",
     "text": [
      "arr_n3 的平均值： 4.25 最大值： 7.0 最小值： 2.0 标准差： 1.920286436967152 方差： 3.6875\n"
     ]
    }
   ],
   "source": [
    "'''平均数，极值， 方差，标准差'''\n",
    "print(\"arr_n3 的平均值：\", arr_n3.mean(), \"最大值：\", arr_n3.max(), \"最小值：\", arr_n3.min(), \"标准差：\", arr_n3.std(), \"方差：\", arr_n3.var())"
   ]
  },
  {
   "cell_type": "code",
   "execution_count": 76,
   "metadata": {},
   "outputs": [
    {
     "name": "stdout",
     "output_type": "stream",
     "text": [
      "arr_n7最大值索引： 0\n",
      "arr_n7最小值索引： 2\n",
      "arr_n7 元素向上取整:\n",
      " [[4. 3.]\n",
      " [1. 2.]]\n",
      "arr_n7 元素向下取整:\n",
      " [[3. 2.]\n",
      " [0. 1.]]\n",
      "arr_n7 元素四舍五入:\n",
      " [[3. 3.]\n",
      " [0. 2.]]\n"
     ]
    }
   ],
   "source": [
    "'''极值索引， 数组元素向上取整， 向下取整，四舍五入'''\n",
    "arr_n7 = np.array([(3.134, 2.768), (0.22, 1.96)])\n",
    "print(\"arr_n7最大值索引：\", arr_n7.argmax())\n",
    "print(\"arr_n7最小值索引：\", arr_n7.argmin())\n",
    "print(\"arr_n7 元素向上取整:\\n\", np.ceil(arr_n7))\n",
    "print(\"arr_n7 元素向下取整:\\n\", np.floor(arr_n7))\n",
    "print(\"arr_n7 元素四舍五入:\\n\", np.rint(arr_n7))\n"
   ]
  },
  {
   "cell_type": "code",
   "execution_count": null,
   "metadata": {},
   "outputs": [
    {
     "name": "stdout",
     "output_type": "stream",
     "text": [
      "[[2.768 3.134]\n",
      " [0.22  1.96 ]]\n"
     ]
    }
   ],
   "source": [
    "'''当你执行 arr_n7.sort() 对数组进行排序时，需要注意 NumPy 中的 sort 方法默认是按数组的最后一个轴（即最内层轴）进行排序'''\n",
    "arr_n7.sort()\n",
    "print(arr_n7)"
   ]
  }
 ],
 "metadata": {
  "kernelspec": {
   "display_name": "py312",
   "language": "python",
   "name": "python3"
  },
  "language_info": {
   "codemirror_mode": {
    "name": "ipython",
    "version": 3
   },
   "file_extension": ".py",
   "mimetype": "text/x-python",
   "name": "python",
   "nbconvert_exporter": "python",
   "pygments_lexer": "ipython3",
   "version": "3.12.9"
  }
 },
 "nbformat": 4,
 "nbformat_minor": 2
}
