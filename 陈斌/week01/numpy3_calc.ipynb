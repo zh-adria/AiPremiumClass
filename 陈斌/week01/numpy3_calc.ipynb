{
 "cells": [
  {
   "cell_type": "code",
   "execution_count": 1,
   "metadata": {},
   "outputs": [
    {
     "name": "stdout",
     "output_type": "stream",
     "text": [
      "[[ 3  8 15]\n",
      " [24 35 48]]\n"
     ]
    }
   ],
   "source": [
    "'''Numpy线性代数\n",
    "1. 简单的相乘\n",
    "'''\n",
    "import numpy as np\n",
    "\n",
    "arr1 = np.array([[1, 2, 3], [4, 5, 6]])\n",
    "arr2 = np.array([[3, 4, 5], [6, 7, 8]])\n",
    "# 俩个类型一样的矩阵相乘， 相应元素相乘\n",
    "print(arr1 * arr2)"
   ]
  },
  {
   "cell_type": "code",
   "execution_count": 2,
   "metadata": {},
   "outputs": [
    {
     "name": "stdout",
     "output_type": "stream",
     "text": [
      "[[28 34]\n",
      " [64 79]]\n"
     ]
    }
   ],
   "source": [
    "'''\n",
    "2.矩阵(向量) 乘积\n",
    "对于二维数组乘积，要求 X1 的列 与 X2的行保持一致\n",
    "'''\n",
    "arr3 = np.array([[2, 3], [4, 5], [6, 7]])\n",
    "# resp = np.dot(arr1, arr2)   # arr1, arr2 都是 2x3矩阵，不满足条件\n",
    "resp = np.dot(arr1, arr3)\n",
    "print(resp)"
   ]
  },
  {
   "cell_type": "code",
   "execution_count": 3,
   "metadata": {},
   "outputs": [
    {
     "name": "stdout",
     "output_type": "stream",
     "text": [
      "80\n",
      "(5,) (5, 5)\n",
      "[87 94 71 42 49]\n",
      "(1, 2, 3, 6, 5, 7)\n"
     ]
    }
   ],
   "source": [
    "'''尝试其它维度数据运算\n",
    "@ 一维向量 & 一维向量\n",
    "@ 二维矩阵 & 一维向量\n",
    "@ 多维运算：要求第一个数组的最后一维的长度跟 第二个数组倒数第二维的长度相同\n",
    "'''\n",
    "a = np.array([1, 2, 3, 4, 5])\n",
    "b = np.array([6, 7, 8, 9, 0])\n",
    "print(np.dot(a, b))\n",
    "\n",
    "c = np.random.randint(0, 10, size=(5, 5))\n",
    "print(a.shape, c.shape)\n",
    "print(np.dot(c, a))\n",
    "\n",
    "d = np.random.randint(1, 8, (1, 2, 3, 4))\n",
    "e = np.random.randint(2, 9, (6, 5, 4, 7))\n",
    "print(np.dot(d, e).shape)"
   ]
  }
 ],
 "metadata": {
  "kernelspec": {
   "display_name": "py312",
   "language": "python",
   "name": "python3"
  },
  "language_info": {
   "codemirror_mode": {
    "name": "ipython",
    "version": 3
   },
   "file_extension": ".py",
   "mimetype": "text/x-python",
   "name": "python",
   "nbconvert_exporter": "python",
   "pygments_lexer": "ipython3",
   "version": "3.12.9"
  }
 },
 "nbformat": 4,
 "nbformat_minor": 2
}
