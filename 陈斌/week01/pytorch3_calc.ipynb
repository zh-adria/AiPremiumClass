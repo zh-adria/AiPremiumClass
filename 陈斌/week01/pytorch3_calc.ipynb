{
 "cells": [
  {
   "cell_type": "code",
   "execution_count": 2,
   "metadata": {},
   "outputs": [
    {
     "name": "stdout",
     "output_type": "stream",
     "text": [
      "tensor([[16, 19],\n",
      "        [36, 43]])\n",
      "tensor([[ 4, 10],\n",
      "        [18, 28]])\n",
      "tensor([1, 2, 3, 4, 5]) tensor([6, 7, 8, 9, 0])\n",
      "tensor(80)\n",
      "tensor([65, 90, 31, 46, 67])\n"
     ]
    },
    {
     "data": {
      "text/plain": [
       "'\\n# 对于更高维度的点积运算，还有一些没搞明白\\nd = torch.randint(1, 8, (3, 2, 3, 4))\\ne = torch.randint(2, 9, (2, 3, 4, 7))\\nprint(d @ e)\\n'"
      ]
     },
     "execution_count": 2,
     "metadata": {},
     "output_type": "execute_result"
    }
   ],
   "source": [
    "'''张量运算\n",
    "1. 对照np.array的点积\n",
    "'''\n",
    "import torch\n",
    "\n",
    "tensor1 = torch.arange(1, 5).reshape(2, 2)\n",
    "tensor2 = torch.arange(4, 8).reshape(2, 2)\n",
    "print(tensor1 @ tensor2)\n",
    "print(tensor1 * tensor2)\n",
    "\n",
    "a = torch.tensor([1, 2, 3, 4, 5])\n",
    "b = torch.tensor([6, 7, 8, 9, 0])\n",
    "print(a, b)\n",
    "print(a @ b)\n",
    "c = torch.randint(0, 10, size=(5, 5))\n",
    "print(a @ c)\n",
    "\n",
    "'''\n",
    "# 对于更高维度的点积运算，还有一些没搞明白\n",
    "d = torch.randint(1, 8, (3, 2, 3, 4))\n",
    "e = torch.randint(2, 9, (2, 3, 4, 7))\n",
    "print(d @ e)\n",
    "'''"
   ]
  },
  {
   "cell_type": "code",
   "execution_count": 3,
   "metadata": {},
   "outputs": [
    {
     "name": "stdout",
     "output_type": "stream",
     "text": [
      "tensor(9.)\n",
      "9.0\n"
     ]
    }
   ],
   "source": [
    "'''求和运算'''\n",
    "tensor3 = torch.ones(size=(3, 3))\n",
    "agg = tensor3.sum() #返回的结果是用tensor包裹的元素之和\n",
    "print(agg)\n",
    "print(agg.item())   #实际应用中，可能需要用到求和后的python数据类型"
   ]
  },
  {
   "cell_type": "code",
   "execution_count": 4,
   "metadata": {},
   "outputs": [
    {
     "name": "stdout",
     "output_type": "stream",
     "text": [
      "[[4. 4. 4.]\n",
      " [4. 4. 4.]\n",
      " [4. 4. 4.]] tensor([[4., 4., 4.],\n",
      "        [4., 4., 4.],\n",
      "        [4., 4., 4.]])\n"
     ]
    }
   ],
   "source": [
    "'''function_()\n",
    "torch定义了一种类型的方法：以_作为后缀，\n",
    "表示该方法没有返回值，而是在张量本身进行修改\n",
    "慎用！！！\n",
    "'''\n",
    "tensor4 = torch.ones(size=(3, 3))\n",
    "np4 = tensor4.numpy()\n",
    "tensor4.add_(3) #每个元素+3\n",
    "print(np4, tensor4) # tenso4的变化，引起了 np4的变化"
   ]
  }
 ],
 "metadata": {
  "kernelspec": {
   "display_name": "py312",
   "language": "python",
   "name": "python3"
  },
  "language_info": {
   "codemirror_mode": {
    "name": "ipython",
    "version": 3
   },
   "file_extension": ".py",
   "mimetype": "text/x-python",
   "name": "python",
   "nbconvert_exporter": "python",
   "pygments_lexer": "ipython3",
   "version": "3.12.9"
  }
 },
 "nbformat": 4,
 "nbformat_minor": 2
}
