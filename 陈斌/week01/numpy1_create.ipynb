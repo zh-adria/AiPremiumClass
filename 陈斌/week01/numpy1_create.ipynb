{
 "cells": [
  {
   "cell_type": "code",
   "execution_count": 1,
   "id": "9729b697-dabf-40d2-b5cf-4f822e085e8d",
   "metadata": {},
   "outputs": [
    {
     "data": {
      "text/plain": [
       "array([12.,  2., 34., 43.], dtype=float32)"
      ]
     },
     "execution_count": 1,
     "metadata": {},
     "output_type": "execute_result"
    }
   ],
   "source": [
    "import numpy as np #先引入包\n",
    "\n",
    "#定义一个一维数组，规定数据类型\n",
    "arr = np.array([12,2, 34,43], dtype=np.float32)\n",
    "arr"
   ]
  },
  {
   "cell_type": "code",
   "execution_count": 8,
   "id": "140c13a7",
   "metadata": {},
   "outputs": [
    {
     "data": {
      "text/plain": [
       "array([[255, 255, 255, 255],\n",
       "       [  0,   0,   0,   0],\n",
       "       [  0,   0,   0,   0],\n",
       "       [  0,   0,   0,   0]])"
      ]
     },
     "execution_count": 8,
     "metadata": {},
     "output_type": "execute_result"
    }
   ],
   "source": [
    "'''\n",
    "定义 3*3 数组\n",
    "'''\n",
    "arr2 = np.array([[1, 2, 3], [4, 5, 6], [7, 8, 9]], dtype=np.float32)\n",
    "arr2\n",
    "'''\n",
    "或者初始化一个多维的空数组\n",
    "'''\n",
    "arr_empty = np.zeros((4, 4), dtype=int)\n",
    "arr_empty[0] = [255, 255, 255, 255]\n",
    "arr_empty"
   ]
  },
  {
   "cell_type": "code",
   "execution_count": null,
   "id": "f4a75c2e",
   "metadata": {},
   "outputs": [
    {
     "data": {
      "text/plain": [
       "array([[1., 0., 0., 0.],\n",
       "       [0., 1., 0., 0.],\n",
       "       [0., 0., 1., 0.],\n",
       "       [0., 0., 0., 1.]])"
      ]
     },
     "execution_count": 6,
     "metadata": {},
     "output_type": "execute_result"
    }
   ],
   "source": [
    "'''\n",
    "使用np.eye()来创建特殊矩阵，实现矩阵对角线上的数值相同\n",
    "'''\n",
    "arr_eye = np.eye(4)\n",
    "arr_eye"
   ]
  },
  {
   "cell_type": "code",
   "execution_count": null,
   "id": "b34db8e4",
   "metadata": {},
   "outputs": [
    {
     "data": {
      "text/plain": [
       "array([1. , 1.3, 1.6, 1.9, 2.2, 2.5, 2.8, 3.1, 3.4, 3.7, 4. , 4.3, 4.6,\n",
       "       4.9, 5.2, 5.5, 5.8, 6.1, 6.4, 6.7])"
      ]
     },
     "execution_count": 13,
     "metadata": {},
     "output_type": "execute_result"
    }
   ],
   "source": [
    "'''\n",
    "等差序列的创建\n",
    "np.arange(起，止， 步长)\n",
    "'''\n",
    "# arr_dx = np.arange(1, 7)\n",
    "arr_dx = np.arange(1, 7, 0.3)\n",
    "arr_dx"
   ]
  },
  {
   "cell_type": "code",
   "execution_count": null,
   "id": "5f32fede",
   "metadata": {},
   "outputs": [
    {
     "data": {
      "text/plain": [
       "array([0.42650095, 0.68556823, 0.11062446, 0.12843361, 0.51204839,\n",
       "       0.62398769])"
      ]
     },
     "execution_count": 16,
     "metadata": {},
     "output_type": "execute_result"
    }
   ],
   "source": [
    "'''\n",
    "随机数生成, 生成一个0~1之间的随机数\n",
    "'''\n",
    "# randx = np.random.random()    #一个就够了\n",
    "# randx\n",
    "arr_dx = np.random.random(size=6)   #如果需要多个\n",
    "arr_dx"
   ]
  },
  {
   "cell_type": "code",
   "execution_count": 3,
   "id": "654fd824",
   "metadata": {},
   "outputs": [
    {
     "data": {
      "text/plain": [
       "array([1.04726394, 1.01143902, 0.98795866, 0.97771469, 0.83045975,\n",
       "       1.21748462, 0.98593393, 1.0297252 , 1.07547164, 0.96187654,\n",
       "       1.01121297, 0.90037408, 0.88483329, 1.04404072, 0.94581853,\n",
       "       1.02634437, 0.90334849, 1.01739006, 0.95543958, 0.89634045,\n",
       "       0.99319838, 1.06205596, 1.10631076, 1.02217482, 0.83828147,\n",
       "       0.85997785, 1.02855133, 1.08242996, 1.11702978, 1.19601381,\n",
       "       0.8391306 , 0.97880457, 0.97687712])"
      ]
     },
     "execution_count": 3,
     "metadata": {},
     "output_type": "execute_result"
    }
   ],
   "source": [
    "'''\n",
    "正态分布规律的随机数\n",
    "loc: float = 正态分布的均值\n",
    "scale: float = 标准差\n",
    "size: None = 生成的随机个数\n",
    "'''\n",
    "arr_nx = np.random.normal(1, 0.1, 33)\n",
    "arr_nx"
   ]
  }
 ],
 "metadata": {
  "kernelspec": {
   "display_name": "py312",
   "language": "python",
   "name": "python3"
  },
  "language_info": {
   "codemirror_mode": {
    "name": "ipython",
    "version": 3
   },
   "file_extension": ".py",
   "mimetype": "text/x-python",
   "name": "python",
   "nbconvert_exporter": "python",
   "pygments_lexer": "ipython3",
   "version": "3.12.9"
  }
 },
 "nbformat": 4,
 "nbformat_minor": 5
}
