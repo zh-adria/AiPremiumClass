{
 "cells": [
  {
   "cell_type": "code",
   "execution_count": 138,
   "metadata": {},
   "outputs": [],
   "source": [
    "import numpy as np\n",
    "from sklearn.datasets import make_classification\n",
    "from sklearn.datasets import load_iris\n",
    "from sklearn.model_selection import train_test_split"
   ]
  },
  {
   "cell_type": "code",
   "execution_count": 139,
   "metadata": {},
   "outputs": [],
   "source": [
    "#生成训练数据\n",
    "iris = load_iris()\n",
    "#取前100个样本\n",
    "x = iris.data[:100]\n",
    "y = iris.target[:100]\n",
    "#数据拆分\n",
    "x_train,x_test,y_train,y_test = train_test_split(x,y,test_size=0.2)"
   ]
  },
  {
   "cell_type": "code",
   "execution_count": 140,
   "metadata": {},
   "outputs": [],
   "source": [
    "#权重参数\n",
    "theta = np.random.randn(1, 4)\n",
    "bias = 0\n",
    "#超参数\n",
    "lr = 0.2\n",
    "epochs = 2000"
   ]
  },
  {
   "cell_type": "code",
   "execution_count": 141,
   "metadata": {},
   "outputs": [],
   "source": [
    "#模型计算函数\n",
    "def forward(x, theta, bias):\n",
    "    # 线性运算\n",
    "    z = np.dot(theta, x.T) + bias \n",
    "    # sigmoid\n",
    "    y_hat = 1 / (1 + np.exp(-z)) \n",
    "    return y_hat\n",
    "\n",
    "#计算损失函数\n",
    "def loss(y,y_hat):\n",
    "    e = 1e-8\n",
    "    return -y * np.log(y_hat + e) - (1 - y) * np.log(1 - y_hat + e)\n",
    "\n",
    "#计算梯度\n",
    "def calc_gradient(x, y, y_hat):\n",
    "    #计算梯度\n",
    "    m = x.shape[-1]\n",
    "    # theta计算梯度\n",
    "    delta_theta = np.dot((y_hat - y), x) / m\n",
    "    #计算bias的梯度\n",
    "    delta_bias = np.mean(y_hat - y)\n",
    "    #返回梯度\n",
    "    return delta_theta,delta_bias\n",
    "def train(x_train = x_train,theta = theta,bias = bias):\n",
    "    #训练模型\n",
    "    for i in range(epochs):\n",
    "        #向前计算\n",
    "        y_hat = forward(x_train,theta,bias)\n",
    "        #计算损失\n",
    "        loss_v = loss(y_train,y_hat)\n",
    "        #更新梯度\n",
    "        delta_theta,delta_bias = calc_gradient(x_train, y_train, y_hat)\n",
    "        #更新参数\n",
    "        theta = theta - lr * delta_theta\n",
    "        bias = bias - lr * delta_bias\n",
    "        acc = 0\n",
    "        if i % 100 == 0:\n",
    "            acc = np.mean(np.round(y_hat) == y_train) #False,True....\n",
    "            print(i,acc,\"loss：\",np.mean(loss_v))\n",
    "    #保存模型数据\n",
    "    modle_theta = np.save(\"theta.npy\",theta)\n",
    "    modle_bias = np.save(\"bias.npy\",bias)\n",
    "    #推理模型\n",
    "def inference(x = x,x_test = x_test,theta = theta,bias = bias):\n",
    "    #随机选择样本\n",
    "    idx = np.random.randint(len(x_test))\n",
    "    x = x_test[idx]\n",
    "    y = y_test[idx]\n",
    "    predict = np.round(forward(x, theta, bias))\n",
    "    print(y, predict)\n"
   ]
  },
  {
   "cell_type": "code",
   "execution_count": 177,
   "metadata": {},
   "outputs": [
    {
     "name": "stdout",
     "output_type": "stream",
     "text": [
      "0 0.5375 loss： 0.8718021182465236\n",
      "100 1.0 loss： 5.9742301648366264e-05\n",
      "200 1.0 loss： 2.9268848575120502e-05\n",
      "300 1.0 loss： 1.940726694951576e-05\n",
      "400 1.0 loss： 1.453045151670359e-05\n",
      "500 1.0 loss： 1.1622551507287828e-05\n",
      "600 1.0 loss： 9.692432496635586e-06\n",
      "700 1.0 loss： 8.318648071945439e-06\n",
      "800 1.0 loss： 7.291534575717138e-06\n",
      "900 1.0 loss： 6.495021479324304e-06\n",
      "1000 1.0 loss： 5.8596474830090516e-06\n",
      "1100 1.0 loss： 5.341298553884642e-06\n",
      "1200 1.0 loss： 4.910612304651593e-06\n",
      "1300 1.0 loss： 4.547287478402732e-06\n",
      "1400 1.0 loss： 4.236839008467651e-06\n",
      "1500 1.0 loss： 3.968654389172984e-06\n",
      "1600 1.0 loss： 3.7347806472120064e-06\n",
      "1700 1.0 loss： 3.529140395316841e-06\n",
      "1800 1.0 loss： 3.3470097479165225e-06\n",
      "1900 1.0 loss： 3.1846614308424156e-06\n",
      "0 [1.]\n"
     ]
    }
   ],
   "source": [
    "train()\n",
    "inference()"
   ]
  }
 ],
 "metadata": {
  "kernelspec": {
   "display_name": "Python 3 (ipykernel)",
   "language": "python",
   "name": "python3"
  },
  "language_info": {
   "codemirror_mode": {
    "name": "ipython",
    "version": 3
   },
   "file_extension": ".py",
   "mimetype": "text/x-python",
   "name": "python",
   "nbconvert_exporter": "python",
   "pygments_lexer": "ipython3",
   "version": "3.12.4"
  }
 },
 "nbformat": 4,
 "nbformat_minor": 2
}
