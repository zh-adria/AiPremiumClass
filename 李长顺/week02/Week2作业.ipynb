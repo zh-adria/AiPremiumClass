{
 "cells": [
  {
   "cell_type": "code",
   "execution_count": 26,
   "metadata": {},
   "outputs": [],
   "source": [
    "# 作业：\n",
    "# 1、使用sklearn数据集训练逻辑回归模型；\n",
    "# 2、调整学习率，样本数据拆分比率，观察训练结果；\n",
    "# 3、训练后模型参数保存到文件，在另一个代码中加载参数实现预测功能；\n",
    "# 4、总结逻辑回归运算及训练相关知识点\n"
   ]
  },
  {
   "cell_type": "code",
   "execution_count": 48,
   "metadata": {},
   "outputs": [
    {
     "name": "stdout",
     "output_type": "stream",
     "text": [
      "[0 1 1 1 1 0 0 1 1 1 0 1 1 0 1 0 1 0 0 0]\n",
      "看看测试集结果\n",
      "[0 1 1 1 1 0 0 1 1 1 0 1 1 0 1 0 1 0 0 0]\n",
      "1.0\n"
     ]
    },
    {
     "data": {
      "text/plain": [
       "['model.joblib']"
      ]
     },
     "execution_count": 48,
     "metadata": {},
     "output_type": "execute_result"
    }
   ],
   "source": [
    "# 1、使用sklearn数据集训练逻辑回归模型；\n",
    "# 思路：\n",
    "#（1）确认sklearn的包中，哪个模型是逻辑回归模型:z在linearmodel里面的regressionlogistics里面\n",
    "#（2）用sklearn里面的数据集，找到合适的训练集，暂时用make_***函数：make_classfication\n",
    "#（3）区分数据集与训练集，用个训练集训练模型:tran_test_split\n",
    "#（4）搜索下，用哪个损失函数比较合适，看看损失值:accuracy_score\n",
    "\n",
    "from sklearn.linear_model import LogisticRegression\n",
    "from sklearn.datasets import make_classification\n",
    "from sklearn.model_selection import train_test_split\n",
    "from sklearn.metrics import accuracy_score\n",
    "\n",
    "# step1: 搞数据集\n",
    "x , y = make_classification(n_samples=100, n_features=10,random_state=42)\n",
    "\n",
    "# step2: 搞训练集\n",
    "x_train, x_test, y_train, y_test = train_test_split(x, y , test_size=0.2, random_state=42)\n",
    "# print(x_test)\n",
    "# print(x_train)\n",
    "# print(y_test)\n",
    "# print(y_train)\n",
    "\n",
    "# step3: 搞模型，然后训练\n",
    "model = LogisticRegression()\n",
    "model.fit(x_train, y_train)\n",
    "\n",
    "# step4: 看看模型效果\n",
    "y_predict = model.predict(x_test)\n",
    "print(y_predict)\n",
    "print(\"看看测试集结果\")\n",
    "print(y_test)\n",
    "# 我擦，命中率100%\n",
    "\n",
    "# step5:看看准确率\n",
    "result = accuracy_score(y_predict , y_test)\n",
    "print(result)\n",
    "\n",
    "## 保存模型到文件，供作业三调用\n",
    "import joblib\n",
    "joblib.dump(model, \"model.joblib\")\n"
   ]
  },
  {
   "cell_type": "code",
   "execution_count": null,
   "metadata": {},
   "outputs": [
    {
     "name": "stdout",
     "output_type": "stream",
     "text": [
      "step: 0 loss: 1.1511005660313227\n",
      "step: 100 loss: 0.758287672005593\n",
      "step: 200 loss: 0.6943612077407393\n",
      "step: 300 loss: 0.6901802317888722\n",
      "step: 400 loss: 0.6915956930744702\n",
      "step: 500 loss: 0.6925167525295265\n",
      "step: 600 loss: 0.6929080315002872\n",
      "step: 700 loss: 0.6930585088794641\n",
      "step: 800 loss: 0.6931145607564285\n",
      "step: 900 loss: 0.6931352078241191\n",
      "step: 1000 loss: 0.6931427827719173\n",
      "step: 1100 loss: 0.6931455577861788\n",
      "step: 1200 loss: 0.693146573844442\n",
      "step: 1300 loss: 0.6931469457966022\n",
      "step: 1400 loss: 0.693147081948746\n",
      "step: 1500 loss: 0.6931471317855875\n",
      "step: 1600 loss: 0.6931471500275843\n",
      "step: 1700 loss: 0.6931471567047582\n",
      "step: 1800 loss: 0.6931471591488222\n",
      "step: 1900 loss: 0.6931471600434287\n",
      "step: 2000 loss: 0.6931471603708836\n",
      "step: 2100 loss: 0.6931471604907428\n",
      "step: 2200 loss: 0.6931471605346149\n",
      "step: 2300 loss: 0.6931471605506736\n",
      "step: 2400 loss: 0.6931471605565518\n",
      "step: 2500 loss: 0.6931471605587032\n",
      "step: 2600 loss: 0.6931471605594908\n",
      "step: 2700 loss: 0.693147160559779\n",
      "step: 2800 loss: 0.6931471605598845\n",
      "step: 2900 loss: 0.6931471605599231\n",
      "step: 3000 loss: 0.6931471605599374\n",
      "step: 3100 loss: 0.6931471605599424\n",
      "step: 3200 loss: 0.6931471605599442\n",
      "step: 3300 loss: 0.693147160559945\n",
      "step: 3400 loss: 0.6931471605599451\n",
      "step: 3500 loss: 0.6931471605599454\n",
      "step: 3600 loss: 0.6931471605599454\n",
      "step: 3700 loss: 0.6931471605599454\n",
      "step: 3800 loss: 0.6931471605599454\n",
      "step: 3900 loss: 0.6931471605599454\n",
      "step: 4000 loss: 0.6931471605599454\n",
      "step: 4100 loss: 0.6931471605599454\n",
      "step: 4200 loss: 0.6931471605599454\n",
      "step: 4300 loss: 0.6931471605599454\n",
      "step: 4400 loss: 0.6931471605599454\n",
      "step: 4500 loss: 0.6931471605599454\n",
      "step: 4600 loss: 0.6931471605599454\n",
      "step: 4700 loss: 0.6931471605599454\n",
      "step: 4800 loss: 0.6931471605599454\n",
      "step: 4900 loss: 0.6931471605599454\n"
     ]
    },
    {
     "ename": "ValueError",
     "evalue": "operands could not be broadcast together with shapes (30,) (20,) ",
     "output_type": "error",
     "traceback": [
      "\u001b[1;31m---------------------------------------------------------------------------\u001b[0m",
      "\u001b[1;31mValueError\u001b[0m                                Traceback (most recent call last)",
      "Cell \u001b[1;32mIn[47], line 62\u001b[0m\n\u001b[0;32m     60\u001b[0m theta , b \u001b[38;5;241m=\u001b[39m lineSigm()\n\u001b[0;32m     61\u001b[0m y_predit \u001b[38;5;241m=\u001b[39m forward(x_test , theta, b)\n\u001b[1;32m---> 62\u001b[0m los \u001b[38;5;241m=\u001b[39m np\u001b[38;5;241m.\u001b[39mmean(\u001b[43mloss\u001b[49m\u001b[43m(\u001b[49m\u001b[43my_test\u001b[49m\u001b[43m,\u001b[49m\u001b[43m \u001b[49m\u001b[43my_predict\u001b[49m\u001b[43m)\u001b[49m)\n\u001b[0;32m     63\u001b[0m \u001b[38;5;28mprint\u001b[39m(\u001b[38;5;124m\"\u001b[39m\u001b[38;5;124mloss:\u001b[39m\u001b[38;5;124m\"\u001b[39m,los)\n",
      "Cell \u001b[1;32mIn[47], line 24\u001b[0m, in \u001b[0;36mloss\u001b[1;34m(y, y_hat)\u001b[0m\n\u001b[0;32m     22\u001b[0m \u001b[38;5;28;01mdef\u001b[39;00m\u001b[38;5;250m \u001b[39m\u001b[38;5;21mloss\u001b[39m(y, y_hat):\n\u001b[0;32m     23\u001b[0m     e \u001b[38;5;241m=\u001b[39m \u001b[38;5;241m1e-8\u001b[39m \u001b[38;5;66;03m# 防止y_hat为0 \u001b[39;00m\n\u001b[1;32m---> 24\u001b[0m     \u001b[38;5;28;01mreturn\u001b[39;00m \u001b[38;5;241;43m-\u001b[39;49m\u001b[43my\u001b[49m\u001b[43m \u001b[49m\u001b[38;5;241;43m*\u001b[39;49m\u001b[43m \u001b[49m\u001b[43mnp\u001b[49m\u001b[38;5;241;43m.\u001b[39;49m\u001b[43mlog\u001b[49m\u001b[43m(\u001b[49m\u001b[43my_hat\u001b[49m\u001b[38;5;241;43m+\u001b[39;49m\u001b[43me\u001b[49m\u001b[43m)\u001b[49m \u001b[38;5;241m-\u001b[39m (\u001b[38;5;241m1\u001b[39m\u001b[38;5;241m-\u001b[39my)\u001b[38;5;241m*\u001b[39mnp\u001b[38;5;241m.\u001b[39mlog(\u001b[38;5;241m1\u001b[39m\u001b[38;5;241m-\u001b[39my_hat\u001b[38;5;241m+\u001b[39me)\n",
      "\u001b[1;31mValueError\u001b[0m: operands could not be broadcast together with shapes (30,) (20,) "
     ]
    }
   ],
   "source": [
    "# 2、调整学习率，样本数据拆分比率，观察训练结果；\n",
    "# 思路:习题一中，没有涉及到学习率和梯度的内容，所以不能在习题一中的程序改，看样子，我得手动写个模型\n",
    "from sklearn.datasets import make_classification\n",
    "from sklearn.model_selection import train_test_split\n",
    "import numpy as np\n",
    "from sklearn.metrics import accuracy_score\n",
    "\n",
    "# (1) 生成数据集\n",
    "x , y = make_classification(n_features=10)\n",
    "# 此处更改样本拆分比例，调整test_size参数\n",
    "x_train, x_test, y_train, y_test = train_test_split(x, y, test_size=0.3, random_state=42)\n",
    "# (2) 超参数初始化\n",
    "# 已经集成进入到步骤6\n",
    "\n",
    "# (3) 写个简单的线性模型：前向计算\n",
    "def forward(x, w, bis):\n",
    "    # linear \n",
    "    result = np.dot(w, x.T) + bis\n",
    "    # sigmoid\n",
    "    return  1 / (1 + np.exp(-result))\n",
    "    \n",
    "# (4) 写损失函数\n",
    "def loss(y, y_hat):\n",
    "    e = 1e-8 # 防止y_hat为0 \n",
    "    return -y * np.log(y_hat+e) - (1-y)*np.log(1-y_hat+e)\n",
    "\n",
    "# (5) 梯度计算\n",
    "def cal_gradient(x ,y , y_hat):\n",
    "    m = x.shape[-1]\n",
    "    delta_w = np.dot(y_hat - y,x) / m\n",
    "    delta_b = np.mean(y_hat - y)\n",
    "    return delta_w , delta_b\n",
    "\n",
    "#（6）封装模型\n",
    "def lineSigm():\n",
    "    theta = np.random.randn(1,10)\n",
    "    b = 0\n",
    "    learn_rate = 1e-2   # 此处修改学习率，theta和bias使用相同的固定学习率进行学习\n",
    "    epoch = 5000    #模型训练轮数\n",
    "\n",
    "    for i in range(epoch):\n",
    "        # 正向\n",
    "        y_hat =  forward(x_train,theta, b)\n",
    "        # 计算损失\n",
    "        los = np.mean(loss(y_train, y_hat))\n",
    "        if i%100 == 0:\n",
    "            print(\"step:\", i, \"loss:\", los)\n",
    "            \n",
    "        # 梯度下降\n",
    "        # dw,db = cal_gradient(x_train, y_train, y_hat)\n",
    "        # # 更新参数\n",
    "        # theta -= theta*dw\n",
    "        # b -= b*db\n",
    "\n",
    "        # 使用固定的学习率进行学习\n",
    "        theta -= theta*learn_rate\n",
    "        b -= b*learn_rate\n",
    "    return theta , b\n",
    "\n",
    "# 测试效果\n",
    "theta , b = lineSigm()\n",
    "y_predit = forward(x_test , theta, b)\n",
    "los = np.mean(loss(y_test, y_predict))\n",
    "print(\"loss:\",los)"
   ]
  },
  {
   "cell_type": "code",
   "execution_count": null,
   "metadata": {},
   "outputs": [
    {
     "name": "stdout",
     "output_type": "stream",
     "text": [
      "看看是否可以成功跑模型: 0.71\n"
     ]
    }
   ],
   "source": [
    "# 3、训练后模型参数保存到文件，在另一个代码中加载参数实现预测功能；\n",
    "# 在作业1中，已经通过joblib.dump方法保存了模型，此处调用看看\n",
    "import joblib\n",
    "load_model = joblib.load(\"model.joblib\")\n",
    "\n",
    "# 测试下数据集\n",
    "from sklearn.datasets import make_classification\n",
    "\n",
    "x ,y = make_classification(n_samples=100 , n_features= 10)\n",
    "y_predict = load_model.predict(x)\n",
    "\n",
    "from sklearn.metrics import accuracy_score\n",
    "result = accuracy_score(y_predict , y)\n",
    "print(\"看看是否可以成功跑模型:\" , result)\n"
   ]
  },
  {
   "cell_type": "code",
   "execution_count": null,
   "metadata": {},
   "outputs": [],
   "source": [
    "# 4、总结逻辑回归运算及训练相关知识点\n",
    "# 好的，已经总结"
   ]
  }
 ],
 "metadata": {
  "kernelspec": {
   "display_name": "py312",
   "language": "python",
   "name": "python3"
  },
  "language_info": {
   "codemirror_mode": {
    "name": "ipython",
    "version": 3
   },
   "file_extension": ".py",
   "mimetype": "text/x-python",
   "name": "python",
   "nbconvert_exporter": "python",
   "pygments_lexer": "ipython3",
   "version": "3.13.2"
  }
 },
 "nbformat": 4,
 "nbformat_minor": 2
}
