{
 "cells": [
  {
   "cell_type": "code",
   "execution_count": 2,
   "metadata": {},
   "outputs": [
    {
     "name": "stdout",
     "output_type": "stream",
     "text": [
      "theta: [[ 0.57840916  0.21840527 -0.12388174 -1.32065348]]\n"
     ]
    }
   ],
   "source": [
    "import lxy_iris\n",
    "import numpy as np\n",
    "# 加载\n",
    "X_test = np.load('iris_X_test.npy')\n",
    "y_test = np.load('iris_y_test.npy')\n",
    "theta = np.load('iris_theta.npy')\n",
    "bias = np.load('iris_bias.npy')"
   ]
  },
  {
   "cell_type": "code",
   "execution_count": 35,
   "metadata": {},
   "outputs": [
    {
     "name": "stdout",
     "output_type": "stream",
     "text": [
      "预测值： [0.99964733] \n",
      "真实值： 1\n"
     ]
    }
   ],
   "source": [
    "idx = np.random.randint(len(X_test))\n",
    "x = X_test[idx]\n",
    "y = y_test[idx]\n",
    "\n",
    "predict = lxy_iris.forward(x,theta,bias)  # y_hat\n",
    "print('预测值：',predict,'\\n真实值：',y)"
   ]
  },
  {
   "cell_type": "code",
   "execution_count": null,
   "metadata": {},
   "outputs": [],
   "source": []
  }
 ],
 "metadata": {
  "kernelspec": {
   "display_name": "Python 3",
   "language": "python",
   "name": "python3"
  },
  "language_info": {
   "codemirror_mode": {
    "name": "ipython",
    "version": 3
   },
   "file_extension": ".py",
   "mimetype": "text/x-python",
   "name": "python",
   "nbconvert_exporter": "python",
   "pygments_lexer": "ipython3",
   "version": "3.10.5"
  }
 },
 "nbformat": 4,
 "nbformat_minor": 2
}
