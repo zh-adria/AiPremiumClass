{
 "cells": [
  {
   "cell_type": "markdown",
   "metadata": {},
   "source": [
    "使用sklearn训练集训练逻辑回归模型\n",
    "\n",
    "调整学习率，样本数据拆分比率，观察训练结果  \n",
    "把模型训练参数保存到文件，在另一个代码中加载参数实现预测功能"
   ]
  },
  {
   "cell_type": "code",
   "execution_count": 4,
   "metadata": {},
   "outputs": [],
   "source": [
    "import numpy as np\n",
    "from sklearn.datasets import load_iris  # 导入鸢尾花数据集\n",
    "from sklearn.model_selection import train_test_split"
   ]
  },
  {
   "cell_type": "code",
   "execution_count": 5,
   "metadata": {},
   "outputs": [
    {
     "name": "stdout",
     "output_type": "stream",
     "text": [
      "[5.1 3.5 1.4 0.2] [0 0 0 0 0 0 0 0 0 0 0 0 0 0 0 0 0 0 0 0 0 0 0 0 0 0 0 0 0 0 0 0 0 0 0 0 0\n",
      " 0 0 0 0 0 0 0 0 0 0 0 0 0 1 1 1 1 1 1 1 1 1 1 1 1 1 1 1 1 1 1 1 1 1 1 1 1\n",
      " 1 1 1 1 1 1 1 1 1 1 1 1 1 1 1 1 1 1 1 1 1 1 1 1 1 1 2 2 2 2 2 2 2 2 2 2 2\n",
      " 2 2 2 2 2 2 2 2 2 2 2 2 2 2 2 2 2 2 2 2 2 2 2 2 2 2 2 2 2 2 2 2 2 2 2 2 2\n",
      " 2 2]\n"
     ]
    },
    {
     "data": {
      "text/plain": [
       "((150, 4), (150,))"
      ]
     },
     "execution_count": 5,
     "metadata": {},
     "output_type": "execute_result"
    }
   ],
   "source": [
    "X,y = load_iris(return_X_y=True) # 加载鸢尾花数据集\n",
    "print(X[0],y)\n",
    "# print(X[0],y[0])\n",
    "X.shape,y.shape  # 100个样本,4个特征值(花萼长度，花萼宽度，花瓣长度，花瓣宽度)"
   ]
  },
  {
   "cell_type": "code",
   "execution_count": 6,
   "metadata": {},
   "outputs": [
    {
     "data": {
      "text/plain": [
       "((100, 4), (100,))"
      ]
     },
     "execution_count": 6,
     "metadata": {},
     "output_type": "execute_result"
    }
   ],
   "source": [
    "X = X[:100]\n",
    "y = y[:100]\n",
    "X.shape,y.shape "
   ]
  },
  {
   "cell_type": "code",
   "execution_count": 7,
   "metadata": {},
   "outputs": [],
   "source": [
    "# 数据拆分\n",
    "X_train, X_test, y_train, y_test = train_test_split(X, y, test_size=0.3, random_state=42)"
   ]
  },
  {
   "cell_type": "code",
   "execution_count": 8,
   "metadata": {},
   "outputs": [
    {
     "name": "stdout",
     "output_type": "stream",
     "text": [
      "theta: [[-0.9033504   1.0276371   0.08496017  0.39148379]]\n"
     ]
    }
   ],
   "source": [
    "# 参数初始化\n",
    "theta = np.random.randn(1,4)\n",
    "print('theta:',theta)\n",
    "bias = 0\n",
    "lr = 1e-1 \n",
    "epochs = 10001\n",
    "epsilon = 1e-8"
   ]
  },
  {
   "cell_type": "markdown",
   "metadata": {},
   "source": [
    "### 模型构建"
   ]
  },
  {
   "cell_type": "code",
   "execution_count": 9,
   "metadata": {},
   "outputs": [],
   "source": [
    "# 向前传播\n",
    "def forward(X, theta, bias):\n",
    "    z = np.dot(theta, X.T) + bias  # 计算线性部分\n",
    "    y_hat = 1 / (1 + np.exp(-z))  # 计算激活函数sigmoid\n",
    "    return y_hat\n"
   ]
  },
  {
   "cell_type": "code",
   "execution_count": 10,
   "metadata": {},
   "outputs": [],
   "source": [
    "# 损失函数\n",
    "def loss(y,y_hat):\n",
    "    epsilon = 1e-15  # 添加一个极小值\n",
    "    y_hat = np.clip(y_hat, epsilon, 1 - epsilon)  # 将 y_hat 限制在 [epsilon, 1 - epsilon] 范围内\n",
    "    return -np.mean(y*np.log(y_hat)+(1-y)*np.log(1-y_hat))\n"
   ]
  },
  {
   "cell_type": "code",
   "execution_count": 11,
   "metadata": {},
   "outputs": [],
   "source": [
    "# 反向传播，优化器，梯度下降法\n",
    "def backward(X, y, y_hat, theta, bias, lr):\n",
    "    m = X.shape[0]\n",
    "    dz = y_hat - y\n",
    "    dtheta = np.dot(dz, X) / m\n",
    "    dbias = np.sum(dz) / m\n",
    "    theta -= lr * dtheta\n",
    "    bias -= lr * dbias\n",
    "    return theta, bias"
   ]
  },
  {
   "cell_type": "code",
   "execution_count": 12,
   "metadata": {},
   "outputs": [
    {
     "name": "stdout",
     "output_type": "stream",
     "text": [
      "Epoch: 0, loss: 20.28051233970961320097, accuracy: 0.00000000000000000000\n",
      "Epoch: 1000, loss: 0.28325223040300323563, accuracy: 0.00000000000000000000\n",
      "Epoch: 2000, loss: 0.15041455778616230621, accuracy: 0.00000000000000000000\n",
      "Epoch: 3000, loss: 0.10402409773819566718, accuracy: 0.00000000000000000000\n",
      "Epoch: 4000, loss: 0.08010496221703358732, accuracy: 0.00000000000000000000\n",
      "Epoch: 5000, loss: 0.06541615257549789064, accuracy: 0.00000000000000000000\n",
      "Epoch: 6000, loss: 0.05543842315152772149, accuracy: 0.00000000000000000000\n",
      "Epoch: 7000, loss: 0.04819863919898204063, accuracy: 0.00000000000000000000\n",
      "Epoch: 8000, loss: 0.04269487244260795206, accuracy: 0.00000000000000000000\n",
      "Epoch: 9000, loss: 0.03836305414081923187, accuracy: 0.00000000000000000000\n",
      "Epoch: 10000, loss: 0.03486077004782774102, accuracy: 0.00000000000000000000\n"
     ]
    }
   ],
   "source": [
    "# 训练\n",
    "for i in range(epochs):\n",
    "    y_hat = forward(X_train, theta, bias)\n",
    "    loss_val = loss(y_hat, y_train)\n",
    "    if(abs(loss_val) < epsilon):\n",
    "        break\n",
    "    theta, bias = backward(X_train, y_train, y_hat ,theta, bias ,lr)\n",
    "    if i % 1000 == 0:\n",
    "        acc = np.mean(y_hat == y_train)\n",
    "        print('Epoch: %d, loss: %.20f, accuracy: %.20f' % (i, loss_val, acc))"
   ]
  },
  {
   "cell_type": "markdown",
   "metadata": {},
   "source": [
    "### 测试数据"
   ]
  },
  {
   "cell_type": "code",
   "execution_count": 13,
   "metadata": {},
   "outputs": [
    {
     "name": "stdout",
     "output_type": "stream",
     "text": [
      "预测值:  [0.] \n",
      "真实值:  0\n"
     ]
    }
   ],
   "source": [
    "index = np.random.randint(len(X_test))\n",
    "x,y = X_test[index],y_test[index]\n",
    "\n",
    "predict = np.round(forward(x,theta,bias))\n",
    "print('预测值: ',predict , '\\n真实值: ',y_test[index])"
   ]
  },
  {
   "cell_type": "code",
   "execution_count": null,
   "metadata": {},
   "outputs": [],
   "source": [
    "# 保存 二进制文件\n",
    "np.save('iris_X_test.npy',X_test)\n",
    "np.save('iris_y_test.npy',y_test)\n",
    "np.save('iris_theta.npy',theta)\n",
    "np.save('iris_bias.npy',bias)\n"
   ]
  },
  {
   "cell_type": "code",
   "execution_count": null,
   "metadata": {},
   "outputs": [],
   "source": []
  },
  {
   "cell_type": "code",
   "execution_count": null,
   "metadata": {},
   "outputs": [],
   "source": []
  },
  {
   "cell_type": "code",
   "execution_count": null,
   "metadata": {},
   "outputs": [],
   "source": []
  }
 ],
 "metadata": {
  "kernelspec": {
   "display_name": "Python 3",
   "language": "python",
   "name": "python3"
  },
  "language_info": {
   "codemirror_mode": {
    "name": "ipython",
    "version": 3
   },
   "file_extension": ".py",
   "mimetype": "text/x-python",
   "name": "python",
   "nbconvert_exporter": "python",
   "pygments_lexer": "ipython3",
   "version": "3.10.5"
  }
 },
 "nbformat": 4,
 "nbformat_minor": 2
}
