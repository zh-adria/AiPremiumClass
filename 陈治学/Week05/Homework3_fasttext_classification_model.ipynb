{
 "cells": [
  {
   "cell_type": "markdown",
   "metadata": {},
   "source": [
    "使用课堂示例cooking.stackexchange.txt，使用fasttext训练文本分类模型。"
   ]
  },
  {
   "cell_type": "code",
   "execution_count": null,
   "metadata": {},
   "outputs": [
    {
     "name": "stdout",
     "output_type": "stream",
     "text": [
      "【模型评估结果】\n",
      "- 准确率@1: 61.88%\n",
      "- 数据总量: 15404条\n",
      "- 类别数量: 733种\n"
     ]
    },
    {
     "ename": "ValueError",
     "evalue": "F:\\NLP算法课程\\正式课\\0319\\作业\\cooking_model.bin cannot be opened for saving!",
     "output_type": "error",
     "traceback": [
      "\u001b[1;31m---------------------------------------------------------------------------\u001b[0m",
      "\u001b[1;31mValueError\u001b[0m                                Traceback (most recent call last)",
      "Cell \u001b[1;32mIn[9], line 70\u001b[0m\n\u001b[0;32m     67\u001b[0m \u001b[38;5;28mprint\u001b[39m(\u001b[38;5;124mf\u001b[39m\u001b[38;5;124m\"\u001b[39m\u001b[38;5;124m- 类别数量: \u001b[39m\u001b[38;5;132;01m{\u001b[39;00m\u001b[38;5;28mlen\u001b[39m(model\u001b[38;5;241m.\u001b[39mlabels)\u001b[38;5;132;01m}\u001b[39;00m\u001b[38;5;124m种\u001b[39m\u001b[38;5;124m\"\u001b[39m)\n\u001b[0;32m     69\u001b[0m \u001b[38;5;66;03m# 保存生产环境模型\u001b[39;00m\n\u001b[1;32m---> 70\u001b[0m \u001b[43mmodel\u001b[49m\u001b[38;5;241;43m.\u001b[39;49m\u001b[43msave_model\u001b[49m\u001b[43m(\u001b[49m\u001b[43mMODEL_SAVE_PATH\u001b[49m\u001b[43m)\u001b[49m\n\u001b[0;32m     72\u001b[0m \u001b[38;5;66;03m# 预测示例\u001b[39;00m\n\u001b[0;32m     73\u001b[0m test_cases \u001b[38;5;241m=\u001b[39m [\n\u001b[0;32m     74\u001b[0m     \u001b[38;5;124m\"\u001b[39m\u001b[38;5;124mhow to make beef stew with red wine?\u001b[39m\u001b[38;5;124m\"\u001b[39m,\n\u001b[0;32m     75\u001b[0m     \u001b[38;5;124m\"\u001b[39m\u001b[38;5;124mproper temperature for baking chocolate chip cookies\u001b[39m\u001b[38;5;124m\"\u001b[39m,\n\u001b[0;32m     76\u001b[0m     \u001b[38;5;124m\"\u001b[39m\u001b[38;5;124mstoring fresh fish in refrigerator\u001b[39m\u001b[38;5;124m\"\u001b[39m\n\u001b[0;32m     77\u001b[0m ]\n",
      "File \u001b[1;32me:\\miniconda\\envs\\nlp_prj\\lib\\site-packages\\fasttext\\FastText.py:302\u001b[0m, in \u001b[0;36m_FastText.save_model\u001b[1;34m(self, path)\u001b[0m\n\u001b[0;32m    300\u001b[0m \u001b[38;5;28;01mdef\u001b[39;00m\u001b[38;5;250m \u001b[39m\u001b[38;5;21msave_model\u001b[39m(\u001b[38;5;28mself\u001b[39m, path):\n\u001b[0;32m    301\u001b[0m \u001b[38;5;250m    \u001b[39m\u001b[38;5;124;03m\"\"\"Save the model to the given path\"\"\"\u001b[39;00m\n\u001b[1;32m--> 302\u001b[0m     \u001b[38;5;28;43mself\u001b[39;49m\u001b[38;5;241;43m.\u001b[39;49m\u001b[43mf\u001b[49m\u001b[38;5;241;43m.\u001b[39;49m\u001b[43msaveModel\u001b[49m\u001b[43m(\u001b[49m\u001b[43mpath\u001b[49m\u001b[43m)\u001b[49m\n",
      "\u001b[1;31mValueError\u001b[0m: F:\\NLP算法课程\\正式课\\0319\\作业\\cooking_model.bin cannot be opened for saving!"
     ]
    }
   ],
   "source": [
    "# 完整模型实现\n",
    "import os\n",
    "import fasttext\n",
    "from sklearn.model_selection import train_test_split\n",
    "\n",
    "# 配置参数\n",
    "DATA_PATH = r'F:\\NLP算法课程\\正式课\\0319\\语言模型及词向量相关知识\\cooking.stackexchange.txt'\n",
    "MODEL_SAVE_PATH = r'F:\\temp\\cooking_model.bin'\n",
    "\n",
    "def preprocess_data(input_path, output_path):\n",
    "    \"\"\"数据预处理函数\"\"\"\n",
    "    with open(input_path, 'r', encoding='utf-8') as f_in, \\\n",
    "         open(output_path, 'w', encoding='utf-8') as f_out:\n",
    "        \n",
    "        for line in f_in:\n",
    "            # 清洗和标准化处理\n",
    "            line = line.strip().lower()\n",
    "            parts = line.split()\n",
    "            \n",
    "            # 分离标签和文本\n",
    "            labels = [p for p in parts if p.startswith('__label__')]\n",
    "            text = ' '.join([p for p in parts if not p.startswith('__label__')])\n",
    "            \n",
    "            # 去除非字母数字字符\n",
    "            text = ''.join([c if c.isalnum() or c.isspace() else ' ' for c in text])\n",
    "            text = ' '.join(text.split())  # 合并多余空格\n",
    "            \n",
    "            if labels and text:  # 过滤空数据\n",
    "                f_out.write(f'{\" \".join(sorted(set(labels)))} {text}\\n')\n",
    "\n",
    "# 执行预处理\n",
    "preprocessed_path = os.path.join(os.path.dirname(DATA_PATH), 'processed_cooking.txt')\n",
    "preprocess_data(DATA_PATH, preprocessed_path)\n",
    "\n",
    "# 划分训练集/测试集\n",
    "with open(preprocessed_path, 'r', encoding='utf-8') as f:\n",
    "    lines = f.readlines()\n",
    "train_lines, test_lines = train_test_split(lines, test_size=0.2, random_state=42)\n",
    "\n",
    "# 保存数据集\n",
    "train_path = os.path.join(r'F:\\temp', 'cooking_train.txt')\n",
    "test_path = os.path.join(r'F:\\temp', 'cooking_test.txt')\n",
    "\n",
    "with open(train_path, 'w', encoding='utf-8') as f:\n",
    "    f.writelines(train_lines)\n",
    "with open(test_path, 'w', encoding='utf-8') as f:\n",
    "    f.writelines(test_lines)\n",
    "\n",
    "# 训练优化模型\n",
    "model = fasttext.train_supervised(\n",
    "    input=train_path,\n",
    "    loss='ova',               # 多标签分类模式\n",
    "    lr=0.8,                   # 调高学习率\n",
    "    epoch=150,                # 增加训练轮次\n",
    "    wordNgrams=3,             # 使用3-gram特征\n",
    "    minCount=3,               # 降低词频阈值\n",
    "    dim=200,                  # 增加向量维度\n",
    "    autotuneValidationFile=test_path,  # 自动调参\n",
    "    autotuneDuration=600,     # 延长调参时间\n",
    "    thread=8                  # 使用更多CPU核心\n",
    ")\n",
    "\n",
    "# 详细评估\n",
    "print(\"【模型评估结果】\")\n",
    "print(f\"- 准确率@1: {model.test(test_path)[1]*100:.2f}%\")\n",
    "print(f\"- 数据总量: {len(lines)}条\")\n",
    "print(f\"- 类别数量: {len(model.labels)}种\")\n"
   ]
  },
  {
   "cell_type": "code",
   "execution_count": 10,
   "metadata": {},
   "outputs": [
    {
     "name": "stdout",
     "output_type": "stream",
     "text": [
      "\n",
      "预测 'how to make beef stew with red wine?':\n",
      "stews                     96.15%\n",
      "beef                      2.30%\n",
      "jicama                    0.00%\n",
      "\n",
      "预测 'proper temperature for baking chocolate chip cookies':\n",
      "baking                    100.00%\n",
      "cookies                   100.00%\n",
      "temperature               73.72%\n",
      "\n",
      "预测 'storing fresh fish in refrigerator':\n",
      "fish                      100.00%\n",
      "refrigerator              95.12%\n",
      "storage-method            93.81%\n"
     ]
    }
   ],
   "source": [
    "# 保存生产环境模型\n",
    "MODEL_SAVE_PATH = r'F:\\temp\\cooking_model.bin'\n",
    "model.save_model(MODEL_SAVE_PATH)\n",
    "\n",
    "\n",
    "# 预测示例\n",
    "test_cases = [\n",
    "    \"how to make beef stew with red wine?\",\n",
    "    \"proper temperature for baking chocolate chip cookies\",\n",
    "    \"storing fresh fish in refrigerator\"\n",
    "]\n",
    "\n",
    "for text in test_cases:\n",
    "    labels, probs = model.predict(text, k=3)\n",
    "    print(f\"\\n预测 '{text}':\")\n",
    "    for label, prob in zip(labels, probs):\n",
    "        print(f\"{label.replace('__label__', ''):<25} {prob:.2%}\")\n"
   ]
  },
  {
   "cell_type": "code",
   "execution_count": null,
   "metadata": {},
   "outputs": [],
   "source": []
  }
 ],
 "metadata": {
  "kernelspec": {
   "display_name": "nlp_prj",
   "language": "python",
   "name": "python3"
  },
  "language_info": {
   "codemirror_mode": {
    "name": "ipython",
    "version": 3
   },
   "file_extension": ".py",
   "mimetype": "text/x-python",
   "name": "python",
   "nbconvert_exporter": "python",
   "pygments_lexer": "ipython3",
   "version": "3.10.16"
  }
 },
 "nbformat": 4,
 "nbformat_minor": 2
}
