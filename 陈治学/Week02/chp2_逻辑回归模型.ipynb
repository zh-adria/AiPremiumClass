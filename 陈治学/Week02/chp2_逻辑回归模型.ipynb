{
 "cells": [
  {
   "cell_type": "markdown",
   "metadata": {},
   "source": [
    "# 逻辑回归模型的torch实现"
   ]
  },
  {
   "cell_type": "markdown",
   "metadata": {},
   "source": [
    "## 调用包"
   ]
  },
  {
   "cell_type": "code",
   "execution_count": 44,
   "metadata": {},
   "outputs": [],
   "source": [
    "import torch\n",
    "from sklearn.datasets import make_classification\n",
    "from sklearn.model_selection import train_test_split\n",
    "from matplotlib import pyplot as plt\n",
    "import pickle\n",
    "import numpy as np"
   ]
  },
  {
   "cell_type": "markdown",
   "metadata": {},
   "source": [
    "## 模型训练\n"
   ]
  },
  {
   "cell_type": "code",
   "execution_count": 35,
   "metadata": {},
   "outputs": [
    {
     "data": {
      "image/png": "[encoded data removed]",
      "text/plain": [
       "<Figure size 640x480 with 1 Axes>"
      ]
     },
     "metadata": {},
     "output_type": "display_data"
    }
   ],
   "source": [
    "# 超参数\n",
    "learn_rate = 1e-2\n",
    "# 初始化参数\n",
    "w = torch.randn(1,10,requires_grad = True)\n",
    "b = torch.randn(1,requires_grad = True)\n",
    "\n",
    "# 数据准备\n",
    "X,y = make_classification(n_samples = 500,n_features = 10)\n",
    "X_train,X_test,y_train,y_test = train_test_split(X,y,test_size=0.2)\n",
    "# 创建张量\n",
    "tensor_x = torch.tensor(X_train,dtype = torch.float)\n",
    "tensor_y = torch.tensor(y_train,dtype = torch.float)\n",
    "\n",
    "losses = []\n",
    "# 训练\n",
    "for i in range(5000):\n",
    "    # 前向传播\n",
    "    r = torch.nn.functional.linear(tensor_x,w,b)\n",
    "    r = torch.sigmoid(r)\n",
    "    # 计算损失\n",
    "    loss = torch.nn.functional.binary_cross_entropy(r.squeeze(1),tensor_y,reduction = 'mean')\n",
    "    \n",
    "    losses.append(loss.item())\n",
    "    # 反向传播，更新梯度\n",
    "    loss.backward()\n",
    "    with torch.autograd.no_grad():\n",
    "        w -= learn_rate * w.grad\n",
    "        w.grad.zero_()\n",
    "        b -= learn_rate * b.grad\n",
    "        b.grad.zero_()\n",
    "    # print(f'train losss:{loss.item():.4f}')\n",
    "\n",
    "# 保存数据集\n",
    "data = {\n",
    "    'X_train': X_train,\n",
    "    'y_train': y_train,\n",
    "    'X_test': X_test,\n",
    "    'y_test': y_test\n",
    "}\n",
    "with open('dataset.pkl', 'wb') as f:\n",
    "    pickle.dump(data, f)\n",
    "\n",
    "torch.save({\n",
    "    'w': w,\n",
    "    'b': b\n",
    "}, 'model_parameters.pth')\n",
    "\n",
    "# 绘制 i 和 loss 的关系图\n",
    "plt.plot(range(5000), losses)\n",
    "plt.xlabel('Iteration')\n",
    "plt.ylabel('Loss')\n",
    "plt.title('Iteration vs Loss')\n",
    "plt.show()"
   ]
  },
  {
   "cell_type": "markdown",
   "metadata": {},
   "source": [
    "## 模型测试"
   ]
  },
  {
   "cell_type": "code",
   "execution_count": 46,
   "metadata": {},
   "outputs": [
    {
     "name": "stdout",
     "output_type": "stream",
     "text": [
      "准确率: 94.00%\n"
     ]
    },
    {
     "name": "stderr",
     "output_type": "stream",
     "text": [
      "C:\\Users\\czx\\AppData\\Local\\Temp\\ipykernel_2108\\581096146.py:2: FutureWarning: You are using `torch.load` with `weights_only=False` (the current default value), which uses the default pickle module implicitly. It is possible to construct malicious pickle data which will execute arbitrary code during unpickling (See https://github.com/pytorch/pytorch/blob/main/SECURITY.md#untrusted-models for more details). In a future release, the default value for `weights_only` will be flipped to `True`. This limits the functions that could be executed during unpickling. Arbitrary objects will no longer be allowed to be loaded via this mode unless they are explicitly allowlisted by the user via `torch.serialization.add_safe_globals`. We recommend you start setting `weights_only=True` for any use case where you don't have full control of the loaded file. Please open an issue on GitHub for any issues related to this experimental feature.\n",
      "  checkpoint = torch.load('model_parameters.pth')\n",
      "C:\\Users\\czx\\AppData\\Local\\Temp\\ipykernel_2108\\581096146.py:10: UserWarning: To copy construct from a tensor, it is recommended to use sourceTensor.clone().detach() or sourceTensor.clone().detach().requires_grad_(True), rather than torch.tensor(sourceTensor).\n",
      "  input_tensor = torch.tensor(input_data, dtype=torch.float)\n"
     ]
    }
   ],
   "source": [
    "# 加载参数\n",
    "checkpoint = torch.load('model_parameters.pth')\n",
    "w = checkpoint['w']\n",
    "b = checkpoint['b']\n",
    "\n",
    "# 预测函数\n",
    "def predict(input_data):\n",
    "    with torch.no_grad():  # 禁用梯度计算\n",
    "        # 转换输入为张量\n",
    "        input_tensor = torch.tensor(input_data, dtype=torch.float)\n",
    "        # 前向传播（与训练时保持一致）\n",
    "        linear_output = torch.nn.functional.linear(input_tensor, w, b)\n",
    "        prob = torch.sigmoid(linear_output)\n",
    "        return prob  # 返回概率值\n",
    "\n",
    "# 加载测试集数据\n",
    "with open('dataset.pkl', 'rb') as f:\n",
    "    loaded_data = pickle.load(f)\n",
    "\n",
    "X_test = loaded_data['X_test']\n",
    "y_test = loaded_data['y_test']\n",
    "tensor_x = torch.tensor(X_test, dtype=torch.float)\n",
    "\n",
    "# 预测\n",
    "prediction = predict(tensor_x)\n",
    "\n",
    "# 准确率计算\n",
    "y_pred = [1 if prob > 0.5 else 0 for prob in prediction.numpy()]\n",
    "accuracy = np.mean(y_pred == y_test)\n",
    "print(f\"准确率: {accuracy * 100:.2f}%\")\n"
   ]
  },
  {
   "cell_type": "markdown",
   "metadata": {},
   "source": [
    "# 模型训练基本步骤总结"
   ]
  },
  {
   "cell_type": "markdown",
   "metadata": {},
   "source": [
    "1. 数据准备\n",
    "2. 参数初始化\n",
    "3. 向前传播（模型构建）\n",
    "4. 损失函数定义\n",
    "5. 反向传播（模型训练）\n",
    "6. 参数更新\n",
    "7. 循环迭代\n",
    "8. 模型测试"
   ]
  },
  {
   "cell_type": "markdown",
   "metadata": {},
   "source": []
  }
 ],
 "metadata": {
  "kernelspec": {
   "display_name": "nlp_prj",
   "language": "python",
   "name": "python3"
  },
  "language_info": {
   "codemirror_mode": {
    "name": "ipython",
    "version": 3
   },
   "file_extension": ".py",
   "mimetype": "text/x-python",
   "name": "python",
   "nbconvert_exporter": "python",
   "pygments_lexer": "ipython3",
   "version": "3.10.16"
  }
 },
 "nbformat": 4,
 "nbformat_minor": 2
}
