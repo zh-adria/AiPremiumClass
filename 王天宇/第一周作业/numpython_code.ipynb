{
 "cells": [
  {
   "cell_type": "code",
   "execution_count": 3,
   "metadata": {},
   "outputs": [
    {
     "data": {
      "text/plain": [
       "(2, 1, 3)"
      ]
     },
     "execution_count": 3,
     "metadata": {},
     "output_type": "execute_result"
    }
   ],
   "source": [
    "#什么是numpy，就是python中的一个数学工具库，用于处理各类数学问题\n",
    "import numpy as np\n",
    "a = [1,2,3]\n",
    "b = np.array(a)\n",
    "#nyumpy的数组，可以理解为python（js）中的列表，但是比列表更灵活,需要将列表转化为numpy的数组，被numpy包一层，才能使用numpy的各类方法\n",
    "c= np.array([1,2,3],float) #float表示数据类型，默认为int\n",
    "c\n",
    "#创建多维数组,类似矩阵\n",
    "d = np.array([[1,2,3],[4,5,6]])\n",
    "d\n",
    "\n",
    "#创建指定类型的数组\n",
    "#创建二维数组，类型为int,2可以理解为2行，3可以理解为3列，zeros表示元素的值都是0，ones表示元素的值都是1\n",
    "e = np.zeros((2,3),dtype=int)\n",
    "e\n",
    "# 创建等差数列，从1开始，到10结束，步长为2\n",
    "f = np.arange(1,10,2)\n",
    "f\n",
    "#创建单位矩阵\n",
    "g = np.eye(4)\n",
    "g\n",
    "\n",
    "#创建随机数组,[0,1)之间的5个随机数\n",
    "i = np.random.random(5)\n",
    "# print(i)\n",
    "#创建随机矩阵\n",
    "h = np.random.rand(4,4)\n",
    "h\n",
    "\n",
    "#创建正态分布的数组，均值为1，标准差为0.5，一共5位\n",
    "j = np.random.normal(1,0.5,5)\n",
    "j\n",
    "\n",
    "#数组的访问，切割\n",
    "a = np.array([(1,2,3),(5,8,10),(6,9,12)])\n",
    "# print(a)\n",
    "a[0]#数组第一项 等同s方法\n",
    "a[:,:2]#矩阵第一列,:表示从第0列开始，一直截取到第2列 （要从矩阵的维度看截取结果）\n",
    "\n",
    "#数组遍历（循环），普通的一维数组可使用for循环，多维时for循环有多个参数\n",
    "# a = np.array([(2,2,6),(2,3,7),(4,5,8)])\n",
    "# for i,j,k in a:\n",
    "    # print(\"i是\"+str(i))#和js写法不一样，要声明i的类型\n",
    "    # print(j)\n",
    "    # print(k)\n",
    "    \n",
    "#数组的常见属性\n",
    "a = np.array([(1,2,3),(4,5,6)])\n",
    "# print(a)\n",
    "a.ndim#维度,也就是秩 2（什么是秩，就是矩阵的每一行的非零元素都在该行的主对角线上，且后续行的非零元素都位于前一行的非0元素之下，非0行下的数量就是矩阵的秩）\n",
    "a.shape#形状，就是行数和列数，比如上面二维数组，就是(2,3)\n",
    "a.size#元素个数，就是上面的6\n",
    "a.dtype#数据类型，就是上面的int32\n",
    "\n",
    "#数组的基本操作\n",
    "a = np.array([(1,2,3),(4,5,6)])\n",
    "#检测是元素（这里的元素指的是矩阵中的所有数字）否在数组中,返回是布尔值\n",
    "# print(6 in a)\n",
    "\n",
    "a= np.zeros([2,3,4,5])#可以理解为最外层是2个数组，每个数组有3个数组。。。以此类推\n",
    "a\n",
    "# a.reshape(2,3,20)#重新定义数组的维度，但是元素个数必须一致，否则会报错\n",
    "\n",
    "#转置（行变列，列变行）a.T  a.transpose()\n",
    "a = np.array([(1,2,3),(4,5,6)])\n",
    "a.T\n",
    "\n",
    "#多维变一维\n",
    "a = np.array([(1,2,3),(4,5,9)])\n",
    "a.flatten()\n",
    "\n",
    "#增加维度\n",
    "a = np.array([(1,2,3),(4,5,9)])\n",
    "a.shape #(2,3)\n",
    "a = a[:,np.newaxis]\n",
    "a.shape #(2,1,3)\n",
    "\n",
    "\n"
   ]
  },
  {
   "cell_type": "code",
   "execution_count": null,
   "metadata": {},
   "outputs": [
    {
     "data": {
      "text/plain": [
       "array([9, 5, 4, 3, 2])"
      ]
     },
     "execution_count": 80,
     "metadata": {},
     "output_type": "execute_result"
    }
   ],
   "source": [
    "#数组之间的运算\n",
    "a = np.array([(1,2),(4,5)])\n",
    "b = np.array([(6,7),(8,9)])\n",
    "\n",
    "a+b \n",
    "# array([[ 7,  9],\n",
    "    #    [12, 14]])\n",
    "    \n",
    "a-b\n",
    "# array([[-5, -5],\n",
    "#        [-4, -4]])\n",
    "\n",
    "a*b\n",
    "# array([[ 6, 14],\n",
    "#        [32, 45]])\n",
    "\n",
    "a/b\n",
    "# array([[ 0.16666667,  0.28571429],\n",
    "#        [ 0.25     ,  0.28571429]])\n",
    "\n",
    "a = np.array([2,3])\n",
    "a.sum()\n",
    "a.prod()#求积6\n",
    "a.mean()#平均值2.5\n",
    "a.var()#方差0.25\n",
    "a.std()#标准差0.5\n",
    "a.max()#最大值3\n",
    "a.min()#最小值2\n",
    "a.argmax()#最大值对应的索引位置1,等同js数组的索引\n",
    "a.argmin()#最小值对应的索引位置0\n",
    "\n",
    "a = np.array([1.1,2.2,3.3])\n",
    "np.ceil(a)#向上取整  array([2., 3., 4.])\n",
    "np.floor(a)#向下取整  array([1., 2., 3.])\n",
    "np.rint(a)#四舍五入  array([1., 2., 3.])\n",
    "\n",
    "#排序\n",
    "a = np.array([9,2,3,4,5])\n",
    "a.sort() #array([2, 3, 4, 5, 9])\n",
    "#倒序排列\n",
    "b= np.sort(a)[::-1]\n",
    "b\n"
   ]
  },
  {
   "cell_type": "code",
   "execution_count": null,
   "metadata": {},
   "outputs": [
    {
     "name": "stdout",
     "output_type": "stream",
     "text": [
      "[[19 22]\n",
      " [43 50]]\n",
      "-2.0000000000000004\n",
      "[[19 22]\n",
      " [43 50]]\n"
     ]
    }
   ],
   "source": [
    "#numpy在线性代数中的应用\n",
    "import numpy as np\n",
    "A = np.array([[1,2],[3,4]])\n",
    "B = np.array([[5,6],[7,8]])\n",
    "\n",
    "print(np.dot(A,B))#矩阵乘法\n",
    "print(A @ B)#矩阵乘法"
   ]
  },
  {
   "cell_type": "code",
   "execution_count": 94,
   "metadata": {},
   "outputs": [
    {
     "name": "stdout",
     "output_type": "stream",
     "text": [
      "你好\n",
      ",世界\n"
     ]
    }
   ],
   "source": [
    "#文件读写操作\n",
    "a = np.array([1,2,3,4,5])\n",
    "np.save('test.npy',a) #保存为二进制文件\n",
    "np.savetxt('test.txt',a)\n",
    "\n",
    "b = \"你好\\n,世界\"\n",
    "with open('test.txt','w') as f: #保存为文本文件\n",
    "    f.write(b)\n",
    "    \n",
    "#读取\n",
    "a = np.load('test.npy')\n",
    "a\n",
    "with open('test.txt','r') as f: #读取文本文件\n",
    "    b = f.read()\n",
    "    print(b)"
   ]
  },
  {
   "cell_type": "code",
   "execution_count": 4,
   "metadata": {},
   "outputs": [
    {
     "name": "stdout",
     "output_type": "stream",
     "text": [
      "(3,)\n"
     ]
    },
    {
     "data": {
      "text/plain": [
       "array([[2, 4, 6],\n",
       "       [5, 7, 9]])"
      ]
     },
     "execution_count": 4,
     "metadata": {},
     "output_type": "execute_result"
    }
   ],
   "source": [
    "#广播机制，如果数组的shape不同，那么就会进行广播机制,会将数组进行扩展，使得两个数组的shape相同\n",
    "#要求数组的维度必须相同\n",
    "a = np.array([1,2,3]) #shape = (3,)\n",
    "print(a.shape)\n",
    "b = np.array([(1,2,3),(4,5,6)]) #shape = (2,3)\n",
    "a + b\n",
    "\n"
   ]
  }
 ],
 "metadata": {
  "kernelspec": {
   "display_name": "py312",
   "language": "python",
   "name": "python3"
  },
  "language_info": {
   "codemirror_mode": {
    "name": "ipython",
    "version": 3
   },
   "file_extension": ".py",
   "mimetype": "text/x-python",
   "name": "python",
   "nbconvert_exporter": "python",
   "pygments_lexer": "ipython3",
   "version": "3.12.9"
  }
 },
 "nbformat": 4,
 "nbformat_minor": 2
}
