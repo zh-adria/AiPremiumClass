{
 "cells": [
  {
   "cell_type": "code",
   "execution_count": 633,
   "metadata": {},
   "outputs": [],
   "source": [
    "import torch\n",
    "import torchvision\n",
    "import torch.nn as nn\n",
    "from torchvision.transforms.v2 import ToTensor  # 转换图像数据为张量\n",
    "from torchvision.datasets import KMNIST  # 包含 10 个类别的字符\n",
    "from torch.utils.data import DataLoader  # 数据加载器\n",
    "import matplotlib.pyplot as plt"
   ]
  },
  {
   "cell_type": "code",
   "execution_count": 634,
   "metadata": {},
   "outputs": [],
   "source": [
    "train_data_bare = KMNIST(root='../fashion_data', train=True, download=True) # 原始数据"
   ]
  },
  {
   "cell_type": "code",
   "execution_count": 635,
   "metadata": {},
   "outputs": [
    {
     "name": "stdout",
     "output_type": "stream",
     "text": [
      "Dataset KMNIST\n",
      "    Number of datapoints: 60000\n",
      "    Root location: ../fashion_data\n",
      "    Split: Train\n",
      "\n",
      "60000\n",
      "\n",
      "['o', 'ki', 'su', 'tsu', 'na', 'ha', 'ma', 'ya', 're', 'wo']\n",
      "\n",
      "10\n",
      "\n"
     ]
    }
   ],
   "source": [
    "print(train_data_bare)  # Dataset对象（输入数据集合）\n",
    "print()\n",
    "\n",
    "print(len(train_data_bare)) #训练集数量\n",
    "print()\n",
    "\n",
    "print(train_data_bare.classes) #打印标签\n",
    "print()\n",
    "\n",
    "print(len(train_data_bare.classes)) #标签个数\n",
    "print()"
   ]
  },
  {
   "cell_type": "code",
   "execution_count": 636,
   "metadata": {},
   "outputs": [
    {
     "data": {
      "image/png": "[encoded data removed]",
      "text/plain": [
       "<Figure size 640x480 with 1 Axes>"
      ]
     },
     "metadata": {},
     "output_type": "display_data"
    }
   ],
   "source": [
    "img,clzz = train_data_bare[1314]\n",
    "plt.imshow(img, cmap='gray')  # img是一个PIL.Image对象(python原始数据)\n",
    "plt.title(clzz)\n",
    "plt.show()"
   ]
  },
  {
   "cell_type": "code",
   "execution_count": 637,
   "metadata": {},
   "outputs": [],
   "source": [
    "# 加载数据集 KMNIST\n",
    "train_data = KMNIST(root='../fashion_data',         # 数据集保存路径\n",
    "                          train=True,               # 加载训练集\n",
    "                          download=True,            # 如果本地没有数据集，则自动下载\n",
    "                          transform=ToTensor()      # 将图像数据转换为 PyTorch 张量\n",
    ")\n",
    "\n",
    "test_data = KMNIST(root='../fashion_data',\n",
    "                         train=False,               # 加载测试集\n",
    "                         download=True,\n",
    "                         transform=ToTensor()\n",
    ")"
   ]
  },
  {
   "cell_type": "code",
   "execution_count": 638,
   "metadata": {},
   "outputs": [
    {
     "name": "stdout",
     "output_type": "stream",
     "text": [
      "torch.Size([1, 28, 28])\n",
      "torch.Size([784])\n"
     ]
    }
   ],
   "source": [
    "print(train_data[1][0].shape) # 图像数据\n",
    "print(train_data[1][0].reshape(-1).shape) #展平"
   ]
  },
  {
   "cell_type": "code",
   "execution_count": 639,
   "metadata": {},
   "outputs": [],
   "source": [
    "# 定义超参数\n",
    "# LR = 1e-3\n",
    "# LR = 1e-2\n",
    "# LR = 0.05\n",
    "# LR = 1e-1\n",
    "LR = 0.2\n",
    "\n",
    "EPOCHS = 20\n",
    "BATCH_SIZE = 128\n",
    "# BATCH_SIZE = 1234"
   ]
  },
  {
   "cell_type": "code",
   "execution_count": 640,
   "metadata": {},
   "outputs": [
    {
     "name": "stdout",
     "output_type": "stream",
     "text": [
      "469\n"
     ]
    }
   ],
   "source": [
    "trian_dl = DataLoader(train_data, batch_size=BATCH_SIZE, shuffle=True)  # shuffle=True表示打乱数据\n",
    "print(len(trian_dl)) # 分组数"
   ]
  },
  {
   "cell_type": "code",
   "execution_count": 641,
   "metadata": {},
   "outputs": [],
   "source": [
    "# 定义模型\n",
    "# model = nn.Sequential(\n",
    "#     nn.Linear(784, 64),\n",
    "#     nn.Sigmoid(),\n",
    "#     nn.Linear(64, 10)\n",
    "# )\n",
    "\n",
    "# model = nn.Sequential(\n",
    "#     nn.Linear(784, 128),\n",
    "#     nn.Sigmoid(),\n",
    "#     nn.Linear(128, 10)\n",
    "# )\n",
    "\n",
    "# model = nn.Sequential(\n",
    "#     nn.Linear(784, 32),\n",
    "#     nn.Sigmoid(),\n",
    "#     nn.Linear(32, 10)\n",
    "# )\n",
    "\n",
    "model = nn.Sequential(\n",
    "    nn.Linear(784, 512),\n",
    "    nn.Linear(512, 128),\n",
    "    nn.Sigmoid(),\n",
    "    nn.Linear(128, 64),\n",
    "    nn.Linear(64, 32),\n",
    "    nn.Linear(32, 10)\n",
    ")"
   ]
  },
  {
   "cell_type": "code",
   "execution_count": 642,
   "metadata": {},
   "outputs": [],
   "source": [
    "# 损失函数&优化器\n",
    "loss_fn = nn.CrossEntropyLoss()  # 交叉熵损失函数\n",
    "# 优化器（模型参数更新）\n",
    "optimizer = torch.optim.SGD(model.parameters(), lr=LR)"
   ]
  },
  {
   "cell_type": "code",
   "execution_count": 643,
   "metadata": {},
   "outputs": [
    {
     "name": "stdout",
     "output_type": "stream",
     "text": [
      "Epoch:0 Loss: 0.7641677856445312\n",
      "Epoch:1 Loss: 0.6836240291595459\n",
      "Epoch:2 Loss: 0.4859253466129303\n",
      "Epoch:3 Loss: 0.20654787123203278\n",
      "Epoch:4 Loss: 0.23589372634887695\n",
      "Epoch:5 Loss: 0.2645600736141205\n",
      "Epoch:6 Loss: 0.20316164195537567\n",
      "Epoch:7 Loss: 0.20057976245880127\n",
      "Epoch:8 Loss: 0.11777227371931076\n",
      "Epoch:9 Loss: 0.1452830284833908\n",
      "Epoch:10 Loss: 0.13888254761695862\n",
      "Epoch:11 Loss: 0.05165587365627289\n",
      "Epoch:12 Loss: 0.13725943863391876\n",
      "Epoch:13 Loss: 0.10994603484869003\n",
      "Epoch:14 Loss: 0.0629054605960846\n",
      "Epoch:15 Loss: 0.20194095373153687\n",
      "Epoch:16 Loss: 0.021316448226571083\n",
      "Epoch:17 Loss: 0.08271951973438263\n",
      "Epoch:18 Loss: 0.07444680482149124\n",
      "Epoch:19 Loss: 0.07020708918571472\n"
     ]
    }
   ],
   "source": [
    "for epoch in range(EPOCHS):\n",
    "    # 提取训练数据\n",
    "    for data, target in trian_dl:\n",
    "        # 前向运算\n",
    "        output = model(data.reshape(-1, 784))\n",
    "        # 计算损失\n",
    "        loss = loss_fn(output, target)\n",
    "        # 反向传播\n",
    "        optimizer.zero_grad()   # 所有参数梯度清零\n",
    "        loss.backward()         # 计算梯度（参数.grad）\n",
    "        optimizer.step()        # 更新参数\n",
    "\n",
    "    print(f'Epoch:{epoch} Loss: {loss.item()}')"
   ]
  },
  {
   "cell_type": "code",
   "execution_count": 645,
   "metadata": {},
   "outputs": [
    {
     "name": "stdout",
     "output_type": "stream",
     "text": [
      "Accuracy: 85.97%\n"
     ]
    }
   ],
   "source": [
    "# 测试\n",
    "test_dl = DataLoader(test_data, batch_size=BATCH_SIZE)\n",
    "\n",
    "correct = 0\n",
    "total = 0\n",
    "with torch.no_grad():  # 不计算梯度\n",
    "    for data, target in test_dl:\n",
    "        output = model(data.reshape(-1, 784))\n",
    "        _, predicted = torch.max(output, 1)  # 返回每行最大值和索引\n",
    "        total += target.size(0)  # size(0) 等效 shape[0]\n",
    "        correct += (predicted == target).sum().item()\n",
    "\n",
    "print(f'Accuracy: {correct/total*100}%')"
   ]
  },
  {
   "cell_type": "code",
   "execution_count": 647,
   "metadata": {},
   "outputs": [
    {
     "data": {
      "text/plain": [
       "tensor([[ 9.1630e+00, -5.3925e-01, -8.6263e+00, -1.0948e+00,  1.0005e+01,\n",
       "          9.2034e+00, -5.9073e+00, -8.8471e+00,  8.3021e+00, -1.3588e+01],\n",
       "        [-2.7705e+00,  2.2280e+01, -4.2754e+00, -8.1214e+00,  1.1126e+00,\n",
       "         -9.4725e-01,  4.0749e-01, -6.0043e+00, -2.6407e+00,  1.9269e+00],\n",
       "        [-7.5614e-02, -6.7543e+00,  2.4918e+00, -1.8443e+00, -5.2359e+00,\n",
       "          1.8338e+01,  2.9285e-01, -4.2096e+00,  3.8239e+00, -6.6895e+00],\n",
       "        [ 3.0163e+00, -1.8194e+01,  3.6574e+00,  5.1575e+00,  2.5597e+00,\n",
       "          5.6963e+00, -4.1104e+00,  1.3517e+01, -1.1168e+01,  2.2055e+00],\n",
       "        [-2.9876e+00,  1.3621e+00, -2.0274e-01,  3.4000e+00, -5.8555e+00,\n",
       "         -1.2880e+00,  5.3913e-01, -2.0854e+00,  2.9716e+00,  2.9951e+00],\n",
       "        [ 9.0789e+00, -7.3088e+00, -6.1075e-01, -1.2297e+01, -4.5490e+00,\n",
       "         -1.1696e+00, -9.7337e+00,  1.1899e+01, -1.0780e+01,  2.7784e+01],\n",
       "        [-1.1196e+00, -2.0032e+00,  1.0101e+01, -2.3783e+00, -1.5545e+00,\n",
       "          1.0576e+00, -7.7055e+00, -4.3153e+00,  4.1415e+00,  5.9261e+00],\n",
       "        [-2.2797e-02,  3.4587e+00, -3.7138e-01, -6.0442e+00,  1.7611e+01,\n",
       "          2.8895e+00, -1.4693e+00, -6.5637e+00, -2.8713e+00, -3.5461e-01],\n",
       "        [ 1.1474e+00, -8.8523e+00,  4.6286e+00, -1.4695e+00,  3.1977e+00,\n",
       "         -2.1610e+00, -3.2269e+00,  1.7635e+01, -1.8218e+01,  1.1119e+01],\n",
       "        [-5.2080e+00,  5.0163e+00,  7.6580e-01, -5.3063e+00,  1.4920e+00,\n",
       "         -9.1935e-01,  9.9036e+00, -3.5264e+00, -8.1829e-01, -9.7138e-01],\n",
       "        [ 2.0600e+01, -5.6360e+00, -1.6131e+01, -1.5898e+01,  7.9009e-01,\n",
       "          6.5232e+00, -6.8416e+00,  4.4352e+00,  3.1482e+00,  1.8898e+00],\n",
       "        [-2.7559e+00, -5.5458e+00,  6.8805e+00,  1.2978e+00,  1.4622e+01,\n",
       "          3.2808e+00,  3.2210e+00, -2.1028e+00, -1.5091e+01,  4.2031e+00],\n",
       "        [ 1.4348e+01, -8.3278e+00, -1.0419e+01, -5.4821e+00, -2.8153e+00,\n",
       "          5.5736e+00, -6.3603e+00,  7.4489e+00, -5.6397e-01,  1.0396e+00],\n",
       "        [-1.0337e+01,  9.3686e-01,  1.3511e+01,  2.8759e+00, -1.0811e+00,\n",
       "          4.0568e+00, -2.8742e+00, -1.8101e+00, -8.1059e+00,  1.0998e+01],\n",
       "        [ 4.4830e+00, -6.0052e-01, -3.1756e+00, -5.9851e+00,  9.4227e+00,\n",
       "         -3.6435e-01, -1.6991e+00, -5.2457e+00,  2.8143e+00,  1.2181e+00],\n",
       "        [-4.7074e+00,  2.0785e-01,  3.0822e+00,  6.1483e+00, -5.1866e+00,\n",
       "          2.9418e+00, -6.9185e-01, -2.4176e+00, -7.8761e-01,  2.6565e+00]])"
      ]
     },
     "execution_count": 647,
     "metadata": {},
     "output_type": "execute_result"
    }
   ],
   "source": [
    "output"
   ]
  },
  {
   "cell_type": "code",
   "execution_count": 648,
   "metadata": {},
   "outputs": [
    {
     "data": {
      "text/plain": [
       "torch.Size([16, 10])"
      ]
     },
     "execution_count": 648,
     "metadata": {},
     "output_type": "execute_result"
    }
   ],
   "source": [
    "output.shape"
   ]
  },
  {
   "cell_type": "code",
   "execution_count": 649,
   "metadata": {},
   "outputs": [
    {
     "data": {
      "text/plain": [
       "tensor([4, 1, 5, 7, 3, 9, 2, 4, 7, 6, 0, 4, 0, 2, 4, 3])"
      ]
     },
     "execution_count": 649,
     "metadata": {},
     "output_type": "execute_result"
    }
   ],
   "source": [
    "predicted"
   ]
  },
  {
   "cell_type": "code",
   "execution_count": 650,
   "metadata": {},
   "outputs": [
    {
     "data": {
      "text/plain": [
       "tensor([0, 1, 5, 7, 3, 9, 2, 4, 7, 6, 0, 4, 0, 9, 4, 2])"
      ]
     },
     "execution_count": 650,
     "metadata": {},
     "output_type": "execute_result"
    }
   ],
   "source": [
    "target"
   ]
  },
  {
   "cell_type": "code",
   "execution_count": 652,
   "metadata": {},
   "outputs": [
    {
     "data": {
      "text/plain": [
       "tensor([0, 1, 1, 1, 1, 1, 1, 1, 1, 1, 1, 1, 1, 0, 1, 0], dtype=torch.int32)"
      ]
     },
     "execution_count": 652,
     "metadata": {},
     "output_type": "execute_result"
    }
   ],
   "source": [
    "(predicted == target).int()"
   ]
  },
  {
   "cell_type": "code",
   "execution_count": 653,
   "metadata": {},
   "outputs": [
    {
     "data": {
      "text/plain": [
       "tensor(13)"
      ]
     },
     "execution_count": 653,
     "metadata": {},
     "output_type": "execute_result"
    }
   ],
   "source": [
    "(predicted == target).int().sum()"
   ]
  }
 ],
 "metadata": {
  "kernelspec": {
   "display_name": "py312",
   "language": "python",
   "name": "python3"
  },
  "language_info": {
   "codemirror_mode": {
    "name": "ipython",
    "version": 3
   },
   "file_extension": ".py",
   "mimetype": "text/x-python",
   "name": "python",
   "nbconvert_exporter": "python",
   "pygments_lexer": "ipython3",
   "version": "3.12.3"
  }
 },
 "nbformat": 4,
 "nbformat_minor": 2
}
