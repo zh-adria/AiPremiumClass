{
 "cells": [
  {
   "cell_type": "code",
   "execution_count": 83,
   "metadata": {},
   "outputs": [
    {
     "name": "stdout",
     "output_type": "stream",
     "text": [
      "[0 0 0 0 0 0 0 0 0 0 0 0 0 0 0 0 0 0 0 0 0 0 0 0 0 0 0 0 0 0 0 0 0 0 0 0 0\n",
      " 0 0 0 0 0 0 0 0 0 0 0 0 0 1 1 1 1 1 1 1 1 1 1 1 1 1 1 1 1 1 1 1 1 1 1 1 1\n",
      " 1 1 1 1 1 1 1 1 1 1 1 1 1 1 1 1 1 1 1 1 1 1 1 1 1 1 2 2 2 2 2 2 2 2 2 2 2\n",
      " 2 2 2 2 2 2 2 2 2 2 2 2 2 2 2 2 2 2 2 2 2 2 2 2 2 2 2 2 2 2 2 2 2 2 2 2 2\n",
      " 2 2]\n",
      "(150, 4)\n",
      "(150,)\n",
      "\n",
      "[0 0 0 0 0 0 0 0 0 0 0 0 0 0 0 0 0 0 0 0 0 0 0 0 0 0 0 0 0 0 0 0 0 0 0 0 0\n",
      " 0 0 0 0 0 0 0 0 0 0 0 0 0 1 1 1 1 1 1 1 1 1 1 1 1 1 1 1 1 1 1 1 1 1 1 1 1\n",
      " 1 1 1 1 1 1 1 1 1 1 1 1 1 1 1 1 1 1 1 1 1 1 1 1 1 1]\n",
      "(100, 4)\n",
      "(100,)\n"
     ]
    }
   ],
   "source": [
    "# 使用sklearn数据集训练逻辑回归模型\n",
    "from sklearn.datasets import load_iris\n",
    "from sklearn.model_selection import train_test_split\n",
    "import numpy as np\n",
    "\n",
    "# 加载经典的鸢尾花（Iris）数据集\n",
    "X,y = load_iris(return_X_y=True) # return_X_y=True 表示直接返回特征矩阵 X 和目标标签 y\n",
    "\n",
    "# print(X)\n",
    "print(y)\n",
    "print(X.shape)\n",
    "print(y.shape)\n",
    "\n",
    "X = X[:100]  # 取前100个数据\n",
    "y = y[:100]  # 取前100个标签(0,1)\n",
    "\n",
    "print()\n",
    "# print(X)\n",
    "print(y)\n",
    "print(X.shape)\n",
    "print(y.shape)"
   ]
  },
  {
   "cell_type": "code",
   "execution_count": 64,
   "metadata": {},
   "outputs": [
    {
     "name": "stdout",
     "output_type": "stream",
     "text": [
      "[5.1 3.5 1.4 0.2]\n"
     ]
    }
   ],
   "source": [
    "print(X[0])"
   ]
  },
  {
   "cell_type": "code",
   "execution_count": null,
   "metadata": {},
   "outputs": [
    {
     "name": "stdout",
     "output_type": "stream",
     "text": [
      "(60, 4)\n",
      "(40, 4)\n",
      "(60,)\n",
      "(40,)\n",
      "\n",
      "[0 0 1 0 0 0 1 0 1 1 1 0 0 0 0 1 0 1 1 1 1 1 0 0 0 1 1 0 1 1 0 1 1 0 0 1 0\n",
      " 0 1 1 1 0 0 0 1 1 0 1 0 1 0 1 0 0 1 0 0 0 0 1]\n",
      "\n",
      "[1 1 1 0 0 0 1 1 1 1 1 1 1 0 1 0 0 1 0 1 1 1 0 0 1 0 1 1 1 1 0 0 1 0 0 0 0\n",
      " 1 0 0]\n"
     ]
    }
   ],
   "source": [
    "# 数据拆分\n",
    "# X_train, X_test, y_train, y_test = train_test_split(X, y, test_size=0.2)\n",
    "# X_train, X_test, y_train, y_test = train_test_split(X, y, test_size=0.3)\n",
    "X_train, X_test, y_train, y_test = train_test_split(X, y, test_size=0.4)\n",
    "print(X_train.shape)\n",
    "print(X_test.shape)\n",
    "print(y_train.shape)\n",
    "print(y_test.shape)\n",
    "\n",
    "# 数据随机被打乱\n",
    "print()\n",
    "print(y_train)\n",
    "print()\n",
    "print(y_test)"
   ]
  },
  {
   "cell_type": "code",
   "execution_count": null,
   "metadata": {},
   "outputs": [],
   "source": [
    "# 权重参数\n",
    "theta = np.random.randn(1,4)  # shape (1, 4)\n",
    "bias = 0\n",
    "# 超参数\n",
    "lr = 0.1 # 学习率\n",
    "# lr = 0.2\n",
    "# lr = 0.01\n",
    "epochs = 3000  # 训练次数\n",
    "# epochs = 2000  # 训练次数\n",
    "# epochs = 1000  # 训练次数"
   ]
  },
  {
   "cell_type": "code",
   "execution_count": 76,
   "metadata": {},
   "outputs": [
    {
     "name": "stdout",
     "output_type": "stream",
     "text": [
      "[[0.96009195 0.94290646 0.82161735 0.95556817 0.94095144 0.92744456\n",
      "  0.80454351 0.93013185 0.85246659 0.86321104 0.81312656 0.94530835\n",
      "  0.9400942  0.92077602 0.94725504 0.87937193 0.94720243 0.87371258\n",
      "  0.83187548 0.85230051 0.82698505 0.82772801 0.96215087 0.83431994\n",
      "  0.92060896 0.80401038 0.83977603 0.91726424 0.81188637 0.84309477\n",
      "  0.97060984 0.81819104 0.82912887 0.93950381 0.95584586 0.85060245\n",
      "  0.92119903 0.9518579  0.86874443 0.85909982 0.79053634 0.96909898\n",
      "  0.92541338 0.94398701 0.85399868 0.79360405 0.94928952 0.80973717\n",
      "  0.95638326 0.85770351 0.91594472 0.7572414  0.94838748 0.93420628\n",
      "  0.83583307 0.93624398 0.92593712 0.94378175 0.9736068  0.82758335]]\n",
      "(1, 60)\n"
     ]
    }
   ],
   "source": [
    "# 模型函数计算\n",
    "def forward(x, theta, bias):\n",
    "    # 线性运算\n",
    "    z = np.dot(theta, x.T) + bias # shape (70,4)\n",
    "    # sigmoid\n",
    "    y_hat = 1 / (1 + np.exp(-z))  # shape (70,4)\n",
    "    return y_hat\n",
    "\n",
    "y_hat_test = forward(X_train, theta, bias)\n",
    "print(y_hat_test)\n",
    "print(y_hat_test.shape)"
   ]
  },
  {
   "cell_type": "code",
   "execution_count": 77,
   "metadata": {},
   "outputs": [
    {
     "name": "stdout",
     "output_type": "stream",
     "text": [
      "-15.225436936993862\n"
     ]
    }
   ],
   "source": [
    "# 计算损失函数\n",
    "def loss(y, y_hat):\n",
    "    e = 1e-8\n",
    "    return - y * np.log(y_hat + e) - (1 - y) * np.log(1 - y_hat + e)\n",
    "\n",
    "loss_test = loss(X_train[0][0], y_hat_test[0][0])\n",
    "print(loss_test)"
   ]
  },
  {
   "cell_type": "code",
   "execution_count": 78,
   "metadata": {},
   "outputs": [
    {
     "name": "stdout",
     "output_type": "stream",
     "text": [
      "\n",
      "[[30.86049061 22.8386836   5.89138628  0.29482699]]\n",
      "0.42251802490871265\n"
     ]
    }
   ],
   "source": [
    "# 计算梯度\n",
    "def calc_gradient(x,y,y_hat):\n",
    "    # 计算梯度\n",
    "    m = x.shape[-1] # 4\n",
    "    # print(m)\n",
    "    # theta梯度计算\n",
    "    delta_theta = np.dot((y_hat - y), x) / m\n",
    "    # bias梯度计算\n",
    "    delta_bias = np.mean(y_hat - y)\n",
    "    # 返回梯度\n",
    "    return delta_theta, delta_bias\n",
    "\n",
    "delta_theta_test, delta_bias_test = calc_gradient(X_train, y_train, y_hat_test)\n",
    "print()\n",
    "print(delta_theta_test)\n",
    "print(delta_bias_test)"
   ]
  },
  {
   "cell_type": "code",
   "execution_count": 79,
   "metadata": {},
   "outputs": [],
   "source": [
    "# 权重参数\n",
    "theta = np.random.randn(1,4)  # shape (1, 4)\n",
    "bias = 0\n",
    "# 超参数\n",
    "lr = 0.01 # 学习率\n",
    "epochs = 3000  # 训练次数"
   ]
  },
  {
   "cell_type": "code",
   "execution_count": 80,
   "metadata": {},
   "outputs": [
    {
     "name": "stdout",
     "output_type": "stream",
     "text": [
      "epoch: 0, loss: 1.593169276834295, acc: 0.5333333333333333\n",
      "epoch: 150, loss: 0.03180619275322478, acc: 1.0\n",
      "epoch: 300, loss: 0.01632033343003974, acc: 1.0\n",
      "epoch: 450, loss: 0.011098725548220913, acc: 1.0\n",
      "epoch: 600, loss: 0.008456216872583761, acc: 1.0\n",
      "epoch: 750, loss: 0.00685345876240809, acc: 1.0\n",
      "epoch: 900, loss: 0.005774658080305415, acc: 1.0\n",
      "epoch: 1050, loss: 0.004997468762786295, acc: 1.0\n",
      "epoch: 1200, loss: 0.004410073494802481, acc: 1.0\n",
      "epoch: 1350, loss: 0.0039500064929524105, acc: 1.0\n",
      "epoch: 1500, loss: 0.003579591019160175, acc: 1.0\n",
      "epoch: 1650, loss: 0.0032747317991194216, acc: 1.0\n",
      "epoch: 1800, loss: 0.00301928993632211, acc: 1.0\n",
      "epoch: 1950, loss: 0.00280204278570655, acc: 1.0\n",
      "epoch: 2100, loss: 0.002614940496835816, acc: 1.0\n",
      "epoch: 2250, loss: 0.002452056312156329, acc: 1.0\n",
      "epoch: 2400, loss: 0.0023089283111601988, acc: 1.0\n",
      "epoch: 2550, loss: 0.002182132109501039, acc: 1.0\n",
      "epoch: 2700, loss: 0.002068995108852698, acc: 1.0\n",
      "epoch: 2850, loss: 0.0019674003997812353, acc: 1.0\n"
     ]
    }
   ],
   "source": [
    "# 模型训练\n",
    "for i in range(epochs):\n",
    "    # 前向计算\n",
    "    y_hat = forward(X_train, theta, bias)\n",
    "    # 计算损失\n",
    "    loss_val = loss(y_train, y_hat)\n",
    "    # 计算梯度\n",
    "    delta_theta, delta_bias = calc_gradient(X_train, y_train, y_hat)\n",
    "    # 更新参数\n",
    "    theta = theta - lr * delta_theta\n",
    "    bias = bias - lr * delta_bias\n",
    "\n",
    "    if i % 150 == 0:\n",
    "        # 计算准确率\n",
    "        acc = np.mean(np.round(y_hat) == y_train)  # [False,True,...,False] -> [0,1,...,0]\n",
    "        print(f\"epoch: {i}, loss: {np.mean(loss_val)}, acc: {acc}\")"
   ]
  },
  {
   "cell_type": "code",
   "execution_count": 81,
   "metadata": {},
   "outputs": [
    {
     "name": "stdout",
     "output_type": "stream",
     "text": [
      "[[-1.08201757 -2.22949393  3.81994078  3.0060944 ]]\n",
      "-0.03274059057850471\n"
     ]
    }
   ],
   "source": [
    "print(theta)\n",
    "print(bias)"
   ]
  },
  {
   "cell_type": "code",
   "execution_count": 82,
   "metadata": {},
   "outputs": [
    {
     "name": "stdout",
     "output_type": "stream",
     "text": [
      "[[9.96997349e-01 9.99743769e-01 9.99979676e-01 1.24737991e-03\n",
      "  4.47101244e-04 1.72490558e-03 9.99822175e-01 9.99892160e-01\n",
      "  9.98459445e-01 9.98555720e-01 9.99689188e-01 9.99866109e-01\n",
      "  9.99865149e-01 6.24268300e-04 9.98948121e-01 4.59261607e-04\n",
      "  4.38691715e-03 9.99315338e-01 1.99415795e-03 9.99956934e-01\n",
      "  9.99884217e-01 9.99401814e-01 7.30826970e-03 6.07759742e-04\n",
      "  9.74463075e-01 1.76021886e-03 9.99830993e-01 9.99807783e-01\n",
      "  9.99417598e-01 9.99845078e-01 1.46627041e-03 3.30580236e-03\n",
      "  9.99197428e-01 7.05038344e-03 2.69159042e-03 4.12182141e-04\n",
      "  3.91319742e-03 9.99962669e-01 3.45262697e-03 6.91061790e-04]]\n",
      "\n",
      "[[1. 1. 1. 0. 0. 0. 1. 1. 1. 1. 1. 1. 1. 0. 1. 0. 0. 1. 0. 1. 1. 1. 0. 0.\n",
      "  1. 0. 1. 1. 1. 1. 0. 0. 1. 0. 0. 0. 0. 1. 0. 0.]]\n",
      "[1 1 1 0 0 0 1 1 1 1 1 1 1 0 1 0 0 1 0 1 1 1 0 0 1 0 1 1 1 1 0 0 1 0 0 0 0\n",
      " 1 0 0]\n",
      "\n",
      "1.0\n"
     ]
    }
   ],
   "source": [
    "y_hat = forward(X_test, theta, bias)\n",
    "\n",
    "print(y_hat)\n",
    "print()\n",
    "print(np.round(y_hat))\n",
    "print(y_test)\n",
    "print()\n",
    "acc = np.mean(np.round(y_hat) == y_test)\n",
    "print(acc) #准确率"
   ]
  },
  {
   "cell_type": "code",
   "execution_count": null,
   "metadata": {},
   "outputs": [],
   "source": []
  }
 ],
 "metadata": {
  "kernelspec": {
   "display_name": "py312",
   "language": "python",
   "name": "python3"
  },
  "language_info": {
   "codemirror_mode": {
    "name": "ipython",
    "version": 3
   },
   "file_extension": ".py",
   "mimetype": "text/x-python",
   "name": "python",
   "nbconvert_exporter": "python",
   "pygments_lexer": "ipython3",
   "version": "3.12.3"
  }
 },
 "nbformat": 4,
 "nbformat_minor": 2
}
