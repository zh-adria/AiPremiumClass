{
 "cells": [
  {
   "cell_type": "code",
   "execution_count": 925,
   "metadata": {},
   "outputs": [],
   "source": [
    "from sklearn.datasets import fetch_olivetti_faces\n",
    "from sklearn.model_selection import train_test_split\n",
    "import torch\n",
    "import torch.nn as nn\n",
    "from torch.utils.data import DataLoader\n",
    "from torch.nn import CrossEntropyLoss, KLDivLoss\n",
    "from torch.optim import SGD, RMSprop, Adam, AdamW\n",
    "import matplotlib.pyplot as plt\n",
    "from torch.serialization import add_safe_globals\n",
    "from homework_model import NN\n",
    "# 添加模型定义到 torch.serialization.safe_globals()\n",
    "add_safe_globals([nn.Linear])"
   ]
  },
  {
   "cell_type": "code",
   "execution_count": 926,
   "metadata": {},
   "outputs": [],
   "source": [
    "# 设备选择\n",
    "device = torch.device('cuda' if torch.cuda.is_available() else 'cpu')\n",
    "\n",
    "# 数据集加载\n",
    "olivetti_faces_data = fetch_olivetti_faces(data_home='./scikit_learn_data/fetch_olivetti_faces',\n",
    "                                            shuffle=True, download_if_missing=True, return_X_y=False)"
   ]
  },
  {
   "cell_type": "code",
   "execution_count": 927,
   "metadata": {},
   "outputs": [],
   "source": [
    "# 超参数定义\n",
    "lr = 1e-3\n",
    "epochs = 400\n",
    "batc_size = 80"
   ]
  },
  {
   "cell_type": "code",
   "execution_count": 928,
   "metadata": {},
   "outputs": [],
   "source": [
    "# 数据预处理——拆分数据集,但是暂时没有想到怎么使用\n",
    "train_olivetti_faces_data, test_olivetti_faces_data, train_olivetti_faces_target, test_olivetti_faces_target = \\\n",
    "    train_test_split(olivetti_faces_data.data, olivetti_faces_data.target, test_size=0.3, shuffle=True)"
   ]
  },
  {
   "cell_type": "code",
   "execution_count": 929,
   "metadata": {},
   "outputs": [],
   "source": [
    "# 数据预处理,构造一个（images,target）tuple\n",
    "images = torch.tensor(olivetti_faces_data.data)\n",
    "targets = torch.tensor(olivetti_faces_data.target).long()\n",
    "# （images,target）tuple    转换为（（images,target））list\n",
    "datasets = [(image, target) for image, target in zip(images, targets)]  # olivetti_faces_data = list(zip(images, target))\n",
    "# 构造一个DataLoader对象，用于批量加载数据\n",
    "train_dl= DataLoader(datasets, batch_size=batc_size, shuffle=True)"
   ]
  },
  {
   "cell_type": "code",
   "execution_count": 930,
   "metadata": {},
   "outputs": [],
   "source": [
    "# 网络模型构建\n",
    "models = [NN().to(device) for _ in range(3)]\n",
    "# print(models)"
   ]
  },
  {
   "cell_type": "code",
   "execution_count": 931,
   "metadata": {},
   "outputs": [],
   "source": [
    "# 损失函数和优化器定义\n",
    "loss_fn = CrossEntropyLoss()# 交叉熵损失函数\n",
    "\n",
    "SGD_optimizer = SGD(models[0].parameters(), lr=lr)                      #momentum=0, dampening=0, weight_decay=0, nesterov=False)\n",
    "AdamW_optimizer = AdamW(models[1].parameters(), lr=lr)"
   ]
  },
  {
   "cell_type": "code",
   "execution_count": 932,
   "metadata": {},
   "outputs": [],
   "source": [
    "# 模型训练\n",
    "\n",
    "def model_train(model, train_dl, epochs, loss_fn, optimizer, training_mode: bool = True, device:str = 'cpu'):\n",
    "    model.train(training_mode)\n",
    "    loss_val_list = []\n",
    "    for epoch in range(epochs):\n",
    "        for data, target in train_dl:\n",
    "            # print(data.shape,type(data))\n",
    "            # 前向计算\n",
    "            output = model(data.reshape(-1, 64 * 64).to(device))\n",
    "            # 计算损失\n",
    "            loss_val = loss_fn(output, target.to(device))\n",
    "            # 反向传播\n",
    "            model.zero_grad()  # 所有参数梯度清零\n",
    "            loss_val.backward()             # 计算梯度存放在.grad里面\n",
    "            # 参数更新\n",
    "            optimizer.step()                # 参数更新    \n",
    "        if epoch % 20 == 0:\n",
    "            print(f'epoch={epoch},loss_val={loss_val}')\n",
    "        loss_val_list.append(loss_val.item())\n",
    "    return loss_val_list\n",
    "\n",
    "\n"
   ]
  },
  {
   "cell_type": "code",
   "execution_count": 933,
   "metadata": {},
   "outputs": [],
   "source": [
    "def draw_train_hist(hist_list):\n",
    "    for i,hist in enumerate(hist_list):   \n",
    "        plt.plot(hist, label=f'model{i}\\'s loss_val')\n",
    "    plt.legend()\n",
    "    plt.xlabel('Epochs')\n",
    "    plt.ylabel('Loss')\n",
    "    plt.title('Training Loss')\n",
    "    plt.ylim(0, 10)\n",
    "    plt.show()"
   ]
  },
  {
   "cell_type": "code",
   "execution_count": 934,
   "metadata": {},
   "outputs": [],
   "source": [
    "# 模型推理测试\n",
    "def test_model(test_dl, model):\n",
    "    model.eval()\n",
    "    correct = 0\n",
    "    total = 0\n",
    "    with torch.no_grad():\n",
    "        for data, target in train_dl:\n",
    "            out_put = model(data.reshape(-1, 64*64).to(device))\n",
    "            _, predicted = torch.max(out_put, 1)\n",
    "            total += target.size(0)\n",
    "            correct += (predicted==target.to(device)).sum().item()\n",
    "    # 设计一个输出分隔符\n",
    "    print('-----------------------------------')\n",
    "    print(f'Accuracy: {correct/total*100}%')\n",
    "    print(f'correct={correct},total={total}')\n",
    "    print(f'predicted={predicted[0:5]}')\n",
    "    print(f'target={target[0:5]}')\n"
   ]
  },
  {
   "cell_type": "code",
   "execution_count": 935,
   "metadata": {},
   "outputs": [
    {
     "name": "stdout",
     "output_type": "stream",
     "text": [
      "epoch=0,loss_val=3.6927905082702637\n",
      "epoch=20,loss_val=3.685577392578125\n",
      "epoch=40,loss_val=3.688905715942383\n",
      "epoch=60,loss_val=3.6941325664520264\n",
      "epoch=80,loss_val=3.694676637649536\n",
      "epoch=100,loss_val=3.690340757369995\n",
      "epoch=120,loss_val=3.6864395141601562\n",
      "epoch=140,loss_val=3.682804584503174\n",
      "epoch=160,loss_val=3.6887106895446777\n",
      "epoch=180,loss_val=3.681640148162842\n",
      "epoch=200,loss_val=3.6931910514831543\n",
      "epoch=220,loss_val=3.689955234527588\n",
      "epoch=240,loss_val=3.6960480213165283\n",
      "epoch=260,loss_val=3.6901984214782715\n",
      "epoch=280,loss_val=3.6836395263671875\n",
      "epoch=300,loss_val=3.692221164703369\n",
      "epoch=320,loss_val=3.6870265007019043\n",
      "epoch=340,loss_val=3.6856529712677\n",
      "epoch=360,loss_val=3.687936305999756\n",
      "epoch=380,loss_val=3.683520793914795\n",
      "epoch=0,loss_val=3.6944823265075684\n",
      "epoch=20,loss_val=2.4476635456085205\n",
      "epoch=40,loss_val=1.864500641822815\n",
      "epoch=60,loss_val=1.2402541637420654\n",
      "epoch=80,loss_val=2.022524356842041\n",
      "epoch=100,loss_val=0.4868909418582916\n",
      "epoch=120,loss_val=0.5232595801353455\n",
      "epoch=140,loss_val=0.4462903141975403\n",
      "epoch=160,loss_val=0.5081387758255005\n",
      "epoch=180,loss_val=0.05905124545097351\n",
      "epoch=200,loss_val=0.018402505666017532\n",
      "epoch=220,loss_val=0.023332443088293076\n",
      "epoch=240,loss_val=0.28105899691581726\n",
      "epoch=260,loss_val=0.07926634699106216\n",
      "epoch=280,loss_val=0.011434678919613361\n",
      "epoch=300,loss_val=0.005178376566618681\n",
      "epoch=320,loss_val=0.0019903460051864386\n",
      "epoch=340,loss_val=0.00325755774974823\n",
      "epoch=360,loss_val=0.0014416463673114777\n",
      "epoch=380,loss_val=0.0014944085851311684\n",
      "epoch=0,loss_val=3.7003707885742188\n",
      "epoch=20,loss_val=3.686373472213745\n",
      "epoch=40,loss_val=3.682150363922119\n",
      "epoch=60,loss_val=3.6860241889953613\n",
      "epoch=80,loss_val=3.694932460784912\n",
      "epoch=100,loss_val=3.685713529586792\n",
      "epoch=120,loss_val=3.6929333209991455\n",
      "epoch=140,loss_val=3.6855101585388184\n",
      "epoch=160,loss_val=3.695760726928711\n",
      "epoch=180,loss_val=3.6969306468963623\n",
      "epoch=200,loss_val=3.6934375762939453\n",
      "epoch=220,loss_val=3.686422824859619\n",
      "epoch=240,loss_val=3.6964473724365234\n",
      "epoch=260,loss_val=3.6940619945526123\n",
      "epoch=280,loss_val=3.6905922889709473\n",
      "epoch=300,loss_val=3.689844846725464\n",
      "epoch=320,loss_val=3.692969560623169\n",
      "epoch=340,loss_val=3.6897385120391846\n",
      "epoch=360,loss_val=3.6960158348083496\n",
      "epoch=380,loss_val=3.6970551013946533\n"
     ]
    }
   ],
   "source": [
    "# 模型训练\n",
    "loss_val_list1 = model_train(models[0], train_dl, epochs, loss_fn, SGD_optimizer, training_mode=True, device=device)\n",
    "\n",
    "loss_val_list2 = model_train(models[1], train_dl, epochs, loss_fn, AdamW_optimizer, training_mode=True, device=device)   # 与第一个模型对比优化器对训练的影响\n",
    "\n",
    "loss_val_list3 = model_train(models[2], train_dl, epochs, loss_fn, SGD_optimizer, training_mode=False, device=device)     # 与第一个模型对比正则化和归一化对训练的影响\n"
   ]
  },
  {
   "cell_type": "code",
   "execution_count": 936,
   "metadata": {},
   "outputs": [
    {
     "data": {
      "image/png": "[encoded data removed]",
      "text/plain": [
       "<Figure size 640x480 with 1 Axes>"
      ]
     },
     "metadata": {},
     "output_type": "display_data"
    }
   ],
   "source": [
    "# 模型训练损失可视化\n",
    "draw_train_hist([loss_val_list1,loss_val_list2,loss_val_list3])\n"
   ]
  },
  {
   "cell_type": "code",
   "execution_count": 937,
   "metadata": {},
   "outputs": [
    {
     "name": "stdout",
     "output_type": "stream",
     "text": [
      "-----------------------------------\n",
      "Accuracy: 2.5%\n",
      "correct=10,total=400\n",
      "predicted=tensor([24, 24, 24, 24, 24], device='cuda:0')\n",
      "target=tensor([18, 27, 12,  5, 22])\n",
      "-----------------------------------\n",
      "Accuracy: 100.0%\n",
      "correct=400,total=400\n",
      "predicted=tensor([22,  2, 13,  9, 31], device='cuda:0')\n",
      "target=tensor([22,  2, 13,  9, 31])\n",
      "-----------------------------------\n",
      "Accuracy: 2.5%\n",
      "correct=10,total=400\n",
      "predicted=tensor([10, 10, 10, 10, 10], device='cuda:0')\n",
      "target=tensor([24, 38, 30, 31, 39])\n"
     ]
    }
   ],
   "source": [
    "# 模型测试\n",
    "test_model(train_dl, models[0])\n",
    "test_model(train_dl, models[1])\n",
    "test_model(train_dl, models[2])"
   ]
  },
  {
   "cell_type": "code",
   "execution_count": 938,
   "metadata": {},
   "outputs": [],
   "source": [
    "# 模型保存\n",
    "# torch.save(models[1], 'model1.pth')\n",
    "# 模型加载\n",
    "# models[1].load_state_dict(torch.load('./model1.pth'))\n",
    "# test_model(train_dl, models[0])"
   ]
  }
 ],
 "metadata": {
  "kernelspec": {
   "display_name": "DeepLearning",
   "language": "python",
   "name": "python3"
  },
  "language_info": {
   "codemirror_mode": {
    "name": "ipython",
    "version": 3
   },
   "file_extension": ".py",
   "mimetype": "text/x-python",
   "name": "python",
   "nbconvert_exporter": "python",
   "pygments_lexer": "ipython3",
   "version": "3.12.8"
  }
 },
 "nbformat": 4,
 "nbformat_minor": 2
}
