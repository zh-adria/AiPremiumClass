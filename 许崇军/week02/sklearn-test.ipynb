{
 "cells": [
  {
   "cell_type": "code",
   "execution_count": 7,
   "metadata": {},
   "outputs": [],
   "source": [
    "from sklearn.datasets import load_iris\n",
    "import numpy as np\n",
    "from sklearn.model_selection import train_test_split\n",
    "X,y = load_iris(return_X_y=True)\n",
    "X1= X[:100]\n",
    "y1 = y[:100]\n",
    "X_train, X_test, y_train, y_test = train_test_split(X1, y1, test_size=0.2)\n",
    "idx = np.random.randint(len(X_test)) # 随机选择一个测试样本索引\n",
    "x2 = X_test[idx]\n",
    "y2 = y_test[idx]\n",
    "\n",
    "\n"
   ]
  },
  {
   "cell_type": "code",
   "execution_count": 6,
   "metadata": {},
   "outputs": [],
   "source": [
    "def predict(x, theta, bias):\n",
    "    z = np.dot(theta, x.T) + bias\n",
    "    y_hat = 1 / (1 + np.exp(-z))\n",
    "    return np.round(y_hat).astype(int)\n",
    "\n"
   ]
  },
  {
   "cell_type": "code",
   "execution_count": 9,
   "metadata": {},
   "outputs": [
    {
     "name": "stdout",
     "output_type": "stream",
     "text": [
      "y: 0, predict: [0]\n"
     ]
    }
   ],
   "source": [
    "# 加载保存的参数\n",
    "params = np.load('lris.npz')\n",
    "theta = params['theta']\n",
    "bias = params['bias']\n",
    "# 进行预测\n",
    "y_pred = predict(x2, theta, bias)\n",
    "# 计算准确率\n",
    "accuracy = np.mean(y_pred == y2)\n",
    "print(f\"y: {y2}, predict: {y_pred}\")"
   ]
  }
 ],
 "metadata": {
  "kernelspec": {
   "display_name": "py12",
   "language": "python",
   "name": "python3"
  },
  "language_info": {
   "codemirror_mode": {
    "name": "ipython",
    "version": 3
   },
   "file_extension": ".py",
   "mimetype": "text/x-python",
   "name": "python",
   "nbconvert_exporter": "python",
   "pygments_lexer": "ipython3",
   "version": "3.7.12"
  }
 },
 "nbformat": 4,
 "nbformat_minor": 2
}
