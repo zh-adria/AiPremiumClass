{
 "cells": [
  {
   "cell_type": "code",
   "execution_count": 5,
   "metadata": {},
   "outputs": [
    {
     "name": "stdout",
     "output_type": "stream",
     "text": [
      "99665\n"
     ]
    }
   ],
   "source": [
    "\n",
    "#修复后内容存盘文件\n",
    "fixed = open(\"doubanfix_comments.txt\",'w',encoding=\"utf-8\")\n",
    "#修复前内容存盘文件\n",
    "lines = [line for line in open(\"doubantop.txt\",\"r\",encoding=\"utf-8\")]\n",
    "\n",
    "print(len(lines))\n",
    "\n",
    "\n",
    "for i,line in enumerate(lines):\n",
    "    if i == 0:\n",
    "        fixed.write(line)\n",
    "        prev_line = ''\n",
    "        continue\n",
    "\n",
    "\n",
    "    terms  = line.split('\\t')\n",
    "    if terms[0] == prev_line.split('\\t')[0]:\n",
    "        if len(prev_line.split('\\t')) == 6:\n",
    "           fixed.write(prev_line + '\\n')\n",
    "           prev_line = line.strip()\n",
    "        else:\n",
    "           prev_line = \"\"\n",
    "    else:\n",
    "        if len(terms) == 6:\n",
    "            prev_line = line.strip()\n",
    "        else:\n",
    "            prev_line += line.strip()\n",
    "\n",
    "fixed.close()"
   ]
  },
  {
   "cell_type": "code",
   "execution_count": null,
   "metadata": {},
   "outputs": [],
   "source": []
  }
 ],
 "metadata": {
  "kernelspec": {
   "display_name": "py12",
   "language": "python",
   "name": "python3"
  },
  "language_info": {
   "codemirror_mode": {
    "name": "ipython",
    "version": 3
   },
   "file_extension": ".py",
   "mimetype": "text/x-python",
   "name": "python",
   "nbconvert_exporter": "python",
   "pygments_lexer": "ipython3",
   "version": "3.7.12"
  }
 },
 "nbformat": 4,
 "nbformat_minor": 2
}
