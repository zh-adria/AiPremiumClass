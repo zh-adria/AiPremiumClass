{
 "cells": [
  {
   "cell_type": "code",
   "execution_count": 2,
   "metadata": {},
   "outputs": [
    {
     "name": "stdout",
     "output_type": "stream",
     "text": [
      "文档词汇表的长度是---> 2004\n"
     ]
    }
   ],
   "source": [
    "import fasttext\n",
    "\n",
    "model1 = fasttext.train_unsupervised('sethread_cut.txt', model = 'skipgram')\n",
    "# model2 = fasttext.train_supervised('sethread_cut.txt',model = 'cbow')\n",
    "\n",
    "print(\"文档词汇表的长度是--->\",len(model1.words))"
   ]
  },
  {
   "cell_type": "code",
   "execution_count": 3,
   "metadata": {},
   "outputs": [
    {
     "name": "stdout",
     "output_type": "stream",
     "text": [
      "[ 0.11717241  0.05672262  0.09631826 -0.00334816  0.0413055   0.01700368\n",
      " -0.02633401  0.17426048  0.22859862 -0.01426582 -0.02831301  0.10431917\n",
      " -0.18198451 -0.05620818 -0.2054602   0.19139451 -0.04288223 -0.22373967\n",
      " -0.1972337  -0.15128055  0.11696844 -0.05589803 -0.08203734 -0.18919349\n",
      " -0.16736948  0.15091695  0.07415211 -0.14966735 -0.0633193   0.08964102\n",
      "  0.08074334 -0.00309923 -0.21957715 -0.01559176 -0.1754739  -0.0883431\n",
      "  0.13320938 -0.14975429 -0.07059878  0.03689842  0.08557741  0.14710574\n",
      " -0.10559388  0.04297777  0.05782023 -0.14477566 -0.02247659  0.05240601\n",
      " -0.02635571  0.24138324 -0.23879392 -0.09417672  0.01419793  0.17651007\n",
      " -0.00635701 -0.00199973 -0.04801423  0.15281071 -0.03141475 -0.00578302\n",
      " -0.1444878  -0.04696815  0.04190933  0.15485111 -0.0225577   0.00597828\n",
      "  0.04312585  0.16308425 -0.12873434 -0.2532268  -0.07650401  0.11889002\n",
      "  0.10385069 -0.25054932 -0.04435408  0.00540013  0.0206473  -0.09129347\n",
      " -0.04891722 -0.04921091  0.06724989  0.24580353  0.15336347  0.02827168\n",
      "  0.08945592 -0.02315079  0.05586133  0.1807634  -0.0518644   0.0058851\n",
      "  0.10522334  0.05141964  0.25052333 -0.08125563 -0.18171602 -0.41641873\n",
      "  0.02217594  0.18880606  0.01420585 -0.03300388]\n"
     ]
    }
   ],
   "source": [
    "#获取词向量\n",
    "word2vec =model1.get_word_vector('灵魂')\n",
    "print(word2vec)"
   ]
  },
  {
   "cell_type": "code",
   "execution_count": 16,
   "metadata": {},
   "outputs": [
    {
     "name": "stdout",
     "output_type": "stream",
     "text": [
      "[(0.9924609065055847, '一部分'), (0.9921460151672363, '本体'), (0.9911453723907471, '所知'), (0.9904021620750427, '部分'), (0.9896376729011536, '限制')]\n"
     ]
    }
   ],
   "source": [
    "#获取紧邻词\n",
    "print(model1.get_nearest_neighbors('灵魂',k=5))\n",
    "\n"
   ]
  },
  {
   "cell_type": "code",
   "execution_count": 18,
   "metadata": {},
   "outputs": [
    {
     "name": "stdout",
     "output_type": "stream",
     "text": [
      "[(0.9944943785667419, '片刻'), (0.9942511916160583, '构成'), (0.9941695928573608, '物'), (0.9941060543060303, '永恒性'), (0.9940873980522156, '其内'), (0.9940527677536011, '所谓'), (0.9938624501228333, '胎儿'), (0.9937667846679688, '理论'), (0.9936984181404114, '就象'), (0.9936909079551697, '一瞬')]\n"
     ]
    }
   ],
   "source": [
    "#分析词间类比\n",
    "print(model1.get_analogies('时间','空间','宇宙'))"
   ]
  },
  {
   "cell_type": "code",
   "execution_count": 19,
   "metadata": {},
   "outputs": [],
   "source": [
    "#保存模型\n",
    "model1.save_model(\"sethskipgram.bin\")"
   ]
  },
  {
   "cell_type": "code",
   "execution_count": null,
   "metadata": {},
   "outputs": [],
   "source": [
    "#加载模型\n",
    "model = fasttext.load_model(\"sethskipgram.bin\")"
   ]
  }
 ],
 "metadata": {
  "kernelspec": {
   "display_name": "py12",
   "language": "python",
   "name": "python3"
  },
  "language_info": {
   "codemirror_mode": {
    "name": "ipython",
    "version": 3
   },
   "file_extension": ".py",
   "mimetype": "text/x-python",
   "name": "python",
   "nbconvert_exporter": "python",
   "pygments_lexer": "ipython3",
   "version": "3.7.12"
  }
 },
 "nbformat": 4,
 "nbformat_minor": 2
}
