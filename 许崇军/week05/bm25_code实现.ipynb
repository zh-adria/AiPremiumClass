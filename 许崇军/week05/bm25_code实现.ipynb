{
 "cells": [
  {
   "cell_type": "code",
   "execution_count": 2,
   "metadata": {},
   "outputs": [
    {
     "name": "stderr",
     "output_type": "stream",
     "text": [
      "Building prefix dict from the default dictionary ...\n",
      "Loading model from cache C:\\Users\\海洋\\AppData\\Local\\Temp\\jieba.cache\n",
      "Loading model cost 0.799 seconds.\n",
      "Prefix dict has been built successfully.\n"
     ]
    },
    {
     "name": "stdout",
     "output_type": "stream",
     "text": [
      "为您推荐《红楼梦》的相似书籍：\n",
      "《那些回不去的年少时光》 相似度：0.0719\n",
      "\n",
      "《1984》 相似度：0.0703\n",
      "\n",
      "《Harry Potter and the Deathly Hallows》 相似度：0.0702\n",
      "\n",
      "《哈利·波特与魔法石》 相似度：0.0660\n",
      "\n",
      "《活着》 相似度：0.0651\n",
      "\n",
      "《送你一颗子弹》 相似度：0.0644\n",
      "\n",
      "《茶花女》 相似度：0.0638\n",
      "\n",
      "《步步惊心》 相似度：0.0637\n",
      "\n",
      "《拆掉思维里的墙》 相似度：0.0630\n",
      "\n",
      "《1995-2005夏至未至》 相似度：0.0613\n",
      "\n"
     ]
    }
   ],
   "source": [
    "import csv\n",
    "import jieba \n",
    "from sklearn.metrics.pairwise import cosine_similarity\n",
    "import numpy as np\n",
    "import bm25_code as bm25\n",
    "\n",
    "stop_words = [line.strip() for line in open('stopwords.txt', 'r', encoding='utf-8')]\n",
    "book_comments = {}  \n",
    "\n",
    "def load_data(file_name):\n",
    "    with open(file_name, 'r', encoding='utf-8') as file:\n",
    "        reader = csv.DictReader(file, delimiter='\\t')\n",
    "        for row in reader:\n",
    "            book = row['book']\n",
    "            comment = row['body']\n",
    "            if not book:  \n",
    "                continue\n",
    "\n",
    "            words = [word for word in jieba.lcut(comment) if word not in stop_words]\n",
    "            if book not in book_comments:\n",
    "                book_comments[book] = []\n",
    "            book_comments[book].append(words)\n",
    "    return book_comments\n",
    "\n",
    "if __name__ == '__main__':\n",
    "   \n",
    "    book_comments = load_data(\"doubanfix_comments.txt\")\n",
    "    \n",
    "    book_names = []\n",
    "    book_data = []\n",
    "    for book, comments in book_comments.items():\n",
    "        book_names.append(book)\n",
    "        merged_doc = [word for comment in comments for word in comment]\n",
    "        book_data.append(merged_doc)\n",
    "    \n",
    "    # 计算BM25矩阵\n",
    "    bm25_matrix = bm25.bm25(book_data)\n",
    "    \n",
    "    # 计算余弦相似度矩阵\n",
    "    similarity_matrix = cosine_similarity(bm25_matrix)\n",
    "    book_name = input(\"请输入书名：\")\n",
    "    idx = book_names.index(book_name)\n",
    "    similar_indices = np.argsort(-similarity_matrix[idx])[1:11]\n",
    "    print(f\"为您推荐《{book_name}》的相似书籍：\")\n",
    "    for i in similar_indices:\n",
    "     print(f\"《{book_names[i]}》 相似度：{similarity_matrix[idx][i]:.4f}\")\n",
    "     print()\n",
    "    "
   ]
  }
 ],
 "metadata": {
  "kernelspec": {
   "display_name": "py12",
   "language": "python",
   "name": "python3"
  },
  "language_info": {
   "codemirror_mode": {
    "name": "ipython",
    "version": 3
   },
   "file_extension": ".py",
   "mimetype": "text/x-python",
   "name": "python",
   "nbconvert_exporter": "python",
   "pygments_lexer": "ipython3",
   "version": "3.7.12"
  }
 },
 "nbformat": 4,
 "nbformat_minor": 2
}
