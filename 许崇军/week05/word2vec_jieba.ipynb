{
 "cells": [
  {
   "cell_type": "code",
   "execution_count": 10,
   "metadata": {},
   "outputs": [
    {
     "name": "stderr",
     "output_type": "stream",
     "text": [
      "Building prefix dict from the default dictionary ...\n",
      "Dumping model to file cache C:\\Users\\海洋\\AppData\\Local\\Temp\\jieba.cache\n",
      "Loading model cost 1.114 seconds.\n",
      "Prefix dict has been built successfully.\n"
     ]
    }
   ],
   "source": [
    "import jieba \n",
    "\n",
    "with open('sethread.txt', 'r', encoding='utf-8') as f:\n",
    "    lines = f.readlines()\n",
    "\n",
    "# # print(lines[:30]) \n",
    "# fenhang = [line.strip() for line in lines]  # 去除每行的换行符\n",
    "# # print(fenhang[:30])  # 打印前30行\n",
    "\n",
    "# for item in fenhang[:30]:\n",
    "#     print(item) \n",
    "    #通过 for 循环遍历 fenhang 列表的前 30 个元素，\n",
    "    #并且逐行打印每个元素，这样就能实现分成 30 行展示的效果。\n",
    "\n",
    "with open('sethread_cut.txt', 'w', encoding='utf-8') as f:\n",
    "    for line in lines: \n",
    "        words = jieba.cut(line)  # 对每一行进行分词\n",
    "        f.write(' '.join(words))  # 将分词结果写入新文件\n",
    "\n",
    "\n",
    "\n",
    "\n",
    "\n",
    "\n",
    "\n",
    "#以下代码用于去除每行前的空格\n",
    "# 读取文件内容\n",
    "# with open('sethread.txt', 'r', encoding='utf-8') as file:\n",
    "#     lines = file.readlines()\n",
    "\n",
    "# # 去除每行前的空格\n",
    "# stripped_lines = [line.lstrip() for line in lines]\n",
    "\n",
    "# # 将处理后的内容写回文件\n",
    "# with open('sethread.txt', 'w', encoding='utf-8') as file:\n",
    "#     file.writelines(stripped_lines)"
   ]
  }
 ],
 "metadata": {
  "kernelspec": {
   "display_name": "py12",
   "language": "python",
   "name": "python3"
  },
  "language_info": {
   "codemirror_mode": {
    "name": "ipython",
    "version": 3
   },
   "file_extension": ".py",
   "mimetype": "text/x-python",
   "name": "python",
   "nbconvert_exporter": "python",
   "pygments_lexer": "ipython3",
   "version": "3.7.12"
  }
 },
 "nbformat": 4,
 "nbformat_minor": 2
}
