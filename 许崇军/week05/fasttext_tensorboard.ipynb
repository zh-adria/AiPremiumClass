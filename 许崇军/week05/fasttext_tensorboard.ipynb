{
 "cells": [
  {
   "cell_type": "code",
   "execution_count": 6,
   "metadata": {},
   "outputs": [],
   "source": [
    "import fasttext\n",
    "import torch\n",
    "import numpy as np\n",
    "from  torch.utils.tensorboard import SummaryWriter\n",
    "\n",
    "model1 = fasttext.train_unsupervised('sethread_cut.txt', model = 'skipgram')\n",
    "\n",
    "# 初始化 SummaryWriter\n",
    "writer = SummaryWriter('runs/fasttext')\n",
    "# 获取所有词向量和对应的词\n",
    "word_vectors = []\n",
    "words = []\n",
    "for word in model1.words:\n",
    "    vec = model1.get_word_vector(word)\n",
    "    word_vectors.append(vec)\n",
    "    words.append(word)\n",
    "\n",
    "word_vectors_np = np.array(word_vectors)\n",
    "# 将词向量转换为 Tensor\n",
    "word_vectors_tensor = torch.tensor(word_vectors_np) \n",
    "# 使用 add_embedding 方法将词向量写入 TensorBoard\n",
    "writer.add_embedding(word_vectors_tensor, metadata=words)\n",
    "\n",
    "neighbors = model1.get_nearest_neighbors('灵魂', k=5)\n",
    "# print(neighbors)\n",
    "# 记录紧邻词的数量\n",
    "writer.add_scalar('Nearest Neighbors Count', len(neighbors), 0)\n",
    "\n",
    "analogies = model1.get_analogies('时间','空间','宇宙')\n",
    "# print(analogies)\n",
    "# 记录类比结果的数量\n",
    "writer.add_scalar('Analogies Count', len(analogies), 0)\n",
    "\n",
    "# 保存模型\n",
    "model1.save_model(\"sethembe.bin\")\n",
    "\n",
    "# 关闭 writer\n",
    "writer.close()"
   ]
  },
  {
   "cell_type": "markdown",
   "metadata": {},
   "source": [
    "tensorboard --logdir=runs/fasttext_embedding"
   ]
  }
 ],
 "metadata": {
  "kernelspec": {
   "display_name": "py12",
   "language": "python",
   "name": "python3"
  },
  "language_info": {
   "codemirror_mode": {
    "name": "ipython",
    "version": 3
   },
   "file_extension": ".py",
   "mimetype": "text/x-python",
   "name": "python",
   "nbconvert_exporter": "python",
   "pygments_lexer": "ipython3",
   "version": "3.7.12"
  }
 },
 "nbformat": 4,
 "nbformat_minor": 2
}
