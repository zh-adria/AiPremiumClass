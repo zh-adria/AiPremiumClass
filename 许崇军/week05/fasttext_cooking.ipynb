{
 "cells": [
  {
   "cell_type": "code",
   "execution_count": 2,
   "metadata": {},
   "outputs": [],
   "source": [
    "import fasttext\n",
    "\n",
    "model2 = fasttext.train_supervised('cooking.stackexchange.txt',epoch=10,lr=0.2)\n",
    "\n",
    "# print(len(model2.words)) # list of words in dictionary\n",
    "# print(model2['sushi']) # get the vector of a word\n",
    "\n"
   ]
  },
  {
   "cell_type": "code",
   "execution_count": 3,
   "metadata": {},
   "outputs": [
    {
     "name": "stdout",
     "output_type": "stream",
     "text": [
      "(('__label__chicken', '__label__soup'), array([0.42975175, 0.26522389]))\n"
     ]
    }
   ],
   "source": [
    "print(model2.predict('Can I RE-freeze chicken soup after it has thawed?',k=2)) # predict the label of a text"
   ]
  },
  {
   "cell_type": "code",
   "execution_count": 4,
   "metadata": {},
   "outputs": [],
   "source": [
    "model2.save_model(\"model_cooking.bin\") # save the model\n"
   ]
  }
 ],
 "metadata": {
  "kernelspec": {
   "display_name": "py12",
   "language": "python",
   "name": "python3"
  },
  "language_info": {
   "codemirror_mode": {
    "name": "ipython",
    "version": 3
   },
   "file_extension": ".py",
   "mimetype": "text/x-python",
   "name": "python",
   "nbconvert_exporter": "python",
   "pygments_lexer": "ipython3",
   "version": "3.7.12"
  }
 },
 "nbformat": 4,
 "nbformat_minor": 2
}
