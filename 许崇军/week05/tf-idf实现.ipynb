{
 "cells": [
  {
   "cell_type": "code",
   "execution_count": 6,
   "metadata": {},
   "outputs": [
    {
     "name": "stdout",
     "output_type": "stream",
     "text": [
      "《 鬼吹灯之精绝古城 》 \t 相似度：0.6428\n",
      "《 鬼吹灯之云南虫谷 》 \t 相似度：0.5621\n",
      "《 盗墓笔记3 》 \t 相似度：0.5109\n",
      "《 盗墓笔记4 》 \t 相似度：0.4439\n",
      "《 盗墓笔记2 》 \t 相似度：0.3613\n",
      "《 达·芬奇密码 》 \t 相似度：0.1587\n",
      "《 哈利·波特与魔法石 》 \t 相似度：0.1349\n",
      "《 何以笙箫默 》 \t 相似度：0.1311\n",
      "《 大地之灯 》 \t 相似度：0.1283\n",
      "《 时间旅行者的妻子 》 \t 相似度：0.1281\n",
      "\n"
     ]
    }
   ],
   "source": [
    "import csv\n",
    "import jieba \n",
    "from sklearn.feature_extraction.text import TfidfVectorizer\n",
    "from sklearn.metrics.pairwise import cosine_similarity\n",
    "import matplotlib.pyplot as plt\n",
    "import numpy as np\n",
    "book_comments = {}  # 用于存储书名及其对应的评论内容\n",
    "def load_data(file_name):\n",
    "    with open(file_name, 'r', encoding='utf-8') as file:\n",
    "        # 创建一个 DictReader 对象，用于按字典形式读取 CSV 文件，指定分隔符为制表符\n",
    "        reader = csv.DictReader(file, delimiter='\\t')\n",
    "        # 遍历 CSV 文件中的每一行\n",
    "        for row in reader:\n",
    "            # print(row['book'], row['body'])\n",
    "            # break\n",
    "            book = row['book']  # 从当前行中提取书名\n",
    "            comment = row['body']  # 从当前行中提取评论内容\n",
    "            comment_words = jieba.lcut(comment)   # 使用 jieba 库对评论内容进行分词处理\n",
    "            # print(book, comment_words)\n",
    "            # break\n",
    "            if book == '':\n",
    "                continue\n",
    "            book_comments[book] =book_comments.get(book, [])\n",
    "            book_comments[book].append(comment_words)\n",
    "    return book_comments\n",
    "\n",
    "if __name__ == '__main__':\n",
    "\n",
    "    stop_words = [line.strip() for line in open('stopwords.txt', 'r', encoding='utf-8')]  # 读取停用词表\n",
    "    missing_tokens = ['ain', 'aren', 'couldn', 'daren', 'didn', 'doesn', 'don', 'hadn', 'hasn', 'haven', 'isn', 'll', 'mayn', 'mightn', 'mon', 'mustn', 'needn', 'oughtn', 'shan', 'shouldn', 've', 'wasn', 'weren', 'won', 'wouldn']\n",
    "    stop_words.extend(missing_tokens)\n",
    "\n",
    "    book_comments = load_data(\"doubanfix_comments.txt\") # 加载豆瓣评论数据\n",
    "    # print(len(book_comments))\n",
    "\n",
    "\n",
    "    book_names = []\n",
    "    book_data = []\n",
    "    for book_name, comments in book_comments.items():\n",
    "       book_names.append(book_name)\n",
    "       book_data.append(comments)\n",
    "\n",
    "    corpus = [' '.join([' '.join(words) for words in bookdata]) for bookdata in book_data]\n",
    "    vectorizer = TfidfVectorizer(stop_words=stop_words)\n",
    "    tfidf_matrix = vectorizer.fit_transform(corpus)\n",
    "    # print(tfidf_matrix.shape)\n",
    "\n",
    "    similarity_matrix = cosine_similarity(tfidf_matrix)\n",
    "\n",
    "    book_list = list(book_comments.keys())\n",
    "    # print(book_list)\n",
    "    book_name = input(\"请输入书名：\")\n",
    "    try:\n",
    "      book_index = book_names.index(book_name)\n",
    "      recommend_book_index = np.argsort(-similarity_matrix[book_index])[1:11]\n",
    "      for idx in recommend_book_index:\n",
    "        print(f\"《 {book_names[idx]} 》 \\t 相似度：{similarity_matrix[book_index][idx]:.4f}\")\n",
    "    except ValueError:\n",
    "      print(\"输入的书名不在数据集！\")\n",
    "    print()\n",
    "\n",
    "          "
   ]
  }
 ],
 "metadata": {
  "kernelspec": {
   "display_name": "py12",
   "language": "python",
   "name": "python3"
  },
  "language_info": {
   "codemirror_mode": {
    "name": "ipython",
    "version": 3
   },
   "file_extension": ".py",
   "mimetype": "text/x-python",
   "name": "python",
   "nbconvert_exporter": "python",
   "pygments_lexer": "ipython3",
   "version": "3.7.12"
  }
 },
 "nbformat": 4,
 "nbformat_minor": 2
}
