{
 "cells": [
  {
   "cell_type": "markdown",
   "metadata": {},
   "source": [
    "##使用pytorch搭建神经网络模型，实现对KMNIST数据集的训练"
   ]
  },
  {
   "cell_type": "code",
   "execution_count": 50,
   "metadata": {},
   "outputs": [],
   "source": [
    "#1导包\n",
    "import torch\n",
    "import torch.nn as nn   \n",
    "import torch.optim as optim\n",
    "from  torch.utils.data import DataLoader\n",
    "import torch.utils.data.dataset as dataset\n",
    "from torchvision.transforms  import ToTensor    \n",
    "from torchvision.datasets import KMNIST  "
   ]
  },
  {
   "cell_type": "code",
   "execution_count": 51,
   "metadata": {},
   "outputs": [],
   "source": [
    "#2定义超参数\n",
    "batch_size = 128 \n",
    "epochs = 20\n",
    "learnrate = 0.01"
   ]
  },
  {
   "cell_type": "code",
   "execution_count": 52,
   "metadata": {},
   "outputs": [],
   "source": [
    "#3加载数据集\n",
    "train_data =KMNIST(root='./KMNIST_data',train=True,transform=ToTensor(),download=True)\n",
    "test_data = KMNIST(root='./KMNIST_data',train=False,transform=ToTensor(),download=True)\n"
   ]
  },
  {
   "cell_type": "code",
   "execution_count": 53,
   "metadata": {},
   "outputs": [],
   "source": [
    "#4创建数据加载器\n",
    "train_loader = DataLoader(dataset=train_data,batch_size=batch_size,shuffle=True)\n",
    "test_loader = DataLoader(dataset=test_data,batch_size=batch_size,shuffle=False)"
   ]
  },
  {
   "cell_type": "code",
   "execution_count": 54,
   "metadata": {},
   "outputs": [
    {
     "name": "stdout",
     "output_type": "stream",
     "text": [
      "Test data batch shape: torch.Size([128, 1, 28, 28])\n"
     ]
    }
   ],
   "source": [
    "test_features, test_labels = next(iter(test_loader))\n",
    "print(f\"Test data batch shape: {test_features.size()}\")"
   ]
  },
  {
   "cell_type": "code",
   "execution_count": 55,
   "metadata": {},
   "outputs": [
    {
     "data": {
      "text/plain": [
       "torch.Size([1, 28, 28])"
      ]
     },
     "execution_count": 55,
     "metadata": {},
     "output_type": "execute_result"
    }
   ],
   "source": [
    "\n",
    "# len(train_data)\n",
    "train_data[0][0].shape\n"
   ]
  },
  {
   "cell_type": "code",
   "execution_count": null,
   "metadata": {},
   "outputs": [],
   "source": [
    "#5定义神经网络模型（使用Sequential容器）\n",
    "model =nn.Sequential(\n",
    "    nn.Linear(784,64),\n",
    "    nn.Sigmoid(),\n",
    "    nn.Linear(64,10),\n",
    ")"
   ]
  },
  {
   "cell_type": "code",
   "execution_count": 57,
   "metadata": {},
   "outputs": [],
   "source": [
    "#6 定义损失函数和优化器\n",
    "loss_func =nn.CrossEntropyLoss()\n",
    "optimizer = torch.optim.SGD(model.parameters(),lr=learnrate)"
   ]
  },
  {
   "cell_type": "code",
   "execution_count": 58,
   "metadata": {},
   "outputs": [
    {
     "name": "stdout",
     "output_type": "stream",
     "text": [
      "Epoch:0,loss:2.1669774055480957\n",
      "Epoch:1,loss:2.0152344703674316\n",
      "Epoch:2,loss:1.7720609903335571\n",
      "Epoch:3,loss:1.5468941926956177\n",
      "Epoch:4,loss:1.380605697631836\n",
      "Epoch:5,loss:1.378395915031433\n",
      "Epoch:6,loss:1.2716678380966187\n",
      "Epoch:7,loss:1.0517913103103638\n",
      "Epoch:8,loss:1.1734813451766968\n",
      "Epoch:9,loss:1.1181671619415283\n",
      "Epoch:10,loss:0.900251567363739\n",
      "Epoch:11,loss:0.8827733993530273\n",
      "Epoch:12,loss:0.8249275088310242\n",
      "Epoch:13,loss:0.9368926882743835\n",
      "Epoch:14,loss:0.949029266834259\n",
      "Epoch:15,loss:0.7980510592460632\n",
      "Epoch:16,loss:0.6761622428894043\n",
      "Epoch:17,loss:0.5748767256736755\n",
      "Epoch:18,loss:0.6992523670196533\n",
      "Epoch:19,loss:0.7172150611877441\n"
     ]
    }
   ],
   "source": [
    "#7 模型训练\n",
    "for epoch in range(epochs):\n",
    "    for data,target in train_loader:\n",
    "        result = model(data.reshape(-1,784))\n",
    "        loss = loss_func(result,target)\n",
    "        optimizer.zero_grad()\n",
    "        loss.backward()\n",
    "        optimizer.step()\n",
    "    print(f'Epoch:{epoch},loss:{loss.item()}')\n",
    "\n"
   ]
  },
  {
   "cell_type": "code",
   "execution_count": 60,
   "metadata": {},
   "outputs": [
    {
     "name": "stdout",
     "output_type": "stream",
     "text": [
      "Accuracy:65.45%\n"
     ]
    }
   ],
   "source": [
    "#8 模型测试\n",
    "correct = 0\n",
    "total = 0\n",
    "with torch.no_grad():\n",
    "    for data,targets in test_loader:\n",
    "        # print(f\"Current batch size: {data.shape}\")\n",
    "        result1 =model(data.reshape(-1,784))\n",
    "        _,predicted = torch.max(result1,1)\n",
    "        total += targets.size(0)\n",
    "        correct += (predicted ==targets).sum().item()\n",
    "print(f'Accuracy:{correct/total*100}%')"
   ]
  },
  {
   "cell_type": "code",
   "execution_count": null,
   "metadata": {},
   "outputs": [
    {
     "data": {
      "text/plain": [
       "torch.Size([16, 10])"
      ]
     },
     "execution_count": 46,
     "metadata": {},
     "output_type": "execute_result"
    }
   ],
   "source": [
    "result1.shape  #16是最后一批次的剩余样本数"
   ]
  },
  {
   "cell_type": "code",
   "execution_count": 48,
   "metadata": {},
   "outputs": [
    {
     "data": {
      "text/plain": [
       "tensor([[ 4.6528, -2.3682, -2.1813,  0.7023,  0.4745,  0.8651, -4.2975, -0.2538,\n",
       "          2.4621, -0.5390],\n",
       "        [-5.6234,  6.4570,  0.1687, -1.0738,  0.4656, -3.2263,  0.1728, -0.8167,\n",
       "          1.1763,  1.2387],\n",
       "        [-6.0471, -0.1400,  2.3718, -0.0474, -4.9464,  6.5261,  1.6804, -0.8671,\n",
       "          4.3775, -3.2276],\n",
       "        [-1.7265, -1.2055, -0.1509,  0.2121,  0.2032, -0.9325,  0.7028,  5.3176,\n",
       "         -4.1244,  1.2658],\n",
       "        [-3.5361,  0.5254,  1.3089,  1.6693, -2.7048, -0.9794,  0.4686, -1.0463,\n",
       "          2.5131,  1.3275],\n",
       "        [ 1.1570, -0.9954,  0.0760, -4.2093,  2.0410, -1.4278, -0.6509,  1.0867,\n",
       "         -4.3531,  6.7692],\n",
       "        [-1.1582,  1.6715,  1.7870,  2.6106, -0.3833, -0.3060, -2.5890, -4.7098,\n",
       "          2.4970,  0.3358],\n",
       "        [ 2.4533,  0.5772,  1.1478, -2.9062,  4.7521, -2.2271, -3.0927,  0.3151,\n",
       "         -2.0810,  0.9044],\n",
       "        [ 1.3085, -3.7478,  0.6863, -2.5809,  1.5914,  0.1664,  0.8491,  5.5622,\n",
       "         -3.8028,  0.2177],\n",
       "        [-5.7095,  1.4635,  3.1685, -0.6931, -0.3038, -0.4508,  4.1269, -0.1385,\n",
       "         -0.9739, -0.7831],\n",
       "        [ 7.6216, -3.9966, -0.7225, -1.4120, -0.1568,  3.0636, -4.4914,  0.6403,\n",
       "         -1.5542,  0.7102],\n",
       "        [ 2.1587, -0.2487,  1.5312, -4.3643,  4.3317, -3.7127, -0.8265, -0.8932,\n",
       "         -3.6392,  5.4703],\n",
       "        [ 4.1691, -4.5756, -0.0695, -1.5396, -2.8834,  2.5622, -1.4510,  1.9885,\n",
       "          1.5470, -0.3454],\n",
       "        [-1.6857,  1.0758,  3.7724, -4.2628,  1.0223, -3.1830, -2.2259, -0.3905,\n",
       "          0.6304,  4.7264],\n",
       "        [ 2.1783, -1.7683,  0.0828, -0.3734, -0.3684, -1.3496, -1.6085, -0.3764,\n",
       "          1.9904,  0.9044],\n",
       "        [-5.6194,  2.2659,  2.9989, -0.4255, -1.2758, -2.9643,  3.9203, -0.4306,\n",
       "          1.2397,  0.0499]])"
      ]
     },
     "execution_count": 48,
     "metadata": {},
     "output_type": "execute_result"
    }
   ],
   "source": [
    "result1"
   ]
  }
 ],
 "metadata": {
  "kernelspec": {
   "display_name": "py12",
   "language": "python",
   "name": "python3"
  },
  "language_info": {
   "codemirror_mode": {
    "name": "ipython",
    "version": 3
   },
   "file_extension": ".py",
   "mimetype": "text/x-python",
   "name": "python",
   "nbconvert_exporter": "python",
   "pygments_lexer": "ipython3",
   "version": "3.7.12"
  }
 },
 "nbformat": 4,
 "nbformat_minor": 2
}
