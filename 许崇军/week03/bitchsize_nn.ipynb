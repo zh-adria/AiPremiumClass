{
 "cells": [
  {
   "cell_type": "markdown",
   "metadata": {},
   "source": [
    "##调整批次大小观察结果变化\\\n",
    "1、batch_size 128---64\\\n",
    "2、batch_size 64---32"
   ]
  },
  {
   "cell_type": "code",
   "execution_count": 5,
   "metadata": {},
   "outputs": [],
   "source": [
    "#1导包\n",
    "import torch\n",
    "import torch.nn as nn   \n",
    "import torch.optim as optim\n",
    "from  torch.utils.data import DataLoader\n",
    "import torch.utils.data.dataset as dataset\n",
    "from torchvision.transforms  import ToTensor    \n",
    "from torchvision.datasets import KMNIST  \n",
    "\n",
    "#2定义超参数\n",
    "# batch_size = 64 \n",
    "batch_size = 32\n",
    "epochs = 20\n",
    "learnrate = 0.01\n",
    "\n",
    "\n",
    "\n"
   ]
  },
  {
   "cell_type": "code",
   "execution_count": 6,
   "metadata": {},
   "outputs": [],
   "source": [
    "#3加载数据集\n",
    "train_data =KMNIST(root='./KMNIST_data',train=True,transform=ToTensor(),download=True)\n",
    "test_data = KMNIST(root='./KMNIST_data',train=False,transform=ToTensor(),download=True)\n",
    "#4创建数据加载器\n",
    "train_loader = DataLoader(dataset=train_data,batch_size=batch_size,shuffle=True)\n",
    "test_loader = DataLoader(dataset=test_data,batch_size=batch_size,shuffle=False)\n",
    "\n",
    "#5定义神经网络模型（使用Sequential容器）\n",
    "model =nn.Sequential(\n",
    "    nn.Linear(784,64),\n",
    "    nn.Sigmoid(),\n",
    "    nn.Linear(64,10),\n",
    ")"
   ]
  },
  {
   "cell_type": "code",
   "execution_count": 7,
   "metadata": {},
   "outputs": [],
   "source": [
    "#6 定义损失函数和优化器\n",
    "loss_func =nn.CrossEntropyLoss()\n",
    "optimizer = torch.optim.SGD(model.parameters(),lr=learnrate)"
   ]
  },
  {
   "cell_type": "code",
   "execution_count": 8,
   "metadata": {},
   "outputs": [
    {
     "name": "stdout",
     "output_type": "stream",
     "text": [
      "Epoch:0,loss:1.609285831451416\n",
      "Epoch:1,loss:1.1430010795593262\n",
      "Epoch:2,loss:0.9053763747215271\n",
      "Epoch:3,loss:0.7244468331336975\n",
      "Epoch:4,loss:0.38373473286628723\n",
      "Epoch:5,loss:0.7406179904937744\n",
      "Epoch:6,loss:0.6285943984985352\n",
      "Epoch:7,loss:0.5388463139533997\n",
      "Epoch:8,loss:0.6594865918159485\n",
      "Epoch:9,loss:0.8211221098899841\n",
      "Epoch:10,loss:0.580555260181427\n",
      "Epoch:11,loss:0.5640860199928284\n",
      "Epoch:12,loss:0.4668838083744049\n",
      "Epoch:13,loss:0.9102016091346741\n",
      "Epoch:14,loss:0.7866203784942627\n",
      "Epoch:15,loss:0.5331160426139832\n",
      "Epoch:16,loss:0.3960668444633484\n",
      "Epoch:17,loss:0.4116615653038025\n",
      "Epoch:18,loss:0.33944520354270935\n",
      "Epoch:19,loss:0.4860265254974365\n"
     ]
    }
   ],
   "source": [
    "\n",
    "#7 模型训练\n",
    "for epoch in range(epochs):\n",
    "    for data,target in train_loader:\n",
    "        result = model(data.reshape(-1,784))\n",
    "        loss = loss_func(result,target)\n",
    "        optimizer.zero_grad()\n",
    "        loss.backward()\n",
    "        optimizer.step()\n",
    "    print(f'Epoch:{epoch},loss:{loss.item()}')\n",
    "\n",
    "\n"
   ]
  },
  {
   "cell_type": "markdown",
   "metadata": {},
   "source": [
    "1、batch_size 128---64的loss变动\n",
    "Epoch:0,loss:1.992103099822998\n",
    "Epoch:1,loss:1.5139610767364502\n",
    "Epoch:2,loss:1.2450809478759766\n",
    "Epoch:3,loss:1.135452389717102\n",
    "Epoch:4,loss:1.092710256576538\n",
    "Epoch:5,loss:0.8512391448020935\n",
    "Epoch:6,loss:0.7598041296005249\n",
    "Epoch:7,loss:0.710599422454834\n",
    "Epoch:8,loss:0.5793853402137756\n",
    "Epoch:9,loss:0.6205281615257263\n",
    "Epoch:10,loss:0.6476470232009888\n",
    "Epoch:11,loss:0.5446856021881104\n",
    "Epoch:12,loss:0.6074076890945435\n",
    "Epoch:13,loss:0.8845962285995483\n",
    "Epoch:14,loss:1.1041549444198608\n",
    "Epoch:15,loss:0.5784018635749817\n",
    "Epoch:16,loss:0.8016402125358582\n",
    "Epoch:17,loss:0.5493490099906921\n",
    "Epoch:18,loss:0.7423938512802124\n",
    "Epoch:19,loss:0.37297627329826355"
   ]
  },
  {
   "cell_type": "code",
   "execution_count": 9,
   "metadata": {},
   "outputs": [
    {
     "name": "stdout",
     "output_type": "stream",
     "text": [
      "Accuracy:74.72999999999999%\n"
     ]
    }
   ],
   "source": [
    "#8 模型测试\n",
    "correct = 0\n",
    "total = 0\n",
    "with torch.no_grad():\n",
    "    for data,targets in test_loader:\n",
    "        # print(f\"Current batch size: {data.shape}\")\n",
    "        result1 =model(data.reshape(-1,784))\n",
    "        _,predicted = torch.max(result1,1)\n",
    "        total += targets.size(0)\n",
    "        correct += (predicted ==targets).sum().item()\n",
    "print(f'Accuracy:{correct/total*100}%')\n"
   ]
  },
  {
   "cell_type": "markdown",
   "metadata": {},
   "source": [
    "1、batch_size 128---64的准确率Accuracy:69.99%"
   ]
  }
 ],
 "metadata": {
  "kernelspec": {
   "display_name": "py12",
   "language": "python",
   "name": "python3"
  },
  "language_info": {
   "codemirror_mode": {
    "name": "ipython",
    "version": 3
   },
   "file_extension": ".py",
   "mimetype": "text/x-python",
   "name": "python",
   "nbconvert_exporter": "python",
   "pygments_lexer": "ipython3",
   "version": "3.7.12"
  }
 },
 "nbformat": 4,
 "nbformat_minor": 2
}
