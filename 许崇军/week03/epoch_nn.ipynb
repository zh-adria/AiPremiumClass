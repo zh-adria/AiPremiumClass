{
 "cells": [
  {
   "cell_type": "markdown",
   "metadata": {},
   "source": [
    "##调整训练轮次观察结果变化\\\n",
    "epochs 20--->40"
   ]
  },
  {
   "cell_type": "code",
   "execution_count": 1,
   "metadata": {},
   "outputs": [],
   "source": [
    "#1导包\n",
    "import torch\n",
    "import torch.nn as nn   \n",
    "import torch.optim as optim\n",
    "from  torch.utils.data import DataLoader\n",
    "import torch.utils.data.dataset as dataset\n",
    "from torchvision.transforms  import ToTensor    \n",
    "from torchvision.datasets import KMNIST  \n",
    "\n",
    "#2定义超参数\n",
    "batch_size = 128 \n",
    "epochs = 40\n",
    "learnrate = 0.01\n",
    "\n",
    "#3加载数据集\n",
    "train_data =KMNIST(root='./KMNIST_data',train=True,transform=ToTensor(),download=True)\n",
    "test_data = KMNIST(root='./KMNIST_data',train=False,transform=ToTensor(),download=True)\n",
    "#4创建数据加载器\n",
    "train_loader = DataLoader(dataset=train_data,batch_size=batch_size,shuffle=True)\n",
    "test_loader = DataLoader(dataset=test_data,batch_size=batch_size,shuffle=False)\n",
    "\n",
    "#5定义神经网络模型（使用Sequential容器）\n",
    "model =nn.Sequential(\n",
    "    nn.Linear(784,64),\n",
    "    nn.Sigmoid(),\n",
    "    nn.Linear(64,10),\n",
    ")\n"
   ]
  },
  {
   "cell_type": "code",
   "execution_count": 2,
   "metadata": {},
   "outputs": [],
   "source": [
    "#6 定义损失函数和优化器\n",
    "loss_func =nn.CrossEntropyLoss()\n",
    "optimizer = torch.optim.SGD(model.parameters(),lr=learnrate)"
   ]
  },
  {
   "cell_type": "code",
   "execution_count": 3,
   "metadata": {},
   "outputs": [
    {
     "name": "stdout",
     "output_type": "stream",
     "text": [
      "Epoch:0,loss:2.172323226928711\n",
      "Epoch:1,loss:1.9818633794784546\n",
      "Epoch:2,loss:1.792492389678955\n",
      "Epoch:3,loss:1.6261968612670898\n",
      "Epoch:4,loss:1.3648148775100708\n",
      "Epoch:5,loss:1.285306453704834\n",
      "Epoch:6,loss:1.0733004808425903\n",
      "Epoch:7,loss:1.1573716402053833\n",
      "Epoch:8,loss:0.8943433165550232\n",
      "Epoch:9,loss:1.0558825731277466\n",
      "Epoch:10,loss:0.9196803569793701\n",
      "Epoch:11,loss:0.8208778500556946\n",
      "Epoch:12,loss:0.7177318930625916\n",
      "Epoch:13,loss:0.9158795475959778\n",
      "Epoch:14,loss:0.8922760486602783\n",
      "Epoch:15,loss:0.7591617107391357\n",
      "Epoch:16,loss:0.7133836150169373\n",
      "Epoch:17,loss:0.7762248516082764\n",
      "Epoch:18,loss:0.5879068970680237\n",
      "Epoch:19,loss:0.7112035751342773\n",
      "Epoch:20,loss:0.501070499420166\n",
      "Epoch:21,loss:0.669521152973175\n",
      "Epoch:22,loss:0.5837852358818054\n",
      "Epoch:23,loss:0.7078970074653625\n",
      "Epoch:24,loss:0.7641026377677917\n",
      "Epoch:25,loss:0.4801503121852875\n",
      "Epoch:26,loss:0.6749046444892883\n",
      "Epoch:27,loss:0.606943666934967\n",
      "Epoch:28,loss:0.5946778059005737\n",
      "Epoch:29,loss:0.6755712032318115\n",
      "Epoch:30,loss:0.582440197467804\n",
      "Epoch:31,loss:0.597324550151825\n",
      "Epoch:32,loss:0.4412841498851776\n",
      "Epoch:33,loss:0.7466976046562195\n",
      "Epoch:34,loss:0.5405492186546326\n",
      "Epoch:35,loss:0.5570362210273743\n",
      "Epoch:36,loss:0.43997952342033386\n",
      "Epoch:37,loss:0.6355248093605042\n",
      "Epoch:38,loss:0.5891425013542175\n",
      "Epoch:39,loss:0.3968478739261627\n"
     ]
    }
   ],
   "source": [
    "\n",
    "#7 模型训练\n",
    "for epoch in range(epochs):\n",
    "    for data,target in train_loader:\n",
    "        result = model(data.reshape(-1,784))\n",
    "        loss = loss_func(result,target)\n",
    "        optimizer.zero_grad()\n",
    "        loss.backward()\n",
    "        optimizer.step()\n",
    "    print(f'Epoch:{epoch},loss:{loss.item()}')"
   ]
  },
  {
   "cell_type": "code",
   "execution_count": 4,
   "metadata": {},
   "outputs": [
    {
     "name": "stdout",
     "output_type": "stream",
     "text": [
      "Accuracy:70.19%\n"
     ]
    }
   ],
   "source": [
    "#8 模型测试\n",
    "correct = 0\n",
    "total = 0\n",
    "with torch.no_grad():\n",
    "    for data,targets in test_loader:\n",
    "        # print(f\"Current batch size: {data.shape}\")\n",
    "        result1 =model(data.reshape(-1,784))\n",
    "        _,predicted = torch.max(result1,1)\n",
    "        total += targets.size(0)\n",
    "        correct += (predicted ==targets).sum().item()\n",
    "print(f'Accuracy:{correct/total*100}%')\n"
   ]
  }
 ],
 "metadata": {
  "kernelspec": {
   "display_name": "py12",
   "language": "python",
   "name": "python3"
  },
  "language_info": {
   "codemirror_mode": {
    "name": "ipython",
    "version": 3
   },
   "file_extension": ".py",
   "mimetype": "text/x-python",
   "name": "python",
   "nbconvert_exporter": "python",
   "pygments_lexer": "ipython3",
   "version": "3.7.12"
  }
 },
 "nbformat": 4,
 "nbformat_minor": 2
}
