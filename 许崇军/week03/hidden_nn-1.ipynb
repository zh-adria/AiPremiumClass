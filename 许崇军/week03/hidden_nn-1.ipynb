{
 "cells": [
  {
   "cell_type": "markdown",
   "metadata": {},
   "source": [
    "##增加隐藏层，观察结果变化\\\n",
    "linear(784,128)--(128,64)--(64,32)--(32,10)\n",
    "loss几乎没有下降，准确率10%"
   ]
  },
  {
   "cell_type": "code",
   "execution_count": 1,
   "metadata": {},
   "outputs": [],
   "source": [
    "#1导包\n",
    "import torch\n",
    "import torch.nn as nn   \n",
    "import torch.optim as optim\n",
    "from  torch.utils.data import DataLoader\n",
    "import torch.utils.data.dataset as dataset\n",
    "from torchvision.transforms  import ToTensor    \n",
    "from torchvision.datasets import KMNIST  \n",
    "\n",
    "#2定义超参数\n",
    "batch_size = 128 \n",
    "epochs = 20\n",
    "learnrate = 0.01\n",
    "\n",
    "#3加载数据集\n",
    "train_data =KMNIST(root='./KMNIST_data',train=True,transform=ToTensor(),download=True)\n",
    "test_data = KMNIST(root='./KMNIST_data',train=False,transform=ToTensor(),download=True)\n",
    "#4创建数据加载器\n",
    "train_loader = DataLoader(dataset=train_data,batch_size=batch_size,shuffle=True)\n",
    "test_loader = DataLoader(dataset=test_data,batch_size=batch_size,shuffle=False)"
   ]
  },
  {
   "cell_type": "code",
   "execution_count": 2,
   "metadata": {},
   "outputs": [],
   "source": [
    "\n",
    "\n",
    "#5定义神经网络模型（使用Sequential容器）\n",
    "model =nn.Sequential(\n",
    "    nn.Linear(784,128),   # 输入层 → 第一隐藏层\n",
    "    nn.Sigmoid(),\n",
    "    nn.Linear(128,64),   # 第一隐藏层 → 第二隐藏层\n",
    "    nn.Sigmoid(),\n",
    "    nn.Linear(64,32),  # 第二隐藏层 → 第三隐藏层\n",
    "    nn.Sigmoid(),\n",
    "    nn.Linear(32,10),  # 第三隐藏层 → 输出层\n",
    ")\n",
    "\n"
   ]
  },
  {
   "cell_type": "code",
   "execution_count": 3,
   "metadata": {},
   "outputs": [],
   "source": [
    "#6 定义损失函数和优化器\n",
    "loss_func =nn.CrossEntropyLoss()\n",
    "optimizer = torch.optim.SGD(model.parameters(),lr=learnrate)\n"
   ]
  },
  {
   "cell_type": "code",
   "execution_count": 4,
   "metadata": {},
   "outputs": [
    {
     "name": "stdout",
     "output_type": "stream",
     "text": [
      "Epoch:0,loss:2.3033244609832764\n",
      "Epoch:1,loss:2.3044090270996094\n",
      "Epoch:2,loss:2.303165912628174\n",
      "Epoch:3,loss:2.3016204833984375\n",
      "Epoch:4,loss:2.3019981384277344\n",
      "Epoch:5,loss:2.3052308559417725\n",
      "Epoch:6,loss:2.302856206893921\n",
      "Epoch:7,loss:2.301328420639038\n",
      "Epoch:8,loss:2.302342653274536\n",
      "Epoch:9,loss:2.3026130199432373\n",
      "Epoch:10,loss:2.299661636352539\n",
      "Epoch:11,loss:2.3026976585388184\n",
      "Epoch:12,loss:2.2994892597198486\n",
      "Epoch:13,loss:2.301823616027832\n",
      "Epoch:14,loss:2.3021364212036133\n",
      "Epoch:15,loss:2.3028573989868164\n",
      "Epoch:16,loss:2.3027608394622803\n",
      "Epoch:17,loss:2.301323890686035\n",
      "Epoch:18,loss:2.300910234451294\n",
      "Epoch:19,loss:2.300736904144287\n"
     ]
    }
   ],
   "source": [
    "#7 模型训练\n",
    "for epoch in range(epochs):\n",
    "    for data,target in train_loader:\n",
    "        result = model(data.reshape(-1,784))\n",
    "        loss = loss_func(result,target)\n",
    "        optimizer.zero_grad()\n",
    "        loss.backward()\n",
    "        optimizer.step()\n",
    "    print(f'Epoch:{epoch},loss:{loss.item()}')\n",
    "\n",
    "\n"
   ]
  },
  {
   "cell_type": "code",
   "execution_count": 6,
   "metadata": {},
   "outputs": [
    {
     "name": "stdout",
     "output_type": "stream",
     "text": [
      "Accuracy:10.0%\n"
     ]
    }
   ],
   "source": [
    "#8 模型测试\n",
    "correct = 0\n",
    "total = 0\n",
    "with torch.no_grad():\n",
    "    for data,targets in test_loader:\n",
    "        # print(f\"Current batch size: {data.shape}\")\n",
    "        result1 =model(data.reshape(-1,784))\n",
    "        _,predicted = torch.max(result1,1)\n",
    "        total += targets.size(0)\n",
    "        correct += (predicted ==targets).sum().item()\n",
    "print(f'Accuracy:{correct/total*100}%')"
   ]
  }
 ],
 "metadata": {
  "kernelspec": {
   "display_name": "py12",
   "language": "python",
   "name": "python3"
  },
  "language_info": {
   "codemirror_mode": {
    "name": "ipython",
    "version": 3
   },
   "file_extension": ".py",
   "mimetype": "text/x-python",
   "name": "python",
   "nbconvert_exporter": "python",
   "pygments_lexer": "ipython3",
   "version": "3.7.12"
  }
 },
 "nbformat": 4,
 "nbformat_minor": 2
}
