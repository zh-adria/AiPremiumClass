{
 "cells": [
  {
   "cell_type": "markdown",
   "metadata": {},
   "source": [
    "##调整学习率观察结果变化\\\n",
    "学习率0.01---1e-3 --收敛缓慢，准确率46.69%\\\n",
    "学习率0.01---0.1---震荡无法稳定收敛，准确率81.2%"
   ]
  },
  {
   "cell_type": "code",
   "execution_count": 5,
   "metadata": {},
   "outputs": [],
   "source": [
    "#1导包\n",
    "import torch\n",
    "import torch.nn as nn   \n",
    "import torch.optim as optim\n",
    "from  torch.utils.data import DataLoader\n",
    "import torch.utils.data.dataset as dataset\n",
    "from torchvision.transforms  import ToTensor    \n",
    "from torchvision.datasets import KMNIST  \n",
    "\n",
    "#2定义超参数\n",
    "batch_size = 128 \n",
    "epochs = 20\n",
    "learnrate = 0.1\n",
    "\n",
    "#3加载数据集\n",
    "train_data =KMNIST(root='./KMNIST_data',train=True,transform=ToTensor(),download=True)\n",
    "test_data = KMNIST(root='./KMNIST_data',train=False,transform=ToTensor(),download=True)\n",
    "#4创建数据加载器\n",
    "train_loader = DataLoader(dataset=train_data,batch_size=batch_size,shuffle=True)\n",
    "test_loader = DataLoader(dataset=test_data,batch_size=batch_size,shuffle=False)\n",
    "\n",
    "#5定义神经网络模型（使用Sequential容器）\n",
    "model =nn.Sequential(\n",
    "    nn.Linear(784,64),\n",
    "    nn.Sigmoid(),\n",
    "    nn.Linear(64,10),\n",
    ")\n",
    "#6 定义损失函数和优化器\n",
    "loss_func =nn.CrossEntropyLoss()\n",
    "optimizer = torch.optim.SGD(model.parameters(),lr=learnrate)\n"
   ]
  },
  {
   "cell_type": "code",
   "execution_count": 6,
   "metadata": {},
   "outputs": [
    {
     "name": "stdout",
     "output_type": "stream",
     "text": [
      "Epoch:0,loss:1.1875602006912231\n",
      "Epoch:1,loss:0.72463458776474\n",
      "Epoch:2,loss:0.6070066094398499\n",
      "Epoch:3,loss:0.5892369747161865\n",
      "Epoch:4,loss:0.6067684292793274\n",
      "Epoch:5,loss:0.49915647506713867\n",
      "Epoch:6,loss:0.43759289383888245\n",
      "Epoch:7,loss:0.39993155002593994\n",
      "Epoch:8,loss:0.4212108552455902\n",
      "Epoch:9,loss:0.5147817730903625\n",
      "Epoch:10,loss:0.42475414276123047\n",
      "Epoch:11,loss:0.25200149416923523\n",
      "Epoch:12,loss:0.3058084547519684\n",
      "Epoch:13,loss:0.46704328060150146\n",
      "Epoch:14,loss:0.3033401072025299\n",
      "Epoch:15,loss:0.1859917789697647\n",
      "Epoch:16,loss:0.3677395284175873\n",
      "Epoch:17,loss:0.22865396738052368\n",
      "Epoch:18,loss:0.2534525692462921\n",
      "Epoch:19,loss:0.2472676783800125\n"
     ]
    }
   ],
   "source": [
    "#7 模型训练\n",
    "for epoch in range(epochs):\n",
    "    for data,target in train_loader:\n",
    "        result = model(data.reshape(-1,784))\n",
    "        loss = loss_func(result,target)\n",
    "        optimizer.zero_grad()\n",
    "        loss.backward()\n",
    "        optimizer.step()\n",
    "    print(f'Epoch:{epoch},loss:{loss.item()}')\n",
    "\n",
    "\n",
    "\n"
   ]
  },
  {
   "cell_type": "markdown",
   "metadata": {},
   "source": [
    "学习率0.01---1e-3的loss变动\\\n",
    "Epoch:0,loss:2.3271708488464355\n",
    "Epoch:1,loss:2.285848379135132\n",
    "Epoch:2,loss:2.2700958251953125\n",
    "Epoch:3,loss:2.2694718837738037\n",
    "Epoch:4,loss:2.2555246353149414\n",
    "Epoch:5,loss:2.2363717555999756\n",
    "Epoch:6,loss:2.216310739517212\n",
    "Epoch:7,loss:2.2024734020233154\n",
    "Epoch:8,loss:2.1950197219848633\n",
    "Epoch:9,loss:2.1789910793304443\n",
    "Epoch:10,loss:2.1561806201934814\n",
    "Epoch:11,loss:2.1540911197662354\n",
    "Epoch:12,loss:2.1081995964050293\n",
    "Epoch:13,loss:2.1089091300964355\n",
    "Epoch:14,loss:2.1155710220336914\n",
    "Epoch:15,loss:2.0823557376861572\n",
    "Epoch:16,loss:2.0432369709014893\n",
    "Epoch:17,loss:2.0198652744293213\n",
    "Epoch:18,loss:2.021076202392578\n",
    "Epoch:19,loss:1.9998987913131714"
   ]
  },
  {
   "cell_type": "code",
   "execution_count": 9,
   "metadata": {},
   "outputs": [
    {
     "name": "stdout",
     "output_type": "stream",
     "text": [
      "Accuracy:81.21000000000001%\n"
     ]
    }
   ],
   "source": [
    "#8 模型测试\n",
    "correct = 0\n",
    "total = 0\n",
    "with torch.no_grad():\n",
    "    for data,targets in test_loader:\n",
    "        # print(f\"Current batch size: {data.shape}\")\n",
    "        result1 =model(data.reshape(-1,784))\n",
    "        _,predicted = torch.max(result1,1)\n",
    "        total += targets.size(0)\n",
    "        correct += (predicted ==targets).sum().item()\n",
    "print(f'Accuracy:{correct/total*100}%')"
   ]
  },
  {
   "cell_type": "markdown",
   "metadata": {},
   "source": [
    "学习率0.01---1e-3的准确率Accuracy:46.69%"
   ]
  }
 ],
 "metadata": {
  "kernelspec": {
   "display_name": "py12",
   "language": "python",
   "name": "python3"
  },
  "language_info": {
   "codemirror_mode": {
    "name": "ipython",
    "version": 3
   },
   "file_extension": ".py",
   "mimetype": "text/x-python",
   "name": "python",
   "nbconvert_exporter": "python",
   "pygments_lexer": "ipython3",
   "version": "3.7.12"
  }
 },
 "nbformat": 4,
 "nbformat_minor": 2
}
