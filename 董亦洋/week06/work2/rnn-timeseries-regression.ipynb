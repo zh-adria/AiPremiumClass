{
 "cells": [
  {
   "cell_type": "code",
   "execution_count": 1,
   "id": "7645f716",
   "metadata": {},
   "outputs": [],
   "source": [
    "import numpy as np\n",
    "import torch\n",
    "# 数据集处理，(地点,日期,最高气温)\n",
    "import csv\n",
    "origin_data = []\n",
    "sta = '10001'\n",
    "with open('Summary of Weather.csv','r',encoding='utf-8') as f:\n",
    "    reader = csv.DictReader(f)\n",
    "    for item in reader:\n",
    "        if sta != item['STA']:\n",
    "            break\n",
    "        if (item['STA']!='' and item['Date']!='' and item['MaxTemp']!=''):\n",
    "            origin_data.append(float(item['MaxTemp']))\n",
    "\n",
    "days = len(origin_data)\n",
    "series = torch.tensor(np.array(origin_data).reshape(1,days,1).astype(np.float32))"
   ]
  },
  {
   "cell_type": "code",
   "execution_count": 8,
   "id": "3eb2c1cd",
   "metadata": {},
   "outputs": [
    {
     "data": {
      "text/plain": [
       "(torch.Size([1, 700, 1]), torch.Size([1, 1]))"
      ]
     },
     "execution_count": 8,
     "metadata": {},
     "output_type": "execute_result"
    }
   ],
   "source": [
    "#预测1个值，前700天训练，后300天验证\n",
    "X_train, y_train = series[:, :700], series[:, 701]\n",
    "X_test, y_test = series[:, 700:1000], series[:, 1001]\n",
    "X_train.shape,y_train.shape"
   ]
  },
  {
   "cell_type": "code",
   "execution_count": 3,
   "id": "4a4eb878",
   "metadata": {},
   "outputs": [],
   "source": [
    "\n",
    "class RNN(torch.nn.Module):\n",
    "  def __init__(self):\n",
    "    super().__init__()\n",
    "    self.rnn = torch.nn.LSTM(input_size=1, hidden_size=50, num_layers=1, batch_first=True)\n",
    "    self.fc = torch.nn.Linear(50, 1)\n",
    "\n",
    "  def forward(self, x):\n",
    "    x, h = self.rnn(x) \n",
    "    y = self.fc(x[:,-1])\n",
    "    return y\n",
    "\n",
    "rnn = RNN()"
   ]
  },
  {
   "cell_type": "code",
   "execution_count": 10,
   "id": "6215fd87",
   "metadata": {},
   "outputs": [
    {
     "name": "stdout",
     "output_type": "stream",
     "text": [
      "预测值：31.66683578491211，真实值：33.33333206176758\n"
     ]
    }
   ],
   "source": [
    "from torch.utils.tensorboard import SummaryWriter\n",
    "#训练模型\n",
    "def train(model, train_data, train_target, test_data, test_target):\n",
    "    writer = SummaryWriter()\n",
    "    EPOCHS = 1000\n",
    "    optimizer = torch.optim.Adam(model.parameters(), lr=1e-3)\n",
    "    criterion = torch.nn.MSELoss()\n",
    "    for epoch in range(EPOCHS):\n",
    "        model.train()\n",
    "        output = model(train_data)\n",
    "        loss = criterion(output, train_target)\n",
    "        model.zero_grad()\n",
    "        loss.backward()\n",
    "        optimizer.step()\n",
    "        model.eval()\n",
    "    with torch.no_grad():\n",
    "        for i,ele in enumerate(test_data[0]):\n",
    "            writer.add_scalar(\"MaxTemp\", ele.item(), i)\n",
    "        # writer.add_scalar(\"MaxTemp\", test_target.item(), len(test_data[0])) # 真实值\n",
    "        output = model(test_data)\n",
    "        writer.add_scalar(\"MaxTemp\", output.item(), len(test_data[0])) # 预测值\n",
    "        print(f'预测值：{output.item()}，真实值：{test_target.item()}')\n",
    "    writer.close()\n",
    "\n",
    "train(rnn,X_train, y_train,X_test, y_test)"
   ]
  },
  {
   "cell_type": "code",
   "execution_count": 11,
   "id": "e360ab4a",
   "metadata": {},
   "outputs": [
    {
     "data": {
      "text/plain": [
       "(torch.Size([1, 700, 1]),\n",
       " tensor([31.6667, 31.6667, 30.5556, 32.7778, 32.2222]))"
      ]
     },
     "execution_count": 11,
     "metadata": {},
     "output_type": "execute_result"
    }
   ],
   "source": [
    "#预测5个值，前700天训练，后300天验证\n",
    "X_train, y_train = series[:, :700], series[:, 701:706].reshape(5)\n",
    "X_test, y_test = series[:, 700:1000], series[:, 1001:1006].reshape(5)\n",
    "X_train.shape,y_train"
   ]
  },
  {
   "cell_type": "code",
   "execution_count": 6,
   "id": "8a35b5ab",
   "metadata": {},
   "outputs": [],
   "source": [
    "class MULTI_RNN(torch.nn.Module):\n",
    "  def __init__(self):\n",
    "    super().__init__()\n",
    "    self.rnn = torch.nn.LSTM(input_size=1, hidden_size=50, num_layers=1, batch_first=True)\n",
    "    self.fc = torch.nn.Linear(50, 5)\n",
    "\n",
    "  def forward(self, x):\n",
    "    x, h = self.rnn(x) \n",
    "    y = self.fc(x[:,-1])\n",
    "    return y.reshape(5)\n",
    "\n",
    "rnn_multi = MULTI_RNN()"
   ]
  },
  {
   "cell_type": "code",
   "execution_count": 13,
   "id": "ba497ccf",
   "metadata": {},
   "outputs": [
    {
     "name": "stdout",
     "output_type": "stream",
     "text": [
      "预测值：tensor([31.6667, 31.6667, 30.5556, 32.7779, 32.2223])，真实值：tensor([33.3333, 34.4444, 33.3333, 32.2222, 35.0000])\n"
     ]
    }
   ],
   "source": [
    "def train_multi(model, train_data, train_target, test_data, test_target):\n",
    "    writer = SummaryWriter()\n",
    "    EPOCHS = 1000\n",
    "    optimizer = torch.optim.Adam(model.parameters(), lr=1e-3)\n",
    "    criterion = torch.nn.MSELoss()\n",
    "    for epoch in range(EPOCHS):\n",
    "        model.train()\n",
    "        output = model(train_data)\n",
    "        loss = criterion(output, train_target)\n",
    "        model.zero_grad()\n",
    "        loss.backward()\n",
    "        optimizer.step()\n",
    "        model.eval()\n",
    "    with torch.no_grad():\n",
    "        for i,ele in enumerate(test_data[0]):\n",
    "            writer.add_scalar(\"MaxTemp_5\", ele.item(), i)\n",
    "        # 真实值\n",
    "        # for i,ele in enumerate(test_target):\n",
    "        #     writer.add_scalar(\"MaxTemp_5\", ele.item(), len(test_data[0])+i) \n",
    "        # 预测值\n",
    "        output = model(test_data)\n",
    "        for i,ele in enumerate(output):\n",
    "            writer.add_scalar(\"MaxTemp_5\", ele.item(), len(test_data[0])+i) \n",
    "        print(f'预测值：{output}，真实值：{test_target}')\n",
    "    writer.close()\n",
    "train_multi(rnn_multi,X_train, y_train,X_test, y_test)"
   ]
  }
 ],
 "metadata": {
  "kernelspec": {
   "display_name": "py312",
   "language": "python",
   "name": "python3"
  },
  "language_info": {
   "codemirror_mode": {
    "name": "ipython",
    "version": 3
   },
   "file_extension": ".py",
   "mimetype": "text/x-python",
   "name": "python",
   "nbconvert_exporter": "python",
   "pygments_lexer": "ipython3",
   "version": "3.12.9"
  }
 },
 "nbformat": 4,
 "nbformat_minor": 5
}
