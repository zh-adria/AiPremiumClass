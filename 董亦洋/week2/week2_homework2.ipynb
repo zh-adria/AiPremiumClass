{
 "cells": [
  {
   "cell_type": "code",
   "execution_count": 8,
   "metadata": {},
   "outputs": [
    {
     "data": {
      "text/plain": [
       "1.0"
      ]
     },
     "execution_count": 8,
     "metadata": {},
     "output_type": "execute_result"
    }
   ],
   "source": [
    "import numpy as np\n",
    "from sklearn.datasets import load_iris\n",
    "\n",
    "#验证梯度下降后参数的准确率\n",
    "def cacl_y_hat(x,theta,bias):\n",
    "    z = np.dot(theta,x.T) + bias\n",
    "    y_hat = 1/(1+np.exp(-z))\n",
    "    return y_hat\n",
    "def correct_rate(theta,bias,x_test,y_test):\n",
    "    i=0\n",
    "    correct_num=0\n",
    "    all = y_test.shape[0]\n",
    "    y_hat = cacl_y_hat(theta=theta,bias=bias,x=x_test)\n",
    "    while i<all:\n",
    "        if y_hat[0][i]>0.5:\n",
    "            temp=1\n",
    "        else:\n",
    "            temp=0\n",
    "        if temp==y_test[i]:\n",
    "            correct_num+=1\n",
    "        i+=1\n",
    "    return correct_num/all\n",
    "\n",
    "#文件获取参数\n",
    "theta,bias = np.load('theta.npy'),np.load('bias.npy')\n",
    "data=load_iris()\n",
    "x,y=data.data[:100],data.target[:100]\n",
    "\n",
    "#计算准确率\n",
    "rate = correct_rate(theta,bias,x,y) #计算准确率\n",
    "\n",
    "rate"
   ]
  }
 ],
 "metadata": {
  "kernelspec": {
   "display_name": "py312",
   "language": "python",
   "name": "python3"
  },
  "language_info": {
   "codemirror_mode": {
    "name": "ipython",
    "version": 3
   },
   "file_extension": ".py",
   "mimetype": "text/x-python",
   "name": "python",
   "nbconvert_exporter": "python",
   "pygments_lexer": "ipython3",
   "version": "3.12.9"
  }
 },
 "nbformat": 4,
 "nbformat_minor": 2
}
