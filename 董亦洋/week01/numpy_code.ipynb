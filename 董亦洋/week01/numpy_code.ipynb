{
 "cells": [
  {
   "cell_type": "code",
   "execution_count": 2,
   "metadata": {},
   "outputs": [
    {
     "name": "stdout",
     "output_type": "stream",
     "text": [
      "[1 2 3]\n"
     ]
    }
   ],
   "source": [
    "import numpy as np\n",
    "a = [1,2,3]\n",
    "b = np.array(a)\n",
    "print(b)"
   ]
  },
  {
   "cell_type": "code",
   "execution_count": 3,
   "metadata": {},
   "outputs": [
    {
     "data": {
      "text/plain": [
       "array([[1, 2, 3],\n",
       "       [4, 5, 6]])"
      ]
     },
     "execution_count": 3,
     "metadata": {},
     "output_type": "execute_result"
    }
   ],
   "source": [
    "a = np.array([[1,2,3],[4,5,6]])\n",
    "a"
   ]
  },
  {
   "cell_type": "code",
   "execution_count": 4,
   "metadata": {},
   "outputs": [
    {
     "data": {
      "text/plain": [
       "array([[0, 0, 0],\n",
       "       [0, 0, 0],\n",
       "       [0, 0, 0]])"
      ]
     },
     "execution_count": 4,
     "metadata": {},
     "output_type": "execute_result"
    }
   ],
   "source": [
    "a = np.zeros((3,3), int)\n",
    "a"
   ]
  },
  {
   "cell_type": "code",
   "execution_count": 5,
   "metadata": {},
   "outputs": [
    {
     "data": {
      "text/plain": [
       "array([1. , 1.5, 2. , 2.5, 3. , 3.5, 4. , 4.5, 5. , 5.5, 6. , 6.5, 7. ,\n",
       "       7.5, 8. , 8.5, 9. , 9.5])"
      ]
     },
     "execution_count": 5,
     "metadata": {},
     "output_type": "execute_result"
    }
   ],
   "source": [
    "a = np.arange(1, 10 ,0.5)\n",
    "a"
   ]
  },
  {
   "cell_type": "code",
   "execution_count": 6,
   "metadata": {},
   "outputs": [
    {
     "data": {
      "text/plain": [
       "array([[1., 0., 0., 0.],\n",
       "       [0., 1., 0., 0.],\n",
       "       [0., 0., 1., 0.],\n",
       "       [0., 0., 0., 1.]])"
      ]
     },
     "execution_count": 6,
     "metadata": {},
     "output_type": "execute_result"
    }
   ],
   "source": [
    "a = np.eye(4)\n",
    "a"
   ]
  },
  {
   "cell_type": "code",
   "execution_count": 7,
   "metadata": {},
   "outputs": [
    {
     "data": {
      "text/plain": [
       "array([[0.24857252, 0.88681101, 0.74287208],\n",
       "       [0.52573032, 0.01292301, 0.31853695],\n",
       "       [0.97841343, 0.28188361, 0.97340787]])"
      ]
     },
     "execution_count": 7,
     "metadata": {},
     "output_type": "execute_result"
    }
   ],
   "source": [
    "a = np.random.random((3,3))\n",
    "a"
   ]
  },
  {
   "cell_type": "code",
   "execution_count": 8,
   "metadata": {},
   "outputs": [
    {
     "data": {
      "text/plain": [
       "array([ 4.74713309,  7.96178415, 12.40723437, 12.97176329, 10.69191901,\n",
       "       -2.2922589 , -0.02290621, -2.73099943, 14.3553996 ,  8.56493927])"
      ]
     },
     "execution_count": 8,
     "metadata": {},
     "output_type": "execute_result"
    }
   ],
   "source": [
    "mu,sigma = 0,0.1\n",
    "a = np.random.normal(5, 10, 10)\n",
    "a"
   ]
  },
  {
   "cell_type": "code",
   "execution_count": 9,
   "metadata": {},
   "outputs": [
    {
     "name": "stdout",
     "output_type": "stream",
     "text": [
      "[[[ 1  2  3]\n",
      "  [ 4  5  6]]\n",
      "\n",
      " [[ 7  8  9]\n",
      "  [10 11 12]]\n",
      "\n",
      " [[13 14 15]\n",
      "  [16 17 18]]]\n",
      "\n",
      "[[[ 1  2  3]\n",
      "  [ 4  5  6]]\n",
      "\n",
      " [[ 7  8  9]\n",
      "  [10 11 12]]\n",
      "\n",
      " [[13 14 15]\n",
      "  [16 17 18]]]\n"
     ]
    }
   ],
   "source": [
    "# a = np.array([[1,2],[3,4],[5,6]])\n",
    "a = np.arange(1,19,1).reshape(3,2,3)\n",
    "print(a)\n",
    "print()\n",
    "print(a[:,:2])"
   ]
  },
  {
   "cell_type": "code",
   "execution_count": 10,
   "metadata": {},
   "outputs": [
    {
     "name": "stdout",
     "output_type": "stream",
     "text": [
      "[[1 2 3]\n",
      " [4 5 6]]\n",
      "\n",
      "1 2 3\n",
      "4 5 6\n"
     ]
    }
   ],
   "source": [
    "a = np.arange(1,7,1).reshape(2,3)\n",
    "print(a)\n",
    "print()\n",
    "for i,j,k in a:\n",
    "    print(i,j,k)"
   ]
  },
  {
   "cell_type": "code",
   "execution_count": 11,
   "metadata": {},
   "outputs": [
    {
     "name": "stdout",
     "output_type": "stream",
     "text": [
      "[[[ 1  2  3]\n",
      "  [ 4  5  6]\n",
      "  [ 7  8  9]]\n",
      "\n",
      " [[10 11 12]\n",
      "  [13 14 15]\n",
      "  [16 17 18]]]\n",
      "[1 2 3] [4 5 6] [7 8 9]\n",
      "[10 11 12] [13 14 15] [16 17 18]\n",
      "[1 2 3 4]\n"
     ]
    }
   ],
   "source": [
    "a = np.arange(1,19,1).reshape(2,3,3)\n",
    "print(a)\n",
    "for i,j,k in a:\n",
    "    print(i,j,k)\n",
    "b = np.array([1,2,3,4])\n",
    "print(b)"
   ]
  },
  {
   "cell_type": "code",
   "execution_count": 12,
   "metadata": {},
   "outputs": [
    {
     "name": "stdout",
     "output_type": "stream",
     "text": [
      "[[1 2 3]\n",
      " [4 5 6]\n",
      " [7 8 9]]\n",
      "[[1 2 3]\n",
      " [4 5 6]\n",
      " [7 8 9]]\n"
     ]
    }
   ],
   "source": [
    "a = np.arange(1,10,1).reshape(3,3)\n",
    "print(a)\n",
    "a.reshape(9)\n",
    "print(a)"
   ]
  },
  {
   "cell_type": "code",
   "execution_count": 13,
   "metadata": {},
   "outputs": [
    {
     "data": {
      "text/plain": [
       "array([[[0., 0., 0., 0.],\n",
       "        [0., 0., 0., 0.],\n",
       "        [0., 0., 0., 0.]],\n",
       "\n",
       "       [[0., 0., 0., 0.],\n",
       "        [0., 0., 0., 0.],\n",
       "        [0., 0., 0., 0.]]])"
      ]
     },
     "execution_count": 13,
     "metadata": {},
     "output_type": "execute_result"
    }
   ],
   "source": [
    "a = np.zeros((2,3,4))\n",
    "a\n"
   ]
  },
  {
   "cell_type": "code",
   "execution_count": 14,
   "metadata": {},
   "outputs": [
    {
     "data": {
      "text/plain": [
       "array([0., 0., 0., 0., 0., 0., 0., 0., 0., 0., 0., 0., 0., 0., 0., 0., 0.,\n",
       "       0., 0., 0., 0., 0., 0., 0.])"
      ]
     },
     "execution_count": 14,
     "metadata": {},
     "output_type": "execute_result"
    }
   ],
   "source": [
    "a.reshape(24)"
   ]
  },
  {
   "cell_type": "code",
   "execution_count": 15,
   "metadata": {},
   "outputs": [
    {
     "name": "stdout",
     "output_type": "stream",
     "text": [
      "[[[1 2 3]\n",
      "  [4 5 6]]] (1, 2, 3)\n",
      "[[[1]\n",
      "  [4]]\n",
      "\n",
      " [[2]\n",
      "  [5]]\n",
      "\n",
      " [[3]\n",
      "  [6]]] (3, 2, 1)\n"
     ]
    }
   ],
   "source": [
    "a = np.arange(1,7,1).reshape(1,2,3)\n",
    "print(a,a.shape)\n",
    "print(a.T,a.T.shape)"
   ]
  },
  {
   "cell_type": "code",
   "execution_count": 16,
   "metadata": {},
   "outputs": [
    {
     "data": {
      "text/plain": [
       "array([[ 6.,  6.,  6.],\n",
       "       [15., 15., 15.]])"
      ]
     },
     "execution_count": 16,
     "metadata": {},
     "output_type": "execute_result"
    }
   ],
   "source": [
    "a = np.arange(1,7).reshape(2,3)\n",
    "b = np.ones((3,3))\n",
    "a@b\n"
   ]
  },
  {
   "cell_type": "code",
   "execution_count": null,
   "metadata": {},
   "outputs": [
    {
     "name": "stdout",
     "output_type": "stream",
     "text": [
      "(3, 1, 4, 3, 6)\n",
      "(3, 3, 4, 6)\n"
     ]
    }
   ],
   "source": [
    "a = np.arange(48).reshape(3,1,4,4)\n",
    "b = np.ones((3,4,6))\n",
    "# print(a)\n",
    "#高维dot运算，第一个矩阵-1维==第二个矩阵-2维\n",
    "#用第一个矩阵的最后一维和第二个矩阵的倒数第二维做点积运算，其他维度做外积\n",
    "#运算后维度为第一个矩阵除了最后一维，第二个矩阵除了倒数第二维\n",
    "print(np.dot(a,b).shape) \n",
    "#高维@运算，最后两维做点积运算，其他维度广播\n",
    "#运算后的维度为，其他维度广播后的维度，加上后两位点成后的维度\n",
    "print((a@b).shape) "
   ]
  },
  {
   "cell_type": "code",
   "execution_count": null,
   "metadata": {},
   "outputs": [
    {
     "name": "stdout",
     "output_type": "stream",
     "text": [
      "[[3. 3.]\n",
      " [7. 7.]]\n",
      "[[3. 3.]\n",
      " [7. 7.]]\n"
     ]
    }
   ],
   "source": [
    "a = np.arange(1,5).reshape(2,2)\n",
    "b = np.ones((2,2))\n",
    "print((a@b))\n",
    "print(np.dot(a,b))"
   ]
  },
  {
   "cell_type": "code",
   "execution_count": null,
   "metadata": {},
   "outputs": [
    {
     "name": "stdout",
     "output_type": "stream",
     "text": [
      "[[0.62833197 0.59355244 0.01491377]\n",
      " [0.69769299 0.83414415 0.8668504 ]\n",
      " [0.42403274 0.26620463 0.27957723]]\n"
     ]
    },
    {
     "data": {
      "text/plain": [
       "array([[0.62833197, 0.59355244, 0.01491377],\n",
       "       [0.69769299, 0.83414415, 0.8668504 ],\n",
       "       [0.42403274, 0.26620463, 0.27957723]])"
      ]
     },
     "execution_count": 20,
     "metadata": {},
     "output_type": "execute_result"
    }
   ],
   "source": [
    "a = np.random.random((3,3))\n",
    "print(a)\n",
    "np.savetxt('a.txt',a)\n",
    "b = np.loadtxt('a.txt')\n",
    "b"
   ]
  },
  {
   "cell_type": "code",
   "execution_count": null,
   "metadata": {},
   "outputs": [
    {
     "name": "stdout",
     "output_type": "stream",
     "text": [
      "(1, 4, 3, 3, 6)\n",
      "[[[[[4. 4. 4. 4. 4. 4.]\n",
      "    [4. 4. 4. 4. 4. 4.]\n",
      "    [4. 4. 4. 4. 4. 4.]]\n",
      "\n",
      "   [[4. 4. 4. 4. 4. 4.]\n",
      "    [4. 4. 4. 4. 4. 4.]\n",
      "    [4. 4. 4. 4. 4. 4.]]\n",
      "\n",
      "   [[4. 4. 4. 4. 4. 4.]\n",
      "    [4. 4. 4. 4. 4. 4.]\n",
      "    [4. 4. 4. 4. 4. 4.]]]\n",
      "\n",
      "\n",
      "  [[[4. 4. 4. 4. 4. 4.]\n",
      "    [4. 4. 4. 4. 4. 4.]\n",
      "    [4. 4. 4. 4. 4. 4.]]\n",
      "\n",
      "   [[4. 4. 4. 4. 4. 4.]\n",
      "    [4. 4. 4. 4. 4. 4.]\n",
      "    [4. 4. 4. 4. 4. 4.]]\n",
      "\n",
      "   [[4. 4. 4. 4. 4. 4.]\n",
      "    [4. 4. 4. 4. 4. 4.]\n",
      "    [4. 4. 4. 4. 4. 4.]]]\n",
      "\n",
      "\n",
      "  [[[4. 4. 4. 4. 4. 4.]\n",
      "    [4. 4. 4. 4. 4. 4.]\n",
      "    [4. 4. 4. 4. 4. 4.]]\n",
      "\n",
      "   [[4. 4. 4. 4. 4. 4.]\n",
      "    [4. 4. 4. 4. 4. 4.]\n",
      "    [4. 4. 4. 4. 4. 4.]]\n",
      "\n",
      "   [[4. 4. 4. 4. 4. 4.]\n",
      "    [4. 4. 4. 4. 4. 4.]\n",
      "    [4. 4. 4. 4. 4. 4.]]]\n",
      "\n",
      "\n",
      "  [[[4. 4. 4. 4. 4. 4.]\n",
      "    [4. 4. 4. 4. 4. 4.]\n",
      "    [4. 4. 4. 4. 4. 4.]]\n",
      "\n",
      "   [[4. 4. 4. 4. 4. 4.]\n",
      "    [4. 4. 4. 4. 4. 4.]\n",
      "    [4. 4. 4. 4. 4. 4.]]\n",
      "\n",
      "   [[4. 4. 4. 4. 4. 4.]\n",
      "    [4. 4. 4. 4. 4. 4.]\n",
      "    [4. 4. 4. 4. 4. 4.]]]]]\n"
     ]
    }
   ],
   "source": [
    "a = np.ones((1,4,3,3,4))\n",
    "b = np.ones((1,3,4,6))\n",
    "# print(a)\n",
    "print((a@b).shape)\n",
    "print((a@b))"
   ]
  }
 ],
 "metadata": {
  "kernelspec": {
   "display_name": "py312",
   "language": "python",
   "name": "python3"
  },
  "language_info": {
   "codemirror_mode": {
    "name": "ipython",
    "version": 3
   },
   "file_extension": ".py",
   "mimetype": "text/x-python",
   "name": "python",
   "nbconvert_exporter": "python",
   "pygments_lexer": "ipython3",
   "version": "3.12.9"
  }
 },
 "nbformat": 4,
 "nbformat_minor": 2
}
