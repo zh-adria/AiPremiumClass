{
 "cells": [
  {
   "cell_type": "code",
   "id": "initial_id",
   "metadata": {
    "collapsed": true,
    "ExecuteTime": {
     "end_time": "2025-03-09T01:58:04.252664Z",
     "start_time": "2025-03-09T01:58:04.250356Z"
    }
   },
   "source": [
    "import numpy as np\n",
    "import torch\n",
    "from sklearn.model_selection import train_test_split\n",
    "from sklearn.datasets import load_iris\n",
    "from sklearn.metrics import accuracy_score"
   ],
   "outputs": [],
   "execution_count": 7
  },
  {
   "metadata": {
    "ExecuteTime": {
     "end_time": "2025-03-09T01:58:06.257908Z",
     "start_time": "2025-03-09T01:58:06.254109Z"
    }
   },
   "cell_type": "code",
   "source": [
    "# 数据准备\n",
    "X, y =load_iris(return_X_y=True)\n",
    "X = X[:100]\n",
    "y = y[:100]"
   ],
   "id": "2113083fa00350fe",
   "outputs": [],
   "execution_count": 8
  },
  {
   "metadata": {
    "ExecuteTime": {
     "end_time": "2025-03-09T02:00:51.047030Z",
     "start_time": "2025-03-09T02:00:51.043990Z"
    }
   },
   "cell_type": "code",
   "source": [
    "# 创建张量数据集\n",
    "tensor_x = torch.tensor(X, dtype = torch.float32)\n",
    "tensor_y = torch.tensor(y, dtype = torch.float32)"
   ],
   "id": "c6e071ff07a7e51c",
   "outputs": [],
   "execution_count": 15
  },
  {
   "metadata": {
    "ExecuteTime": {
     "end_time": "2025-03-09T02:01:23.360579Z",
     "start_time": "2025-03-09T02:01:23.357566Z"
    }
   },
   "cell_type": "code",
   "source": [
    "# 超参数设置\n",
    "learning_rate= 0.01\n",
    "epochs = 500\n",
    "# 模型参数\n",
    "w = torch.randn(1,4,requires_grad=True)\n",
    "b = torch.randn(1,requires_grad=True)"
   ],
   "id": "539451d463ddc918",
   "outputs": [],
   "execution_count": 16
  },
  {
   "metadata": {
    "ExecuteTime": {
     "end_time": "2025-03-09T02:01:26.000262Z",
     "start_time": "2025-03-09T02:01:25.983208Z"
    }
   },
   "cell_type": "code",
   "source": [
    "# 前向运算\n",
    "z = torch.nn.functional.linear(tensor_x, w,b)\n",
    "z = torch.sigmoid(z)\n",
    "# 损失函数\n",
    "loss = torch.nn.functional.binary_cross_entropy(z.reshape(-1),tensor_y,reduction='mean')\n",
    "# 计算梯度\n",
    "loss.backward()"
   ],
   "id": "83366b5176f017df",
   "outputs": [],
   "execution_count": 17
  },
  {
   "metadata": {
    "ExecuteTime": {
     "end_time": "2025-03-09T02:11:23.203Z",
     "start_time": "2025-03-09T02:11:23.199361Z"
    }
   },
   "cell_type": "code",
   "source": [
    "# 梯度下降更新参数\n",
    "with torch.no_grad():\n",
    "    w -=learning_rate*w.grad\n",
    "    b -=learning_rate*b.grad\n",
    "    print(w.grad)\n",
    "    w.grad.zero_()\n",
    "    b.grad.zero_()\n",
    "\n",
    "print(loss.item())"
   ],
   "id": "5c1ef7bc74b0c8cf",
   "outputs": [
    {
     "name": "stdout",
     "output_type": "stream",
     "text": [
      "tensor([[0., 0., 0., 0.]])\n",
      "0.11857043206691742\n"
     ]
    }
   ],
   "execution_count": 19
  },
  {
   "metadata": {},
   "cell_type": "code",
   "outputs": [],
   "execution_count": null,
   "source": "",
   "id": "894d946ce1ccb726"
  }
 ],
 "metadata": {
  "kernelspec": {
   "display_name": "Python 3",
   "language": "python",
   "name": "python3"
  },
  "language_info": {
   "codemirror_mode": {
    "name": "ipython",
    "version": 2
   },
   "file_extension": ".py",
   "mimetype": "text/x-python",
   "name": "python",
   "nbconvert_exporter": "python",
   "pygments_lexer": "ipython2",
   "version": "2.7.6"
  }
 },
 "nbformat": 4,
 "nbformat_minor": 5
}
