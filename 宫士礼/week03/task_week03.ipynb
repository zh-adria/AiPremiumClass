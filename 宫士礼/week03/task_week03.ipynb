{
 "cells": [
  {
   "cell_type": "markdown",
   "metadata": {},
   "source": [
    "## task01 : 完成对数据集KMNIST的训练，代码入下"
   ]
  },
  {
   "cell_type": "code",
   "execution_count": null,
   "metadata": {},
   "outputs": [],
   "source": [
    "#导入包\n",
    "import torch\n",
    "import torch.nn as nn\n",
    "import torch.optim as optim\n",
    "from torchvision.transforms import ToTensor #数据转换为张量\n",
    "from torchvision.datasets import KMNIST #该数据集与fasionminist类似，形状和数量均是\n",
    "from torch.utils.data import DataLoader #数据加载器\n",
    "import sympy"
   ]
  },
  {
   "cell_type": "code",
   "execution_count": 70,
   "metadata": {},
   "outputs": [],
   "source": [
    "#数据加载\n",
    "train_data = KMNIST(root='./mydata2',train=True,download=True,transform=ToTensor())#训练集\n",
    "test_data = KMNIST(root='./mydata2',train=False,download=True,transform=ToTensor())#测试集\n"
   ]
  },
  {
   "cell_type": "code",
   "execution_count": null,
   "metadata": {},
   "outputs": [],
   "source": [
    "##定义超参数\n",
    "LR = 0.8\n",
    "epoachs = 20\n",
    "BATCH_SIZE = 128#批次处理的样本个数"
   ]
  },
  {
   "cell_type": "code",
   "execution_count": 83,
   "metadata": {},
   "outputs": [],
   "source": [
    "#分批次处理图片数据并打乱\n",
    "train_dl =DataLoader(train_data,batch_size=BATCH_SIZE,shuffle=True)#shuffle是随机打乱数据"
   ]
  },
  {
   "cell_type": "code",
   "execution_count": null,
   "metadata": {},
   "outputs": [],
   "source": [
    "#定义模型\n",
    "model = nn.Sequential(\n",
    "    nn.Linear(784,256),#输入层到第一个隐藏层\n",
    "    nn.Sigmoid(),#激活函数\n",
    "    nn.Linear(64,10)#第二个隐藏层，到输出层\n",
    ")"
   ]
  },
  {
   "cell_type": "code",
   "execution_count": 85,
   "metadata": {},
   "outputs": [],
   "source": [
    "# 损失函数\n",
    "loss_function = nn.CrossEntropyLoss()  # 交叉熵损失函数\n",
    "# 优化器（模型参数更新）\n",
    "optimizer = torch.optim.SGD(model.parameters(), lr=LR)"
   ]
  },
  {
   "cell_type": "code",
   "execution_count": 90,
   "metadata": {},
   "outputs": [
    {
     "name": "stdout",
     "output_type": "stream",
     "text": [
      "Epoch:0  Loss: 0.005807897541671991\n",
      "Epoch:1  Loss: 0.004735148511826992\n",
      "Epoch:2  Loss: 0.004878401290625334\n",
      "Epoch:3  Loss: 0.00700853206217289\n",
      "Epoch:4  Loss: 0.00556553527712822\n",
      "Epoch:5  Loss: 0.004458623472601175\n",
      "Epoch:6  Loss: 0.008920876309275627\n",
      "Epoch:7  Loss: 0.005173067096620798\n",
      "Epoch:8  Loss: 0.0064783780835568905\n",
      "Epoch:9  Loss: 0.006512403022497892\n",
      "Epoch:10  Loss: 0.0032078977674245834\n",
      "Epoch:11  Loss: 0.005988527555018663\n",
      "Epoch:12  Loss: 0.003826257772743702\n",
      "Epoch:13  Loss: 0.006851695012301207\n",
      "Epoch:14  Loss: 0.004051416181027889\n",
      "Epoch:15  Loss: 0.00336522632278502\n",
      "Epoch:16  Loss: 0.0012898811837658286\n",
      "Epoch:17  Loss: 0.0031257374212145805\n",
      "Epoch:18  Loss: 0.004958567675203085\n",
      "Epoch:19  Loss: 0.002967755077406764\n"
     ]
    }
   ],
   "source": [
    "#模型训练\n",
    "\n",
    "for epoach in range(epoachs):\n",
    "        #提取训练数据 \n",
    "    for data , target in train_dl :\n",
    "         #前向运算\n",
    "        output = model(data.reshape(-1,784))\n",
    "         #计算损失\n",
    "        loss = loss_function(output, target)\n",
    "        # 反向传播\n",
    "        optimizer.zero_grad() ##所有参数梯度清零\n",
    "        loss.backward() ## 计算梯度（保存在参数.grad中）\n",
    "        optimizer.step()#更新参数\n",
    "    print(f\"Epoch:{epoach}  Loss: {loss.item()}\")"
   ]
  },
  {
   "cell_type": "code",
   "execution_count": 48,
   "metadata": {},
   "outputs": [],
   "source": [
    "# test_data\n",
    "# train_data"
   ]
  },
  {
   "cell_type": "code",
   "execution_count": 91,
   "metadata": {},
   "outputs": [
    {
     "name": "stdout",
     "output_type": "stream",
     "text": [
      "Accuracy: 90.36999999999999%\n"
     ]
    }
   ],
   "source": [
    "# 测试\n",
    "test_dl = DataLoader(test_data, batch_size=BATCH_SIZE)\n",
    "\n",
    "correct = 0\n",
    "total = 0\n",
    "with torch.no_grad():  # 不计算梯度\n",
    "    for data, target in test_dl:\n",
    "        output = model(data.reshape(-1, 784))#前向运算，输出后的形状为 [batch_size, num_classes]\n",
    "        _, predicted = torch.max(output, 1)  # 返回每行最大值和索引，最大值不需要，用_省略，并且output中的索引就是图片类别，此处的1表示output的第一维度，也就是类别\n",
    "        total += target.size(0)  # size(0) 等效 shape[0]，target.size(0) 返回 target 的第 0 维的大小，也就是当前批次中的样本数量。\n",
    "        correct += (predicted == target).sum().item()\n",
    "\n",
    "print(f'Accuracy: {correct/total*100}%')"
   ]
  },
  {
   "cell_type": "markdown",
   "metadata": {},
   "source": [
    "## task 02 : 通过改变神经元数量和增加隐藏层来提升预测率，操作和结果如下"
   ]
  },
  {
   "cell_type": "markdown",
   "metadata": {},
   "source": [
    "#### 初始隐藏层神经元数量为128，epoach=10,batch_size=128\n",
    "相关代码：\n",
    "model = nn.Sequential(\n",
    "    nn.Linear(784,128),\n",
    "    nn.Sigmoid(),\n",
    "    nn.Linear(128,10)\n",
    ")\n",
    "\n",
    "运行结果：\n",
    "        第一次Accuracy: 59.64%\n",
    "\n",
    "        第二次Accuracy: 65.7% \n",
    "\n",
    "        第三次Accuracy: 67.84%\n",
    "         \n",
    "总结：可以看到，随着不断训练，Accuracy在不断升高，但是epoach较少，整体预测准确率不高"
   ]
  },
  {
   "cell_type": "markdown",
   "metadata": {},
   "source": [
    "#### (1) 变更隐藏层神经元数量的尝试（初始隐藏层神经元数量为128，变更为256，epoach=10,batch_size=128）\n",
    "相关代码：\n",
    "        #定义模型\n",
    "    model = nn.Sequential(\n",
    "\n",
    "    nn.Linear(784,256),#输入层到隐藏层\n",
    "\n",
    "    nn.Sigmoid(),#激活函数\n",
    "\n",
    "    nn.Linear(256,10)#隐藏层，到输出层\n",
    ")\n",
    "运行结果：\n",
    "        第一次Accuracy: 60.28%\n",
    "\n",
    "        第二次Accuracy: 65.25999999999999%\n",
    "\n",
    "        第三次Accuracy: 67.61%\n",
    "总结：神经元数量变多，有助于初始准确率的提高，但随着训练的不断进行，准确率优化不高，并且隐藏层神经元数量越大，开销也越大"
   ]
  },
  {
   "cell_type": "markdown",
   "metadata": {},
   "source": [
    "#### (2)变更隐藏层数量的尝试（初始为1，隐藏层数量变更为为2，epoach=10,batch_size=128）\n",
    "相关代码：\n",
    "    #定义模型\n",
    "    \n",
    "    model = nn.Sequential(\n",
    "    nn.Linear(784,128),#输入层到第一个隐藏层\n",
    "\n",
    "    nn.Sigmoid(),#激活函数\n",
    "\n",
    "    nn.Linear(128,64),#第一个隐藏层到第二个隐藏层\n",
    "\n",
    "    nn.Sigmoid(),\n",
    "\n",
    "    nn.Linear(64,10)#第二个隐藏层，到输出层\n",
    "\n",
    ")\n",
    "运行结果：\n",
    "        第一次Accuracy: 25.900000000000002%，降低\n",
    "\n",
    "        第二次Accuracy: 40.08% ,降低\n",
    "\n",
    "        第三次Accuracy: 53.7%，还是降低\n",
    "         \n",
    "总结：可以看到，隐藏层数量变多，损失增大，随着不断训练，Accuracy在不断升高，但是epoach较少，整体预测准确率较差\n",
    "        \n"
   ]
  },
  {
   "cell_type": "markdown",
   "metadata": {},
   "source": [
    "## task03 :改变epoach和lr的数值，观察准确率的变化\n"
   ]
  },
  {
   "cell_type": "markdown",
   "metadata": {},
   "source": [
    "### 初始运行结果（初始模型为隐藏层神经元数量为256，隐藏层数量为1，lr=0.01，epochs=10）"
   ]
  },
  {
   "cell_type": "markdown",
   "metadata": {},
   "source": [
    "运行结果：\n",
    "        第一次Accuracy: 25.900000000000002%，降低\n",
    "\n",
    "        第二次Accuracy: 40.08% ,降低\n",
    "\n",
    "        第三次Accuracy: 53.7%，还是降低"
   ]
  },
  {
   "cell_type": "markdown",
   "metadata": {},
   "source": [
    "#### (1)epochs由10改为50\n",
    "结果：\n",
    "第一次：Accuracy: 70.1%\n",
    "\n",
    "第二次：Accuracy: 75.2%\n",
    "\n",
    "第三次：Accuracy: 78.14%\n",
    "\n",
    "总结：可以看到，伦次越多，准确率越高"
   ]
  },
  {
   "cell_type": "markdown",
   "metadata": {},
   "source": [
    "#### (2)lr改为0.1，epoch=20"
   ]
  },
  {
   "cell_type": "markdown",
   "metadata": {},
   "source": [
    "结果：\n",
    "第一次Accuracy: 80.05%\n",
    "\n",
    "第二次Accuracy: 85.2%\n",
    "\n",
    "第三次Accuracy: 87.63%\n",
    "\n",
    "总结：合适的学习率能够使模型更快的找到最优参数"
   ]
  },
  {
   "cell_type": "markdown",
   "metadata": {},
   "source": [
    "#### (3)lr=0.8,epoach=20"
   ]
  },
  {
   "cell_type": "markdown",
   "metadata": {},
   "source": [
    "第一次Accuracy: 90.07%\n",
    "\n",
    "第二次Accuracy: 90.19%\n",
    "\n",
    "第三次Accuracy: 90.36999999999999%"
   ]
  },
  {
   "cell_type": "markdown",
   "metadata": {},
   "source": [
    "### 总结"
   ]
  },
  {
   "cell_type": "markdown",
   "metadata": {},
   "source": [
    "适当的学习率和较多的轮次便于加快模型训练的速度，而隐藏层变多可能会导致开销变大，准确率较低，隐藏层神经元数量变多有利于准确率的升高，但也会增加开销"
   ]
  }
 ],
 "metadata": {
  "kernelspec": {
   "display_name": "py312",
   "language": "python",
   "name": "python3"
  },
  "language_info": {
   "codemirror_mode": {
    "name": "ipython",
    "version": 3
   },
   "file_extension": ".py",
   "mimetype": "text/x-python",
   "name": "python",
   "nbconvert_exporter": "python",
   "pygments_lexer": "ipython3",
   "version": "3.12.9"
  }
 },
 "nbformat": 4,
 "nbformat_minor": 2
}
