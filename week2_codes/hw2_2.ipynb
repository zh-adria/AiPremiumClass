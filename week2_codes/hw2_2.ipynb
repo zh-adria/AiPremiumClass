{
 "cells": [
  {
   "cell_type": "markdown",
   "metadata": {},
   "source": [
    "#### 调整样本数据拆分比率，观察模型训练结果"
   ]
  },
  {
   "cell_type": "code",
   "execution_count": 13,
   "metadata": {},
   "outputs": [],
   "source": [
    "from sklearn.datasets import load_iris\n",
    "from sklearn.model_selection import train_test_split\n",
    "import numpy as np"
   ]
  },
  {
   "cell_type": "code",
   "execution_count": 14,
   "metadata": {},
   "outputs": [],
   "source": [
    "# 1. 生成训练数据\n",
    "X,y = load_iris(return_X_y=True)\n",
    "\n",
    "X = X[:100]\n",
    "y = y[:100]"
   ]
  },
  {
   "cell_type": "code",
   "execution_count": 15,
   "metadata": {},
   "outputs": [],
   "source": [
    "\n",
    "# 超参数\n",
    "lr = 0.1  # 学习率\n",
    "epochs = 500  # 训练次数"
   ]
  },
  {
   "cell_type": "code",
   "execution_count": null,
   "metadata": {},
   "outputs": [
    {
     "name": "stdout",
     "output_type": "stream",
     "text": [
      "lr:0.1 epoch: 0, loss: 8.467161175009853, acc: 0.5222222222222223\n",
      "lr:0.1 epoch: 100, loss: 0.00037692754863646085, acc: 1.0\n",
      "lr:0.1 epoch: 200, loss: 0.0003496487944549971, acc: 1.0\n",
      "lr:0.1 epoch: 300, loss: 0.0003264263515962623, acc: 1.0\n",
      "lr:0.1 epoch: 400, loss: 0.0003061731194408177, acc: 1.0\n",
      "**************************************************\n",
      "lr:0.1 epoch: 0, loss: 3.120829785762988, acc: 0.5\n",
      "lr:0.1 epoch: 100, loss: 0.00017137202770113946, acc: 1.0\n",
      "lr:0.1 epoch: 200, loss: 0.0001315754306648018, acc: 1.0\n",
      "lr:0.1 epoch: 300, loss: 0.00012429395341933766, acc: 1.0\n",
      "lr:0.1 epoch: 400, loss: 0.00012122718043688358, acc: 1.0\n",
      "**************************************************\n",
      "lr:0.1 epoch: 0, loss: 3.383805427556374, acc: 0.62\n",
      "lr:0.1 epoch: 100, loss: 0.0005045912140240577, acc: 1.0\n",
      "lr:0.1 epoch: 200, loss: 0.000468079954488861, acc: 1.0\n",
      "lr:0.1 epoch: 300, loss: 0.0004446896260790691, acc: 1.0\n",
      "lr:0.1 epoch: 400, loss: 0.0004236491188773335, acc: 1.0\n",
      "**************************************************\n",
      "lr:0.1 epoch: 0, loss: 2.486964521918536, acc: 0.0\n",
      "lr:0.1 epoch: 100, loss: 0.0021587862416274865, acc: 1.0\n",
      "lr:0.1 epoch: 200, loss: 0.001817664995123958, acc: 1.0\n",
      "lr:0.1 epoch: 300, loss: 0.0015717260210736665, acc: 1.0\n",
      "lr:0.1 epoch: 400, loss: 0.0013857842097804102, acc: 1.0\n",
      "**************************************************\n",
      "lr:0.1 epoch: 0, loss: 3.543364774120158, acc: 0.6\n",
      "lr:0.1 epoch: 100, loss: 0.019843367573816634, acc: 1.0\n",
      "lr:0.1 epoch: 200, loss: 0.0105144288297002, acc: 1.0\n",
      "lr:0.1 epoch: 300, loss: 0.00716929538855694, acc: 1.0\n",
      "lr:0.1 epoch: 400, loss: 0.0054460446166256695, acc: 1.0\n",
      "**************************************************\n"
     ]
    }
   ],
   "source": [
    "# 2. 模型计算函数\n",
    "def forward(x, theta, bias):\n",
    "    # 线性运算\n",
    "    z = np.dot(theta, x.T) + bias \n",
    "    # sigmoid\n",
    "    y_hat = 1 / (1 + np.exp(-z))  \n",
    "    return y_hat\n",
    "\n",
    "# 3. 计算损失函数\n",
    "def loss(y, y_hat):\n",
    "    e = 1e-8\n",
    "    return - y * np.log(y_hat + e) - (1 - y) * np.log(1 - y_hat + e)\n",
    "\n",
    "# 4. 计算梯度\n",
    "def calc_gradient(x,y,y_hat):\n",
    "    # 计算梯度\n",
    "    m = x.shape[-1]\n",
    "    # theta梯度计算\n",
    "    delta_theta = np.dot((y_hat - y), x) / m\n",
    "    # bias梯度计算\n",
    "    delta_bias = np.mean(y_hat - y)\n",
    "    # 返回梯度\n",
    "    return delta_theta, delta_bias\n",
    "\n",
    "# 5. 模型训练\n",
    "# 数据预处理\n",
    "split_rates = [0.1, 0.3, 0.5, 0.7, 0.9]  \n",
    "for sr in split_rates:\n",
    "   \n",
    "    X_train, X_test, y_train, y_test = train_test_split(X, y, test_size=sr, random_state=42)\n",
    "    # 权重参数\n",
    "    theta = np.random.randn(1,4)  # shape (1, 4)\n",
    "    bias = 0\n",
    "\n",
    "    for i in range(epochs):\n",
    "        # 前向计算\n",
    "        y_hat = forward(X_train, theta, bias)\n",
    "        # 计算损失\n",
    "        loss_val = loss(y_train, y_hat)\n",
    "        # 计算梯度\n",
    "        delta_theta, delta_bias = calc_gradient(X_train, y_train, y_hat)\n",
    "        # 更新参数\n",
    "        theta = theta - lr * delta_theta\n",
    "        bias = bias - lr * delta_bias\n",
    "\n",
    "        if i % 100 == 0:\n",
    "            # 计算准确率\n",
    "            acc = np.mean(np.round(y_hat) == y_train)  # [False,True,...,False] -> [0,1,...,0]\n",
    "            print(f\"lr:{lr} epoch: {i}, loss: {np.mean(loss_val)}, acc: {acc}\")\n",
    "    print('*'*50)"
   ]
  },
  {
   "cell_type": "code",
   "execution_count": 17,
   "metadata": {},
   "outputs": [
    {
     "name": "stdout",
     "output_type": "stream",
     "text": [
      "y: 1, predict: [1.]\n"
     ]
    }
   ],
   "source": [
    "# 模型推理\n",
    "idx = np.random.randint(len(X_test)) # 随机选择一个测试样本索引\n",
    "x = X_test[idx]\n",
    "y = y_test[idx]\n",
    "\n",
    "predict = np.round(forward(x, theta, bias))\n",
    "print(f\"y: {y}, predict: {predict}\")"
   ]
  }
 ],
 "metadata": {
  "kernelspec": {
   "display_name": "base",
   "language": "python",
   "name": "python3"
  },
  "language_info": {
   "codemirror_mode": {
    "name": "ipython",
    "version": 3
   },
   "file_extension": ".py",
   "mimetype": "text/x-python",
   "name": "python",
   "nbconvert_exporter": "python",
   "pygments_lexer": "ipython3",
   "version": "3.11.10"
  }
 },
 "nbformat": 4,
 "nbformat_minor": 2
}
