{
 "cells": [
  {
   "cell_type": "markdown",
   "metadata": {},
   "source": [
    "### 作业要求\n",
    "\n",
    "1. 使用sklearn数据集训练逻辑回归模型，调整学习率，样本数据拆分比率，观察训练结果\n",
    "2. 训练后,将模型参数保存到文件\n",
    "3. 使用参数测试训练的模型，并预测结果\n",
    "4. 总结逻辑回归运算及训练相关知识点"
   ]
  },
  {
   "cell_type": "markdown",
   "metadata": {},
   "source": [
    "####  使用sklearn数据集训练逻辑回归的模型\n",
    "1. 导入sklearn的数据集 \n",
    "\n",
    "网址：https://scikit-learn.org/stable/api/index.html\n",
    "\n",
    "\n",
    "2. 拆分数据集为训练集和测试集  7：3\n",
    "3. 设定参数 ， 权重参数、超参数、训练次数\n",
    "4. 模型的计算函数\n",
    "5. 计算损失函数\n",
    "6. 计算梯度  ： theta (weight parameters) 、bias(weight parameters) \n",
    "7. 模型训练过程\n",
    "\n"
   ]
  },
  {
   "cell_type": "code",
   "execution_count": 27,
   "metadata": {},
   "outputs": [
    {
     "data": {
      "text/plain": [
       "['breast_cancer_test_dataset.pkl']"
      ]
     },
     "execution_count": 27,
     "metadata": {},
     "output_type": "execute_result"
    }
   ],
   "source": [
    "# 1. import sklearn datasets \n",
    "from sklearn.datasets import load_breast_cancer\n",
    "# This function is a utility in scikit-learn that allows you to split your dataset into training and testing subsets\n",
    "from sklearn.model_selection import train_test_split\n",
    "\n",
    "import numpy as np\n",
    "\n",
    "# save the dataset to a file\n",
    "import joblib\n",
    "\n",
    "\n",
    "# 2. 加载数据集，拆分数据集为训练集和测试集  7：3\n",
    "X ,y = load_breast_cancer( return_X_y=True, as_frame=False)\n",
    "\n",
    "X_train, X_test, y_train, y_test = train_test_split(X,y,test_size =0.3)\n",
    "\n",
    "# freatures: X.shape[1] ,X.shape[-1]\n",
    "print(\"X's features:{}\".format(X.shape[1]))\n",
    "\n",
    "print(\"X_train:{}\".format(X_train))\n",
    "print(\"X_test:{}\".format(X_test))\n",
    "\n",
    "print(\"y_train:{}\".format(y_train))\n",
    "print(\"y_test:{}\".format(y_test))\n",
    "\n",
    "# save the datatset for testing to a file\n",
    "test_dataset = {\n",
    "    \"X_test\":X_test,\n",
    "    \"y_test\":y_test\n",
    "}\n",
    "joblib.dump(test_dataset,\"breast_cancer_test_dataset.pkl\")\n"
   ]
  },
  {
   "cell_type": "code",
   "execution_count": 19,
   "metadata": {},
   "outputs": [],
   "source": [
    "# 3. 设定参数 ， 权重参数、超参数、训练次数\n",
    "\n",
    "theta = np.random.randn(1,30)\n",
    "bias = 0\n",
    "\n",
    "#hyper parameters\n",
    "lr = 0.1\n",
    "# training times\n",
    "epochs = 3000\n",
    "\n"
   ]
  },
  {
   "cell_type": "code",
   "execution_count": 22,
   "metadata": {},
   "outputs": [],
   "source": [
    "# 4. 模型的计算函数\n",
    "def forward(x,theta,bias):\n",
    "    # linear operation (multiple)\n",
    "    z =np.dot(theta,x.T) + bias\n",
    "    # sigmoid\n",
    "    y_hat = 1 / (1 + np.exp(-z)) \n",
    "    return y_hat\n"
   ]
  },
  {
   "cell_type": "code",
   "execution_count": null,
   "metadata": {},
   "outputs": [],
   "source": [
    "\n",
    "# 5. 计算损失函数 (loss function)\n",
    "def loss(y,y_hat):\n",
    "    e = 1e-8\n",
    "    return -y * np.log(y_hat + e) - (1 -y ) * np.log(1 - y_hat + e)\n",
    "\n",
    "\n",
    "\n"
   ]
  },
  {
   "cell_type": "code",
   "execution_count": null,
   "metadata": {},
   "outputs": [],
   "source": [
    "\n",
    "# 6. 计算梯度  ： theta (weight parameters) 、bias(weight parameters) \n",
    "def calc_gradient(x,y,y_hat):\n",
    "    # calculate gradient \n",
    "    m = x.shape[-1]\n",
    "    # calculate gradient for theta\n",
    "    delta_theta = np.dot((y_hat - y),x) / m\n",
    "    # calculate gradient for bias\n",
    "    delta_bias = np.mean(y_hat - y)\n",
    "    return delta_theta, delta_bias\n",
    "\n",
    "\n"
   ]
  },
  {
   "cell_type": "code",
   "execution_count": 24,
   "metadata": {},
   "outputs": [
    {
     "ename": "NameError",
     "evalue": "name 'loss' is not defined",
     "output_type": "error",
     "traceback": [
      "\u001b[1;31m---------------------------------------------------------------------------\u001b[0m",
      "\u001b[1;31mNameError\u001b[0m                                 Traceback (most recent call last)",
      "Cell \u001b[1;32mIn[24], line 7\u001b[0m\n\u001b[0;32m      5\u001b[0m y_hat \u001b[38;5;241m=\u001b[39m forward(X_train,theta,bias)\n\u001b[0;32m      6\u001b[0m \u001b[38;5;66;03m# calculate loss\u001b[39;00m\n\u001b[1;32m----> 7\u001b[0m loss_val \u001b[38;5;241m=\u001b[39m \u001b[43mloss\u001b[49m(y_train,y_hat)\n\u001b[0;32m      8\u001b[0m \u001b[38;5;66;03m# calculate gradient\u001b[39;00m\n\u001b[0;32m      9\u001b[0m delta_theta, delta_bias \u001b[38;5;241m=\u001b[39m gradient(X_train,y_train,y_hat)\n",
      "\u001b[1;31mNameError\u001b[0m: name 'loss' is not defined"
     ]
    }
   ],
   "source": [
    "# 7. 模型训练过程\n",
    "\n",
    "for i in range(epochs):\n",
    "    # forward\n",
    "    y_hat = forward(X_train,theta,bias)\n",
    "    # calculate loss\n",
    "    loss_val = loss(y_train,y_hat)\n",
    "    # calculate gradient\n",
    "    delta_theta, delta_bias = gradient(X_train,y_train,y_hat)\n",
    "    # update theta and bias\n",
    "    theta = theta -lr * delta_theta\n",
    "    bias = bias - lr * delta_bias\n",
    "\n",
    "    if i % 100 == 0:\n",
    "        # calculate accuracy\n",
    "        acc = np.mean(np.round(y_hat) == y_train)\n",
    "        print(f\"epoch:{i}, loss:{np.mean(loss_val)}, acc:{acc}\")"
   ]
  },
  {
   "cell_type": "markdown",
   "metadata": {},
   "source": [
    "### 完整的代码\n",
    "使用乳腺癌的数据集来训练逻辑回归模型，使用文件保存模型参数和保存测试参数"
   ]
  },
  {
   "cell_type": "code",
   "execution_count": 82,
   "metadata": {},
   "outputs": [
    {
     "name": "stdout",
     "output_type": "stream",
     "text": [
      "X's features:30\n"
     ]
    },
    {
     "name": "stderr",
     "output_type": "stream",
     "text": [
      "C:\\Users\\Administrator\\AppData\\Local\\Temp\\ipykernel_10952\\2669125512.py:49: RuntimeWarning: overflow encountered in exp\n",
      "  y_hat = 1 / (1 + np.exp(-z))\n"
     ]
    },
    {
     "ename": "KeyboardInterrupt",
     "evalue": "",
     "output_type": "error",
     "traceback": [
      "\u001b[1;31m---------------------------------------------------------------------------\u001b[0m",
      "\u001b[1;31mKeyboardInterrupt\u001b[0m                         Traceback (most recent call last)",
      "Cell \u001b[1;32mIn[82], line 97\u001b[0m\n\u001b[0;32m     94\u001b[0m acc_history \u001b[38;5;241m=\u001b[39m \u001b[38;5;28mfloat\u001b[39m(\u001b[38;5;241m0\u001b[39m)  \n\u001b[0;32m     95\u001b[0m \u001b[38;5;28;01mwhile\u001b[39;00m \u001b[38;5;28;01mTrue\u001b[39;00m:\n\u001b[0;32m     96\u001b[0m     \u001b[38;5;66;03m# forward\u001b[39;00m\n\u001b[1;32m---> 97\u001b[0m     y_hat \u001b[38;5;241m=\u001b[39m \u001b[43mforward\u001b[49m\u001b[43m(\u001b[49m\u001b[43mX_train\u001b[49m\u001b[43m,\u001b[49m\u001b[43mtheta\u001b[49m\u001b[43m,\u001b[49m\u001b[43mbias\u001b[49m\u001b[43m)\u001b[49m\n\u001b[0;32m     98\u001b[0m     \u001b[38;5;66;03m# calculate loss\u001b[39;00m\n\u001b[0;32m     99\u001b[0m     loss_val \u001b[38;5;241m=\u001b[39m loss(y_train,y_hat)\n",
      "Cell \u001b[1;32mIn[82], line 47\u001b[0m, in \u001b[0;36mforward\u001b[1;34m(x, theta, bias)\u001b[0m\n\u001b[0;32m     45\u001b[0m \u001b[38;5;28;01mdef\u001b[39;00m\u001b[38;5;250m \u001b[39m\u001b[38;5;21mforward\u001b[39m(x,theta,bias):\n\u001b[0;32m     46\u001b[0m     \u001b[38;5;66;03m# linear operation (multiple)\u001b[39;00m\n\u001b[1;32m---> 47\u001b[0m     z \u001b[38;5;241m=\u001b[39m\u001b[43mnp\u001b[49m\u001b[38;5;241;43m.\u001b[39;49m\u001b[43mdot\u001b[49m\u001b[43m(\u001b[49m\u001b[43mtheta\u001b[49m\u001b[43m,\u001b[49m\u001b[43mx\u001b[49m\u001b[38;5;241;43m.\u001b[39;49m\u001b[43mT\u001b[49m\u001b[43m)\u001b[49m \u001b[38;5;241m+\u001b[39m bias\n\u001b[0;32m     48\u001b[0m     \u001b[38;5;66;03m# sigmoid\u001b[39;00m\n\u001b[0;32m     49\u001b[0m     y_hat \u001b[38;5;241m=\u001b[39m \u001b[38;5;241m1\u001b[39m \u001b[38;5;241m/\u001b[39m (\u001b[38;5;241m1\u001b[39m \u001b[38;5;241m+\u001b[39m np\u001b[38;5;241m.\u001b[39mexp(\u001b[38;5;241m-\u001b[39mz)) \n",
      "\u001b[1;31mKeyboardInterrupt\u001b[0m: "
     ]
    }
   ],
   "source": [
    "# 1. import sklearn datasets \n",
    "from sklearn.datasets import load_breast_cancer\n",
    "# This function is a utility in scikit-learn that allows you to split your dataset into training and testing subsets\n",
    "from sklearn.model_selection import train_test_split\n",
    "\n",
    "import numpy as np\n",
    "\n",
    "# save the dataset to a file\n",
    "import joblib\n",
    "\n",
    "\n",
    "# 2. 加载数据集，拆分数据集为训练集和测试集  7：3\n",
    "X ,y = load_breast_cancer( return_X_y=True, as_frame=False)\n",
    "\n",
    "X_train, X_test, y_train, y_test = train_test_split(X,y,test_size =0.3)\n",
    "\n",
    "# freatures: X.shape[1] ,X.shape[-1]\n",
    "print(\"X's features:{}\".format(X.shape[1]))\n",
    "\n",
    "# print(\"X_train:{}\".format(X_train))\n",
    "# print(\"X_test:{}\".format(X_test))\n",
    "\n",
    "# print(\"y_train:{}\".format(y_train))\n",
    "# print(\"y_test:{}\".format(y_test))\n",
    "\n",
    "# save the datatset for testing to a file\n",
    "test_dataset = {\n",
    "    \"X_test\":X_test,\n",
    "    \"y_test\":y_test\n",
    "}\n",
    "joblib.dump(test_dataset,\"breast_cancer_test_dataset.pkl\")\n",
    "\n",
    "\n",
    "\n",
    "# 3. 设定参数 ， 权重参数、超参数、训练次数\n",
    "\n",
    "theta = np.random.randn(1,30)\n",
    "bias = 0\n",
    "\n",
    "#hyper parameters\n",
    "lr = 0.35# training times\n",
    "epochs = 5000\n",
    "\n",
    "# 4. 模型的计算函数\n",
    "def forward(x,theta,bias):\n",
    "    # linear operation (multiple)\n",
    "    z =np.dot(theta,x.T) + bias\n",
    "    # sigmoid\n",
    "    y_hat = 1 / (1 + np.exp(-z)) \n",
    "    return y_hat\n",
    "\n",
    "# 5. 计算损失函数 (loss function)\n",
    "def loss(y,y_hat):\n",
    "    e = 1e-8\n",
    "    return -y * np.log(y_hat + e) - (1 -y ) * np.log(1 - y_hat + e)\n",
    "\n",
    "\n",
    "# 6. 计算梯度  ： theta (weight parameters) 、bias(weight parameters) \n",
    "def calc_gradient(x,y,y_hat):\n",
    "    # calculate gradient \n",
    "    m = x.shape[-1]\n",
    "    # calculate gradient for theta\n",
    "    delta_theta = np.dot((y_hat - y),x) / m\n",
    "    # calculate gradient for bias\n",
    "    delta_bias = np.mean(y_hat - y)\n",
    "    return delta_theta, delta_bias\n",
    "\n",
    "# 7. 模型训练过程\n",
    "# acc = float(0)\n",
    "# while True:\n",
    "    \n",
    "#     for i in range(epochs):\n",
    "#         # forward\n",
    "#         y_hat = forward(X_train,theta,bias)\n",
    "#         # calculate loss\n",
    "#         loss_val = loss(y_train,y_hat)\n",
    "#         # calculate gradient\n",
    "#         delta_theta, delta_bias = calc_gradient(X_train,y_train,y_hat)\n",
    "#         # update theta and bias\n",
    "#         theta = theta -lr * delta_theta\n",
    "#         bias = bias - lr * delta_bias\n",
    "\n",
    "#         if i % 1000 == 0:\n",
    "#             # calculate accuracy\n",
    "#             acc = np.mean(np.round(y_hat) == y_train)\n",
    "#             print(f\"epoch:{i}, loss:{np.mean(loss_val)}, acc:{acc}\")\n",
    "    \n",
    "#     if acc >= 0.95:\n",
    "#         break\n",
    "\n",
    "\n",
    "\n",
    "# lr is variable\n",
    "acc_history = float(0)  \n",
    "while True:\n",
    "    # forward\n",
    "    y_hat = forward(X_train,theta,bias)\n",
    "    # calculate loss\n",
    "    loss_val = loss(y_train,y_hat)\n",
    "    # calculate gradient\n",
    "    delta_theta, delta_bias = calc_gradient(X_train,y_train,y_hat)\n",
    "    # update theta and bias\n",
    "    theta = theta -lr * delta_theta\n",
    "    bias = bias - lr * delta_bias\n",
    "\n",
    "    if i % 100 == 0:\n",
    "        acc = np.mean(np.round(y_hat) == y_train)\n",
    "        print(f\"epoch:{i}, loss:{np.mean(loss_val)}, acc:{acc}\")\n",
    "        if acc > acc_history:\n",
    "            lr = lr * 0.3 + lr\n",
    "            \n",
    "            print(f\"lr:{lr}\",\"acc_history:{acc_history}\",\"acc:{acc}\")\n",
    "        else:\n",
    "            lr = lr - lr * 0.3\n",
    "            acc_history = acc\n",
    "            print(f\"lr:{lr}\",\"acc_history:{acc_history}\",\"acc:{acc}\")\n",
    "\n",
    "    if acc_history >= 0.95:\n",
    "        break\n",
    "            # save the model parameters to a file\n",
    "\n"
   ]
  }
 ],
 "metadata": {
  "kernelspec": {
   "display_name": "py312",
   "language": "python",
   "name": "python3"
  },
  "language_info": {
   "codemirror_mode": {
    "name": "ipython",
    "version": 3
   },
   "file_extension": ".py",
   "mimetype": "text/x-python",
   "name": "python",
   "nbconvert_exporter": "python",
   "pygments_lexer": "ipython3",
   "version": "3.12.9"
  }
 },
 "nbformat": 4,
 "nbformat_minor": 2
}
