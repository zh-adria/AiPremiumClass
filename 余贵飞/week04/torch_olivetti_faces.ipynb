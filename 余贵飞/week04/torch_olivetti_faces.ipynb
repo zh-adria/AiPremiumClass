{
 "cells": [
  {
   "cell_type": "code",
   "id": "initial_id",
   "metadata": {
    "collapsed": true,
    "ExecuteTime": {
     "end_time": "2025-03-23T01:50:06.793129Z",
     "start_time": "2025-03-23T01:50:03.045651Z"
    }
   },
   "source": [
    "# 导入相关依赖\n",
    "from sklearn.datasets import fetch_olivetti_faces\n",
    "import numpy as np\n",
    "import matplotlib.pyplot as plt\n",
    "import torch\n",
    "from sklearn.model_selection import train_test_split\n",
    "from torch import nn\n",
    "from torch import optim\n",
    "from torch.utils.data import DataLoader, TensorDataset\n"
   ],
   "outputs": [],
   "execution_count": 2
  },
  {
   "metadata": {
    "ExecuteTime": {
     "end_time": "2025-03-23T01:50:06.803018Z",
     "start_time": "2025-03-23T01:50:06.800015Z"
    }
   },
   "cell_type": "code",
   "source": [
    "# 定义超参数\n",
    "LR = 0.01\n",
    "BATCH_SIZE = 64\n",
    "EPOCHS = 100"
   ],
   "id": "cf6fad058b8f2e1e",
   "outputs": [],
   "execution_count": 3
  },
  {
   "metadata": {
    "ExecuteTime": {
     "end_time": "2025-03-23T01:50:06.826753Z",
     "start_time": "2025-03-23T01:50:06.808671Z"
    }
   },
   "cell_type": "code",
   "source": [
    "# 下载数据集\n",
    "olivetti_faces = fetch_olivetti_faces(data_home=\"../dataset/olivettiFaces\")"
   ],
   "id": "4cbd9fe501383c0c",
   "outputs": [],
   "execution_count": 4
  },
  {
   "metadata": {
    "ExecuteTime": {
     "end_time": "2025-03-23T01:50:06.844409Z",
     "start_time": "2025-03-23T01:50:06.834896Z"
    }
   },
   "cell_type": "code",
   "source": [
    "# 加载数据\n",
    "# 划分数据集\n",
    "data, target = olivetti_faces.data, olivetti_faces.target\n",
    "# 将数据划分为训练集和测试集， random_state=42 使用随机数种子确保代码每次运行时数据一致， stratify=olivetti_faces.target 按照target 维度对数据集进行分层采样，却表40个人的数据都会被采集到\n",
    "train_data, test_data, train_target, test_target = train_test_split(data, target, test_size=0.2, random_state=42, stratify=olivetti_faces.target)\n",
    "# 将特征数据与目标值组合在一起\n",
    "train_data_set = TensorDataset(torch.tensor(train_data, dtype = torch.float32), torch.tensor(train_target, dtype = torch.long))\n",
    "test_data_set = TensorDataset(torch.tensor(test_data, dtype = torch.float32), torch.tensor(test_target, dtype = torch.long))\n",
    "# 加载数据集到 DataLoader\n",
    "train_loder = DataLoader(train_data_set, batch_size=64, shuffle=True)\n",
    "test_loder = DataLoader(test_data_set, batch_size=64, shuffle=True)"
   ],
   "id": "f02a046a5d0a1f09",
   "outputs": [],
   "execution_count": 5
  },
  {
   "metadata": {
    "ExecuteTime": {
     "end_time": "2025-03-23T01:50:06.907654Z",
     "start_time": "2025-03-23T01:50:06.878022Z"
    }
   },
   "cell_type": "code",
   "source": [
    "# 定义模型\n",
    "model = nn.Sequential(\n",
    "    nn.Linear(in_features=4096, out_features=1024, bias=True),\n",
    "    nn.BatchNorm1d(num_features=1024),\n",
    "    nn.ReLU(),\n",
    "    nn.Linear(in_features=1024, out_features=512, bias=True),\n",
    "    nn.BatchNorm1d(num_features=512),\n",
    "    nn.ReLU(),\n",
    "    nn.Linear(in_features=512, out_features=256, bias=True),\n",
    "    nn.BatchNorm1d(num_features=256),\n",
    "    nn.ReLU(),\n",
    "    nn.Linear(in_features=256, out_features=128, bias=True),\n",
    "    nn.BatchNorm1d(num_features=128),\n",
    "    nn.ReLU(),\n",
    "    nn.Linear(in_features=128, out_features=40, bias=True),\n",
    ")"
   ],
   "id": "d766aa1054c2ac55",
   "outputs": [],
   "execution_count": 6
  },
  {
   "metadata": {
    "ExecuteTime": {
     "end_time": "2025-03-23T01:50:07.644252Z",
     "start_time": "2025-03-23T01:50:06.911656Z"
    }
   },
   "cell_type": "code",
   "source": [
    "# 定义损失函数及优化器\n",
    "# 使用交叉熵损失\n",
    "loss_fun = nn.CrossEntropyLoss()\n",
    "# 定义优化器\n",
    "optimizer = optim.Adam(model.parameters(), lr=LR)\n"
   ],
   "id": "e1f22c52adcb2926",
   "outputs": [],
   "execution_count": 7
  },
  {
   "metadata": {
    "ExecuteTime": {
     "end_time": "2025-03-23T01:50:20.630277Z",
     "start_time": "2025-03-23T01:50:07.654230Z"
    }
   },
   "cell_type": "code",
   "source": [
    "history_loss = []\n",
    "# 开始训练\n",
    "for epoch in range(EPOCHS):\n",
    "    for data, target in train_loder:\n",
    "        optimizer.zero_grad() # 累计梯度清零\n",
    "        # 前向计算\n",
    "        out = model(data)\n",
    "        # 计算损失\n",
    "        loss = loss_fun(out, target)\n",
    "        # 反向传播计算梯度\n",
    "        loss.backward()\n",
    "        # 更新参数\n",
    "        optimizer.step()\n",
    "    history_loss.append(loss.item())\n",
    "    print(f'epoch {epoch}, loss {loss.item()}')\n",
    "# 绘制损失与训练轮数的变化\n",
    "plt_x = range(0, EPOCHS, 1)\n",
    "plt.plot(plt_x, history_loss)\n",
    "plt.show()"
   ],
   "id": "f6c1729ff840e84a",
   "outputs": [
    {
     "name": "stdout",
     "output_type": "stream",
     "text": [
      "epoch 0, loss 3.0383737087249756\n",
      "epoch 1, loss 2.0611846446990967\n",
      "epoch 2, loss 1.2300316095352173\n",
      "epoch 3, loss 0.8498944044113159\n",
      "epoch 4, loss 0.4531306028366089\n",
      "epoch 5, loss 0.26734665036201477\n",
      "epoch 6, loss 0.1245456114411354\n",
      "epoch 7, loss 0.05585751682519913\n",
      "epoch 8, loss 0.052620433270931244\n",
      "epoch 9, loss 0.02976112626492977\n",
      "epoch 10, loss 0.05118286609649658\n",
      "epoch 11, loss 0.020990589633584023\n",
      "epoch 12, loss 0.07494205981492996\n",
      "epoch 13, loss 0.010314364917576313\n",
      "epoch 14, loss 0.008771412074565887\n",
      "epoch 15, loss 0.004649206530302763\n",
      "epoch 16, loss 0.006535982247442007\n",
      "epoch 17, loss 0.0068246484734117985\n",
      "epoch 18, loss 0.018358897417783737\n",
      "epoch 19, loss 0.014492511749267578\n",
      "epoch 20, loss 0.007135441992431879\n",
      "epoch 21, loss 0.010782163590192795\n",
      "epoch 22, loss 0.004937285557389259\n",
      "epoch 23, loss 0.00222766469232738\n",
      "epoch 24, loss 0.1048169657588005\n",
      "epoch 25, loss 0.002359879668802023\n",
      "epoch 26, loss 0.0018765722634270787\n",
      "epoch 27, loss 0.0023635737597942352\n",
      "epoch 28, loss 0.004576497711241245\n",
      "epoch 29, loss 0.03784601390361786\n",
      "epoch 30, loss 0.0019402549369260669\n",
      "epoch 31, loss 0.09119363129138947\n",
      "epoch 32, loss 0.023871270939707756\n",
      "epoch 33, loss 0.008282167837023735\n",
      "epoch 34, loss 0.03837274760007858\n",
      "epoch 35, loss 0.059719547629356384\n",
      "epoch 36, loss 0.04916341230273247\n",
      "epoch 37, loss 0.01097606960684061\n",
      "epoch 38, loss 0.0817556381225586\n",
      "epoch 39, loss 0.02944990247488022\n",
      "epoch 40, loss 0.12021233141422272\n",
      "epoch 41, loss 0.018216295167803764\n",
      "epoch 42, loss 0.07716069370508194\n",
      "epoch 43, loss 0.032204847782850266\n",
      "epoch 44, loss 0.05673407018184662\n",
      "epoch 45, loss 0.015239414758980274\n",
      "epoch 46, loss 0.01169274840503931\n",
      "epoch 47, loss 0.04690442606806755\n",
      "epoch 48, loss 0.007714095525443554\n",
      "epoch 49, loss 0.05349164456129074\n",
      "epoch 50, loss 0.4166998565196991\n",
      "epoch 51, loss 0.13525661826133728\n",
      "epoch 52, loss 0.0668870210647583\n",
      "epoch 53, loss 0.07628821581602097\n",
      "epoch 54, loss 0.026958726346492767\n",
      "epoch 55, loss 0.03680814057588577\n",
      "epoch 56, loss 0.04234994947910309\n",
      "epoch 57, loss 0.007933530025184155\n",
      "epoch 58, loss 0.0024130167439579964\n",
      "epoch 59, loss 0.001752208569087088\n",
      "epoch 60, loss 0.0024619626346975565\n",
      "epoch 61, loss 0.002541154157370329\n",
      "epoch 62, loss 0.001856093411333859\n",
      "epoch 63, loss 0.0019529379205778241\n",
      "epoch 64, loss 0.0022706594318151474\n",
      "epoch 65, loss 0.0008485980797559023\n",
      "epoch 66, loss 0.000702504999935627\n",
      "epoch 67, loss 0.0005086392047815025\n",
      "epoch 68, loss 0.0008844303083606064\n",
      "epoch 69, loss 0.00048592491657473147\n",
      "epoch 70, loss 0.00046493374975398183\n",
      "epoch 71, loss 0.00026951043400913477\n",
      "epoch 72, loss 0.0005363496020436287\n",
      "epoch 73, loss 0.0005514807999134064\n",
      "epoch 74, loss 0.0012808975297957659\n",
      "epoch 75, loss 0.00014338760229293257\n",
      "epoch 76, loss 0.0013255950761958957\n",
      "epoch 77, loss 0.00032120413379743695\n",
      "epoch 78, loss 0.0004858353640884161\n",
      "epoch 79, loss 0.00023245492775458843\n",
      "epoch 80, loss 0.00019450782565400004\n",
      "epoch 81, loss 0.00027014975785277784\n",
      "epoch 82, loss 0.0003133222053293139\n",
      "epoch 83, loss 0.00026668180362321436\n",
      "epoch 84, loss 0.0001987996802199632\n",
      "epoch 85, loss 0.0005961426650173962\n",
      "epoch 86, loss 0.00041442556539550424\n",
      "epoch 87, loss 0.00033229446853511035\n",
      "epoch 88, loss 0.00026844916283153\n",
      "epoch 89, loss 0.0001769343507476151\n",
      "epoch 90, loss 0.00011300620099063963\n",
      "epoch 91, loss 0.0001294880930799991\n",
      "epoch 92, loss 0.00014629092765972018\n",
      "epoch 93, loss 0.00016028672689571977\n",
      "epoch 94, loss 0.00016798876458778977\n",
      "epoch 95, loss 0.0002576886327005923\n",
      "epoch 96, loss 0.0001509305729996413\n",
      "epoch 97, loss 0.00015621121565345675\n",
      "epoch 98, loss 0.00030206621158868074\n",
      "epoch 99, loss 0.00010461545753059909\n"
     ]
    },
    {
     "data": {
      "text/plain": [
       "<Figure size 640x480 with 1 Axes>"
      ],
      "image/png": "[encoded data removed]"
     },
     "metadata": {},
     "output_type": "display_data"
    }
   ],
   "execution_count": 8
  },
  {
   "metadata": {
    "ExecuteTime": {
     "end_time": "2025-03-23T01:50:25.093649Z",
     "start_time": "2025-03-23T01:50:25.083641Z"
    }
   },
   "cell_type": "code",
   "source": [
    "# 测试\n",
    "correct = 0\n",
    "total = 0\n",
    "with torch.no_grad():\n",
    "    for data, target in test_loder:\n",
    "        out = model(data)\n",
    "        pred = torch.argmax(out, dim=1)\n",
    "        correct += pred.eq(target.view_as(pred)).sum().item()\n",
    "        total += data.shape[0]\n",
    "    print(f'accuracy {100 * correct / total:.2f}%')\n"
   ],
   "id": "8122aa53b634adc8",
   "outputs": [
    {
     "name": "stdout",
     "output_type": "stream",
     "text": [
      "accuracy 96.25%\n"
     ]
    }
   ],
   "execution_count": 10
  }
 ],
 "metadata": {
  "kernelspec": {
   "display_name": "Python 3",
   "language": "python",
   "name": "python3"
  },
  "language_info": {
   "codemirror_mode": {
    "name": "ipython",
    "version": 2
   },
   "file_extension": ".py",
   "mimetype": "text/x-python",
   "name": "python",
   "nbconvert_exporter": "python",
   "pygments_lexer": "ipython2",
   "version": "2.7.6"
  }
 },
 "nbformat": 4,
 "nbformat_minor": 5
}
