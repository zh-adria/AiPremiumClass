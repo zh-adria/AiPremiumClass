{
 "cells": [
  {
   "metadata": {},
   "cell_type": "markdown",
   "source": "pytorch KMNIST 数据集神经网络搭建及训练",
   "id": "a468825fe0a5968d"
  },
  {
   "metadata": {
    "ExecuteTime": {
     "end_time": "2025-03-14T14:20:27.860047Z",
     "start_time": "2025-03-14T14:20:27.856323Z"
    }
   },
   "cell_type": "code",
   "source": [
    "# 导入相关依赖包\n",
    "import numpy as np\n",
    "import torch\n",
    "from torch import nn\n",
    "from torch import optim\n",
    "from torch.utils.data import DataLoader\n",
    "from torchvision import datasets, transforms\n",
    "import matplotlib.pyplot as plt\n",
    "from torchvision.transforms.v2 import ToTensor"
   ],
   "id": "84c4742c94572fb7",
   "outputs": [],
   "execution_count": 78
  },
  {
   "metadata": {
    "ExecuteTime": {
     "end_time": "2025-03-14T14:58:51.625956Z",
     "start_time": "2025-03-14T14:58:51.623224Z"
    }
   },
   "cell_type": "code",
   "source": [
    "# 超参数定义\n",
    "LR = 0.01 # 学习率\n",
    "BATCH_SIZE = 128 # 数据批量大小\n",
    "EPOCHS = 60 # 训练轮数"
   ],
   "id": "817f627461e82aa1",
   "outputs": [],
   "execution_count": 138
  },
  {
   "metadata": {
    "ExecuteTime": {
     "end_time": "2025-03-14T14:58:54.247616Z",
     "start_time": "2025-03-14T14:58:54.206063Z"
    }
   },
   "cell_type": "code",
   "source": [
    "# 数据准备\n",
    "data_train = datasets.KMNIST(\n",
    "    root='../dataset',\n",
    "    download=True,\n",
    "    train=True,\n",
    "    transform=ToTensor(),\n",
    ")\n",
    "data_test = datasets.KMNIST(\n",
    "    root='../dataset',\n",
    "    download=True,\n",
    "    train=False,\n",
    "    transform=ToTensor(),\n",
    ")"
   ],
   "id": "2e8bf8287491bc19",
   "outputs": [],
   "execution_count": 139
  },
  {
   "metadata": {
    "ExecuteTime": {
     "end_time": "2025-03-14T14:58:56.604812Z",
     "start_time": "2025-03-14T14:58:56.598775Z"
    }
   },
   "cell_type": "code",
   "source": [
    "# 数据批量化加载\n",
    "train_loader = DataLoader(data_train, batch_size=BATCH_SIZE, shuffle=True) # shuffle=true 随机打乱数据，增肌模型训练结果的泛化能力\n",
    "test_loader = DataLoader(data_test, batch_size=BATCH_SIZE, shuffle=True)"
   ],
   "id": "14f4b12c69bed393",
   "outputs": [],
   "execution_count": 140
  },
  {
   "metadata": {
    "ExecuteTime": {
     "end_time": "2025-03-14T14:58:59.106927Z",
     "start_time": "2025-03-14T14:58:59.103298Z"
    }
   },
   "cell_type": "code",
   "source": [
    "# 模型构建\n",
    "model = torch.nn.Sequential(\n",
    "    # 将图片转换为 shape(, 784) 输入项 784个特征， 神经元数量 128\n",
    "    nn.Linear(in_features=28 * 28, out_features=128),\n",
    "    # 使用RELU 损失函数\n",
    "    nn.ReLU(),\n",
    "    # 输出层，输入128个特征，输出 10个类别的预测值\n",
    "    nn.Linear(in_features=128, out_features=10)\n",
    ")"
   ],
   "id": "6030445b2cc7bad1",
   "outputs": [],
   "execution_count": 141
  },
  {
   "metadata": {
    "ExecuteTime": {
     "end_time": "2025-03-14T14:59:01.671868Z",
     "start_time": "2025-03-14T14:59:01.669143Z"
    }
   },
   "cell_type": "code",
   "source": [
    "# 定义损失函数\n",
    "loss_function = nn.CrossEntropyLoss() # 使用交叉熵损失"
   ],
   "id": "4067931b40c408d6",
   "outputs": [],
   "execution_count": 142
  },
  {
   "metadata": {
    "ExecuteTime": {
     "end_time": "2025-03-14T14:59:04.257718Z",
     "start_time": "2025-03-14T14:59:04.254229Z"
    }
   },
   "cell_type": "code",
   "source": [
    "# 定义优化器\n",
    "optimizer = optim.SGD(model.parameters(), lr=LR, momentum=0.9, nesterov=True)"
   ],
   "id": "3d8a892297f56d39",
   "outputs": [],
   "execution_count": 143
  },
  {
   "metadata": {
    "ExecuteTime": {
     "end_time": "2025-03-14T15:04:59.746870Z",
     "start_time": "2025-03-14T14:59:05.798657Z"
    }
   },
   "cell_type": "code",
   "source": [
    "loss_history = []\n",
    "# 开始模型训练\n",
    "for epoch in range(EPOCHS):\n",
    "    # 批量加载训练数据\n",
    "    for images, labels in train_loader:\n",
    "        # 前向计算\n",
    "        out = model(images.reshape(-1, 28 * 28))\n",
    "        # 计算损失\n",
    "        loss = loss_function(out, labels)\n",
    "        # 梯度计算\n",
    "        optimizer.zero_grad() # 参数累计梯度清零\n",
    "        loss.backward() # 反向传播计算梯度\n",
    "        # 更新参数\n",
    "        optimizer.step()\n",
    "    loss_history.append(loss.item())\n",
    "    print(f'epoch {epoch}, loss {loss.item()}')\n",
    "\n",
    "# 绘制损失与训练轮数的变化\n",
    "plt_x = range(0, EPOCHS, 1)\n",
    "plt.plot(plt_x, loss_history)\n",
    "plt.show()\n",
    "# 保存模型参数（路径推荐使用.pt或.pth后缀）\n",
    "torch.save(model, 'model_complete.pt')"
   ],
   "id": "503db40e82383268",
   "outputs": [
    {
     "name": "stdout",
     "output_type": "stream",
     "text": [
      "epoch 0, loss 0.5157580971717834\n",
      "epoch 1, loss 0.3525071442127228\n",
      "epoch 2, loss 0.4351678788661957\n",
      "epoch 3, loss 0.4956175982952118\n",
      "epoch 4, loss 0.3416694700717926\n",
      "epoch 5, loss 0.14980433881282806\n",
      "epoch 6, loss 0.20677639544010162\n",
      "epoch 7, loss 0.21504837274551392\n",
      "epoch 8, loss 0.040004756301641464\n",
      "epoch 9, loss 0.14728471636772156\n",
      "epoch 10, loss 0.12309222668409348\n",
      "epoch 11, loss 0.12420982867479324\n",
      "epoch 12, loss 0.13434971868991852\n",
      "epoch 13, loss 0.05707421526312828\n",
      "epoch 14, loss 0.04201870784163475\n",
      "epoch 15, loss 0.12992213666439056\n",
      "epoch 16, loss 0.14533546566963196\n",
      "epoch 17, loss 0.052694980055093765\n",
      "epoch 18, loss 0.041235800832509995\n",
      "epoch 19, loss 0.07193052768707275\n",
      "epoch 20, loss 0.08065403997898102\n",
      "epoch 21, loss 0.034096818417310715\n",
      "epoch 22, loss 0.03973764181137085\n",
      "epoch 23, loss 0.06469980627298355\n",
      "epoch 24, loss 0.026626264676451683\n",
      "epoch 25, loss 0.06720075011253357\n",
      "epoch 26, loss 0.033444833010435104\n",
      "epoch 27, loss 0.13602031767368317\n",
      "epoch 28, loss 0.13437309861183167\n",
      "epoch 29, loss 0.02370249666273594\n",
      "epoch 30, loss 0.03697183355689049\n",
      "epoch 31, loss 0.0666210949420929\n",
      "epoch 32, loss 0.026098044589161873\n",
      "epoch 33, loss 0.0528719536960125\n",
      "epoch 34, loss 0.03531602770090103\n",
      "epoch 35, loss 0.022317131981253624\n",
      "epoch 36, loss 0.021372519433498383\n",
      "epoch 37, loss 0.04434590041637421\n",
      "epoch 38, loss 0.0230343509465456\n",
      "epoch 39, loss 0.01670270599424839\n",
      "epoch 40, loss 0.019735591486096382\n",
      "epoch 41, loss 0.011427231132984161\n",
      "epoch 42, loss 0.023593289777636528\n",
      "epoch 43, loss 0.011705161072313786\n",
      "epoch 44, loss 0.015120957978069782\n",
      "epoch 45, loss 0.008553491905331612\n",
      "epoch 46, loss 0.016922008246183395\n",
      "epoch 47, loss 0.023836469277739525\n",
      "epoch 48, loss 0.019937880337238312\n",
      "epoch 49, loss 0.01673414185643196\n",
      "epoch 50, loss 0.013175650499761105\n",
      "epoch 51, loss 0.014541343785822392\n",
      "epoch 52, loss 0.01637318544089794\n",
      "epoch 53, loss 0.008244776166975498\n",
      "epoch 54, loss 0.0040653483010828495\n",
      "epoch 55, loss 0.014048361219465733\n",
      "epoch 56, loss 0.01234523206949234\n",
      "epoch 57, loss 0.010392659343779087\n",
      "epoch 58, loss 0.004661920014768839\n",
      "epoch 59, loss 0.006137112621217966\n"
     ]
    },
    {
     "data": {
      "text/plain": [
       "<Figure size 640x480 with 1 Axes>"
      ],
      "image/png": "[encoded data removed]"
     },
     "metadata": {},
     "output_type": "display_data"
    }
   ],
   "execution_count": 144
  },
  {
   "metadata": {
    "ExecuteTime": {
     "end_time": "2025-03-14T15:05:23.603126Z",
     "start_time": "2025-03-14T15:05:22.617535Z"
    }
   },
   "cell_type": "code",
   "source": [
    "# 测试\n",
    "correct = 0\n",
    "total = 0\n",
    "with torch.no_grad():\n",
    "    for data, target in test_loader:\n",
    "        output = model(data.reshape(-1, 28 * 28))\n",
    "        _, predicted = torch.max(output.data, 1)\n",
    "        total += target.size(0)\n",
    "        correct += predicted.eq(target.data).sum().item()\n",
    "    print(f'accuracy {100 * correct / total:.2f}%')"
   ],
   "id": "adb7a1d92ed6047e",
   "outputs": [
    {
     "name": "stdout",
     "output_type": "stream",
     "text": [
      "accuracy 88.94%\n"
     ]
    }
   ],
   "execution_count": 145
  }
 ],
 "metadata": {
  "kernelspec": {
   "display_name": "Python 3",
   "language": "python",
   "name": "python3"
  },
  "language_info": {
   "codemirror_mode": {
    "name": "ipython",
    "version": 2
   },
   "file_extension": ".py",
   "mimetype": "text/x-python",
   "name": "python",
   "nbconvert_exporter": "python",
   "pygments_lexer": "ipython2",
   "version": "2.7.6"
  }
 },
 "nbformat": 4,
 "nbformat_minor": 5
}
