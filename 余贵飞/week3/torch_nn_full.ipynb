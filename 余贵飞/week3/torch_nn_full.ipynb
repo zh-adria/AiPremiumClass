{
 "cells": [
  {
   "metadata": {},
   "cell_type": "markdown",
   "source": "pytorch fashionmnist 数据集 神经网络搭建和训练",
   "id": "3a58118646780c68"
  },
  {
   "metadata": {
    "ExecuteTime": {
     "end_time": "2025-03-14T12:16:16.506473Z",
     "start_time": "2025-03-14T12:16:11.970485Z"
    }
   },
   "cell_type": "code",
   "source": [
    "# 导入必要依赖\n",
    "import torch\n",
    "import torch.nn as nn\n",
    "from torch import optim as optim\n",
    "from torchvision.datasets import FashionMNIST\n",
    "from torchvision import transforms\n",
    "from torchvision.transforms.v2 import ToTensor, Compose\n",
    "from torch.utils.data import DataLoader # 数据加载器\n",
    "import matplotlib.pyplot as plt\n",
    "import numpy as np\n"
   ],
   "id": "c107f13e1e98dac8",
   "outputs": [],
   "execution_count": 1
  },
  {
   "metadata": {
    "ExecuteTime": {
     "end_time": "2025-03-14T12:30:59.762866Z",
     "start_time": "2025-03-14T12:30:59.759857Z"
    }
   },
   "cell_type": "code",
   "source": [
    "# 定义超参数\n",
    "LR = 0.001 # 学习率\n",
    "epochs = 50 # 学习轮数\n",
    "BATCH_SIZE = 32"
   ],
   "id": "e0eb68ac084ae3ce",
   "outputs": [],
   "execution_count": 35
  },
  {
   "metadata": {
    "ExecuteTime": {
     "end_time": "2025-03-14T13:57:54.271717Z",
     "start_time": "2025-03-14T13:57:54.238703Z"
    }
   },
   "cell_type": "code",
   "source": [
    "# 加载数据\n",
    "train_data = FashionMNIST(\n",
    "        root='../dataset/FashionMNIST',\n",
    "        train=True, # 是否下载训练数据库集 true -> 下载训练集 false -> 下载测试集\n",
    "        download=True, # 是否下载，true -> 下载数据，如果以及下载了，不会再下载\n",
    "        transform=ToTensor()\n",
    "        )\n",
    "test_data = FashionMNIST(\n",
    "        root='../dataset/FashionMNIST',\n",
    "        train=False, # 是否下载训练数据库集 true -> 下载训练集 false -> 下载测试集\n",
    "        download=True, # 是否下载，true -> 下载数据，如果以及下载了，不会再下载\n",
    "        transform=ToTensor()\n",
    "    )"
   ],
   "id": "7a109c64ee450ed3",
   "outputs": [
    {
     "name": "stderr",
     "output_type": "stream",
     "text": [
      "D:\\Anaconda3-2020\\anaconda\\envs\\pytorch_study\\Lib\\site-packages\\torchvision\\transforms\\v2\\_deprecated.py:42: UserWarning: The transform `ToTensor()` is deprecated and will be removed in a future release. Instead, please use `v2.Compose([v2.ToImage(), v2.ToDtype(torch.float32, scale=True)])`.Output is equivalent up to float precision.\n",
      "  warnings.warn(\n"
     ]
    }
   ],
   "execution_count": 50
  },
  {
   "metadata": {
    "ExecuteTime": {
     "end_time": "2025-03-14T12:31:03.324624Z",
     "start_time": "2025-03-14T12:31:03.320150Z"
    }
   },
   "cell_type": "code",
   "source": [
    "train_loader = DataLoader(train_data, batch_size=BATCH_SIZE, shuffle=True) # shuffle=True 随机打乱数据集\n",
    "test_loader = DataLoader(test_data, batch_size=BATCH_SIZE, shuffle=True)\n"
   ],
   "id": "3056e345056877b5",
   "outputs": [],
   "execution_count": 37
  },
  {
   "metadata": {
    "ExecuteTime": {
     "end_time": "2025-03-14T12:31:05.458877Z",
     "start_time": "2025-03-14T12:31:05.455596Z"
    }
   },
   "cell_type": "code",
   "source": [
    "# 定义模型\n",
    "model = nn.Sequential(\n",
    "    # 第一层隐藏层\n",
    "    nn.Linear(in_features=784,out_features=64), # 784个特征 128 个神经元\n",
    "    nn.ReLU(),\n",
    "    # 输出层\n",
    "    nn.Linear(in_features=64,out_features=10) # 128个特征 10个输出值\n",
    ")"
   ],
   "id": "b6e652b6aa86360e",
   "outputs": [],
   "execution_count": 38
  },
  {
   "metadata": {
    "ExecuteTime": {
     "end_time": "2025-03-14T12:31:08.161192Z",
     "start_time": "2025-03-14T12:31:08.157812Z"
    }
   },
   "cell_type": "code",
   "source": [
    "# 定义损失函数\n",
    "loss_fun = nn.CrossEntropyLoss()"
   ],
   "id": "9c9faefad62e481d",
   "outputs": [],
   "execution_count": 39
  },
  {
   "metadata": {
    "ExecuteTime": {
     "end_time": "2025-03-14T12:31:09.452155Z",
     "start_time": "2025-03-14T12:31:09.449331Z"
    }
   },
   "cell_type": "code",
   "source": [
    "# 定义优化器\n",
    "optimizer = optim.SGD(model.parameters(), lr=LR, momentum=0.9)"
   ],
   "id": "8b75e0c3a683859a",
   "outputs": [],
   "execution_count": 40
  },
  {
   "metadata": {
    "ExecuteTime": {
     "end_time": "2025-03-14T12:36:42.612912Z",
     "start_time": "2025-03-14T12:31:11.439773Z"
    }
   },
   "cell_type": "code",
   "source": [
    "# 模型训练\n",
    "losses = []\n",
    "for epoch in range(epochs):\n",
    "    # 提取训练数据\n",
    "    for data, target in train_loader:\n",
    "        # 向前运算\n",
    "        output = model(data.reshape(-1, 784))\n",
    "        # 计算损失\n",
    "        loss = loss_fun(output, target)\n",
    "        # 反向传播\n",
    "        optimizer.zero_grad() # 所有参数梯度清零\n",
    "        loss.backward() # 反向传播计算梯度\n",
    "        optimizer.step() # 更新参数\n",
    "    losses.append(loss.item())\n",
    "    print(f'epoch {epoch}, loss {loss.item():.4f}')"
   ],
   "id": "27465ba1c560f1d9",
   "outputs": [
    {
     "name": "stdout",
     "output_type": "stream",
     "text": [
      "epoch 0, loss 0.5938\n",
      "epoch 1, loss 0.3504\n",
      "epoch 2, loss 0.4434\n",
      "epoch 3, loss 0.5674\n",
      "epoch 4, loss 0.3389\n",
      "epoch 5, loss 0.5024\n",
      "epoch 6, loss 0.5828\n",
      "epoch 7, loss 0.4533\n",
      "epoch 8, loss 0.3639\n",
      "epoch 9, loss 0.5053\n",
      "epoch 10, loss 0.3906\n",
      "epoch 11, loss 0.3143\n",
      "epoch 12, loss 0.4595\n",
      "epoch 13, loss 0.3071\n",
      "epoch 14, loss 0.2977\n",
      "epoch 15, loss 0.4281\n",
      "epoch 16, loss 0.4900\n",
      "epoch 17, loss 0.5096\n",
      "epoch 18, loss 0.3298\n",
      "epoch 19, loss 0.2165\n",
      "epoch 20, loss 0.2155\n",
      "epoch 21, loss 0.2715\n",
      "epoch 22, loss 0.2383\n",
      "epoch 23, loss 0.5162\n",
      "epoch 24, loss 0.2923\n",
      "epoch 25, loss 0.1998\n",
      "epoch 26, loss 0.2659\n",
      "epoch 27, loss 0.6193\n",
      "epoch 28, loss 0.2127\n",
      "epoch 29, loss 0.6259\n",
      "epoch 30, loss 0.3850\n",
      "epoch 31, loss 0.2613\n",
      "epoch 32, loss 0.2437\n",
      "epoch 33, loss 0.3955\n",
      "epoch 34, loss 0.1204\n",
      "epoch 35, loss 0.2351\n",
      "epoch 36, loss 0.4115\n",
      "epoch 37, loss 0.3603\n",
      "epoch 38, loss 0.2916\n",
      "epoch 39, loss 0.3918\n",
      "epoch 40, loss 0.1306\n",
      "epoch 41, loss 0.1400\n",
      "epoch 42, loss 0.3051\n",
      "epoch 43, loss 0.1942\n",
      "epoch 44, loss 0.1816\n",
      "epoch 45, loss 0.1012\n",
      "epoch 46, loss 0.1872\n",
      "epoch 47, loss 0.2590\n",
      "epoch 48, loss 0.2085\n",
      "epoch 49, loss 0.2366\n"
     ]
    }
   ],
   "execution_count": 41
  },
  {
   "metadata": {
    "ExecuteTime": {
     "end_time": "2025-03-14T12:40:48.134514Z",
     "start_time": "2025-03-14T12:40:48.076953Z"
    }
   },
   "cell_type": "code",
   "source": [
    "plot_x = np.arange(0, epochs, 1)\n",
    "plt.plot(plot_x, losses)\n",
    "plt.show()"
   ],
   "id": "3a648ff0341af953",
   "outputs": [
    {
     "data": {
      "text/plain": [
       "<Figure size 640x480 with 1 Axes>"
      ],
      "image/png": "[encoded data removed]"
     },
     "metadata": {},
     "output_type": "display_data"
    }
   ],
   "execution_count": 42
  },
  {
   "metadata": {
    "ExecuteTime": {
     "end_time": "2025-03-14T12:40:51.729873Z",
     "start_time": "2025-03-14T12:40:50.769080Z"
    }
   },
   "cell_type": "code",
   "source": [
    "# 测试\n",
    "correct = 0\n",
    "total = 0\n",
    "with torch.no_grad():\n",
    "    for data, target in test_loader:\n",
    "        output = model(data.reshape(-1, 784))\n",
    "        _, predicted = torch.max(output.data, 1)\n",
    "        total += target.size(0)\n",
    "        correct += predicted.eq(target.data).sum().item()\n",
    "    print(f'accuracy {100 * correct / total:.2f}%')"
   ],
   "id": "19bdae61e90efc3c",
   "outputs": [
    {
     "name": "stdout",
     "output_type": "stream",
     "text": [
      "accuracy 87.20%\n"
     ]
    }
   ],
   "execution_count": 43
  },
  {
   "metadata": {
    "ExecuteTime": {
     "end_time": "2025-03-13T16:42:03.627943Z",
     "start_time": "2025-03-13T16:42:03.624292Z"
    }
   },
   "cell_type": "code",
   "source": "predicted",
   "id": "9055736abed1eb1c",
   "outputs": [
    {
     "data": {
      "text/plain": [
       "tensor([5, 8, 4, 9, 2, 7, 4, 9, 3, 1, 0, 0, 1, 9, 3, 2])"
      ]
     },
     "execution_count": 147,
     "metadata": {},
     "output_type": "execute_result"
    }
   ],
   "execution_count": 147
  },
  {
   "metadata": {
    "ExecuteTime": {
     "end_time": "2025-03-13T16:42:05.535256Z",
     "start_time": "2025-03-13T16:42:05.521267Z"
    }
   },
   "cell_type": "code",
   "source": "target",
   "id": "755fe0b335b3b625",
   "outputs": [
    {
     "data": {
      "text/plain": [
       "tensor([5, 4, 2, 9, 2, 7, 6, 9, 3, 1, 0, 6, 1, 9, 2, 2])"
      ]
     },
     "execution_count": 148,
     "metadata": {},
     "output_type": "execute_result"
    }
   ],
   "execution_count": 148
  },
  {
   "metadata": {
    "ExecuteTime": {
     "end_time": "2025-03-13T16:42:09.862267Z",
     "start_time": "2025-03-13T16:42:09.849293Z"
    }
   },
   "cell_type": "code",
   "source": "(predicted == target).int().sum().item()",
   "id": "b887dff805a88588",
   "outputs": [
    {
     "data": {
      "text/plain": [
       "11"
      ]
     },
     "execution_count": 149,
     "metadata": {},
     "output_type": "execute_result"
    }
   ],
   "execution_count": 149
  }
 ],
 "metadata": {
  "kernelspec": {
   "display_name": "Python 3",
   "language": "python",
   "name": "python3"
  },
  "language_info": {
   "codemirror_mode": {
    "name": "ipython",
    "version": 2
   },
   "file_extension": ".py",
   "mimetype": "text/x-python",
   "name": "python",
   "nbconvert_exporter": "python",
   "pygments_lexer": "ipython2",
   "version": "2.7.6"
  }
 },
 "nbformat": 4,
 "nbformat_minor": 5
}
