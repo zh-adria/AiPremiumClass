#导入numpy
import numpy as np
# 创建ndarray数组

arr = np.array([12,5432,123,677], int)
arr
#将传统python数组放到np中输出
b = [1,2,3]
c=np.array(b)
c
a = np.array([(1,2,3), (4,5,6), (7,8,9),(1,2,3)],float)
a
a1 = np.zeros((3,1), dtype=np.float32)
a1
b1 = np.ones((2,2), dtype = np.int32)
b1*2
#等差数列
a2 = np.arange(-3,10, 0.25)
a2
a3 = np.eye(3, dtype = np.int32)
a3  # one-hot编码
a4 = np.random.random(5)  # 模型运算参数初始值
a4
a5 = np.random.normal(0, 9, 4)  # 模型运算参数初始值    正态分布（np.random.normal(均值, 标准差, 样本数)）
a5
a6 = np.array([(1,2,3), (3,4,3), (5,6,3)])
print(a6)
print()
print(a6[:,2])    #输出所有行的第三列，整体的第三列
print()
print(a6[2,:])    #输出所有列的第三行，整体的第三行
print()           #
print(a6[2])      #输出所有列的第三行，整体的第三行
print()
print(a6[1:,:])   #输出从第二行开始到结束的整行数组，包括第二行
print()
print(a6[:,:1])   #输出从第2列以前的整列数组，不包括第二列 
print()
print(a6[:1])     #输出第一行数组
print()
print(a6[1:])     #输出第一行以后的所有数组，不包括第一行
print()
print(a6[1][1])   #输出第二行第二列数字


#（）中不带","分隔符的，均为输出XXX行
#数组遍历
a7 = np.array([(1,2,5,6,7), (3,4,12,1,45), (5,6,1,2,89)])    
# i,j = a7[0]
for i,j,a,b,c in a7:    #for后面参数个数必须与数组列数对应一致
    print(i,j,a,b,c)    #随意输出元素
    print(i,c)          #随意输出元素
a = np.array([(1,2,3), (4,5,6), (7,8,9)])    #二维数组
print("ndim:", a.ndim)
print("shape:", a.shape)
print("size", a.size)
print("dtype", a.dtype)
print()

a1 = np.array([(9,6,3), (3,7,8), (9,2,5)]) 
b = np.array([a,a1])                         #三维数组
print("ndim:", b.ndim)
print("shape:", b.shape)
print("size", b.size)
print("dtype", b.dtype)
print()
print(b)
a = np.array([[(1,2,3)], [(1,2,3)], [(1,2,3)]])  #三维数组
print("ndim:", a.ndim)
print("shape:", a.shape)
print("size", a.size)
print("dtype", a.dtype)
print(a)
a = np.array([(1,2,3), (4,5,6), (7,8,9)])
print("ndim:", a.ndim)
print("shape:", a.shape)
print("size", a.size)
print("dtype", a.dtype)
print(3 in a)

print((1,2,3) in a)
a7 = np.arange(1,10)
print(a7)
print(a7.shape)  #输出a7的维度

a7 = a7.reshape(9,1,1)  # 维度大小乘积 == 元素个数
print(a7)

print(a7.shape)  # 高维矩阵，每个维度都有含义

# 加载图像数据
# img.shape [1,3,120,120] 1个样本，3颜色特征通道，120高，120宽

print(a)
a = a.T
print(a)
b = np.array([(1,2), (4,5), (7,8)])
b = b.T
print(b)
print()
d = np.zeros((3,1))
print(d)
d = d.T
print(d)
print()
e = np.zeros((3,1,1))
print(e)
e = e.T
print(e)
a = np.array([(1,2), (4,5), (7,8)])
print(a)
a = a.flatten()
print(a)
a8 = np.array([(1,2), (3,4), (5,6)])
print(a8)
print(a8.shape)
a8 = a8[:,:,np.newaxis,np.newaxis]  # [3,1,2]
print()
print(a8)
a8.shape
a = np.ones((2,2))
b = np.array([(-1,1),(-1,1)])
print(a)
print(b)
print()
print(a+b)
print()
print(a-b)
a.sum()  #求和
a.prod()  #求积
# 数组，矩阵、维度

# 数组、矩阵  ： 数据组织结构形式

# 维度： 通讯地址
a = np.array([5,3,1])
print("mean:",a.mean())  #平均值
print("var:", a.var())   #方差
print("std:", a.std())   #标准差
print("max:", a.max())   #最大值
print("min:", a.min())   #最小值

a = np.array([1.02, 3.8, 4.9])
print("argmax:", a.argmax()) # 最大值的索引
print("argmin:", a.argmin()) # 最小值的索引

print("ceil:", np.ceil(a))  # 向上取整
print("floor:", np.floor(a)) # 向下取整
print("rint:", np.rint(a))  # 四舍五入
b8 = np.array([1, 1, 1])
print("argmax:", b8.argmax()) # 最大值的索引
print("argmin:", b8.argmin()) # 最小值的索引

print("ceil:", np.ceil(b8))  # 向上取整
print("floor:", np.floor(b8)) # 向下取整
print("rint:", np.rint(b8))  # 四舍五入
a = np.array([16,31,12,28,22,31,48])
a.sort()  # 排序   升序排序
a
import torch
tensor = torch.arange(1,10, dtype=torch.float32).reshape(3, 3)

print(tensor.dtype)

# 计算两个张量之间矩阵乘法的几种方式。 y1, y2, y3 最后的值是一样的 dot
y1 = tensor @ tensor.T
y2 = tensor.matmul(tensor.T)

y3 = torch.rand_like(tensor)
torch.matmul(tensor, tensor.T, out=y3)


# 计算张量逐元素相乘的几种方法。 z1, z2, z3 最后的值是一样的。
z1 = tensor * tensor
z2 = tensor.mul(tensor)

z3 = torch.rand_like(tensor)
torch.mul(tensor, tensor, out=z3)
a9 = np.array([[1,2,3],[4,5,6]])   #维度相同，按位相乘
b9 = np.array([[4,5,6],[7,8,9]])

a9 * b9
a9 = np.array([[1,2],[4,5]])   #维度相同，按位相乘
b9 = np.array([[4,5],[7,8]])

print(a9*b9)            #   “*”   按位相乘
c9 = np.dot(a9,b9)      #   “dot”  矩阵乘法(数学上称为内积运算 )
print(c9)
d9 = a9@b9              #   “@”  矩阵乘法
print(d9)
a9 = np.array([[1,2],[3,4],[5,6]])   #维度不相同，前面的矩阵行数要与后面矩阵的列数相同，生成结果为（a9行，b9列）的矩阵
b9 = np.array([[1,2,3],[4,5,6]])
c9 = np.dot(a9,b9)      #   “dot”  矩阵乘法(数学上称为内积运算 )
print(c9)
d9 = a9@b9              #   “@”  矩阵乘法
print(d9)
import numpy as np

# 定义两个简单的矩阵
m1 = np.array([[1, 2], [3, 4]], dtype=np.float32)
m2 = np.array([[5, 6], [7, 8]], dtype=np.float32)
# m1 = m1.reshape(2,2)  # 矩阵1最后1个维度 == 矩阵2倒数第2个维度
# m2 = m2.reshape(2,2)

# 使用 np.dot 进行矩阵乘法
result_dot = np.dot(m1, m2)

# 使用 @ 运算符进行矩阵乘法
result_at = m1 @ m2

print("矩阵 1:")
print(m1)
print("矩阵 2:")
print(m2)
print("使用 np.dot 得到的矩阵乘法结果:")
print(result_dot)
print("使用 @ 运算符得到的矩阵乘法结果:")
print(result_at)

# 创建一个全零矩阵，用于存储手动推演的结果
# 结果矩阵的行数等于 matrix1 的行数，列数等于 matrix2 的列数
manual_result = np.zeros((m1.shape[0], m2.shape[1]), dtype=np.float32)

# 外层循环：遍历 matrix1 的每一行
# i 表示结果矩阵的行索引
for i in range(m1.shape[0]):
    # 中层循环：遍历 matrix2 的每一列
    # j 表示结果矩阵的列索引
    for j in range(m2.shape[1]):
        # 初始化当前位置的结果为 0
        manual_result[i, j] = 0
        # 内层循环：计算 matrix1 的第 i 行与 matrix2 的第 j 列对应元素的乘积之和
        # k 表示参与乘法运算的元素索引
        for k in range(m1.shape[1]):
            # 打印当前正在计算的元素
            print(f"{m1[i, k]} * {m2[k, j]} = {m1[i, k] * m2[k, j]}")
            # 将 matrix1 的第 i 行第 k 列元素与 matrix2 的第 k 行第 j 列元素相乘，并累加到结果矩阵的相应位置
            manual_result[i, j] += m1[i, k] * m2[k, j]
        # 打印当前位置计算完成后的结果
        print(f"结果矩阵[{i+1},{j+1}]:{manual_result[i, j]}\n")

print("手动推演结果:")
print(manual_result)
np.save('result.npy',manual_result)
result_np = np.load('result.npy')
result_np
np.savetxt('result_txt.npy',manual_result)
result_np = np.loadtxt('result_txt.npy')
result_np
a = np.array([1,2,3])  
b = np.array([4,5,6])
a + b
c = a * b
print(c)
a = np.array([(1,2), (2,2), (3,3), (4,4)])  # shape(4,2)
b = np.array([-1,1])  # shape(2)-> shape(1,2) -> shape(4,2)  [[-1,1],[-1,1],[-1,1],[-1,1]]   自动升维
a + b
a = np.array([(1,2), (2,2), (3,3), (4,4)])  # shape(4,2)
b = np.array([(-1,1)])
print(b.shape)  # shape(2)-> shape(1,2) -> shape(4,2)  [[-1,1],[-1,1],[-1,1],[-1,1]]   自动升维
a + b

