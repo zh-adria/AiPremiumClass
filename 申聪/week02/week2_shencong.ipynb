from sklearn.datasets import make_classification
from sklearn.model_selection import train_test_split
import numpy as np

# 1. 生成训练数据
X,y = make_classification(n_samples=150, n_features=10)  # shape (150, 10)

# 数据拆分
# 局部样本训练模型（过拟合模型）测试预测不好
# 新样本数据模型表现不好（泛化能力差）
X_train, X_test, y_train, y_test = train_test_split(X, y, test_size=0.3)


# 权重参数
theta = np.random.randn(1,10)  # shape (1, 10)
bias = 0
# 超参数
lr = 0.1
epochs = 3000  # 训练次数


# 2. 模型计算函数
def forward(x, theta, bias):
    # 线性运算
    z = np.dot(theta, x.T) + bias # shape (105,10)
    # sigmoid
    y_hat = 1 / (1 + np.exp(-z))  # shape (105,10)
    return y_hat

# 3. 计算损失函数
def loss(y, y_hat):
    e = 1e-8
    return - y * np.log(y_hat + e) - (1 - y) * np.log(1 - y_hat + e)

# 4. 计算梯度
def calc_gradient(x,y,y_hat):
    # 计算梯度
    m = x.shape[-1]
    # theta梯度计算
    delta_theta = np.dot((y_hat - y), x) / m
    # bias梯度计算
    delta_bias = np.mean(y_hat - y)
    # 返回梯度
    return delta_theta, delta_bias

# 5. 模型训练
for i in range(epochs):
    # 前向计算
    y_hat = forward(X_train, theta, bias)
    # 计算损失
    loss_val = loss(y_train, y_hat)
    # 计算梯度
    delta_theta, delta_bias = calc_gradient(X_train, y_train, y_hat)
    # 更新参数
    theta = theta - lr * delta_theta
    bias = bias - lr * delta_bias

    if i % 100 == 0:
        # 计算准确率
        acc = np.mean(np.round(y_hat) == y_train)  # [False,True,...,False] -> [0,1,...,0]
        print(f"epoch: {i}, loss: {np.mean(loss_val)}, acc: {acc}")




        # 模型推理
print('theta:',theta,'bias:',bias)
np.save('theta.npy', theta)#保存参数到文件
np.save('bias.npy', bias)#保存参数到文件
#np.savetxt('theta.txt',theta,fmt='%.2f',delimiter = ',')
#np.savetxt('bias.txt',bias,fmt='%.2f',delimiter = ',')
#with open("theta.txt", "w") as file_theta: #创建文件
#    file_theta.write(str[theta])
#with open("bias.txt", "w") as file_bias: #创建文件
#    file_bias.write(bias)
idx = np.random.randint(len(X_test)) # 随机选择一个测试样本索引
x = X_test[idx]
y = y_test[idx]
theat_load = np.load('theta.npy')#读取参数到文件
bias_load = np.load('bias.npy')#读取参数到文件
print('theat_load:',theat_load,'bias_load:',bias_load)
predict = np.round(forward(x, theat_load, bias_load))
print(f"y: {y}, predict: {predict}")
