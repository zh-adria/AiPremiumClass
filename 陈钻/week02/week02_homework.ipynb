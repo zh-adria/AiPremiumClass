{
 "cells": [
  {
   "cell_type": "code",
   "execution_count": 13,
   "metadata": {},
   "outputs": [],
   "source": [
    "import numpy as np\n"
   ]
  },
  {
   "cell_type": "code",
   "execution_count": 4,
   "metadata": {},
   "outputs": [
    {
     "name": "stdout",
     "output_type": "stream",
     "text": [
      "0.1 -2.3025850929940455\n",
      "0.2 -1.6094379124341003\n",
      "0.3 -1.2039728043259361\n",
      "0.4 -0.916290731874155\n",
      "0.5 -0.6931471805599453\n",
      "0.6 -0.5108256237659907\n",
      "0.7 -0.35667494393873245\n",
      "0.8 -0.2231435513142097\n",
      "0.9 -0.10536051565782628\n",
      "1.0 0.0\n"
     ]
    }
   ],
   "source": [
    "for i in range(1, 11):\n",
    "    print(i/10, np.log(i/10))"
   ]
  },
  {
   "cell_type": "markdown",
   "metadata": {},
   "source": [
    "# Load training data\n",
    "\n",
    "get 50 of type_0, and 50 of type_1"
   ]
  },
  {
   "cell_type": "code",
   "execution_count": 15,
   "metadata": {},
   "outputs": [
    {
     "data": {
      "text/plain": [
       "array([0, 0, 0, 0, 0, 0, 0, 0, 0, 0, 0, 0, 0, 0, 0, 0, 0, 0, 0, 0, 0, 0,\n",
       "       0, 0, 0, 0, 0, 0, 0, 0, 0, 0, 0, 0, 0, 0, 0, 0, 0, 0, 0, 0, 0, 0,\n",
       "       0, 0, 0, 0, 0, 0, 1, 1, 1, 1, 1, 1, 1, 1, 1, 1, 1, 1, 1, 1, 1, 1,\n",
       "       1, 1, 1, 1, 1, 1, 1, 1, 1, 1, 1, 1, 1, 1, 1, 1, 1, 1, 1, 1, 1, 1,\n",
       "       1, 1, 1, 1, 1, 1, 1, 1, 1, 1, 1, 1])"
      ]
     },
     "execution_count": 15,
     "metadata": {},
     "output_type": "execute_result"
    }
   ],
   "source": [
    "from sklearn.datasets import load_iris\n",
    "\n",
    "X, y = load_iris(return_X_y=True)\n",
    "X.shape, y.shape\n",
    "# X[:5]\n",
    "# y[:5]\n",
    "# print(X)\n",
    "# print(y)\n",
    "y1 = y[0:50]\n",
    "y2 = y[50:100]\n",
    "new_y = np.concatenate((y1, y2), axis=0)\n",
    "new_y"
   ]
  },
  {
   "cell_type": "code",
   "execution_count": 17,
   "metadata": {},
   "outputs": [],
   "source": [
    "def load_sampleing_data():\n",
    "    X, y = load_iris(return_X_y=True)\n",
    "    sample_set_A = X[0:50]\n",
    "    sample_set_B = X[50:100]\n",
    "    sample_set = np.concatenate((sample_set_A, sample_set_B), axis=0)\n",
    "\n",
    "    category_A = y[0:50]\n",
    "    category_B = y[50:100]\n",
    "    category_set = np.concatenate((category_A, category_B), axis=0)\n",
    "    return sample_set, category_set\n"
   ]
  },
  {
   "cell_type": "code",
   "execution_count": 27,
   "metadata": {},
   "outputs": [],
   "source": [
    "from sklearn.model_selection import train_test_split\n",
    "def get_train_test_data(sample_set, category_set, test_size=0.2):\n",
    "    train_sample_set, test_sample_set, train_category_set, test_category_set = train_test_split(sample_set, category_set, test_size=test_size, random_state=42, shuffle=True)\n",
    "    return train_sample_set, test_sample_set, train_category_set, test_category_set\n"
   ]
  },
  {
   "cell_type": "code",
   "execution_count": 28,
   "metadata": {},
   "outputs": [
    {
     "name": "stdout",
     "output_type": "stream",
     "text": [
      "[[5.7 2.8 4.5 1.3]\n",
      " [5.6 3.  4.1 1.3]\n",
      " [5.  3.4 1.6 0.4]\n",
      " [4.4 3.2 1.3 0.2]\n",
      " [5.6 2.5 3.9 1.1]\n",
      " [5.7 4.4 1.5 0.4]\n",
      " [5.  3.5 1.3 0.3]\n",
      " [5.7 2.9 4.2 1.3]\n",
      " [4.9 3.1 1.5 0.1]\n",
      " [6.3 2.5 4.9 1.5]\n",
      " [4.8 3.4 1.6 0.2]\n",
      " [4.6 3.2 1.4 0.2]\n",
      " [6.  3.4 4.5 1.6]\n",
      " [5.2 3.4 1.4 0.2]\n",
      " [5.  2.3 3.3 1. ]\n",
      " [5.4 3.9 1.7 0.4]\n",
      " [5.6 3.  4.5 1.5]\n",
      " [6.7 3.1 4.4 1.4]\n",
      " [5.  3.2 1.2 0.2]\n",
      " [5.4 3.9 1.3 0.4]\n",
      " [5.  3.3 1.4 0.2]\n",
      " [4.9 3.1 1.5 0.2]\n",
      " [5.  3.4 1.5 0.2]\n",
      " [5.7 3.  4.2 1.2]\n",
      " [5.2 3.5 1.5 0.2]\n",
      " [5.1 3.8 1.5 0.3]\n",
      " [5.5 2.4 3.7 1. ]\n",
      " [5.  3.  1.6 0.2]\n",
      " [6.  2.2 4.  1. ]\n",
      " [4.3 3.  1.1 0.1]\n",
      " [4.8 3.4 1.9 0.2]\n",
      " [4.6 3.1 1.5 0.2]\n",
      " [5.1 3.5 1.4 0.3]\n",
      " [4.4 3.  1.3 0.2]\n",
      " [4.4 2.9 1.4 0.2]\n",
      " [6.  2.9 4.5 1.5]\n",
      " [4.6 3.4 1.4 0.3]\n",
      " [5.6 2.9 3.6 1.3]\n",
      " [5.5 3.5 1.3 0.2]\n",
      " [5.5 2.5 4.  1.3]\n",
      " [6.3 3.3 4.7 1.6]\n",
      " [5.7 2.8 4.1 1.3]\n",
      " [6.5 2.8 4.6 1.5]\n",
      " [5.  3.5 1.6 0.6]\n",
      " [7.  3.2 4.7 1.4]\n",
      " [5.8 2.7 4.1 1. ]\n",
      " [5.1 3.8 1.6 0.2]\n",
      " [6.2 2.2 4.5 1.5]\n",
      " [5.9 3.  4.2 1.5]\n",
      " [6.2 2.9 4.3 1.3]\n",
      " [5.7 2.6 3.5 1. ]\n",
      " [4.5 2.3 1.3 0.3]\n",
      " [6.6 2.9 4.6 1.3]\n",
      " [5.3 3.7 1.5 0.2]\n",
      " [5.1 2.5 3.  1.1]\n",
      " [4.9 2.4 3.3 1. ]\n",
      " [6.6 3.  4.4 1.4]\n",
      " [5.2 4.1 1.5 0.1]\n",
      " [5.6 2.7 4.2 1.3]\n",
      " [5.2 2.7 3.9 1.4]\n",
      " [6.1 2.9 4.7 1.4]\n",
      " [5.4 3.  4.5 1.5]\n",
      " [4.9 3.6 1.4 0.1]\n",
      " [4.7 3.2 1.6 0.2]\n",
      " [4.9 3.  1.4 0.2]\n",
      " [6.9 3.1 4.9 1.5]\n",
      " [5.1 3.7 1.5 0.4]\n",
      " [4.7 3.2 1.3 0.2]\n",
      " [5.1 3.3 1.7 0.5]\n",
      " [6.3 2.3 4.4 1.3]\n",
      " [6.1 3.  4.6 1.4]\n",
      " [6.4 2.9 4.3 1.3]\n",
      " [6.7 3.1 4.7 1.5]\n",
      " [5.8 2.7 3.9 1.2]\n",
      " [5.4 3.4 1.7 0.2]\n",
      " [5.  2.  3.5 1. ]\n",
      " [6.1 2.8 4.  1.3]\n",
      " [5.8 4.  1.2 0.2]\n",
      " [5.8 2.6 4.  1.2]\n",
      " [6.4 3.2 4.5 1.5]] [[6.  2.7 5.1 1.6]\n",
      " [5.5 2.3 4.  1.3]\n",
      " [5.9 3.2 4.8 1.8]\n",
      " [4.8 3.  1.4 0.3]\n",
      " [5.1 3.8 1.9 0.4]\n",
      " [5.1 3.4 1.5 0.2]\n",
      " [4.6 3.6 1.  0.2]\n",
      " [5.5 2.4 3.8 1.1]\n",
      " [5.4 3.7 1.5 0.2]\n",
      " [5.1 3.5 1.4 0.2]\n",
      " [5.7 3.8 1.7 0.3]\n",
      " [4.8 3.1 1.6 0.2]\n",
      " [6.1 2.8 4.7 1.2]\n",
      " [5.5 4.2 1.4 0.2]\n",
      " [5.5 2.6 4.4 1.2]\n",
      " [5.  3.6 1.4 0.2]\n",
      " [6.8 2.8 4.8 1.4]\n",
      " [6.7 3.  5.  1.7]\n",
      " [4.8 3.  1.4 0.1]\n",
      " [5.4 3.4 1.5 0.4]] [1 1 0 0 1 0 0 1 0 1 0 0 1 0 1 0 1 1 0 0 0 0 0 1 0 0 1 0 1 0 0 0 0 0 0 1 0\n",
      " 1 0 1 1 1 1 0 1 1 0 1 1 1 1 0 1 0 1 1 1 0 1 1 1 1 0 0 0 1 0 0 0 1 1 1 1 1\n",
      " 0 1 1 0 1 1] [1 1 1 0 0 0 0 1 0 0 0 0 1 0 1 0 1 1 0 0]\n",
      "(80, 4) (20, 4) (80,) (20,)\n"
     ]
    }
   ],
   "source": [
    "sample_set, category_set = load_sampleing_data()\n",
    "train_sample_set, test_sample_set, train_category_set, test_category_set = get_train_test_data(sample_set, category_set)\n",
    "print(train_sample_set, test_sample_set, train_category_set, test_category_set)\n",
    "print(train_sample_set.shape, test_sample_set.shape, train_category_set.shape, test_category_set.shape)"
   ]
  },
  {
   "cell_type": "code",
   "execution_count": 34,
   "metadata": {},
   "outputs": [
    {
     "data": {
      "text/plain": [
       "array([ 0.71585026, -1.04000303, -1.04449097,  0.83505086])"
      ]
     },
     "execution_count": 34,
     "metadata": {},
     "output_type": "execute_result"
    }
   ],
   "source": [
    "theta = np.random.randn(4)\n",
    "theta"
   ]
  }
 ],
 "metadata": {
  "kernelspec": {
   "display_name": "ML100",
   "language": "python",
   "name": "python3"
  },
  "language_info": {
   "codemirror_mode": {
    "name": "ipython",
    "version": 3
   },
   "file_extension": ".py",
   "mimetype": "text/x-python",
   "name": "python",
   "nbconvert_exporter": "python",
   "pygments_lexer": "ipython3",
   "version": "3.12.9"
  }
 },
 "nbformat": 4,
 "nbformat_minor": 2
}
