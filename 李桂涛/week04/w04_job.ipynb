{
 "cells": [
  {
   "cell_type": "code",
   "execution_count": 96,
   "id": "0045a804-d57a-42e6-8f40-00f75254c985",
   "metadata": {},
   "outputs": [],
   "source": [
    "from sklearn.datasets import fetch_olivetti_faces\n",
    "#人脸数据集，由40个人脸组成，每人10张照片组成"
   ]
  },
  {
   "cell_type": "code",
   "execution_count": null,
   "id": "951a0623-bee0-4d80-8297-c242b53bc972",
   "metadata": {},
   "outputs": [],
   "source": [
    "#1、导入包\n",
    "import torch\n",
    "from torch import nn\n",
    "from torch.utils.data import DataLoader\n",
    "from torchvision import datasets\n",
    "from torchvision.transforms import ToTensor,Lambda,Compose\n",
    "import matplotlib.pyplot as plt"
   ]
  },
  {
   "cell_type": "code",
   "execution_count": 225,
   "id": "d05cdb71-be8c-4773-a65d-81dd66a32cdb",
   "metadata": {},
   "outputs": [
    {
     "name": "stdout",
     "output_type": "stream",
     "text": [
      "(400, 4096)\n",
      "(400,)\n",
      "(400, 64, 64)\n"
     ]
    }
   ],
   "source": [
    "#2、下载数据并打包\n",
    "olivetti_faces = fetch_olivetti_faces(data_home='./face_data', shuffle=True)\n",
    "print(olivetti_faces.data.shape)\n",
    "print(olivetti_faces.target.shape)\n",
    "print(olivetti_faces.images.shape)\n",
    "batch_size = 50\n",
    "olivetti_faces.images = torch.tensor(olivetti_faces.images,dtype=torch.float)\n",
    "olivetti_faces.target = torch.tensor(olivetti_faces.target, dtype=torch.long)     \n",
    "\n",
    "train_datasets = list(zip(olivetti_faces.images[:350,:,:],olivetti_faces.target[:350])) #64*64,target 30\n",
    "test_datasets = list(zip(olivetti_faces.images[350:,:,:],olivetti_faces.target[350:])) #64*64,target 30\n",
    "\n",
    "train_data = DataLoader(train_datasets,batch_size=batch_size,shuffle=True)\n",
    "test_data = DataLoader(test_datasets,batch_size=batch_size)"
   ]
  },
  {
   "cell_type": "code",
   "execution_count": 220,
   "id": "1205bc5a-d045-4c57-bd27-a4b302ccadb0",
   "metadata": {},
   "outputs": [
    {
     "data": {
      "text/plain": [
       "'cpu'"
      ]
     },
     "execution_count": 220,
     "metadata": {},
     "output_type": "execute_result"
    }
   ],
   "source": [
    "device = 'cuda' if torch.cuda.is_available() else 'cpu'\n",
    "device"
   ]
  },
  {
   "cell_type": "code",
   "execution_count": 221,
   "id": "297bbaf8-1b5d-4ee0-ac1a-5a936808ee7e",
   "metadata": {},
   "outputs": [
    {
     "name": "stdout",
     "output_type": "stream",
     "text": [
      "facedet(\n",
      "  (det_ppl): Sequential(\n",
      "    (0): Linear(in_features=4096, out_features=4096, bias=True)\n",
      "    (1): BatchNorm1d(4096, eps=1e-05, momentum=0.1, affine=True, track_running_stats=True)\n",
      "    (2): LeakyReLU(negative_slope=0.01)\n",
      "    (3): Linear(in_features=4096, out_features=2048, bias=True)\n",
      "    (4): BatchNorm1d(2048, eps=1e-05, momentum=0.1, affine=True, track_running_stats=True)\n",
      "    (5): LeakyReLU(negative_slope=0.01)\n",
      "    (6): Linear(in_features=2048, out_features=1024, bias=True)\n",
      "    (7): BatchNorm1d(1024, eps=1e-05, momentum=0.1, affine=True, track_running_stats=True)\n",
      "    (8): LeakyReLU(negative_slope=0.01)\n",
      "    (9): Linear(in_features=1024, out_features=512, bias=True)\n",
      "    (10): BatchNorm1d(512, eps=1e-05, momentum=0.1, affine=True, track_running_stats=True)\n",
      "    (11): LeakyReLU(negative_slope=0.01)\n",
      "    (12): Linear(in_features=512, out_features=256, bias=True)\n",
      "    (13): BatchNorm1d(256, eps=1e-05, momentum=0.1, affine=True, track_running_stats=True)\n",
      "    (14): LeakyReLU(negative_slope=0.01)\n",
      "    (15): Linear(in_features=256, out_features=128, bias=True)\n",
      "    (16): BatchNorm1d(128, eps=1e-05, momentum=0.1, affine=True, track_running_stats=True)\n",
      "    (17): LeakyReLU(negative_slope=0.01)\n",
      "    (18): Linear(in_features=128, out_features=40, bias=True)\n",
      "  )\n",
      ")\n"
     ]
    }
   ],
   "source": [
    "#2、定义模型 model_1\n",
    "class facedet(nn.Module):\n",
    "    def __init__(self):\n",
    "        super().__init__()\n",
    "        self.det_ppl = nn.Sequential(\n",
    "            nn.Linear(4096,4096),\n",
    "            nn.BatchNorm1d(4096),\n",
    "            nn.LeakyReLU(),\n",
    "            nn.Linear(4096,2048),\n",
    "            nn.BatchNorm1d(2048),\n",
    "            nn.LeakyReLU(),\n",
    "            nn.Linear(2048,1024),\n",
    "            nn.BatchNorm1d(1024),\n",
    "            nn.LeakyReLU(),\n",
    "            nn.Linear(1024,512),\n",
    "            nn.BatchNorm1d(512),\n",
    "            nn.LeakyReLU(),\n",
    "            nn.Linear(512,256),\n",
    "            nn.BatchNorm1d(256),\n",
    "            nn.LeakyReLU(),\n",
    "            nn.Linear(256,128),\n",
    "            nn.BatchNorm1d(128),\n",
    "            nn.LeakyReLU(),\n",
    "            nn.Linear(128,40),\n",
    "        )\n",
    "    def forward(self, x):\n",
    "        x = self.det_ppl(x)\n",
    "        return x\n",
    "model = facedet().to(device)    #把模型网络结构结构放在cpu\n",
    "print(model)"
   ]
  },
  {
   "cell_type": "code",
   "execution_count": 202,
   "id": "ccd0dd35-3437-47dc-89d5-dbadee01ee2c",
   "metadata": {},
   "outputs": [],
   "source": [
    "#2、定义模型 model_2\n",
    "class facedet(nn.Module):\n",
    "    def __init__(self):\n",
    "        super().__init__()\n",
    "        self.det_ppl = nn.Sequential(\n",
    "            nn.Linear(4096,4096),\n",
    "            nn.Dropout(p=0.3),\n",
    "            nn.BatchNorm1d(4096),\n",
    "            nn.LeakyReLU(),\n",
    "            nn.Linear(4096,2048),\n",
    "            nn.BatchNorm1d(2048),\n",
    "            nn.LeakyReLU(),\n",
    "            nn.Linear(2048,1024),\n",
    "            nn.BatchNorm1d(1024),\n",
    "            nn.LeakyReLU(),\n",
    "            # nn.Dropout(p=0.3),\n",
    "            nn.Linear(1024,512),\n",
    "            nn.BatchNorm1d(512),\n",
    "            nn.LeakyReLU(),\n",
    "            nn.Linear(512,256),\n",
    "            nn.BatchNorm1d(256),\n",
    "            nn.LeakyReLU(),\n",
    "            nn.Linear(256,128),\n",
    "            nn.BatchNorm1d(128),\n",
    "            nn.LeakyReLU(),\n",
    "            nn.Linear(128,40),\n",
    "        )\n",
    "    def forward(self, x):\n",
    "        x = self.det_ppl(x)\n",
    "        return x\n",
    "model = facedet().to(device)    #把模型网络结构结构放在cpu"
   ]
  },
  {
   "cell_type": "code",
   "execution_count": 226,
   "id": "5202b79d-c4ff-4878-9bdc-73c4f1ba5c3a",
   "metadata": {},
   "outputs": [],
   "source": [
    "#2、定义模型 model_3\n",
    "class facedet(nn.Module):\n",
    "    def __init__(self):\n",
    "        super().__init__()\n",
    "        self.det_ppl = nn.Sequential(\n",
    "            nn.Linear(4096,4096),\n",
    "            nn.LeakyReLU(),\n",
    "            nn.Linear(4096,2048),\n",
    "            nn.LeakyReLU(),\n",
    "            nn.Linear(2048,1024),\n",
    "            nn.LeakyReLU(),\n",
    "            nn.Linear(1024,512),\n",
    "            nn.LeakyReLU(),\n",
    "            nn.Linear(512,256),\n",
    "            nn.LeakyReLU(),\n",
    "            nn.Linear(256,128),\n",
    "            nn.LeakyReLU(),\n",
    "            nn.Linear(128,40),\n",
    "        )\n",
    "    def forward(self, x):\n",
    "        x = self.det_ppl(x)\n",
    "        return x\n",
    "model = facedet().to(device)    #把模型网络结构结构放在cpu"
   ]
  },
  {
   "cell_type": "code",
   "execution_count": 227,
   "id": "197d3ecf-e0fd-413b-8355-efac627b80ff",
   "metadata": {},
   "outputs": [],
   "source": [
    "#3、定义优化器和损失函数\n",
    "LR = 1e-3\n",
    "loss_fn = nn.CrossEntropyLoss()\n",
    "optimizer = torch.optim.AdamW(model.parameters(),lr=LR)\n",
    "# optimier = torch.optim.SGD(model.parameters(), LR)"
   ]
  },
  {
   "cell_type": "code",
   "execution_count": 228,
   "id": "bf6bbeaa-5147-4fb9-98e4-ed5e7730bbee",
   "metadata": {},
   "outputs": [],
   "source": [
    "#4、训练函数\n",
    "loss_list,acc_list = [],[]\n",
    "def train_func(data,loss_fn,optimizer,model):\n",
    "    model.train()\n",
    "    for batch,(da,target) in enumerate(data):\n",
    "        da,target = da.to(device),target.to(device)\n",
    "        da = da.reshape(50,-1)\n",
    "        pred = model(da)\n",
    "        loss = loss_fn(pred,target)\n",
    "        optimizer.zero_grad()\n",
    "        loss.backward()\n",
    "        optimizer.step()\n",
    "        if batch%50==0:\n",
    "            print(f'train batch:{batch},loss:{loss}')\n",
    "def test_func(model,data,loss_fn):\n",
    "    model.eval()\n",
    "    total,cor,it,cur =0,0,0,0\n",
    "    loss_test = 0\n",
    "    with torch.no_grad():\n",
    "        for bs,(x,y) in enumerate(data):\n",
    "            it += 1\n",
    "            total += y.size(0)\n",
    "            x = x.reshape(50,-1)\n",
    "            pred = model(x)\n",
    "            _,predtied = torch.max(pred,1)\n",
    "            cor += (predtied == y).sum().item()\n",
    "            cur = loss_fn(pred,y)\n",
    "            loss_list.append(cur)\n",
    "            loss_test += (cur).sum().item()\n",
    "        print(f'Test mean loss:{(loss_test/it):.3f}')\n",
    "        acc = cor/total\n",
    "        acc_list.append(acc)\n",
    "        print(f'Test Acc:{acc:.3f}') "
   ]
  },
  {
   "cell_type": "code",
   "execution_count": 229,
   "id": "07bada8c-33be-4ed0-abab-d6316b019021",
   "metadata": {
    "scrolled": true
   },
   "outputs": [
    {
     "name": "stdout",
     "output_type": "stream",
     "text": [
      "train batch:0,loss:3.6915993690490723\n",
      "Test mean loss:3.738\n",
      "Test Acc:0.040\n",
      "_____________________________________\n",
      "train batch:0,loss:3.6659913063049316\n",
      "Test mean loss:3.708\n",
      "Test Acc:0.000\n",
      "_____________________________________\n",
      "train batch:0,loss:3.6636838912963867\n",
      "Test mean loss:3.699\n",
      "Test Acc:0.020\n",
      "_____________________________________\n",
      "train batch:0,loss:3.6827712059020996\n",
      "Test mean loss:3.724\n",
      "Test Acc:0.000\n",
      "_____________________________________\n",
      "train batch:0,loss:3.6820013523101807\n",
      "Test mean loss:3.768\n",
      "Test Acc:0.000\n",
      "_____________________________________\n",
      "train batch:0,loss:3.7132928371429443\n",
      "Test mean loss:3.779\n",
      "Test Acc:0.000\n",
      "_____________________________________\n",
      "train batch:0,loss:3.6790826320648193\n",
      "Test mean loss:3.747\n",
      "Test Acc:0.000\n",
      "_____________________________________\n",
      "train batch:0,loss:3.6869161128997803\n",
      "Test mean loss:3.778\n",
      "Test Acc:0.000\n",
      "_____________________________________\n",
      "train batch:0,loss:3.6834466457366943\n",
      "Test mean loss:3.869\n",
      "Test Acc:0.000\n",
      "_____________________________________\n",
      "train batch:0,loss:3.6177749633789062\n",
      "Test mean loss:3.706\n",
      "Test Acc:0.000\n",
      "_____________________________________\n",
      "结束训练\n"
     ]
    }
   ],
   "source": [
    "#6、训练\n",
    "epochs = 10\n",
    "for i in range(epochs):\n",
    "    train_func(train_data,loss_fn,optimizer,model)\n",
    "    test_func(model,test_data,loss_fn)\n",
    "    print('_____________________________________')\n",
    "print(f'结束训练')"
   ]
  },
  {
   "cell_type": "markdown",
   "id": "27d613b6-5d6c-49c4-85ba-9e1bbd488ecb",
   "metadata": {},
   "source": [
    "#### model_1 效果最好\n",
    "    train batch:0,loss:0.25418585538864136\n",
    "    Test mean loss:0.768\n",
    "    Test Acc:0.920\n",
    "#### model_2 dropout效果差\n",
    "    train batch:0,loss:0.9830032587051392\n",
    "    Test mean loss:4.343\n",
    "    Test Acc:0.020\n",
    "    添加dropout后准确率那么低吗？待商榷\n",
    "#### model_1换成SGD优化器效果差\n",
    "    train batch:0,loss:3.8363780975341797\n",
    "    Test mean loss:3.669\n",
    "    Test Acc:0.080\n",
    "#### model_3 紧使用线性和激活梯度消失？\n",
    "    train batch:0,loss:3.6177749633789062\n",
    "    Test mean loss:3.706\n",
    "    Test Acc:0.000"
   ]
  },
  {
   "cell_type": "code",
   "execution_count": null,
   "id": "1eef43d5-6556-4ecf-ac96-f93a278e1abe",
   "metadata": {},
   "outputs": [],
   "source": []
  }
 ],
 "metadata": {
  "kernelspec": {
   "display_name": "nlp_py312",
   "language": "python",
   "name": "python3"
  },
  "language_info": {
   "codemirror_mode": {
    "name": "ipython",
    "version": 3
   },
   "file_extension": ".py",
   "mimetype": "text/x-python",
   "name": "python",
   "nbconvert_exporter": "python",
   "pygments_lexer": "ipython3",
   "version": "3.12.9"
  }
 },
 "nbformat": 4,
 "nbformat_minor": 5
}
