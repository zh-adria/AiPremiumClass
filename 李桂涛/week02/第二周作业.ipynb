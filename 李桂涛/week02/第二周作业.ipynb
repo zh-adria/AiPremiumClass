{
 "cells": [
  {
   "cell_type": "code",
   "execution_count": 3,
   "id": "8686bd5d-3048-442f-a0c0-988449f5db01",
   "metadata": {},
   "outputs": [],
   "source": [
    "import torch\n",
    "import numpy as np\n",
    "import matplotlib.pyplot as plt\n",
    "from sklearn.datasets import load_iris\n",
    "from sklearn.model_selection import train_test_split"
   ]
  },
  {
   "cell_type": "code",
   "execution_count": 12,
   "id": "802cfaae-c3fd-4e93-9d0d-93495cd5d207",
   "metadata": {},
   "outputs": [
    {
     "name": "stdout",
     "output_type": "stream",
     "text": [
      "(150, 4)\n",
      "(150,)\n",
      "[0 0 0 0 0 0 0 0 0 0 0 0 0 0 0 0 0 0 0 0 0 0 0 0 0 0 0 0 0 0 0 0 0 0 0 0 0\n",
      " 0 0 0 0 0 0 0 0 0 0 0 0 0 1 1 1 1 1 1 1 1 1 1 1 1 1 1 1 1 1 1 1 1 1 1 1 1\n",
      " 1 1 1 1 1 1 1 1 1 1 1 1 1 1 1 1 1 1 1 1 1 1 1 1 1 1 2 2 2 2 2 2 2 2 2 2 2\n",
      " 2 2 2 2 2 2 2 2 2 2 2 2 2 2 2 2 2 2 2 2 2 2 2 2 2 2 2 2 2 2 2 2 2 2 2 2 2\n",
      " 2 2]\n"
     ]
    }
   ],
   "source": [
    "#1、拿去数据\n",
    "x,y = load_iris(return_X_y=True)\n",
    "print(x.shape) #(150,4) 150条数据，每条数据4个特征\n",
    "print(y.shape) #（150）对应150个标签种类\n",
    "print(y)       #打印可以看到只有3类花，取前两个0,1类\n",
    "x = x[:100] #只有行，所以切片只留前100个就行\n",
    "y = y[:100]"
   ]
  },
  {
   "cell_type": "code",
   "execution_count": 16,
   "id": "9be2bfb8-f4d4-4e48-a87d-15a6bd02f9ef",
   "metadata": {},
   "outputs": [
    {
     "name": "stdout",
     "output_type": "stream",
     "text": [
      "(80, 4)\n",
      "(80,)\n"
     ]
    }
   ],
   "source": [
    "#2、数据拆分\n",
    "train_x,test_x,train_y,test_y = train_test_split(x,y,test_size=0.2,shuffle=True)\n",
    "print(train_x.shape)\n",
    "print(train_y.shape)"
   ]
  },
  {
   "cell_type": "code",
   "execution_count": 18,
   "id": "7b25db4a-1fb7-4767-be65-e6db97a32bdb",
   "metadata": {},
   "outputs": [
    {
     "name": "stdout",
     "output_type": "stream",
     "text": [
      "[[ 0.00477816 -1.14445986  1.07411728 -0.4826397 ]]\n"
     ]
    }
   ],
   "source": [
    "#3、参数初始化、超参数准备 Wx + b = z\n",
    "theta = np.random.randn(1,4)\n",
    "bias = 0\n",
    "print(theta)\n",
    "lr = 1e-3\n",
    "#lr = 1e-2\n",
    "#epoch = 3000\n",
    "epoch = 1000"
   ]
  },
  {
   "cell_type": "code",
   "execution_count": 21,
   "id": "932196f8-af16-4d47-9d96-0ac5ae7ac284",
   "metadata": {},
   "outputs": [],
   "source": [
    "#4、模型运算  向前传播\n",
    "def forward(x,theta,bias):\n",
    "    #Wx+b 线性层 linear\n",
    "    z = np.dot(theta,train_x.T)\n",
    "    #激活函数sigmoid\n",
    "    y_hat=1/(1+np.exp(-z))\n",
    "    \n",
    "    return y_hat"
   ]
  },
  {
   "cell_type": "code",
   "execution_count": 27,
   "id": "822ec843-4b91-4cfc-bb5d-d66032d97f63",
   "metadata": {},
   "outputs": [
    {
     "name": "stdout",
     "output_type": "stream",
     "text": [
      "次数：0，损失:0.031523948313503414\n",
      "次数：100，损失:0.029241799438325604\n",
      "次数：200，损失:0.027280892603138502\n",
      "次数：300，损失:0.02557728896535985\n",
      "次数：400，损失:0.02408300445094365\n",
      "次数：500，损失:0.02276132198847037\n",
      "次数：600，损失:0.02158366486088054\n",
      "次数：700，损失:0.020527456688605502\n",
      "次数：800，损失:0.019574623014820772\n",
      "次数：900，损失:0.018710520760042097\n"
     ]
    }
   ],
   "source": [
    "#5、损失函数\n",
    "def loss_function(y,y_hat):\n",
    "    e = 1e-8\n",
    "    return -y*np.log(y_hat + e) -(1-y)*np.log(1-y_hat +e)\n",
    "#6、计算梯度\n",
    "def calc_gradient(x,y,y_hat):\n",
    "    m=x.shape[-1]   #（80,4） ==4\n",
    "    delta_w = np.dot(y_hat-y,x)/m #预测值 - 真实值 与特征值 X 做矩阵运算，除以m个数\n",
    "    delta_b = np.mean(y_hat - y)\n",
    "    return delta_w, delta_b\n",
    "n = 0\n",
    "numlist = []\n",
    "losslist = []\n",
    "# 7、开始训练\n",
    "for i in range(epoch):\n",
    "    #正向转播\n",
    "    y_hat = forward(train_x,theta,bias)\n",
    "    #计算损失\n",
    "    loss = np.mean(loss_function(train_y,y_hat))\n",
    "    if i%100 ==0:\n",
    "        numlist.append(n)\n",
    "        losslist.append(loss)\n",
    "        n += 1\n",
    "        print(f'次数：{i}，损失:{loss}')\n",
    "    #梯度下降\n",
    "    dw,db = calc_gradient(train_x,train_y,y_hat)\n",
    "    #更新参数\n",
    "    theta -=lr*dw\n",
    "    bias -= lr*db"
   ]
  },
  {
   "cell_type": "code",
   "execution_count": 28,
   "id": "4f9ff851-b906-4548-969e-3a5dd303b23a",
   "metadata": {},
   "outputs": [
    {
     "data": {
      "image/png": "[encoded data removed]",
      "text/plain": [
       "<Figure size 640x480 with 1 Axes>"
      ]
     },
     "metadata": {},
     "output_type": "display_data"
    }
   ],
   "source": [
    "plt.plot(numlist,losslist)\n",
    "plt.show()"
   ]
  },
  {
   "cell_type": "code",
   "execution_count": 42,
   "id": "ca90a70d-49a8-487e-ba78-710830c9fc29",
   "metadata": {},
   "outputs": [
    {
     "name": "stdout",
     "output_type": "stream",
     "text": [
      "预测：[1.]，真实值：0\n"
     ]
    }
   ],
   "source": [
    "# 推理\n",
    "idx = np.random.randint(len(test_x))\n",
    "x1 = test_x[idx]\n",
    "y1 = test_y[idx]\n",
    "pred = np.round(forward(x1,theta,bias))\n",
    "\n",
    "print(f'预测：{pred[:,0]}，真实值：{y1}')\n"
   ]
  },
  {
   "cell_type": "code",
   "execution_count": 46,
   "id": "4fde408e-aafb-4376-b565-578303781e96",
   "metadata": {},
   "outputs": [],
   "source": [
    "import pickle\n",
    "model_params = {'W':theta,'b':bias}\n",
    "with open('flowers.pkl','wb') as f:\n",
    "    pickle.dump(model_params,f)"
   ]
  },
  {
   "cell_type": "code",
   "execution_count": 48,
   "id": "c2aec4e1-982f-4a16-b332-dcf84d702ff0",
   "metadata": {},
   "outputs": [
    {
     "name": "stdout",
     "output_type": "stream",
     "text": [
      "权重：[[-0.23068146 -2.08205182  2.67909682  0.2574402 ]],偏置：-0.008320108802152103\n"
     ]
    }
   ],
   "source": [
    "with open('flowers.pkl','rb') as f:\n",
    "    f_params = pickle.load(f)\n",
    "theta = f_params['W']\n",
    "bias = f_params['b']\n",
    "print(f'权重：{theta},偏置：{bias}')"
   ]
  },
  {
   "cell_type": "code",
   "execution_count": 64,
   "id": "c012f71d-305a-4a25-8241-50d9887d69f3",
   "metadata": {},
   "outputs": [
    {
     "name": "stdout",
     "output_type": "stream",
     "text": [
      "acc:1.0\n",
      "[[0. 1. 0. 0. 0. 0. 0. 1. 1. 0. 1. 1. 0. 1. 0. 1. 1. 1. 1. 1.]]\n",
      "[0 1 0 0 0 0 0 1 1 0 1 1 0 1 0 1 1 1 1 1]\n"
     ]
    },
    {
     "data": {
      "text/plain": [
       "20"
      ]
     },
     "execution_count": 64,
     "metadata": {},
     "output_type": "execute_result"
    }
   ],
   "source": [
    "#单独测试模型\n",
    "with open('flowers.pkl','rb') as f:\n",
    "    f_params = pickle.load(f)\n",
    "theta = f_params['W']\n",
    "bias = f_params['b']\n",
    "def forward(train_x,theta,bias):\n",
    "    z = np.dot(theta,train_x.T)\n",
    "    t_hat = 1/(1+np.exp(-z))\n",
    "    return t_hat\n",
    "i = 0\n",
    "predtest = np.round(forward(test_x,theta,bias))\n",
    "for i in range(len(test_x)):\n",
    "    if predtest[:,i] == test_y[i]:\n",
    "        i += 1\n",
    "print(f'acc:{i/len(test_y)}')\n",
    "\n",
    "print(predtest)\n",
    "print(test_y)\n",
    "i"
   ]
  },
  {
   "cell_type": "code",
   "execution_count": 45,
   "id": "25918f17-6f12-4fb1-ba2f-c65ba57d15ce",
   "metadata": {},
   "outputs": [
    {
     "data": {
      "text/plain": [
       "-0.008320108802152103"
      ]
     },
     "execution_count": 45,
     "metadata": {},
     "output_type": "execute_result"
    }
   ],
   "source": [
    "bias"
   ]
  },
  {
   "cell_type": "code",
   "execution_count": 49,
   "id": "4e77cc71-8f9b-487c-9670-8c1144e501d3",
   "metadata": {},
   "outputs": [
    {
     "data": {
      "text/plain": [
       "array([[-0.23068146, -2.08205182,  2.67909682,  0.2574402 ]])"
      ]
     },
     "execution_count": 49,
     "metadata": {},
     "output_type": "execute_result"
    }
   ],
   "source": [
    "theta"
   ]
  },
  {
   "cell_type": "code",
   "execution_count": null,
   "id": "2bb44c89-9480-48a1-943e-8b181bd8d992",
   "metadata": {},
   "outputs": [],
   "source": []
  }
 ],
 "metadata": {
  "kernelspec": {
   "display_name": "Python 3 (ipykernel)",
   "language": "python",
   "name": "python3"
  },
  "language_info": {
   "codemirror_mode": {
    "name": "ipython",
    "version": 3
   },
   "file_extension": ".py",
   "mimetype": "text/x-python",
   "name": "python",
   "nbconvert_exporter": "python",
   "pygments_lexer": "ipython3",
   "version": "3.10.16"
  }
 },
 "nbformat": 4,
 "nbformat_minor": 5
}
