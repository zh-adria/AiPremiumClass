{
 "cells": [
  {
   "cell_type": "code",
   "execution_count": 2,
   "id": "ffc07521-faff-431f-be4e-f44f5f92dc69",
   "metadata": {},
   "outputs": [],
   "source": [
    "#1、导入包\n",
    "import torch\n",
    "from torch import nn\n",
    "from torch.utils.data import DataLoader\n",
    "from torchvision import datasets\n",
    "from torchvision.transforms import ToTensor,Lambda,Compose\n",
    "import matplotlib.pyplot as plt"
   ]
  },
  {
   "cell_type": "code",
   "execution_count": 14,
   "id": "373cab41-55bc-4dc2-9f01-f33e0ab14f28",
   "metadata": {},
   "outputs": [
    {
     "name": "stdout",
     "output_type": "stream",
     "text": [
      "torch.Size([64, 1, 28, 28]) torch.float32\n",
      "torch.Size([64])\n"
     ]
    }
   ],
   "source": [
    "#1、从Torchvision中直接拿去数据\n",
    "train_data = datasets.KMNIST(root='data',train=True,\\\n",
    "                                   download=True,transform=ToTensor())\n",
    "test_data = datasets.KMNIST(root='data',train=False,\\\n",
    "                                  download=True,transform=ToTensor())\n",
    "batch_size = 64\n",
    "train_dataloader = DataLoader(train_data, batch_size=batch_size, shuffle=True)\n",
    "test_dataloader = DataLoader(test_data, batch_size=batch_size)\n",
    "#查看数据,就是包含了训练的数据和标签\n",
    "for n,m in train_dataloader:\n",
    "    print(n.shape,n.dtype)\n",
    "    print(m.shape)\n",
    "    break"
   ]
  },
  {
   "cell_type": "code",
   "execution_count": 45,
   "id": "7e889efd-166e-4a7f-a34e-584063bde9d3",
   "metadata": {},
   "outputs": [
    {
     "name": "stdout",
     "output_type": "stream",
     "text": [
      "cpu\n",
      "NeuralNetwork(\n",
      "  (flatten): Flatten(start_dim=1, end_dim=-1)\n",
      "  (kpipeline): Sequential(\n",
      "    (0): Linear(in_features=784, out_features=512, bias=True)\n",
      "    (1): ReLU()\n",
      "    (2): Linear(in_features=512, out_features=256, bias=True)\n",
      "    (3): ReLU()\n",
      "    (4): Linear(in_features=256, out_features=128, bias=True)\n",
      "    (5): ReLU()\n",
      "    (6): Linear(in_features=128, out_features=64, bias=True)\n",
      "    (7): ReLU()\n",
      "    (8): Linear(in_features=64, out_features=10, bias=True)\n",
      "  )\n",
      ")\n"
     ]
    }
   ],
   "source": [
    "device = 'cuda' if torch.cuda.is_available() else 'cpu'\n",
    "print(device)\n",
    "#2、定义神经网络\n",
    "class NeuralNetwork(nn.Module):\n",
    "    def __init__(self):\n",
    "        super().__init__()\n",
    "        self.flatten = nn.Flatten()\n",
    "        self.kpipeline = nn.Sequential(\n",
    "            nn.Linear(28*28,512),\n",
    "            nn.ReLU(),\n",
    "            nn.Linear(512,256),\n",
    "            nn.ReLU(),\n",
    "            nn.Linear(256,128),\n",
    "            nn.ReLU(),\n",
    "            nn.Linear(128,64),\n",
    "            nn.ReLU(),\n",
    "            nn.Linear(64,10)          \n",
    "        )\n",
    "    def forward(self,x):\n",
    "        x = self.flatten(x)\n",
    "        logits = self.kpipeline(x)\n",
    "        return logits\n",
    "model = NeuralNetwork()\n",
    "print(model)"
   ]
  },
  {
   "cell_type": "code",
   "execution_count": 46,
   "id": "ba3ca4d0-796d-4933-b4ef-74666f07c7b4",
   "metadata": {},
   "outputs": [],
   "source": [
    "#3、定义模型损失函数和优化器\n",
    "loss_fn = nn.CrossEntropyLoss()\n",
    "optimizer = torch.optim.Adam(model.parameters(),lr=1e-3)"
   ]
  },
  {
   "cell_type": "code",
   "execution_count": 47,
   "id": "381be756-7450-4287-9c83-bb500e1a5414",
   "metadata": {},
   "outputs": [],
   "source": [
    "#4、开始训练\n",
    "def train(dataloader,model,loss,optimizer):\n",
    "    model.train()\n",
    "    for batch,(x,y) in enumerate(dataloader):\n",
    "        x, y = x.to(device),y.to(device)\n",
    "        pred= model(x)\n",
    "        loss = loss_fn(pred, y)\n",
    "        model.zero_grad()\n",
    "        loss.backward()\n",
    "        optimizer.step()\n",
    "        if batch % 100 == 0:\n",
    "            print(f'batch:{batch},loss:{loss:.6f}')"
   ]
  },
  {
   "cell_type": "code",
   "execution_count": 51,
   "id": "34039e02-38d0-48ea-aa74-70278bb9d5c4",
   "metadata": {},
   "outputs": [],
   "source": [
    "loss_list = []\n",
    "cor_list = []\n",
    "def test(dataloader,model,loss):\n",
    "    size = len(dataloader.dataset) #数据样本总个数\n",
    "    num_batches = len(dataloader)  #一共多少批次\n",
    "    model.eval()\n",
    "    test_loss,corrent = 0, 0\n",
    "    with torch.no_grad():\n",
    "        for batch,(x,y) in enumerate(dataloader):\n",
    "            x, y = x.to(device),y.to(device)\n",
    "            pred = model(x)\n",
    "            test_loss += (loss_fn(pred, y)).item()  #用item()得到的是数值了就\n",
    "            corrent +=((pred.argmax(dim=1))==y).type(torch.float).sum().item()\n",
    "    test_loss /= num_batches #每个批次的损失相加后除以总批次就是每个批次的 平均损失\n",
    "    corrent /=size           # 正确的个数 除以 总个数 就是准确率呀\n",
    "    print(f'mean loss:{test_loss},Acc:{corrent}')\n",
    "    loss_list.append(test_loss)\n",
    "    cor_list.append(corrent)\n",
    "    return loss_list,cor_list"
   ]
  },
  {
   "cell_type": "code",
   "execution_count": null,
   "id": "ca0a211e-397d-4bee-b18b-40b26494a1cd",
   "metadata": {},
   "outputs": [],
   "source": []
  },
  {
   "cell_type": "code",
   "execution_count": 52,
   "id": "4c47d32b-1d79-40d7-a968-ed92b37414f0",
   "metadata": {},
   "outputs": [
    {
     "name": "stdout",
     "output_type": "stream",
     "text": [
      "当前epoch:0\n",
      "batch:0,loss:0.005549\n",
      "batch:100,loss:0.051228\n",
      "batch:200,loss:0.083863\n",
      "batch:300,loss:0.012749\n",
      "batch:400,loss:0.021841\n",
      "batch:500,loss:0.007278\n",
      "batch:600,loss:0.176759\n",
      "batch:700,loss:0.041206\n",
      "batch:800,loss:0.034725\n",
      "batch:900,loss:0.073579\n",
      "mean loss:0.3901351562398634,Acc:0.9043\n",
      "当前epoch:1\n",
      "batch:0,loss:0.082484\n",
      "batch:100,loss:0.002394\n",
      "batch:200,loss:0.013528\n",
      "batch:300,loss:0.012695\n",
      "batch:400,loss:0.015970\n",
      "batch:500,loss:0.004654\n",
      "batch:600,loss:0.095030\n",
      "batch:700,loss:0.009298\n",
      "batch:800,loss:0.106560\n",
      "batch:900,loss:0.144487\n",
      "mean loss:0.39682370220210145,Acc:0.9073\n",
      "当前epoch:2\n",
      "batch:0,loss:0.089358\n",
      "batch:100,loss:0.004191\n",
      "batch:200,loss:0.000880\n",
      "batch:300,loss:0.009232\n",
      "batch:400,loss:0.002488\n",
      "batch:500,loss:0.014571\n",
      "batch:600,loss:0.022761\n",
      "batch:700,loss:0.001651\n",
      "batch:800,loss:0.045327\n",
      "batch:900,loss:0.091456\n",
      "mean loss:0.4139060653793584,Acc:0.9088\n",
      "当前epoch:3\n",
      "batch:0,loss:0.001968\n",
      "batch:100,loss:0.028927\n",
      "batch:200,loss:0.015891\n",
      "batch:300,loss:0.003101\n",
      "batch:400,loss:0.003133\n",
      "batch:500,loss:0.053370\n",
      "batch:600,loss:0.016133\n",
      "batch:700,loss:0.023009\n",
      "batch:800,loss:0.005420\n",
      "batch:900,loss:0.002630\n",
      "mean loss:0.41658458775680535,Acc:0.9137\n",
      "当前epoch:4\n",
      "batch:0,loss:0.024782\n",
      "batch:100,loss:0.003151\n",
      "batch:200,loss:0.000354\n",
      "batch:300,loss:0.013623\n",
      "batch:400,loss:0.019295\n",
      "batch:500,loss:0.002626\n",
      "batch:600,loss:0.001712\n",
      "batch:700,loss:0.040333\n",
      "batch:800,loss:0.002454\n",
      "batch:900,loss:0.003488\n",
      "mean loss:0.44699727608614664,Acc:0.9132\n",
      "训练结束\n"
     ]
    }
   ],
   "source": [
    "# 6、训练查看结果 增加两层中间层和使用Adam优化器\n",
    "epochs = 5\n",
    "for i in range(epochs):\n",
    "    print(f'当前epoch:{i}')\n",
    "    train(train_dataloader,model,loss_fn,optimizer)\n",
    "    test(test_dataloader,model,loss_fn)\n",
    "print(f'训练结束')"
   ]
  },
  {
   "cell_type": "code",
   "execution_count": 55,
   "id": "bcaaf5a8-3efe-4d95-bbf3-911de78667f5",
   "metadata": {},
   "outputs": [
    {
     "data": {
      "image/png": "[encoded data removed]",
      "text/plain": [
       "<Figure size 640x480 with 1 Axes>"
      ]
     },
     "metadata": {},
     "output_type": "display_data"
    }
   ],
   "source": [
    "plt.plot(loss_list,cor_list)\n",
    "plt.show()"
   ]
  },
  {
   "cell_type": "code",
   "execution_count": 44,
   "id": "cff93730-c17a-4b46-8949-8e38bcd0905e",
   "metadata": {},
   "outputs": [
    {
     "name": "stdout",
     "output_type": "stream",
     "text": [
      "当前epoch:0\n",
      "batch:0,loss:2.315005\n",
      "batch:100,loss:2.297826\n",
      "batch:200,loss:2.307921\n",
      "batch:300,loss:2.299068\n",
      "batch:400,loss:2.293647\n",
      "batch:500,loss:2.304108\n",
      "batch:600,loss:2.293057\n",
      "batch:700,loss:2.307006\n",
      "batch:800,loss:2.305202\n",
      "batch:900,loss:2.304445\n",
      "mean loss:2.3045927551901264,Acc:0.1269\n",
      "当前epoch:1\n",
      "batch:0,loss:2.305893\n",
      "batch:100,loss:2.305712\n",
      "batch:200,loss:2.309381\n",
      "batch:300,loss:2.300283\n",
      "batch:400,loss:2.301201\n",
      "batch:500,loss:2.304211\n",
      "batch:600,loss:2.304339\n",
      "batch:700,loss:2.297646\n",
      "batch:800,loss:2.310352\n",
      "batch:900,loss:2.311917\n",
      "mean loss:2.3045927551901264,Acc:0.1269\n",
      "当前epoch:2\n",
      "batch:0,loss:2.300241\n",
      "batch:100,loss:2.297178\n",
      "batch:200,loss:2.307223\n",
      "batch:300,loss:2.306372\n",
      "batch:400,loss:2.301532\n",
      "batch:500,loss:2.300491\n",
      "batch:600,loss:2.306440\n",
      "batch:700,loss:2.294038\n",
      "batch:800,loss:2.308191\n",
      "batch:900,loss:2.318787\n",
      "mean loss:2.3045927551901264,Acc:0.1269\n",
      "当前epoch:3\n",
      "batch:0,loss:2.303449\n",
      "batch:100,loss:2.298046\n",
      "batch:200,loss:2.300879\n",
      "batch:300,loss:2.301942\n",
      "batch:400,loss:2.314949\n",
      "batch:500,loss:2.305953\n",
      "batch:600,loss:2.310158\n",
      "batch:700,loss:2.302102\n",
      "batch:800,loss:2.303350\n",
      "batch:900,loss:2.295961\n",
      "mean loss:2.3045927551901264,Acc:0.1269\n",
      "当前epoch:4\n",
      "batch:0,loss:2.308597\n",
      "batch:100,loss:2.304182\n",
      "batch:200,loss:2.310505\n",
      "batch:300,loss:2.295728\n",
      "batch:400,loss:2.299951\n",
      "batch:500,loss:2.300188\n",
      "batch:600,loss:2.296894\n",
      "batch:700,loss:2.300372\n",
      "batch:800,loss:2.307120\n",
      "batch:900,loss:2.299651\n",
      "mean loss:2.3045927551901264,Acc:0.1269\n",
      "训练结束\n"
     ]
    }
   ],
   "source": [
    "#5、训练查看结果\n",
    "epochs = 5\n",
    "for i in range(epochs):\n",
    "    print(f'当前epoch:{i}')\n",
    "    train(train_dataloader,model,loss_fn,optimizer)\n",
    "    test(test_dataloader,model,loss_fn)\n",
    "print(f'训练结束')"
   ]
  },
  {
   "cell_type": "code",
   "execution_count": null,
   "id": "98d16874-7ab7-43ae-a886-cd3ef30283d9",
   "metadata": {},
   "outputs": [],
   "source": []
  },
  {
   "cell_type": "code",
   "execution_count": 5,
   "id": "4671219a-d9ba-41ac-9daf-10424aad505a",
   "metadata": {},
   "outputs": [
    {
     "data": {
      "text/plain": [
       "Dataset KMNIST\n",
       "    Number of datapoints: 10000\n",
       "    Root location: data\n",
       "    Split: Test\n",
       "    StandardTransform\n",
       "Transform: ToTensor()"
      ]
     },
     "execution_count": 5,
     "metadata": {},
     "output_type": "execute_result"
    }
   ],
   "source": [
    "test_data"
   ]
  },
  {
   "cell_type": "code",
   "execution_count": null,
   "id": "b3c24fdf-070f-4145-ba96-a9b991e19805",
   "metadata": {},
   "outputs": [],
   "source": []
  }
 ],
 "metadata": {
  "kernelspec": {
   "display_name": "Python 3 (ipykernel)",
   "language": "python",
   "name": "python3"
  },
  "language_info": {
   "codemirror_mode": {
    "name": "ipython",
    "version": 3
   },
   "file_extension": ".py",
   "mimetype": "text/x-python",
   "name": "python",
   "nbconvert_exporter": "python",
   "pygments_lexer": "ipython3",
   "version": "3.10.16"
  }
 },
 "nbformat": 4,
 "nbformat_minor": 5
}
