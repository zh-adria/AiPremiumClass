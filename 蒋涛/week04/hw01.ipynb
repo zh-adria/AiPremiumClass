{
 "cells": [
  {
   "cell_type": "markdown",
   "metadata": {},
   "source": [
    "#### Olivetti Face 数据集神经网络训练"
   ]
  },
  {
   "cell_type": "code",
   "execution_count": 43,
   "metadata": {},
   "outputs": [],
   "source": [
    "import numpy as np\n",
    "import torch\n",
    "import torch.nn as nn\n",
    "import torch.optim as optim\n",
    "from torchvision import transforms\n",
    "from sklearn.datasets import fetch_olivetti_faces\n",
    "from sklearn.model_selection import train_test_split\n",
    "from torch.utils.data import TensorDataset, DataLoader"
   ]
  },
  {
   "cell_type": "markdown",
   "metadata": {},
   "source": [
    "#### 数据加载"
   ]
  },
  {
   "cell_type": "code",
   "execution_count": null,
   "metadata": {},
   "outputs": [],
   "source": [
    "# 1️、下载 Olivetti Faces 数据集\n",
    "data = fetch_olivetti_faces(data_home='./face_data', shuffle=True)\n",
    "images = data.images  # 图像数据 (400, 64, 64)\n",
    "targets = data.target # 标签数据 (400,)\n",
    "\n",
    "# 2️、归一化 (Olivetti 本身已经归一化到 0-1, 但可以调整到 -1 ~ 1 以适应 Tanh/BatchNorm)\n",
    "transform = transforms.Compose([\n",
    "    transforms.ToTensor(),\n",
    "    transforms.Normalize(mean=[0.5], std=[0.5])  \n",
    "])\n",
    "\n",
    "# 3️、处理数据形状\n",
    "X = images.reshape(-1, 1, 64, 64)  # (400, 1, 64, 64)  => 单通道灰度图\n",
    "y = targets                         # 标签 0 ~ 39（共 40 个人，每人 10 张）\n",
    "\n",
    "# 4️、训练集 & 测试集拆分\n",
    "X_train, X_test, y_train, y_test = train_test_split(X, y, test_size=0.2, random_state=42)\n",
    "\n",
    "# 5️、转换为张量\n",
    "X_train, y_train = torch.tensor(X_train, dtype=torch.float32), torch.tensor(y_train, dtype=torch.long)\n",
    "X_test, y_test = torch.tensor(X_test, dtype=torch.float32), torch.tensor(y_test, dtype=torch.long)\n",
    "\n",
    "# 6️、封装为 DataLoader\n",
    "BATCH_SIZE = 32\n",
    "train_ds = TensorDataset(X_train, y_train)\n",
    "test_ds = TensorDataset(X_test, y_test)\n",
    "\n",
    "train_loader = DataLoader(train_ds, batch_size=BATCH_SIZE, shuffle=True)\n",
    "test_loader = DataLoader(test_ds, batch_size=BATCH_SIZE)"
   ]
  },
  {
   "cell_type": "markdown",
   "metadata": {},
   "source": [
    "#### 构建神经网络"
   ]
  },
  {
   "cell_type": "code",
   "execution_count": 48,
   "metadata": {},
   "outputs": [],
   "source": [
    "class FaceRecognitionNN(nn.Module):\n",
    "    def __init__(self):\n",
    "        super(FaceRecognitionNN, self).__init__()\n",
    "        self.model = nn.Sequential(\n",
    "            nn.Flatten(),  # (1, 64, 64) -> (4096,)\n",
    "            nn.Linear(64*64, 512),\n",
    "            nn.BatchNorm1d(512),\n",
    "            nn.Sigmoid(),\n",
    "            nn.Dropout(0.3),\n",
    "            \n",
    "            nn.Linear(512, 256),\n",
    "            nn.BatchNorm1d(256),\n",
    "            nn.Sigmoid(),\n",
    "            nn.Dropout(0.3),\n",
    "            \n",
    "            nn.Linear(256, 128),\n",
    "            nn.BatchNorm1d(128),\n",
    "            nn.Sigmoid(),\n",
    "            \n",
    "            nn.Linear(128, 40)  # 40 类\n",
    "        )\n",
    "    \n",
    "    def forward(self, x):\n",
    "        return self.model(x)\n",
    "\n",
    "# **实例化模型**\n",
    "model = FaceRecognitionNN()\n"
   ]
  },
  {
   "cell_type": "markdown",
   "metadata": {},
   "source": [
    "#### 尝试不同优化器"
   ]
  },
  {
   "cell_type": "code",
   "execution_count": 49,
   "metadata": {},
   "outputs": [],
   "source": [
    "# **交叉熵损失函数**\n",
    "loss_fn = nn.CrossEntropyLoss()\n",
    "\n",
    "# **不同优化器**\n",
    "optimizers = {\n",
    "    \"SGD\": optim.SGD(model.parameters(), lr=0.01, momentum=0.9),\n",
    "    \"Adam\": optim.Adam(model.parameters(), lr=0.001),\n",
    "    \"RMSprop\": optim.RMSprop(model.parameters(), lr=0.001)\n",
    "}\n"
   ]
  },
  {
   "cell_type": "markdown",
   "metadata": {},
   "source": [
    "#### 训练过程"
   ]
  },
  {
   "cell_type": "code",
   "execution_count": 51,
   "metadata": {},
   "outputs": [],
   "source": [
    "def train_and_evaluate(optimizer_name, optimizer):\n",
    "    model.train()\n",
    "    epochs = 20\n",
    "    loss_history = []\n",
    "\n",
    "    for epoch in range(epochs):\n",
    "        total_loss = 0\n",
    "        for data, target in train_loader:\n",
    "            data = data.view(data.size(0), -1)  # 展平成一维\n",
    "\n",
    "            optimizer.zero_grad()\n",
    "            output = model(data)\n",
    "            loss = loss_fn(output, target)\n",
    "            loss.backward()\n",
    "            optimizer.step()\n",
    "            \n",
    "            total_loss += loss.item()\n",
    "\n",
    "        avg_loss = total_loss / len(train_loader)\n",
    "        loss_history.append(avg_loss)\n",
    "        print(f\"Optimizer: {optimizer_name} | Epoch [{epoch+1}/{epochs}], Loss: {avg_loss:.4f}\")\n",
    "    \n",
    "    return loss_history\n"
   ]
  },
  {
   "cell_type": "markdown",
   "metadata": {},
   "source": [
    "#### 运行训练并观察 loss"
   ]
  },
  {
   "cell_type": "code",
   "execution_count": null,
   "metadata": {},
   "outputs": [
    {
     "name": "stdout",
     "output_type": "stream",
     "text": [
      "\n",
      "🔹 Training with SGD Optimizer\n",
      "Optimizer: SGD | Epoch [1/20], Loss: 3.7030\n",
      "Optimizer: SGD | Epoch [2/20], Loss: 3.5813\n",
      "Optimizer: SGD | Epoch [3/20], Loss: 3.5200\n",
      "Optimizer: SGD | Epoch [4/20], Loss: 3.4460\n",
      "Optimizer: SGD | Epoch [5/20], Loss: 3.3628\n",
      "Optimizer: SGD | Epoch [6/20], Loss: 3.3166\n",
      "Optimizer: SGD | Epoch [7/20], Loss: 3.2531\n",
      "Optimizer: SGD | Epoch [8/20], Loss: 3.1954\n",
      "Optimizer: SGD | Epoch [9/20], Loss: 3.1296\n",
      "Optimizer: SGD | Epoch [10/20], Loss: 3.0712\n",
      "Optimizer: SGD | Epoch [11/20], Loss: 3.0022\n",
      "Optimizer: SGD | Epoch [12/20], Loss: 2.9405\n",
      "Optimizer: SGD | Epoch [13/20], Loss: 2.8716\n",
      "Optimizer: SGD | Epoch [14/20], Loss: 2.8332\n",
      "Optimizer: SGD | Epoch [15/20], Loss: 2.7379\n",
      "Optimizer: SGD | Epoch [16/20], Loss: 2.6908\n",
      "Optimizer: SGD | Epoch [17/20], Loss: 2.6119\n",
      "Optimizer: SGD | Epoch [18/20], Loss: 2.5582\n",
      "Optimizer: SGD | Epoch [19/20], Loss: 2.4873\n",
      "Optimizer: SGD | Epoch [20/20], Loss: 2.3872\n",
      "\n",
      "🔹 Training with Adam Optimizer\n",
      "Optimizer: Adam | Epoch [1/20], Loss: 2.6891\n",
      "Optimizer: Adam | Epoch [2/20], Loss: 2.4937\n",
      "Optimizer: Adam | Epoch [3/20], Loss: 2.3587\n",
      "Optimizer: Adam | Epoch [4/20], Loss: 2.2289\n",
      "Optimizer: Adam | Epoch [5/20], Loss: 2.1436\n",
      "Optimizer: Adam | Epoch [6/20], Loss: 2.0472\n",
      "Optimizer: Adam | Epoch [7/20], Loss: 1.9792\n",
      "Optimizer: Adam | Epoch [8/20], Loss: 1.9012\n",
      "Optimizer: Adam | Epoch [9/20], Loss: 1.8503\n",
      "Optimizer: Adam | Epoch [10/20], Loss: 1.7655\n",
      "Optimizer: Adam | Epoch [11/20], Loss: 1.6964\n",
      "Optimizer: Adam | Epoch [12/20], Loss: 1.6336\n",
      "Optimizer: Adam | Epoch [13/20], Loss: 1.5860\n",
      "Optimizer: Adam | Epoch [14/20], Loss: 1.5202\n",
      "Optimizer: Adam | Epoch [15/20], Loss: 1.4440\n",
      "Optimizer: Adam | Epoch [16/20], Loss: 1.4032\n",
      "Optimizer: Adam | Epoch [17/20], Loss: 1.3336\n",
      "Optimizer: Adam | Epoch [18/20], Loss: 1.2627\n",
      "Optimizer: Adam | Epoch [19/20], Loss: 1.2339\n",
      "Optimizer: Adam | Epoch [20/20], Loss: 1.1815\n",
      "\n",
      "🔹 Training with RMSprop Optimizer\n",
      "Optimizer: RMSprop | Epoch [1/20], Loss: 1.9495\n",
      "Optimizer: RMSprop | Epoch [2/20], Loss: 1.2787\n",
      "Optimizer: RMSprop | Epoch [3/20], Loss: 1.0548\n",
      "Optimizer: RMSprop | Epoch [4/20], Loss: 0.9747\n",
      "Optimizer: RMSprop | Epoch [5/20], Loss: 0.8902\n",
      "Optimizer: RMSprop | Epoch [6/20], Loss: 0.7891\n",
      "Optimizer: RMSprop | Epoch [7/20], Loss: 0.7369\n",
      "Optimizer: RMSprop | Epoch [8/20], Loss: 0.6531\n",
      "Optimizer: RMSprop | Epoch [9/20], Loss: 0.6811\n",
      "Optimizer: RMSprop | Epoch [10/20], Loss: 0.5952\n",
      "Optimizer: RMSprop | Epoch [11/20], Loss: 0.5292\n",
      "Optimizer: RMSprop | Epoch [12/20], Loss: 0.5317\n",
      "Optimizer: RMSprop | Epoch [13/20], Loss: 0.4724\n",
      "Optimizer: RMSprop | Epoch [14/20], Loss: 0.4426\n",
      "Optimizer: RMSprop | Epoch [15/20], Loss: 0.4010\n",
      "Optimizer: RMSprop | Epoch [16/20], Loss: 0.3960\n",
      "Optimizer: RMSprop | Epoch [17/20], Loss: 0.3794\n",
      "Optimizer: RMSprop | Epoch [18/20], Loss: 0.3539\n",
      "Optimizer: RMSprop | Epoch [19/20], Loss: 0.3197\n",
      "Optimizer: RMSprop | Epoch [20/20], Loss: 0.3065\n"
     ]
    },
    {
     "data": {
      "image/png": "[encoded data removed]",
      "text/plain": [
       "<Figure size 1000x500 with 1 Axes>"
      ]
     },
     "metadata": {},
     "output_type": "display_data"
    }
   ],
   "source": [
    "import matplotlib.pyplot as plt\n",
    "\n",
    "loss_results = {}\n",
    "for name, opt in optimizers.items():\n",
    "    print(f\"\\n🔹 使用 {name} 优化训练\")\n",
    "    loss_results[name] = train_and_evaluate(name, opt)\n",
    "\n",
    "# **绘制 Loss 曲线**\n",
    "plt.figure(figsize=(10, 5))\n",
    "for name, loss_hist in loss_results.items():\n",
    "    plt.plot(loss_hist, label=name)\n",
    "plt.xlabel(\"Epochs\")\n",
    "plt.ylabel(\"Loss\")\n",
    "plt.legend()\n",
    "plt.title(\"Loss Comparison of Different Optimizers\")\n",
    "plt.show()\n"
   ]
  },
  {
   "cell_type": "code",
   "execution_count": 58,
   "metadata": {},
   "outputs": [],
   "source": [
    "def evaluate(model, test_loader):\n",
    "    model.eval()\n",
    "    correct = 0\n",
    "    total = 0\n",
    "\n",
    "    with torch.no_grad():\n",
    "        for data, target in test_loader:\n",
    "            data = data.view(data.size(0), -1)\n",
    "            output = model(data)\n",
    "            _, predicted = torch.max(output, 1)\n",
    "            total += target.size(0)\n",
    "            correct += (predicted == target).sum().item()\n",
    "\n",
    "    accuracy = correct / total * 100\n",
    "    print(f\"测试集准确率: {accuracy:.2f}%\")\n",
    "    return accuracy\n"
   ]
  },
  {
   "cell_type": "code",
   "execution_count": 57,
   "metadata": {},
   "outputs": [
    {
     "name": "stdout",
     "output_type": "stream",
     "text": [
      "\n",
      "模型名称：SGD\n",
      "📌 测试集准确率: 92.50%\n",
      "\n",
      "模型名称：Adam\n",
      "📌 测试集准确率: 92.50%\n",
      "\n",
      "模型名称：RMSprop\n",
      "📌 测试集准确率: 92.50%\n"
     ]
    }
   ],
   "source": [
    "for name, opt in optimizers.items():\n",
    "    print(f\"\\n模型名称：{name}\")\n",
    "    evaluate(model, test_loader)\n"
   ]
  }
 ],
 "metadata": {
  "kernelspec": {
   "display_name": "py312",
   "language": "python",
   "name": "python3"
  },
  "language_info": {
   "codemirror_mode": {
    "name": "ipython",
    "version": 3
   },
   "file_extension": ".py",
   "mimetype": "text/x-python",
   "name": "python",
   "nbconvert_exporter": "python",
   "pygments_lexer": "ipython3",
   "version": "3.12.4"
  }
 },
 "nbformat": 4,
 "nbformat_minor": 2
}
