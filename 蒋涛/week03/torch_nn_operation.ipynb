{
 "cells": [
  {
   "cell_type": "markdown",
   "metadata": {},
   "source": [
    "#### 第三周作业 pytorch神经网络"
   ]
  },
  {
   "cell_type": "code",
   "execution_count": null,
   "metadata": {},
   "outputs": [
    {
     "name": "stdout",
     "output_type": "stream",
     "text": [
      "Epoch:0 Loss: 2.3030619621276855\n",
      "Epoch:1 Loss: 2.2954723834991455\n",
      "Epoch:2 Loss: 2.293977975845337\n",
      "Epoch:3 Loss: 2.289419174194336\n",
      "Epoch:4 Loss: 2.280911445617676\n",
      "Epoch:5 Loss: 2.2816901206970215\n",
      "Epoch:6 Loss: 2.2626755237579346\n",
      "Epoch:7 Loss: 2.2372329235076904\n",
      "Epoch:8 Loss: 2.201854705810547\n",
      "Epoch:9 Loss: 2.1333377361297607\n",
      "Epoch:10 Loss: 2.105405330657959\n",
      "Epoch:11 Loss: 1.946487545967102\n",
      "Epoch:12 Loss: 1.9227451086044312\n",
      "Epoch:13 Loss: 1.898412823677063\n",
      "Epoch:14 Loss: 1.8832536935806274\n",
      "Epoch:15 Loss: 1.850925326347351\n",
      "Epoch:16 Loss: 1.8833194971084595\n",
      "Epoch:17 Loss: 1.894241452217102\n",
      "Epoch:18 Loss: 1.741166114807129\n",
      "Epoch:19 Loss: 1.7241076231002808\n",
      "Accuracy: 41.760000000000005%\n"
     ]
    }
   ],
   "source": [
    "# 导入必要包\n",
    "import torch\n",
    "import torch.nn as nn\n",
    "import torch.optim as optim\n",
    "from torchvision.transforms.v2 import ToTensor     # 转换图像数据为张量\n",
    "from torchvision.datasets import KMNIST  # 平假字\n",
    "from torch.utils.data import DataLoader  # 数据加载器\n",
    "\n",
    "\n",
    "# 定义超参数\n",
    "LR = 1e-2  # 学习率\n",
    "epochs = 20 # 轮数\n",
    "BATCH_SIZE = 128 # 批次大小\n",
    "\n",
    "\n",
    "# 数据集加载\n",
    "train_data = KMNIST(root='./km_data', train=True, download=True, \n",
    "                          transform=ToTensor())\n",
    "test_data = KMNIST(root='./km_data', train=False, download=True,\n",
    "                         transform=ToTensor())\n",
    "\n",
    "\n",
    "train_dl = DataLoader(train_data, batch_size=BATCH_SIZE, shuffle=True)  # shuffle=True表示打乱数据\n",
    "\n",
    "# 定义模型\n",
    "model = nn.Sequential(\n",
    "    nn.Linear(784, 128),\n",
    "    nn.Sigmoid(),\n",
    "    nn.Linear(128, 64),  # 第二层\n",
    "    nn.Sigmoid(),\n",
    "    nn.Linear(64, 10)\n",
    ")\n",
    "\n",
    "# 损失函数&优化器\n",
    "loss_fn = nn.CrossEntropyLoss()  # 交叉熵损失函数\n",
    "\n",
    "# 优化器（模型参数更新）\n",
    "optimizer = torch.optim.SGD(model.parameters(), lr=LR)\n",
    "\n",
    "for epoch in range(epochs):\n",
    "    # 提取训练数据\n",
    "    for data, target in train_dl:\n",
    "        # 前向运算\n",
    "        output = model(data.reshape(-1, 784))\n",
    "        # 计算损失\n",
    "        loss = loss_fn(output, target)\n",
    "        # 反向传播\n",
    "        optimizer.zero_grad()  # 所有参数梯度清零\n",
    "        loss.backward()     # 计算梯度（参数.grad）\n",
    "        optimizer.step()    # 更新参数\n",
    "\n",
    "    print(f'Epoch:{epoch} Loss: {loss.item()}')\n",
    "\n",
    "\n",
    "\n",
    "# 测试\n",
    "test_dl = DataLoader(test_data, batch_size=BATCH_SIZE)\n",
    "\n",
    "correct = 0\n",
    "total = 0\n",
    "with torch.no_grad():  # 不计算梯度\n",
    "    for data, target in test_dl:\n",
    "        output = model(data.reshape(-1, 784))\n",
    "        _, predicted = torch.max(output, 1)  # 返回每行最大值和索引\n",
    "        total += target.size(0)  # size(0) 等效 shape[0]\n",
    "        correct += (predicted == target).sum().item()\n",
    "\n",
    "print(f'Accuracy: {correct/total*100}%')\n",
    "\n"
   ]
  },
  {
   "cell_type": "markdown",
   "metadata": {},
   "source": [
    "批次大小\n",
    "批次大小越小 训练需要更长时间；批次大小越大，训练更稳定\n",
    "\n",
    "学习率\n",
    "0.01 最不稳定，速度快。\n",
    "0.001 适中。\n",
    "0.0001 最稳定，速度慢。\n",
    "\n",
    "隐藏层神经元\n",
    "神经元数量越少，计算速度越快，准确率低，神经元数量越多，计算速度越慢，准确率高\n"
   ]
  }
 ],
 "metadata": {
  "kernelspec": {
   "display_name": "py312",
   "language": "python",
   "name": "python3"
  },
  "language_info": {
   "codemirror_mode": {
    "name": "ipython",
    "version": 3
   },
   "file_extension": ".py",
   "mimetype": "text/x-python",
   "name": "python",
   "nbconvert_exporter": "python",
   "pygments_lexer": "ipython3",
   "version": "3.12.4"
  }
 },
 "nbformat": 4,
 "nbformat_minor": 2
}
