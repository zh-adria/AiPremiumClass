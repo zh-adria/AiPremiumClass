{
 "cells": [
  {
   "cell_type": "code",
   "execution_count": 6,
   "metadata": {},
   "outputs": [
    {
     "name": "stdout",
     "output_type": "stream",
     "text": [
      "(100, 10)\n",
      "(100,)\n",
      "(80, 10)\n",
      "(20, 10)\n",
      "(80,)\n",
      "(20,)\n"
     ]
    }
   ],
   "source": [
    "import numpy as np\n",
    "from sklearn.datasets import make_classification\n",
    "from sklearn.model_selection import train_test_split\n",
    "\n",
    "#生成数据集\n",
    "X, y = make_classification(n_features=10, shuffle=True)\n",
    "print(X.shape)\n",
    "print(y.shape)\n",
    "\n",
    "#拆分数据集\n",
    "X_train, X_test, y_train, y_test = train_test_split(X, y, test_size=0.2, random_state=123)\n",
    "print(X_train.shape)\n",
    "print(X_test.shape)\n",
    "print(y_train.shape)\n",
    "print(y_test.shape)\n",
    "\n",
    "#初始化模型参数\n",
    "thetas = np.random.randn(1,10)\n",
    "bias = 0\n",
    "lr = 1e-3\n",
    "epochs = 5000\n",
    "\n",
    "#前向计算\n",
    "def forward(X, thetas, bias):\n",
    "    z =  np.dot(thetas, X.T) + bias\n",
    "    y_hat = 1 / (1 + np.exp(-z)) #sigmoid函数\n",
    "    return y_hat\n",
    "#计算损失函数\n",
    "def loss(y, y_hat):\n",
    "    return -np.mean(y * np.log(y_hat) + (1 - y) * np.log(1 - y_hat))\n",
    "#反向传播 计算梯度\n",
    "def backward(X, y, y_hat):\n",
    "    m = X.shape[-1]\n",
    "    d_theta = 1 / m * np.dot(y_hat - y, X)\n",
    "    d_bias = np.mean(y_hat - y)\n",
    "    return d_theta, d_bias\n",
    "#梯度下降\n",
    "def gradient_descent(X, y, thetas, bias, lr, epochs):\n",
    "    for i in range(epochs):\n",
    "        y_hat = forward(X, thetas, bias)\n",
    "        d_theta, d_bias = backward(X, y, y_hat)\n",
    "        thetas -= lr * d_theta\n",
    "        bias -= lr * d_bias\n",
    "        if i % 1000 == 0:\n",
    "            print('epoch %d loss %f' % (i, loss(y, y_hat)))\n",
    "    return thetas, bias\n",
    "\n",
    "\n"
   ]
  },
  {
   "cell_type": "code",
   "execution_count": 7,
   "metadata": {},
   "outputs": [
    {
     "name": "stdout",
     "output_type": "stream",
     "text": [
      "epoch 0 loss 0.826320\n",
      "epoch 1000 loss 0.242028\n",
      "epoch 2000 loss 0.187903\n",
      "epoch 3000 loss 0.169581\n",
      "epoch 4000 loss 0.159317\n",
      "[[-0.15614289  0.78055514 -0.45155659  2.62536106  0.19503418  0.34219511\n",
      "  -0.28633703  1.04328678  1.17822274  0.84214648]]\n",
      "-0.20462891702010494\n"
     ]
    }
   ],
   "source": [
    "#训练模型\n",
    "thetas, bias = gradient_descent(X_train, y_train, thetas, bias, lr, epochs)\n",
    "print(thetas)\n",
    "print(bias)"
   ]
  },
  {
   "cell_type": "code",
   "execution_count": 18,
   "metadata": {},
   "outputs": [
    {
     "name": "stdout",
     "output_type": "stream",
     "text": [
      "预测结果: 1\n",
      "实际结果: 1\n"
     ]
    }
   ],
   "source": [
    "#模型测试\n",
    "idx = np.random.randint(len(X_test))\n",
    "x = X_test[idx]\n",
    "y = y_test[idx]\n",
    "\n",
    "def predict(x):\n",
    "    pred = forward(x, thetas, bias)[0]\n",
    "    if pred >= 0.5:\n",
    "        return 1\n",
    "    else:\n",
    "        return 0\n",
    "    \n",
    "print(\"预测结果:\", predict(x))\n",
    "print(\"实际结果:\", y)"
   ]
  }
 ],
 "metadata": {
  "kernelspec": {
   "display_name": "py312",
   "language": "python",
   "name": "python3"
  },
  "language_info": {
   "codemirror_mode": {
    "name": "ipython",
    "version": 3
   },
   "file_extension": ".py",
   "mimetype": "text/x-python",
   "name": "python",
   "nbconvert_exporter": "python",
   "pygments_lexer": "ipython3",
   "version": "3.12.9"
  }
 },
 "nbformat": 4,
 "nbformat_minor": 2
}
