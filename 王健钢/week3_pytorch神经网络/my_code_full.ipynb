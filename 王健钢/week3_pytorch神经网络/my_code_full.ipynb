{
 "cells": [
  {
   "cell_type": "markdown",
   "metadata": {},
   "source": [
    "### pytorch fashionmnist数据集 神经网络搭建和训练"
   ]
  },
  {
   "cell_type": "code",
   "execution_count": 46,
   "metadata": {},
   "outputs": [],
   "source": [
    "# 导入必要包\n",
    "import torch\n",
    "import torch.nn as nn\n",
    "import torch.optim as optim\n",
    "from torchvision.transforms.v2 import ToTensor     # 转换图像数据为张量\n",
    "from torchvision.datasets import FashionMNIST\n",
    "from torch.utils.data import DataLoader  # 数据加载器\n",
    "\n",
    "\n",
    "# 定义超参数\n",
    "LR = 1e-3\n",
    "epochs = 30\n",
    "BATCH_SIZE = 128\n",
    "# BATCH_SIZE = 256\n",
    "#加载数据集\n",
    "train_data = FashionMNIST(root='D:\\\\datasets\\\\fashion_data', train=True, download=True, transform=ToTensor())\n",
    "test_data = FashionMNIST(root='D:\\\\datasets\\\\fashion_data', train=False, download=True, transform=ToTensor())\n",
    "\n",
    "# 构建数据加载器\n",
    "train_loader = DataLoader(train_data, batch_size=BATCH_SIZE, shuffle=True)\n",
    "\n",
    "\n",
    "# 定义模型\n",
    "model = nn.Sequential(\n",
    "    # nn.Linear(784, 64),\n",
    "    nn.Linear(784, 128),\n",
    "    nn.Sigmoid(),\n",
    "    # nn.Linear(64, 10)\n",
    "    # nn.Linear(128, 128),\n",
    "    # nn.Sigmoid(),\n",
    "    nn.Linear(128, 10)\n",
    ")\n",
    "\n",
    "# 损失函数&优化器\n",
    "loss_fn = nn.CrossEntropyLoss()  # 交叉熵损失函数\n",
    "# 优化器（模型参数更新）\n",
    "optimizer = torch.optim.SGD(model.parameters(), lr=LR)\n"
   ]
  },
  {
   "cell_type": "code",
   "execution_count": 47,
   "metadata": {},
   "outputs": [
    {
     "name": "stdout",
     "output_type": "stream",
     "text": [
      "Epoch:0 Loss: 2.2730929851531982\n",
      "Epoch:1 Loss: 2.246588706970215\n",
      "Epoch:2 Loss: 2.208033561706543\n",
      "Epoch:3 Loss: 2.1766197681427\n",
      "Epoch:4 Loss: 2.152268409729004\n",
      "Epoch:5 Loss: 2.10693359375\n",
      "Epoch:6 Loss: 2.071204423904419\n",
      "Epoch:7 Loss: 2.0297207832336426\n",
      "Epoch:8 Loss: 1.9641906023025513\n",
      "Epoch:9 Loss: 1.9457193613052368\n",
      "Epoch:10 Loss: 1.9583629369735718\n",
      "Epoch:11 Loss: 1.8616796731948853\n",
      "Epoch:12 Loss: 1.782251238822937\n",
      "Epoch:13 Loss: 1.7574137449264526\n",
      "Epoch:14 Loss: 1.661603331565857\n",
      "Epoch:15 Loss: 1.682936668395996\n",
      "Epoch:16 Loss: 1.658170223236084\n",
      "Epoch:17 Loss: 1.5840295553207397\n",
      "Epoch:18 Loss: 1.5424813032150269\n",
      "Epoch:19 Loss: 1.5337834358215332\n",
      "Epoch:20 Loss: 1.5499153137207031\n",
      "Epoch:21 Loss: 1.4763778448104858\n",
      "Epoch:22 Loss: 1.4075239896774292\n",
      "Epoch:23 Loss: 1.3998628854751587\n",
      "Epoch:24 Loss: 1.3893016576766968\n",
      "Epoch:25 Loss: 1.3486145734786987\n",
      "Epoch:26 Loss: 1.2976391315460205\n",
      "Epoch:27 Loss: 1.3450475931167603\n",
      "Epoch:28 Loss: 1.3036731481552124\n",
      "Epoch:29 Loss: 1.2327946424484253\n"
     ]
    }
   ],
   "source": [
    "#训练\n",
    "for epoch in range(epochs):\n",
    "    # 提取训练数据\n",
    "    for data, target in train_loader:\n",
    "        # 前向运算\n",
    "        output = model(data.reshape(-1, 784))\n",
    "        # 计算损失\n",
    "        loss = loss_fn(output, target)\n",
    "        # 反向传播\n",
    "        optimizer.zero_grad()  # 所有参数梯度清零\n",
    "        loss.backward()     # 计算梯度（参数.grad）\n",
    "        optimizer.step()    # 更新参数\n",
    "\n",
    "    print(f'Epoch:{epoch} Loss: {loss.item()}')"
   ]
  },
  {
   "cell_type": "code",
   "execution_count": null,
   "metadata": {},
   "outputs": [
    {
     "name": "stdout",
     "output_type": "stream",
     "text": [
      "Accuracy of the network : 66 %\n",
      "predicted tensor([4, 2, 8, 1, 5, 2, 4, 7, 0, 4, 6, 6, 9, 8, 8, 0])\n",
      "target tensor([4, 6, 8, 1, 5, 6, 4, 5, 4, 4, 8, 6, 9, 9, 8, 0])\n",
      "num：10%\n",
      "Accuracy: 62.50%\n"
     ]
    }
   ],
   "source": [
    "#测试\n",
    "test_loader = DataLoader(test_data, batch_size=BATCH_SIZE, shuffle=True)\n",
    "\n",
    "correct = 0\n",
    "total = 0\n",
    "with torch.no_grad():  # 测试集不需要反向传播\n",
    "    for data, target in test_loader:\n",
    "        outputs = model(data.reshape(-1, 28 * 28))\n",
    "        _, predicted = torch.max(outputs, 1)\n",
    "        total += target.size(0)\n",
    "        correct += (predicted == target).sum().item()\n",
    "\n",
    "# output.shape\n",
    "# output\n",
    "print('Accuracy of the network : %d %%' % (100 * correct / total))\n",
    "print(f'predicted', predicted)\n",
    "print(f'target', target)\n",
    "print(f'num: {(predicted == target).int().sum()}')\n",
    "print(f'Accuracy: {(predicted == target).int().sum().item() / len(target) * 100:.2f}%')"
   ]
  },
  {
   "cell_type": "code",
   "execution_count": 53,
   "metadata": {},
   "outputs": [
    {
     "data": {
      "text/plain": [
       "tensor([1, 2, 2, 9, 4, 4, 0, 9, 0, 2, 5, 8, 0, 1, 0, 7])"
      ]
     },
     "execution_count": 53,
     "metadata": {},
     "output_type": "execute_result"
    }
   ],
   "source": [
    "predicted"
   ]
  },
  {
   "cell_type": "code",
   "execution_count": 50,
   "metadata": {},
   "outputs": [
    {
     "data": {
      "text/plain": [
       "tensor([5, 7, 9, 0, 7, 4, 3, 1, 5, 1, 7, 2, 6, 2, 1, 6])"
      ]
     },
     "execution_count": 50,
     "metadata": {},
     "output_type": "execute_result"
    }
   ],
   "source": [
    "target"
   ]
  },
  {
   "cell_type": "code",
   "execution_count": 51,
   "metadata": {},
   "outputs": [
    {
     "name": "stdout",
     "output_type": "stream",
     "text": [
      "tensor(10)\n"
     ]
    },
    {
     "data": {
      "text/plain": [
       "62.5"
      ]
     },
     "execution_count": 51,
     "metadata": {},
     "output_type": "execute_result"
    }
   ],
   "source": [
    "print((predicted == target).int().sum())\n",
    "\n",
    "(predicted == target).int().sum().item() / len(target) * 100"
   ]
  }
 ],
 "metadata": {
  "kernelspec": {
   "display_name": "py312",
   "language": "python",
   "name": "python3"
  },
  "language_info": {
   "codemirror_mode": {
    "name": "ipython",
    "version": 3
   },
   "file_extension": ".py",
   "mimetype": "text/x-python",
   "name": "python",
   "nbconvert_exporter": "python",
   "pygments_lexer": "ipython3",
   "version": "3.12.9"
  }
 },
 "nbformat": 4,
 "nbformat_minor": 2
}
