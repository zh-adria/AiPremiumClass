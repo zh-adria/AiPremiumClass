{
 "cells": [
  {
   "cell_type": "markdown",
   "metadata": {},
   "source": [
    "#### pytorch KMNIST数据集 神经网络搭建和训练"
   ]
  },
  {
   "cell_type": "code",
   "execution_count": 5,
   "metadata": {},
   "outputs": [
    {
     "name": "stderr",
     "output_type": "stream",
     "text": [
      "d:\\miniconda3\\envs\\py312\\Lib\\site-packages\\torchvision\\transforms\\v2\\_deprecated.py:42: UserWarning: The transform `ToTensor()` is deprecated and will be removed in a future release. Instead, please use `v2.Compose([v2.ToImage(), v2.ToDtype(torch.float32, scale=True)])`.Output is equivalent up to float precision.\n",
      "  warnings.warn(\n"
     ]
    }
   ],
   "source": [
    "# 导入必要包\n",
    "import torch\n",
    "import torch.nn as nn\n",
    "import torch.optim as optim\n",
    "from torchvision.transforms.v2 import ToTensor     # 转换图像数据为张量\n",
    "from torchvision.datasets import KMNIST\n",
    "from torch.utils.data import DataLoader  # 数据加载器\n",
    "\n",
    "\n",
    "# 定义超参数\n",
    "LR = 1e-3\n",
    "epochs = 30\n",
    "BATCH_SIZE = 128\n",
    "#加载数据集\n",
    "train_data = KMNIST(root='D:\\\\datasets\\\\kmnist_data', train=True, download=True, transform=ToTensor())\n",
    "test_data = KMNIST(root='D:\\\\datasets\\\\kmnist_data', train=False, download=True, transform=ToTensor())\n",
    "\n",
    "# 构建数据加载器\n",
    "train_loader = DataLoader(train_data, batch_size=BATCH_SIZE, shuffle=True)\n",
    "\n",
    "\n",
    "# 定义模型\n",
    "model = nn.Sequential(\n",
    "    nn.Linear(784, 128),\n",
    "    nn.Sigmoid(),\n",
    "    nn.Linear(128, 10)\n",
    ")\n",
    "\n",
    "# 损失函数&优化器\n",
    "loss_fn = nn.CrossEntropyLoss()  # 交叉熵损失函数\n",
    "# 优化器（模型参数更新）\n",
    "optimizer = torch.optim.SGD(model.parameters(), lr=LR)\n"
   ]
  },
  {
   "cell_type": "code",
   "execution_count": 6,
   "metadata": {},
   "outputs": [
    {
     "name": "stdout",
     "output_type": "stream",
     "text": [
      "Epoch:0 Loss: 2.3009731769561768\n",
      "Epoch:1 Loss: 2.287261486053467\n",
      "Epoch:2 Loss: 2.267437219619751\n",
      "Epoch:3 Loss: 2.255601406097412\n",
      "Epoch:4 Loss: 2.2428648471832275\n",
      "Epoch:5 Loss: 2.2272138595581055\n",
      "Epoch:6 Loss: 2.2217905521392822\n",
      "Epoch:7 Loss: 2.205261707305908\n",
      "Epoch:8 Loss: 2.166912794113159\n",
      "Epoch:9 Loss: 2.1638128757476807\n",
      "Epoch:10 Loss: 2.137953519821167\n",
      "Epoch:11 Loss: 2.1076812744140625\n",
      "Epoch:12 Loss: 2.136117696762085\n",
      "Epoch:13 Loss: 2.098238706588745\n",
      "Epoch:14 Loss: 2.070383310317993\n",
      "Epoch:15 Loss: 2.0365049839019775\n",
      "Epoch:16 Loss: 2.03204607963562\n",
      "Epoch:17 Loss: 2.0496129989624023\n",
      "Epoch:18 Loss: 1.9810409545898438\n",
      "Epoch:19 Loss: 1.990327000617981\n",
      "Epoch:20 Loss: 1.9463423490524292\n",
      "Epoch:21 Loss: 1.8893299102783203\n",
      "Epoch:22 Loss: 1.9013004302978516\n",
      "Epoch:23 Loss: 1.7886677980422974\n",
      "Epoch:24 Loss: 1.895276427268982\n",
      "Epoch:25 Loss: 1.793747067451477\n",
      "Epoch:26 Loss: 1.7811545133590698\n",
      "Epoch:27 Loss: 1.7623233795166016\n",
      "Epoch:28 Loss: 1.8412151336669922\n",
      "Epoch:29 Loss: 1.711185336112976\n"
     ]
    }
   ],
   "source": [
    "#训练\n",
    "for epoch in range(epochs):\n",
    "    # 提取训练数据\n",
    "    for data, target in train_loader:\n",
    "        # 前向运算\n",
    "        output = model(data.reshape(-1, 784))\n",
    "        # 计算损失\n",
    "        loss = loss_fn(output, target)\n",
    "        # 反向传播\n",
    "        optimizer.zero_grad()  # 所有参数梯度清零\n",
    "        loss.backward()     # 计算梯度（参数.grad）\n",
    "        optimizer.step()    # 更新参数\n",
    "\n",
    "    print(f'Epoch:{epoch} Loss: {loss.item()}')"
   ]
  },
  {
   "cell_type": "code",
   "execution_count": 8,
   "metadata": {},
   "outputs": [
    {
     "name": "stdout",
     "output_type": "stream",
     "text": [
      "Accuracy of the network : 49 %\n",
      "predicted tensor([3, 4, 6, 9, 3, 0, 8, 4, 2, 6, 4, 6, 0, 6, 4, 6])\n",
      "target tensor([3, 0, 1, 4, 5, 0, 6, 4, 4, 6, 4, 6, 4, 6, 4, 4])\n",
      "num: 8\n",
      "Accuracy: 50.00%\n"
     ]
    }
   ],
   "source": [
    "#测试\n",
    "test_loader = DataLoader(test_data, batch_size=BATCH_SIZE, shuffle=True)\n",
    "\n",
    "correct = 0\n",
    "total = 0\n",
    "with torch.no_grad():  # 测试集不需要反向传播\n",
    "    for data, target in test_loader:\n",
    "        outputs = model(data.reshape(-1, 28 * 28))\n",
    "        _, predicted = torch.max(outputs, 1)\n",
    "        total += target.size(0)\n",
    "        correct += (predicted == target).sum().item()\n",
    "\n",
    "print('Accuracy of the network : %d %%' % (100 * correct / total))\n",
    "print(f'predicted', predicted)\n",
    "print(f'target', target)\n",
    "print(f'num: {(predicted == target).int().sum()}')\n",
    "print(f'Accuracy: {(predicted == target).int().sum().item() / len(target) * 100:.2f}%')"
   ]
  }
 ],
 "metadata": {
  "kernelspec": {
   "display_name": "py312",
   "language": "python",
   "name": "python3"
  },
  "language_info": {
   "codemirror_mode": {
    "name": "ipython",
    "version": 3
   },
   "file_extension": ".py",
   "mimetype": "text/x-python",
   "name": "python",
   "nbconvert_exporter": "python",
   "pygments_lexer": "ipython3",
   "version": "3.12.9"
  }
 },
 "nbformat": 4,
 "nbformat_minor": 2
}
