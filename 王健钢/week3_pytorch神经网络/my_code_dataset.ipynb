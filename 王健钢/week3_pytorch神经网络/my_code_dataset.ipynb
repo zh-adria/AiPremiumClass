{
 "cells": [
  {
   "cell_type": "markdown",
   "metadata": {},
   "source": [
    "数据加载"
   ]
  },
  {
   "cell_type": "code",
   "execution_count": 1,
   "metadata": {},
   "outputs": [],
   "source": [
    "import torch\n",
    "from torchvision.transforms.v2 import ToTensor     # 转换图像数据为张量\n",
    "from torchvision.datasets import FashionMNIST"
   ]
  },
  {
   "cell_type": "code",
   "execution_count": 2,
   "metadata": {},
   "outputs": [
    {
     "name": "stderr",
     "output_type": "stream",
     "text": [
      "d:\\miniconda3\\envs\\py312\\Lib\\site-packages\\torchvision\\transforms\\v2\\_deprecated.py:42: UserWarning: The transform `ToTensor()` is deprecated and will be removed in a future release. Instead, please use `v2.Compose([v2.ToImage(), v2.ToDtype(torch.float32, scale=True)])`.Output is equivalent up to float precision.\n",
      "  warnings.warn(\n",
      "100%|██████████| 26.4M/26.4M [00:05<00:00, 4.43MB/s]\n",
      "100%|██████████| 29.5k/29.5k [00:00<00:00, 171kB/s]\n",
      "100%|██████████| 4.42M/4.42M [00:01<00:00, 3.18MB/s]\n",
      "100%|██████████| 5.15k/5.15k [00:00<00:00, 5.17MB/s]\n"
     ]
    }
   ],
   "source": [
    "#加载数据集\n",
    "train_data = FashionMNIST(root='D:\\\\datasets\\\\fashion_data', train=True, download=True, transform=ToTensor())\n",
    "test_data = FashionMNIST(root='D:\\\\datasets\\\\fashion_data', train=False, download=True, transform=ToTensor())"
   ]
  },
  {
   "cell_type": "code",
   "execution_count": 3,
   "metadata": {},
   "outputs": [
    {
     "data": {
      "text/plain": [
       "torch.Size([784])"
      ]
     },
     "execution_count": 3,
     "metadata": {},
     "output_type": "execute_result"
    }
   ],
   "source": [
    "train_data\n",
    "\n",
    "train_data[1]  # 返回一个元组，第一个元素是图像数据，第二个元素是标签\n",
    "train_data[1][0].shape  # 图像数据(1个颜色通道,图像高度,图像宽度)\n",
    "train_data[1][0].reshape(-1).shape  # 将图像数据展平为一维张量"
   ]
  },
  {
   "cell_type": "code",
   "execution_count": 6,
   "metadata": {},
   "outputs": [
    {
     "data": {
      "image/png": "[encoded data removed]",
      "text/plain": [
       "<Figure size 640x480 with 1 Axes>"
      ]
     },
     "metadata": {},
     "output_type": "display_data"
    }
   ],
   "source": [
    "import matplotlib.pyplot as plt\n",
    "\n",
    "train_data = FashionMNIST(root='D:\\\\datasets\\\\fashion_data', train=True, download=True)\n",
    "img,clzz = train_data[123]\n",
    "plt.imshow(img, cmap='gray')  # img是一个PIL.Image对象(python原始数据)\n",
    "plt.title(clzz)\n",
    "plt.show()"
   ]
  },
  {
   "cell_type": "code",
   "execution_count": 7,
   "metadata": {},
   "outputs": [
    {
     "data": {
      "text/plain": [
       "{0, 1, 2, 3, 4, 5, 6, 7, 8, 9}"
      ]
     },
     "execution_count": 7,
     "metadata": {},
     "output_type": "execute_result"
    }
   ],
   "source": [
    "labels = set([clz for img,clz in train_data])\n",
    "labels"
   ]
  }
 ],
 "metadata": {
  "kernelspec": {
   "display_name": "py312",
   "language": "python",
   "name": "python3"
  },
  "language_info": {
   "codemirror_mode": {
    "name": "ipython",
    "version": 3
   },
   "file_extension": ".py",
   "mimetype": "text/x-python",
   "name": "python",
   "nbconvert_exporter": "python",
   "pygments_lexer": "ipython3",
   "version": "3.12.9"
  }
 },
 "nbformat": 4,
 "nbformat_minor": 2
}
