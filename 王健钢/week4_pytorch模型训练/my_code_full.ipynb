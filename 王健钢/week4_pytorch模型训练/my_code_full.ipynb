{
 "cells": [
  {
   "cell_type": "markdown",
   "metadata": {},
   "source": [
    "### pytorch fashionmnist数据集 神经网络搭建和训练"
   ]
  },
  {
   "cell_type": "code",
   "execution_count": null,
   "metadata": {},
   "outputs": [
    {
     "name": "stderr",
     "output_type": "stream",
     "text": [
      "d:\\miniconda3\\envs\\py312\\Lib\\site-packages\\torchvision\\transforms\\v2\\_deprecated.py:42: UserWarning: The transform `ToTensor()` is deprecated and will be removed in a future release. Instead, please use `v2.Compose([v2.ToImage(), v2.ToDtype(torch.float32, scale=True)])`.Output is equivalent up to float precision.\n",
      "  warnings.warn(\n"
     ]
    },
    {
     "name": "stdout",
     "output_type": "stream",
     "text": [
      "TorchNN(\n",
      "  (linear1): Linear(in_features=784, out_features=512, bias=True)\n",
      "  (bn1): BatchNorm1d(512, eps=1e-05, momentum=0.1, affine=True, track_running_stats=True)\n",
      "  (linear2): Linear(in_features=512, out_features=512, bias=True)\n",
      "  (bn2): BatchNorm1d(512, eps=1e-05, momentum=0.1, affine=True, track_running_stats=True)\n",
      "  (linear3): Linear(in_features=512, out_features=10, bias=True)\n",
      "  (drop): Dropout(p=0.3, inplace=False)\n",
      "  (act): ReLU()\n",
      ")\n"
     ]
    }
   ],
   "source": [
    "# 导入必要包\n",
    "import torch\n",
    "import torch.nn as nn\n",
    "import torch.optim as optim\n",
    "from torchvision.transforms.v2 import ToTensor     # 转换图像数据为张量\n",
    "from torchvision.datasets import FashionMNIST\n",
    "from torch.utils.data import DataLoader  # 数据加载器\n",
    "\n",
    "\n",
    "# 定义超参数\n",
    "LR = 1e-3\n",
    "epochs = 30\n",
    "BATCH_SIZE = 128\n",
    "# BATCH_SIZE = 256\n",
    "#加载数据集\n",
    "train_data = FashionMNIST(root='D:\\\\datasets\\\\fashion_data', train=True, download=True, transform=ToTensor())\n",
    "test_data = FashionMNIST(root='D:\\\\datasets\\\\fashion_data', train=False, download=True, transform=ToTensor())\n",
    "\n",
    "# 构建数据加载器\n",
    "train_loader = DataLoader(train_data, batch_size=BATCH_SIZE, shuffle=True)\n",
    "\n",
    "\n",
    "# 定义模型\n",
    "# model = nn.Sequential(\n",
    "#     # nn.Linear(784, 64),\n",
    "#     nn.Linear(784, 128),\n",
    "#     nn.Sigmoid(),\n",
    "#     # nn.Linear(64, 10)\n",
    "#     # nn.Linear(128, 128),\n",
    "#     # nn.Sigmoid(),\n",
    "#     nn.Linear(128, 10)\n",
    "# )\n",
    "from torch_nn import TorchNN\n",
    "\n",
    "model = TorchNN()\n",
    "print(model)\n",
    "\n",
    "# 损失函数&优化器\n",
    "loss_fn = nn.CrossEntropyLoss()  # 交叉熵损失函数\n",
    "# 优化器（模型参数更新）\n",
    "optimizer = torch.optim.SGD(model.parameters(), lr=LR)\n"
   ]
  },
  {
   "cell_type": "code",
   "execution_count": 2,
   "metadata": {},
   "outputs": [
    {
     "name": "stdout",
     "output_type": "stream",
     "text": [
      "Epoch:0 Loss: 1.1113377809524536\n",
      "Epoch:1 Loss: 0.732839047908783\n",
      "Epoch:2 Loss: 0.6928319334983826\n",
      "Epoch:3 Loss: 0.6045837998390198\n",
      "Epoch:4 Loss: 0.6386768817901611\n",
      "Epoch:5 Loss: 0.5368645191192627\n",
      "Epoch:6 Loss: 0.5660794973373413\n",
      "Epoch:7 Loss: 0.4187072217464447\n",
      "Epoch:8 Loss: 0.4103248119354248\n",
      "Epoch:9 Loss: 0.6116155982017517\n",
      "Epoch:10 Loss: 0.46247825026512146\n",
      "Epoch:11 Loss: 0.5766662955284119\n",
      "Epoch:12 Loss: 0.3702680170536041\n",
      "Epoch:13 Loss: 0.5014223456382751\n",
      "Epoch:14 Loss: 0.5098304152488708\n",
      "Epoch:15 Loss: 0.49332162737846375\n",
      "Epoch:16 Loss: 0.5831685662269592\n",
      "Epoch:17 Loss: 0.4047732651233673\n",
      "Epoch:18 Loss: 0.4011818468570709\n",
      "Epoch:19 Loss: 0.3608976900577545\n",
      "Epoch:20 Loss: 0.40889784693717957\n",
      "Epoch:21 Loss: 0.35806047916412354\n",
      "Epoch:22 Loss: 0.4679375886917114\n",
      "Epoch:23 Loss: 0.31382444500923157\n",
      "Epoch:24 Loss: 0.4357053339481354\n",
      "Epoch:25 Loss: 0.3745594918727875\n",
      "Epoch:26 Loss: 0.4660226106643677\n",
      "Epoch:27 Loss: 0.5050618052482605\n",
      "Epoch:28 Loss: 0.3405977785587311\n",
      "Epoch:29 Loss: 0.467870831489563\n"
     ]
    }
   ],
   "source": [
    "#训练\n",
    "for epoch in range(epochs):\n",
    "    # 提取训练数据\n",
    "    for data, target in train_loader:\n",
    "        # 前向运算\n",
    "        output = model(data.reshape(-1, 784))\n",
    "        # 计算损失\n",
    "        loss = loss_fn(output, target)\n",
    "        # 反向传播\n",
    "        optimizer.zero_grad()  # 所有参数梯度清零\n",
    "        loss.backward()     # 计算梯度（参数.grad）\n",
    "        optimizer.step()    # 更新参数\n",
    "\n",
    "    print(f'Epoch:{epoch} Loss: {loss.item()}')"
   ]
  },
  {
   "cell_type": "code",
   "execution_count": 3,
   "metadata": {},
   "outputs": [
    {
     "name": "stdout",
     "output_type": "stream",
     "text": [
      "Accuracy of the network : 83 %\n",
      "predicted tensor([0, 9, 5, 0, 2, 3, 2, 5, 2, 1, 3, 2, 8, 7, 8, 6])\n",
      "target tensor([6, 9, 5, 0, 4, 3, 2, 5, 6, 1, 3, 0, 8, 7, 8, 6])\n",
      "num: 12\n",
      "Accuracy: 75.00%\n"
     ]
    }
   ],
   "source": [
    "#测试\n",
    "test_loader = DataLoader(test_data, batch_size=BATCH_SIZE, shuffle=True)\n",
    "\n",
    "correct = 0\n",
    "total = 0\n",
    "with torch.no_grad():  # 测试集不需要反向传播\n",
    "    for data, target in test_loader:\n",
    "        outputs = model(data.reshape(-1, 28 * 28))\n",
    "        _, predicted = torch.max(outputs, 1)\n",
    "        total += target.size(0)\n",
    "        correct += (predicted == target).sum().item()\n",
    "\n",
    "# output.shape\n",
    "# output\n",
    "print('Accuracy of the network : %d %%' % (100 * correct / total))\n",
    "print(f'predicted', predicted)\n",
    "print(f'target', target)\n",
    "print(f'num: {(predicted == target).int().sum()}')\n",
    "print(f'Accuracy: {(predicted == target).int().sum().item() / len(target) * 100:.2f}%')"
   ]
  },
  {
   "cell_type": "code",
   "execution_count": 4,
   "metadata": {},
   "outputs": [
    {
     "data": {
      "text/plain": [
       "tensor([0, 9, 5, 0, 2, 3, 2, 5, 2, 1, 3, 2, 8, 7, 8, 6])"
      ]
     },
     "execution_count": 4,
     "metadata": {},
     "output_type": "execute_result"
    }
   ],
   "source": [
    "predicted"
   ]
  },
  {
   "cell_type": "code",
   "execution_count": 5,
   "metadata": {},
   "outputs": [
    {
     "data": {
      "text/plain": [
       "tensor([6, 9, 5, 0, 4, 3, 2, 5, 6, 1, 3, 0, 8, 7, 8, 6])"
      ]
     },
     "execution_count": 5,
     "metadata": {},
     "output_type": "execute_result"
    }
   ],
   "source": [
    "target"
   ]
  },
  {
   "cell_type": "code",
   "execution_count": 6,
   "metadata": {},
   "outputs": [
    {
     "name": "stdout",
     "output_type": "stream",
     "text": [
      "tensor(12)\n"
     ]
    },
    {
     "data": {
      "text/plain": [
       "75.0"
      ]
     },
     "execution_count": 6,
     "metadata": {},
     "output_type": "execute_result"
    }
   ],
   "source": [
    "print((predicted == target).int().sum())\n",
    "\n",
    "(predicted == target).int().sum().item() / len(target) * 100"
   ]
  }
 ],
 "metadata": {
  "kernelspec": {
   "display_name": "py312",
   "language": "python",
   "name": "python3"
  },
  "language_info": {
   "codemirror_mode": {
    "name": "ipython",
    "version": 3
   },
   "file_extension": ".py",
   "mimetype": "text/x-python",
   "name": "python",
   "nbconvert_exporter": "python",
   "pygments_lexer": "ipython3",
   "version": "3.12.9"
  }
 },
 "nbformat": 4,
 "nbformat_minor": 2
}
