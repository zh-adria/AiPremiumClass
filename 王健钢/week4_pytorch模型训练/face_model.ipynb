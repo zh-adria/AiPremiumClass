{
 "cells": [
  {
   "cell_type": "code",
   "execution_count": 1,
   "metadata": {},
   "outputs": [],
   "source": [
    "import torch\n",
    "import torch.nn as nn\n",
    "from sklearn.datasets import fetch_olivetti_faces"
   ]
  },
  {
   "cell_type": "code",
   "execution_count": 2,
   "metadata": {},
   "outputs": [],
   "source": [
    "# 从sklearn中获取olivetti_faces数据集\n",
    "olivetti_faces = fetch_olivetti_faces(data_home='D:\\\\datasets\\\\face_data', shuffle=True) "
   ]
  },
  {
   "cell_type": "code",
   "execution_count": 6,
   "metadata": {},
   "outputs": [
    {
     "data": {
      "text/plain": [
       "(tensor([0.6694, 0.6364, 0.6488,  ..., 0.0868, 0.0826, 0.0744]),\n",
       " tensor(13, dtype=torch.int32))"
      ]
     },
     "execution_count": 6,
     "metadata": {},
     "output_type": "execute_result"
    }
   ],
   "source": [
    "images = torch.tensor(olivetti_faces.data)\n",
    "targets = torch.tensor(olivetti_faces.target)\n",
    "dataset = [(img,lbl) for img,lbl in zip(images, targets)]\n",
    "dataset[0]"
   ]
  },
  {
   "cell_type": "code",
   "execution_count": 38,
   "metadata": {},
   "outputs": [],
   "source": [
    "dataloaders = torch.utils.data.DataLoader(dataset, batch_size=10, shuffle=True)"
   ]
  },
  {
   "cell_type": "code",
   "execution_count": 39,
   "metadata": {},
   "outputs": [],
   "source": [
    "epochs = 10\n",
    "# device = torch.device('cuda' if torch.cuda.is_available() else 'cpu')\n",
    "device = 'cpu'"
   ]
  },
  {
   "cell_type": "code",
   "execution_count": 40,
   "metadata": {},
   "outputs": [],
   "source": [
    "model = nn.Sequential(\n",
    "    nn.Linear(4096,8192),\n",
    "    nn.BatchNorm1d(8192),\n",
    "    nn.ReLU(),\n",
    "    nn.Linear(8192,4096),\n",
    "    nn.BatchNorm1d(4096),\n",
    "    nn.ReLU(),\n",
    "    nn.Dropout(),\n",
    "    nn.Linear(4096,2048),\n",
    "    nn.BatchNorm1d(2048),\n",
    "    nn.ReLU(),\n",
    "    nn.Dropout(),\n",
    "    nn.Linear(2048,1024),\n",
    "    nn.BatchNorm1d(1024),\n",
    "    nn.ReLU(),\n",
    "    nn.Dropout(),\n",
    "    nn.Linear(1024,40)\n",
    ").to(device)"
   ]
  },
  {
   "cell_type": "code",
   "execution_count": 41,
   "metadata": {},
   "outputs": [],
   "source": [
    "loss_fn = nn.CrossEntropyLoss()  # 交叉熵损失函数\n",
    "optimizer = torch.optim.Adam(model.parameters(), lr=0.001)  # Adam优化器"
   ]
  },
  {
   "cell_type": "code",
   "execution_count": 46,
   "metadata": {},
   "outputs": [
    {
     "name": "stdout",
     "output_type": "stream",
     "text": [
      "Epoch [10/10], Loss: 0.4843\n",
      "Epoch [10/10], Loss: 0.5842\n",
      "Epoch [10/10], Loss: 0.2958\n",
      "Epoch [10/10], Loss: 0.3488\n",
      "Epoch [10/10], Loss: 0.3895\n",
      "Epoch [10/10], Loss: 0.1882\n",
      "Epoch [10/10], Loss: 0.7694\n",
      "Epoch [10/10], Loss: 0.3109\n",
      "Epoch [10/10], Loss: 0.3583\n",
      "Epoch [10/10], Loss: 0.4001\n",
      "Epoch [10/10], Loss: 0.6342\n",
      "Epoch [10/10], Loss: 0.6132\n",
      "Epoch [10/10], Loss: 0.4207\n",
      "Epoch [10/10], Loss: 0.3427\n",
      "Epoch [10/10], Loss: 1.1243\n",
      "Epoch [10/10], Loss: 0.2599\n",
      "Epoch [10/10], Loss: 0.5135\n",
      "Epoch [10/10], Loss: 0.2195\n",
      "Epoch [10/10], Loss: 0.9320\n",
      "Epoch [10/10], Loss: 0.2512\n",
      "Epoch [10/10], Loss: 0.1887\n",
      "Epoch [10/10], Loss: 0.7291\n",
      "Epoch [10/10], Loss: 0.3230\n",
      "Epoch [10/10], Loss: 0.2922\n",
      "Epoch [10/10], Loss: 0.6889\n",
      "Epoch [10/10], Loss: 0.0823\n",
      "Epoch [10/10], Loss: 0.2152\n",
      "Epoch [10/10], Loss: 0.4442\n",
      "Epoch [10/10], Loss: 0.9303\n",
      "Epoch [10/10], Loss: 0.3252\n",
      "Epoch [10/10], Loss: 0.1935\n",
      "Epoch [10/10], Loss: 1.2266\n",
      "Epoch [10/10], Loss: 1.2575\n",
      "Epoch [10/10], Loss: 1.7672\n",
      "Epoch [10/10], Loss: 1.4055\n",
      "Epoch [10/10], Loss: 0.4084\n",
      "Epoch [10/10], Loss: 0.5305\n",
      "Epoch [10/10], Loss: 1.0266\n",
      "Epoch [10/10], Loss: 0.4902\n",
      "Epoch [10/10], Loss: 0.6594\n"
     ]
    }
   ],
   "source": [
    "loss_hist = [] # To store the loss history\n",
    "for epoch in range(epochs): # Run the loop for epochs\n",
    "    for img, lbl in dataloaders:\n",
    "        img, lbl = img.to(device), lbl.to(device)\n",
    "        # Forward pass\n",
    "        result = model(img)\n",
    "        loss = loss_fn(result, lbl.long())\n",
    "        # Backward pass\n",
    "        loss.backward()\n",
    "        optimizer.step()\n",
    "        optimizer.zero_grad()\n",
    "        # Store values\n",
    "        loss_hist.append(loss.item())\n",
    "        # Print the loss value every 10 epochs  \n",
    "        if (epoch+1) % 10 == 0:\n",
    "            print(f'Epoch [{epoch+1}/{epochs}], Loss: {loss.item():.4f}')"
   ]
  },
  {
   "cell_type": "code",
   "execution_count": 47,
   "metadata": {},
   "outputs": [
    {
     "name": "stdout",
     "output_type": "stream",
     "text": [
      "Accuracy of the network : 81 %\n",
      "predicted tensor([11, 23,  3, 35, 18, 13, 25, 38, 17, 28])\n",
      "target tensor([13, 23,  3,  5,  7, 13, 25, 38, 17, 28], dtype=torch.int32)\n",
      "num: 7\n",
      "Accuracy: 70.00%\n"
     ]
    }
   ],
   "source": [
    "#测试\n",
    "test_loader = torch.utils.data.DataLoader(dataset, batch_size=10, shuffle=True)\n",
    "\n",
    "correct = 0\n",
    "total = 0\n",
    "with torch.no_grad():  # 测试集不需要反向传播\n",
    "    for data, target in test_loader:\n",
    "        outputs = model(data.reshape(-1, 4096))\n",
    "        _, predicted = torch.max(outputs, 1)\n",
    "        total += target.size(0)\n",
    "        correct += (predicted == target).sum().item()\n",
    "\n",
    "# output.shape\n",
    "# output\n",
    "print('Accuracy of the network : %d %%' % (100 * correct / total))\n",
    "print(f'predicted', predicted)\n",
    "print(f'target', target)\n",
    "print(f'num: {(predicted == target).int().sum()}')\n",
    "print(f'Accuracy: {(predicted == target).int().sum().item() / len(target) * 100:.2f}%')"
   ]
  }
 ],
 "metadata": {
  "kernelspec": {
   "display_name": "py312",
   "language": "python",
   "name": "python3"
  },
  "language_info": {
   "codemirror_mode": {
    "name": "ipython",
    "version": 3
   },
   "file_extension": ".py",
   "mimetype": "text/x-python",
   "name": "python",
   "nbconvert_exporter": "python",
   "pygments_lexer": "ipython3",
   "version": "3.12.9"
  }
 },
 "nbformat": 4,
 "nbformat_minor": 2
}
