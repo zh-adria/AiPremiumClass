{
 "cells": [
  {
   "cell_type": "code",
   "execution_count": 1,
   "metadata": {},
   "outputs": [],
   "source": [
    "from sklearn.datasets import fetch_olivetti_faces"
   ]
  },
  {
   "cell_type": "code",
   "execution_count": 2,
   "metadata": {},
   "outputs": [
    {
     "name": "stdout",
     "output_type": "stream",
     "text": [
      "(400, 4096)\n",
      "(400,)\n",
      "(400, 64, 64)\n"
     ]
    }
   ],
   "source": [
    "olivetti_faces = fetch_olivetti_faces(data_home='./face_data', shuffle=True)\n",
    "print(olivetti_faces.data.shape)\n",
    "print(olivetti_faces.target.shape)\n",
    "print(olivetti_faces.images.shape)"
   ]
  },
  {
   "cell_type": "code",
   "execution_count": 3,
   "metadata": {},
   "outputs": [
    {
     "data": {
      "image/png": "[encoded data removed]",
      "text/plain": [
       "<Figure size 640x480 with 1 Axes>"
      ]
     },
     "metadata": {},
     "output_type": "display_data"
    }
   ],
   "source": [
    "import matplotlib.pyplot as plt\n",
    "\n",
    "face = olivetti_faces.images[1]\n",
    "plt.imshow(face, cmap='gray')\n",
    "plt.show()"
   ]
  },
  {
   "cell_type": "code",
   "execution_count": 4,
   "metadata": {},
   "outputs": [
    {
     "data": {
      "text/plain": [
       "array([0.76859504, 0.75619835, 0.74380165, ..., 0.48347107, 0.6280992 ,\n",
       "       0.6528926 ], dtype=float32)"
      ]
     },
     "execution_count": 4,
     "metadata": {},
     "output_type": "execute_result"
    }
   ],
   "source": [
    "olivetti_faces.data[1]"
   ]
  },
  {
   "cell_type": "code",
   "execution_count": 5,
   "metadata": {},
   "outputs": [
    {
     "data": {
      "text/plain": [
       "array([13, 30, 34, 19, 24,  6, 15, 26, 14, 21,  3, 13, 11, 34,  1,  5, 29,\n",
       "       14, 20, 19, 17, 26, 12, 34, 17, 31,  7,  1, 28, 10, 17, 30, 33, 22,\n",
       "        6,  7,  9, 17, 17, 39, 10, 32,  0,  0, 29,  5, 37, 25, 15, 23, 24,\n",
       "       14, 29, 17, 28, 31,  5,  1,  2,  4,  7, 27,  0, 35, 19, 37, 14,  0,\n",
       "       15, 31,  0, 26,  6,  2, 10,  1, 36, 30, 36, 32, 33,  6,  5, 10, 30,\n",
       "       22, 12, 37, 39, 32, 38, 25,  5,  0, 19, 14, 13, 39, 26, 36, 25,  6,\n",
       "       31, 15, 28, 34,  8, 34, 15, 29,  9,  8, 29,  2, 36, 21, 25,  4, 23,\n",
       "       34,  9, 22, 23, 23, 37, 14,  2, 25, 35, 16, 15, 39,  6, 24, 21, 10,\n",
       "       31, 19, 32,  1, 16, 18,  3, 11, 26, 10, 35, 24, 23, 11, 33, 12, 28,\n",
       "       11, 21, 13, 27, 12, 19, 29, 28, 13,  3, 37, 16,  3, 23,  9,  8,  6,\n",
       "       16, 28, 20, 39, 23, 28, 10,  4, 32, 39, 22,  7, 13, 38, 22, 21,  2,\n",
       "       18, 36, 27,  5, 32, 35,  2,  0, 21, 15, 21, 37, 22, 13, 23, 21, 27,\n",
       "       27, 30, 23,  3, 20, 39,  6,  2, 33,  4, 24, 12,  9, 11, 16, 38, 38,\n",
       "       34,  4,  1, 28,  7, 24, 39,  7,  1, 36, 21, 38, 38, 22, 16, 10, 16,\n",
       "        8, 18, 39, 11, 25, 18, 20, 37, 11, 14, 15, 15,  1, 26,  7, 10, 32,\n",
       "       20, 31, 13, 23, 31, 24, 30,  1, 22, 30,  0, 27, 12,  7, 18, 30, 37,\n",
       "       34, 18, 35,  8, 25,  1, 29,  8, 26,  3, 38,  5,  4, 27,  5, 20, 31,\n",
       "       31, 33, 12, 22,  6, 30, 13, 18,  2,  4,  0, 20, 33,  9, 38, 17, 25,\n",
       "        9, 36,  9, 35, 16,  6, 30,  4, 20, 27, 22, 14, 14, 18, 13, 35, 39,\n",
       "       26, 32, 20,  8, 12, 34, 36,  9,  8, 26, 11, 29,  5, 32, 25, 35,  4,\n",
       "       10, 36, 27, 35,  3,  5, 34, 12, 29,  2, 18, 16, 15, 24, 20,  3,  3,\n",
       "       12, 18, 37, 28, 36, 14, 28, 37, 17,  9, 33, 33, 19, 24, 11, 26,  7,\n",
       "       33,  2, 16, 33, 38, 17, 38,  3, 19, 31,  8,  7,  8, 29, 24, 27, 21,\n",
       "        0, 35, 19, 25, 32, 19, 11,  4, 17])"
      ]
     },
     "execution_count": 5,
     "metadata": {},
     "output_type": "execute_result"
    }
   ],
   "source": [
    "olivetti_faces.target"
   ]
  },
  {
   "cell_type": "code",
   "execution_count": 6,
   "metadata": {},
   "outputs": [
    {
     "data": {
      "text/plain": [
       "{0,\n",
       " 1,\n",
       " 2,\n",
       " 3,\n",
       " 4,\n",
       " 5,\n",
       " 6,\n",
       " 7,\n",
       " 8,\n",
       " 9,\n",
       " 10,\n",
       " 11,\n",
       " 12,\n",
       " 13,\n",
       " 14,\n",
       " 15,\n",
       " 16,\n",
       " 17,\n",
       " 18,\n",
       " 19,\n",
       " 20,\n",
       " 21,\n",
       " 22,\n",
       " 23,\n",
       " 24,\n",
       " 25,\n",
       " 26,\n",
       " 27,\n",
       " 28,\n",
       " 29,\n",
       " 30,\n",
       " 31,\n",
       " 32,\n",
       " 33,\n",
       " 34,\n",
       " 35,\n",
       " 36,\n",
       " 37,\n",
       " 38,\n",
       " 39}"
      ]
     },
     "execution_count": 6,
     "metadata": {},
     "output_type": "execute_result"
    }
   ],
   "source": [
    "set(olivetti_faces.target.tolist())"
   ]
  },
  {
   "cell_type": "code",
   "execution_count": 7,
   "metadata": {},
   "outputs": [],
   "source": [
    "import torch\n",
    "import torch.nn as nn"
   ]
  },
  {
   "cell_type": "code",
   "execution_count": 8,
   "metadata": {},
   "outputs": [],
   "source": [
    "images = torch.tensor(olivetti_faces.data)\n",
    "targets = torch.tensor(olivetti_faces.target)"
   ]
  },
  {
   "cell_type": "code",
   "execution_count": 9,
   "metadata": {},
   "outputs": [
    {
     "data": {
      "text/plain": [
       "torch.Size([400, 4096])"
      ]
     },
     "execution_count": 9,
     "metadata": {},
     "output_type": "execute_result"
    }
   ],
   "source": [
    "images.shape"
   ]
  },
  {
   "cell_type": "code",
   "execution_count": 10,
   "metadata": {},
   "outputs": [
    {
     "data": {
      "text/plain": [
       "torch.Size([400])"
      ]
     },
     "execution_count": 10,
     "metadata": {},
     "output_type": "execute_result"
    }
   ],
   "source": [
    "targets.shape"
   ]
  },
  {
   "cell_type": "code",
   "execution_count": 11,
   "metadata": {},
   "outputs": [
    {
     "data": {
      "text/plain": [
       "device(type='cuda')"
      ]
     },
     "execution_count": 11,
     "metadata": {},
     "output_type": "execute_result"
    }
   ],
   "source": [
    "# device = torch.device('mps' if torch.backends.mps.is_available() else 'cpu')\n",
    "device = torch.device('cuda' if torch.cuda.is_available() else 'cpu')\n",
    "\n",
    "device"
   ]
  },
  {
   "cell_type": "code",
   "execution_count": 12,
   "metadata": {},
   "outputs": [],
   "source": [
    "from sklearn.model_selection import train_test_split\n"
   ]
  },
  {
   "cell_type": "code",
   "execution_count": 13,
   "metadata": {},
   "outputs": [],
   "source": [
    "\n",
    "X_train, X_test, y_train, y_test = train_test_split(images, targets, test_size=0.2)\n",
    "\n",
    "dataset = [(img,lbl) for img,lbl in zip(X_train, y_train)]\n",
    "dataset[0]\n",
    "\n",
    "dataloader = torch.utils.data.DataLoader(dataset, batch_size=10, shuffle=True)"
   ]
  },
  {
   "cell_type": "code",
   "execution_count": 14,
   "metadata": {},
   "outputs": [],
   "source": [
    "LR = 0.01\n",
    "epochs = 20"
   ]
  },
  {
   "cell_type": "code",
   "execution_count": 24,
   "metadata": {},
   "outputs": [],
   "source": [
    "# 定义模型\n",
    "model = nn.Sequential(\n",
    "    nn.Linear(4096, 8192),\n",
    "    nn.BatchNorm1d(8192),\n",
    "    nn.ReLU(),\n",
    "    nn.Linear(8192, 4096),\n",
    "    nn.BatchNorm1d(4096),\n",
    "    nn.ReLU(),\n",
    "    nn.Dropout(),\n",
    "    nn.Linear(4096, 2048),\n",
    "    nn.BatchNorm1d(2048),\n",
    "    nn.ReLU(),\n",
    "    nn.Dropout(),\n",
    "    nn.Linear(2048, 40),\n",
    ").to(device)"
   ]
  },
  {
   "cell_type": "code",
   "execution_count": 25,
   "metadata": {},
   "outputs": [],
   "source": [
    "# 损失函数&优化器\n",
    "loss_fn = nn.CrossEntropyLoss()\n",
    "optimizer = torch.optim.Adam(model.parameters(), lr=LR)"
   ]
  },
  {
   "cell_type": "code",
   "execution_count": 26,
   "metadata": {},
   "outputs": [
    {
     "name": "stdout",
     "output_type": "stream",
     "text": [
      "Epoch 1/20, Loss: 7.886528968811035\n",
      "Epoch 2/20, Loss: 3.524435043334961\n",
      "Epoch 3/20, Loss: 7.761508941650391\n",
      "Epoch 4/20, Loss: 7.0421037673950195\n",
      "Epoch 5/20, Loss: 1.9033441543579102\n",
      "Epoch 6/20, Loss: 4.712491035461426\n",
      "Epoch 7/20, Loss: 1.9429420232772827\n",
      "Epoch 8/20, Loss: 1.6337875127792358\n",
      "Epoch 9/20, Loss: 2.404949188232422\n",
      "Epoch 10/20, Loss: 0.16229674220085144\n",
      "Epoch 11/20, Loss: 2.7627975940704346\n",
      "Epoch 12/20, Loss: 0.6915968060493469\n",
      "Epoch 13/20, Loss: 0.47615647315979004\n",
      "Epoch 14/20, Loss: 1.411712884902954\n",
      "Epoch 15/20, Loss: 0.5725092887878418\n",
      "Epoch 16/20, Loss: 0.2614516615867615\n",
      "Epoch 17/20, Loss: 0.7837649583816528\n",
      "Epoch 18/20, Loss: 0.11119167506694794\n",
      "Epoch 19/20, Loss: 1.1813703775405884\n",
      "Epoch 20/20, Loss: 0.6053751707077026\n"
     ]
    }
   ],
   "source": [
    "loss_list = []\n",
    "\n",
    "for epoch in range(epochs):\n",
    "    for data, target in dataloader:\n",
    "        data, target = data.to(device), target.to(device)\n",
    "        # 前向运算\n",
    "        output = model(data)\n",
    "        # 计算损失\n",
    "        loss = loss_fn(output, target)\n",
    "        # 反向传播\n",
    "        optimizer.zero_grad()   # 梯度清零\n",
    "        loss.backward()         # 反向传播\n",
    "        optimizer.step()        # 更新参数\n",
    "    loss_list.append(loss.item())\n",
    "    \n",
    "    print(f'Epoch {epoch + 1}/{epochs}, Loss: {loss.item()}')\n"
   ]
  },
  {
   "cell_type": "code",
   "execution_count": 27,
   "metadata": {},
   "outputs": [
    {
     "data": {
      "text/plain": [
       "[7.886528968811035,\n",
       " 3.524435043334961,\n",
       " 7.761508941650391,\n",
       " 7.0421037673950195,\n",
       " 1.9033441543579102,\n",
       " 4.712491035461426,\n",
       " 1.9429420232772827,\n",
       " 1.6337875127792358,\n",
       " 2.404949188232422,\n",
       " 0.16229674220085144,\n",
       " 2.7627975940704346,\n",
       " 0.6915968060493469,\n",
       " 0.47615647315979004,\n",
       " 1.411712884902954,\n",
       " 0.5725092887878418,\n",
       " 0.2614516615867615,\n",
       " 0.7837649583816528,\n",
       " 0.11119167506694794,\n",
       " 1.1813703775405884,\n",
       " 0.6053751707077026]"
      ]
     },
     "execution_count": 27,
     "metadata": {},
     "output_type": "execute_result"
    }
   ],
   "source": [
    "loss_list"
   ]
  },
  {
   "cell_type": "code",
   "execution_count": 28,
   "metadata": {},
   "outputs": [
    {
     "data": {
      "text/plain": [
       "[<matplotlib.lines.Line2D at 0x1e97977ede0>]"
      ]
     },
     "execution_count": 28,
     "metadata": {},
     "output_type": "execute_result"
    },
    {
     "data": {
      "image/png": "[encoded data removed]",
      "text/plain": [
       "<Figure size 640x480 with 1 Axes>"
      ]
     },
     "metadata": {},
     "output_type": "display_data"
    }
   ],
   "source": [
    "plt.plot(loss_list)"
   ]
  }
 ],
 "metadata": {
  "kernelspec": {
   "display_name": "py3127",
   "language": "python",
   "name": "python3"
  },
  "language_info": {
   "codemirror_mode": {
    "name": "ipython",
    "version": 3
   },
   "file_extension": ".py",
   "mimetype": "text/x-python",
   "name": "python",
   "nbconvert_exporter": "python",
   "pygments_lexer": "ipython3",
   "version": "3.12.9"
  }
 },
 "nbformat": 4,
 "nbformat_minor": 2
}
