{
 "cells": [
  {
   "cell_type": "code",
   "execution_count": 1,
   "metadata": {},
   "outputs": [
    {
     "data": {
      "text/plain": [
       "array([0, 0, 0, 0, 0, 0, 0, 0, 0, 0, 0, 0, 0, 0, 0, 0, 0, 0, 0, 0, 0, 0,\n",
       "       0, 0, 0, 0, 0, 0, 0, 0, 0, 0, 0, 0, 0, 0, 0, 0, 0, 0, 0, 0, 0, 0,\n",
       "       0, 0, 0, 0, 0, 0, 1, 1, 1, 1, 1, 1, 1, 1, 1, 1, 1, 1, 1, 1, 1, 1,\n",
       "       1, 1, 1, 1, 1, 1, 1, 1, 1, 1, 1, 1, 1, 1, 1, 1, 1, 1, 1, 1, 1, 1,\n",
       "       1, 1, 1, 1, 1, 1, 1, 1, 1, 1, 1, 1])"
      ]
     },
     "execution_count": 1,
     "metadata": {},
     "output_type": "execute_result"
    }
   ],
   "source": [
    "# 使用sklearn数据集训练逻辑回归模型\n",
    "from sklearn.datasets import load_iris\n",
    "\n",
    "X,y = load_iris(return_X_y=True)\n",
    "X[:100]  # 取前100个数据\n",
    "y[:100]  # 取前100个标签(0,1)\n",
    "\n",
    "# 调整学习率，样本数据拆分比率，观察训练结果\n",
    "# 把模型训练参数保存到文件，在另一个代码中加载参数实现预测功能"
   ]
  },
  {
   "cell_type": "code",
   "execution_count": 2,
   "metadata": {},
   "outputs": [
    {
     "data": {
      "text/plain": [
       "(150, 4)"
      ]
     },
     "execution_count": 2,
     "metadata": {},
     "output_type": "execute_result"
    }
   ],
   "source": [
    "X.shape"
   ]
  },
  {
   "cell_type": "code",
   "execution_count": 3,
   "metadata": {},
   "outputs": [
    {
     "data": {
      "text/plain": [
       "array([5.1, 3.5, 1.4, 0.2])"
      ]
     },
     "execution_count": 3,
     "metadata": {},
     "output_type": "execute_result"
    }
   ],
   "source": [
    "X[0]  # 花萼长度，花萼宽度，花瓣长度，花瓣宽度\n"
   ]
  },
  {
   "cell_type": "code",
   "execution_count": 4,
   "metadata": {},
   "outputs": [
    {
     "data": {
      "text/plain": [
       "(150,)"
      ]
     },
     "execution_count": 4,
     "metadata": {},
     "output_type": "execute_result"
    }
   ],
   "source": [
    "y.shape"
   ]
  },
  {
   "cell_type": "code",
   "execution_count": 17,
   "metadata": {},
   "outputs": [
    {
     "data": {
      "text/plain": [
       "array([[5.1, 3.5, 1.4, 0.2],\n",
       "       [4.9, 3. , 1.4, 0.2],\n",
       "       [4.7, 3.2, 1.3, 0.2],\n",
       "       [4.6, 3.1, 1.5, 0.2],\n",
       "       [5. , 3.6, 1.4, 0.2],\n",
       "       [5.4, 3.9, 1.7, 0.4],\n",
       "       [4.6, 3.4, 1.4, 0.3],\n",
       "       [5. , 3.4, 1.5, 0.2],\n",
       "       [4.4, 2.9, 1.4, 0.2],\n",
       "       [4.9, 3.1, 1.5, 0.1],\n",
       "       [5.4, 3.7, 1.5, 0.2],\n",
       "       [4.8, 3.4, 1.6, 0.2],\n",
       "       [4.8, 3. , 1.4, 0.1],\n",
       "       [4.3, 3. , 1.1, 0.1],\n",
       "       [5.8, 4. , 1.2, 0.2],\n",
       "       [5.7, 4.4, 1.5, 0.4],\n",
       "       [5.4, 3.9, 1.3, 0.4],\n",
       "       [5.1, 3.5, 1.4, 0.3],\n",
       "       [5.7, 3.8, 1.7, 0.3],\n",
       "       [5.1, 3.8, 1.5, 0.3],\n",
       "       [5.4, 3.4, 1.7, 0.2],\n",
       "       [5.1, 3.7, 1.5, 0.4],\n",
       "       [4.6, 3.6, 1. , 0.2],\n",
       "       [5.1, 3.3, 1.7, 0.5],\n",
       "       [4.8, 3.4, 1.9, 0.2],\n",
       "       [5. , 3. , 1.6, 0.2],\n",
       "       [5. , 3.4, 1.6, 0.4],\n",
       "       [5.2, 3.5, 1.5, 0.2],\n",
       "       [5.2, 3.4, 1.4, 0.2],\n",
       "       [4.7, 3.2, 1.6, 0.2],\n",
       "       [4.8, 3.1, 1.6, 0.2],\n",
       "       [5.4, 3.4, 1.5, 0.4],\n",
       "       [5.2, 4.1, 1.5, 0.1],\n",
       "       [5.5, 4.2, 1.4, 0.2],\n",
       "       [4.9, 3.1, 1.5, 0.2],\n",
       "       [5. , 3.2, 1.2, 0.2],\n",
       "       [5.5, 3.5, 1.3, 0.2],\n",
       "       [4.9, 3.6, 1.4, 0.1],\n",
       "       [4.4, 3. , 1.3, 0.2],\n",
       "       [5.1, 3.4, 1.5, 0.2],\n",
       "       [5. , 3.5, 1.3, 0.3],\n",
       "       [4.5, 2.3, 1.3, 0.3],\n",
       "       [4.4, 3.2, 1.3, 0.2],\n",
       "       [5. , 3.5, 1.6, 0.6],\n",
       "       [5.1, 3.8, 1.9, 0.4],\n",
       "       [4.8, 3. , 1.4, 0.3],\n",
       "       [5.1, 3.8, 1.6, 0.2],\n",
       "       [4.6, 3.2, 1.4, 0.2],\n",
       "       [5.3, 3.7, 1.5, 0.2],\n",
       "       [5. , 3.3, 1.4, 0.2],\n",
       "       [7. , 3.2, 4.7, 1.4],\n",
       "       [6.4, 3.2, 4.5, 1.5],\n",
       "       [6.9, 3.1, 4.9, 1.5],\n",
       "       [5.5, 2.3, 4. , 1.3],\n",
       "       [6.5, 2.8, 4.6, 1.5],\n",
       "       [5.7, 2.8, 4.5, 1.3],\n",
       "       [6.3, 3.3, 4.7, 1.6],\n",
       "       [4.9, 2.4, 3.3, 1. ],\n",
       "       [6.6, 2.9, 4.6, 1.3],\n",
       "       [5.2, 2.7, 3.9, 1.4],\n",
       "       [5. , 2. , 3.5, 1. ],\n",
       "       [5.9, 3. , 4.2, 1.5],\n",
       "       [6. , 2.2, 4. , 1. ],\n",
       "       [6.1, 2.9, 4.7, 1.4],\n",
       "       [5.6, 2.9, 3.6, 1.3],\n",
       "       [6.7, 3.1, 4.4, 1.4],\n",
       "       [5.6, 3. , 4.5, 1.5],\n",
       "       [5.8, 2.7, 4.1, 1. ],\n",
       "       [6.2, 2.2, 4.5, 1.5],\n",
       "       [5.6, 2.5, 3.9, 1.1],\n",
       "       [5.9, 3.2, 4.8, 1.8],\n",
       "       [6.1, 2.8, 4. , 1.3],\n",
       "       [6.3, 2.5, 4.9, 1.5],\n",
       "       [6.1, 2.8, 4.7, 1.2],\n",
       "       [6.4, 2.9, 4.3, 1.3],\n",
       "       [6.6, 3. , 4.4, 1.4],\n",
       "       [6.8, 2.8, 4.8, 1.4],\n",
       "       [6.7, 3. , 5. , 1.7],\n",
       "       [6. , 2.9, 4.5, 1.5],\n",
       "       [5.7, 2.6, 3.5, 1. ],\n",
       "       [5.5, 2.4, 3.8, 1.1],\n",
       "       [5.5, 2.4, 3.7, 1. ],\n",
       "       [5.8, 2.7, 3.9, 1.2],\n",
       "       [6. , 2.7, 5.1, 1.6],\n",
       "       [5.4, 3. , 4.5, 1.5],\n",
       "       [6. , 3.4, 4.5, 1.6],\n",
       "       [6.7, 3.1, 4.7, 1.5],\n",
       "       [6.3, 2.3, 4.4, 1.3],\n",
       "       [5.6, 3. , 4.1, 1.3],\n",
       "       [5.5, 2.5, 4. , 1.3],\n",
       "       [5.5, 2.6, 4.4, 1.2],\n",
       "       [6.1, 3. , 4.6, 1.4],\n",
       "       [5.8, 2.6, 4. , 1.2],\n",
       "       [5. , 2.3, 3.3, 1. ],\n",
       "       [5.6, 2.7, 4.2, 1.3],\n",
       "       [5.7, 3. , 4.2, 1.2],\n",
       "       [5.7, 2.9, 4.2, 1.3],\n",
       "       [6.2, 2.9, 4.3, 1.3],\n",
       "       [5.1, 2.5, 3. , 1.1],\n",
       "       [5.7, 2.8, 4.1, 1.3]])"
      ]
     },
     "execution_count": 17,
     "metadata": {},
     "output_type": "execute_result"
    }
   ],
   "source": [
    "X[:100]  # 取前100个数据"
   ]
  },
  {
   "cell_type": "code",
   "execution_count": null,
   "metadata": {},
   "outputs": [
    {
     "data": {
      "text/plain": [
       "array([0, 0, 0, 0, 0, 0, 0, 0, 0, 0, 0, 0, 0, 0, 0, 0, 0, 0, 0, 0, 0, 0,\n",
       "       0, 0, 0, 0, 0, 0, 0, 0, 0, 0, 0, 0, 0, 0, 0, 0, 0, 0, 0, 0, 0, 0,\n",
       "       0, 0, 0, 0, 0, 0, 1, 1, 1, 1, 1, 1, 1, 1, 1, 1, 1, 1, 1, 1, 1, 1,\n",
       "       1, 1, 1, 1, 1, 1, 1, 1, 1, 1, 1, 1, 1, 1, 1, 1, 1, 1, 1, 1, 1, 1,\n",
       "       1, 1, 1, 1, 1, 1, 1, 1, 1, 1, 1, 1])"
      ]
     },
     "execution_count": 5,
     "metadata": {},
     "output_type": "execute_result"
    }
   ],
   "source": [
    "y[:100]  # 取前100个标签(0,1)"
   ]
  },
  {
   "cell_type": "code",
   "execution_count": 8,
   "metadata": {},
   "outputs": [],
   "source": [
    "from sklearn.model_selection import train_test_split\n",
    "import numpy as np"
   ]
  },
  {
   "cell_type": "code",
   "execution_count": 79,
   "metadata": {},
   "outputs": [],
   "source": [
    "\n",
    "\n",
    "# 模型计算函数\n",
    "def forward(x, theta, bias):\n",
    "    # 线性运算\n",
    "    z = np.dot(theta, x.T) + bias\n",
    "    # sigmoid激活函数\n",
    "    y_hat = 1 / (1 + np.exp(-z))\n",
    "    return y_hat\n",
    "\n",
    "# 损失函数\n",
    "def loss(y, y_hat):\n",
    "    minimum = 1e-8\n",
    "    return -y * np.log(y_hat + minimum) - (1 - y) * np.log(1 - y_hat + minimum)\n",
    "\n",
    "# 计算梯度\n",
    "def calc_gradient(x, y, y_hat):\n",
    "    m = x.shape[0]\n",
    "    # theta梯度计算\n",
    "    d_theta = np.dot((y_hat - y), x) / m\n",
    "    # bias梯度计算\n",
    "    d_bias = np.mean(y_hat - y)\n",
    "    # 返回梯度\n",
    "    return d_theta, d_bias\n",
    "\n",
    "\n",
    "def train_model(test_size=0.2, lr=0.1, epochs=500, save=False):\n",
    "    X_train, X_test, y_train, y_test = train_test_split(X[:100], y[:100], test_size=test_size)\n",
    "\n",
    "    # 权重参数\n",
    "    theta = np.random.randn(1, 4)\n",
    "    # 偏差\n",
    "    bias = 0\n",
    "\n",
    "    # 模型训练\n",
    "    for i in range(epochs):\n",
    "        # 前向计算\n",
    "        y_hat = forward(X_train, theta, bias)\n",
    "        # 计算损失\n",
    "        loss_val = loss(y_train, y_hat)\n",
    "        # 计算梯度\n",
    "        d_theta, d_bias = calc_gradient(X_train, y_train, y_hat)\n",
    "        # 更新参数\n",
    "        theta -= lr * d_theta\n",
    "        bias -= lr * d_bias\n",
    "        if i % 10 == 0:\n",
    "            acc = np.mean(np.round(y_hat) == y_train)  # [False,True,...,False] -> [0,1,...,0]\n",
    "            print('epoch:', i, 'loss:', np.mean(loss_val), 'acc:', acc)\n",
    "\n",
    "    # 模型推理\n",
    "    idx = np.random.randint(len(X_test)) # 随机选择一个测试样本索引\n",
    "    # x_test_data = X_test[idx]\n",
    "    # y_test_data = y_test[idx]\n",
    "\n",
    "    predict = np.round(forward(X_test, theta, bias)).astype(int)\n",
    "    # print(f\"y: {y_test}\")\n",
    "    # print(f\"p: {predict[0]}\")\n",
    "    # print(predict[0] == y_test)\n",
    "    print('每个元素都预测正确', np.all(predict[0] == y_test))\n",
    "\n",
    "    if save:\n",
    "        np.save('theta.npy', theta)\n",
    "        np.save('bias.npy', bias)"
   ]
  },
  {
   "cell_type": "code",
   "execution_count": 77,
   "metadata": {},
   "outputs": [
    {
     "name": "stdout",
     "output_type": "stream",
     "text": [
      "epoch: 0 loss: 1.617336558748663 acc: 0.5142857142857142\n",
      "epoch: 10 loss: 0.4272028099197743 acc: 0.9857142857142858\n",
      "epoch: 20 loss: 0.27535676756288785 acc: 1.0\n",
      "epoch: 30 loss: 0.19918304142756496 acc: 1.0\n",
      "epoch: 40 loss: 0.15491056750371598 acc: 1.0\n",
      "每个元素都预测正确 True\n",
      "epoch: 0 loss: 1.8530342472945815 acc: 0.25\n",
      "epoch: 10 loss: 0.9350701935037984 acc: 0.25\n",
      "epoch: 20 loss: 0.5235321456866953 acc: 1.0\n",
      "epoch: 30 loss: 0.336140452609228 acc: 1.0\n",
      "epoch: 40 loss: 0.24090411239941364 acc: 1.0\n",
      "每个元素都预测正确 True\n",
      "epoch: 0 loss: 2.340551138263298 acc: 0.6666666666666666\n",
      "epoch: 10 loss: 1.7608396801128834 acc: 0.6666666666666666\n",
      "epoch: 20 loss: 1.2874965434793355 acc: 0.6666666666666666\n",
      "epoch: 30 loss: 0.8772047124068107 acc: 0.6666666666666666\n",
      "epoch: 40 loss: 0.5805538053258176 acc: 0.6666666666666666\n",
      "每个元素都预测正确 False\n",
      "epoch: 0 loss: 3.009950817713623 acc: 0.0\n",
      "epoch: 10 loss: 0.007631360835505142 acc: 1.0\n",
      "epoch: 20 loss: 0.004828807253129606 acc: 1.0\n",
      "epoch: 30 loss: 0.0035370270767488116 acc: 1.0\n",
      "epoch: 40 loss: 0.0027921953945122934 acc: 1.0\n",
      "每个元素都预测正确 False\n"
     ]
    }
   ],
   "source": [
    "train_model(test_size=0.3, epochs=50)\n",
    "# train_model(test_size=0.5, epochs=50)\n",
    "# train_model(test_size=0.8, epochs=50)\n",
    "# train_model(test_size=0.9, epochs=50)\n",
    "# train_model(test_size=0.95, epochs=50)\n",
    "train_model(test_size=0.96, epochs=50)\n",
    "train_model(test_size=0.97, epochs=50)\n",
    "train_model(test_size=0.98, epochs=50)\n"
   ]
  },
  {
   "cell_type": "code",
   "execution_count": 80,
   "metadata": {},
   "outputs": [
    {
     "name": "stdout",
     "output_type": "stream",
     "text": [
      "epoch: 0 loss: 1.755688899397967 acc: 0.5\n",
      "epoch: 10 loss: 0.1558782224962504 acc: 1.0\n",
      "epoch: 20 loss: 0.12779049027567724 acc: 1.0\n",
      "epoch: 30 loss: 0.10820598784774342 acc: 1.0\n",
      "epoch: 40 loss: 0.09381298642006336 acc: 1.0\n",
      "每个元素都预测正确 True\n"
     ]
    }
   ],
   "source": [
    "train_model(test_size=0.3, epochs=50, save=True)"
   ]
  }
 ],
 "metadata": {
  "kernelspec": {
   "display_name": "py3127",
   "language": "python",
   "name": "python3"
  },
  "language_info": {
   "codemirror_mode": {
    "name": "ipython",
    "version": 3
   },
   "file_extension": ".py",
   "mimetype": "text/x-python",
   "name": "python",
   "nbconvert_exporter": "python",
   "pygments_lexer": "ipython3",
   "version": "3.12.9"
  }
 },
 "nbformat": 4,
 "nbformat_minor": 2
}
