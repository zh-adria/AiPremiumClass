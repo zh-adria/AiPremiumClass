{
 "cells": [
  {
   "cell_type": "code",
   "execution_count": 2,
   "metadata": {},
   "outputs": [],
   "source": [
    "from sklearn.datasets import make_classification\n",
    "from sklearn.model_selection import train_test_split\n",
    "import numpy as np\n",
    "\n"
   ]
  },
  {
   "cell_type": "code",
   "execution_count": 3,
   "metadata": {},
   "outputs": [],
   "source": [
    "X, y = make_classification(n_samples=150, n_features=10)\n",
    "\n",
    "X_train, X_test, y_train, y_test = train_test_split(X, y, test_size=0.3)"
   ]
  },
  {
   "cell_type": "code",
   "execution_count": 6,
   "metadata": {},
   "outputs": [
    {
     "data": {
      "text/plain": [
       "(105, 10)"
      ]
     },
     "execution_count": 6,
     "metadata": {},
     "output_type": "execute_result"
    }
   ],
   "source": [
    "X_train.shape"
   ]
  },
  {
   "cell_type": "code",
   "execution_count": 8,
   "metadata": {},
   "outputs": [
    {
     "data": {
      "text/plain": [
       "(105,)"
      ]
     },
     "execution_count": 8,
     "metadata": {},
     "output_type": "execute_result"
    }
   ],
   "source": [
    "y_train.shape"
   ]
  },
  {
   "cell_type": "code",
   "execution_count": null,
   "metadata": {},
   "outputs": [
    {
     "name": "stdout",
     "output_type": "stream",
     "text": [
      "epoch: 0 loss: 3.360560622146702 acc: 0.19047619047619047\n",
      "epoch: 10 loss: 1.2392697291802466 acc: 0.4\n",
      "epoch: 20 loss: 0.685687348445765 acc: 0.638095238095238\n",
      "epoch: 30 loss: 0.5298927823121975 acc: 0.7238095238095238\n",
      "epoch: 40 loss: 0.45296427205329465 acc: 0.8\n",
      "epoch: 50 loss: 0.40418249675874457 acc: 0.8380952380952381\n",
      "epoch: 60 loss: 0.37012423159573105 acc: 0.8666666666666667\n",
      "epoch: 70 loss: 0.34530070203487134 acc: 0.8761904761904762\n",
      "epoch: 80 loss: 0.3267614399582399 acc: 0.8761904761904762\n",
      "epoch: 90 loss: 0.31266133702760684 acc: 0.8952380952380953\n",
      "epoch: 100 loss: 0.3017624104527863 acc: 0.9047619047619048\n",
      "epoch: 110 loss: 0.2932092884661815 acc: 0.9047619047619048\n",
      "epoch: 120 loss: 0.28640253235087354 acc: 0.9142857142857143\n",
      "epoch: 130 loss: 0.28091727748468887 acc: 0.9142857142857143\n",
      "epoch: 140 loss: 0.27644848047781473 acc: 0.9142857142857143\n",
      "epoch: 150 loss: 0.2727737666402931 acc: 0.9142857142857143\n",
      "epoch: 160 loss: 0.26972827165243873 acc: 0.9142857142857143\n",
      "epoch: 170 loss: 0.26718762296279175 acc: 0.9142857142857143\n",
      "epoch: 180 loss: 0.2650563906837439 acc: 0.9142857142857143\n",
      "epoch: 190 loss: 0.26326018978487103 acc: 0.9142857142857143\n",
      "epoch: 200 loss: 0.2617402164065827 acc: 0.9142857142857143\n",
      "epoch: 210 loss: 0.26044941236770563 acc: 0.9142857142857143\n",
      "epoch: 220 loss: 0.2593497268909531 acc: 0.9142857142857143\n",
      "epoch: 230 loss: 0.25841012576591954 acc: 0.9142857142857143\n",
      "epoch: 240 loss: 0.25760511668448866 acc: 0.9142857142857143\n",
      "epoch: 250 loss: 0.2569136367959995 acc: 0.9238095238095239\n",
      "epoch: 260 loss: 0.25631819900475583 acc: 0.9238095238095239\n",
      "epoch: 270 loss: 0.2558042266013694 acc: 0.9238095238095239\n",
      "epoch: 280 loss: 0.2553595276109452 acc: 0.9238095238095239\n",
      "epoch: 290 loss: 0.2549738747181807 acc: 0.9238095238095239\n",
      "epoch: 300 loss: 0.2546386663489107 acc: 0.9238095238095239\n",
      "epoch: 310 loss: 0.25434665109846294 acc: 0.9238095238095239\n",
      "epoch: 320 loss: 0.25409170226373984 acc: 0.9238095238095239\n",
      "epoch: 330 loss: 0.25386863244646635 acc: 0.9238095238095239\n",
      "epoch: 340 loss: 0.25367304049608025 acc: 0.9238095238095239\n",
      "epoch: 350 loss: 0.2535011847432943 acc: 0.9238095238095239\n",
      "epoch: 360 loss: 0.2533498777303917 acc: 0.9238095238095239\n",
      "epoch: 370 loss: 0.25321639859830974 acc: 0.9238095238095239\n",
      "epoch: 380 loss: 0.2530984200282104 acc: 0.9333333333333333\n",
      "epoch: 390 loss: 0.2529939472141523 acc: 0.9333333333333333\n",
      "epoch: 400 loss: 0.2529012668035356 acc: 0.9333333333333333\n",
      "epoch: 410 loss: 0.25281890411131336 acc: 0.9333333333333333\n",
      "epoch: 420 loss: 0.2527455872128376 acc: 0.9333333333333333\n",
      "epoch: 430 loss: 0.2526802167635836 acc: 0.9333333333333333\n",
      "epoch: 440 loss: 0.2526218405931155 acc: 0.9428571428571428\n",
      "epoch: 450 loss: 0.2525696322841467 acc: 0.9428571428571428\n",
      "epoch: 460 loss: 0.252522873082158 acc: 0.9428571428571428\n",
      "epoch: 470 loss: 0.25248093659205767 acc: 0.9428571428571428\n",
      "epoch: 480 loss: 0.2524432758101101 acc: 0.9428571428571428\n",
      "epoch: 490 loss: 0.2524094121152267 acc: 0.9428571428571428\n"
     ]
    }
   ],
   "source": [
    "# 权重参数\n",
    "theta = np.random.randn(1, 10)\n",
    "# 偏差\n",
    "bias = 0\n",
    "\n",
    "# 超参数\n",
    "lr = 0.1  # 学习率\n",
    "epochs = 500  # 迭代次数\n",
    "\n",
    "# 模型计算函数\n",
    "def forward(x, theta, bias):\n",
    "    # 线性运算\n",
    "    z = np.dot(theta, x.T) + bias\n",
    "    # sigmoid激活函数\n",
    "    y_hat = 1 / (1 + np.exp(-z))\n",
    "    return y_hat\n",
    "\n",
    "# 损失函数\n",
    "def loss(y, y_hat):\n",
    "    minimum = 1e-8\n",
    "    return -y * np.log(y_hat + minimum) - (1 - y) * np.log(1 - y_hat + minimum)\n",
    "\n",
    "# 计算梯度\n",
    "def calc_gradient(x, y, y_hat):\n",
    "    m = x.shape[0]\n",
    "    # theta梯度计算\n",
    "    d_theta = np.dot((y_hat - y), x) / m\n",
    "    # bias梯度计算\n",
    "    d_bias = np.mean(y_hat - y)\n",
    "    # 返回梯度\n",
    "    return d_theta, d_bias\n",
    "\n",
    "# 模型训练\n",
    "for i in range(epochs):\n",
    "    # 前向计算\n",
    "    y_hat = forward(X_train, theta, bias)\n",
    "    # 计算损失\n",
    "    loss_val = loss(y_train, y_hat)\n",
    "    # 计算梯度\n",
    "    d_theta, d_bias = calc_gradient(X_train, y_train, y_hat)\n",
    "    # 更新参数\n",
    "    theta -= lr * d_theta\n",
    "    bias -= lr * d_bias\n",
    "    if i % 10 == 0:\n",
    "        acc = np.mean(np.round(y_hat) == y_train)  # [False,True,...,False] -> [0,1,...,0]\n",
    "        print('epoch:', i, 'loss:', np.mean(loss_val), 'acc:', acc)\n"
   ]
  },
  {
   "cell_type": "code",
   "execution_count": 34,
   "metadata": {},
   "outputs": [
    {
     "name": "stdout",
     "output_type": "stream",
     "text": [
      "y: 1, predict: [1.]\n"
     ]
    }
   ],
   "source": [
    "# 模型推理\n",
    "idx = np.random.randint(len(X_test)) # 随机选择一个测试样本索引\n",
    "x = X_test[idx]\n",
    "y = y_test[idx]\n",
    "\n",
    "predict = np.round(forward(x, theta, bias))\n",
    "print(f\"y: {y}, predict: {predict}\")"
   ]
  },
  {
   "cell_type": "code",
   "execution_count": 35,
   "metadata": {},
   "outputs": [
    {
     "data": {
      "text/plain": [
       "4"
      ]
     },
     "execution_count": 35,
     "metadata": {},
     "output_type": "execute_result"
    }
   ],
   "source": [
    "idx"
   ]
  }
 ],
 "metadata": {
  "kernelspec": {
   "display_name": "py3127",
   "language": "python",
   "name": "python3"
  },
  "language_info": {
   "codemirror_mode": {
    "name": "ipython",
    "version": 3
   },
   "file_extension": ".py",
   "mimetype": "text/x-python",
   "name": "python",
   "nbconvert_exporter": "python",
   "pygments_lexer": "ipython3",
   "version": "3.12.9"
  }
 },
 "nbformat": 4,
 "nbformat_minor": 2
}
