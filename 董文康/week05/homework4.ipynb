{
 "cells": [
  {
   "cell_type": "code",
   "execution_count": 3,
   "metadata": {},
   "outputs": [],
   "source": [
    "import fasttext"
   ]
  },
  {
   "cell_type": "code",
   "execution_count": 7,
   "metadata": {},
   "outputs": [],
   "source": [
    "model = fasttext.train_supervised('cooking.stackexchange.txt', epoch=25, dim=200)"
   ]
  },
  {
   "cell_type": "code",
   "execution_count": 8,
   "metadata": {},
   "outputs": [
    {
     "data": {
      "text/plain": [
       "[(0.7271020412445068, 'flour:'),\n",
       " (0.7103908658027649, 'breathe'),\n",
       " (0.7040415406227112, 'conversion'),\n",
       " (0.6957353353500366, 'rice.'),\n",
       " (0.687699019908905, 'Doufu'),\n",
       " (0.6821304559707642, 'Ma'),\n",
       " (0.68211829662323, 'Po'),\n",
       " (0.6790094375610352, 'recipes'),\n",
       " (0.6777602434158325, 'self-rising'),\n",
       " (0.6661691069602966, 'Halwa,')]"
      ]
     },
     "execution_count": 8,
     "metadata": {},
     "output_type": "execute_result"
    }
   ],
   "source": [
    "model.get_nearest_neighbors('recipe')"
   ]
  },
  {
   "cell_type": "code",
   "execution_count": null,
   "metadata": {},
   "outputs": [
    {
     "data": {
      "text/plain": [
       "(('__label__oven',), array([0.32704982]))"
      ]
     },
     "execution_count": 9,
     "metadata": {},
     "output_type": "execute_result"
    }
   ],
   "source": [
    "model.predict('Can the broiler replicate a regular gas oven?')"
   ]
  },
  {
   "cell_type": "code",
   "execution_count": 10,
   "metadata": {},
   "outputs": [
    {
     "data": {
      "text/plain": [
       "(('__label__food-safety',), array([0.2663379]))"
      ]
     },
     "execution_count": 10,
     "metadata": {},
     "output_type": "execute_result"
    }
   ],
   "source": [
    "model.predict('Is the cockchafer grub edible, and how best to prepare it?')"
   ]
  }
 ],
 "metadata": {
  "kernelspec": {
   "display_name": "py3127",
   "language": "python",
   "name": "python3"
  },
  "language_info": {
   "codemirror_mode": {
    "name": "ipython",
    "version": 3
   },
   "file_extension": ".py",
   "mimetype": "text/x-python",
   "name": "python",
   "nbconvert_exporter": "python",
   "pygments_lexer": "ipython3",
   "version": "3.12.9"
  }
 },
 "nbformat": 4,
 "nbformat_minor": 2
}
